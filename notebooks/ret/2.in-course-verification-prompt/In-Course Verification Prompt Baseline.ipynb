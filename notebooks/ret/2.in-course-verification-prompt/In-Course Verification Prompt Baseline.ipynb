{
 "cells": [
  {
   "cell_type": "markdown",
   "metadata": {},
   "source": [
    "Boilerplate Connection Setup\n",
    "---"
   ]
  },
  {
   "cell_type": "code",
   "execution_count": 1,
   "metadata": {},
   "outputs": [],
   "source": [
    "%load_ext edx_jupyter"
   ]
  },
  {
   "cell_type": "code",
   "execution_count": 2,
   "metadata": {
    "collapsed": true
   },
   "outputs": [],
   "source": [
    "%reload_ext edx_jupyter"
   ]
  },
  {
   "cell_type": "code",
   "execution_count": 3,
   "metadata": {},
   "outputs": [
    {
     "data": {
      "text/html": [
       "<div>\n",
       "<table border=\"1\" class=\"dataframe\">\n",
       "  <thead>\n",
       "    <tr style=\"text-align: right;\">\n",
       "      <th></th>\n",
       "      <th>?column?</th>\n",
       "    </tr>\n",
       "  </thead>\n",
       "  <tbody>\n",
       "    <tr>\n",
       "      <th>0</th>\n",
       "      <td>Connected</td>\n",
       "    </tr>\n",
       "  </tbody>\n",
       "</table>\n",
       "</div>"
      ],
      "text/plain": [
       "    ?column?\n",
       "0  Connected"
      ]
     },
     "execution_count": 3,
     "metadata": {},
     "output_type": "execute_result"
    }
   ],
   "source": [
    "%%vertica\n",
    "\n",
    "SELECT 'Connected'"
   ]
  },
  {
   "cell_type": "markdown",
   "metadata": {},
   "source": [
    "Find enrollments that are active w/in a 2 week retrospective experiment period\n",
    "---"
   ]
  },
  {
   "cell_type": "code",
   "execution_count": 4,
   "metadata": {
    "collapsed": true
   },
   "outputs": [],
   "source": [
    "import datetime\n",
    "\n",
    "start=datetime.datetime(2017, 6, 13, 11)\n",
    "end=datetime.datetime(2017, 6, 14)"
   ]
  },
  {
   "cell_type": "markdown",
   "metadata": {},
   "source": [
    "Cache the courses and enrollments for the experiment\n",
    "---"
   ]
  },
  {
   "cell_type": "code",
   "execution_count": 5,
   "metadata": {},
   "outputs": [
    {
     "data": {
      "text/html": [
       "<div>\n",
       "<table border=\"1\" class=\"dataframe\">\n",
       "  <thead>\n",
       "    <tr style=\"text-align: right;\">\n",
       "      <th></th>\n",
       "      <th>?column?</th>\n",
       "    </tr>\n",
       "  </thead>\n",
       "  <tbody>\n",
       "  </tbody>\n",
       "</table>\n",
       "</div>"
      ],
      "text/plain": [
       "Empty DataFrame\n",
       "Columns: [?column?]\n",
       "Index: []"
      ]
     },
     "execution_count": 5,
     "metadata": {},
     "output_type": "execute_result"
    }
   ],
   "source": [
    "%%vertica (start_date=start, end_date=end)\n",
    "DROP TABLE IF EXISTS ex_courses;\n",
    "\n",
    "CREATE LOCAL TEMPORARY TABLE ex_courses\n",
    "ON COMMIT PRESERVE ROWS\n",
    "AS SELECT\n",
    "    cm.course_id,\n",
    "    course_start_date,\n",
    "    course_seat_price,\n",
    "    pc.program_type\n",
    "FROM\n",
    "    business_intelligence.course_master AS cm\n",
    "LEFT JOIN\n",
    "        production.d_program_course AS pc\n",
    "    ON pc.course_id = cm.course_id\n",
    "WHERE\n",
    "        (content_language is NULL OR content_language = 'en-us')\n",
    "    AND :end_date < course_verification_end_date\n",
    "    AND course_start_date < :start_date\n",
    "    AND NOT is_WL"
   ]
  },
  {
   "cell_type": "code",
   "execution_count": 6,
   "metadata": {},
   "outputs": [
    {
     "data": {
      "text/html": [
       "<div>\n",
       "<table border=\"1\" class=\"dataframe\">\n",
       "  <thead>\n",
       "    <tr style=\"text-align: right;\">\n",
       "      <th></th>\n",
       "      <th>program_type</th>\n",
       "      <th>COUNT</th>\n",
       "    </tr>\n",
       "  </thead>\n",
       "  <tbody>\n",
       "    <tr>\n",
       "      <th>0</th>\n",
       "      <td>Professional Certificate</td>\n",
       "      <td>21</td>\n",
       "    </tr>\n",
       "    <tr>\n",
       "      <th>1</th>\n",
       "      <td>None</td>\n",
       "      <td>320</td>\n",
       "    </tr>\n",
       "    <tr>\n",
       "      <th>2</th>\n",
       "      <td>XSeries</td>\n",
       "      <td>87</td>\n",
       "    </tr>\n",
       "    <tr>\n",
       "      <th>3</th>\n",
       "      <td>MicroMasters</td>\n",
       "      <td>43</td>\n",
       "    </tr>\n",
       "  </tbody>\n",
       "</table>\n",
       "</div>"
      ],
      "text/plain": [
       "               program_type  COUNT\n",
       "0  Professional Certificate     21\n",
       "1                      None    320\n",
       "2                   XSeries     87\n",
       "3              MicroMasters     43"
      ]
     },
     "execution_count": 6,
     "metadata": {},
     "output_type": "execute_result"
    }
   ],
   "source": [
    "%vertica SELECT program_type, COUNT(*) FROM ex_courses GROUP BY 1"
   ]
  },
  {
   "cell_type": "code",
   "execution_count": 7,
   "metadata": {},
   "outputs": [
    {
     "data": {
      "text/html": [
       "<div>\n",
       "<table border=\"1\" class=\"dataframe\">\n",
       "  <thead>\n",
       "    <tr style=\"text-align: right;\">\n",
       "      <th></th>\n",
       "      <th>program_type</th>\n",
       "      <th>COUNT</th>\n",
       "    </tr>\n",
       "  </thead>\n",
       "  <tbody>\n",
       "  </tbody>\n",
       "</table>\n",
       "</div>"
      ],
      "text/plain": [
       "Empty DataFrame\n",
       "Columns: [program_type, COUNT]\n",
       "Index: []"
      ]
     },
     "execution_count": 7,
     "metadata": {},
     "output_type": "execute_result"
    }
   ],
   "source": [
    "%%vertica (start_date=start, end_date=end)\n",
    "\n",
    "DROP TABLE IF EXISTS ex_enrollments;\n",
    "\n",
    "CREATE LOCAL TEMPORARY TABLE ex_enrollments\n",
    "ON COMMIT PRESERVE ROWS\n",
    "AS SELECT\n",
    "    act.*,\n",
    "    uc.first_verified_enrollment_time\n",
    "FROM\n",
    "(\n",
    "    SELECT\n",
    "        act.user_id,\n",
    "        act.course_id\n",
    "    FROM\n",
    "        business_intelligence.activity_engagement_user_daily AS act\n",
    "    JOIN\n",
    "            ex_courses AS crs\n",
    "        ON act.course_id = crs.course_id\n",
    "    WHERE\n",
    "            act.is_active\n",
    "        AND act.date BETWEEN :start_date AND :end_date\n",
    "    GROUP BY 1, 2\n",
    ") AS act\n",
    "JOIN\n",
    "        production.d_user_course AS uc\n",
    "    ON act.course_id = uc.course_id\n",
    "    AND act.user_id = uc.user_id\n",
    "    AND (\n",
    "            uc.first_verified_enrollment_time > :start_date\n",
    "        OR uc.first_verified_enrollment_time IS NULL\n",
    "    )"
   ]
  },
  {
   "cell_type": "code",
   "execution_count": 8,
   "metadata": {},
   "outputs": [
    {
     "data": {
      "text/html": [
       "<div>\n",
       "<table border=\"1\" class=\"dataframe\">\n",
       "  <thead>\n",
       "    <tr style=\"text-align: right;\">\n",
       "      <th></th>\n",
       "      <th>count</th>\n",
       "    </tr>\n",
       "  </thead>\n",
       "  <tbody>\n",
       "    <tr>\n",
       "      <th>0</th>\n",
       "      <td>88525</td>\n",
       "    </tr>\n",
       "  </tbody>\n",
       "</table>\n",
       "</div>"
      ],
      "text/plain": [
       "   count\n",
       "0  88525"
      ]
     },
     "execution_count": 8,
     "metadata": {},
     "output_type": "execute_result"
    }
   ],
   "source": [
    "%vertica select count(*) from ex_enrollments"
   ]
  },
  {
   "cell_type": "markdown",
   "metadata": {},
   "source": [
    "Compute the $/enrollment, VTR and sample count\n",
    "---"
   ]
  },
  {
   "cell_type": "code",
   "execution_count": 9,
   "metadata": {},
   "outputs": [
    {
     "data": {
      "text/html": [
       "<div>\n",
       "<table border=\"1\" class=\"dataframe\">\n",
       "  <thead>\n",
       "    <tr style=\"text-align: right;\">\n",
       "      <th></th>\n",
       "      <th>$/enrollment</th>\n",
       "      <th>VTR (%)</th>\n",
       "      <th>purchased</th>\n",
       "      <th># enrollments</th>\n",
       "    </tr>\n",
       "  </thead>\n",
       "  <tbody>\n",
       "    <tr>\n",
       "      <th>0</th>\n",
       "      <td>0.279745</td>\n",
       "      <td>3.627854128341088600</td>\n",
       "      <td>2682</td>\n",
       "      <td>73928</td>\n",
       "    </tr>\n",
       "  </tbody>\n",
       "</table>\n",
       "</div>"
      ],
      "text/plain": [
       "   $/enrollment               VTR (%)  purchased  # enrollments\n",
       "0      0.279745  3.627854128341088600       2682          73928"
      ]
     },
     "execution_count": 9,
     "metadata": {},
     "output_type": "execute_result"
    }
   ],
   "source": [
    "%%vertica (start_date=start, end_date=end)\n",
    "\n",
    "SELECT\n",
    "    AVG(value) AS '$/enrollment',\n",
    "    COUNT(verified)/COUNT(*)*100 AS 'VTR (%)',\n",
    "    COUNT(verified) AS purchased,\n",
    "    COUNT(*) AS '# enrollments'\n",
    "FROM\n",
    "(\n",
    "    SELECT\n",
    "        enr.user_id,\n",
    "        SUM(\n",
    "            CASE\n",
    "                WHEN enr.first_verified_enrollment_time <= :end_date THEN crs.course_seat_price\n",
    "                ELSE 0\n",
    "            END\n",
    "        ) AS value,\n",
    "        MIN(enr.first_verified_enrollment_time) <= :end_date AS verified\n",
    "    FROM\n",
    "        ex_enrollments AS enr\n",
    "    JOIN\n",
    "            ex_courses AS crs\n",
    "        ON crs.course_id = enr.course_id\n",
    "    GROUP BY 1\n",
    ") AS enr\n",
    "    "
   ]
  },
  {
   "cell_type": "code",
   "execution_count": null,
   "metadata": {
    "collapsed": true
   },
   "outputs": [],
   "source": []
  }
 ],
 "metadata": {
  "kernelspec": {
   "display_name": "Python 3",
   "language": "python",
   "name": "python3"
  },
  "language_info": {
   "codemirror_mode": {
    "name": "ipython",
    "version": 3
   },
   "file_extension": ".py",
   "mimetype": "text/x-python",
   "name": "python",
   "nbconvert_exporter": "python",
   "pygments_lexer": "ipython3",
   "version": "3.6.1"
  }
 },
 "nbformat": 4,
 "nbformat_minor": 2
}
