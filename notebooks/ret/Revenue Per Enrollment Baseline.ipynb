{
 "cells": [
  {
   "cell_type": "code",
   "execution_count": 1,
   "metadata": {
    "collapsed": true
   },
   "outputs": [],
   "source": [
    "%load_ext edx_jupyter"
   ]
  },
  {
   "cell_type": "code",
   "execution_count": 2,
   "metadata": {},
   "outputs": [
    {
     "name": "stdout",
     "output_type": "stream",
     "text": [
      "Connected to Vertica\n"
     ]
    }
   ],
   "source": [
    "x = %vertica SELECT 'Connected to Vertica'\n",
    "print(x.loc[0][0])"
   ]
  },
  {
   "cell_type": "code",
   "execution_count": 3,
   "metadata": {
    "collapsed": true
   },
   "outputs": [],
   "source": [
    "import datetime"
   ]
  },
  {
   "cell_type": "code",
   "execution_count": 4,
   "metadata": {
    "collapsed": true
   },
   "outputs": [],
   "source": [
    "min_date = datetime.date(2016,5,31)"
   ]
  },
  {
   "cell_type": "code",
   "execution_count": 8,
   "metadata": {},
   "outputs": [
    {
     "data": {
      "text/html": [
       "<div>\n",
       "<table border=\"1\" class=\"dataframe\">\n",
       "  <thead>\n",
       "    <tr style=\"text-align: right;\">\n",
       "      <th></th>\n",
       "      <th>cnt_enrollments</th>\n",
       "      <th>sum_bookings</th>\n",
       "      <th>bookings_per_enrollment</th>\n",
       "    </tr>\n",
       "  </thead>\n",
       "  <tbody>\n",
       "    <tr>\n",
       "      <th>0</th>\n",
       "      <td>13192229</td>\n",
       "      <td>22044614.98</td>\n",
       "      <td>1.67103034521307960922</td>\n",
       "    </tr>\n",
       "  </tbody>\n",
       "</table>\n",
       "</div>"
      ],
      "text/plain": [
       "   cnt_enrollments sum_bookings bookings_per_enrollment\n",
       "0         13192229  22044614.98  1.67103034521307960922"
      ]
     },
     "execution_count": 8,
     "metadata": {},
     "output_type": "execute_result"
    }
   ],
   "source": [
    "%%vertica (min_date=min_date)\n",
    "WITH enrolls AS (\n",
    "    SELECT\n",
    "        COUNT(*) AS cnt_enrollments\n",
    "    FROM\n",
    "        production.d_user_course uc\n",
    "    JOIN\n",
    "        business_intelligence.course_master cm ON\n",
    "            uc.course_id = cm.course_id\n",
    "            AND course_verification_end_date IS NOT NULL\n",
    "            AND (\n",
    "                (pacing_type = 'self_paced' AND course_start_date < NOW())\n",
    "                OR course_verification_end_date < NOW()\n",
    "            )\n",
    "    WHERE\n",
    "        first_enrollment_time > :min_date\n",
    "), bookings AS (\n",
    "    SELECT\n",
    "        SUM(transaction_amount_per_item) AS sum_bookings\n",
    "    FROM\n",
    "        finance.f_orderitem_transactions\n",
    "    WHERE\n",
    "        DATE(transaction_date) > :min_date\n",
    ")\n",
    "SELECT\n",
    "    e.cnt_enrollments,\n",
    "    b.sum_bookings,\n",
    "    b.sum_bookings / e.cnt_enrollments AS bookings_per_enrollment\n",
    "FROM bookings b, enrolls e"
   ]
  },
  {
   "cell_type": "markdown",
   "metadata": {},
   "source": [
    "# Our bookings per enrollment in the past year is $1.67"
   ]
  },
  {
   "cell_type": "code",
   "execution_count": 7,
   "metadata": {},
   "outputs": [
    {
     "data": {
      "text/plain": [
       "2.171"
      ]
     },
     "execution_count": 7,
     "metadata": {},
     "output_type": "execute_result"
    }
   ],
   "source": [
    "1.67 * 1.30"
   ]
  }
 ],
 "metadata": {
  "kernelspec": {
   "display_name": "Python 3",
   "language": "python",
   "name": "python3"
  },
  "language_info": {
   "codemirror_mode": {
    "name": "ipython",
    "version": 3
   },
   "file_extension": ".py",
   "mimetype": "text/x-python",
   "name": "python",
   "nbconvert_exporter": "python",
   "pygments_lexer": "ipython3",
   "version": "3.5.2"
  }
 },
 "nbformat": 4,
 "nbformat_minor": 2
}
