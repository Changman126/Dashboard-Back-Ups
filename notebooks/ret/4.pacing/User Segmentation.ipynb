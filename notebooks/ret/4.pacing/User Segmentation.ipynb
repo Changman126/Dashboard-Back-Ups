{
 "cells": [
  {
   "cell_type": "markdown",
   "metadata": {},
   "source": [
    "# Setup"
   ]
  },
  {
   "cell_type": "code",
   "execution_count": 49,
   "metadata": {},
   "outputs": [
    {
     "ename": "RuntimeError",
     "evalue": "Don't run this anymore!!!! We have enough users for this experiment...",
     "output_type": "error",
     "traceback": [
      "\u001b[0;31m---------------------------------------------------------------------------\u001b[0m",
      "\u001b[0;31mRuntimeError\u001b[0m                              Traceback (most recent call last)",
      "\u001b[0;32m<ipython-input-49-e3a5a6ceaec3>\u001b[0m in \u001b[0;36m<module>\u001b[0;34m()\u001b[0m\n\u001b[0;32m----> 1\u001b[0;31m \u001b[0;32mraise\u001b[0m \u001b[0mRuntimeError\u001b[0m\u001b[0;34m(\u001b[0m\u001b[0;34m\"Don't run this anymore!!!! We have enough users for this experiment...\"\u001b[0m\u001b[0;34m)\u001b[0m\u001b[0;34m\u001b[0m\u001b[0m\n\u001b[0m",
      "\u001b[0;31mRuntimeError\u001b[0m: Don't run this anymore!!!! We have enough users for this experiment..."
     ]
    }
   ],
   "source": [
    "raise RuntimeError(\"Don't run this anymore!!!! We have enough users for this experiment...\")"
   ]
  },
  {
   "cell_type": "code",
   "execution_count": 2,
   "metadata": {},
   "outputs": [
    {
     "data": {
      "text/html": [
       "<div>\n",
       "<style>\n",
       "    .dataframe thead tr:only-child th {\n",
       "        text-align: right;\n",
       "    }\n",
       "\n",
       "    .dataframe thead th {\n",
       "        text-align: left;\n",
       "    }\n",
       "\n",
       "    .dataframe tbody tr th {\n",
       "        vertical-align: top;\n",
       "    }\n",
       "</style>\n",
       "<table border=\"1\" class=\"dataframe\">\n",
       "  <thead>\n",
       "    <tr style=\"text-align: right;\">\n",
       "      <th></th>\n",
       "      <th></th>\n",
       "    </tr>\n",
       "  </thead>\n",
       "  <tbody>\n",
       "    <tr>\n",
       "      <th>0</th>\n",
       "      <td>Connected to Vertica!</td>\n",
       "    </tr>\n",
       "  </tbody>\n",
       "</table>\n",
       "</div>"
      ],
      "text/plain": [
       "                        \n",
       "0  Connected to Vertica!"
      ]
     },
     "execution_count": 2,
     "metadata": {},
     "output_type": "execute_result"
    }
   ],
   "source": [
    "%%vertica\n",
    "SELECT 'Connected to Vertica!' AS ''"
   ]
  },
  {
   "cell_type": "code",
   "execution_count": 3,
   "metadata": {
    "collapsed": true
   },
   "outputs": [],
   "source": [
    "%%vertica\n",
    "SET TIME ZONE to UTC"
   ]
  },
  {
   "cell_type": "code",
   "execution_count": 4,
   "metadata": {},
   "outputs": [
    {
     "data": {
      "text/html": [
       "<div>\n",
       "<style>\n",
       "    .dataframe thead tr:only-child th {\n",
       "        text-align: right;\n",
       "    }\n",
       "\n",
       "    .dataframe thead th {\n",
       "        text-align: left;\n",
       "    }\n",
       "\n",
       "    .dataframe tbody tr th {\n",
       "        vertical-align: top;\n",
       "    }\n",
       "</style>\n",
       "<table border=\"1\" class=\"dataframe\">\n",
       "  <thead>\n",
       "    <tr style=\"text-align: right;\">\n",
       "      <th></th>\n",
       "      <th></th>\n",
       "    </tr>\n",
       "  </thead>\n",
       "  <tbody>\n",
       "    <tr>\n",
       "      <th>0</th>\n",
       "      <td>Connected to the LMS read replica!</td>\n",
       "    </tr>\n",
       "  </tbody>\n",
       "</table>\n",
       "</div>"
      ],
      "text/plain": [
       "                                     \n",
       "0  Connected to the LMS read replica!"
      ]
     },
     "execution_count": 4,
     "metadata": {},
     "output_type": "execute_result"
    }
   ],
   "source": [
    "%%query [lms]\n",
    "SELECT 'Connected to the LMS read replica!' AS ''"
   ]
  },
  {
   "cell_type": "code",
   "execution_count": 5,
   "metadata": {
    "collapsed": true
   },
   "outputs": [],
   "source": [
    "import datetime"
   ]
  },
  {
   "cell_type": "markdown",
   "metadata": {},
   "source": [
    "# Configuration"
   ]
  },
  {
   "cell_type": "markdown",
   "metadata": {},
   "source": [
    "## Enrollment Date Config"
   ]
  },
  {
   "cell_type": "code",
   "execution_count": 6,
   "metadata": {
    "collapsed": true
   },
   "outputs": [],
   "source": [
    "from dateutil.tz import tzutc\n",
    "\n",
    "# enter enrollment start date\n",
    "enrollment_start = datetime.datetime(2017, 7, 19, 18, 40, tzinfo=tzutc())\n",
    "\n",
    "# Make sure we start our window on a Wednesday\n",
    "assert(enrollment_start.isoweekday() == 3)"
   ]
  },
  {
   "cell_type": "markdown",
   "metadata": {},
   "source": [
    "## Course Config"
   ]
  },
  {
   "cell_type": "code",
   "execution_count": 7,
   "metadata": {
    "collapsed": true
   },
   "outputs": [],
   "source": [
    "# enter course IDs, if only a subset of courses are included in the experiment\n",
    "# e.g., course_ids = ('course-v1:ANUx+ANU-ASTRO1x+2T2016',)\n",
    "# course_ids = ()\n",
    "course_ids = (\n",
    "    'course-v1:IIMBx+AC103x+2T2017',\n",
    "    'course-v1:AdelaideX+Project101x+1T2017',\n",
    "    'course-v1:DelftX+LfE101x+2T2017',\n",
    "    'course-v1:ColumbiaX+DS101X+1T2017',\n",
    "    'course-v1:PennX+SD2x+2T2017',\n",
    "    'course-v1:PennX+SD1x+2T2017',\n",
    "    'course-v1:HarvardX+PH525.1x+2T2017',\n",
    "    'course-v1:MichiganX+UX501x+3T2016',\n",
    "    'course-v1:UBCx+Marketing1x+3T2015',\n",
    ")\n",
    "len_courses = len(course_ids)"
   ]
  },
  {
   "cell_type": "markdown",
   "metadata": {},
   "source": [
    "## Segmentation Config"
   ]
  },
  {
   "cell_type": "code",
   "execution_count": 8,
   "metadata": {
    "collapsed": true
   },
   "outputs": [],
   "source": [
    "# enter number of user segments (i.e., total number of treatment groups + 1 for the control group)\n",
    "num_user_segments = 2"
   ]
  },
  {
   "cell_type": "markdown",
   "metadata": {},
   "source": [
    "## LMS Config"
   ]
  },
  {
   "cell_type": "markdown",
   "metadata": {},
   "source": [
    "# Setup post-config"
   ]
  },
  {
   "cell_type": "code",
   "execution_count": 55,
   "metadata": {},
   "outputs": [
    {
     "name": "stdout",
     "output_type": "stream",
     "text": [
      "\u001b[1m2017-07-19 18:40:00+00:00\u001b[0m <= Enrollment Date <= \u001b[1m2017-08-02 18:40:00+00:00\u001b[0m\n"
     ]
    }
   ],
   "source": [
    "# compute enrollment start date\n",
    "enrollment_end = enrollment_start + datetime.timedelta(days=14)\n",
    "print(\n",
    "    '\\033[1m' + str(enrollment_start) + '\\033[0m ' +\n",
    "    '<= Enrollment Date <= ' +\n",
    "    '\\033[1m' + str(enrollment_end) + '\\033[0m'\n",
    ")\n",
    "\n",
    "# create dummy course-tuple to satisfy SQL query syntax\n",
    "course_filter = course_ids if len_courses else ('dummy',)"
   ]
  },
  {
   "cell_type": "markdown",
   "metadata": {},
   "source": [
    "# Segmented Enrollments"
   ]
  },
  {
   "cell_type": "markdown",
   "metadata": {},
   "source": [
    "## Load segmentation data from the LMS"
   ]
  },
  {
   "cell_type": "code",
   "execution_count": 10,
   "metadata": {
    "collapsed": true,
    "scrolled": true
   },
   "outputs": [],
   "source": [
    "import json\n",
    "import ciso8601\n",
    "import pandas as pd\n",
    "\n",
    "already_segmented = %query [lms] SELECT exp.key, exp.value, exp.user_id FROM experiments_experimentdata AS exp WHERE experiment_id = 4\n",
    "\n",
    "already_segmented['course_id'] = already_segmented['key'].apply(lambda key: key.replace('cohort_availability_date.', ''))\n",
    "already_segmented['segment'] = already_segmented['value'].apply(lambda value: json.loads(value)['segment'])\n",
    "already_segmented['cohort_availability'] = already_segmented['value'].apply(lambda value: ciso8601.parse_datetime(json.loads(value)['cohort_availability']).date())\n",
    "already_segmented['segmentation_reason'] = already_segmented['value'].apply(lambda value: json.loads(value).get('segmentation_reason', 'visit'))\n",
    "already_segmented['user_id'] = already_segmented['user_id'].astype(int)\n",
    "del already_segmented['key']\n",
    "del already_segmented['value']"
   ]
  },
  {
   "cell_type": "code",
   "execution_count": 11,
   "metadata": {},
   "outputs": [
    {
     "data": {
      "text/plain": [
       "8414"
      ]
     },
     "execution_count": 11,
     "metadata": {},
     "output_type": "execute_result"
    }
   ],
   "source": [
    "len(already_segmented)"
   ]
  },
  {
   "cell_type": "markdown",
   "metadata": {},
   "source": [
    "## Load any newly content-available users from the enrollments table"
   ]
  },
  {
   "cell_type": "code",
   "execution_count": 53,
   "metadata": {},
   "outputs": [],
   "source": [
    "%%query [lms] (enrollment_start, enrollment_end, course_ids) -> enrollments\n",
    "SELECT\n",
    "    sce.user_id,\n",
    "    sce.course_id,\n",
    "    sce.created AS content_availability,\n",
    "    au.username\n",
    "FROM\n",
    "    student_courseenrollment sce\n",
    "JOIN auth_user au ON au.id = sce.user_id\n",
    "JOIN user_api_userpreference up ON up.`key`='pref-lang' AND up.value='en' AND up.user_id = sce.user_id\n",
    "LEFT JOIN experiments_experimentdata AS exp ON exp.user_id = sce.user_id AND exp.experiment_id = 4\n",
    "WHERE\n",
    "        sce.created > :enrollment_start\n",
    "    AND sce.created < CAST(:enrollment_end AS DATE)\n",
    "    AND sce.course_id IN :course_ids\n",
    "    AND exp.user_id IS NULL"
   ]
  },
  {
   "cell_type": "code",
   "execution_count": 28,
   "metadata": {},
   "outputs": [
    {
     "data": {
      "text/plain": [
       "2282"
      ]
     },
     "execution_count": 28,
     "metadata": {},
     "output_type": "execute_result"
    }
   ],
   "source": [
    "len(enrollments)"
   ]
  },
  {
   "cell_type": "code",
   "execution_count": 29,
   "metadata": {
    "collapsed": true
   },
   "outputs": [],
   "source": [
    "import pandas as pd\n",
    "enrollments['content_availability'] = pd.to_datetime(enrollments.content_availability)"
   ]
  },
  {
   "cell_type": "code",
   "execution_count": 30,
   "metadata": {},
   "outputs": [
    {
     "name": "stdout",
     "output_type": "stream",
     "text": [
      "date, previous_wednesday\n",
      "2017-07-18 2017-07-12\n",
      "2017-07-19 2017-07-19\n",
      "2017-07-20 2017-07-19\n",
      "2017-07-21 2017-07-19\n",
      "2017-07-22 2017-07-19\n",
      "2017-07-23 2017-07-19\n",
      "2017-07-24 2017-07-19\n",
      "2017-07-25 2017-07-19\n",
      "2017-07-26 2017-07-26\n",
      "2017-07-27 2017-07-26\n",
      "2017-07-28 2017-07-26\n",
      "2017-07-29 2017-07-26\n",
      "2017-07-30 2017-07-26\n",
      "2017-07-31 2017-07-26\n",
      "2017-08-01 2017-07-26\n",
      "2017-08-02 2017-08-02\n"
     ]
    }
   ],
   "source": [
    "print('date, previous_wednesday')\n",
    "for test_date_offset in range(16):\n",
    "    dt = datetime.date(2017,7,18) + datetime.timedelta(days=test_date_offset)\n",
    "    offset = (dt.isoweekday() + 4) % 7\n",
    "    print(dt, dt - datetime.timedelta(days=offset))"
   ]
  },
  {
   "cell_type": "code",
   "execution_count": 31,
   "metadata": {
    "collapsed": true
   },
   "outputs": [],
   "source": [
    "enrollments['cohort_availability'] = enrollments.content_availability.apply(lambda ts: ts.date() - datetime.timedelta((ts.date().isoweekday() + 4) % 7))"
   ]
  },
  {
   "cell_type": "code",
   "execution_count": 32,
   "metadata": {
    "collapsed": true
   },
   "outputs": [],
   "source": [
    "unsegmented_users = enrollments[['user_id','course_id','cohort_availability','username']].copy()"
   ]
  },
  {
   "cell_type": "code",
   "execution_count": 33,
   "metadata": {
    "collapsed": true
   },
   "outputs": [],
   "source": [
    "unsegmented_users['segmentation_reason'] = 'enrollment'"
   ]
  },
  {
   "cell_type": "code",
   "execution_count": 34,
   "metadata": {
    "collapsed": true
   },
   "outputs": [],
   "source": [
    "import numpy as np\n",
    "unsegmented_users['segment'] = np.random.randint(num_user_segments, size=len(unsegmented_users))"
   ]
  },
  {
   "cell_type": "code",
   "execution_count": 35,
   "metadata": {},
   "outputs": [
    {
     "data": {
      "text/plain": [
       "course_id\n",
       "course-v1:AdelaideX+Project101x+1T2017    242\n",
       "course-v1:ColumbiaX+DS101X+1T2017         153\n",
       "course-v1:DelftX+LfE101x+2T2017           578\n",
       "course-v1:HarvardX+PH525.1x+2T2017        373\n",
       "course-v1:IIMBx+AC103x+2T2017             125\n",
       "course-v1:MichiganX+UX501x+3T2016          74\n",
       "course-v1:PennX+SD1x+2T2017               148\n",
       "course-v1:PennX+SD2x+2T2017                94\n",
       "course-v1:UBCx+Marketing1x+3T2015         495\n",
       "Name: user_id, dtype: int64"
      ]
     },
     "execution_count": 35,
     "metadata": {},
     "output_type": "execute_result"
    }
   ],
   "source": [
    "unsegmented_users.groupby('course_id').user_id.count()"
   ]
  },
  {
   "cell_type": "code",
   "execution_count": 36,
   "metadata": {},
   "outputs": [
    {
     "data": {
      "text/plain": [
       "course_id                               segment\n",
       "course-v1:AdelaideX+Project101x+1T2017  0          117\n",
       "                                        1          125\n",
       "course-v1:ColumbiaX+DS101X+1T2017       0           68\n",
       "                                        1           85\n",
       "course-v1:DelftX+LfE101x+2T2017         0          271\n",
       "                                        1          307\n",
       "course-v1:HarvardX+PH525.1x+2T2017      0          183\n",
       "                                        1          190\n",
       "course-v1:IIMBx+AC103x+2T2017           0           64\n",
       "                                        1           61\n",
       "course-v1:MichiganX+UX501x+3T2016       0           45\n",
       "                                        1           29\n",
       "course-v1:PennX+SD1x+2T2017             0           80\n",
       "                                        1           68\n",
       "course-v1:PennX+SD2x+2T2017             0           42\n",
       "                                        1           52\n",
       "course-v1:UBCx+Marketing1x+3T2015       0          277\n",
       "                                        1          218\n",
       "Name: user_id, dtype: int64"
      ]
     },
     "execution_count": 36,
     "metadata": {},
     "output_type": "execute_result"
    }
   ],
   "source": [
    "unsegmented_users.groupby(['course_id', 'segment']).user_id.count()"
   ]
  },
  {
   "cell_type": "code",
   "execution_count": 37,
   "metadata": {},
   "outputs": [
    {
     "data": {
      "text/plain": [
       "segment\n",
       "0    1147\n",
       "1    1135\n",
       "Name: user_id, dtype: int64"
      ]
     },
     "execution_count": 37,
     "metadata": {},
     "output_type": "execute_result"
    }
   ],
   "source": [
    "unsegmented_users.groupby(['segment']).user_id.count()"
   ]
  },
  {
   "cell_type": "code",
   "execution_count": 38,
   "metadata": {},
   "outputs": [
    {
     "data": {
      "text/plain": [
       "cohort_availability\n",
       "2017-07-19       1\n",
       "2017-07-26    2281\n",
       "Name: user_id, dtype: int64"
      ]
     },
     "execution_count": 38,
     "metadata": {},
     "output_type": "execute_result"
    }
   ],
   "source": [
    "unsegmented_users.groupby(['cohort_availability']).user_id.count()"
   ]
  },
  {
   "cell_type": "markdown",
   "metadata": {
    "collapsed": true
   },
   "source": [
    "# LMS"
   ]
  },
  {
   "cell_type": "code",
   "execution_count": 39,
   "metadata": {
    "collapsed": true
   },
   "outputs": [],
   "source": [
    "import edx_secret\n",
    "\n",
    "environment = 'stage'\n",
    "\n",
    "if environment == 'stage':\n",
    "    server_base_url = 'https://courses.stage.edx.org'\n",
    "elif environment == 'prod':\n",
    "    server_base_url = 'https://courses.edx.org'\n",
    "else:\n",
    "    raise(f'Unrecognized environment: {environment}')\n",
    "\n",
    "oauth2_client_id = edx_secret.read_secret_from_env_or_prompt(f'OPS_{environment.upper()}_EDX_OAUTH_CLIENT_ID')\n",
    "oauth2_client_secret = edx_secret.read_secret_from_env_or_prompt(f'OPS_{environment.upper()}_EDX_OAUTH_CLIENT_SECRET')"
   ]
  },
  {
   "cell_type": "code",
   "execution_count": 40,
   "metadata": {},
   "outputs": [
    {
     "name": "stdout",
     "output_type": "stream",
     "text": [
      "JWT access token expires at: 2017-08-02 23:13:32.451260\n",
      "Connected to https://courses.edx.org\n"
     ]
    }
   ],
   "source": [
    "from edx_rest_api_client.client import EdxRestApiClient\n",
    "\n",
    "EXPERIMENT_ID = 4\n",
    "\n",
    "access_token_url = server_base_url.strip('/') + '/oauth2/access_token/'\n",
    "access_token, expires = EdxRestApiClient.get_oauth_access_token(\n",
    "    access_token_url, oauth2_client_id, oauth2_client_secret, token_type='jwt')\n",
    "print('JWT access token expires at: {}'.format(expires))\n",
    "\n",
    "experiments_api_url = server_base_url.strip('/') + '/api/experiments/v0/'\n",
    "client = EdxRestApiClient(experiments_api_url, jwt=access_token)\n",
    "\n",
    "print(f'Connected to {server_base_url}')"
   ]
  },
  {
   "cell_type": "markdown",
   "metadata": {},
   "source": [
    "## Insert Experiment Data"
   ]
  },
  {
   "cell_type": "code",
   "execution_count": 96,
   "metadata": {
    "collapsed": true
   },
   "outputs": [],
   "source": [
    "import csv\n",
    "import io\n",
    "\n",
    "csv_text = \"\"\"course_key,week,bullet1,bullet2,bullet3\n",
    "course-v1:AdelaideX+Project101x+1T2017,1,You will learn what project management is,You will be introduced to a number of different project management scenarios which we will refer to throughout the course,Did you know that there are 5 characterisitics of good project managers? Find out what these are determine your own areas for development \n",
    "course-v1:AdelaideX+Project101x+1T2017,2,Learn about one of the most important phases of project management - the initiation phase.,You will be introduced to the project management canvas that will help you work out what problem your project needs to solve,Learn how to find out what the project requires you to do and help define the start and end dates of your project\n",
    "course-v1:AdelaideX+Project101x+1T2017,3,Understand the planning phase of your project,\"Learn more about the triple constraints to any project; quality, cost and time\",Learn more about estimating the cost of your project and planning timeframes\n",
    "course-v1:AdelaideX+Project101x+1T2017,4,Learn how to determine the risks of your project and how to respond to these,\"Learn about the different kinds of risk that include technical, financial, commercial or reputational risk\",Do you know what the acronym PESTLE stands for and how it relates to project management risk. Join us next week to find out.\n",
    "course-v1:AdelaideX+Project101x+1T2017,5,Learn about project teams and communication,Learn how to engage and manage your project stakeholders and how to resource your project team,Find out how to use your communication tools effectively\n",
    "course-v1:AdelaideX+Project101x+1T2017,6,It's time for project closure and handover,Learn the importance of measuring success and how to evaluate your project,Fin out about the key steps you need to take as part of your project closure\n",
    "course-v1:ColumbiaX+DS101X+1T2017,1,\"A team of experts will introduce the field of Data Science, and discuss its role in driving innovation across a multitude of domains.\",\"We will also discuss the importance of data visualization in data science approaches, and the type of skills data-scientists, as well as non data-scientists, need in a world that is literally exploding with data. \",An opportunity to discuss a statistical question about this online course on the forums.\n",
    "course-v1:ColumbiaX+DS101X+1T2017,2,\"We will dive right into the statistical foundation that underpins data science and analytics with discussions on data collection, analysis and inference processes.\",A variety of interactive graded and ungraded exercises will help reinforce this week's topics.,Discuss the questions posed this week by our team of experts on the forums.\n",
    "course-v1:ColumbiaX+DS101X+1T2017,3,\"We will continue the discussion on statistics and probability by reviewing the topics of conditional probability, studying association and regression analysis. \",\"Our team will give of some of the themes at the forefront of Data Science, including topic modeling, clustering text and metrics for label description.\",\"This week's assignments include a variety of graded and ungraded exercises, as well as the questions on the forums.\"\n",
    "course-v1:ColumbiaX+DS101X+1T2017,4,\"We will cover the principles and practices used in exploratory data analysis and visualization, drawing upon several real-world examples from the social sciences, health-care, as well as sports.\",Interactive graded and ungraded exercises on exploratory data analysis and visualization.,An opportunity to discuss this week's questions on the forums.\n",
    "course-v1:ColumbiaX+DS101X+1T2017,5,\"In this module, we will introduce the philosophy of Bayesian inference and Bayesian modeling techniques using illustrative case studies.\",Several examples will illustrate Bayesian modeling in action.,\"A variety of exercises on Bayesian modeling, as well as an opportunity to discuss this topic on the forums.\"\n",
    "course-v1:PennX+SD1x+2T2017,1,Getting started with the basics of Java.,\"You'll learn about variables, conditions and loops.\",You'll create your first class in Java.\n",
    "course-v1:PennX+SD1x+2T2017,2,Testing code while you write it in order to ensure that fewer bugs make it all the way to a client.,Become an effective debugger by using tools that are within Eclipse.,\"Learn how to handle things like bad inputs/wrong file formats, etc.\"\n",
    "course-v1:PennX+SD1x+2T2017,3,You'll start getting into intermediate Java.,\"You'll learn about arrayLists, encapsulation, and static methods.\",You'll learn how objects interact with other objects.\n",
    "course-v1:PennX+SD1x+2T2017,4,\"Polymorphism (one name, many forms), which is generally considered one of the core principles of object oriented programming.\",\"Using overloaded methods, class inheritance, and interfaces to ensure the least amount of code gets repeated.\",Programming your own Battleship game!\n",
    "course-v1:PennX+SD2x+2T2017,1,\"An introduction and overview of core data structures like linked lists, hash sets, and maps\",A comparison of strengths and weaknesses of each data structure reviewed,Applications of use for data structures through HTML validation and sentiment analysis of a body of text\n",
    "course-v1:PennX+SD2x+2T2017,2,An introduction and overview of advanced data structures like binary search trees and heaps,A discussion of graph data structure and common applications,You will have a chance to practice with graph traversal algorithms and programmatic data input\n",
    "course-v1:PennX+SD2x+2T2017,3,You will learn a system of documenting software design,Explore and understand the need for good design,Practice using design principles to achieve high-quality software\n",
    "course-v1:PennX+SD2x+2T2017,4,Explore ways to make existing code more reliable,A discussion of best practices to increase software understandability,You'll see how the application of efficiency principles can decrease runtime\n",
    "course-v1:UBCx+Marketing1x+3T2015,1,You will learn about examples that illustrate how marketing has continued to change and evolve over time,You will learn how competition impacts the dynamic landscape of marketing,\"You will be able to adopt useful marketing tools and frameworks (the 3Cs, SWOT framework, and PEST analysis) into your own practice\"\n",
    "course-v1:UBCx+Marketing1x+3T2015,2,You will learn about strategies and techniques for getting to know your consumer,You learn how to base marketing decisions on the insights you gain from market research,You will learn how to target different segments of the market by using frameworks and tools that identify the consumers most likely to respond \n",
    "course-v1:UBCx+Marketing1x+3T2015,3,\"You will learn about positioning: understanding who your consumer is, and how to identify points of parity and points of difference between your own brand and that of the competition.\",\"You will be able to construct a brand positioning statement that emphasizes the value proposition that you are offering to the consumer, and will underpin the approach and communication strategies that you employ in your marketing efforts.\",\"You will learn about frameworks and considerations around how to define your product, and will also gain an understanding of the product lifecycle from a marketing perspective in order to develop marketing strategies that can minimize market phases of the product that are costly, and extend phases that are profitable.\"\n",
    "course-v1:UBCx+Marketing1x+3T2015,4,You will learn about the value of brands and how they communicate meaning and identity to consumers,\"You will learn how brands are constructed not only by the companies that build them, but also by the conversations, interactions, and experiences that consumers have with brands.\",\"You will learn about pricing: how companies make decisions around setting prices, what criteria and considerations go into decisions made around pricing, and how understanding the existing market can inform your pricing strategy.\"\n",
    "course-v1:UBCx+Marketing1x+3T2015,5,\"You will be looking at distribution from a marketing perspective, with a particular focus on how the Internet has disrupted traditional notions of distribution, and has changed the way we think about how products get to consumers. \",\"You will learn about a few different distribution strategies, and factors to consider when making decisions about distribution.\",\"You will learn about Integrated Marketing Communications (IMC), different communication options that are available to you, how to go about understanding how your brand is perceived, and what approaches you should use in communicating with your consumer.\"\n",
    "course-v1:UBCx+Marketing1x+3T2015,6,\"You will learn how to monitor and facilitate the online conversations that are going on around your brand, and how to identify and leverage marketing opportunities that social media offer\",\"You will also be introduced to some of the data, metrics, and measures that are used in marketing. Such measurements are used to evaluate efficacy in marketing efforts, and to inform future marketing decisions and strategies.\",\"We will look ahead to the future of marketing, and discuss a few cases of things that are happening in the marketplace today that may give us a glimpse of what is to come.\"\n",
    "course-v1:HarvardX+PH525.1x+2T2017,1,\"This week will be lighter than the following weeks, but it’s still very important!\",\"We want to get everyone set up using R and RStudio, so that you are ready and organized for data science.\",\"This will be easy if you’re already familiar with the R language, but will otherwise help get you up to speed for the following weeks.\"\n",
    "course-v1:HarvardX+PH525.1x+2T2017,2,the concept of a random variable,what it means to talk about the null distribution,\"probability distributions in general, and the widely used normal distribution\"\n",
    "course-v1:HarvardX+PH525.1x+2T2017,3,\"This week we have formally arrived at one of the most important topics in statistics, and in the life sciences: statistical inference.\",Inference is the use of probability to learn features of a population from data.,A typical example is deciphering if two groups (for example cases versus controls) are different on average.\n",
    "course-v1:HarvardX+PH525.1x+2T2017,4,\"In our last week, we will cover two very important topics that will help us determine if the methods described in the previous weeks are appropriate and provide alternatives for when they are not: Exploratory Data Analysis (EDA) and robust statistics.\",\"EDA refers to using visualization to examine patterns in the data, and particularly if our assumptions about the data, which are necessary for inference, hold true.\",\"In the second part, we will discuss a number of robust statistical techniques, which are useful in particular when the assumptions used in “classical” statistical inference do not hold.\"\n",
    "course-v1:MichiganX+UX501x+3T2016,1,Fundamental insights into the most basic question of this course: what is User Experience?,\"Different aspects of the UX Research and Design process, including iterative prototyping, utilizing a user-centered approach, and understanding basic human behavior.\",You will identify good and bad user interface designs and be able to articulate why.\n",
    "course-v1:MichiganX+UX501x+3T2016,2,\"An introduction to the three key techniques of UX Research: asking, observing, and inspecting.\",The benefits of user tests and how to conduct them.,You will plan and develop scripting for your own Micro-Usability Test.\n",
    "course-v1:MichiganX+UX501x+3T2016,3,Insights into how the UX Research process is applied in real world projects for businesses.,How information learned from UX Research can be applied to optimize user experience.,You will conduct and report on your own Micro-Usability Test\n",
    "course-v1:MichiganX+UX501x+3T2016,4,\"Learn the basic principles of the UX Design Process and how they align within the Assess, Design, and Build framework learned in Week 1.\",The central role that Sketching and Prototyping play in UX Design.,You will begin sketching your own designs to generate solutions to a provided problem.\n",
    "course-v1:MichiganX+UX501x+3T2016,5,How UX Design operates in the business world through an interview with a current UX Designer.,An (incomplete) history of UX and its rise with the era of personal computing.,You will practice the UX Design process by iterating on earlier sketch solutions. \n",
    "course-v1:IIMBx+AC103x+2T2017,1,\"Introduction to basic accounting terms, how to record a transaction\",\"Introduction to financial statements like balance sheet, profit and loss account, cash flow statement.\",\"Regulations in accounting, users of these financial statements- who will use these and for what?\"\n",
    "course-v1:IIMBx+AC103x+2T2017,2,How to read and understand balance sheet - assets and liabilities,How to read and understand PL account - income and expenses,\"How to read and understand cash flow statement - cash flow from operations, invenstments, financing\"\n",
    "course-v1:IIMBx+AC103x+2T2017,3,\"Knowing the financial health of a company by calculating ratios like ROI, ROTA, etc. \",\"Asset management, cost management, leverage, tax and risk management.\",\"Additional resources: Readymade excel template (Du Pont Chart) for ratio analysis, excel with data of 500 companies listed in NSE,India\"\n",
    "course-v1:IIMBx+AC103x+2T2017,4,Learn how firms organize cost data to derive product or service cost,\"Types of costing: Job costing, Process costing and Customer costing.\n",
    "How to allocate indirect costs.\",\"\n",
    "Activity Based Costing - a new method that completely changes the decision making process\"\n",
    "course-v1:IIMBx+AC103x+2T2017,5,\"Absorption costing vs Marginal costing, how it will influence decision making\",How to compute break-even point for multi product firm,Optimal product mix and optimal resource allocation are the key things to maximize profit\n",
    "course-v1:IIMBx+AC103x+2T2017,6,\"How accounting information is used to plan and control the expenses- Budgeting, types of budget and how to prepare a budget (exercise)\",Variance analysis explains how to collect actual cost and compare with budgeted cost at macro and micro level.,\"Types of viariance - Fixed, variable, overhead, material mix, slaes mix, yield variance. \"\n",
    "course-v1:DelftX+LfE101x+2T2017 ,1,The context of leaders,Multi-issue games,Assignment: suggest strategies for the mayor\n",
    "course-v1:DelftX+LfE101x+2T2017 ,2,Welcome to the leadership mindset,Task: convince others,Finding your strengths and personal charter\n",
    "course-v1:DelftX+LfE101x+2T2017,3,Exploring personal leadership characteristics,The positive impact of gratitude,Reflection on your own performance\n",
    "course-v1:DelftX+LfE101x+2T2017,4,Bringing context and you together,Leadership models,Reflect on leadership styles\n",
    "course-v1:DelftX+LfE101x+2T2017,5,Working on a framework for your career,Why asking for support is essential,Defining your search strategy\n",
    "\"\"\"\n",
    "\n",
    "# NOTE For demo purposes only. This won't affect production, but isn't necessary.\n",
    "csv_text += 'edX/DemoX/Demo_Course,0,Learn about edX,Do some stuff,Profit?'\n",
    "\n",
    "csv_data = io.StringIO(csv_text)\n",
    "\n",
    "\n",
    "\n",
    "# NOTE (CCB): We use getattr here due to the hyphen in the URL. Oops.\n",
    "key_value_client = getattr(client, 'key-value')\n",
    "\n",
    "# TODO Pull data from CSV/Google Doc\n",
    "weekly_content_template = \"\"\"<ul class=\"ret-pacing-weekly-content\" data-week-number=\"{week_number}\">\n",
    "  <li>{bullet_1}</li>\n",
    "  <li>{bullet_2}</li>\n",
    "  <li>{bullet_3}</li>\n",
    "</ul>\"\"\"\n",
    "data = []\n",
    "\n",
    "reader = csv.DictReader(csv_data)\n",
    "for row in reader:\n",
    "    course_id = row['course_key'].strip()\n",
    "    week_number = int(row['week'].strip()) - 1\n",
    "    \n",
    "    data.append({\n",
    "        'experiment_id': EXPERIMENT_ID,\n",
    "        'key': 'content.{course_id}.{week_number}'.format(course_id=course_id, week_number=week_number),\n",
    "        'value': weekly_content_template.format(\n",
    "            week_number=week_number,\n",
    "            bullet_1=row['bullet1'].strip(),\n",
    "            bullet_2=row['bullet2'].strip(),\n",
    "            bullet_3=row['bullet3'].strip(),\n",
    "        ),\n",
    "    })\n",
    "\n",
    "\n",
    "# TODO Uncomment this to update data\n",
    "#key_value_client.bulk_upsert.put(data)"
   ]
  },
  {
   "cell_type": "markdown",
   "metadata": {},
   "source": [
    "## Insert User Data"
   ]
  },
  {
   "cell_type": "code",
   "execution_count": 42,
   "metadata": {},
   "outputs": [
    {
     "data": {
      "text/plain": [
       "2282"
      ]
     },
     "execution_count": 42,
     "metadata": {},
     "output_type": "execute_result"
    }
   ],
   "source": [
    "len(unsegmented_users)"
   ]
  },
  {
   "cell_type": "code",
   "execution_count": null,
   "metadata": {
    "collapsed": true
   },
   "outputs": [],
   "source": []
  },
  {
   "cell_type": "code",
   "execution_count": 46,
   "metadata": {},
   "outputs": [
    {
     "data": {
      "application/vnd.jupyter.widget-view+json": {
       "model_id": "1defabf2ce724c1dac3d335e5d9f2a8e"
      }
     },
     "metadata": {},
     "output_type": "display_data"
    },
    {
     "data": {
      "application/vnd.jupyter.widget-view+json": {
       "model_id": "ec5c7bd9e50c481d81fd0c22a9203e13"
      }
     },
     "metadata": {},
     "output_type": "display_data"
    },
    {
     "data": {
      "application/vnd.jupyter.widget-view+json": {
       "model_id": "9bbc9500cf56483e8ad61488855d9684"
      }
     },
     "metadata": {},
     "output_type": "display_data"
    },
    {
     "name": "stdout",
     "output_type": "stream",
     "text": [
      "{'non_field_errors': 10}\n"
     ]
    }
   ],
   "source": [
    "import json\n",
    "from pprint import pprint as pp\n",
    "from slumber.exceptions import HttpClientError\n",
    "import ipywidgets as widgets\n",
    "from IPython.display import display\n",
    "\n",
    "data = [{\n",
    "        'experiment_id': EXPERIMENT_ID,\n",
    "        'user': row.username,\n",
    "        'key': 'cohort_availability_date.' + row.course_id,\n",
    "        'value': json.dumps({\n",
    "            'cohort_availability': datetime.datetime.strftime(row.cohort_availability, '%Y-%m-%dT%H:%M:%S.000Z'),\n",
    "            'segment': int(row.segment),\n",
    "            'segmentation_reason': row.segmentation_reason\n",
    "        })\n",
    "    } for row in unsegmented_users.itertuples()]\n",
    "\n",
    "progress = widgets.IntProgress(min=0, max=len(data))\n",
    "display(progress)\n",
    "\n",
    "succeeded = widgets.IntText(value=0, description='Succeeded: ')\n",
    "display(succeeded)\n",
    "failed = widgets.IntText(value=0, description='Failed: ')\n",
    "display(failed)\n",
    "\n",
    "from collections import defaultdict\n",
    "errors = defaultdict(int)\n",
    "\n",
    "for learner in data:\n",
    "    try:\n",
    "        client.data.post(learner)\n",
    "        succeeded.value += 1\n",
    "    except HttpClientError as ex:\n",
    "        failed.value += 1\n",
    "        error = ex.response.json()\n",
    "        for ek, ev in error.items():\n",
    "            errors[ek] += len(ev)\n",
    "    finally:\n",
    "        progress.value += 1\n",
    "\n",
    "pp(dict(errors))"
   ]
  },
  {
   "cell_type": "code",
   "execution_count": 136,
   "metadata": {},
   "outputs": [
    {
     "name": "stdout",
     "output_type": "stream",
     "text": [
      "400 {\"non_field_errors\":[\"The fields user, experiment_id, key must make a unique set.\"]}\n",
      "400 {\"non_field_errors\":[\"The fields user, experiment_id, key must make a unique set.\"]}\n",
      "400 {\"non_field_errors\":[\"The fields user, experiment_id, key must make a unique set.\"]}\n"
     ]
    }
   ],
   "source": [
    "import pytz\n",
    "\n",
    "# Update data for demo course on stage.\n",
    "usernames = ('nasthagiriEdX', 'clintonb','gabeatedx')\n",
    "start_date = datetime.datetime(year=2017, month=7, day=19, tzinfo=pytz.UTC)\n",
    "\n",
    "data = [{\n",
    "    'experiment_id': EXPERIMENT_ID,\n",
    "    'user': username,\n",
    "    'key': 'cohort_availability_date.edX/DemoX/Demo_Course',\n",
    "    'value': json.dumps({\n",
    "        'cohort_availability': datetime.datetime.strftime(start_date, '%Y-%m-%dT%H:%M:%S.000Z'),\n",
    "        'segment': 1,\n",
    "        'segmentation_reason': 'enrollment'\n",
    "    })\n",
    "} for username in usernames]\n",
    "\n",
    "from slumber.exceptions import HttpClientError\n",
    "for learner in data:\n",
    "    try:\n",
    "        client.data.post(learner)\n",
    "    except HttpClientError as ex:\n",
    "        print(ex.response.status_code, ex.content.decode('utf8'))"
   ]
  },
  {
   "cell_type": "code",
   "execution_count": null,
   "metadata": {
    "collapsed": true
   },
   "outputs": [],
   "source": []
  }
 ],
 "metadata": {
  "kernelspec": {
   "display_name": "Python 3",
   "language": "python",
   "name": "python3"
  },
  "language_info": {
   "codemirror_mode": {
    "name": "ipython",
    "version": 3
   },
   "file_extension": ".py",
   "mimetype": "text/x-python",
   "name": "python",
   "nbconvert_exporter": "python",
   "pygments_lexer": "ipython3",
   "version": "3.6.1"
  }
 },
 "nbformat": 4,
 "nbformat_minor": 2
}
