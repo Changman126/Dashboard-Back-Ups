{
 "cells": [
  {
   "cell_type": "code",
   "execution_count": 1,
   "metadata": {
    "collapsed": true
   },
   "outputs": [],
   "source": [
    "%load_ext edx_jupyter"
   ]
  },
  {
   "cell_type": "code",
   "execution_count": 2,
   "metadata": {},
   "outputs": [
    {
     "name": "stdout",
     "output_type": "stream",
     "text": [
      "password: ········\n"
     ]
    },
    {
     "data": {
      "text/html": [
       "<div>\n",
       "<table border=\"1\" class=\"dataframe\">\n",
       "  <thead>\n",
       "    <tr style=\"text-align: right;\">\n",
       "      <th></th>\n",
       "      <th>?column?</th>\n",
       "    </tr>\n",
       "  </thead>\n",
       "  <tbody>\n",
       "    <tr>\n",
       "      <th>0</th>\n",
       "      <td>Connected to Vertica!</td>\n",
       "    </tr>\n",
       "  </tbody>\n",
       "</table>\n",
       "</div>"
      ],
      "text/plain": [
       "                ?column?\n",
       "0  Connected to Vertica!"
      ]
     },
     "execution_count": 2,
     "metadata": {},
     "output_type": "execute_result"
    }
   ],
   "source": [
    "%%vertica\n",
    "SELECT 'Connected to Vertica!'"
   ]
  },
  {
   "cell_type": "markdown",
   "metadata": {},
   "source": [
    "Look at enrollees in self-paced courses.\n",
    "Capture their engagement within the 1st n weeks of their enrollment."
   ]
  },
  {
   "cell_type": "code",
   "execution_count": 8,
   "metadata": {},
   "outputs": [
    {
     "data": {
      "text/html": [
       "<div>\n",
       "<table border=\"1\" class=\"dataframe\">\n",
       "  <thead>\n",
       "    <tr style=\"text-align: right;\">\n",
       "      <th></th>\n",
       "      <th>course_number</th>\n",
       "      <th>course_id</th>\n",
       "    </tr>\n",
       "  </thead>\n",
       "  <tbody>\n",
       "  </tbody>\n",
       "</table>\n",
       "</div>"
      ],
      "text/plain": [
       "Empty DataFrame\n",
       "Columns: [course_number, course_id]\n",
       "Index: []"
      ]
     },
     "execution_count": 8,
     "metadata": {},
     "output_type": "execute_result"
    }
   ],
   "source": [
    "%%vertica\n",
    "DROP TABLE IF EXISTS self_paced_courses;\n",
    "CREATE local TEMPORARY TABLE self_paced_courses\n",
    "ON COMMIT PRESERVE ROWS AS\n",
    "SELECT\n",
    "    *\n",
    "FROM \n",
    "    business_intelligence.course_master\n",
    "WHERE\n",
    "    is_active AND\n",
    "    pacing_type = 'self_paced'"
   ]
  },
  {
   "cell_type": "code",
   "execution_count": 13,
   "metadata": {},
   "outputs": [
    {
     "data": {
      "text/html": [
       "<div>\n",
       "<table border=\"1\" class=\"dataframe\">\n",
       "  <thead>\n",
       "    <tr style=\"text-align: right;\">\n",
       "      <th></th>\n",
       "      <th>course_number</th>\n",
       "      <th>course_id</th>\n",
       "    </tr>\n",
       "  </thead>\n",
       "  <tbody>\n",
       "  </tbody>\n",
       "</table>\n",
       "</div>"
      ],
      "text/plain": [
       "Empty DataFrame\n",
       "Columns: [course_number, course_id]\n",
       "Index: []"
      ]
     },
     "execution_count": 13,
     "metadata": {},
     "output_type": "execute_result"
    }
   ],
   "source": [
    "%%vertica\n",
    "DROP TABLE IF EXISTS enrollments;\n",
    "CREATE local TEMPORARY TABLE enrollments\n",
    "ON COMMIT PRESERVE ROWS AS\n",
    "SELECT\n",
    "    CASE\n",
    "        WHEN c.course_start_date >= uc.first_enrollment_time THEN c.course_start_date\n",
    "        WHEN c.course_start_date < uc.first_enrollment_time THEN DATE(uc.first_enrollment_time)\n",
    "    END AS content_availability_date,\n",
    "    uc.user_id,\n",
    "    uc.course_id,\n",
    "    uc.first_enrollment_time,\n",
    "    uc.first_verified_enrollment_time\n",
    "FROM\n",
    "    production.d_user_course uc\n",
    "JOIN\n",
    "    self_paced_courses c\n",
    "ON\n",
    "    c.course_id = uc.course_id"
   ]
  },
  {
   "cell_type": "code",
   "execution_count": 16,
   "metadata": {
    "collapsed": true
   },
   "outputs": [],
   "source": [
    "%%vertica -> results\n",
    "\n",
    "SELECT\n",
    "    SUM(engaged_in_first_week)/COUNT(*) AS 'engaged_in_first_week',\n",
    "    SUM(engaged_in_second_week)/COUNT(*) AS 'engaged_in_second_week',\n",
    "    SUM(engaged_in_third_week)/COUNT(*) AS 'engaged_in_third_week',\n",
    "    COUNT(*) AS 'cnt_enrollments'\n",
    "FROM\n",
    "(\n",
    "    SELECT\n",
    "        bi_engage.user_id,\n",
    "        bi_engage.course_id,\n",
    "        CASE\n",
    "            WHEN DATEDIFF('day', enr.content_availability_date, bi_engage.date) BETWEEN 0 AND 6 THEN 1\n",
    "            ELSE 0\n",
    "        END AS engaged_in_first_week,\n",
    "        CASE\n",
    "            WHEN DATEDIFF('day', enr.content_availability_date, bi_engage.date) BETWEEN 7 AND 13 THEN 1\n",
    "            ELSE 0\n",
    "        END AS engaged_in_second_week,\n",
    "        CASE\n",
    "            WHEN DATEDIFF('day', enr.content_availability_date, bi_engage.date) BETWEEN 14 AND 20 THEN 1\n",
    "            ELSE 0\n",
    "        END AS engaged_in_third_week\n",
    "    FROM\n",
    "        enrollments AS enr\n",
    "    JOIN\n",
    "        business_intelligence.activity_engagement_user_daily bi_engage\n",
    "    ON\n",
    "        enr.course_id = bi_engage.course_id AND\n",
    "        enr.user_id = bi_engage.user_id\n",
    ") AS enr"
   ]
  },
  {
   "cell_type": "code",
   "execution_count": 17,
   "metadata": {},
   "outputs": [
    {
     "data": {
      "text/html": [
       "<div>\n",
       "<table border=\"1\" class=\"dataframe\">\n",
       "  <thead>\n",
       "    <tr style=\"text-align: right;\">\n",
       "      <th></th>\n",
       "      <th>engaged_in_first_week</th>\n",
       "      <th>engaged_in_second_week</th>\n",
       "      <th>engaged_in_third_week</th>\n",
       "      <th>cnt_enrollments</th>\n",
       "    </tr>\n",
       "  </thead>\n",
       "  <tbody>\n",
       "    <tr>\n",
       "      <th>0</th>\n",
       "      <td>0.398557747663365043</td>\n",
       "      <td>0.113629749551179916</td>\n",
       "      <td>0.075533086703209386</td>\n",
       "      <td>10882423</td>\n",
       "    </tr>\n",
       "  </tbody>\n",
       "</table>\n",
       "</div>"
      ],
      "text/plain": [
       "  engaged_in_first_week engaged_in_second_week engaged_in_third_week  \\\n",
       "0  0.398557747663365043   0.113629749551179916  0.075533086703209386   \n",
       "\n",
       "   cnt_enrollments  \n",
       "0         10882423  "
      ]
     },
     "execution_count": 17,
     "metadata": {},
     "output_type": "execute_result"
    }
   ],
   "source": [
    "results"
   ]
  },
  {
   "cell_type": "markdown",
   "metadata": {},
   "source": [
    "engaged_in_first_week: 0.399, engaged_in_second_week: 0.114, engaged_in_third_week: 0.076"
   ]
  },
  {
   "cell_type": "code",
   "execution_count": 18,
   "metadata": {
    "collapsed": true
   },
   "outputs": [],
   "source": [
    "relative_increase_in_rate = 0.1\n",
    "power = 0.8\n",
    "significance_level = 0.1"
   ]
  },
  {
   "cell_type": "code",
   "execution_count": 19,
   "metadata": {},
   "outputs": [
    {
     "name": "stdout",
     "output_type": "stream",
     "text": [
      "\u001b[33mThe directory '/home/developer/.cache/pip/http' or its parent directory is not owned by the current user and the cache has been disabled. Please check the permissions and owner of that directory. If executing pip with sudo, you may want sudo's -H flag.\u001b[0m\n",
      "\u001b[33mThe directory '/home/developer/.cache/pip' or its parent directory is not owned by the current user and caching wheels has been disabled. check the permissions and owner of that directory. If executing pip with sudo, you may want sudo's -H flag.\u001b[0m\n",
      "Requirement already satisfied: statsmodels in /usr/local/lib/python3.5/dist-packages\n",
      "Requirement already satisfied: patsy in /usr/local/lib/python3.5/dist-packages (from statsmodels)\n",
      "Requirement already satisfied: scipy in /usr/local/lib/python3.5/dist-packages (from statsmodels)\n",
      "Requirement already satisfied: pandas in /usr/local/lib/python3.5/dist-packages (from statsmodels)\n",
      "Requirement already satisfied: six in /usr/local/lib/python3.5/dist-packages (from patsy->statsmodels)\n",
      "Requirement already satisfied: numpy in /usr/local/lib/python3.5/dist-packages (from patsy->statsmodels)\n",
      "Requirement already satisfied: pytz>=2011k in /usr/local/lib/python3.5/dist-packages (from pandas->statsmodels)\n",
      "Requirement already satisfied: python-dateutil>=2 in /usr/local/lib/python3.5/dist-packages (from pandas->statsmodels)\n"
     ]
    }
   ],
   "source": [
    "! sudo pip install statsmodels"
   ]
  },
  {
   "cell_type": "code",
   "execution_count": 20,
   "metadata": {
    "collapsed": true
   },
   "outputs": [],
   "source": [
    "import statsmodels.stats.api as sms"
   ]
  },
  {
   "cell_type": "code",
   "execution_count": 24,
   "metadata": {
    "collapsed": true
   },
   "outputs": [],
   "source": [
    "baseline_1st_week_rate, baseline_2nd_week_rate, baseline_3rd_week_rate = (\n",
    "    float(results.loc[0].engaged_in_first_week),\n",
    "    float(results.loc[0].engaged_in_second_week),\n",
    "    float(results.loc[0].engaged_in_third_week)\n",
    ")   "
   ]
  },
  {
   "cell_type": "code",
   "execution_count": 25,
   "metadata": {
    "collapsed": true
   },
   "outputs": [],
   "source": [
    "sample_sizes = []\n",
    "for rate in (baseline_1st_week_rate, baseline_2nd_week_rate, baseline_3rd_week_rate):\n",
    "    es = sms.proportion_effectsize(rate, rate * (1 + relative_increase_in_rate))\n",
    "    size = round(sms.NormalIndPower().solve_power(es, power=power, alpha=significance_level, ratio=1))\n",
    "    sample_sizes.append(size)"
   ]
  },
  {
   "cell_type": "code",
   "execution_count": 27,
   "metadata": {},
   "outputs": [
    {
     "name": "stdout",
     "output_type": "stream",
     "text": [
      "It looks like we will need a sample size of either \n",
      "\t1893 (1st week engagement), \n",
      "\t10057 (2nd week engagement), or \n",
      "\t15816 (3rd week engagement) \n",
      "depending on which week we want to track.\n"
     ]
    }
   ],
   "source": [
    "print(\n",
    "    'It looks like we will need a sample size of either \\n'\n",
    "    '\\t{} (1st week engagement), \\n'\n",
    "    '\\t{} (2nd week engagement), or \\n'\n",
    "    '\\t{} (3rd week engagement) \\n'\n",
    "    'depending on which week we want to track.'\n",
    "    .format(sample_sizes[0], sample_sizes[1], sample_sizes[2])\n",
    ")"
   ]
  },
  {
   "cell_type": "code",
   "execution_count": null,
   "metadata": {
    "collapsed": true
   },
   "outputs": [],
   "source": []
  }
 ],
 "metadata": {
  "kernelspec": {
   "display_name": "Python 3",
   "language": "python",
   "name": "python3"
  },
  "language_info": {
   "codemirror_mode": {
    "name": "ipython",
    "version": 3
   },
   "file_extension": ".py",
   "mimetype": "text/x-python",
   "name": "python",
   "nbconvert_exporter": "python",
   "pygments_lexer": "ipython3",
   "version": "3.6.1"
  }
 },
 "nbformat": 4,
 "nbformat_minor": 2
}
