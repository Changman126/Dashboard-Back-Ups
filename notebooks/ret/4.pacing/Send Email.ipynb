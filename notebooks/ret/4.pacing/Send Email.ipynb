{
 "cells": [
  {
   "cell_type": "markdown",
   "metadata": {
    "collapsed": true
   },
   "source": [
    "# Load Email Addresses"
   ]
  },
  {
   "cell_type": "code",
   "execution_count": 1,
   "metadata": {
    "collapsed": true
   },
   "outputs": [],
   "source": [
    "experiment_id = 4"
   ]
  },
  {
   "cell_type": "code",
   "execution_count": 2,
   "metadata": {
    "collapsed": true
   },
   "outputs": [],
   "source": [
    "%%query [lms] (experiment_id=experiment_id) -> users\n",
    "SELECT\n",
    "    exp.user_id,\n",
    "    exp.course_id,\n",
    "    exp.value AS json_data,\n",
    "    au.email AS user_email,\n",
    "    COALESCE(aup.name, au.username) AS student_name,\n",
    "    sce.mode AS enrollment_mode,\n",
    "    cm.sku\n",
    "FROM\n",
    "(\n",
    "    SELECT\n",
    "        user_id,\n",
    "        SUBSTRING(`key` FROM 26) AS course_id,\n",
    "        value\n",
    "    FROM\n",
    "        experiments_experimentdata\n",
    "    WHERE\n",
    "        experiment_id = :experiment_id\n",
    ") AS exp\n",
    "JOIN\n",
    "    auth_user au ON au.id = exp.user_id\n",
    "JOIN\n",
    "    auth_userprofile aup ON aup.user_id = exp.user_id\n",
    "LEFT JOIN\n",
    "    bulk_email_optout AS eo ON eo.user_id = exp.user_id\n",
    "LEFT JOIN\n",
    "    student_courseenrollment AS sce ON sce.user_id = exp.user_id AND sce.course_id = exp.course_id\n",
    "LEFT JOIN\n",
    "    course_modes_coursemode AS cm ON cm.course_id = exp.course_id AND cm.mode_slug = 'verified'\n",
    "WHERE\n",
    "        eo.user_id IS NULL\n",
    "    AND sce.is_active = 1"
   ]
  },
  {
   "cell_type": "code",
   "execution_count": 3,
   "metadata": {
    "collapsed": true
   },
   "outputs": [],
   "source": [
    "import ciso8601\n",
    "import json\n",
    "import datetime\n",
    "import math\n",
    "\n",
    "today_utc = datetime.datetime.utcnow().date()\n",
    "\n",
    "users['segment'] = users['json_data'].apply(lambda value: json.loads(value)['segment'])\n",
    "users['cohort_availability'] = users['json_data'].apply(lambda value: ciso8601.parse_datetime(json.loads(value)['cohort_availability']).date())\n",
    "users['segmentation_reason'] = users['json_data'].apply(lambda value: json.loads(value).get('segmentation_reason', 'visit'))\n",
    "users['week_number'] = users['cohort_availability'].apply(lambda d: math.floor((today_utc - d).days / 7.0))\n",
    "users['verified_upgrade_deadline'] = users['cohort_availability'].apply(lambda d: d + datetime.timedelta(days=20))"
   ]
  },
  {
   "cell_type": "code",
   "execution_count": 4,
   "metadata": {
    "collapsed": true
   },
   "outputs": [],
   "source": [
    "%%vertica -> course_titles\n",
    "SELECT\n",
    "    course_id,\n",
    "    catalog_course_title AS course_name\n",
    "FROM\n",
    "    production.d_course"
   ]
  },
  {
   "cell_type": "code",
   "execution_count": 5,
   "metadata": {},
   "outputs": [
    {
     "data": {
      "text/html": [
       "<div>\n",
       "<style>\n",
       "    .dataframe thead tr:only-child th {\n",
       "        text-align: right;\n",
       "    }\n",
       "\n",
       "    .dataframe thead th {\n",
       "        text-align: left;\n",
       "    }\n",
       "\n",
       "    .dataframe tbody tr th {\n",
       "        vertical-align: top;\n",
       "    }\n",
       "</style>\n",
       "<table border=\"1\" class=\"dataframe\">\n",
       "  <thead>\n",
       "    <tr style=\"text-align: right;\">\n",
       "      <th></th>\n",
       "      <th>course_id</th>\n",
       "      <th>course_name</th>\n",
       "    </tr>\n",
       "  </thead>\n",
       "  <tbody>\n",
       "    <tr>\n",
       "      <th>0</th>\n",
       "      <td>AdelaideX/HumBio101x/1T2015</td>\n",
       "      <td>Essential Human Biology: Cells and Tissues</td>\n",
       "    </tr>\n",
       "    <tr>\n",
       "      <th>1</th>\n",
       "      <td>ak/akSState/1T2014</td>\n",
       "      <td>TestAK</td>\n",
       "    </tr>\n",
       "    <tr>\n",
       "      <th>2</th>\n",
       "      <td>ANUx/ANU-ASTRO1x/1T2014</td>\n",
       "      <td>Greatest Unsolved Mysteries of the Universe</td>\n",
       "    </tr>\n",
       "    <tr>\n",
       "      <th>3</th>\n",
       "      <td>ANUx/ANU-ASTRO2x/2T2014</td>\n",
       "      <td>Exoplanets</td>\n",
       "    </tr>\n",
       "    <tr>\n",
       "      <th>4</th>\n",
       "      <td>ANUx/ANU-ASTRO3x/4T2014</td>\n",
       "      <td>The Violent Universe</td>\n",
       "    </tr>\n",
       "  </tbody>\n",
       "</table>\n",
       "</div>"
      ],
      "text/plain": [
       "                     course_id                                  course_name\n",
       "0  AdelaideX/HumBio101x/1T2015   Essential Human Biology: Cells and Tissues\n",
       "1           ak/akSState/1T2014                                       TestAK\n",
       "2      ANUx/ANU-ASTRO1x/1T2014  Greatest Unsolved Mysteries of the Universe\n",
       "3      ANUx/ANU-ASTRO2x/2T2014                                   Exoplanets\n",
       "4      ANUx/ANU-ASTRO3x/4T2014                         The Violent Universe"
      ]
     },
     "execution_count": 5,
     "metadata": {},
     "output_type": "execute_result"
    }
   ],
   "source": [
    "course_titles.head()"
   ]
  },
  {
   "cell_type": "code",
   "execution_count": 6,
   "metadata": {
    "collapsed": true
   },
   "outputs": [],
   "source": [
    "import pandas as pd\n",
    "\n",
    "treatment_users = pd.merge(\n",
    "    users[users.segment == 1],\n",
    "    course_titles,\n",
    "    on='course_id',\n",
    "    how='inner'\n",
    ")"
   ]
  },
  {
   "cell_type": "code",
   "execution_count": 7,
   "metadata": {
    "collapsed": true
   },
   "outputs": [],
   "source": [
    "assert len(users[users.segment == 1]) == len(treatment_users)"
   ]
  },
  {
   "cell_type": "markdown",
   "metadata": {},
   "source": [
    "We expect two cohorts of users before sending the email each week (except the first week)"
   ]
  },
  {
   "cell_type": "code",
   "execution_count": 8,
   "metadata": {},
   "outputs": [
    {
     "data": {
      "text/plain": [
       "week_number\n",
       "4    2593\n",
       "5    2481\n",
       "Name: user_email, dtype: int64"
      ]
     },
     "execution_count": 8,
     "metadata": {},
     "output_type": "execute_result"
    }
   ],
   "source": [
    "treatment_users.groupby('week_number').user_email.count()"
   ]
  },
  {
   "cell_type": "code",
   "execution_count": 9,
   "metadata": {},
   "outputs": [
    {
     "data": {
      "text/plain": [
       "week_number  cohort_availability\n",
       "4            2017-07-26             2593\n",
       "5            2017-07-19             2481\n",
       "Name: user_email, dtype: int64"
      ]
     },
     "execution_count": 9,
     "metadata": {},
     "output_type": "execute_result"
    }
   ],
   "source": [
    "treatment_users.groupby(['week_number', 'cohort_availability']).user_email.count()"
   ]
  },
  {
   "cell_type": "code",
   "execution_count": 10,
   "metadata": {},
   "outputs": [
    {
     "data": {
      "text/plain": [
       "course_id                               week_number\n",
       "course-v1:AdelaideX+Project101x+1T2017  4              343\n",
       "                                        5              606\n",
       "course-v1:ColumbiaX+DS101X+1T2017       4              231\n",
       "                                        5              212\n",
       "course-v1:DelftX+LfE101x+2T2017         4              500\n",
       "                                        5              154\n",
       "course-v1:HarvardX+PH525.1x+2T2017      4              501\n",
       "                                        5              477\n",
       "course-v1:IIMBx+AC103x+2T2017           4              149\n",
       "                                        5              127\n",
       "course-v1:MichiganX+UX501x+3T2016       4              121\n",
       "                                        5              120\n",
       "course-v1:PennX+SD1x+2T2017             4              188\n",
       "                                        5              260\n",
       "course-v1:PennX+SD2x+2T2017             4              110\n",
       "                                        5              159\n",
       "course-v1:UBCx+Marketing1x+3T2015       4              450\n",
       "                                        5              366\n",
       "Name: user_email, dtype: int64"
      ]
     },
     "execution_count": 10,
     "metadata": {},
     "output_type": "execute_result"
    }
   ],
   "source": [
    "treatment_users.groupby(['course_id', 'week_number']).user_email.count()"
   ]
  },
  {
   "cell_type": "markdown",
   "metadata": {},
   "source": [
    "# Load the email contents"
   ]
  },
  {
   "cell_type": "code",
   "execution_count": 11,
   "metadata": {
    "collapsed": true
   },
   "outputs": [],
   "source": [
    "%%query [lms] (experiment_id) -> email_content\n",
    "SELECT\n",
    "    exp.key,\n",
    "    exp.value AS 'email_content'\n",
    "FROM\n",
    "    experiments_experimentkeyvalue AS exp\n",
    "WHERE\n",
    "    experiment_id = :experiment_id"
   ]
  },
  {
   "cell_type": "code",
   "execution_count": 12,
   "metadata": {},
   "outputs": [
    {
     "data": {
      "text/html": [
       "<div>\n",
       "<style>\n",
       "    .dataframe thead tr:only-child th {\n",
       "        text-align: right;\n",
       "    }\n",
       "\n",
       "    .dataframe thead th {\n",
       "        text-align: left;\n",
       "    }\n",
       "\n",
       "    .dataframe tbody tr th {\n",
       "        vertical-align: top;\n",
       "    }\n",
       "</style>\n",
       "<table border=\"1\" class=\"dataframe\">\n",
       "  <thead>\n",
       "    <tr style=\"text-align: right;\">\n",
       "      <th></th>\n",
       "      <th>key</th>\n",
       "      <th>email_content</th>\n",
       "    </tr>\n",
       "  </thead>\n",
       "  <tbody>\n",
       "    <tr>\n",
       "      <th>0</th>\n",
       "      <td>content.course-v1:AdelaideX+Project101x+1T2017.0</td>\n",
       "      <td>&lt;ul class=\"ret-pacing-weekly-content\" data-wee...</td>\n",
       "    </tr>\n",
       "    <tr>\n",
       "      <th>1</th>\n",
       "      <td>content.course-v1:AdelaideX+Project101x+1T2017.1</td>\n",
       "      <td>&lt;ul class=\"ret-pacing-weekly-content\" data-wee...</td>\n",
       "    </tr>\n",
       "    <tr>\n",
       "      <th>2</th>\n",
       "      <td>content.course-v1:AdelaideX+Project101x+1T2017.2</td>\n",
       "      <td>&lt;ul class=\"ret-pacing-weekly-content\" data-wee...</td>\n",
       "    </tr>\n",
       "    <tr>\n",
       "      <th>3</th>\n",
       "      <td>content.course-v1:AdelaideX+Project101x+1T2017.3</td>\n",
       "      <td>&lt;ul class=\"ret-pacing-weekly-content\" data-wee...</td>\n",
       "    </tr>\n",
       "    <tr>\n",
       "      <th>4</th>\n",
       "      <td>content.course-v1:AdelaideX+Project101x+1T2017.4</td>\n",
       "      <td>&lt;ul class=\"ret-pacing-weekly-content\" data-wee...</td>\n",
       "    </tr>\n",
       "  </tbody>\n",
       "</table>\n",
       "</div>"
      ],
      "text/plain": [
       "                                                key  \\\n",
       "0  content.course-v1:AdelaideX+Project101x+1T2017.0   \n",
       "1  content.course-v1:AdelaideX+Project101x+1T2017.1   \n",
       "2  content.course-v1:AdelaideX+Project101x+1T2017.2   \n",
       "3  content.course-v1:AdelaideX+Project101x+1T2017.3   \n",
       "4  content.course-v1:AdelaideX+Project101x+1T2017.4   \n",
       "\n",
       "                                       email_content  \n",
       "0  <ul class=\"ret-pacing-weekly-content\" data-wee...  \n",
       "1  <ul class=\"ret-pacing-weekly-content\" data-wee...  \n",
       "2  <ul class=\"ret-pacing-weekly-content\" data-wee...  \n",
       "3  <ul class=\"ret-pacing-weekly-content\" data-wee...  \n",
       "4  <ul class=\"ret-pacing-weekly-content\" data-wee...  "
      ]
     },
     "execution_count": 12,
     "metadata": {},
     "output_type": "execute_result"
    }
   ],
   "source": [
    "email_content.head()"
   ]
  },
  {
   "cell_type": "code",
   "execution_count": 13,
   "metadata": {
    "collapsed": true
   },
   "outputs": [],
   "source": [
    "def join_email_content(email_df):\n",
    "    email_df['email_key'] = email_df.apply('content.{0[course_id]}.{0[week_number]}'.format, axis=1)\n",
    "    merged = email_df.merge(email_content, left_on='email_key', right_on='key')\n",
    "    return merged"
   ]
  },
  {
   "cell_type": "code",
   "execution_count": 14,
   "metadata": {
    "collapsed": true
   },
   "outputs": [],
   "source": [
    "week_emails = join_email_content(treatment_users)"
   ]
  },
  {
   "cell_type": "code",
   "execution_count": 15,
   "metadata": {},
   "outputs": [
    {
     "data": {
      "text/plain": [
       "2893"
      ]
     },
     "execution_count": 15,
     "metadata": {},
     "output_type": "execute_result"
    }
   ],
   "source": [
    "len(week_emails)"
   ]
  },
  {
   "cell_type": "markdown",
   "metadata": {},
   "source": [
    "# Set up Sailthru Infrastructure"
   ]
  },
  {
   "cell_type": "code",
   "execution_count": 16,
   "metadata": {
    "collapsed": true
   },
   "outputs": [],
   "source": [
    "import os\n",
    "sailthru_api_key = os.getenv('OPS_SAILTHRU_API_KEY')\n",
    "sailthru_api_secret = os.getenv('OPS_SAILTHRU_API_SECRET')\n",
    "\n",
    "import getpass\n",
    "if sailthru_api_key is None:\n",
    "    sailthru_api_key = getpass.getpass(prompt='sailthru_api_key')\n",
    "if sailthru_api_secret is None:\n",
    "    sailthru_api_secret = getpass.getpass(prompt='sailthru_api_secret')"
   ]
  },
  {
   "cell_type": "code",
   "execution_count": 17,
   "metadata": {
    "collapsed": true
   },
   "outputs": [],
   "source": [
    "TEMPLATE_NAME = 'RET Pacing'\n",
    "MAX_BATCH_SIZE = 100"
   ]
  },
  {
   "cell_type": "markdown",
   "metadata": {},
   "source": [
    "# Send email kill switch\n",
    "\n",
    "When this is set to `False` no emails will be sent."
   ]
  },
  {
   "cell_type": "code",
   "execution_count": 18,
   "metadata": {
    "collapsed": true
   },
   "outputs": [],
   "source": [
    "from sailthru.sailthru_client import SailthruClient\n",
    "\n",
    "sc = sailthru_client = SailthruClient(sailthru_api_key, sailthru_api_secret)"
   ]
  },
  {
   "cell_type": "markdown",
   "metadata": {},
   "source": [
    "Vars in the template - the email will not be sent (fail silently) if these are not set!\n",
    "\n",
    "* ret_pacing_body\n",
    "* ret_pacing_course_id\n",
    "* ret_pacing_subject_line\n",
    "* ret_pacing_preview_text\n",
    "* ret_pacing_from_name\n",
    "* ret_pacing_upgrade_url"
   ]
  },
  {
   "cell_type": "code",
   "execution_count": 19,
   "metadata": {
    "collapsed": true
   },
   "outputs": [],
   "source": [
    "import itertools\n",
    "import time\n",
    "from pprint import pprint as pp\n",
    "import numpy as np\n",
    "from functools import partial\n",
    "import json\n",
    "from urllib.parse import quote_plus\n",
    "import textwrap\n",
    "import ipywidgets as widgets\n",
    "from IPython.display import display\n",
    "\n",
    "BASKET_URL_FORMAT = 'https://ecommerce.edx.org/basket/add/?sku={sku}'\n",
    "BODY_TEMPLATE = textwrap.dedent(\"\"\"\\\n",
    "<p>\n",
    "    Dear {student_name},\n",
    "</p>\n",
    "<br>\n",
    "<p>\n",
    "    Welcome to week {week} of our {course_name} course!  We hope you are enjoying learning with\n",
    "    us so far. If you have fallen behind, don't worry. You can still catch up.\n",
    "</p>\n",
    "<br>\n",
    "<p>\n",
    "    Here is what you can look forward to learning this week:\n",
    "    {email_content}\n",
    "</p>\n",
    "<br>\n",
    "<p>\n",
    "    Your focused attention to the course will pay off in the end.  Keep up\n",
    "    the good work!\n",
    "</p>\n",
    "<br>\n",
    "<p>\n",
    "    With Gratitude,\n",
    "    <br>\n",
    "    {course_name} Course Team\n",
    "</p>\n",
    "\"\"\")\n",
    "\n",
    "def as_template_vars(row):\n",
    "    row_vals = row._asdict()\n",
    "    row_vals['week'] = row.week_number + 1\n",
    "    \n",
    "    assert row_vals.get('email_content'), f'email_content is empty for {row_vals}'\n",
    "    assert row_vals.get('student_name'), f'student_name is empty for {row_vals}'\n",
    "    assert row_vals.get('course_name'), f'course_name is empty for {row_vals}'\n",
    "    assert row_vals.get('course_id'), f'course_id is empty for {row_vals}'\n",
    "    \n",
    "    template_vars = {\n",
    "        'ret_pacing_body': BODY_TEMPLATE.format(**row_vals),\n",
    "        'ret_pacing_course_id': row.course_id,\n",
    "        'ret_pacing_subject_line': \"{course_name} - Welcome to Week {week}\".format(**row_vals),\n",
    "        'ret_pacing_preview_text': '',\n",
    "        'ret_pacing_from_name': row.course_name,\n",
    "    }\n",
    "    \n",
    "    sku = row_vals.get('sku')\n",
    "    if sku and row_vals['week'] < 4 and row_vals.get('enrollment_mode') == 'audit':\n",
    "        assert 'verified_upgrade_deadline' in row_vals, f'verified_upgrade_deadline is empty in {row_vals}'\n",
    "        template_vars['ret_pacing_upgrade_url'] = BASKET_URL_FORMAT.format(sku=sku)\n",
    "        template_vars['ret_pacing_verified_upgrade_deadline'] = row_vals['verified_upgrade_deadline'].strftime('%B %d, %Y')\n",
    "\n",
    "    return template_vars\n",
    "\n",
    "class SailthruEmail(object):\n",
    "    \n",
    "    def __init__(self, sailthru_client, template_vars=None):\n",
    "        self.sailthru_client = SailthruClient(sailthru_api_key, sailthru_api_secret)\n",
    "        self.template_vars = template_vars or {}\n",
    "        \n",
    "    def send_to_users(self, var_overrides, batch_size=MAX_BATCH_SIZE, is_test=False, debug=False):\n",
    "        # This is the max batch size that Sailthru supports\n",
    "        assert(batch_size <= MAX_BATCH_SIZE)\n",
    "        \n",
    "        print(f'Sending {len(var_overrides)} emails')\n",
    "        \n",
    "        progress = widgets.IntProgress(min=0, max=len(var_overrides))\n",
    "        display(progress)\n",
    "        succeeded = widgets.IntText(value=0, description='Sent: ')\n",
    "        display(succeeded)\n",
    "\n",
    "        def batch_generator():\n",
    "            for _, group in var_overrides.groupby(['week_number', 'course_id']):\n",
    "                for k, batch in group.groupby(np.arange(len(group))//batch_size):\n",
    "                    yield batch\n",
    "\n",
    "        batch_iterator = iter(batch_generator())\n",
    "\n",
    "        try:\n",
    "            for batch in batch_iterator:\n",
    "                succeeded.value += self._send_batch(batch, is_test=is_test, debug=debug)\n",
    "                progress.value += len(batch)\n",
    "        except Exception as exc:\n",
    "            print(exc)\n",
    "        \n",
    "        return batch_iterator\n",
    "            \n",
    "    def _send_batch(self, batch, is_test=False, debug=False):\n",
    "        self.wait_for_rate_limit()\n",
    "        \n",
    "        # Build the template vars for every user in the batch\n",
    "        batch_vars = {\n",
    "            row.user_email: {\n",
    "                **self.template_vars,\n",
    "                **as_template_vars(row)\n",
    "            }\n",
    "            for row in batch.itertuples()\n",
    "        }\n",
    "\n",
    "        for email, override in batch_vars.items():\n",
    "            assert(email)\n",
    "            assert(override['ret_pacing_body'])\n",
    "            assert(override['ret_pacing_course_id'])\n",
    "            assert(override['ret_pacing_subject_line'])\n",
    "            assert(override['ret_pacing_from_name'])\n",
    "\n",
    "        batch_size = len(batch)\n",
    "        if debug:\n",
    "            print(\n",
    "               f'Sending an email{\" [TEST]\" if is_test else \"\"}'\n",
    "               f' using the template \"{TEMPLATE_NAME}\" to {batch_size} users'\n",
    "            )\n",
    "            print(json.dumps([row.user_email for row in batch.itertuples()], indent=4))\n",
    "            print(json.dumps(batch_vars, indent=4))\n",
    "\n",
    "        if SEND_EMAIL:\n",
    "            options = {}\n",
    "            if is_test:\n",
    "                options['test'] = 1\n",
    "                \n",
    "            emails = [row.user_email for row in batch.itertuples()]\n",
    "            \n",
    "            response = sc.multi_send(\n",
    "                TEMPLATE_NAME,\n",
    "                emails,\n",
    "                evars=batch_vars,\n",
    "                options=options\n",
    "            )\n",
    "            if response.is_ok():\n",
    "                body = response.get_body()\n",
    "                return body.get(\"sent_count\", 1)\n",
    "            else:\n",
    "                error = response.get_error()\n",
    "                print(\"Error: \" + error.get_message())\n",
    "                print(\"Status Code: \" + str(response.get_status_code()))\n",
    "                print(\"Error Code: \" + str(error.get_error_code()))\n",
    "                return 0\n",
    "        else:\n",
    "            return batch_size\n",
    "\n",
    "    def wait_for_rate_limit(self):\n",
    "        rate_limit_info = self.sailthru_client.get_last_rate_limit_info('send', 'POST')\n",
    "        if rate_limit_info is not None:\n",
    "            limit = int(rate_limit_info['limit'])\n",
    "            remaining = int(rate_limit_info['remaining'])\n",
    "            reset_timestamp = int(rate_limit_info['reset'])\n",
    "            seconds_till_reset = reset_timestamp - time.time()\n",
    "            if remaining <= 0 and seconds_till_reset > 0:\n",
    "                print(f'Rate limit exceeded, sleeping for {seconds_till_reset} seconds')\n",
    "                time.sleep(seconds_till_reset + 1)"
   ]
  },
  {
   "cell_type": "code",
   "execution_count": 20,
   "metadata": {
    "collapsed": true
   },
   "outputs": [],
   "source": [
    "email = SailthruEmail(\n",
    "    sailthru_client=sailthru_client,\n",
    "    template_vars={\n",
    "    }\n",
    ")"
   ]
  },
  {
   "cell_type": "markdown",
   "metadata": {},
   "source": [
    "# Sending emails\n",
    "\n",
    "1. First send to RET\n",
    "2. Send to edX employees\n",
    "3. Set SEND_EMAIL=False\n",
    "4. Call the method to send to all learners - this will validate all of template vars\n",
    "5. Set SEND_EMAIL=True\n",
    "6. Send the email to all learers"
   ]
  },
  {
   "cell_type": "code",
   "execution_count": 26,
   "metadata": {
    "collapsed": true
   },
   "outputs": [],
   "source": [
    "ret_emails = {\n",
    "    'gabe@edx.org': 'Gabe Mulley',\n",
    "    'cblackburn@edx.org': 'Clinton Blackburn',\n",
    "    'cale@edx.org': 'Calen Pennington',\n",
    "    'nasthagiri@edx.org': 'Nimisha Asthagiri',\n",
    "    'aboehm@edx.org': 'Alyssa Boehm',\n",
    "    'ddomingos@edx.org': 'Darren Domingos',\n",
    "    'kwillemin@edx.org': 'Katy Willemin',\n",
    "#     'jzheng@edx.org': 'Jeannie Zheng',\n",
    "}\n",
    "\n",
    "course_ids = (\n",
    "    'course-v1:IIMBx+AC103x+2T2017',\n",
    "    'course-v1:AdelaideX+Project101x+1T2017',\n",
    "    'course-v1:DelftX+LfE101x+2T2017',\n",
    "    'course-v1:ColumbiaX+DS101X+1T2017',\n",
    "    'course-v1:PennX+SD2x+2T2017',\n",
    "    'course-v1:PennX+SD1x+2T2017',\n",
    "    'course-v1:HarvardX+PH525.1x+2T2017',\n",
    "    'course-v1:MichiganX+UX501x+3T2016',\n",
    "    'course-v1:UBCx+Marketing1x+3T2015',\n",
    ")"
   ]
  },
  {
   "cell_type": "code",
   "execution_count": 27,
   "metadata": {
    "collapsed": true
   },
   "outputs": [],
   "source": [
    "unique_cohort_availability_dates = week_emails.cohort_availability.unique()"
   ]
  },
  {
   "cell_type": "code",
   "execution_count": 28,
   "metadata": {
    "collapsed": true
   },
   "outputs": [],
   "source": [
    "import random\n",
    "\n",
    "result = pd.DataFrame(columns=week_emails.columns)\n",
    "for email_address, name in ret_emails.items():\n",
    "    for course_id in course_ids:\n",
    "        for cohort_availability_date in unique_cohort_availability_dates:\n",
    "            template = week_emails[(week_emails.course_id==course_id) & (week_emails.cohort_availability==cohort_availability_date)].head(n=1)\n",
    "            if len(template) == 0:\n",
    "                continue\n",
    "            tmp = template.copy()\n",
    "            tmp['user_email'] = email_address\n",
    "            tmp['student_name'] = name\n",
    "            result = result.append(tmp)"
   ]
  },
  {
   "cell_type": "code",
   "execution_count": 33,
   "metadata": {
    "collapsed": true
   },
   "outputs": [],
   "source": [
    "SEND_EMAIL = False"
   ]
  },
  {
   "cell_type": "code",
   "execution_count": 30,
   "metadata": {
    "scrolled": false
   },
   "outputs": [
    {
     "name": "stdout",
     "output_type": "stream",
     "text": [
      "Sending 63 emails\n"
     ]
    },
    {
     "data": {
      "application/vnd.jupyter.widget-view+json": {
       "model_id": "d612ee6398144232ae1054fd54482875"
      }
     },
     "metadata": {},
     "output_type": "display_data"
    },
    {
     "data": {
      "application/vnd.jupyter.widget-view+json": {
       "model_id": "56d5b916d4b94b10887486aa475394aa"
      }
     },
     "metadata": {},
     "output_type": "display_data"
    },
    {
     "name": "stdout",
     "output_type": "stream",
     "text": [
      "Sending an email [TEST] using the template \"RET Pacing\" to 7 users\n",
      "[\n",
      "    \"gabe@edx.org\",\n",
      "    \"cblackburn@edx.org\",\n",
      "    \"cale@edx.org\",\n",
      "    \"nasthagiri@edx.org\",\n",
      "    \"aboehm@edx.org\",\n",
      "    \"ddomingos@edx.org\",\n",
      "    \"kwillemin@edx.org\"\n",
      "]\n",
      "{\n",
      "    \"gabe@edx.org\": {\n",
      "        \"ret_pacing_body\": \"<p>\\n    Dear Gabe Mulley,\\n</p>\\n<br>\\n<p>\\n    Welcome to week 5 of our Introduction to Project Management course!  We hope you are enjoying learning with\\n    us so far. If you have fallen behind, don't worry. You can still catch up.\\n</p>\\n<br>\\n<p>\\n    Here is what you can look forward to learning this week:\\n    <ul class=\\\"ret-pacing-weekly-content\\\" data-week-number=\\\"4\\\">\\n  <li>Learn about project teams and communication</li>\\n  <li>Learn how to engage and manage your project stakeholders and how to resource your project team</li>\\n  <li>Find out how to use your communication tools effectively</li>\\n</ul>\\n</p>\\n<br>\\n<p>\\n    Your focused attention to the course will pay off in the end.  Keep up\\n    the good work!\\n</p>\\n<br>\\n<p>\\n    With Gratitude,\\n    <br>\\n    Introduction to Project Management Course Team\\n</p>\\n\",\n",
      "        \"ret_pacing_course_id\": \"course-v1:AdelaideX+Project101x+1T2017\",\n",
      "        \"ret_pacing_subject_line\": \"Introduction to Project Management - Welcome to Week 5\",\n",
      "        \"ret_pacing_preview_text\": \"\",\n",
      "        \"ret_pacing_from_name\": \"Introduction to Project Management\"\n",
      "    },\n",
      "    \"cblackburn@edx.org\": {\n",
      "        \"ret_pacing_body\": \"<p>\\n    Dear Clinton Blackburn,\\n</p>\\n<br>\\n<p>\\n    Welcome to week 5 of our Introduction to Project Management course!  We hope you are enjoying learning with\\n    us so far. If you have fallen behind, don't worry. You can still catch up.\\n</p>\\n<br>\\n<p>\\n    Here is what you can look forward to learning this week:\\n    <ul class=\\\"ret-pacing-weekly-content\\\" data-week-number=\\\"4\\\">\\n  <li>Learn about project teams and communication</li>\\n  <li>Learn how to engage and manage your project stakeholders and how to resource your project team</li>\\n  <li>Find out how to use your communication tools effectively</li>\\n</ul>\\n</p>\\n<br>\\n<p>\\n    Your focused attention to the course will pay off in the end.  Keep up\\n    the good work!\\n</p>\\n<br>\\n<p>\\n    With Gratitude,\\n    <br>\\n    Introduction to Project Management Course Team\\n</p>\\n\",\n",
      "        \"ret_pacing_course_id\": \"course-v1:AdelaideX+Project101x+1T2017\",\n",
      "        \"ret_pacing_subject_line\": \"Introduction to Project Management - Welcome to Week 5\",\n",
      "        \"ret_pacing_preview_text\": \"\",\n",
      "        \"ret_pacing_from_name\": \"Introduction to Project Management\"\n",
      "    },\n",
      "    \"cale@edx.org\": {\n",
      "        \"ret_pacing_body\": \"<p>\\n    Dear Calen Pennington,\\n</p>\\n<br>\\n<p>\\n    Welcome to week 5 of our Introduction to Project Management course!  We hope you are enjoying learning with\\n    us so far. If you have fallen behind, don't worry. You can still catch up.\\n</p>\\n<br>\\n<p>\\n    Here is what you can look forward to learning this week:\\n    <ul class=\\\"ret-pacing-weekly-content\\\" data-week-number=\\\"4\\\">\\n  <li>Learn about project teams and communication</li>\\n  <li>Learn how to engage and manage your project stakeholders and how to resource your project team</li>\\n  <li>Find out how to use your communication tools effectively</li>\\n</ul>\\n</p>\\n<br>\\n<p>\\n    Your focused attention to the course will pay off in the end.  Keep up\\n    the good work!\\n</p>\\n<br>\\n<p>\\n    With Gratitude,\\n    <br>\\n    Introduction to Project Management Course Team\\n</p>\\n\",\n",
      "        \"ret_pacing_course_id\": \"course-v1:AdelaideX+Project101x+1T2017\",\n",
      "        \"ret_pacing_subject_line\": \"Introduction to Project Management - Welcome to Week 5\",\n",
      "        \"ret_pacing_preview_text\": \"\",\n",
      "        \"ret_pacing_from_name\": \"Introduction to Project Management\"\n",
      "    },\n",
      "    \"nasthagiri@edx.org\": {\n",
      "        \"ret_pacing_body\": \"<p>\\n    Dear Nimisha Asthagiri,\\n</p>\\n<br>\\n<p>\\n    Welcome to week 5 of our Introduction to Project Management course!  We hope you are enjoying learning with\\n    us so far. If you have fallen behind, don't worry. You can still catch up.\\n</p>\\n<br>\\n<p>\\n    Here is what you can look forward to learning this week:\\n    <ul class=\\\"ret-pacing-weekly-content\\\" data-week-number=\\\"4\\\">\\n  <li>Learn about project teams and communication</li>\\n  <li>Learn how to engage and manage your project stakeholders and how to resource your project team</li>\\n  <li>Find out how to use your communication tools effectively</li>\\n</ul>\\n</p>\\n<br>\\n<p>\\n    Your focused attention to the course will pay off in the end.  Keep up\\n    the good work!\\n</p>\\n<br>\\n<p>\\n    With Gratitude,\\n    <br>\\n    Introduction to Project Management Course Team\\n</p>\\n\",\n",
      "        \"ret_pacing_course_id\": \"course-v1:AdelaideX+Project101x+1T2017\",\n",
      "        \"ret_pacing_subject_line\": \"Introduction to Project Management - Welcome to Week 5\",\n",
      "        \"ret_pacing_preview_text\": \"\",\n",
      "        \"ret_pacing_from_name\": \"Introduction to Project Management\"\n",
      "    },\n",
      "    \"aboehm@edx.org\": {\n",
      "        \"ret_pacing_body\": \"<p>\\n    Dear Alyssa Boehm,\\n</p>\\n<br>\\n<p>\\n    Welcome to week 5 of our Introduction to Project Management course!  We hope you are enjoying learning with\\n    us so far. If you have fallen behind, don't worry. You can still catch up.\\n</p>\\n<br>\\n<p>\\n    Here is what you can look forward to learning this week:\\n    <ul class=\\\"ret-pacing-weekly-content\\\" data-week-number=\\\"4\\\">\\n  <li>Learn about project teams and communication</li>\\n  <li>Learn how to engage and manage your project stakeholders and how to resource your project team</li>\\n  <li>Find out how to use your communication tools effectively</li>\\n</ul>\\n</p>\\n<br>\\n<p>\\n    Your focused attention to the course will pay off in the end.  Keep up\\n    the good work!\\n</p>\\n<br>\\n<p>\\n    With Gratitude,\\n    <br>\\n    Introduction to Project Management Course Team\\n</p>\\n\",\n",
      "        \"ret_pacing_course_id\": \"course-v1:AdelaideX+Project101x+1T2017\",\n",
      "        \"ret_pacing_subject_line\": \"Introduction to Project Management - Welcome to Week 5\",\n",
      "        \"ret_pacing_preview_text\": \"\",\n",
      "        \"ret_pacing_from_name\": \"Introduction to Project Management\"\n",
      "    },\n",
      "    \"ddomingos@edx.org\": {\n",
      "        \"ret_pacing_body\": \"<p>\\n    Dear Darren Domingos,\\n</p>\\n<br>\\n<p>\\n    Welcome to week 5 of our Introduction to Project Management course!  We hope you are enjoying learning with\\n    us so far. If you have fallen behind, don't worry. You can still catch up.\\n</p>\\n<br>\\n<p>\\n    Here is what you can look forward to learning this week:\\n    <ul class=\\\"ret-pacing-weekly-content\\\" data-week-number=\\\"4\\\">\\n  <li>Learn about project teams and communication</li>\\n  <li>Learn how to engage and manage your project stakeholders and how to resource your project team</li>\\n  <li>Find out how to use your communication tools effectively</li>\\n</ul>\\n</p>\\n<br>\\n<p>\\n    Your focused attention to the course will pay off in the end.  Keep up\\n    the good work!\\n</p>\\n<br>\\n<p>\\n    With Gratitude,\\n    <br>\\n    Introduction to Project Management Course Team\\n</p>\\n\",\n",
      "        \"ret_pacing_course_id\": \"course-v1:AdelaideX+Project101x+1T2017\",\n",
      "        \"ret_pacing_subject_line\": \"Introduction to Project Management - Welcome to Week 5\",\n",
      "        \"ret_pacing_preview_text\": \"\",\n",
      "        \"ret_pacing_from_name\": \"Introduction to Project Management\"\n",
      "    },\n",
      "    \"kwillemin@edx.org\": {\n",
      "        \"ret_pacing_body\": \"<p>\\n    Dear Katy Willemin,\\n</p>\\n<br>\\n<p>\\n    Welcome to week 5 of our Introduction to Project Management course!  We hope you are enjoying learning with\\n    us so far. If you have fallen behind, don't worry. You can still catch up.\\n</p>\\n<br>\\n<p>\\n    Here is what you can look forward to learning this week:\\n    <ul class=\\\"ret-pacing-weekly-content\\\" data-week-number=\\\"4\\\">\\n  <li>Learn about project teams and communication</li>\\n  <li>Learn how to engage and manage your project stakeholders and how to resource your project team</li>\\n  <li>Find out how to use your communication tools effectively</li>\\n</ul>\\n</p>\\n<br>\\n<p>\\n    Your focused attention to the course will pay off in the end.  Keep up\\n    the good work!\\n</p>\\n<br>\\n<p>\\n    With Gratitude,\\n    <br>\\n    Introduction to Project Management Course Team\\n</p>\\n\",\n",
      "        \"ret_pacing_course_id\": \"course-v1:AdelaideX+Project101x+1T2017\",\n",
      "        \"ret_pacing_subject_line\": \"Introduction to Project Management - Welcome to Week 5\",\n",
      "        \"ret_pacing_preview_text\": \"\",\n",
      "        \"ret_pacing_from_name\": \"Introduction to Project Management\"\n",
      "    }\n",
      "}\n"
     ]
    },
    {
     "name": "stdout",
     "output_type": "stream",
     "text": [
      "Sending an email [TEST] using the template \"RET Pacing\" to 7 users\n",
      "[\n",
      "    \"gabe@edx.org\",\n",
      "    \"cblackburn@edx.org\",\n",
      "    \"cale@edx.org\",\n",
      "    \"nasthagiri@edx.org\",\n",
      "    \"aboehm@edx.org\",\n",
      "    \"ddomingos@edx.org\",\n",
      "    \"kwillemin@edx.org\"\n",
      "]\n",
      "{\n",
      "    \"gabe@edx.org\": {\n",
      "        \"ret_pacing_body\": \"<p>\\n    Dear Gabe Mulley,\\n</p>\\n<br>\\n<p>\\n    Welcome to week 5 of our Statistical Thinking for Data Science and Analytics course!  We hope you are enjoying learning with\\n    us so far. If you have fallen behind, don't worry. You can still catch up.\\n</p>\\n<br>\\n<p>\\n    Here is what you can look forward to learning this week:\\n    <ul class=\\\"ret-pacing-weekly-content\\\" data-week-number=\\\"4\\\">\\n  <li>In this module, we will introduce the philosophy of Bayesian inference and Bayesian modeling techniques using illustrative case studies.</li>\\n  <li>Several examples will illustrate Bayesian modeling in action.</li>\\n  <li>A variety of exercises on Bayesian modeling, as well as an opportunity to discuss this topic on the forums.</li>\\n</ul>\\n</p>\\n<br>\\n<p>\\n    Your focused attention to the course will pay off in the end.  Keep up\\n    the good work!\\n</p>\\n<br>\\n<p>\\n    With Gratitude,\\n    <br>\\n    Statistical Thinking for Data Science and Analytics Course Team\\n</p>\\n\",\n",
      "        \"ret_pacing_course_id\": \"course-v1:ColumbiaX+DS101X+1T2017\",\n",
      "        \"ret_pacing_subject_line\": \"Statistical Thinking for Data Science and Analytics - Welcome to Week 5\",\n",
      "        \"ret_pacing_preview_text\": \"\",\n",
      "        \"ret_pacing_from_name\": \"Statistical Thinking for Data Science and Analytics\"\n",
      "    },\n",
      "    \"cblackburn@edx.org\": {\n",
      "        \"ret_pacing_body\": \"<p>\\n    Dear Clinton Blackburn,\\n</p>\\n<br>\\n<p>\\n    Welcome to week 5 of our Statistical Thinking for Data Science and Analytics course!  We hope you are enjoying learning with\\n    us so far. If you have fallen behind, don't worry. You can still catch up.\\n</p>\\n<br>\\n<p>\\n    Here is what you can look forward to learning this week:\\n    <ul class=\\\"ret-pacing-weekly-content\\\" data-week-number=\\\"4\\\">\\n  <li>In this module, we will introduce the philosophy of Bayesian inference and Bayesian modeling techniques using illustrative case studies.</li>\\n  <li>Several examples will illustrate Bayesian modeling in action.</li>\\n  <li>A variety of exercises on Bayesian modeling, as well as an opportunity to discuss this topic on the forums.</li>\\n</ul>\\n</p>\\n<br>\\n<p>\\n    Your focused attention to the course will pay off in the end.  Keep up\\n    the good work!\\n</p>\\n<br>\\n<p>\\n    With Gratitude,\\n    <br>\\n    Statistical Thinking for Data Science and Analytics Course Team\\n</p>\\n\",\n",
      "        \"ret_pacing_course_id\": \"course-v1:ColumbiaX+DS101X+1T2017\",\n",
      "        \"ret_pacing_subject_line\": \"Statistical Thinking for Data Science and Analytics - Welcome to Week 5\",\n",
      "        \"ret_pacing_preview_text\": \"\",\n",
      "        \"ret_pacing_from_name\": \"Statistical Thinking for Data Science and Analytics\"\n",
      "    },\n",
      "    \"cale@edx.org\": {\n",
      "        \"ret_pacing_body\": \"<p>\\n    Dear Calen Pennington,\\n</p>\\n<br>\\n<p>\\n    Welcome to week 5 of our Statistical Thinking for Data Science and Analytics course!  We hope you are enjoying learning with\\n    us so far. If you have fallen behind, don't worry. You can still catch up.\\n</p>\\n<br>\\n<p>\\n    Here is what you can look forward to learning this week:\\n    <ul class=\\\"ret-pacing-weekly-content\\\" data-week-number=\\\"4\\\">\\n  <li>In this module, we will introduce the philosophy of Bayesian inference and Bayesian modeling techniques using illustrative case studies.</li>\\n  <li>Several examples will illustrate Bayesian modeling in action.</li>\\n  <li>A variety of exercises on Bayesian modeling, as well as an opportunity to discuss this topic on the forums.</li>\\n</ul>\\n</p>\\n<br>\\n<p>\\n    Your focused attention to the course will pay off in the end.  Keep up\\n    the good work!\\n</p>\\n<br>\\n<p>\\n    With Gratitude,\\n    <br>\\n    Statistical Thinking for Data Science and Analytics Course Team\\n</p>\\n\",\n",
      "        \"ret_pacing_course_id\": \"course-v1:ColumbiaX+DS101X+1T2017\",\n",
      "        \"ret_pacing_subject_line\": \"Statistical Thinking for Data Science and Analytics - Welcome to Week 5\",\n",
      "        \"ret_pacing_preview_text\": \"\",\n",
      "        \"ret_pacing_from_name\": \"Statistical Thinking for Data Science and Analytics\"\n",
      "    },\n",
      "    \"nasthagiri@edx.org\": {\n",
      "        \"ret_pacing_body\": \"<p>\\n    Dear Nimisha Asthagiri,\\n</p>\\n<br>\\n<p>\\n    Welcome to week 5 of our Statistical Thinking for Data Science and Analytics course!  We hope you are enjoying learning with\\n    us so far. If you have fallen behind, don't worry. You can still catch up.\\n</p>\\n<br>\\n<p>\\n    Here is what you can look forward to learning this week:\\n    <ul class=\\\"ret-pacing-weekly-content\\\" data-week-number=\\\"4\\\">\\n  <li>In this module, we will introduce the philosophy of Bayesian inference and Bayesian modeling techniques using illustrative case studies.</li>\\n  <li>Several examples will illustrate Bayesian modeling in action.</li>\\n  <li>A variety of exercises on Bayesian modeling, as well as an opportunity to discuss this topic on the forums.</li>\\n</ul>\\n</p>\\n<br>\\n<p>\\n    Your focused attention to the course will pay off in the end.  Keep up\\n    the good work!\\n</p>\\n<br>\\n<p>\\n    With Gratitude,\\n    <br>\\n    Statistical Thinking for Data Science and Analytics Course Team\\n</p>\\n\",\n",
      "        \"ret_pacing_course_id\": \"course-v1:ColumbiaX+DS101X+1T2017\",\n",
      "        \"ret_pacing_subject_line\": \"Statistical Thinking for Data Science and Analytics - Welcome to Week 5\",\n",
      "        \"ret_pacing_preview_text\": \"\",\n",
      "        \"ret_pacing_from_name\": \"Statistical Thinking for Data Science and Analytics\"\n",
      "    },\n",
      "    \"aboehm@edx.org\": {\n",
      "        \"ret_pacing_body\": \"<p>\\n    Dear Alyssa Boehm,\\n</p>\\n<br>\\n<p>\\n    Welcome to week 5 of our Statistical Thinking for Data Science and Analytics course!  We hope you are enjoying learning with\\n    us so far. If you have fallen behind, don't worry. You can still catch up.\\n</p>\\n<br>\\n<p>\\n    Here is what you can look forward to learning this week:\\n    <ul class=\\\"ret-pacing-weekly-content\\\" data-week-number=\\\"4\\\">\\n  <li>In this module, we will introduce the philosophy of Bayesian inference and Bayesian modeling techniques using illustrative case studies.</li>\\n  <li>Several examples will illustrate Bayesian modeling in action.</li>\\n  <li>A variety of exercises on Bayesian modeling, as well as an opportunity to discuss this topic on the forums.</li>\\n</ul>\\n</p>\\n<br>\\n<p>\\n    Your focused attention to the course will pay off in the end.  Keep up\\n    the good work!\\n</p>\\n<br>\\n<p>\\n    With Gratitude,\\n    <br>\\n    Statistical Thinking for Data Science and Analytics Course Team\\n</p>\\n\",\n",
      "        \"ret_pacing_course_id\": \"course-v1:ColumbiaX+DS101X+1T2017\",\n",
      "        \"ret_pacing_subject_line\": \"Statistical Thinking for Data Science and Analytics - Welcome to Week 5\",\n",
      "        \"ret_pacing_preview_text\": \"\",\n",
      "        \"ret_pacing_from_name\": \"Statistical Thinking for Data Science and Analytics\"\n",
      "    },\n",
      "    \"ddomingos@edx.org\": {\n",
      "        \"ret_pacing_body\": \"<p>\\n    Dear Darren Domingos,\\n</p>\\n<br>\\n<p>\\n    Welcome to week 5 of our Statistical Thinking for Data Science and Analytics course!  We hope you are enjoying learning with\\n    us so far. If you have fallen behind, don't worry. You can still catch up.\\n</p>\\n<br>\\n<p>\\n    Here is what you can look forward to learning this week:\\n    <ul class=\\\"ret-pacing-weekly-content\\\" data-week-number=\\\"4\\\">\\n  <li>In this module, we will introduce the philosophy of Bayesian inference and Bayesian modeling techniques using illustrative case studies.</li>\\n  <li>Several examples will illustrate Bayesian modeling in action.</li>\\n  <li>A variety of exercises on Bayesian modeling, as well as an opportunity to discuss this topic on the forums.</li>\\n</ul>\\n</p>\\n<br>\\n<p>\\n    Your focused attention to the course will pay off in the end.  Keep up\\n    the good work!\\n</p>\\n<br>\\n<p>\\n    With Gratitude,\\n    <br>\\n    Statistical Thinking for Data Science and Analytics Course Team\\n</p>\\n\",\n",
      "        \"ret_pacing_course_id\": \"course-v1:ColumbiaX+DS101X+1T2017\",\n",
      "        \"ret_pacing_subject_line\": \"Statistical Thinking for Data Science and Analytics - Welcome to Week 5\",\n",
      "        \"ret_pacing_preview_text\": \"\",\n",
      "        \"ret_pacing_from_name\": \"Statistical Thinking for Data Science and Analytics\"\n",
      "    },\n",
      "    \"kwillemin@edx.org\": {\n",
      "        \"ret_pacing_body\": \"<p>\\n    Dear Katy Willemin,\\n</p>\\n<br>\\n<p>\\n    Welcome to week 5 of our Statistical Thinking for Data Science and Analytics course!  We hope you are enjoying learning with\\n    us so far. If you have fallen behind, don't worry. You can still catch up.\\n</p>\\n<br>\\n<p>\\n    Here is what you can look forward to learning this week:\\n    <ul class=\\\"ret-pacing-weekly-content\\\" data-week-number=\\\"4\\\">\\n  <li>In this module, we will introduce the philosophy of Bayesian inference and Bayesian modeling techniques using illustrative case studies.</li>\\n  <li>Several examples will illustrate Bayesian modeling in action.</li>\\n  <li>A variety of exercises on Bayesian modeling, as well as an opportunity to discuss this topic on the forums.</li>\\n</ul>\\n</p>\\n<br>\\n<p>\\n    Your focused attention to the course will pay off in the end.  Keep up\\n    the good work!\\n</p>\\n<br>\\n<p>\\n    With Gratitude,\\n    <br>\\n    Statistical Thinking for Data Science and Analytics Course Team\\n</p>\\n\",\n",
      "        \"ret_pacing_course_id\": \"course-v1:ColumbiaX+DS101X+1T2017\",\n",
      "        \"ret_pacing_subject_line\": \"Statistical Thinking for Data Science and Analytics - Welcome to Week 5\",\n",
      "        \"ret_pacing_preview_text\": \"\",\n",
      "        \"ret_pacing_from_name\": \"Statistical Thinking for Data Science and Analytics\"\n",
      "    }\n",
      "}\n"
     ]
    },
    {
     "name": "stdout",
     "output_type": "stream",
     "text": [
      "Sending an email [TEST] using the template \"RET Pacing\" to 7 users\n",
      "[\n",
      "    \"gabe@edx.org\",\n",
      "    \"cblackburn@edx.org\",\n",
      "    \"cale@edx.org\",\n",
      "    \"nasthagiri@edx.org\",\n",
      "    \"aboehm@edx.org\",\n",
      "    \"ddomingos@edx.org\",\n",
      "    \"kwillemin@edx.org\"\n",
      "]\n",
      "{\n",
      "    \"gabe@edx.org\": {\n",
      "        \"ret_pacing_body\": \"<p>\\n    Dear Gabe Mulley,\\n</p>\\n<br>\\n<p>\\n    Welcome to week 5 of our Leadership for Engineers course!  We hope you are enjoying learning with\\n    us so far. If you have fallen behind, don't worry. You can still catch up.\\n</p>\\n<br>\\n<p>\\n    Here is what you can look forward to learning this week:\\n    <ul class=\\\"ret-pacing-weekly-content\\\" data-week-number=\\\"4\\\">\\n  <li>Working on a framework for your career</li>\\n  <li>Why asking for support is essential</li>\\n  <li>Defining your search strategy</li>\\n</ul>\\n</p>\\n<br>\\n<p>\\n    Your focused attention to the course will pay off in the end.  Keep up\\n    the good work!\\n</p>\\n<br>\\n<p>\\n    With Gratitude,\\n    <br>\\n    Leadership for Engineers Course Team\\n</p>\\n\",\n",
      "        \"ret_pacing_course_id\": \"course-v1:DelftX+LfE101x+2T2017\",\n",
      "        \"ret_pacing_subject_line\": \"Leadership for Engineers - Welcome to Week 5\",\n",
      "        \"ret_pacing_preview_text\": \"\",\n",
      "        \"ret_pacing_from_name\": \"Leadership for Engineers\"\n",
      "    },\n",
      "    \"cblackburn@edx.org\": {\n",
      "        \"ret_pacing_body\": \"<p>\\n    Dear Clinton Blackburn,\\n</p>\\n<br>\\n<p>\\n    Welcome to week 5 of our Leadership for Engineers course!  We hope you are enjoying learning with\\n    us so far. If you have fallen behind, don't worry. You can still catch up.\\n</p>\\n<br>\\n<p>\\n    Here is what you can look forward to learning this week:\\n    <ul class=\\\"ret-pacing-weekly-content\\\" data-week-number=\\\"4\\\">\\n  <li>Working on a framework for your career</li>\\n  <li>Why asking for support is essential</li>\\n  <li>Defining your search strategy</li>\\n</ul>\\n</p>\\n<br>\\n<p>\\n    Your focused attention to the course will pay off in the end.  Keep up\\n    the good work!\\n</p>\\n<br>\\n<p>\\n    With Gratitude,\\n    <br>\\n    Leadership for Engineers Course Team\\n</p>\\n\",\n",
      "        \"ret_pacing_course_id\": \"course-v1:DelftX+LfE101x+2T2017\",\n",
      "        \"ret_pacing_subject_line\": \"Leadership for Engineers - Welcome to Week 5\",\n",
      "        \"ret_pacing_preview_text\": \"\",\n",
      "        \"ret_pacing_from_name\": \"Leadership for Engineers\"\n",
      "    },\n",
      "    \"cale@edx.org\": {\n",
      "        \"ret_pacing_body\": \"<p>\\n    Dear Calen Pennington,\\n</p>\\n<br>\\n<p>\\n    Welcome to week 5 of our Leadership for Engineers course!  We hope you are enjoying learning with\\n    us so far. If you have fallen behind, don't worry. You can still catch up.\\n</p>\\n<br>\\n<p>\\n    Here is what you can look forward to learning this week:\\n    <ul class=\\\"ret-pacing-weekly-content\\\" data-week-number=\\\"4\\\">\\n  <li>Working on a framework for your career</li>\\n  <li>Why asking for support is essential</li>\\n  <li>Defining your search strategy</li>\\n</ul>\\n</p>\\n<br>\\n<p>\\n    Your focused attention to the course will pay off in the end.  Keep up\\n    the good work!\\n</p>\\n<br>\\n<p>\\n    With Gratitude,\\n    <br>\\n    Leadership for Engineers Course Team\\n</p>\\n\",\n",
      "        \"ret_pacing_course_id\": \"course-v1:DelftX+LfE101x+2T2017\",\n",
      "        \"ret_pacing_subject_line\": \"Leadership for Engineers - Welcome to Week 5\",\n",
      "        \"ret_pacing_preview_text\": \"\",\n",
      "        \"ret_pacing_from_name\": \"Leadership for Engineers\"\n",
      "    },\n",
      "    \"nasthagiri@edx.org\": {\n",
      "        \"ret_pacing_body\": \"<p>\\n    Dear Nimisha Asthagiri,\\n</p>\\n<br>\\n<p>\\n    Welcome to week 5 of our Leadership for Engineers course!  We hope you are enjoying learning with\\n    us so far. If you have fallen behind, don't worry. You can still catch up.\\n</p>\\n<br>\\n<p>\\n    Here is what you can look forward to learning this week:\\n    <ul class=\\\"ret-pacing-weekly-content\\\" data-week-number=\\\"4\\\">\\n  <li>Working on a framework for your career</li>\\n  <li>Why asking for support is essential</li>\\n  <li>Defining your search strategy</li>\\n</ul>\\n</p>\\n<br>\\n<p>\\n    Your focused attention to the course will pay off in the end.  Keep up\\n    the good work!\\n</p>\\n<br>\\n<p>\\n    With Gratitude,\\n    <br>\\n    Leadership for Engineers Course Team\\n</p>\\n\",\n",
      "        \"ret_pacing_course_id\": \"course-v1:DelftX+LfE101x+2T2017\",\n",
      "        \"ret_pacing_subject_line\": \"Leadership for Engineers - Welcome to Week 5\",\n",
      "        \"ret_pacing_preview_text\": \"\",\n",
      "        \"ret_pacing_from_name\": \"Leadership for Engineers\"\n",
      "    },\n",
      "    \"aboehm@edx.org\": {\n",
      "        \"ret_pacing_body\": \"<p>\\n    Dear Alyssa Boehm,\\n</p>\\n<br>\\n<p>\\n    Welcome to week 5 of our Leadership for Engineers course!  We hope you are enjoying learning with\\n    us so far. If you have fallen behind, don't worry. You can still catch up.\\n</p>\\n<br>\\n<p>\\n    Here is what you can look forward to learning this week:\\n    <ul class=\\\"ret-pacing-weekly-content\\\" data-week-number=\\\"4\\\">\\n  <li>Working on a framework for your career</li>\\n  <li>Why asking for support is essential</li>\\n  <li>Defining your search strategy</li>\\n</ul>\\n</p>\\n<br>\\n<p>\\n    Your focused attention to the course will pay off in the end.  Keep up\\n    the good work!\\n</p>\\n<br>\\n<p>\\n    With Gratitude,\\n    <br>\\n    Leadership for Engineers Course Team\\n</p>\\n\",\n",
      "        \"ret_pacing_course_id\": \"course-v1:DelftX+LfE101x+2T2017\",\n",
      "        \"ret_pacing_subject_line\": \"Leadership for Engineers - Welcome to Week 5\",\n",
      "        \"ret_pacing_preview_text\": \"\",\n",
      "        \"ret_pacing_from_name\": \"Leadership for Engineers\"\n",
      "    },\n",
      "    \"ddomingos@edx.org\": {\n",
      "        \"ret_pacing_body\": \"<p>\\n    Dear Darren Domingos,\\n</p>\\n<br>\\n<p>\\n    Welcome to week 5 of our Leadership for Engineers course!  We hope you are enjoying learning with\\n    us so far. If you have fallen behind, don't worry. You can still catch up.\\n</p>\\n<br>\\n<p>\\n    Here is what you can look forward to learning this week:\\n    <ul class=\\\"ret-pacing-weekly-content\\\" data-week-number=\\\"4\\\">\\n  <li>Working on a framework for your career</li>\\n  <li>Why asking for support is essential</li>\\n  <li>Defining your search strategy</li>\\n</ul>\\n</p>\\n<br>\\n<p>\\n    Your focused attention to the course will pay off in the end.  Keep up\\n    the good work!\\n</p>\\n<br>\\n<p>\\n    With Gratitude,\\n    <br>\\n    Leadership for Engineers Course Team\\n</p>\\n\",\n",
      "        \"ret_pacing_course_id\": \"course-v1:DelftX+LfE101x+2T2017\",\n",
      "        \"ret_pacing_subject_line\": \"Leadership for Engineers - Welcome to Week 5\",\n",
      "        \"ret_pacing_preview_text\": \"\",\n",
      "        \"ret_pacing_from_name\": \"Leadership for Engineers\"\n",
      "    },\n",
      "    \"kwillemin@edx.org\": {\n",
      "        \"ret_pacing_body\": \"<p>\\n    Dear Katy Willemin,\\n</p>\\n<br>\\n<p>\\n    Welcome to week 5 of our Leadership for Engineers course!  We hope you are enjoying learning with\\n    us so far. If you have fallen behind, don't worry. You can still catch up.\\n</p>\\n<br>\\n<p>\\n    Here is what you can look forward to learning this week:\\n    <ul class=\\\"ret-pacing-weekly-content\\\" data-week-number=\\\"4\\\">\\n  <li>Working on a framework for your career</li>\\n  <li>Why asking for support is essential</li>\\n  <li>Defining your search strategy</li>\\n</ul>\\n</p>\\n<br>\\n<p>\\n    Your focused attention to the course will pay off in the end.  Keep up\\n    the good work!\\n</p>\\n<br>\\n<p>\\n    With Gratitude,\\n    <br>\\n    Leadership for Engineers Course Team\\n</p>\\n\",\n",
      "        \"ret_pacing_course_id\": \"course-v1:DelftX+LfE101x+2T2017\",\n",
      "        \"ret_pacing_subject_line\": \"Leadership for Engineers - Welcome to Week 5\",\n",
      "        \"ret_pacing_preview_text\": \"\",\n",
      "        \"ret_pacing_from_name\": \"Leadership for Engineers\"\n",
      "    }\n",
      "}\n",
      "Sending an email [TEST] using the template \"RET Pacing\" to 7 users\n",
      "[\n",
      "    \"gabe@edx.org\",\n",
      "    \"cblackburn@edx.org\",\n",
      "    \"cale@edx.org\",\n",
      "    \"nasthagiri@edx.org\",\n",
      "    \"aboehm@edx.org\",\n",
      "    \"ddomingos@edx.org\",\n",
      "    \"kwillemin@edx.org\"\n",
      "]\n",
      "{\n",
      "    \"gabe@edx.org\": {\n",
      "        \"ret_pacing_body\": \"<p>\\n    Dear Gabe Mulley,\\n</p>\\n<br>\\n<p>\\n    Welcome to week 5 of our Accounting for Decision-Making course!  We hope you are enjoying learning with\\n    us so far. If you have fallen behind, don't worry. You can still catch up.\\n</p>\\n<br>\\n<p>\\n    Here is what you can look forward to learning this week:\\n    <ul class=\\\"ret-pacing-weekly-content\\\" data-week-number=\\\"4\\\">\\n  <li>Absorption costing vs Marginal costing, how it will influence decision making</li>\\n  <li>How to compute break-even point for multi product firm</li>\\n  <li>Optimal product mix and optimal resource allocation are the key things to maximize profit</li>\\n</ul>\\n</p>\\n<br>\\n<p>\\n    Your focused attention to the course will pay off in the end.  Keep up\\n    the good work!\\n</p>\\n<br>\\n<p>\\n    With Gratitude,\\n    <br>\\n    Accounting for Decision-Making Course Team\\n</p>\\n\",\n",
      "        \"ret_pacing_course_id\": \"course-v1:IIMBx+AC103x+2T2017\",\n",
      "        \"ret_pacing_subject_line\": \"Accounting for Decision-Making - Welcome to Week 5\",\n",
      "        \"ret_pacing_preview_text\": \"\",\n",
      "        \"ret_pacing_from_name\": \"Accounting for Decision-Making\"\n",
      "    },\n",
      "    \"cblackburn@edx.org\": {\n",
      "        \"ret_pacing_body\": \"<p>\\n    Dear Clinton Blackburn,\\n</p>\\n<br>\\n<p>\\n    Welcome to week 5 of our Accounting for Decision-Making course!  We hope you are enjoying learning with\\n    us so far. If you have fallen behind, don't worry. You can still catch up.\\n</p>\\n<br>\\n<p>\\n    Here is what you can look forward to learning this week:\\n    <ul class=\\\"ret-pacing-weekly-content\\\" data-week-number=\\\"4\\\">\\n  <li>Absorption costing vs Marginal costing, how it will influence decision making</li>\\n  <li>How to compute break-even point for multi product firm</li>\\n  <li>Optimal product mix and optimal resource allocation are the key things to maximize profit</li>\\n</ul>\\n</p>\\n<br>\\n<p>\\n    Your focused attention to the course will pay off in the end.  Keep up\\n    the good work!\\n</p>\\n<br>\\n<p>\\n    With Gratitude,\\n    <br>\\n    Accounting for Decision-Making Course Team\\n</p>\\n\",\n",
      "        \"ret_pacing_course_id\": \"course-v1:IIMBx+AC103x+2T2017\",\n",
      "        \"ret_pacing_subject_line\": \"Accounting for Decision-Making - Welcome to Week 5\",\n",
      "        \"ret_pacing_preview_text\": \"\",\n",
      "        \"ret_pacing_from_name\": \"Accounting for Decision-Making\"\n",
      "    },\n",
      "    \"cale@edx.org\": {\n",
      "        \"ret_pacing_body\": \"<p>\\n    Dear Calen Pennington,\\n</p>\\n<br>\\n<p>\\n    Welcome to week 5 of our Accounting for Decision-Making course!  We hope you are enjoying learning with\\n    us so far. If you have fallen behind, don't worry. You can still catch up.\\n</p>\\n<br>\\n<p>\\n    Here is what you can look forward to learning this week:\\n    <ul class=\\\"ret-pacing-weekly-content\\\" data-week-number=\\\"4\\\">\\n  <li>Absorption costing vs Marginal costing, how it will influence decision making</li>\\n  <li>How to compute break-even point for multi product firm</li>\\n  <li>Optimal product mix and optimal resource allocation are the key things to maximize profit</li>\\n</ul>\\n</p>\\n<br>\\n<p>\\n    Your focused attention to the course will pay off in the end.  Keep up\\n    the good work!\\n</p>\\n<br>\\n<p>\\n    With Gratitude,\\n    <br>\\n    Accounting for Decision-Making Course Team\\n</p>\\n\",\n",
      "        \"ret_pacing_course_id\": \"course-v1:IIMBx+AC103x+2T2017\",\n",
      "        \"ret_pacing_subject_line\": \"Accounting for Decision-Making - Welcome to Week 5\",\n",
      "        \"ret_pacing_preview_text\": \"\",\n",
      "        \"ret_pacing_from_name\": \"Accounting for Decision-Making\"\n",
      "    },\n",
      "    \"nasthagiri@edx.org\": {\n",
      "        \"ret_pacing_body\": \"<p>\\n    Dear Nimisha Asthagiri,\\n</p>\\n<br>\\n<p>\\n    Welcome to week 5 of our Accounting for Decision-Making course!  We hope you are enjoying learning with\\n    us so far. If you have fallen behind, don't worry. You can still catch up.\\n</p>\\n<br>\\n<p>\\n    Here is what you can look forward to learning this week:\\n    <ul class=\\\"ret-pacing-weekly-content\\\" data-week-number=\\\"4\\\">\\n  <li>Absorption costing vs Marginal costing, how it will influence decision making</li>\\n  <li>How to compute break-even point for multi product firm</li>\\n  <li>Optimal product mix and optimal resource allocation are the key things to maximize profit</li>\\n</ul>\\n</p>\\n<br>\\n<p>\\n    Your focused attention to the course will pay off in the end.  Keep up\\n    the good work!\\n</p>\\n<br>\\n<p>\\n    With Gratitude,\\n    <br>\\n    Accounting for Decision-Making Course Team\\n</p>\\n\",\n",
      "        \"ret_pacing_course_id\": \"course-v1:IIMBx+AC103x+2T2017\",\n",
      "        \"ret_pacing_subject_line\": \"Accounting for Decision-Making - Welcome to Week 5\",\n",
      "        \"ret_pacing_preview_text\": \"\",\n",
      "        \"ret_pacing_from_name\": \"Accounting for Decision-Making\"\n",
      "    },\n",
      "    \"aboehm@edx.org\": {\n",
      "        \"ret_pacing_body\": \"<p>\\n    Dear Alyssa Boehm,\\n</p>\\n<br>\\n<p>\\n    Welcome to week 5 of our Accounting for Decision-Making course!  We hope you are enjoying learning with\\n    us so far. If you have fallen behind, don't worry. You can still catch up.\\n</p>\\n<br>\\n<p>\\n    Here is what you can look forward to learning this week:\\n    <ul class=\\\"ret-pacing-weekly-content\\\" data-week-number=\\\"4\\\">\\n  <li>Absorption costing vs Marginal costing, how it will influence decision making</li>\\n  <li>How to compute break-even point for multi product firm</li>\\n  <li>Optimal product mix and optimal resource allocation are the key things to maximize profit</li>\\n</ul>\\n</p>\\n<br>\\n<p>\\n    Your focused attention to the course will pay off in the end.  Keep up\\n    the good work!\\n</p>\\n<br>\\n<p>\\n    With Gratitude,\\n    <br>\\n    Accounting for Decision-Making Course Team\\n</p>\\n\",\n",
      "        \"ret_pacing_course_id\": \"course-v1:IIMBx+AC103x+2T2017\",\n",
      "        \"ret_pacing_subject_line\": \"Accounting for Decision-Making - Welcome to Week 5\",\n",
      "        \"ret_pacing_preview_text\": \"\",\n",
      "        \"ret_pacing_from_name\": \"Accounting for Decision-Making\"\n",
      "    },\n",
      "    \"ddomingos@edx.org\": {\n",
      "        \"ret_pacing_body\": \"<p>\\n    Dear Darren Domingos,\\n</p>\\n<br>\\n<p>\\n    Welcome to week 5 of our Accounting for Decision-Making course!  We hope you are enjoying learning with\\n    us so far. If you have fallen behind, don't worry. You can still catch up.\\n</p>\\n<br>\\n<p>\\n    Here is what you can look forward to learning this week:\\n    <ul class=\\\"ret-pacing-weekly-content\\\" data-week-number=\\\"4\\\">\\n  <li>Absorption costing vs Marginal costing, how it will influence decision making</li>\\n  <li>How to compute break-even point for multi product firm</li>\\n  <li>Optimal product mix and optimal resource allocation are the key things to maximize profit</li>\\n</ul>\\n</p>\\n<br>\\n<p>\\n    Your focused attention to the course will pay off in the end.  Keep up\\n    the good work!\\n</p>\\n<br>\\n<p>\\n    With Gratitude,\\n    <br>\\n    Accounting for Decision-Making Course Team\\n</p>\\n\",\n",
      "        \"ret_pacing_course_id\": \"course-v1:IIMBx+AC103x+2T2017\",\n",
      "        \"ret_pacing_subject_line\": \"Accounting for Decision-Making - Welcome to Week 5\",\n",
      "        \"ret_pacing_preview_text\": \"\",\n",
      "        \"ret_pacing_from_name\": \"Accounting for Decision-Making\"\n",
      "    },\n",
      "    \"kwillemin@edx.org\": {\n",
      "        \"ret_pacing_body\": \"<p>\\n    Dear Katy Willemin,\\n</p>\\n<br>\\n<p>\\n    Welcome to week 5 of our Accounting for Decision-Making course!  We hope you are enjoying learning with\\n    us so far. If you have fallen behind, don't worry. You can still catch up.\\n</p>\\n<br>\\n<p>\\n    Here is what you can look forward to learning this week:\\n    <ul class=\\\"ret-pacing-weekly-content\\\" data-week-number=\\\"4\\\">\\n  <li>Absorption costing vs Marginal costing, how it will influence decision making</li>\\n  <li>How to compute break-even point for multi product firm</li>\\n  <li>Optimal product mix and optimal resource allocation are the key things to maximize profit</li>\\n</ul>\\n</p>\\n<br>\\n<p>\\n    Your focused attention to the course will pay off in the end.  Keep up\\n    the good work!\\n</p>\\n<br>\\n<p>\\n    With Gratitude,\\n    <br>\\n    Accounting for Decision-Making Course Team\\n</p>\\n\",\n",
      "        \"ret_pacing_course_id\": \"course-v1:IIMBx+AC103x+2T2017\",\n",
      "        \"ret_pacing_subject_line\": \"Accounting for Decision-Making - Welcome to Week 5\",\n",
      "        \"ret_pacing_preview_text\": \"\",\n",
      "        \"ret_pacing_from_name\": \"Accounting for Decision-Making\"\n",
      "    }\n",
      "}\n"
     ]
    },
    {
     "name": "stdout",
     "output_type": "stream",
     "text": [
      "Sending an email [TEST] using the template \"RET Pacing\" to 7 users\n",
      "[\n",
      "    \"gabe@edx.org\",\n",
      "    \"cblackburn@edx.org\",\n",
      "    \"cale@edx.org\",\n",
      "    \"nasthagiri@edx.org\",\n",
      "    \"aboehm@edx.org\",\n",
      "    \"ddomingos@edx.org\",\n",
      "    \"kwillemin@edx.org\"\n",
      "]\n",
      "{\n",
      "    \"gabe@edx.org\": {\n",
      "        \"ret_pacing_body\": \"<p>\\n    Dear Gabe Mulley,\\n</p>\\n<br>\\n<p>\\n    Welcome to week 5 of our Introduction to User Experience course!  We hope you are enjoying learning with\\n    us so far. If you have fallen behind, don't worry. You can still catch up.\\n</p>\\n<br>\\n<p>\\n    Here is what you can look forward to learning this week:\\n    <ul class=\\\"ret-pacing-weekly-content\\\" data-week-number=\\\"4\\\">\\n  <li>How UX Design operates in the business world through an interview with a current UX Designer.</li>\\n  <li>An (incomplete) history of UX and its rise with the era of personal computing.</li>\\n  <li>You will practice the UX Design process by iterating on earlier sketch solutions.</li>\\n</ul>\\n</p>\\n<br>\\n<p>\\n    Your focused attention to the course will pay off in the end.  Keep up\\n    the good work!\\n</p>\\n<br>\\n<p>\\n    With Gratitude,\\n    <br>\\n    Introduction to User Experience Course Team\\n</p>\\n\",\n",
      "        \"ret_pacing_course_id\": \"course-v1:MichiganX+UX501x+3T2016\",\n",
      "        \"ret_pacing_subject_line\": \"Introduction to User Experience - Welcome to Week 5\",\n",
      "        \"ret_pacing_preview_text\": \"\",\n",
      "        \"ret_pacing_from_name\": \"Introduction to User Experience\"\n",
      "    },\n",
      "    \"cblackburn@edx.org\": {\n",
      "        \"ret_pacing_body\": \"<p>\\n    Dear Clinton Blackburn,\\n</p>\\n<br>\\n<p>\\n    Welcome to week 5 of our Introduction to User Experience course!  We hope you are enjoying learning with\\n    us so far. If you have fallen behind, don't worry. You can still catch up.\\n</p>\\n<br>\\n<p>\\n    Here is what you can look forward to learning this week:\\n    <ul class=\\\"ret-pacing-weekly-content\\\" data-week-number=\\\"4\\\">\\n  <li>How UX Design operates in the business world through an interview with a current UX Designer.</li>\\n  <li>An (incomplete) history of UX and its rise with the era of personal computing.</li>\\n  <li>You will practice the UX Design process by iterating on earlier sketch solutions.</li>\\n</ul>\\n</p>\\n<br>\\n<p>\\n    Your focused attention to the course will pay off in the end.  Keep up\\n    the good work!\\n</p>\\n<br>\\n<p>\\n    With Gratitude,\\n    <br>\\n    Introduction to User Experience Course Team\\n</p>\\n\",\n",
      "        \"ret_pacing_course_id\": \"course-v1:MichiganX+UX501x+3T2016\",\n",
      "        \"ret_pacing_subject_line\": \"Introduction to User Experience - Welcome to Week 5\",\n",
      "        \"ret_pacing_preview_text\": \"\",\n",
      "        \"ret_pacing_from_name\": \"Introduction to User Experience\"\n",
      "    },\n",
      "    \"cale@edx.org\": {\n",
      "        \"ret_pacing_body\": \"<p>\\n    Dear Calen Pennington,\\n</p>\\n<br>\\n<p>\\n    Welcome to week 5 of our Introduction to User Experience course!  We hope you are enjoying learning with\\n    us so far. If you have fallen behind, don't worry. You can still catch up.\\n</p>\\n<br>\\n<p>\\n    Here is what you can look forward to learning this week:\\n    <ul class=\\\"ret-pacing-weekly-content\\\" data-week-number=\\\"4\\\">\\n  <li>How UX Design operates in the business world through an interview with a current UX Designer.</li>\\n  <li>An (incomplete) history of UX and its rise with the era of personal computing.</li>\\n  <li>You will practice the UX Design process by iterating on earlier sketch solutions.</li>\\n</ul>\\n</p>\\n<br>\\n<p>\\n    Your focused attention to the course will pay off in the end.  Keep up\\n    the good work!\\n</p>\\n<br>\\n<p>\\n    With Gratitude,\\n    <br>\\n    Introduction to User Experience Course Team\\n</p>\\n\",\n",
      "        \"ret_pacing_course_id\": \"course-v1:MichiganX+UX501x+3T2016\",\n",
      "        \"ret_pacing_subject_line\": \"Introduction to User Experience - Welcome to Week 5\",\n",
      "        \"ret_pacing_preview_text\": \"\",\n",
      "        \"ret_pacing_from_name\": \"Introduction to User Experience\"\n",
      "    },\n",
      "    \"nasthagiri@edx.org\": {\n",
      "        \"ret_pacing_body\": \"<p>\\n    Dear Nimisha Asthagiri,\\n</p>\\n<br>\\n<p>\\n    Welcome to week 5 of our Introduction to User Experience course!  We hope you are enjoying learning with\\n    us so far. If you have fallen behind, don't worry. You can still catch up.\\n</p>\\n<br>\\n<p>\\n    Here is what you can look forward to learning this week:\\n    <ul class=\\\"ret-pacing-weekly-content\\\" data-week-number=\\\"4\\\">\\n  <li>How UX Design operates in the business world through an interview with a current UX Designer.</li>\\n  <li>An (incomplete) history of UX and its rise with the era of personal computing.</li>\\n  <li>You will practice the UX Design process by iterating on earlier sketch solutions.</li>\\n</ul>\\n</p>\\n<br>\\n<p>\\n    Your focused attention to the course will pay off in the end.  Keep up\\n    the good work!\\n</p>\\n<br>\\n<p>\\n    With Gratitude,\\n    <br>\\n    Introduction to User Experience Course Team\\n</p>\\n\",\n",
      "        \"ret_pacing_course_id\": \"course-v1:MichiganX+UX501x+3T2016\",\n",
      "        \"ret_pacing_subject_line\": \"Introduction to User Experience - Welcome to Week 5\",\n",
      "        \"ret_pacing_preview_text\": \"\",\n",
      "        \"ret_pacing_from_name\": \"Introduction to User Experience\"\n",
      "    },\n",
      "    \"aboehm@edx.org\": {\n",
      "        \"ret_pacing_body\": \"<p>\\n    Dear Alyssa Boehm,\\n</p>\\n<br>\\n<p>\\n    Welcome to week 5 of our Introduction to User Experience course!  We hope you are enjoying learning with\\n    us so far. If you have fallen behind, don't worry. You can still catch up.\\n</p>\\n<br>\\n<p>\\n    Here is what you can look forward to learning this week:\\n    <ul class=\\\"ret-pacing-weekly-content\\\" data-week-number=\\\"4\\\">\\n  <li>How UX Design operates in the business world through an interview with a current UX Designer.</li>\\n  <li>An (incomplete) history of UX and its rise with the era of personal computing.</li>\\n  <li>You will practice the UX Design process by iterating on earlier sketch solutions.</li>\\n</ul>\\n</p>\\n<br>\\n<p>\\n    Your focused attention to the course will pay off in the end.  Keep up\\n    the good work!\\n</p>\\n<br>\\n<p>\\n    With Gratitude,\\n    <br>\\n    Introduction to User Experience Course Team\\n</p>\\n\",\n",
      "        \"ret_pacing_course_id\": \"course-v1:MichiganX+UX501x+3T2016\",\n",
      "        \"ret_pacing_subject_line\": \"Introduction to User Experience - Welcome to Week 5\",\n",
      "        \"ret_pacing_preview_text\": \"\",\n",
      "        \"ret_pacing_from_name\": \"Introduction to User Experience\"\n",
      "    },\n",
      "    \"ddomingos@edx.org\": {\n",
      "        \"ret_pacing_body\": \"<p>\\n    Dear Darren Domingos,\\n</p>\\n<br>\\n<p>\\n    Welcome to week 5 of our Introduction to User Experience course!  We hope you are enjoying learning with\\n    us so far. If you have fallen behind, don't worry. You can still catch up.\\n</p>\\n<br>\\n<p>\\n    Here is what you can look forward to learning this week:\\n    <ul class=\\\"ret-pacing-weekly-content\\\" data-week-number=\\\"4\\\">\\n  <li>How UX Design operates in the business world through an interview with a current UX Designer.</li>\\n  <li>An (incomplete) history of UX and its rise with the era of personal computing.</li>\\n  <li>You will practice the UX Design process by iterating on earlier sketch solutions.</li>\\n</ul>\\n</p>\\n<br>\\n<p>\\n    Your focused attention to the course will pay off in the end.  Keep up\\n    the good work!\\n</p>\\n<br>\\n<p>\\n    With Gratitude,\\n    <br>\\n    Introduction to User Experience Course Team\\n</p>\\n\",\n",
      "        \"ret_pacing_course_id\": \"course-v1:MichiganX+UX501x+3T2016\",\n",
      "        \"ret_pacing_subject_line\": \"Introduction to User Experience - Welcome to Week 5\",\n",
      "        \"ret_pacing_preview_text\": \"\",\n",
      "        \"ret_pacing_from_name\": \"Introduction to User Experience\"\n",
      "    },\n",
      "    \"kwillemin@edx.org\": {\n",
      "        \"ret_pacing_body\": \"<p>\\n    Dear Katy Willemin,\\n</p>\\n<br>\\n<p>\\n    Welcome to week 5 of our Introduction to User Experience course!  We hope you are enjoying learning with\\n    us so far. If you have fallen behind, don't worry. You can still catch up.\\n</p>\\n<br>\\n<p>\\n    Here is what you can look forward to learning this week:\\n    <ul class=\\\"ret-pacing-weekly-content\\\" data-week-number=\\\"4\\\">\\n  <li>How UX Design operates in the business world through an interview with a current UX Designer.</li>\\n  <li>An (incomplete) history of UX and its rise with the era of personal computing.</li>\\n  <li>You will practice the UX Design process by iterating on earlier sketch solutions.</li>\\n</ul>\\n</p>\\n<br>\\n<p>\\n    Your focused attention to the course will pay off in the end.  Keep up\\n    the good work!\\n</p>\\n<br>\\n<p>\\n    With Gratitude,\\n    <br>\\n    Introduction to User Experience Course Team\\n</p>\\n\",\n",
      "        \"ret_pacing_course_id\": \"course-v1:MichiganX+UX501x+3T2016\",\n",
      "        \"ret_pacing_subject_line\": \"Introduction to User Experience - Welcome to Week 5\",\n",
      "        \"ret_pacing_preview_text\": \"\",\n",
      "        \"ret_pacing_from_name\": \"Introduction to User Experience\"\n",
      "    }\n",
      "}\n",
      "Sending an email [TEST] using the template \"RET Pacing\" to 7 users\n",
      "[\n",
      "    \"gabe@edx.org\",\n",
      "    \"cblackburn@edx.org\",\n",
      "    \"cale@edx.org\",\n",
      "    \"nasthagiri@edx.org\",\n",
      "    \"aboehm@edx.org\",\n",
      "    \"ddomingos@edx.org\",\n",
      "    \"kwillemin@edx.org\"\n",
      "]\n",
      "{\n",
      "    \"gabe@edx.org\": {\n",
      "        \"ret_pacing_body\": \"<p>\\n    Dear Gabe Mulley,\\n</p>\\n<br>\\n<p>\\n    Welcome to week 5 of our Introduction to Marketing course!  We hope you are enjoying learning with\\n    us so far. If you have fallen behind, don't worry. You can still catch up.\\n</p>\\n<br>\\n<p>\\n    Here is what you can look forward to learning this week:\\n    <ul class=\\\"ret-pacing-weekly-content\\\" data-week-number=\\\"4\\\">\\n  <li>You will be looking at distribution from a marketing perspective, with a particular focus on how the Internet has disrupted traditional notions of distribution, and has changed the way we think about how products get to consumers.</li>\\n  <li>You will learn about a few different distribution strategies, and factors to consider when making decisions about distribution.</li>\\n  <li>You will learn about Integrated Marketing Communications (IMC), different communication options that are available to you, how to go about understanding how your brand is perceived, and what approaches you should use in communicating with your consumer.</li>\\n</ul>\\n</p>\\n<br>\\n<p>\\n    Your focused attention to the course will pay off in the end.  Keep up\\n    the good work!\\n</p>\\n<br>\\n<p>\\n    With Gratitude,\\n    <br>\\n    Introduction to Marketing Course Team\\n</p>\\n\",\n",
      "        \"ret_pacing_course_id\": \"course-v1:UBCx+Marketing1x+3T2015\",\n",
      "        \"ret_pacing_subject_line\": \"Introduction to Marketing - Welcome to Week 5\",\n",
      "        \"ret_pacing_preview_text\": \"\",\n",
      "        \"ret_pacing_from_name\": \"Introduction to Marketing\"\n",
      "    },\n",
      "    \"cblackburn@edx.org\": {\n",
      "        \"ret_pacing_body\": \"<p>\\n    Dear Clinton Blackburn,\\n</p>\\n<br>\\n<p>\\n    Welcome to week 5 of our Introduction to Marketing course!  We hope you are enjoying learning with\\n    us so far. If you have fallen behind, don't worry. You can still catch up.\\n</p>\\n<br>\\n<p>\\n    Here is what you can look forward to learning this week:\\n    <ul class=\\\"ret-pacing-weekly-content\\\" data-week-number=\\\"4\\\">\\n  <li>You will be looking at distribution from a marketing perspective, with a particular focus on how the Internet has disrupted traditional notions of distribution, and has changed the way we think about how products get to consumers.</li>\\n  <li>You will learn about a few different distribution strategies, and factors to consider when making decisions about distribution.</li>\\n  <li>You will learn about Integrated Marketing Communications (IMC), different communication options that are available to you, how to go about understanding how your brand is perceived, and what approaches you should use in communicating with your consumer.</li>\\n</ul>\\n</p>\\n<br>\\n<p>\\n    Your focused attention to the course will pay off in the end.  Keep up\\n    the good work!\\n</p>\\n<br>\\n<p>\\n    With Gratitude,\\n    <br>\\n    Introduction to Marketing Course Team\\n</p>\\n\",\n",
      "        \"ret_pacing_course_id\": \"course-v1:UBCx+Marketing1x+3T2015\",\n",
      "        \"ret_pacing_subject_line\": \"Introduction to Marketing - Welcome to Week 5\",\n",
      "        \"ret_pacing_preview_text\": \"\",\n",
      "        \"ret_pacing_from_name\": \"Introduction to Marketing\"\n",
      "    },\n",
      "    \"cale@edx.org\": {\n",
      "        \"ret_pacing_body\": \"<p>\\n    Dear Calen Pennington,\\n</p>\\n<br>\\n<p>\\n    Welcome to week 5 of our Introduction to Marketing course!  We hope you are enjoying learning with\\n    us so far. If you have fallen behind, don't worry. You can still catch up.\\n</p>\\n<br>\\n<p>\\n    Here is what you can look forward to learning this week:\\n    <ul class=\\\"ret-pacing-weekly-content\\\" data-week-number=\\\"4\\\">\\n  <li>You will be looking at distribution from a marketing perspective, with a particular focus on how the Internet has disrupted traditional notions of distribution, and has changed the way we think about how products get to consumers.</li>\\n  <li>You will learn about a few different distribution strategies, and factors to consider when making decisions about distribution.</li>\\n  <li>You will learn about Integrated Marketing Communications (IMC), different communication options that are available to you, how to go about understanding how your brand is perceived, and what approaches you should use in communicating with your consumer.</li>\\n</ul>\\n</p>\\n<br>\\n<p>\\n    Your focused attention to the course will pay off in the end.  Keep up\\n    the good work!\\n</p>\\n<br>\\n<p>\\n    With Gratitude,\\n    <br>\\n    Introduction to Marketing Course Team\\n</p>\\n\",\n",
      "        \"ret_pacing_course_id\": \"course-v1:UBCx+Marketing1x+3T2015\",\n",
      "        \"ret_pacing_subject_line\": \"Introduction to Marketing - Welcome to Week 5\",\n",
      "        \"ret_pacing_preview_text\": \"\",\n",
      "        \"ret_pacing_from_name\": \"Introduction to Marketing\"\n",
      "    },\n",
      "    \"nasthagiri@edx.org\": {\n",
      "        \"ret_pacing_body\": \"<p>\\n    Dear Nimisha Asthagiri,\\n</p>\\n<br>\\n<p>\\n    Welcome to week 5 of our Introduction to Marketing course!  We hope you are enjoying learning with\\n    us so far. If you have fallen behind, don't worry. You can still catch up.\\n</p>\\n<br>\\n<p>\\n    Here is what you can look forward to learning this week:\\n    <ul class=\\\"ret-pacing-weekly-content\\\" data-week-number=\\\"4\\\">\\n  <li>You will be looking at distribution from a marketing perspective, with a particular focus on how the Internet has disrupted traditional notions of distribution, and has changed the way we think about how products get to consumers.</li>\\n  <li>You will learn about a few different distribution strategies, and factors to consider when making decisions about distribution.</li>\\n  <li>You will learn about Integrated Marketing Communications (IMC), different communication options that are available to you, how to go about understanding how your brand is perceived, and what approaches you should use in communicating with your consumer.</li>\\n</ul>\\n</p>\\n<br>\\n<p>\\n    Your focused attention to the course will pay off in the end.  Keep up\\n    the good work!\\n</p>\\n<br>\\n<p>\\n    With Gratitude,\\n    <br>\\n    Introduction to Marketing Course Team\\n</p>\\n\",\n",
      "        \"ret_pacing_course_id\": \"course-v1:UBCx+Marketing1x+3T2015\",\n",
      "        \"ret_pacing_subject_line\": \"Introduction to Marketing - Welcome to Week 5\",\n",
      "        \"ret_pacing_preview_text\": \"\",\n",
      "        \"ret_pacing_from_name\": \"Introduction to Marketing\"\n",
      "    },\n",
      "    \"aboehm@edx.org\": {\n",
      "        \"ret_pacing_body\": \"<p>\\n    Dear Alyssa Boehm,\\n</p>\\n<br>\\n<p>\\n    Welcome to week 5 of our Introduction to Marketing course!  We hope you are enjoying learning with\\n    us so far. If you have fallen behind, don't worry. You can still catch up.\\n</p>\\n<br>\\n<p>\\n    Here is what you can look forward to learning this week:\\n    <ul class=\\\"ret-pacing-weekly-content\\\" data-week-number=\\\"4\\\">\\n  <li>You will be looking at distribution from a marketing perspective, with a particular focus on how the Internet has disrupted traditional notions of distribution, and has changed the way we think about how products get to consumers.</li>\\n  <li>You will learn about a few different distribution strategies, and factors to consider when making decisions about distribution.</li>\\n  <li>You will learn about Integrated Marketing Communications (IMC), different communication options that are available to you, how to go about understanding how your brand is perceived, and what approaches you should use in communicating with your consumer.</li>\\n</ul>\\n</p>\\n<br>\\n<p>\\n    Your focused attention to the course will pay off in the end.  Keep up\\n    the good work!\\n</p>\\n<br>\\n<p>\\n    With Gratitude,\\n    <br>\\n    Introduction to Marketing Course Team\\n</p>\\n\",\n",
      "        \"ret_pacing_course_id\": \"course-v1:UBCx+Marketing1x+3T2015\",\n",
      "        \"ret_pacing_subject_line\": \"Introduction to Marketing - Welcome to Week 5\",\n",
      "        \"ret_pacing_preview_text\": \"\",\n",
      "        \"ret_pacing_from_name\": \"Introduction to Marketing\"\n",
      "    },\n",
      "    \"ddomingos@edx.org\": {\n",
      "        \"ret_pacing_body\": \"<p>\\n    Dear Darren Domingos,\\n</p>\\n<br>\\n<p>\\n    Welcome to week 5 of our Introduction to Marketing course!  We hope you are enjoying learning with\\n    us so far. If you have fallen behind, don't worry. You can still catch up.\\n</p>\\n<br>\\n<p>\\n    Here is what you can look forward to learning this week:\\n    <ul class=\\\"ret-pacing-weekly-content\\\" data-week-number=\\\"4\\\">\\n  <li>You will be looking at distribution from a marketing perspective, with a particular focus on how the Internet has disrupted traditional notions of distribution, and has changed the way we think about how products get to consumers.</li>\\n  <li>You will learn about a few different distribution strategies, and factors to consider when making decisions about distribution.</li>\\n  <li>You will learn about Integrated Marketing Communications (IMC), different communication options that are available to you, how to go about understanding how your brand is perceived, and what approaches you should use in communicating with your consumer.</li>\\n</ul>\\n</p>\\n<br>\\n<p>\\n    Your focused attention to the course will pay off in the end.  Keep up\\n    the good work!\\n</p>\\n<br>\\n<p>\\n    With Gratitude,\\n    <br>\\n    Introduction to Marketing Course Team\\n</p>\\n\",\n",
      "        \"ret_pacing_course_id\": \"course-v1:UBCx+Marketing1x+3T2015\",\n",
      "        \"ret_pacing_subject_line\": \"Introduction to Marketing - Welcome to Week 5\",\n",
      "        \"ret_pacing_preview_text\": \"\",\n",
      "        \"ret_pacing_from_name\": \"Introduction to Marketing\"\n",
      "    },\n",
      "    \"kwillemin@edx.org\": {\n",
      "        \"ret_pacing_body\": \"<p>\\n    Dear Katy Willemin,\\n</p>\\n<br>\\n<p>\\n    Welcome to week 5 of our Introduction to Marketing course!  We hope you are enjoying learning with\\n    us so far. If you have fallen behind, don't worry. You can still catch up.\\n</p>\\n<br>\\n<p>\\n    Here is what you can look forward to learning this week:\\n    <ul class=\\\"ret-pacing-weekly-content\\\" data-week-number=\\\"4\\\">\\n  <li>You will be looking at distribution from a marketing perspective, with a particular focus on how the Internet has disrupted traditional notions of distribution, and has changed the way we think about how products get to consumers.</li>\\n  <li>You will learn about a few different distribution strategies, and factors to consider when making decisions about distribution.</li>\\n  <li>You will learn about Integrated Marketing Communications (IMC), different communication options that are available to you, how to go about understanding how your brand is perceived, and what approaches you should use in communicating with your consumer.</li>\\n</ul>\\n</p>\\n<br>\\n<p>\\n    Your focused attention to the course will pay off in the end.  Keep up\\n    the good work!\\n</p>\\n<br>\\n<p>\\n    With Gratitude,\\n    <br>\\n    Introduction to Marketing Course Team\\n</p>\\n\",\n",
      "        \"ret_pacing_course_id\": \"course-v1:UBCx+Marketing1x+3T2015\",\n",
      "        \"ret_pacing_subject_line\": \"Introduction to Marketing - Welcome to Week 5\",\n",
      "        \"ret_pacing_preview_text\": \"\",\n",
      "        \"ret_pacing_from_name\": \"Introduction to Marketing\"\n",
      "    }\n",
      "}\n"
     ]
    },
    {
     "name": "stdout",
     "output_type": "stream",
     "text": [
      "Sending an email [TEST] using the template \"RET Pacing\" to 7 users\n",
      "[\n",
      "    \"gabe@edx.org\",\n",
      "    \"cblackburn@edx.org\",\n",
      "    \"cale@edx.org\",\n",
      "    \"nasthagiri@edx.org\",\n",
      "    \"aboehm@edx.org\",\n",
      "    \"ddomingos@edx.org\",\n",
      "    \"kwillemin@edx.org\"\n",
      "]\n",
      "{\n",
      "    \"gabe@edx.org\": {\n",
      "        \"ret_pacing_body\": \"<p>\\n    Dear Gabe Mulley,\\n</p>\\n<br>\\n<p>\\n    Welcome to week 6 of our Introduction to Project Management course!  We hope you are enjoying learning with\\n    us so far. If you have fallen behind, don't worry. You can still catch up.\\n</p>\\n<br>\\n<p>\\n    Here is what you can look forward to learning this week:\\n    <ul class=\\\"ret-pacing-weekly-content\\\" data-week-number=\\\"5\\\">\\n  <li>It's time for project closure and handover</li>\\n  <li>Learn the importance of measuring success and how to evaluate your project</li>\\n  <li>Find out about the key steps you need to take as part of your project closure</li>\\n</ul>\\n</p>\\n<br>\\n<p>\\n    Your focused attention to the course will pay off in the end.  Keep up\\n    the good work!\\n</p>\\n<br>\\n<p>\\n    With Gratitude,\\n    <br>\\n    Introduction to Project Management Course Team\\n</p>\\n\",\n",
      "        \"ret_pacing_course_id\": \"course-v1:AdelaideX+Project101x+1T2017\",\n",
      "        \"ret_pacing_subject_line\": \"Introduction to Project Management - Welcome to Week 6\",\n",
      "        \"ret_pacing_preview_text\": \"\",\n",
      "        \"ret_pacing_from_name\": \"Introduction to Project Management\"\n",
      "    },\n",
      "    \"cblackburn@edx.org\": {\n",
      "        \"ret_pacing_body\": \"<p>\\n    Dear Clinton Blackburn,\\n</p>\\n<br>\\n<p>\\n    Welcome to week 6 of our Introduction to Project Management course!  We hope you are enjoying learning with\\n    us so far. If you have fallen behind, don't worry. You can still catch up.\\n</p>\\n<br>\\n<p>\\n    Here is what you can look forward to learning this week:\\n    <ul class=\\\"ret-pacing-weekly-content\\\" data-week-number=\\\"5\\\">\\n  <li>It's time for project closure and handover</li>\\n  <li>Learn the importance of measuring success and how to evaluate your project</li>\\n  <li>Find out about the key steps you need to take as part of your project closure</li>\\n</ul>\\n</p>\\n<br>\\n<p>\\n    Your focused attention to the course will pay off in the end.  Keep up\\n    the good work!\\n</p>\\n<br>\\n<p>\\n    With Gratitude,\\n    <br>\\n    Introduction to Project Management Course Team\\n</p>\\n\",\n",
      "        \"ret_pacing_course_id\": \"course-v1:AdelaideX+Project101x+1T2017\",\n",
      "        \"ret_pacing_subject_line\": \"Introduction to Project Management - Welcome to Week 6\",\n",
      "        \"ret_pacing_preview_text\": \"\",\n",
      "        \"ret_pacing_from_name\": \"Introduction to Project Management\"\n",
      "    },\n",
      "    \"cale@edx.org\": {\n",
      "        \"ret_pacing_body\": \"<p>\\n    Dear Calen Pennington,\\n</p>\\n<br>\\n<p>\\n    Welcome to week 6 of our Introduction to Project Management course!  We hope you are enjoying learning with\\n    us so far. If you have fallen behind, don't worry. You can still catch up.\\n</p>\\n<br>\\n<p>\\n    Here is what you can look forward to learning this week:\\n    <ul class=\\\"ret-pacing-weekly-content\\\" data-week-number=\\\"5\\\">\\n  <li>It's time for project closure and handover</li>\\n  <li>Learn the importance of measuring success and how to evaluate your project</li>\\n  <li>Find out about the key steps you need to take as part of your project closure</li>\\n</ul>\\n</p>\\n<br>\\n<p>\\n    Your focused attention to the course will pay off in the end.  Keep up\\n    the good work!\\n</p>\\n<br>\\n<p>\\n    With Gratitude,\\n    <br>\\n    Introduction to Project Management Course Team\\n</p>\\n\",\n",
      "        \"ret_pacing_course_id\": \"course-v1:AdelaideX+Project101x+1T2017\",\n",
      "        \"ret_pacing_subject_line\": \"Introduction to Project Management - Welcome to Week 6\",\n",
      "        \"ret_pacing_preview_text\": \"\",\n",
      "        \"ret_pacing_from_name\": \"Introduction to Project Management\"\n",
      "    },\n",
      "    \"nasthagiri@edx.org\": {\n",
      "        \"ret_pacing_body\": \"<p>\\n    Dear Nimisha Asthagiri,\\n</p>\\n<br>\\n<p>\\n    Welcome to week 6 of our Introduction to Project Management course!  We hope you are enjoying learning with\\n    us so far. If you have fallen behind, don't worry. You can still catch up.\\n</p>\\n<br>\\n<p>\\n    Here is what you can look forward to learning this week:\\n    <ul class=\\\"ret-pacing-weekly-content\\\" data-week-number=\\\"5\\\">\\n  <li>It's time for project closure and handover</li>\\n  <li>Learn the importance of measuring success and how to evaluate your project</li>\\n  <li>Find out about the key steps you need to take as part of your project closure</li>\\n</ul>\\n</p>\\n<br>\\n<p>\\n    Your focused attention to the course will pay off in the end.  Keep up\\n    the good work!\\n</p>\\n<br>\\n<p>\\n    With Gratitude,\\n    <br>\\n    Introduction to Project Management Course Team\\n</p>\\n\",\n",
      "        \"ret_pacing_course_id\": \"course-v1:AdelaideX+Project101x+1T2017\",\n",
      "        \"ret_pacing_subject_line\": \"Introduction to Project Management - Welcome to Week 6\",\n",
      "        \"ret_pacing_preview_text\": \"\",\n",
      "        \"ret_pacing_from_name\": \"Introduction to Project Management\"\n",
      "    },\n",
      "    \"aboehm@edx.org\": {\n",
      "        \"ret_pacing_body\": \"<p>\\n    Dear Alyssa Boehm,\\n</p>\\n<br>\\n<p>\\n    Welcome to week 6 of our Introduction to Project Management course!  We hope you are enjoying learning with\\n    us so far. If you have fallen behind, don't worry. You can still catch up.\\n</p>\\n<br>\\n<p>\\n    Here is what you can look forward to learning this week:\\n    <ul class=\\\"ret-pacing-weekly-content\\\" data-week-number=\\\"5\\\">\\n  <li>It's time for project closure and handover</li>\\n  <li>Learn the importance of measuring success and how to evaluate your project</li>\\n  <li>Find out about the key steps you need to take as part of your project closure</li>\\n</ul>\\n</p>\\n<br>\\n<p>\\n    Your focused attention to the course will pay off in the end.  Keep up\\n    the good work!\\n</p>\\n<br>\\n<p>\\n    With Gratitude,\\n    <br>\\n    Introduction to Project Management Course Team\\n</p>\\n\",\n",
      "        \"ret_pacing_course_id\": \"course-v1:AdelaideX+Project101x+1T2017\",\n",
      "        \"ret_pacing_subject_line\": \"Introduction to Project Management - Welcome to Week 6\",\n",
      "        \"ret_pacing_preview_text\": \"\",\n",
      "        \"ret_pacing_from_name\": \"Introduction to Project Management\"\n",
      "    },\n",
      "    \"ddomingos@edx.org\": {\n",
      "        \"ret_pacing_body\": \"<p>\\n    Dear Darren Domingos,\\n</p>\\n<br>\\n<p>\\n    Welcome to week 6 of our Introduction to Project Management course!  We hope you are enjoying learning with\\n    us so far. If you have fallen behind, don't worry. You can still catch up.\\n</p>\\n<br>\\n<p>\\n    Here is what you can look forward to learning this week:\\n    <ul class=\\\"ret-pacing-weekly-content\\\" data-week-number=\\\"5\\\">\\n  <li>It's time for project closure and handover</li>\\n  <li>Learn the importance of measuring success and how to evaluate your project</li>\\n  <li>Find out about the key steps you need to take as part of your project closure</li>\\n</ul>\\n</p>\\n<br>\\n<p>\\n    Your focused attention to the course will pay off in the end.  Keep up\\n    the good work!\\n</p>\\n<br>\\n<p>\\n    With Gratitude,\\n    <br>\\n    Introduction to Project Management Course Team\\n</p>\\n\",\n",
      "        \"ret_pacing_course_id\": \"course-v1:AdelaideX+Project101x+1T2017\",\n",
      "        \"ret_pacing_subject_line\": \"Introduction to Project Management - Welcome to Week 6\",\n",
      "        \"ret_pacing_preview_text\": \"\",\n",
      "        \"ret_pacing_from_name\": \"Introduction to Project Management\"\n",
      "    },\n",
      "    \"kwillemin@edx.org\": {\n",
      "        \"ret_pacing_body\": \"<p>\\n    Dear Katy Willemin,\\n</p>\\n<br>\\n<p>\\n    Welcome to week 6 of our Introduction to Project Management course!  We hope you are enjoying learning with\\n    us so far. If you have fallen behind, don't worry. You can still catch up.\\n</p>\\n<br>\\n<p>\\n    Here is what you can look forward to learning this week:\\n    <ul class=\\\"ret-pacing-weekly-content\\\" data-week-number=\\\"5\\\">\\n  <li>It's time for project closure and handover</li>\\n  <li>Learn the importance of measuring success and how to evaluate your project</li>\\n  <li>Find out about the key steps you need to take as part of your project closure</li>\\n</ul>\\n</p>\\n<br>\\n<p>\\n    Your focused attention to the course will pay off in the end.  Keep up\\n    the good work!\\n</p>\\n<br>\\n<p>\\n    With Gratitude,\\n    <br>\\n    Introduction to Project Management Course Team\\n</p>\\n\",\n",
      "        \"ret_pacing_course_id\": \"course-v1:AdelaideX+Project101x+1T2017\",\n",
      "        \"ret_pacing_subject_line\": \"Introduction to Project Management - Welcome to Week 6\",\n",
      "        \"ret_pacing_preview_text\": \"\",\n",
      "        \"ret_pacing_from_name\": \"Introduction to Project Management\"\n",
      "    }\n",
      "}\n",
      "Sending an email [TEST] using the template \"RET Pacing\" to 7 users\n",
      "[\n",
      "    \"gabe@edx.org\",\n",
      "    \"cblackburn@edx.org\",\n",
      "    \"cale@edx.org\",\n",
      "    \"nasthagiri@edx.org\",\n",
      "    \"aboehm@edx.org\",\n",
      "    \"ddomingos@edx.org\",\n",
      "    \"kwillemin@edx.org\"\n",
      "]\n",
      "{\n",
      "    \"gabe@edx.org\": {\n",
      "        \"ret_pacing_body\": \"<p>\\n    Dear Gabe Mulley,\\n</p>\\n<br>\\n<p>\\n    Welcome to week 6 of our Accounting for Decision-Making course!  We hope you are enjoying learning with\\n    us so far. If you have fallen behind, don't worry. You can still catch up.\\n</p>\\n<br>\\n<p>\\n    Here is what you can look forward to learning this week:\\n    <ul class=\\\"ret-pacing-weekly-content\\\" data-week-number=\\\"5\\\">\\n  <li>How accounting information is used to plan and control the expenses- Budgeting, types of budget and how to prepare a budget (exercise)</li>\\n  <li>Variance analysis explains how to collect actual cost and compare with budgeted cost at macro and micro level.</li>\\n  <li>Types of variance - Fixed, variable, overhead, material mix, sales mix, yield variance.</li>\\n</ul>\\n</p>\\n<br>\\n<p>\\n    Your focused attention to the course will pay off in the end.  Keep up\\n    the good work!\\n</p>\\n<br>\\n<p>\\n    With Gratitude,\\n    <br>\\n    Accounting for Decision-Making Course Team\\n</p>\\n\",\n",
      "        \"ret_pacing_course_id\": \"course-v1:IIMBx+AC103x+2T2017\",\n",
      "        \"ret_pacing_subject_line\": \"Accounting for Decision-Making - Welcome to Week 6\",\n",
      "        \"ret_pacing_preview_text\": \"\",\n",
      "        \"ret_pacing_from_name\": \"Accounting for Decision-Making\"\n",
      "    },\n",
      "    \"cblackburn@edx.org\": {\n",
      "        \"ret_pacing_body\": \"<p>\\n    Dear Clinton Blackburn,\\n</p>\\n<br>\\n<p>\\n    Welcome to week 6 of our Accounting for Decision-Making course!  We hope you are enjoying learning with\\n    us so far. If you have fallen behind, don't worry. You can still catch up.\\n</p>\\n<br>\\n<p>\\n    Here is what you can look forward to learning this week:\\n    <ul class=\\\"ret-pacing-weekly-content\\\" data-week-number=\\\"5\\\">\\n  <li>How accounting information is used to plan and control the expenses- Budgeting, types of budget and how to prepare a budget (exercise)</li>\\n  <li>Variance analysis explains how to collect actual cost and compare with budgeted cost at macro and micro level.</li>\\n  <li>Types of variance - Fixed, variable, overhead, material mix, sales mix, yield variance.</li>\\n</ul>\\n</p>\\n<br>\\n<p>\\n    Your focused attention to the course will pay off in the end.  Keep up\\n    the good work!\\n</p>\\n<br>\\n<p>\\n    With Gratitude,\\n    <br>\\n    Accounting for Decision-Making Course Team\\n</p>\\n\",\n",
      "        \"ret_pacing_course_id\": \"course-v1:IIMBx+AC103x+2T2017\",\n",
      "        \"ret_pacing_subject_line\": \"Accounting for Decision-Making - Welcome to Week 6\",\n",
      "        \"ret_pacing_preview_text\": \"\",\n",
      "        \"ret_pacing_from_name\": \"Accounting for Decision-Making\"\n",
      "    },\n",
      "    \"cale@edx.org\": {\n",
      "        \"ret_pacing_body\": \"<p>\\n    Dear Calen Pennington,\\n</p>\\n<br>\\n<p>\\n    Welcome to week 6 of our Accounting for Decision-Making course!  We hope you are enjoying learning with\\n    us so far. If you have fallen behind, don't worry. You can still catch up.\\n</p>\\n<br>\\n<p>\\n    Here is what you can look forward to learning this week:\\n    <ul class=\\\"ret-pacing-weekly-content\\\" data-week-number=\\\"5\\\">\\n  <li>How accounting information is used to plan and control the expenses- Budgeting, types of budget and how to prepare a budget (exercise)</li>\\n  <li>Variance analysis explains how to collect actual cost and compare with budgeted cost at macro and micro level.</li>\\n  <li>Types of variance - Fixed, variable, overhead, material mix, sales mix, yield variance.</li>\\n</ul>\\n</p>\\n<br>\\n<p>\\n    Your focused attention to the course will pay off in the end.  Keep up\\n    the good work!\\n</p>\\n<br>\\n<p>\\n    With Gratitude,\\n    <br>\\n    Accounting for Decision-Making Course Team\\n</p>\\n\",\n",
      "        \"ret_pacing_course_id\": \"course-v1:IIMBx+AC103x+2T2017\",\n",
      "        \"ret_pacing_subject_line\": \"Accounting for Decision-Making - Welcome to Week 6\",\n",
      "        \"ret_pacing_preview_text\": \"\",\n",
      "        \"ret_pacing_from_name\": \"Accounting for Decision-Making\"\n",
      "    },\n",
      "    \"nasthagiri@edx.org\": {\n",
      "        \"ret_pacing_body\": \"<p>\\n    Dear Nimisha Asthagiri,\\n</p>\\n<br>\\n<p>\\n    Welcome to week 6 of our Accounting for Decision-Making course!  We hope you are enjoying learning with\\n    us so far. If you have fallen behind, don't worry. You can still catch up.\\n</p>\\n<br>\\n<p>\\n    Here is what you can look forward to learning this week:\\n    <ul class=\\\"ret-pacing-weekly-content\\\" data-week-number=\\\"5\\\">\\n  <li>How accounting information is used to plan and control the expenses- Budgeting, types of budget and how to prepare a budget (exercise)</li>\\n  <li>Variance analysis explains how to collect actual cost and compare with budgeted cost at macro and micro level.</li>\\n  <li>Types of variance - Fixed, variable, overhead, material mix, sales mix, yield variance.</li>\\n</ul>\\n</p>\\n<br>\\n<p>\\n    Your focused attention to the course will pay off in the end.  Keep up\\n    the good work!\\n</p>\\n<br>\\n<p>\\n    With Gratitude,\\n    <br>\\n    Accounting for Decision-Making Course Team\\n</p>\\n\",\n",
      "        \"ret_pacing_course_id\": \"course-v1:IIMBx+AC103x+2T2017\",\n",
      "        \"ret_pacing_subject_line\": \"Accounting for Decision-Making - Welcome to Week 6\",\n",
      "        \"ret_pacing_preview_text\": \"\",\n",
      "        \"ret_pacing_from_name\": \"Accounting for Decision-Making\"\n",
      "    },\n",
      "    \"aboehm@edx.org\": {\n",
      "        \"ret_pacing_body\": \"<p>\\n    Dear Alyssa Boehm,\\n</p>\\n<br>\\n<p>\\n    Welcome to week 6 of our Accounting for Decision-Making course!  We hope you are enjoying learning with\\n    us so far. If you have fallen behind, don't worry. You can still catch up.\\n</p>\\n<br>\\n<p>\\n    Here is what you can look forward to learning this week:\\n    <ul class=\\\"ret-pacing-weekly-content\\\" data-week-number=\\\"5\\\">\\n  <li>How accounting information is used to plan and control the expenses- Budgeting, types of budget and how to prepare a budget (exercise)</li>\\n  <li>Variance analysis explains how to collect actual cost and compare with budgeted cost at macro and micro level.</li>\\n  <li>Types of variance - Fixed, variable, overhead, material mix, sales mix, yield variance.</li>\\n</ul>\\n</p>\\n<br>\\n<p>\\n    Your focused attention to the course will pay off in the end.  Keep up\\n    the good work!\\n</p>\\n<br>\\n<p>\\n    With Gratitude,\\n    <br>\\n    Accounting for Decision-Making Course Team\\n</p>\\n\",\n",
      "        \"ret_pacing_course_id\": \"course-v1:IIMBx+AC103x+2T2017\",\n",
      "        \"ret_pacing_subject_line\": \"Accounting for Decision-Making - Welcome to Week 6\",\n",
      "        \"ret_pacing_preview_text\": \"\",\n",
      "        \"ret_pacing_from_name\": \"Accounting for Decision-Making\"\n",
      "    },\n",
      "    \"ddomingos@edx.org\": {\n",
      "        \"ret_pacing_body\": \"<p>\\n    Dear Darren Domingos,\\n</p>\\n<br>\\n<p>\\n    Welcome to week 6 of our Accounting for Decision-Making course!  We hope you are enjoying learning with\\n    us so far. If you have fallen behind, don't worry. You can still catch up.\\n</p>\\n<br>\\n<p>\\n    Here is what you can look forward to learning this week:\\n    <ul class=\\\"ret-pacing-weekly-content\\\" data-week-number=\\\"5\\\">\\n  <li>How accounting information is used to plan and control the expenses- Budgeting, types of budget and how to prepare a budget (exercise)</li>\\n  <li>Variance analysis explains how to collect actual cost and compare with budgeted cost at macro and micro level.</li>\\n  <li>Types of variance - Fixed, variable, overhead, material mix, sales mix, yield variance.</li>\\n</ul>\\n</p>\\n<br>\\n<p>\\n    Your focused attention to the course will pay off in the end.  Keep up\\n    the good work!\\n</p>\\n<br>\\n<p>\\n    With Gratitude,\\n    <br>\\n    Accounting for Decision-Making Course Team\\n</p>\\n\",\n",
      "        \"ret_pacing_course_id\": \"course-v1:IIMBx+AC103x+2T2017\",\n",
      "        \"ret_pacing_subject_line\": \"Accounting for Decision-Making - Welcome to Week 6\",\n",
      "        \"ret_pacing_preview_text\": \"\",\n",
      "        \"ret_pacing_from_name\": \"Accounting for Decision-Making\"\n",
      "    },\n",
      "    \"kwillemin@edx.org\": {\n",
      "        \"ret_pacing_body\": \"<p>\\n    Dear Katy Willemin,\\n</p>\\n<br>\\n<p>\\n    Welcome to week 6 of our Accounting for Decision-Making course!  We hope you are enjoying learning with\\n    us so far. If you have fallen behind, don't worry. You can still catch up.\\n</p>\\n<br>\\n<p>\\n    Here is what you can look forward to learning this week:\\n    <ul class=\\\"ret-pacing-weekly-content\\\" data-week-number=\\\"5\\\">\\n  <li>How accounting information is used to plan and control the expenses- Budgeting, types of budget and how to prepare a budget (exercise)</li>\\n  <li>Variance analysis explains how to collect actual cost and compare with budgeted cost at macro and micro level.</li>\\n  <li>Types of variance - Fixed, variable, overhead, material mix, sales mix, yield variance.</li>\\n</ul>\\n</p>\\n<br>\\n<p>\\n    Your focused attention to the course will pay off in the end.  Keep up\\n    the good work!\\n</p>\\n<br>\\n<p>\\n    With Gratitude,\\n    <br>\\n    Accounting for Decision-Making Course Team\\n</p>\\n\",\n",
      "        \"ret_pacing_course_id\": \"course-v1:IIMBx+AC103x+2T2017\",\n",
      "        \"ret_pacing_subject_line\": \"Accounting for Decision-Making - Welcome to Week 6\",\n",
      "        \"ret_pacing_preview_text\": \"\",\n",
      "        \"ret_pacing_from_name\": \"Accounting for Decision-Making\"\n",
      "    }\n",
      "}\n"
     ]
    },
    {
     "name": "stdout",
     "output_type": "stream",
     "text": [
      "Sending an email [TEST] using the template \"RET Pacing\" to 7 users\n",
      "[\n",
      "    \"gabe@edx.org\",\n",
      "    \"cblackburn@edx.org\",\n",
      "    \"cale@edx.org\",\n",
      "    \"nasthagiri@edx.org\",\n",
      "    \"aboehm@edx.org\",\n",
      "    \"ddomingos@edx.org\",\n",
      "    \"kwillemin@edx.org\"\n",
      "]\n",
      "{\n",
      "    \"gabe@edx.org\": {\n",
      "        \"ret_pacing_body\": \"<p>\\n    Dear Gabe Mulley,\\n</p>\\n<br>\\n<p>\\n    Welcome to week 6 of our Introduction to Marketing course!  We hope you are enjoying learning with\\n    us so far. If you have fallen behind, don't worry. You can still catch up.\\n</p>\\n<br>\\n<p>\\n    Here is what you can look forward to learning this week:\\n    <ul class=\\\"ret-pacing-weekly-content\\\" data-week-number=\\\"5\\\">\\n  <li>You will learn how to monitor and facilitate the online conversations that are going on around your brand, and how to identify and leverage marketing opportunities that social media offer</li>\\n  <li>You will also be introduced to some of the data, metrics, and measures that are used in marketing. Such measurements are used to evaluate efficacy in marketing efforts, and to inform future marketing decisions and strategies.</li>\\n  <li>We will look ahead to the future of marketing, and discuss a few cases of things that are happening in the marketplace today that may give us a glimpse of what is to come.</li>\\n</ul>\\n</p>\\n<br>\\n<p>\\n    Your focused attention to the course will pay off in the end.  Keep up\\n    the good work!\\n</p>\\n<br>\\n<p>\\n    With Gratitude,\\n    <br>\\n    Introduction to Marketing Course Team\\n</p>\\n\",\n",
      "        \"ret_pacing_course_id\": \"course-v1:UBCx+Marketing1x+3T2015\",\n",
      "        \"ret_pacing_subject_line\": \"Introduction to Marketing - Welcome to Week 6\",\n",
      "        \"ret_pacing_preview_text\": \"\",\n",
      "        \"ret_pacing_from_name\": \"Introduction to Marketing\"\n",
      "    },\n",
      "    \"cblackburn@edx.org\": {\n",
      "        \"ret_pacing_body\": \"<p>\\n    Dear Clinton Blackburn,\\n</p>\\n<br>\\n<p>\\n    Welcome to week 6 of our Introduction to Marketing course!  We hope you are enjoying learning with\\n    us so far. If you have fallen behind, don't worry. You can still catch up.\\n</p>\\n<br>\\n<p>\\n    Here is what you can look forward to learning this week:\\n    <ul class=\\\"ret-pacing-weekly-content\\\" data-week-number=\\\"5\\\">\\n  <li>You will learn how to monitor and facilitate the online conversations that are going on around your brand, and how to identify and leverage marketing opportunities that social media offer</li>\\n  <li>You will also be introduced to some of the data, metrics, and measures that are used in marketing. Such measurements are used to evaluate efficacy in marketing efforts, and to inform future marketing decisions and strategies.</li>\\n  <li>We will look ahead to the future of marketing, and discuss a few cases of things that are happening in the marketplace today that may give us a glimpse of what is to come.</li>\\n</ul>\\n</p>\\n<br>\\n<p>\\n    Your focused attention to the course will pay off in the end.  Keep up\\n    the good work!\\n</p>\\n<br>\\n<p>\\n    With Gratitude,\\n    <br>\\n    Introduction to Marketing Course Team\\n</p>\\n\",\n",
      "        \"ret_pacing_course_id\": \"course-v1:UBCx+Marketing1x+3T2015\",\n",
      "        \"ret_pacing_subject_line\": \"Introduction to Marketing - Welcome to Week 6\",\n",
      "        \"ret_pacing_preview_text\": \"\",\n",
      "        \"ret_pacing_from_name\": \"Introduction to Marketing\"\n",
      "    },\n",
      "    \"cale@edx.org\": {\n",
      "        \"ret_pacing_body\": \"<p>\\n    Dear Calen Pennington,\\n</p>\\n<br>\\n<p>\\n    Welcome to week 6 of our Introduction to Marketing course!  We hope you are enjoying learning with\\n    us so far. If you have fallen behind, don't worry. You can still catch up.\\n</p>\\n<br>\\n<p>\\n    Here is what you can look forward to learning this week:\\n    <ul class=\\\"ret-pacing-weekly-content\\\" data-week-number=\\\"5\\\">\\n  <li>You will learn how to monitor and facilitate the online conversations that are going on around your brand, and how to identify and leverage marketing opportunities that social media offer</li>\\n  <li>You will also be introduced to some of the data, metrics, and measures that are used in marketing. Such measurements are used to evaluate efficacy in marketing efforts, and to inform future marketing decisions and strategies.</li>\\n  <li>We will look ahead to the future of marketing, and discuss a few cases of things that are happening in the marketplace today that may give us a glimpse of what is to come.</li>\\n</ul>\\n</p>\\n<br>\\n<p>\\n    Your focused attention to the course will pay off in the end.  Keep up\\n    the good work!\\n</p>\\n<br>\\n<p>\\n    With Gratitude,\\n    <br>\\n    Introduction to Marketing Course Team\\n</p>\\n\",\n",
      "        \"ret_pacing_course_id\": \"course-v1:UBCx+Marketing1x+3T2015\",\n",
      "        \"ret_pacing_subject_line\": \"Introduction to Marketing - Welcome to Week 6\",\n",
      "        \"ret_pacing_preview_text\": \"\",\n",
      "        \"ret_pacing_from_name\": \"Introduction to Marketing\"\n",
      "    },\n",
      "    \"nasthagiri@edx.org\": {\n",
      "        \"ret_pacing_body\": \"<p>\\n    Dear Nimisha Asthagiri,\\n</p>\\n<br>\\n<p>\\n    Welcome to week 6 of our Introduction to Marketing course!  We hope you are enjoying learning with\\n    us so far. If you have fallen behind, don't worry. You can still catch up.\\n</p>\\n<br>\\n<p>\\n    Here is what you can look forward to learning this week:\\n    <ul class=\\\"ret-pacing-weekly-content\\\" data-week-number=\\\"5\\\">\\n  <li>You will learn how to monitor and facilitate the online conversations that are going on around your brand, and how to identify and leverage marketing opportunities that social media offer</li>\\n  <li>You will also be introduced to some of the data, metrics, and measures that are used in marketing. Such measurements are used to evaluate efficacy in marketing efforts, and to inform future marketing decisions and strategies.</li>\\n  <li>We will look ahead to the future of marketing, and discuss a few cases of things that are happening in the marketplace today that may give us a glimpse of what is to come.</li>\\n</ul>\\n</p>\\n<br>\\n<p>\\n    Your focused attention to the course will pay off in the end.  Keep up\\n    the good work!\\n</p>\\n<br>\\n<p>\\n    With Gratitude,\\n    <br>\\n    Introduction to Marketing Course Team\\n</p>\\n\",\n",
      "        \"ret_pacing_course_id\": \"course-v1:UBCx+Marketing1x+3T2015\",\n",
      "        \"ret_pacing_subject_line\": \"Introduction to Marketing - Welcome to Week 6\",\n",
      "        \"ret_pacing_preview_text\": \"\",\n",
      "        \"ret_pacing_from_name\": \"Introduction to Marketing\"\n",
      "    },\n",
      "    \"aboehm@edx.org\": {\n",
      "        \"ret_pacing_body\": \"<p>\\n    Dear Alyssa Boehm,\\n</p>\\n<br>\\n<p>\\n    Welcome to week 6 of our Introduction to Marketing course!  We hope you are enjoying learning with\\n    us so far. If you have fallen behind, don't worry. You can still catch up.\\n</p>\\n<br>\\n<p>\\n    Here is what you can look forward to learning this week:\\n    <ul class=\\\"ret-pacing-weekly-content\\\" data-week-number=\\\"5\\\">\\n  <li>You will learn how to monitor and facilitate the online conversations that are going on around your brand, and how to identify and leverage marketing opportunities that social media offer</li>\\n  <li>You will also be introduced to some of the data, metrics, and measures that are used in marketing. Such measurements are used to evaluate efficacy in marketing efforts, and to inform future marketing decisions and strategies.</li>\\n  <li>We will look ahead to the future of marketing, and discuss a few cases of things that are happening in the marketplace today that may give us a glimpse of what is to come.</li>\\n</ul>\\n</p>\\n<br>\\n<p>\\n    Your focused attention to the course will pay off in the end.  Keep up\\n    the good work!\\n</p>\\n<br>\\n<p>\\n    With Gratitude,\\n    <br>\\n    Introduction to Marketing Course Team\\n</p>\\n\",\n",
      "        \"ret_pacing_course_id\": \"course-v1:UBCx+Marketing1x+3T2015\",\n",
      "        \"ret_pacing_subject_line\": \"Introduction to Marketing - Welcome to Week 6\",\n",
      "        \"ret_pacing_preview_text\": \"\",\n",
      "        \"ret_pacing_from_name\": \"Introduction to Marketing\"\n",
      "    },\n",
      "    \"ddomingos@edx.org\": {\n",
      "        \"ret_pacing_body\": \"<p>\\n    Dear Darren Domingos,\\n</p>\\n<br>\\n<p>\\n    Welcome to week 6 of our Introduction to Marketing course!  We hope you are enjoying learning with\\n    us so far. If you have fallen behind, don't worry. You can still catch up.\\n</p>\\n<br>\\n<p>\\n    Here is what you can look forward to learning this week:\\n    <ul class=\\\"ret-pacing-weekly-content\\\" data-week-number=\\\"5\\\">\\n  <li>You will learn how to monitor and facilitate the online conversations that are going on around your brand, and how to identify and leverage marketing opportunities that social media offer</li>\\n  <li>You will also be introduced to some of the data, metrics, and measures that are used in marketing. Such measurements are used to evaluate efficacy in marketing efforts, and to inform future marketing decisions and strategies.</li>\\n  <li>We will look ahead to the future of marketing, and discuss a few cases of things that are happening in the marketplace today that may give us a glimpse of what is to come.</li>\\n</ul>\\n</p>\\n<br>\\n<p>\\n    Your focused attention to the course will pay off in the end.  Keep up\\n    the good work!\\n</p>\\n<br>\\n<p>\\n    With Gratitude,\\n    <br>\\n    Introduction to Marketing Course Team\\n</p>\\n\",\n",
      "        \"ret_pacing_course_id\": \"course-v1:UBCx+Marketing1x+3T2015\",\n",
      "        \"ret_pacing_subject_line\": \"Introduction to Marketing - Welcome to Week 6\",\n",
      "        \"ret_pacing_preview_text\": \"\",\n",
      "        \"ret_pacing_from_name\": \"Introduction to Marketing\"\n",
      "    },\n",
      "    \"kwillemin@edx.org\": {\n",
      "        \"ret_pacing_body\": \"<p>\\n    Dear Katy Willemin,\\n</p>\\n<br>\\n<p>\\n    Welcome to week 6 of our Introduction to Marketing course!  We hope you are enjoying learning with\\n    us so far. If you have fallen behind, don't worry. You can still catch up.\\n</p>\\n<br>\\n<p>\\n    Here is what you can look forward to learning this week:\\n    <ul class=\\\"ret-pacing-weekly-content\\\" data-week-number=\\\"5\\\">\\n  <li>You will learn how to monitor and facilitate the online conversations that are going on around your brand, and how to identify and leverage marketing opportunities that social media offer</li>\\n  <li>You will also be introduced to some of the data, metrics, and measures that are used in marketing. Such measurements are used to evaluate efficacy in marketing efforts, and to inform future marketing decisions and strategies.</li>\\n  <li>We will look ahead to the future of marketing, and discuss a few cases of things that are happening in the marketplace today that may give us a glimpse of what is to come.</li>\\n</ul>\\n</p>\\n<br>\\n<p>\\n    Your focused attention to the course will pay off in the end.  Keep up\\n    the good work!\\n</p>\\n<br>\\n<p>\\n    With Gratitude,\\n    <br>\\n    Introduction to Marketing Course Team\\n</p>\\n\",\n",
      "        \"ret_pacing_course_id\": \"course-v1:UBCx+Marketing1x+3T2015\",\n",
      "        \"ret_pacing_subject_line\": \"Introduction to Marketing - Welcome to Week 6\",\n",
      "        \"ret_pacing_preview_text\": \"\",\n",
      "        \"ret_pacing_from_name\": \"Introduction to Marketing\"\n",
      "    }\n",
      "}\n"
     ]
    },
    {
     "data": {
      "text/plain": [
       "<generator object SailthruEmail.send_to_users.<locals>.batch_generator at 0x7fc847972fc0>"
      ]
     },
     "execution_count": 30,
     "metadata": {},
     "output_type": "execute_result"
    }
   ],
   "source": [
    "email.send_to_users(result, is_test=True, debug=True)"
   ]
  },
  {
   "cell_type": "code",
   "execution_count": 94,
   "metadata": {
    "collapsed": true
   },
   "outputs": [],
   "source": [
    "edx_emails = week_emails[week_emails.user_email.apply(lambda x: '@edx.org' in x)]"
   ]
  },
  {
   "cell_type": "code",
   "execution_count": 41,
   "metadata": {
    "collapsed": true
   },
   "outputs": [],
   "source": [
    "# ptr = email.send_to_users(edx_emails, is_test=True)"
   ]
  },
  {
   "cell_type": "code",
   "execution_count": 31,
   "metadata": {},
   "outputs": [
    {
     "data": {
      "text/plain": [
       "2893"
      ]
     },
     "execution_count": 31,
     "metadata": {},
     "output_type": "execute_result"
    }
   ],
   "source": [
    "len(week_emails)"
   ]
  },
  {
   "cell_type": "code",
   "execution_count": 32,
   "metadata": {},
   "outputs": [
    {
     "name": "stdout",
     "output_type": "stream",
     "text": [
      "Sending 2893 emails\n"
     ]
    },
    {
     "data": {
      "application/vnd.jupyter.widget-view+json": {
       "model_id": "27b30fbb930740f3af1be026d9b341bb"
      }
     },
     "metadata": {},
     "output_type": "display_data"
    },
    {
     "data": {
      "application/vnd.jupyter.widget-view+json": {
       "model_id": "4025c808a4e0490ead2a2079f048a2ec"
      }
     },
     "metadata": {},
     "output_type": "display_data"
    }
   ],
   "source": [
    "ptr = email.send_to_users(week_emails)"
   ]
  },
  {
   "cell_type": "markdown",
   "metadata": {},
   "source": [
    "Save a CSV with the data used to send the emails... we might want this later? This would be our only record of what emails were sent to which users."
   ]
  },
  {
   "cell_type": "code",
   "execution_count": 45,
   "metadata": {
    "collapsed": true
   },
   "outputs": [],
   "source": [
    "#week_emails.to_csv('week_2_sent_emails.csv')"
   ]
  },
  {
   "cell_type": "markdown",
   "metadata": {},
   "source": [
    "Insert into the email_experiment table the set of users included in this experiment. Note that this assumes a single cohort. If we run a second cohort, then we would need to rejigger things here a bit."
   ]
  },
  {
   "cell_type": "code",
   "execution_count": null,
   "metadata": {
    "collapsed": true
   },
   "outputs": [],
   "source": [
    "# %%vertica\n",
    "\n",
    "# INSERT INTO ret.email_experiment\n",
    "# SELECT\n",
    "#     4 AS experiment_id,\n",
    "#     'Simulated Pacing' AS experiment_name,\n",
    "#     du.user_email AS email,\n",
    "#     du.user_id,\n",
    "#     du.user_username AS student_name,\n",
    "#     segments.course_id AS course_id,\n",
    "#     c.course_name,\n",
    "#     segment_id AS group_id,\n",
    "#     CASE segment_id WHEN 0 THEN 'Control'\n",
    "#                     WHEN 1 THEN 'Treatment'\n",
    "#     END AS group_name\n",
    "#     FLOOR(DATEDIFF('day', content_availability, CURRENT_DATE()) / 7) :: INT AS week_number,\n",
    "#     content_availability,\n",
    "# FROM\n",
    "#     ret.exp4_enrollments AS segments\n",
    "# LEFT JOIN\n",
    "#     lms_read_replica.bulk_email_optout AS eo\n",
    "# ON\n",
    "#     eo.user_id = segments.user_id\n",
    "# LEFT JOIN\n",
    "#     production.d_user_course duc\n",
    "# ON\n",
    "#     duc.user_id = segments.user_id AND duc.course_id = segments.course_id\n",
    "# JOIN\n",
    "#     production.d_user AS du\n",
    "# ON\n",
    "#     du.user_id = segments.user_id\n",
    "# JOIN\n",
    "#     business_intelligence.course_master AS c\n",
    "# ON\n",
    "#     c.course_id = segments.course_id\n",
    "# WHERE\n",
    "#         segment_id = 1\n",
    "#     AND eo.user_id IS NULL\n",
    "#     AND duc.current_enrollment_is_active\n",
    "# ORDER BY\n",
    "#     1, 2, 3"
   ]
  },
  {
   "cell_type": "code",
   "execution_count": null,
   "metadata": {
    "collapsed": true
   },
   "outputs": [],
   "source": [
    "#%vertica COMMIT"
   ]
  },
  {
   "cell_type": "code",
   "execution_count": null,
   "metadata": {
    "collapsed": true
   },
   "outputs": [],
   "source": []
  }
 ],
 "metadata": {
  "kernelspec": {
   "display_name": "Python 3",
   "language": "python",
   "name": "python3"
  },
  "language_info": {
   "codemirror_mode": {
    "name": "ipython",
    "version": 3
   },
   "file_extension": ".py",
   "mimetype": "text/x-python",
   "name": "python",
   "nbconvert_exporter": "python",
   "pygments_lexer": "ipython3",
   "version": "3.6.1"
  }
 },
 "nbformat": 4,
 "nbformat_minor": 2
}
