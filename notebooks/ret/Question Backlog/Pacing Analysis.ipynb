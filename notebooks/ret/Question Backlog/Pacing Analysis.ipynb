{
 "cells": [
  {
   "cell_type": "code",
   "execution_count": 1,
   "metadata": {},
   "outputs": [
    {
     "name": "stderr",
     "output_type": "stream",
     "text": [
      "/usr/local/lib/python3.6/site-packages/statsmodels/compat/pandas.py:56: FutureWarning: The pandas.core.datetools module is deprecated and will be removed in a future version. Please use the pandas.tseries module instead.\n",
      "  from pandas.core import datetools\n"
     ]
    }
   ],
   "source": [
    "from plotnine import *"
   ]
  },
  {
   "cell_type": "code",
   "execution_count": 2,
   "metadata": {
    "collapsed": true
   },
   "outputs": [],
   "source": [
    "%matplotlib inline"
   ]
  },
  {
   "cell_type": "code",
   "execution_count": 3,
   "metadata": {
    "collapsed": true
   },
   "outputs": [],
   "source": [
    "%load_ext edx_jupyter"
   ]
  },
  {
   "cell_type": "code",
   "execution_count": 4,
   "metadata": {
    "collapsed": true
   },
   "outputs": [],
   "source": [
    "%reload_ext edx_jupyter"
   ]
  },
  {
   "cell_type": "code",
   "execution_count": 5,
   "metadata": {},
   "outputs": [
    {
     "data": {
      "text/html": [
       "<div>\n",
       "<style>\n",
       "    .dataframe thead tr:only-child th {\n",
       "        text-align: right;\n",
       "    }\n",
       "\n",
       "    .dataframe thead th {\n",
       "        text-align: left;\n",
       "    }\n",
       "\n",
       "    .dataframe tbody tr th {\n",
       "        vertical-align: top;\n",
       "    }\n",
       "</style>\n",
       "<table border=\"1\" class=\"dataframe\">\n",
       "  <thead>\n",
       "    <tr style=\"text-align: right;\">\n",
       "      <th></th>\n",
       "      <th>?column?</th>\n",
       "    </tr>\n",
       "  </thead>\n",
       "  <tbody>\n",
       "    <tr>\n",
       "      <th>0</th>\n",
       "      <td>Connected to Vertica</td>\n",
       "    </tr>\n",
       "  </tbody>\n",
       "</table>\n",
       "</div>"
      ],
      "text/plain": [
       "               ?column?\n",
       "0  Connected to Vertica"
      ]
     },
     "execution_count": 5,
     "metadata": {},
     "output_type": "execute_result"
    }
   ],
   "source": [
    "%vertica SELECT 'Connected to Vertica'"
   ]
  },
  {
   "cell_type": "markdown",
   "metadata": {},
   "source": [
    "# Bookings per enrollment by pacing type for all courses\n",
    "\n",
    "Look at all courses that started after 2014-01-01 and whose verification deadline is in the past. Look at the average bookings per enrollment by year."
   ]
  },
  {
   "cell_type": "code",
   "execution_count": 6,
   "metadata": {
    "collapsed": true
   },
   "outputs": [],
   "source": [
    "%%vertica -> df_all\n",
    "SELECT\n",
    "    cm.pacing_type,\n",
    "    YEAR(cm.course_start_date) AS starting_year,\n",
    "    COUNT(*) AS num_courses,\n",
    "    SUM(sum_bookings) / SUM(sum_enrolls_vtr) AS bookings_per_enrollment,\n",
    "    SUM(sum_verifications) / SUM(sum_enrolls_vtr) AS vtr\n",
    "FROM\n",
    "    business_intelligence.course_stats_summary css\n",
    "JOIN\n",
    "    business_intelligence.course_master cm\n",
    "    ON cm.course_id = css.course_id\n",
    "JOIN\n",
    "    production.d_course c\n",
    "    ON c.course_id = css.course_id\n",
    "WHERE\n",
    "    -- Odd that we have courses in our catalog without a pacing type?\n",
    "    cm.pacing_type IS NOT NULL\n",
    "    \n",
    "    -- Exclude courses that didn't have a verified track\n",
    "    AND cm.course_verification_end_date IS NOT NULL\n",
    "    \n",
    "    -- Look for courses whose deadline has already passed\n",
    "    AND cm.has_verification_deadline_passed = 1\n",
    "    \n",
    "    -- Exclude courses that are starting in the future\n",
    "    AND cm.course_start_date BETWEEN '2014-01-01' AND NOW()\n",
    "    \n",
    "    -- Exclude white label courses\n",
    "    AND cm.is_WL = 0\n",
    "GROUP BY 1, 2\n",
    "ORDER BY 1 ASC, 2 ASC"
   ]
  },
  {
   "cell_type": "markdown",
   "metadata": {},
   "source": [
    "Frustratingly, bookings_per_enrollment is an \"object\" type in the dataframe which we can't chart properly. Coerce it to a float."
   ]
  },
  {
   "cell_type": "code",
   "execution_count": 7,
   "metadata": {
    "collapsed": true
   },
   "outputs": [],
   "source": [
    "df_all['bookings_per_enrollment'] = df_all.bookings_per_enrollment.astype(float)"
   ]
  },
  {
   "cell_type": "code",
   "execution_count": 8,
   "metadata": {},
   "outputs": [
    {
     "data": {
      "text/html": [
       "<div>\n",
       "<style>\n",
       "    .dataframe thead tr:only-child th {\n",
       "        text-align: right;\n",
       "    }\n",
       "\n",
       "    .dataframe thead th {\n",
       "        text-align: left;\n",
       "    }\n",
       "\n",
       "    .dataframe tbody tr th {\n",
       "        vertical-align: top;\n",
       "    }\n",
       "</style>\n",
       "<table border=\"1\" class=\"dataframe\">\n",
       "  <thead>\n",
       "    <tr style=\"text-align: right;\">\n",
       "      <th></th>\n",
       "      <th></th>\n",
       "      <th>num_courses</th>\n",
       "      <th>bookings_per_enrollment</th>\n",
       "      <th>vtr</th>\n",
       "    </tr>\n",
       "    <tr>\n",
       "      <th>pacing_type</th>\n",
       "      <th>starting_year</th>\n",
       "      <th></th>\n",
       "      <th></th>\n",
       "      <th></th>\n",
       "    </tr>\n",
       "  </thead>\n",
       "  <tbody>\n",
       "    <tr>\n",
       "      <th rowspan=\"4\" valign=\"top\">instructor_paced</th>\n",
       "      <th>2014</th>\n",
       "      <td>106</td>\n",
       "      <td>0.792714</td>\n",
       "      <td>0.015181762479691106</td>\n",
       "    </tr>\n",
       "    <tr>\n",
       "      <th>2015</th>\n",
       "      <td>509</td>\n",
       "      <td>0.786355</td>\n",
       "      <td>0.014365392891755913</td>\n",
       "    </tr>\n",
       "    <tr>\n",
       "      <th>2016</th>\n",
       "      <td>607</td>\n",
       "      <td>1.298947</td>\n",
       "      <td>0.021526601256480763</td>\n",
       "    </tr>\n",
       "    <tr>\n",
       "      <th>2017</th>\n",
       "      <td>304</td>\n",
       "      <td>2.066328</td>\n",
       "      <td>0.026488229088295498</td>\n",
       "    </tr>\n",
       "    <tr>\n",
       "      <th rowspan=\"4\" valign=\"top\">self_paced</th>\n",
       "      <th>2014</th>\n",
       "      <td>11</td>\n",
       "      <td>0.556667</td>\n",
       "      <td>0.005692014227744713</td>\n",
       "    </tr>\n",
       "    <tr>\n",
       "      <th>2015</th>\n",
       "      <td>111</td>\n",
       "      <td>0.430658</td>\n",
       "      <td>0.007407702710842199</td>\n",
       "    </tr>\n",
       "    <tr>\n",
       "      <th>2016</th>\n",
       "      <td>282</td>\n",
       "      <td>0.842352</td>\n",
       "      <td>0.018184509066851775</td>\n",
       "    </tr>\n",
       "    <tr>\n",
       "      <th>2017</th>\n",
       "      <td>143</td>\n",
       "      <td>1.951440</td>\n",
       "      <td>0.035638848935335593</td>\n",
       "    </tr>\n",
       "  </tbody>\n",
       "</table>\n",
       "</div>"
      ],
      "text/plain": [
       "                                num_courses  bookings_per_enrollment  \\\n",
       "pacing_type      starting_year                                         \n",
       "instructor_paced 2014                   106                 0.792714   \n",
       "                 2015                   509                 0.786355   \n",
       "                 2016                   607                 1.298947   \n",
       "                 2017                   304                 2.066328   \n",
       "self_paced       2014                    11                 0.556667   \n",
       "                 2015                   111                 0.430658   \n",
       "                 2016                   282                 0.842352   \n",
       "                 2017                   143                 1.951440   \n",
       "\n",
       "                                                 vtr  \n",
       "pacing_type      starting_year                        \n",
       "instructor_paced 2014           0.015181762479691106  \n",
       "                 2015           0.014365392891755913  \n",
       "                 2016           0.021526601256480763  \n",
       "                 2017           0.026488229088295498  \n",
       "self_paced       2014           0.005692014227744713  \n",
       "                 2015           0.007407702710842199  \n",
       "                 2016           0.018184509066851775  \n",
       "                 2017           0.035638848935335593  "
      ]
     },
     "execution_count": 8,
     "metadata": {},
     "output_type": "execute_result"
    }
   ],
   "source": [
    "df_all.set_index(['pacing_type', 'starting_year'])"
   ]
  },
  {
   "cell_type": "code",
   "execution_count": 9,
   "metadata": {},
   "outputs": [
    {
     "data": {
      "image/png": "[encoded data removed]",
      "text/plain": [
       "<matplotlib.figure.Figure at 0x7f7a8947f048>"
      ]
     },
     "metadata": {},
     "output_type": "display_data"
    },
    {
     "data": {
      "text/plain": [
       "<ggplot: (8760267311168)>"
      ]
     },
     "execution_count": 9,
     "metadata": {},
     "output_type": "execute_result"
    }
   ],
   "source": [
    "(\n",
    "    ggplot(\n",
    "        df_all,\n",
    "        aes(\n",
    "            x='starting_year',\n",
    "            y='bookings_per_enrollment',\n",
    "            color='pacing_type'\n",
    "        )\n",
    "    )\n",
    "    + geom_line()\n",
    "    + geom_point()\n",
    "    + ggtitle('Bookings per enrollment by pacing type')\n",
    ")"
   ]
  },
  {
   "cell_type": "markdown",
   "metadata": {},
   "source": [
    "This chart makes it look like self-paced has actually caught up to instructor paced recently. However, we know that Microsoft is a self-paced outlier, so let's remove it from our analysis."
   ]
  },
  {
   "cell_type": "markdown",
   "metadata": {},
   "source": [
    "# Break out Microsoft into its own category"
   ]
  },
  {
   "cell_type": "code",
   "execution_count": 10,
   "metadata": {
    "collapsed": true
   },
   "outputs": [],
   "source": [
    "%%vertica -> df\n",
    "SELECT\n",
    "    CASE WHEN c.org_id = 'Microsoft' THEN cm.pacing_type || '_msft'\n",
    "         ELSE cm.pacing_type END AS pacing_type,\n",
    "    YEAR(cm.course_start_date) AS starting_year,\n",
    "    COUNT(*) AS num_courses,\n",
    "    SUM(sum_bookings) / SUM(sum_enrolls_vtr) AS bookings_per_enrollment,\n",
    "    SUM(sum_verifications) / SUM(sum_enrolls_vtr) AS vtr\n",
    "FROM\n",
    "    business_intelligence.course_stats_summary css\n",
    "JOIN\n",
    "    business_intelligence.course_master cm\n",
    "    ON cm.course_id = css.course_id\n",
    "JOIN\n",
    "    production.d_course c\n",
    "    ON c.course_id = css.course_id\n",
    "WHERE\n",
    "    cm.pacing_type IS NOT NULL\n",
    "    AND cm.course_verification_end_date IS NOT NULL\n",
    "    AND cm.has_verification_deadline_passed = 1\n",
    "    AND cm.course_start_date BETWEEN '2014-01-01' AND NOW()\n",
    "    AND cm.is_WL = 0\n",
    "GROUP BY 1, 2\n",
    "ORDER BY 1 ASC, 2 ASC"
   ]
  },
  {
   "cell_type": "code",
   "execution_count": 11,
   "metadata": {
    "collapsed": true
   },
   "outputs": [],
   "source": [
    "df['bookings_per_enrollment'] = df.bookings_per_enrollment.astype(float)"
   ]
  },
  {
   "cell_type": "code",
   "execution_count": 12,
   "metadata": {
    "scrolled": false
   },
   "outputs": [
    {
     "data": {
      "text/html": [
       "<div>\n",
       "<style>\n",
       "    .dataframe thead tr:only-child th {\n",
       "        text-align: right;\n",
       "    }\n",
       "\n",
       "    .dataframe thead th {\n",
       "        text-align: left;\n",
       "    }\n",
       "\n",
       "    .dataframe tbody tr th {\n",
       "        vertical-align: top;\n",
       "    }\n",
       "</style>\n",
       "<table border=\"1\" class=\"dataframe\">\n",
       "  <thead>\n",
       "    <tr style=\"text-align: right;\">\n",
       "      <th></th>\n",
       "      <th></th>\n",
       "      <th>num_courses</th>\n",
       "      <th>bookings_per_enrollment</th>\n",
       "      <th>vtr</th>\n",
       "    </tr>\n",
       "    <tr>\n",
       "      <th>pacing_type</th>\n",
       "      <th>starting_year</th>\n",
       "      <th></th>\n",
       "      <th></th>\n",
       "      <th></th>\n",
       "    </tr>\n",
       "  </thead>\n",
       "  <tbody>\n",
       "    <tr>\n",
       "      <th rowspan=\"4\" valign=\"top\">instructor_paced</th>\n",
       "      <th>2014</th>\n",
       "      <td>106</td>\n",
       "      <td>0.792714</td>\n",
       "      <td>0.015181762479691106</td>\n",
       "    </tr>\n",
       "    <tr>\n",
       "      <th>2015</th>\n",
       "      <td>473</td>\n",
       "      <td>0.789406</td>\n",
       "      <td>0.014568936902139473</td>\n",
       "    </tr>\n",
       "    <tr>\n",
       "      <th>2016</th>\n",
       "      <td>570</td>\n",
       "      <td>1.322608</td>\n",
       "      <td>0.021774963590861476</td>\n",
       "    </tr>\n",
       "    <tr>\n",
       "      <th>2017</th>\n",
       "      <td>303</td>\n",
       "      <td>2.066919</td>\n",
       "      <td>0.026496461250397447</td>\n",
       "    </tr>\n",
       "    <tr>\n",
       "      <th rowspan=\"3\" valign=\"top\">instructor_paced_msft</th>\n",
       "      <th>2015</th>\n",
       "      <td>36</td>\n",
       "      <td>0.743901</td>\n",
       "      <td>0.011533526240548408</td>\n",
       "    </tr>\n",
       "    <tr>\n",
       "      <th>2016</th>\n",
       "      <td>37</td>\n",
       "      <td>0.723931</td>\n",
       "      <td>0.015490832365156311</td>\n",
       "    </tr>\n",
       "    <tr>\n",
       "      <th>2017</th>\n",
       "      <td>1</td>\n",
       "      <td>1.126573</td>\n",
       "      <td>0.013386880856760375</td>\n",
       "    </tr>\n",
       "    <tr>\n",
       "      <th rowspan=\"4\" valign=\"top\">self_paced</th>\n",
       "      <th>2014</th>\n",
       "      <td>11</td>\n",
       "      <td>0.556667</td>\n",
       "      <td>0.005692014227744713</td>\n",
       "    </tr>\n",
       "    <tr>\n",
       "      <th>2015</th>\n",
       "      <td>99</td>\n",
       "      <td>0.418202</td>\n",
       "      <td>0.007154241524963938</td>\n",
       "    </tr>\n",
       "    <tr>\n",
       "      <th>2016</th>\n",
       "      <td>193</td>\n",
       "      <td>0.676949</td>\n",
       "      <td>0.011758213858461804</td>\n",
       "    </tr>\n",
       "    <tr>\n",
       "      <th>2017</th>\n",
       "      <td>40</td>\n",
       "      <td>1.053264</td>\n",
       "      <td>0.014179335109122750</td>\n",
       "    </tr>\n",
       "    <tr>\n",
       "      <th rowspan=\"3\" valign=\"top\">self_paced_msft</th>\n",
       "      <th>2015</th>\n",
       "      <td>12</td>\n",
       "      <td>0.514427</td>\n",
       "      <td>0.009112364628492041</td>\n",
       "    </tr>\n",
       "    <tr>\n",
       "      <th>2016</th>\n",
       "      <td>89</td>\n",
       "      <td>1.169945</td>\n",
       "      <td>0.030912342469349780</td>\n",
       "    </tr>\n",
       "    <tr>\n",
       "      <th>2017</th>\n",
       "      <td>103</td>\n",
       "      <td>2.417721</td>\n",
       "      <td>0.046779381317279263</td>\n",
       "    </tr>\n",
       "  </tbody>\n",
       "</table>\n",
       "</div>"
      ],
      "text/plain": [
       "                                     num_courses  bookings_per_enrollment  \\\n",
       "pacing_type           starting_year                                         \n",
       "instructor_paced      2014                   106                 0.792714   \n",
       "                      2015                   473                 0.789406   \n",
       "                      2016                   570                 1.322608   \n",
       "                      2017                   303                 2.066919   \n",
       "instructor_paced_msft 2015                    36                 0.743901   \n",
       "                      2016                    37                 0.723931   \n",
       "                      2017                     1                 1.126573   \n",
       "self_paced            2014                    11                 0.556667   \n",
       "                      2015                    99                 0.418202   \n",
       "                      2016                   193                 0.676949   \n",
       "                      2017                    40                 1.053264   \n",
       "self_paced_msft       2015                    12                 0.514427   \n",
       "                      2016                    89                 1.169945   \n",
       "                      2017                   103                 2.417721   \n",
       "\n",
       "                                                      vtr  \n",
       "pacing_type           starting_year                        \n",
       "instructor_paced      2014           0.015181762479691106  \n",
       "                      2015           0.014568936902139473  \n",
       "                      2016           0.021774963590861476  \n",
       "                      2017           0.026496461250397447  \n",
       "instructor_paced_msft 2015           0.011533526240548408  \n",
       "                      2016           0.015490832365156311  \n",
       "                      2017           0.013386880856760375  \n",
       "self_paced            2014           0.005692014227744713  \n",
       "                      2015           0.007154241524963938  \n",
       "                      2016           0.011758213858461804  \n",
       "                      2017           0.014179335109122750  \n",
       "self_paced_msft       2015           0.009112364628492041  \n",
       "                      2016           0.030912342469349780  \n",
       "                      2017           0.046779381317279263  "
      ]
     },
     "execution_count": 12,
     "metadata": {},
     "output_type": "execute_result"
    }
   ],
   "source": [
    "df.set_index(['pacing_type', 'starting_year'])"
   ]
  },
  {
   "cell_type": "code",
   "execution_count": 13,
   "metadata": {
    "scrolled": false
   },
   "outputs": [
    {
     "data": {
      "image/png": "[encoded data removed]",
      "text/plain": [
       "<matplotlib.figure.Figure at 0x7f7a87339e10>"
      ]
     },
     "metadata": {},
     "output_type": "display_data"
    },
    {
     "data": {
      "text/plain": [
       "<ggplot: (8760267311294)>"
      ]
     },
     "execution_count": 13,
     "metadata": {},
     "output_type": "execute_result"
    }
   ],
   "source": [
    "(\n",
    "    ggplot(\n",
    "        df,\n",
    "        aes(\n",
    "            x='starting_year',\n",
    "            y='bookings_per_enrollment',\n",
    "            color='pacing_type'\n",
    "        )\n",
    "    )\n",
    "    + geom_line()\n",
    "    + geom_point()\n",
    "    + ggtitle('Bookings per enrollment by pacing type')\n",
    ")"
   ]
  },
  {
   "cell_type": "markdown",
   "metadata": {},
   "source": [
    "It now becomes clear how much of an anomaly Microsoft is. Self paced clearly lags behind instructor paced by a very large margin. Looks like instructor paced pulls in roughly 2x the revenue of self-paced."
   ]
  },
  {
   "cell_type": "markdown",
   "metadata": {},
   "source": [
    "# Look at these metrics for MicroMasters courses (excluding MITx)"
   ]
  },
  {
   "cell_type": "code",
   "execution_count": 14,
   "metadata": {
    "collapsed": true
   },
   "outputs": [],
   "source": [
    "%%vertica -> df_mm\n",
    "SELECT\n",
    "    cm.pacing_type,\n",
    "    CASE WHEN mm_courses.course_id IS NOT NULL THEN 1 ELSE 0 END AS is_micro_masters,\n",
    "    COUNT(*) AS num_courses,\n",
    "    SUM(sum_bookings) / SUM(sum_enrolls_vtr) AS bookings_per_enrollment,\n",
    "    SUM(sum_verifications) / SUM(sum_enrolls_vtr) AS vtr\n",
    "FROM\n",
    "    business_intelligence.course_stats_summary css\n",
    "JOIN\n",
    "    business_intelligence.course_master cm\n",
    "    ON cm.course_id = css.course_id\n",
    "JOIN\n",
    "    production.d_course c\n",
    "    ON c.course_id = css.course_id\n",
    "LEFT JOIN\n",
    "-- This query gets a list of all of the course_ids that are in MicroMasters programs\n",
    "(\n",
    "    SELECT DISTINCT\n",
    "        course_id\n",
    "    FROM\n",
    "        production.d_program_course\n",
    "    WHERE\n",
    "        program_type='MicroMasters'\n",
    ") mm_courses\n",
    "    ON mm_courses.course_id = css.course_id\n",
    "WHERE\n",
    "    cm.pacing_type IS NOT NULL\n",
    "    AND cm.course_verification_end_date IS NOT NULL\n",
    "    AND cm.has_verification_deadline_passed = 1\n",
    "    AND cm.course_start_date BETWEEN '2016-01-01' AND NOW()\n",
    "    AND c.org_id != 'MITx'\n",
    "    AND cm.is_WL = 0\n",
    "GROUP BY 1, 2\n",
    "ORDER BY 1 ASC, 2 ASC"
   ]
  },
  {
   "cell_type": "code",
   "execution_count": 15,
   "metadata": {
    "scrolled": true
   },
   "outputs": [
    {
     "data": {
      "text/html": [
       "<div>\n",
       "<style>\n",
       "    .dataframe thead tr:only-child th {\n",
       "        text-align: right;\n",
       "    }\n",
       "\n",
       "    .dataframe thead th {\n",
       "        text-align: left;\n",
       "    }\n",
       "\n",
       "    .dataframe tbody tr th {\n",
       "        vertical-align: top;\n",
       "    }\n",
       "</style>\n",
       "<table border=\"1\" class=\"dataframe\">\n",
       "  <thead>\n",
       "    <tr style=\"text-align: right;\">\n",
       "      <th></th>\n",
       "      <th>pacing_type</th>\n",
       "      <th>is_micro_masters</th>\n",
       "      <th>num_courses</th>\n",
       "      <th>bookings_per_enrollment</th>\n",
       "      <th>vtr</th>\n",
       "    </tr>\n",
       "  </thead>\n",
       "  <tbody>\n",
       "    <tr>\n",
       "      <th>0</th>\n",
       "      <td>instructor_paced</td>\n",
       "      <td>0</td>\n",
       "      <td>732</td>\n",
       "      <td>0.95363874452589502037</td>\n",
       "      <td>0.020356605493333251</td>\n",
       "    </tr>\n",
       "    <tr>\n",
       "      <th>1</th>\n",
       "      <td>instructor_paced</td>\n",
       "      <td>1</td>\n",
       "      <td>59</td>\n",
       "      <td>1.96113459782051121649</td>\n",
       "      <td>0.014159170242846598</td>\n",
       "    </tr>\n",
       "    <tr>\n",
       "      <th>2</th>\n",
       "      <td>self_paced</td>\n",
       "      <td>0</td>\n",
       "      <td>402</td>\n",
       "      <td>1.13535414393679794520</td>\n",
       "      <td>0.023131840021986977</td>\n",
       "    </tr>\n",
       "    <tr>\n",
       "      <th>3</th>\n",
       "      <td>self_paced</td>\n",
       "      <td>1</td>\n",
       "      <td>11</td>\n",
       "      <td>0.57590847084030180885</td>\n",
       "      <td>0.008423827176669159</td>\n",
       "    </tr>\n",
       "  </tbody>\n",
       "</table>\n",
       "</div>"
      ],
      "text/plain": [
       "        pacing_type  is_micro_masters  num_courses bookings_per_enrollment  \\\n",
       "0  instructor_paced                 0          732  0.95363874452589502037   \n",
       "1  instructor_paced                 1           59  1.96113459782051121649   \n",
       "2        self_paced                 0          402  1.13535414393679794520   \n",
       "3        self_paced                 1           11  0.57590847084030180885   \n",
       "\n",
       "                    vtr  \n",
       "0  0.020356605493333251  \n",
       "1  0.014159170242846598  \n",
       "2  0.023131840021986977  \n",
       "3  0.008423827176669159  "
      ]
     },
     "execution_count": 15,
     "metadata": {},
     "output_type": "execute_result"
    }
   ],
   "source": [
    "df_mm"
   ]
  },
  {
   "cell_type": "markdown",
   "metadata": {},
   "source": [
    "The effect is even more pronounced in MicroMasters courses (excluding MITx). Instructor paced courses are roughly 4x better than self paced!"
   ]
  },
  {
   "cell_type": "markdown",
   "metadata": {},
   "source": [
    "# Engagement by pacing type"
   ]
  },
  {
   "cell_type": "code",
   "execution_count": 16,
   "metadata": {},
   "outputs": [
    {
     "data": {
      "text/html": [
       "<div>\n",
       "<style>\n",
       "    .dataframe thead tr:only-child th {\n",
       "        text-align: right;\n",
       "    }\n",
       "\n",
       "    .dataframe thead th {\n",
       "        text-align: left;\n",
       "    }\n",
       "\n",
       "    .dataframe tbody tr th {\n",
       "        vertical-align: top;\n",
       "    }\n",
       "</style>\n",
       "<table border=\"1\" class=\"dataframe\">\n",
       "  <thead>\n",
       "    <tr style=\"text-align: right;\">\n",
       "      <th></th>\n",
       "      <th>pacing_type</th>\n",
       "      <th>starting_year</th>\n",
       "      <th>num_courses</th>\n",
       "      <th>bookings_per_enrollment</th>\n",
       "      <th>vtr</th>\n",
       "      <th>engaged_enrollments_ratio</th>\n",
       "    </tr>\n",
       "  </thead>\n",
       "  <tbody>\n",
       "    <tr>\n",
       "      <th>0</th>\n",
       "      <td>instructor_paced</td>\n",
       "      <td>2016</td>\n",
       "      <td>570</td>\n",
       "      <td>1.32260761783033955059</td>\n",
       "      <td>0.021774963590861476</td>\n",
       "      <td>0.336938003153958340</td>\n",
       "    </tr>\n",
       "    <tr>\n",
       "      <th>1</th>\n",
       "      <td>instructor_paced_msft</td>\n",
       "      <td>2016</td>\n",
       "      <td>37</td>\n",
       "      <td>0.72393084322654452056</td>\n",
       "      <td>0.015490832365156311</td>\n",
       "      <td>0.211370292960148752</td>\n",
       "    </tr>\n",
       "    <tr>\n",
       "      <th>2</th>\n",
       "      <td>self_paced</td>\n",
       "      <td>2016</td>\n",
       "      <td>193</td>\n",
       "      <td>0.67694930093539651612</td>\n",
       "      <td>0.011758213858461804</td>\n",
       "      <td>0.381547003530019814</td>\n",
       "    </tr>\n",
       "    <tr>\n",
       "      <th>3</th>\n",
       "      <td>self_paced_msft</td>\n",
       "      <td>2016</td>\n",
       "      <td>89</td>\n",
       "      <td>1.16994539458686293342</td>\n",
       "      <td>0.030912342469349780</td>\n",
       "      <td>0.402691921787436067</td>\n",
       "    </tr>\n",
       "  </tbody>\n",
       "</table>\n",
       "</div>"
      ],
      "text/plain": [
       "             pacing_type  starting_year  num_courses bookings_per_enrollment  \\\n",
       "0       instructor_paced           2016          570  1.32260761783033955059   \n",
       "1  instructor_paced_msft           2016           37  0.72393084322654452056   \n",
       "2             self_paced           2016          193  0.67694930093539651612   \n",
       "3        self_paced_msft           2016           89  1.16994539458686293342   \n",
       "\n",
       "                    vtr engaged_enrollments_ratio  \n",
       "0  0.021774963590861476      0.336938003153958340  \n",
       "1  0.015490832365156311      0.211370292960148752  \n",
       "2  0.011758213858461804      0.381547003530019814  \n",
       "3  0.030912342469349780      0.402691921787436067  "
      ]
     },
     "execution_count": 16,
     "metadata": {},
     "output_type": "execute_result"
    }
   ],
   "source": [
    "%%vertica\n",
    "SELECT\n",
    "    CASE WHEN c.org_id = 'Microsoft' THEN cm.pacing_type || '_msft'\n",
    "         ELSE cm.pacing_type END AS pacing_type,\n",
    "    YEAR(cm.course_start_date) AS starting_year,\n",
    "    COUNT(*) AS num_courses,\n",
    "    SUM(sum_bookings) / SUM(sum_enrolls_vtr) AS bookings_per_enrollment,\n",
    "    SUM(sum_verifications) / SUM(sum_enrolls_vtr) AS vtr,\n",
    "    SUM(a.sum_users) / SUM(sum_enrolls) AS engaged_enrollments_ratio\n",
    "FROM\n",
    "    business_intelligence.course_stats_summary css\n",
    "JOIN\n",
    "    business_intelligence.course_master cm\n",
    "    ON cm.course_id = css.course_id\n",
    "JOIN\n",
    "    production.d_course c\n",
    "    ON c.course_id = css.course_id\n",
    "LEFT JOIN\n",
    "(\n",
    "    SELECT\n",
    "        course_id,\n",
    "        SUM(cnt_users) AS sum_users\n",
    "    FROM\n",
    "        business_intelligence.user_activity_engagement_weekly_agg\n",
    "    WHERE\n",
    "        weekly_engagement_level != 'no_engagement'\n",
    "    GROUP BY 1\n",
    ") a\n",
    "    ON a.course_id = css.course_id\n",
    "WHERE\n",
    "    cm.pacing_type IS NOT NULL\n",
    "    AND cm.course_verification_end_date IS NOT NULL\n",
    "    AND cm.has_verification_deadline_passed = 1\n",
    "    AND cm.course_start_date BETWEEN '2014-01-01' AND NOW()\n",
    "    AND YEAR(cm.course_start_date) = 2016\n",
    "    AND cm.is_WL = 0\n",
    "GROUP BY 1, 2\n",
    "ORDER BY 1 ASC, 2 ASC"
   ]
  },
  {
   "cell_type": "markdown",
   "metadata": {},
   "source": [
    "Here we can see that self-paced engagement actually looks like it's very similar to instructor paced."
   ]
  },
  {
   "cell_type": "markdown",
   "metadata": {},
   "source": [
    "# Comparing MITx and Microsoft\n",
    "\n",
    "MIT is another very strong brand that tends to be an outlier. Compare it to Microsoft."
   ]
  },
  {
   "cell_type": "code",
   "execution_count": 17,
   "metadata": {},
   "outputs": [],
   "source": [
    "%%vertica -> df_hv\n",
    "SELECT\n",
    "    c.org_id,\n",
    "    cm.pacing_type,\n",
    "    YEAR(cm.course_start_date) AS starting_year,\n",
    "    COUNT(*) AS num_courses,\n",
    "    SUM(sum_bookings) / SUM(sum_enrolls_vtr) AS bookings_per_enrollment,\n",
    "    SUM(sum_verifications) / SUM(sum_enrolls_vtr) AS vtr\n",
    "FROM\n",
    "    business_intelligence.course_stats_summary css\n",
    "JOIN\n",
    "    business_intelligence.course_master cm\n",
    "    ON cm.course_id = css.course_id\n",
    "JOIN\n",
    "    production.d_course c\n",
    "    ON c.course_id = css.course_id\n",
    "WHERE\n",
    "    cm.pacing_type IS NOT NULL\n",
    "    AND cm.course_verification_end_date IS NOT NULL\n",
    "    AND cm.has_verification_deadline_passed = 1\n",
    "    AND cm.course_start_date BETWEEN '2014-01-01' AND NOW()\n",
    "    AND c.org_id IN ('Microsoft', 'MITx')\n",
    "    AND cm.is_WL = 0\n",
    "GROUP BY 1, 2, 3\n",
    "ORDER BY 1 ASC, 2 ASC, 3 ASC"
   ]
  },
  {
   "cell_type": "code",
   "execution_count": 18,
   "metadata": {
    "collapsed": true
   },
   "outputs": [],
   "source": [
    "df_hv['bookings_per_enrollment'] = df_hv.bookings_per_enrollment.astype(float)"
   ]
  },
  {
   "cell_type": "code",
   "execution_count": 19,
   "metadata": {},
   "outputs": [
    {
     "data": {
      "text/html": [
       "<div>\n",
       "<style>\n",
       "    .dataframe thead tr:only-child th {\n",
       "        text-align: right;\n",
       "    }\n",
       "\n",
       "    .dataframe thead th {\n",
       "        text-align: left;\n",
       "    }\n",
       "\n",
       "    .dataframe tbody tr th {\n",
       "        vertical-align: top;\n",
       "    }\n",
       "</style>\n",
       "<table border=\"1\" class=\"dataframe\">\n",
       "  <thead>\n",
       "    <tr style=\"text-align: right;\">\n",
       "      <th></th>\n",
       "      <th></th>\n",
       "      <th></th>\n",
       "      <th>num_courses</th>\n",
       "      <th>bookings_per_enrollment</th>\n",
       "      <th>vtr</th>\n",
       "    </tr>\n",
       "    <tr>\n",
       "      <th>org_id</th>\n",
       "      <th>pacing_type</th>\n",
       "      <th>starting_year</th>\n",
       "      <th></th>\n",
       "      <th></th>\n",
       "      <th></th>\n",
       "    </tr>\n",
       "  </thead>\n",
       "  <tbody>\n",
       "    <tr>\n",
       "      <th rowspan=\"7\" valign=\"top\">MITx</th>\n",
       "      <th rowspan=\"4\" valign=\"top\">instructor_paced</th>\n",
       "      <th>2014</th>\n",
       "      <td>19</td>\n",
       "      <td>1.717934</td>\n",
       "      <td>0.029135160801172248</td>\n",
       "    </tr>\n",
       "    <tr>\n",
       "      <th>2015</th>\n",
       "      <td>57</td>\n",
       "      <td>1.535278</td>\n",
       "      <td>0.025265437258049691</td>\n",
       "    </tr>\n",
       "    <tr>\n",
       "      <th>2016</th>\n",
       "      <td>74</td>\n",
       "      <td>3.076920</td>\n",
       "      <td>0.036313960039535478</td>\n",
       "    </tr>\n",
       "    <tr>\n",
       "      <th>2017</th>\n",
       "      <td>46</td>\n",
       "      <td>4.633783</td>\n",
       "      <td>0.042578224874027916</td>\n",
       "    </tr>\n",
       "    <tr>\n",
       "      <th rowspan=\"3\" valign=\"top\">self_paced</th>\n",
       "      <th>2015</th>\n",
       "      <td>10</td>\n",
       "      <td>0.713650</td>\n",
       "      <td>0.009906064261295101</td>\n",
       "    </tr>\n",
       "    <tr>\n",
       "      <th>2016</th>\n",
       "      <td>10</td>\n",
       "      <td>1.035484</td>\n",
       "      <td>0.010694631917765549</td>\n",
       "    </tr>\n",
       "    <tr>\n",
       "      <th>2017</th>\n",
       "      <td>2</td>\n",
       "      <td>0.990369</td>\n",
       "      <td>0.015172720494944606</td>\n",
       "    </tr>\n",
       "    <tr>\n",
       "      <th rowspan=\"6\" valign=\"top\">Microsoft</th>\n",
       "      <th rowspan=\"3\" valign=\"top\">instructor_paced</th>\n",
       "      <th>2015</th>\n",
       "      <td>36</td>\n",
       "      <td>0.743901</td>\n",
       "      <td>0.011533526240548408</td>\n",
       "    </tr>\n",
       "    <tr>\n",
       "      <th>2016</th>\n",
       "      <td>37</td>\n",
       "      <td>0.723931</td>\n",
       "      <td>0.015490832365156311</td>\n",
       "    </tr>\n",
       "    <tr>\n",
       "      <th>2017</th>\n",
       "      <td>1</td>\n",
       "      <td>1.126573</td>\n",
       "      <td>0.013386880856760375</td>\n",
       "    </tr>\n",
       "    <tr>\n",
       "      <th rowspan=\"3\" valign=\"top\">self_paced</th>\n",
       "      <th>2015</th>\n",
       "      <td>12</td>\n",
       "      <td>0.514427</td>\n",
       "      <td>0.009112364628492041</td>\n",
       "    </tr>\n",
       "    <tr>\n",
       "      <th>2016</th>\n",
       "      <td>89</td>\n",
       "      <td>1.169945</td>\n",
       "      <td>0.030912342469349780</td>\n",
       "    </tr>\n",
       "    <tr>\n",
       "      <th>2017</th>\n",
       "      <td>103</td>\n",
       "      <td>2.417721</td>\n",
       "      <td>0.046779381317279263</td>\n",
       "    </tr>\n",
       "  </tbody>\n",
       "</table>\n",
       "</div>"
      ],
      "text/plain": [
       "                                          num_courses  \\\n",
       "org_id    pacing_type      starting_year                \n",
       "MITx      instructor_paced 2014                    19   \n",
       "                           2015                    57   \n",
       "                           2016                    74   \n",
       "                           2017                    46   \n",
       "          self_paced       2015                    10   \n",
       "                           2016                    10   \n",
       "                           2017                     2   \n",
       "Microsoft instructor_paced 2015                    36   \n",
       "                           2016                    37   \n",
       "                           2017                     1   \n",
       "          self_paced       2015                    12   \n",
       "                           2016                    89   \n",
       "                           2017                   103   \n",
       "\n",
       "                                          bookings_per_enrollment  \\\n",
       "org_id    pacing_type      starting_year                            \n",
       "MITx      instructor_paced 2014                          1.717934   \n",
       "                           2015                          1.535278   \n",
       "                           2016                          3.076920   \n",
       "                           2017                          4.633783   \n",
       "          self_paced       2015                          0.713650   \n",
       "                           2016                          1.035484   \n",
       "                           2017                          0.990369   \n",
       "Microsoft instructor_paced 2015                          0.743901   \n",
       "                           2016                          0.723931   \n",
       "                           2017                          1.126573   \n",
       "          self_paced       2015                          0.514427   \n",
       "                           2016                          1.169945   \n",
       "                           2017                          2.417721   \n",
       "\n",
       "                                                           vtr  \n",
       "org_id    pacing_type      starting_year                        \n",
       "MITx      instructor_paced 2014           0.029135160801172248  \n",
       "                           2015           0.025265437258049691  \n",
       "                           2016           0.036313960039535478  \n",
       "                           2017           0.042578224874027916  \n",
       "          self_paced       2015           0.009906064261295101  \n",
       "                           2016           0.010694631917765549  \n",
       "                           2017           0.015172720494944606  \n",
       "Microsoft instructor_paced 2015           0.011533526240548408  \n",
       "                           2016           0.015490832365156311  \n",
       "                           2017           0.013386880856760375  \n",
       "          self_paced       2015           0.009112364628492041  \n",
       "                           2016           0.030912342469349780  \n",
       "                           2017           0.046779381317279263  "
      ]
     },
     "execution_count": 19,
     "metadata": {},
     "output_type": "execute_result"
    }
   ],
   "source": [
    "df_hv.set_index(['org_id', 'pacing_type', 'starting_year'])"
   ]
  },
  {
   "cell_type": "code",
   "execution_count": 20,
   "metadata": {},
   "outputs": [
    {
     "data": {
      "image/png": "[encoded data removed]",
      "text/plain": [
       "<matplotlib.figure.Figure at 0x7f7a86f57e80>"
      ]
     },
     "metadata": {},
     "output_type": "display_data"
    },
    {
     "data": {
      "text/plain": [
       "<ggplot: (8760264457273)>"
      ]
     },
     "execution_count": 20,
     "metadata": {},
     "output_type": "execute_result"
    }
   ],
   "source": [
    "(\n",
    "    ggplot(\n",
    "        df_hv,\n",
    "        aes(\n",
    "            x='starting_year',\n",
    "            y='bookings_per_enrollment',\n",
    "            color='org_id'\n",
    "        )\n",
    "    )\n",
    "    + geom_line()\n",
    "    + geom_point()\n",
    "    + facet_grid('pacing_type ~ .')\n",
    "    + ggtitle('Bookings per enrollment by pacing type and organization (MITx and Microsoft only)')\n",
    ")"
   ]
  },
  {
   "cell_type": "markdown",
   "metadata": {},
   "source": [
    "It looks like Microsoft outperforms MITx in self paced by a pretty wide margin."
   ]
  },
  {
   "cell_type": "markdown",
   "metadata": {},
   "source": [
    "# Look at sustained engagement over time\n",
    "\n",
    "Do users who start the course stick with it?"
   ]
  },
  {
   "cell_type": "code",
   "execution_count": 21,
   "metadata": {},
   "outputs": [],
   "source": [
    "%%vertica -> df_eng\n",
    "\n",
    "SELECT\n",
    "    cm.pacing_type,\n",
    "    SPLIT_PART(e.week, '_', 2)::INT AS week,\n",
    "    SUM(e.cnt_users) AS cnt_users,\n",
    "    SUM(e.cnt_users) / SUM(week_1_engaged_users.cnt_users) AS relative_to_week_1\n",
    "FROM\n",
    "    business_intelligence.user_activity_engagement_weekly_agg e\n",
    "JOIN\n",
    "    business_intelligence.course_master cm\n",
    "    ON cm.course_id = e.course_id\n",
    "JOIN\n",
    "    (\n",
    "        SELECT\n",
    "            course_id,\n",
    "            cnt_users\n",
    "        FROM\n",
    "            business_intelligence.user_activity_engagement_weekly_agg\n",
    "        WHERE\n",
    "            weekly_engagement_level != 'no_engagement'\n",
    "            AND week = 'week_1'\n",
    "    ) week_1_engaged_users\n",
    "    ON week_1_engaged_users.course_id = e.course_id\n",
    "WHERE\n",
    "    e.weekly_engagement_level != 'no_engagement'\n",
    "    AND e.week != 'week_1'\n",
    "GROUP BY 1, 2\n",
    "ORDER BY 1, 2"
   ]
  },
  {
   "cell_type": "code",
   "execution_count": 22,
   "metadata": {
    "collapsed": true
   },
   "outputs": [],
   "source": [
    "df_eng['cnt_users'] = df_eng.cnt_users.astype(int)\n",
    "df_eng['relative_to_week_1'] = df_eng.relative_to_week_1.astype(float)"
   ]
  },
  {
   "cell_type": "code",
   "execution_count": 23,
   "metadata": {},
   "outputs": [
    {
     "data": {
      "text/html": [
       "<div>\n",
       "<style>\n",
       "    .dataframe thead tr:only-child th {\n",
       "        text-align: right;\n",
       "    }\n",
       "\n",
       "    .dataframe thead th {\n",
       "        text-align: left;\n",
       "    }\n",
       "\n",
       "    .dataframe tbody tr th {\n",
       "        vertical-align: top;\n",
       "    }\n",
       "</style>\n",
       "<table border=\"1\" class=\"dataframe\">\n",
       "  <thead>\n",
       "    <tr style=\"text-align: right;\">\n",
       "      <th></th>\n",
       "      <th>pacing_type</th>\n",
       "      <th>week</th>\n",
       "      <th>cnt_users</th>\n",
       "      <th>relative_to_week_1</th>\n",
       "    </tr>\n",
       "  </thead>\n",
       "  <tbody>\n",
       "    <tr>\n",
       "      <th>0</th>\n",
       "      <td>instructor_paced</td>\n",
       "      <td>2</td>\n",
       "      <td>1686718</td>\n",
       "      <td>0.132162</td>\n",
       "    </tr>\n",
       "    <tr>\n",
       "      <th>1</th>\n",
       "      <td>instructor_paced</td>\n",
       "      <td>3</td>\n",
       "      <td>1251570</td>\n",
       "      <td>0.098755</td>\n",
       "    </tr>\n",
       "    <tr>\n",
       "      <th>2</th>\n",
       "      <td>instructor_paced</td>\n",
       "      <td>4</td>\n",
       "      <td>984266</td>\n",
       "      <td>0.078047</td>\n",
       "    </tr>\n",
       "    <tr>\n",
       "      <th>3</th>\n",
       "      <td>instructor_paced</td>\n",
       "      <td>5</td>\n",
       "      <td>778205</td>\n",
       "      <td>0.062493</td>\n",
       "    </tr>\n",
       "    <tr>\n",
       "      <th>4</th>\n",
       "      <td>self_paced</td>\n",
       "      <td>2</td>\n",
       "      <td>1282094</td>\n",
       "      <td>0.082320</td>\n",
       "    </tr>\n",
       "    <tr>\n",
       "      <th>5</th>\n",
       "      <td>self_paced</td>\n",
       "      <td>3</td>\n",
       "      <td>838624</td>\n",
       "      <td>0.054165</td>\n",
       "    </tr>\n",
       "    <tr>\n",
       "      <th>6</th>\n",
       "      <td>self_paced</td>\n",
       "      <td>4</td>\n",
       "      <td>603266</td>\n",
       "      <td>0.039132</td>\n",
       "    </tr>\n",
       "    <tr>\n",
       "      <th>7</th>\n",
       "      <td>self_paced</td>\n",
       "      <td>5</td>\n",
       "      <td>458842</td>\n",
       "      <td>0.029954</td>\n",
       "    </tr>\n",
       "  </tbody>\n",
       "</table>\n",
       "</div>"
      ],
      "text/plain": [
       "        pacing_type  week  cnt_users  relative_to_week_1\n",
       "0  instructor_paced     2    1686718            0.132162\n",
       "1  instructor_paced     3    1251570            0.098755\n",
       "2  instructor_paced     4     984266            0.078047\n",
       "3  instructor_paced     5     778205            0.062493\n",
       "4        self_paced     2    1282094            0.082320\n",
       "5        self_paced     3     838624            0.054165\n",
       "6        self_paced     4     603266            0.039132\n",
       "7        self_paced     5     458842            0.029954"
      ]
     },
     "execution_count": 23,
     "metadata": {},
     "output_type": "execute_result"
    }
   ],
   "source": [
    "df_eng"
   ]
  },
  {
   "cell_type": "code",
   "execution_count": 24,
   "metadata": {},
   "outputs": [
    {
     "data": {
      "image/png": "[encoded data removed]",
      "text/plain": [
       "<matplotlib.figure.Figure at 0x7f7a87131208>"
      ]
     },
     "metadata": {},
     "output_type": "display_data"
    },
    {
     "data": {
      "text/plain": [
       "<ggplot: (8760264185629)>"
      ]
     },
     "execution_count": 24,
     "metadata": {},
     "output_type": "execute_result"
    }
   ],
   "source": [
    "(\n",
    "    ggplot(\n",
    "        df_eng,\n",
    "        aes(\n",
    "            x='week',\n",
    "            y='relative_to_week_1',\n",
    "            color='pacing_type'\n",
    "        )\n",
    "    )\n",
    "    + geom_line()\n",
    "    + geom_point()\n",
    "    + ggtitle('Ratio of engaged users to users engaged in week 1')\n",
    ")"
   ]
  },
  {
   "cell_type": "code",
   "execution_count": null,
   "metadata": {
    "collapsed": true
   },
   "outputs": [],
   "source": []
  }
 ],
 "metadata": {
  "kernelspec": {
   "display_name": "Python 3",
   "language": "python",
   "name": "python3"
  },
  "language_info": {
   "codemirror_mode": {
    "name": "ipython",
    "version": 3
   },
   "file_extension": ".py",
   "mimetype": "text/x-python",
   "name": "python",
   "nbconvert_exporter": "python",
   "pygments_lexer": "ipython3",
   "version": "3.6.1"
  }
 },
 "nbformat": 4,
 "nbformat_minor": 2
}
