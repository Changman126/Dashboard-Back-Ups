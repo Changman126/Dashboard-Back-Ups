{
 "cells": [
  {
   "cell_type": "code",
   "execution_count": 1,
   "metadata": {},
   "outputs": [
    {
     "name": "stderr",
     "output_type": "stream",
     "text": [
      "/usr/local/lib/python3.6/site-packages/statsmodels/compat/pandas.py:56: FutureWarning: The pandas.core.datetools module is deprecated and will be removed in a future version. Please use the pandas.tseries module instead.\n",
      "  from pandas.core import datetools\n"
     ]
    }
   ],
   "source": [
    "import datetime\n",
    "import bootstrapped.bootstrap as bs\n",
    "import bootstrapped.compare_functions as bs_compare\n",
    "import bootstrapped.stats_functions as bs_stats\n",
    "import numpy as np\n",
    "import matplotlib.pyplot as plt\n",
    "import matplotlib.patches as patches\n",
    "from matplotlib.lines import Line2D\n",
    "import statsmodels.stats.api as sms\n",
    "import pandas as pd\n",
    "from dateutil.tz import tzutc"
   ]
  },
  {
   "cell_type": "code",
   "execution_count": 2,
   "metadata": {
    "collapsed": true
   },
   "outputs": [],
   "source": [
    "%matplotlib inline"
   ]
  },
  {
   "cell_type": "markdown",
   "metadata": {},
   "source": [
    "Boilerplate Connection Setup\n",
    "---"
   ]
  },
  {
   "cell_type": "code",
   "execution_count": 3,
   "metadata": {
    "collapsed": true
   },
   "outputs": [],
   "source": [
    "%load_ext edx_jupyter"
   ]
  },
  {
   "cell_type": "code",
   "execution_count": 4,
   "metadata": {
    "collapsed": true
   },
   "outputs": [],
   "source": [
    "%reload_ext edx_jupyter"
   ]
  },
  {
   "cell_type": "code",
   "execution_count": 6,
   "metadata": {},
   "outputs": [
    {
     "data": {
      "text/html": [
       "<div>\n",
       "<style>\n",
       "    .dataframe thead tr:only-child th {\n",
       "        text-align: right;\n",
       "    }\n",
       "\n",
       "    .dataframe thead th {\n",
       "        text-align: left;\n",
       "    }\n",
       "\n",
       "    .dataframe tbody tr th {\n",
       "        vertical-align: top;\n",
       "    }\n",
       "</style>\n",
       "<table border=\"1\" class=\"dataframe\">\n",
       "  <thead>\n",
       "    <tr style=\"text-align: right;\">\n",
       "      <th></th>\n",
       "      <th>?column?</th>\n",
       "    </tr>\n",
       "  </thead>\n",
       "  <tbody>\n",
       "    <tr>\n",
       "      <th>0</th>\n",
       "      <td>Connected</td>\n",
       "    </tr>\n",
       "  </tbody>\n",
       "</table>\n",
       "</div>"
      ],
      "text/plain": [
       "    ?column?\n",
       "0  Connected"
      ]
     },
     "execution_count": 6,
     "metadata": {},
     "output_type": "execute_result"
    }
   ],
   "source": [
    "%vertica SELECT 'Connected'"
   ]
  },
  {
   "cell_type": "code",
   "execution_count": 7,
   "metadata": {
    "collapsed": true
   },
   "outputs": [],
   "source": [
    "alpha = 0.1\n",
    "effect_size = 0.2\n",
    "power = 0.8\n",
    "experiment_id = 8416329705"
   ]
  },
  {
   "cell_type": "code",
   "execution_count": 8,
   "metadata": {
    "collapsed": true
   },
   "outputs": [],
   "source": [
    "# When pulling numbers, use this as the end-time\n",
    "transaction_cutoff = datetime.datetime(2017, 6, 21, 0, tzinfo=tzutc())\n",
    "\n",
    "# Note this just needs to be anytime *before* the start of the experiment, it is simply used to limit the amount of\n",
    "# data fetched by some queries\n",
    "experiment_start = datetime.datetime(2017, 6, 13, 0, tzinfo=tzutc())"
   ]
  },
  {
   "cell_type": "markdown",
   "metadata": {},
   "source": [
    "Set the time zone for the vertica session to UTC. This is needed to correctly coerce string columns into TIMESTAMPTZ."
   ]
  },
  {
   "cell_type": "code",
   "execution_count": 9,
   "metadata": {},
   "outputs": [
    {
     "data": {
      "text/html": [
       "<div>\n",
       "<style>\n",
       "    .dataframe thead tr:only-child th {\n",
       "        text-align: right;\n",
       "    }\n",
       "\n",
       "    .dataframe thead th {\n",
       "        text-align: left;\n",
       "    }\n",
       "\n",
       "    .dataframe tbody tr th {\n",
       "        vertical-align: top;\n",
       "    }\n",
       "</style>\n",
       "<table border=\"1\" class=\"dataframe\">\n",
       "  <thead>\n",
       "    <tr style=\"text-align: right;\">\n",
       "      <th></th>\n",
       "      <th>?column?</th>\n",
       "    </tr>\n",
       "  </thead>\n",
       "  <tbody>\n",
       "  </tbody>\n",
       "</table>\n",
       "</div>"
      ],
      "text/plain": [
       "Empty DataFrame\n",
       "Columns: [?column?]\n",
       "Index: []"
      ]
     },
     "execution_count": 9,
     "metadata": {},
     "output_type": "execute_result"
    }
   ],
   "source": [
    "%%vertica\n",
    "\n",
    "SET TIME ZONE 'UTC'"
   ]
  },
  {
   "cell_type": "markdown",
   "metadata": {},
   "source": [
    "Segment's \"anonymous_id\" is expected to more closely match Optimizely's end user ID than edX's internal user ID. This is because edX's ID will be stable across devices, but neither Segment's ID nor Optimizely's will. This workbook assumes anonymous_id is roughly the same as an Optimizely \"visitor\"."
   ]
  },
  {
   "cell_type": "code",
   "execution_count": 10,
   "metadata": {
    "collapsed": true
   },
   "outputs": [],
   "source": [
    "%%vertica (start_time = experiment_start, end_time = transaction_cutoff, experiment_id = experiment_id) -> warehouse_reach\n",
    "SELECT\n",
    "    variationname AS name,\n",
    "    COUNT(DISTINCT anonymous_id) AS segment_visitor_count\n",
    "FROM\n",
    "    experimental_events_run14.event_records event\n",
    "WHERE\n",
    "        event_type = 'Experiment Viewed'\n",
    "    AND experimentid = :experiment_id\n",
    "    AND received_at::TIMESTAMPTZ < :end_time\n",
    "GROUP BY 1"
   ]
  },
  {
   "cell_type": "code",
   "execution_count": 11,
   "metadata": {},
   "outputs": [
    {
     "data": {
      "text/html": [
       "<div>\n",
       "<style>\n",
       "    .dataframe thead tr:only-child th {\n",
       "        text-align: right;\n",
       "    }\n",
       "\n",
       "    .dataframe thead th {\n",
       "        text-align: left;\n",
       "    }\n",
       "\n",
       "    .dataframe tbody tr th {\n",
       "        vertical-align: top;\n",
       "    }\n",
       "</style>\n",
       "<table border=\"1\" class=\"dataframe\">\n",
       "  <thead>\n",
       "    <tr style=\"text-align: right;\">\n",
       "      <th></th>\n",
       "      <th>name</th>\n",
       "      <th>segment_visitor_count</th>\n",
       "    </tr>\n",
       "  </thead>\n",
       "  <tbody>\n",
       "    <tr>\n",
       "      <th>0</th>\n",
       "      <td>Fixed Footer</td>\n",
       "      <td>66372</td>\n",
       "    </tr>\n",
       "    <tr>\n",
       "      <th>1</th>\n",
       "      <td>Hero</td>\n",
       "      <td>65973</td>\n",
       "    </tr>\n",
       "    <tr>\n",
       "      <th>2</th>\n",
       "      <td>Original</td>\n",
       "      <td>66213</td>\n",
       "    </tr>\n",
       "  </tbody>\n",
       "</table>\n",
       "</div>"
      ],
      "text/plain": [
       "           name  segment_visitor_count\n",
       "0  Fixed Footer                  66372\n",
       "1          Hero                  65973\n",
       "2      Original                  66213"
      ]
     },
     "execution_count": 11,
     "metadata": {},
     "output_type": "execute_result"
    }
   ],
   "source": [
    "warehouse_reach"
   ]
  },
  {
   "cell_type": "markdown",
   "metadata": {},
   "source": [
    "Now pull the same data from optimizely."
   ]
  },
  {
   "cell_type": "code",
   "execution_count": 12,
   "metadata": {},
   "outputs": [],
   "source": [
    "import edx_secret\n",
    "api_token = edx_secret.read_secret_from_env_or_prompt('OPS_OPTIMIZELY_TOKEN')"
   ]
  },
  {
   "cell_type": "code",
   "execution_count": 13,
   "metadata": {},
   "outputs": [],
   "source": [
    "import requests\n",
    "res = requests.get('https://api.optimizely.com/v2/experiments/{0}/results?end_time={1}'.format(experiment_id, transaction_cutoff.isoformat().split('+')[0] + 'Z'), headers={'Authorization': 'Bearer {}'.format(api_token)})\n",
    "experiment_results = res.json()"
   ]
  },
  {
   "cell_type": "code",
   "execution_count": 14,
   "metadata": {
    "collapsed": true
   },
   "outputs": [],
   "source": [
    "optimizely_reach = pd.DataFrame(experiment_results['reach']['variations']) \\\n",
    "    .transpose() \\\n",
    "    .rename(columns={'count': 'optimizely_visitor_count'})"
   ]
  },
  {
   "cell_type": "markdown",
   "metadata": {},
   "source": [
    "Compare the optimizely data and the segment data."
   ]
  },
  {
   "cell_type": "code",
   "execution_count": 15,
   "metadata": {},
   "outputs": [
    {
     "data": {
      "text/html": [
       "<div>\n",
       "<style>\n",
       "    .dataframe thead tr:only-child th {\n",
       "        text-align: right;\n",
       "    }\n",
       "\n",
       "    .dataframe thead th {\n",
       "        text-align: left;\n",
       "    }\n",
       "\n",
       "    .dataframe tbody tr th {\n",
       "        vertical-align: top;\n",
       "    }\n",
       "</style>\n",
       "<table border=\"1\" class=\"dataframe\">\n",
       "  <thead>\n",
       "    <tr style=\"text-align: right;\">\n",
       "      <th></th>\n",
       "      <th>name</th>\n",
       "      <th>segment_visitor_count</th>\n",
       "      <th>optimizely_visitor_count</th>\n",
       "      <th>diff</th>\n",
       "      <th>percent_diff</th>\n",
       "    </tr>\n",
       "  </thead>\n",
       "  <tbody>\n",
       "    <tr>\n",
       "      <th>0</th>\n",
       "      <td>Fixed Footer</td>\n",
       "      <td>66372</td>\n",
       "      <td>65858</td>\n",
       "      <td>514</td>\n",
       "      <td>0.780467</td>\n",
       "    </tr>\n",
       "    <tr>\n",
       "      <th>1</th>\n",
       "      <td>Original</td>\n",
       "      <td>66213</td>\n",
       "      <td>65832</td>\n",
       "      <td>381</td>\n",
       "      <td>0.578746</td>\n",
       "    </tr>\n",
       "    <tr>\n",
       "      <th>2</th>\n",
       "      <td>Hero</td>\n",
       "      <td>65973</td>\n",
       "      <td>65306</td>\n",
       "      <td>667</td>\n",
       "      <td>1.02135</td>\n",
       "    </tr>\n",
       "  </tbody>\n",
       "</table>\n",
       "</div>"
      ],
      "text/plain": [
       "           name  segment_visitor_count optimizely_visitor_count diff  \\\n",
       "0  Fixed Footer                  66372                    65858  514   \n",
       "1      Original                  66213                    65832  381   \n",
       "2          Hero                  65973                    65306  667   \n",
       "\n",
       "  percent_diff  \n",
       "0     0.780467  \n",
       "1     0.578746  \n",
       "2      1.02135  "
      ]
     },
     "execution_count": 15,
     "metadata": {},
     "output_type": "execute_result"
    }
   ],
   "source": [
    "compare_reach = optimizely_reach.merge(warehouse_reach, on='name')\n",
    "compare_reach['diff'] = compare_reach['segment_visitor_count'] - compare_reach['optimizely_visitor_count']\n",
    "compare_reach['percent_diff'] = (compare_reach['diff'] / compare_reach['optimizely_visitor_count'].astype(float)) * 100.0\n",
    "compare_reach[['name', 'segment_visitor_count', 'optimizely_visitor_count', 'diff', 'percent_diff']]"
   ]
  },
  {
   "cell_type": "markdown",
   "metadata": {},
   "source": [
    "We see roughly 1% more visitors in our segment analysis than we see in optimizely."
   ]
  },
  {
   "cell_type": "code",
   "execution_count": 16,
   "metadata": {
    "collapsed": true
   },
   "outputs": [],
   "source": [
    "%%vertica (start_time = experiment_start, end_time = transaction_cutoff, experiment_id = experiment_id) -> conversions_raw\n",
    "\n",
    "SELECT\n",
    "    viewed.variation_name,\n",
    "    viewed.anonymous_id,\n",
    "    CASE WHEN SUM(purchased.bookings) > 0 THEN 1 ELSE 0 END AS converted,\n",
    "    SUM(purchased.bookings) AS bookings\n",
    "FROM\n",
    "(\n",
    "    SELECT DISTINCT\n",
    "        anonymous_id,\n",
    "        FIRST_VALUE(variationname) OVER (PARTITION BY anonymous_id ORDER BY received_at ASC ROWS BETWEEN UNBOUNDED PRECEDING AND UNBOUNDED FOLLOWING) AS variation_name,\n",
    "        FIRST_VALUE(received_at) OVER (PARTITION BY anonymous_id ORDER BY received_at ASC ROWS BETWEEN UNBOUNDED PRECEDING AND UNBOUNDED FOLLOWING)::TIMESTAMPTZ AS exposure_time\n",
    "    FROM\n",
    "        experimental_events_run14.event_records event\n",
    "    WHERE\n",
    "            event_type = 'Experiment Viewed'\n",
    "        AND experimentid = :experiment_id\n",
    "        AND received_at::TIMESTAMPTZ < :end_time\n",
    ") AS viewed\n",
    "LEFT JOIN\n",
    "(\n",
    "    SELECT\n",
    "        event.anonymous_id,\n",
    "        REGEXP_SUBSTR(event.search, 'EDX-\\d+') AS order_id,\n",
    "        o.total_incl_tax AS bookings,\n",
    "        MIN(event.received_at::TIMESTAMPTZ) AS purchase_time\n",
    "    FROM\n",
    "        experimental_events_run14.event_records event\n",
    "    LEFT JOIN\n",
    "        otto_read_replica.order_order o ON o.number = REGEXP_SUBSTR(event.search, 'EDX-\\d+')\n",
    "    WHERE\n",
    "            event.event_type = 'page'\n",
    "        AND event.project = 'GHEUdjuJS4'\n",
    "        AND event.path='/checkout/receipt/'\n",
    "        AND event.received_at::TIMESTAMPTZ > :start_time\n",
    "    GROUP BY 1, 2, 3\n",
    ") AS purchased \n",
    "    ON  viewed.anonymous_id = purchased.anonymous_id\n",
    "    AND purchased.purchase_time > viewed.exposure_time\n",
    "    AND purchased.purchase_time < :end_time\n",
    "GROUP BY 1, 2"
   ]
  },
  {
   "cell_type": "code",
   "execution_count": 17,
   "metadata": {
    "collapsed": true
   },
   "outputs": [],
   "source": [
    "conversions = conversions_raw.set_index('variation_name')"
   ]
  },
  {
   "cell_type": "code",
   "execution_count": 18,
   "metadata": {
    "collapsed": true
   },
   "outputs": [],
   "source": [
    "warehouse_converted = conversions.groupby(level=0).sum()[['converted']].rename(columns={'converted': 'segment_converted'})"
   ]
  },
  {
   "cell_type": "code",
   "execution_count": 19,
   "metadata": {},
   "outputs": [
    {
     "data": {
      "text/html": [
       "<div>\n",
       "<style>\n",
       "    .dataframe thead tr:only-child th {\n",
       "        text-align: right;\n",
       "    }\n",
       "\n",
       "    .dataframe thead th {\n",
       "        text-align: left;\n",
       "    }\n",
       "\n",
       "    .dataframe tbody tr th {\n",
       "        vertical-align: top;\n",
       "    }\n",
       "</style>\n",
       "<table border=\"1\" class=\"dataframe\">\n",
       "  <thead>\n",
       "    <tr style=\"text-align: right;\">\n",
       "      <th></th>\n",
       "      <th>segment_converted</th>\n",
       "    </tr>\n",
       "    <tr>\n",
       "      <th>variation_name</th>\n",
       "      <th></th>\n",
       "    </tr>\n",
       "  </thead>\n",
       "  <tbody>\n",
       "    <tr>\n",
       "      <th>Fixed Footer</th>\n",
       "      <td>879</td>\n",
       "    </tr>\n",
       "    <tr>\n",
       "      <th>Hero</th>\n",
       "      <td>801</td>\n",
       "    </tr>\n",
       "    <tr>\n",
       "      <th>Original</th>\n",
       "      <td>725</td>\n",
       "    </tr>\n",
       "  </tbody>\n",
       "</table>\n",
       "</div>"
      ],
      "text/plain": [
       "                segment_converted\n",
       "variation_name                   \n",
       "Fixed Footer                  879\n",
       "Hero                          801\n",
       "Original                      725"
      ]
     },
     "execution_count": 19,
     "metadata": {},
     "output_type": "execute_result"
    }
   ],
   "source": [
    "warehouse_converted"
   ]
  },
  {
   "cell_type": "code",
   "execution_count": 20,
   "metadata": {},
   "outputs": [
    {
     "data": {
      "text/html": [
       "<div>\n",
       "<style>\n",
       "    .dataframe thead tr:only-child th {\n",
       "        text-align: right;\n",
       "    }\n",
       "\n",
       "    .dataframe thead th {\n",
       "        text-align: left;\n",
       "    }\n",
       "\n",
       "    .dataframe tbody tr th {\n",
       "        vertical-align: top;\n",
       "    }\n",
       "</style>\n",
       "<table border=\"1\" class=\"dataframe\">\n",
       "  <thead>\n",
       "    <tr style=\"text-align: right;\">\n",
       "      <th></th>\n",
       "      <th>name</th>\n",
       "      <th>segment_converted</th>\n",
       "      <th>optimizely_converted</th>\n",
       "      <th>diff</th>\n",
       "      <th>percent_diff</th>\n",
       "    </tr>\n",
       "  </thead>\n",
       "  <tbody>\n",
       "    <tr>\n",
       "      <th>8411657731</th>\n",
       "      <td>Fixed Footer</td>\n",
       "      <td>879</td>\n",
       "      <td>910</td>\n",
       "      <td>-31</td>\n",
       "      <td>-3.40659</td>\n",
       "    </tr>\n",
       "    <tr>\n",
       "      <th>8415657676</th>\n",
       "      <td>Original</td>\n",
       "      <td>725</td>\n",
       "      <td>770</td>\n",
       "      <td>-45</td>\n",
       "      <td>-5.84416</td>\n",
       "    </tr>\n",
       "    <tr>\n",
       "      <th>8421800642</th>\n",
       "      <td>Hero</td>\n",
       "      <td>801</td>\n",
       "      <td>833</td>\n",
       "      <td>-32</td>\n",
       "      <td>-3.84154</td>\n",
       "    </tr>\n",
       "  </tbody>\n",
       "</table>\n",
       "</div>"
      ],
      "text/plain": [
       "                    name  segment_converted optimizely_converted diff  \\\n",
       "8411657731  Fixed Footer                879                  910  -31   \n",
       "8415657676      Original                725                  770  -45   \n",
       "8421800642          Hero                801                  833  -32   \n",
       "\n",
       "           percent_diff  \n",
       "8411657731     -3.40659  \n",
       "8415657676     -5.84416  \n",
       "8421800642     -3.84154  "
      ]
     },
     "execution_count": 20,
     "metadata": {},
     "output_type": "execute_result"
    }
   ],
   "source": [
    "compare_conversions = pd.DataFrame(experiment_results['metrics'][0]['results']) \\\n",
    "    .transpose() \\\n",
    "    .rename(columns={'value': 'optimizely_converted'}) \\\n",
    "    .merge(warehouse_converted, left_on='name', right_index=True)\n",
    "compare_conversions['diff'] = compare_conversions['segment_converted'] - compare_conversions['optimizely_converted']\n",
    "compare_conversions['percent_diff'] = compare_conversions['diff'] / compare_conversions['optimizely_converted'] * 100\n",
    "compare_conversions[['name', 'segment_converted', 'optimizely_converted', 'diff', 'percent_diff']]"
   ]
  },
  {
   "cell_type": "code",
   "execution_count": 21,
   "metadata": {
    "collapsed": true
   },
   "outputs": [],
   "source": [
    "def plot_confidence_interval(res, axes):\n",
    "    bar_height = 0.25\n",
    "    axes.axvline(x=0)\n",
    "    face_color = '0.75'\n",
    "    if res.lower_bound > 0:\n",
    "        face_color = 'lightgreen'\n",
    "    elif res.upper_bound < 0:\n",
    "        face_color = 'lightred'\n",
    "    axes.add_patch(\n",
    "        patches.Rectangle(\n",
    "            (res.lower_bound, -(bar_height / 2)),\n",
    "            res.upper_bound - res.lower_bound,\n",
    "            bar_height,\n",
    "            facecolor=face_color\n",
    "        )\n",
    "    )\n",
    "    axes.add_line(Line2D([res.value, res.value], [-(bar_height / 2), (bar_height / 2)], color='k'))\n",
    "    axes.text(res.lower_bound, (bar_height/2)*1.1, str(round(res.lower_bound, 2)) + '%')\n",
    "    axes.text(res.value, -(bar_height/2)*2, str(round(res.value, 2)) + '%')\n",
    "    axes.text(res.upper_bound, (bar_height/2)*1.1, str(round(res.upper_bound, 2)) + '%')"
   ]
  },
  {
   "cell_type": "code",
   "execution_count": 22,
   "metadata": {
    "collapsed": true
   },
   "outputs": [],
   "source": [
    "def plot_comparative_intervals(intervals, titles):\n",
    "    num_intervals = len(intervals)\n",
    "    f, axarr = plt.subplots(num_intervals, sharex=True)\n",
    "\n",
    "    max_x = 0\n",
    "    for interval in intervals:\n",
    "        if abs(interval.lower_bound) > max_x:\n",
    "            max_x = abs(interval.lower_bound)\n",
    "        if abs(interval.upper_bound) > max_x:\n",
    "            max_x = abs(interval.upper_bound)\n",
    "    \n",
    "    for index, interval in enumerate(intervals):\n",
    "        axarr[index].set_xlim([-(max_x*1.3), max_x*1.3])\n",
    "        axarr[index].set_ylim([-1, 1])\n",
    "        axarr[index].set_title(titles[index])\n",
    "        plot_confidence_interval(interval, axarr[index])"
   ]
  },
  {
   "cell_type": "code",
   "execution_count": 23,
   "metadata": {
    "collapsed": true
   },
   "outputs": [],
   "source": [
    "def test_significance(control_data, test_data):\n",
    "    bs_res = bs.bootstrap_ab(\n",
    "        test_data,\n",
    "        control_data,\n",
    "        stat_func=bs_stats.mean,\n",
    "        compare_func=bs_compare.percent_change,\n",
    "        num_iterations=10000,\n",
    "        num_threads=-1,\n",
    "        alpha=alpha\n",
    "    )\n",
    "    return bs_res"
   ]
  },
  {
   "cell_type": "code",
   "execution_count": 24,
   "metadata": {
    "collapsed": true
   },
   "outputs": [],
   "source": [
    "def summarize_conversion_rate(label, data):\n",
    "    relative_change = bs_compare.percent_change(data.mean(), ctrl.mean())\n",
    "    print('{0} {1}/{2} CR={3}% Change={4}{5}%'.format(\n",
    "        label,\n",
    "        round(data.sum(), 2),\n",
    "        len(data),\n",
    "        round(data.mean() * 100, 2),\n",
    "        '+' if relative_change >= 0 else '',\n",
    "        round(relative_change, 2)\n",
    "    ))"
   ]
  },
  {
   "cell_type": "code",
   "execution_count": 25,
   "metadata": {},
   "outputs": [
    {
     "name": "stdout",
     "output_type": "stream",
     "text": [
      "--- Summary of groups ---\n",
      "Original 725/66086 CR=1.1% Change=+0.0%\n",
      "Hero 801/65840 CR=1.22% Change=+10.9%\n",
      "Fixed Footer 879/66251 CR=1.33% Change=+20.94%\n",
      "\n",
      "--- Necessary sample size per group ---\n",
      "At least 30557 users per group\n",
      "\n",
      "--- Fixed Footer ---\n",
      "20.939424206479135    (10.441560384212707, 30.560700404887427)\n",
      "\n",
      "--- Hero ---\n",
      "10.895558721246923    (1.2021730896448553, 19.933465624466443)\n",
      "\n"
     ]
    },
    {
     "data": {
      "image/png": "[encoded data removed]",
      "text/plain": [
       "<matplotlib.figure.Figure at 0x7f76060399b0>"
      ]
     },
     "metadata": {},
     "output_type": "display_data"
    }
   ],
   "source": [
    "ctrl = np.array(conversions.loc['Original'].converted)\n",
    "test_hero = np.array(conversions.loc['Hero'].converted)\n",
    "test_fixed_footer = np.array(conversions.loc['Fixed Footer'].converted)\n",
    "\n",
    "print('--- Summary of groups ---')\n",
    "summarize_conversion_rate('Original', ctrl)\n",
    "summarize_conversion_rate('Hero', test_hero)\n",
    "summarize_conversion_rate('Fixed Footer', test_fixed_footer)\n",
    "print()\n",
    "\n",
    "print('--- Necessary sample size per group ---')\n",
    "es = sms.proportion_effectsize(ctrl.mean(), ctrl.mean()*(1 + effect_size))\n",
    "sample_size = round(sms.NormalIndPower().solve_power(es, power=power, alpha=alpha, ratio=1))\n",
    "print('At least {0} users per group'.format(sample_size))\n",
    "print()\n",
    "\n",
    "print('--- Fixed Footer ---')\n",
    "fixed_footer_ci = test_significance(ctrl, test_fixed_footer)\n",
    "print(fixed_footer_ci)\n",
    "print()\n",
    "\n",
    "print('--- Hero ---')\n",
    "hero_ci = test_significance(ctrl, test_hero)\n",
    "print(hero_ci)\n",
    "print()\n",
    "\n",
    "plot_comparative_intervals([hero_ci, fixed_footer_ci], ['Hero', 'Fixed Footer'])"
   ]
  },
  {
   "cell_type": "code",
   "execution_count": 26,
   "metadata": {
    "collapsed": true
   },
   "outputs": [],
   "source": [
    "def summarize_bookings(label, data):\n",
    "    relative_change = bs_compare.percent_change(data.mean(), ctrl.mean())\n",
    "    print('{0} ${1}/{2} $/visitor=${3} Change={4}{5}%'.format(\n",
    "        label,\n",
    "        round(data.sum(), 2),\n",
    "        len(data),\n",
    "        round(data.mean(), 2),\n",
    "        '+' if relative_change >= 0 else '',\n",
    "        round(relative_change, 2)\n",
    "    ))"
   ]
  },
  {
   "cell_type": "code",
   "execution_count": 27,
   "metadata": {},
   "outputs": [
    {
     "name": "stdout",
     "output_type": "stream",
     "text": [
      "--- Summary of groups ---\n",
      "Original $65957.7/66086 $/visitor=$1.0 Change=+0.0%\n",
      "Hero $74462.4/65840 $/visitor=$1.13 Change=+13.32%\n",
      "Fixed Footer $81594.1/66251 $/visitor=$1.23 Change=+23.4%\n",
      "\n",
      "--- Fixed Footer ---\n",
      "23.398613919250938    (8.242436192017195, 36.47863066958844)\n",
      "\n",
      "--- Hero ---\n",
      "13.315983025617141    (-0.3835307641474621, 25.33688015259426)\n",
      "\n"
     ]
    },
    {
     "data": {
      "image/png": "[encoded data removed]",
      "text/plain": [
       "<matplotlib.figure.Figure at 0x7f7606039a20>"
      ]
     },
     "metadata": {},
     "output_type": "display_data"
    }
   ],
   "source": [
    "ctrl = np.array(conversions.loc['Original'].bookings.fillna(0).astype(float))\n",
    "test_hero = np.array(conversions.loc['Hero'].bookings.fillna(0).astype(float))\n",
    "test_fixed_footer = np.array(conversions.loc['Fixed Footer'].bookings.fillna(0).astype(float))\n",
    "\n",
    "print('--- Summary of groups ---')\n",
    "summarize_bookings('Original', ctrl)\n",
    "summarize_bookings('Hero', test_hero)\n",
    "summarize_bookings('Fixed Footer', test_fixed_footer)\n",
    "print()\n",
    "\n",
    "print('--- Fixed Footer ---')\n",
    "fixed_footer_ci = test_significance(ctrl, test_fixed_footer)\n",
    "print(fixed_footer_ci)\n",
    "print()\n",
    "\n",
    "print('--- Hero ---')\n",
    "hero_ci = test_significance(ctrl, test_hero)\n",
    "print(hero_ci)\n",
    "print()\n",
    "\n",
    "plot_comparative_intervals([hero_ci, fixed_footer_ci], ['Hero', 'Fixed Footer'])"
   ]
  },
  {
   "cell_type": "code",
   "execution_count": 28,
   "metadata": {
    "collapsed": true
   },
   "outputs": [],
   "source": [
    "%%vertica (start_time = experiment_start, end_time = transaction_cutoff, experiment_id = experiment_id) -> order_completions\n",
    "\n",
    "SELECT\n",
    "    viewed.variation_name,\n",
    "    viewed.anonymous_id,\n",
    "    CASE WHEN COUNT(purchased.anonymous_id) > 0 THEN 1 ELSE 0 END AS converted\n",
    "FROM\n",
    "(\n",
    "    SELECT DISTINCT\n",
    "        anonymous_id,\n",
    "        FIRST_VALUE(variationname) OVER (PARTITION BY anonymous_id ORDER BY received_at ASC ROWS BETWEEN UNBOUNDED PRECEDING AND UNBOUNDED FOLLOWING) AS variation_name,\n",
    "        FIRST_VALUE(received_at) OVER (PARTITION BY anonymous_id ORDER BY received_at ASC ROWS BETWEEN UNBOUNDED PRECEDING AND UNBOUNDED FOLLOWING)::TIMESTAMPTZ AS exposure_time\n",
    "    FROM\n",
    "        experimental_events_run14.event_records event\n",
    "    WHERE\n",
    "            event_type = 'Experiment Viewed'\n",
    "        AND experimentid = :experiment_id\n",
    "        AND received_at::TIMESTAMPTZ < :end_time\n",
    ") AS viewed\n",
    "LEFT JOIN\n",
    "(\n",
    "    SELECT\n",
    "        event.anonymous_id,\n",
    "        MIN(event.received_at::TIMESTAMPTZ) AS purchase_time\n",
    "    FROM\n",
    "        experimental_events_run14.event_records event\n",
    "    WHERE\n",
    "            event.event_type = 'Order Completed'\n",
    "        AND event.event_source = 'client'\n",
    "        AND event.received_at::TIMESTAMPTZ > :start_time\n",
    "    GROUP BY 1\n",
    ") AS purchased \n",
    "    ON  viewed.anonymous_id = purchased.anonymous_id\n",
    "    AND purchased.purchase_time > viewed.exposure_time\n",
    "    AND purchased.purchase_time < :end_time\n",
    "GROUP BY 1, 2"
   ]
  },
  {
   "cell_type": "code",
   "execution_count": 29,
   "metadata": {
    "scrolled": true
   },
   "outputs": [
    {
     "data": {
      "text/plain": [
       "variation_name\n",
       "Fixed Footer    1007\n",
       "Hero             913\n",
       "Original         868\n",
       "Name: converted, dtype: int64"
      ]
     },
     "execution_count": 29,
     "metadata": {},
     "output_type": "execute_result"
    }
   ],
   "source": [
    "order_completions.groupby('variation_name').sum().converted"
   ]
  },
  {
   "cell_type": "code",
   "execution_count": 30,
   "metadata": {},
   "outputs": [
    {
     "data": {
      "text/plain": [
       "2788"
      ]
     },
     "execution_count": 30,
     "metadata": {},
     "output_type": "execute_result"
    }
   ],
   "source": [
    "total = order_completions.groupby('variation_name').sum().converted.sum()\n",
    "total"
   ]
  },
  {
   "cell_type": "code",
   "execution_count": 31,
   "metadata": {},
   "outputs": [
    {
     "data": {
      "text/plain": [
       "2513"
      ]
     },
     "execution_count": 31,
     "metadata": {},
     "output_type": "execute_result"
    }
   ],
   "source": [
    "opt_total = 910+770+833\n",
    "opt_total"
   ]
  },
  {
   "cell_type": "code",
   "execution_count": null,
   "metadata": {
    "collapsed": true
   },
   "outputs": [],
   "source": []
  }
 ],
 "metadata": {
  "kernelspec": {
   "display_name": "Python 3",
   "language": "python",
   "name": "python3"
  },
  "language_info": {
   "codemirror_mode": {
    "name": "ipython",
    "version": 3
   },
   "file_extension": ".py",
   "mimetype": "text/x-python",
   "name": "python",
   "nbconvert_exporter": "python",
   "pygments_lexer": "ipython3",
   "version": "3.6.1"
  }
 },
 "nbformat": 4,
 "nbformat_minor": 2
}
