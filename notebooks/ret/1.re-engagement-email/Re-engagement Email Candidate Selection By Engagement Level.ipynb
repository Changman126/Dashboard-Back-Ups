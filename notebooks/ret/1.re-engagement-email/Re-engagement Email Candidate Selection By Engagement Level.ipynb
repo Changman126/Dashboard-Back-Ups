{
 "cells": [
  {
   "cell_type": "markdown",
   "metadata": {},
   "source": [
    "Boilerplate Connection Setup\n",
    "---"
   ]
  },
  {
   "cell_type": "code",
   "execution_count": 2,
   "metadata": {},
   "outputs": [],
   "source": [
    "%load_ext edx_jupyter"
   ]
  },
  {
   "cell_type": "code",
   "execution_count": 3,
   "metadata": {},
   "outputs": [
    {
     "data": {
      "text/html": [
       "<div>\n",
       "<table border=\"1\" class=\"dataframe\">\n",
       "  <thead>\n",
       "    <tr style=\"text-align: right;\">\n",
       "      <th></th>\n",
       "      <th>?column?</th>\n",
       "    </tr>\n",
       "  </thead>\n",
       "  <tbody>\n",
       "    <tr>\n",
       "      <th>0</th>\n",
       "      <td>Connected</td>\n",
       "    </tr>\n",
       "  </tbody>\n",
       "</table>\n",
       "</div>"
      ],
      "text/plain": [
       "    ?column?\n",
       "0  Connected"
      ]
     },
     "execution_count": 3,
     "metadata": {},
     "output_type": "execute_result"
    }
   ],
   "source": [
    "%%vertica\n",
    "\n",
    "SELECT 'Connected'"
   ]
  },
  {
   "cell_type": "markdown",
   "metadata": {},
   "source": [
    "Set up parameters\n",
    "---"
   ]
  },
  {
   "cell_type": "code",
   "execution_count": 4,
   "metadata": {
    "collapsed": true
   },
   "outputs": [],
   "source": [
    "less_recent_than = 7\n",
    "more_recent_than = 28"
   ]
  },
  {
   "cell_type": "markdown",
   "metadata": {},
   "source": [
    "Store queries\n",
    "---"
   ]
  },
  {
   "cell_type": "code",
   "execution_count": 5,
   "metadata": {
    "collapsed": true
   },
   "outputs": [],
   "source": [
    "find_disengaged_users = \"\"\"\n",
    "SELECT\n",
    "    act.user_id,\n",
    "    act.course_id,\n",
    "    act.last_activity_date,\n",
    "    el.engagement_level\n",
    "FROM\n",
    "(\n",
    "    SELECT\n",
    "        act.user_id,\n",
    "        act.course_id,\n",
    "        act.last_activity_date\n",
    "    FROM\n",
    "    (\n",
    "        SELECT\n",
    "            user_id,\n",
    "            course_id,\n",
    "            MAX(date) AS last_activity_date\n",
    "        FROM\n",
    "            public.all_user_engagement\n",
    "        WHERE\n",
    "                is_engaged\n",
    "            AND date <= :end_date\n",
    "        GROUP BY 1, 2\n",
    "    ) act\n",
    "    JOIN\n",
    "            experiment_courses as crs\n",
    "        ON act.course_id = crs.course_id\n",
    "    WHERE\n",
    "        DATEDIFF('day', act.last_activity_date, :end_date) BETWEEN :less_recent_than AND :more_recent_than\n",
    ") as act\n",
    "JOIN\n",
    "        production.d_user_course as uc\n",
    "    ON uc.user_id = act.user_id\n",
    "    AND uc.course_id = act.course_id\n",
    "    AND (uc.first_verified_enrollment_time is NULL\n",
    "         OR uc.first_verified_enrollment_time > :end_date)\n",
    "LEFT JOIN\n",
    "        first_week_engagement_level el\n",
    "    ON el.user_id = act.user_id\n",
    "    AND el.course_id = act.course_id\n",
    "\"\"\"\n",
    "    \n",
    "latest_disengaged_course = \"\"\"\n",
    "SELECT DISTINCT\n",
    "    user_id,\n",
    "    LAST_VALUE(course_id) OVER (\n",
    "        PARTITION BY user_id ORDER BY last_activity_date\n",
    "        ROWS BETWEEN UNBOUNDED PRECEDING AND UNBOUNDED FOLLOWING\n",
    "    ) as course_id,\n",
    "    LAST_VALUE(last_activity_date) OVER (\n",
    "        PARTITION BY user_id ORDER BY last_activity_date\n",
    "        ROWS BETWEEN UNBOUNDED PRECEDING AND UNBOUNDED FOLLOWING\n",
    "    ) as last_activity_date,\n",
    "    LAST_VALUE(engagement_level) OVER (\n",
    "        PARTITION BY user_id ORDER BY last_activity_date\n",
    "        ROWS BETWEEN UNBOUNDED PRECEDING AND UNBOUNDED FOLLOWING\n",
    "    ) as engagement_level\n",
    "\"\"\""
   ]
  },
  {
   "cell_type": "markdown",
   "metadata": {},
   "source": [
    "Fill in data for recent days\n",
    "---"
   ]
  },
  {
   "cell_type": "code",
   "execution_count": 6,
   "metadata": {},
   "outputs": [
    {
     "data": {
      "text/html": [
       "<div>\n",
       "<table border=\"1\" class=\"dataframe\">\n",
       "  <thead>\n",
       "    <tr style=\"text-align: right;\">\n",
       "      <th></th>\n",
       "      <th>?column?</th>\n",
       "    </tr>\n",
       "  </thead>\n",
       "  <tbody>\n",
       "  </tbody>\n",
       "</table>\n",
       "</div>"
      ],
      "text/plain": [
       "Empty DataFrame\n",
       "Columns: [?column?]\n",
       "Index: []"
      ]
     },
     "execution_count": 6,
     "metadata": {},
     "output_type": "execute_result"
    }
   ],
   "source": [
    "%%vertica\n",
    "DROP TABLE IF EXISTS public.recent_user_engagement;\n",
    "CREATE TABLE public.recent_user_engagement AS\n",
    "SELECT\n",
    "    user_id,\n",
    "    course_id,\n",
    "    date,\n",
    "    CASE WHEN number_of_activities > 0 THEN 1 ELSE 0 END AS is_engaged\n",
    "FROM\n",
    "(\n",
    "    SELECT\n",
    "        context_user_id::INT AS user_id,\n",
    "        context_course_id AS course_id,\n",
    "        DATE(timestamp) AS date,\n",
    "        CASE\n",
    "            WHEN event_type = 'problem_check' THEN 'ATTEMPTED_PROBLEM'\n",
    "            WHEN event_type = 'play_video' THEN 'PLAYED_VIDEO'\n",
    "            ELSE 'POSTED_FORUM'\n",
    "        END AS activity_type,\n",
    "        COUNT(*) AS number_of_activities\n",
    "    FROM\n",
    "        experimental_events_run14.event_records\n",
    "    WHERE\n",
    "        project='tracking_prod'\n",
    "        AND (\n",
    "            (event_source='server' AND event_type='problem_check')\n",
    "            OR (event_type LIKE 'edx.forum.%.created')\n",
    "            OR (event_source IN ('browser', 'mobile') AND event_type='play_video')\n",
    "        )\n",
    "        AND DATE(timestamp) > (SELECT MAX(date) FROM production.f_user_activity)\n",
    "        AND DATE(timestamp) < NOW()\n",
    "    GROUP BY\n",
    "        1, 2, 3, 4\n",
    ") a;\n",
    "GRANT SELECT ON public.recent_user_engagement TO standard;"
   ]
  },
  {
   "cell_type": "code",
   "execution_count": 7,
   "metadata": {},
   "outputs": [
    {
     "data": {
      "text/html": [
       "<div>\n",
       "<table border=\"1\" class=\"dataframe\">\n",
       "  <thead>\n",
       "    <tr style=\"text-align: right;\">\n",
       "      <th></th>\n",
       "      <th>?column?</th>\n",
       "    </tr>\n",
       "  </thead>\n",
       "  <tbody>\n",
       "  </tbody>\n",
       "</table>\n",
       "</div>"
      ],
      "text/plain": [
       "Empty DataFrame\n",
       "Columns: [?column?]\n",
       "Index: []"
      ]
     },
     "execution_count": 7,
     "metadata": {},
     "output_type": "execute_result"
    }
   ],
   "source": [
    "%%vertica\n",
    "CREATE OR REPLACE VIEW public.all_user_engagement AS\n",
    "SELECT\n",
    "    user_id,\n",
    "    course_id,\n",
    "    date,\n",
    "    is_engaged\n",
    "FROM\n",
    "    public.recent_user_engagement\n",
    "UNION\n",
    "SELECT\n",
    "    user_id,\n",
    "    course_id,\n",
    "    date,\n",
    "    is_engaged\n",
    "FROM\n",
    "    business_intelligence.activity_engagement_user_daily"
   ]
  },
  {
   "cell_type": "markdown",
   "metadata": {},
   "source": [
    "Find the most recent date of user activity imported\n",
    "---"
   ]
  },
  {
   "cell_type": "code",
   "execution_count": 8,
   "metadata": {
    "collapsed": true
   },
   "outputs": [],
   "source": [
    "%%vertica -> latest_activity\n",
    "SELECT MAX(date) FROM public.all_user_engagement"
   ]
  },
  {
   "cell_type": "code",
   "execution_count": 9,
   "metadata": {
    "collapsed": true
   },
   "outputs": [],
   "source": [
    "end_date = latest_activity['MAX'][0]"
   ]
  },
  {
   "cell_type": "code",
   "execution_count": 10,
   "metadata": {},
   "outputs": [
    {
     "name": "stdout",
     "output_type": "stream",
     "text": [
      "2017-06-05\n"
     ]
    }
   ],
   "source": [
    "print(end_date.isoformat())"
   ]
  },
  {
   "cell_type": "markdown",
   "metadata": {},
   "source": [
    "Find the courses that meet our criteria\n",
    "---"
   ]
  },
  {
   "cell_type": "code",
   "execution_count": 11,
   "metadata": {},
   "outputs": [
    {
     "data": {
      "text/html": [
       "<div>\n",
       "<table border=\"1\" class=\"dataframe\">\n",
       "  <thead>\n",
       "    <tr style=\"text-align: right;\">\n",
       "      <th></th>\n",
       "      <th>MAX</th>\n",
       "    </tr>\n",
       "  </thead>\n",
       "  <tbody>\n",
       "  </tbody>\n",
       "</table>\n",
       "</div>"
      ],
      "text/plain": [
       "Empty DataFrame\n",
       "Columns: [MAX]\n",
       "Index: []"
      ]
     },
     "execution_count": 11,
     "metadata": {},
     "output_type": "execute_result"
    }
   ],
   "source": [
    "%%vertica (end_date=end_date)\n",
    "DROP TABLE IF EXISTS experiment_courses;\n",
    "\n",
    "CREATE TEMPORARY TABLE experiment_courses\n",
    "ON COMMIT PRESERVE ROWS\n",
    "AS SELECT\n",
    "    course_id,\n",
    "    course_start_date\n",
    "FROM\n",
    "    business_intelligence.course_master\n",
    "WHERE\n",
    "        (content_language is NULL OR content_language = 'en-us')\n",
    "    AND pacing_type = 'self_paced'\n",
    "    AND DATEDIFF('day', :end_date, course_verification_end_date) > 7\n",
    "    AND :end_date < course_end_date\n",
    "    AND DATEDIFF('day', course_start_date, :end_date) > 7"
   ]
  },
  {
   "cell_type": "code",
   "execution_count": 12,
   "metadata": {},
   "outputs": [
    {
     "data": {
      "text/html": [
       "<div>\n",
       "<table border=\"1\" class=\"dataframe\">\n",
       "  <thead>\n",
       "    <tr style=\"text-align: right;\">\n",
       "      <th></th>\n",
       "      <th>COUNT</th>\n",
       "    </tr>\n",
       "  </thead>\n",
       "  <tbody>\n",
       "    <tr>\n",
       "      <th>0</th>\n",
       "      <td>335</td>\n",
       "    </tr>\n",
       "  </tbody>\n",
       "</table>\n",
       "</div>"
      ],
      "text/plain": [
       "   COUNT\n",
       "0    335"
      ]
     },
     "execution_count": 12,
     "metadata": {},
     "output_type": "execute_result"
    }
   ],
   "source": [
    "%vertica SELECT COUNT(*) FROM experiment_courses"
   ]
  },
  {
   "cell_type": "markdown",
   "metadata": {},
   "source": [
    "Identify highly engaged users\n",
    "---\n",
    "\n",
    "### Definitions\n",
    "\n",
    "**Content Availability**: This is the first time the user is able to access the content within the course, it will either be the time they enroll or the start time of the course, whichever is greater.\n",
    "\n",
    "#### Engagement Levels\n",
    "* **high**: The user performed at least one engagement action in 2+ days in the first week of content availability\n",
    "* **minimal**: The user performed at least one engagement action in exactly one day in the first week of content availability\n",
    "* **never**: The user did not perform any engagement actions within the first week of content availability"
   ]
  },
  {
   "cell_type": "code",
   "execution_count": 13,
   "metadata": {},
   "outputs": [
    {
     "data": {
      "text/html": [
       "<div>\n",
       "<table border=\"1\" class=\"dataframe\">\n",
       "  <thead>\n",
       "    <tr style=\"text-align: right;\">\n",
       "      <th></th>\n",
       "      <th>COUNT</th>\n",
       "    </tr>\n",
       "  </thead>\n",
       "  <tbody>\n",
       "  </tbody>\n",
       "</table>\n",
       "</div>"
      ],
      "text/plain": [
       "Empty DataFrame\n",
       "Columns: [COUNT]\n",
       "Index: []"
      ]
     },
     "execution_count": 13,
     "metadata": {},
     "output_type": "execute_result"
    }
   ],
   "source": [
    "%%vertica\n",
    "DROP TABLE IF EXISTS user_content_availability;\n",
    "\n",
    "CREATE TEMPORARY TABLE user_content_availability\n",
    "ON COMMIT PRESERVE ROWS AS\n",
    "SELECT\n",
    "    CASE\n",
    "        WHEN c.course_start_date >= uc.first_enrollment_time THEN c.course_start_date\n",
    "        WHEN c.course_start_date < uc.first_enrollment_time THEN DATE(uc.first_enrollment_time)\n",
    "    END AS content_availability_date,\n",
    "    uc.user_id,\n",
    "    uc.course_id\n",
    "FROM\n",
    "    production.d_user_course uc\n",
    "JOIN\n",
    "    business_intelligence.course_master c\n",
    "ON\n",
    "    uc.course_id = c.course_id\n",
    "JOIN\n",
    "    experiment_courses ec\n",
    "ON\n",
    "    ec.course_id = uc.course_id"
   ]
  },
  {
   "cell_type": "code",
   "execution_count": 14,
   "metadata": {},
   "outputs": [
    {
     "data": {
      "text/html": [
       "<div>\n",
       "<table border=\"1\" class=\"dataframe\">\n",
       "  <thead>\n",
       "    <tr style=\"text-align: right;\">\n",
       "      <th></th>\n",
       "      <th>COUNT</th>\n",
       "    </tr>\n",
       "  </thead>\n",
       "  <tbody>\n",
       "  </tbody>\n",
       "</table>\n",
       "</div>"
      ],
      "text/plain": [
       "Empty DataFrame\n",
       "Columns: [COUNT]\n",
       "Index: []"
      ]
     },
     "execution_count": 14,
     "metadata": {},
     "output_type": "execute_result"
    }
   ],
   "source": [
    "%%vertica\n",
    "DROP TABLE IF EXISTS first_week_engagement_level;\n",
    "\n",
    "CREATE TEMPORARY TABLE first_week_engagement_level\n",
    "ON COMMIT PRESERVE ROWS AS\n",
    "SELECT\n",
    "    e.user_id,\n",
    "    e.course_id,\n",
    "    ca.content_availability_date,\n",
    "    CASE WHEN SUM(e.is_engaged) >= 2 THEN 'high'\n",
    "         WHEN SUM(e.is_engaged) = 1 THEN 'minimal'\n",
    "    END AS engagement_level\n",
    "FROM\n",
    "    business_intelligence.activity_engagement_user_daily e\n",
    "JOIN\n",
    "    user_content_availability ca\n",
    "ON\n",
    "    ca.course_id = e.course_id AND e.user_id = ca.user_id\n",
    "WHERE\n",
    "    DATEDIFF('day', ca.content_availability_date, e.date) BETWEEN 0 AND 6\n",
    "GROUP BY 1, 2, 3\n",
    "HAVING SUM(e.is_engaged) > 0"
   ]
  },
  {
   "cell_type": "markdown",
   "metadata": {},
   "source": [
    "Find recently disengaged users\n",
    "---"
   ]
  },
  {
   "cell_type": "code",
   "execution_count": 15,
   "metadata": {},
   "outputs": [
    {
     "data": {
      "text/html": [
       "<div>\n",
       "<table border=\"1\" class=\"dataframe\">\n",
       "  <thead>\n",
       "    <tr style=\"text-align: right;\">\n",
       "      <th></th>\n",
       "      <th>COUNT</th>\n",
       "    </tr>\n",
       "  </thead>\n",
       "  <tbody>\n",
       "  </tbody>\n",
       "</table>\n",
       "</div>"
      ],
      "text/plain": [
       "Empty DataFrame\n",
       "Columns: [COUNT]\n",
       "Index: []"
      ]
     },
     "execution_count": 15,
     "metadata": {},
     "output_type": "execute_result"
    }
   ],
   "source": [
    "%%vertica (end_date=end_date, less_recent_than=less_recent_than, more_recent_than=more_recent_than)\n",
    "DROP TABLE IF EXISTS recently_disengaged_users;\n",
    "\n",
    "CREATE TEMPORARY TABLE recently_disengaged_users\n",
    "ON COMMIT PRESERVE ROWS\n",
    "AS {find_disengaged_users}"
   ]
  },
  {
   "cell_type": "code",
   "execution_count": 16,
   "metadata": {},
   "outputs": [
    {
     "data": {
      "text/html": [
       "<div>\n",
       "<table border=\"1\" class=\"dataframe\">\n",
       "  <thead>\n",
       "    <tr style=\"text-align: right;\">\n",
       "      <th></th>\n",
       "      <th>COUNT</th>\n",
       "    </tr>\n",
       "  </thead>\n",
       "  <tbody>\n",
       "    <tr>\n",
       "      <th>0</th>\n",
       "      <td>179867</td>\n",
       "    </tr>\n",
       "  </tbody>\n",
       "</table>\n",
       "</div>"
      ],
      "text/plain": [
       "    COUNT\n",
       "0  179867"
      ]
     },
     "execution_count": 16,
     "metadata": {},
     "output_type": "execute_result"
    }
   ],
   "source": [
    "%vertica SELECT COUNT(*) FROM recently_disengaged_users"
   ]
  },
  {
   "cell_type": "code",
   "execution_count": 17,
   "metadata": {},
   "outputs": [
    {
     "data": {
      "text/html": [
       "<div>\n",
       "<table border=\"1\" class=\"dataframe\">\n",
       "  <thead>\n",
       "    <tr style=\"text-align: right;\">\n",
       "      <th></th>\n",
       "      <th>COUNT</th>\n",
       "    </tr>\n",
       "  </thead>\n",
       "  <tbody>\n",
       "  </tbody>\n",
       "</table>\n",
       "</div>"
      ],
      "text/plain": [
       "Empty DataFrame\n",
       "Columns: [COUNT]\n",
       "Index: []"
      ]
     },
     "execution_count": 17,
     "metadata": {},
     "output_type": "execute_result"
    }
   ],
   "source": [
    "%%vertica\n",
    "DROP TABLE IF EXISTS most_recently_disengaged_user_course;\n",
    "\n",
    "CREATE TEMPORARY TABLE most_recently_disengaged_user_course\n",
    "ON COMMIT PRESERVE ROWS\n",
    "AS {latest_disengaged_course} FROM recently_disengaged_users"
   ]
  },
  {
   "cell_type": "code",
   "execution_count": 18,
   "metadata": {},
   "outputs": [
    {
     "data": {
      "text/html": [
       "<div>\n",
       "<table border=\"1\" class=\"dataframe\">\n",
       "  <thead>\n",
       "    <tr style=\"text-align: right;\">\n",
       "      <th></th>\n",
       "      <th>COUNT</th>\n",
       "    </tr>\n",
       "  </thead>\n",
       "  <tbody>\n",
       "    <tr>\n",
       "      <th>0</th>\n",
       "      <td>149792</td>\n",
       "    </tr>\n",
       "  </tbody>\n",
       "</table>\n",
       "</div>"
      ],
      "text/plain": [
       "    COUNT\n",
       "0  149792"
      ]
     },
     "execution_count": 18,
     "metadata": {},
     "output_type": "execute_result"
    }
   ],
   "source": [
    "%vertica SELECT COUNT(*) FROM most_recently_disengaged_user_course"
   ]
  },
  {
   "cell_type": "markdown",
   "metadata": {},
   "source": [
    "Count unique recently disengaged users in self-paced courses\n",
    "---"
   ]
  },
  {
   "cell_type": "code",
   "execution_count": 19,
   "metadata": {
    "scrolled": false
   },
   "outputs": [
    {
     "data": {
      "text/html": [
       "<div>\n",
       "<table border=\"1\" class=\"dataframe\">\n",
       "  <thead>\n",
       "    <tr style=\"text-align: right;\">\n",
       "      <th></th>\n",
       "      <th>COUNT</th>\n",
       "    </tr>\n",
       "  </thead>\n",
       "  <tbody>\n",
       "    <tr>\n",
       "      <th>0</th>\n",
       "      <td>149792</td>\n",
       "    </tr>\n",
       "  </tbody>\n",
       "</table>\n",
       "</div>"
      ],
      "text/plain": [
       "    COUNT\n",
       "0  149792"
      ]
     },
     "execution_count": 19,
     "metadata": {},
     "output_type": "execute_result"
    }
   ],
   "source": [
    "%%vertica\n",
    "\n",
    "SELECT\n",
    "    COUNT(DISTINCT user_id)\n",
    "FROM\n",
    "    most_recently_disengaged_user_course"
   ]
  },
  {
   "cell_type": "markdown",
   "metadata": {},
   "source": [
    "Generate the list of user groups\n",
    "---"
   ]
  },
  {
   "cell_type": "code",
   "execution_count": 20,
   "metadata": {},
   "outputs": [
    {
     "data": {
      "text/html": [
       "<div>\n",
       "<table border=\"1\" class=\"dataframe\">\n",
       "  <thead>\n",
       "    <tr style=\"text-align: right;\">\n",
       "      <th></th>\n",
       "      <th>COUNT</th>\n",
       "    </tr>\n",
       "  </thead>\n",
       "  <tbody>\n",
       "  </tbody>\n",
       "</table>\n",
       "</div>"
      ],
      "text/plain": [
       "Empty DataFrame\n",
       "Columns: [COUNT]\n",
       "Index: []"
      ]
     },
     "execution_count": 20,
     "metadata": {},
     "output_type": "execute_result"
    }
   ],
   "source": [
    "%%vertica\n",
    "CREATE TABLE ret.email_experiment AS\n",
    "SELECT\n",
    "    0 AS experiment_id,\n",
    "    'Re-engagement email 2017-06-05' AS experiment_name,\n",
    "    a.email,\n",
    "    a.user_id,\n",
    "    a.username,\n",
    "    a.course_id,\n",
    "    a.course_title,\n",
    "    a.group_id,\n",
    "    CASE\n",
    "        WHEN a.group_id = 0 THEN 'Sent Email'\n",
    "        WHEN a.group_id = 1 THEN 'Control'\n",
    "    END AS group_name\n",
    "FROM\n",
    "(\n",
    "    SELECT\n",
    "        u.user_email AS email,\n",
    "        uc.user_id,\n",
    "        u.user_username AS username,\n",
    "        uc.course_id,\n",
    "        c.catalog_course_title AS course_title,\n",
    "        RANDOMINT(2) AS group_id\n",
    "    FROM\n",
    "        most_recently_disengaged_user_course uc\n",
    "    JOIN\n",
    "        production.d_course c\n",
    "        ON c.course_id = uc.course_id\n",
    "    JOIN\n",
    "        production.d_user u\n",
    "        ON u.user_id = uc.user_id\n",
    ") a"
   ]
  },
  {
   "cell_type": "code",
   "execution_count": 181,
   "metadata": {
    "collapsed": true
   },
   "outputs": [],
   "source": [
    "%%vertica -> experiment_users\n",
    "SELECT\n",
    "    uc.email,\n",
    "    p.name,\n",
    "    uc.course_id,\n",
    "    uc.course_title,\n",
    "    uc.group_id\n",
    "FROM\n",
    "    ret.email_experiment uc\n",
    "JOIN\n",
    "    lms_read_replica.auth_userprofile p ON\n",
    "    p.user_id = uc.user_id"
   ]
  },
  {
   "cell_type": "code",
   "execution_count": 182,
   "metadata": {},
   "outputs": [
    {
     "data": {
      "text/plain": [
       "group_id\n",
       "0    74963\n",
       "1    74829\n",
       "Name: email, dtype: int64"
      ]
     },
     "execution_count": 182,
     "metadata": {},
     "output_type": "execute_result"
    }
   ],
   "source": [
    "experiment_users.groupby('group_id').email.count()"
   ]
  },
  {
   "cell_type": "code",
   "execution_count": 183,
   "metadata": {},
   "outputs": [],
   "source": [
    "experiment_users[experiment_users.group_id == 0][['email', 'name', 'course_id', 'course_title']].to_csv(\n",
    "    're_engagement_experiment_treatment_group.csv', index=False)"
   ]
  },
  {
   "cell_type": "markdown",
   "metadata": {},
   "source": [
    "See which organizations are most impacted\n",
    "---"
   ]
  },
  {
   "cell_type": "code",
   "execution_count": 179,
   "metadata": {},
   "outputs": [
    {
     "data": {
      "text/html": [
       "<div>\n",
       "<table border=\"1\" class=\"dataframe\">\n",
       "  <thead>\n",
       "    <tr style=\"text-align: right;\">\n",
       "      <th></th>\n",
       "      <th>org_id</th>\n",
       "      <th>cnt_users</th>\n",
       "    </tr>\n",
       "  </thead>\n",
       "  <tbody>\n",
       "    <tr>\n",
       "      <th>0</th>\n",
       "      <td>Microsoft</td>\n",
       "      <td>42732</td>\n",
       "    </tr>\n",
       "    <tr>\n",
       "      <th>1</th>\n",
       "      <td>HarvardX</td>\n",
       "      <td>11039</td>\n",
       "    </tr>\n",
       "    <tr>\n",
       "      <th>2</th>\n",
       "      <td>LinuxFoundationX</td>\n",
       "      <td>6539</td>\n",
       "    </tr>\n",
       "    <tr>\n",
       "      <th>3</th>\n",
       "      <td>DelftX</td>\n",
       "      <td>5658</td>\n",
       "    </tr>\n",
       "    <tr>\n",
       "      <th>4</th>\n",
       "      <td>UBCx</td>\n",
       "      <td>5639</td>\n",
       "    </tr>\n",
       "    <tr>\n",
       "      <th>5</th>\n",
       "      <td>UQx</td>\n",
       "      <td>5168</td>\n",
       "    </tr>\n",
       "    <tr>\n",
       "      <th>6</th>\n",
       "      <td>TsinghuaX</td>\n",
       "      <td>3703</td>\n",
       "    </tr>\n",
       "    <tr>\n",
       "      <th>7</th>\n",
       "      <td>GalileoX</td>\n",
       "      <td>3631</td>\n",
       "    </tr>\n",
       "    <tr>\n",
       "      <th>8</th>\n",
       "      <td>MITx</td>\n",
       "      <td>3549</td>\n",
       "    </tr>\n",
       "    <tr>\n",
       "      <th>9</th>\n",
       "      <td>HKUSTx</td>\n",
       "      <td>3533</td>\n",
       "    </tr>\n",
       "    <tr>\n",
       "      <th>10</th>\n",
       "      <td>UPValenciaX</td>\n",
       "      <td>3473</td>\n",
       "    </tr>\n",
       "    <tr>\n",
       "      <th>11</th>\n",
       "      <td>PennX</td>\n",
       "      <td>3230</td>\n",
       "    </tr>\n",
       "    <tr>\n",
       "      <th>12</th>\n",
       "      <td>MichiganX</td>\n",
       "      <td>3039</td>\n",
       "    </tr>\n",
       "    <tr>\n",
       "      <th>13</th>\n",
       "      <td>GTx</td>\n",
       "      <td>2850</td>\n",
       "    </tr>\n",
       "    <tr>\n",
       "      <th>14</th>\n",
       "      <td>CatalystX</td>\n",
       "      <td>2658</td>\n",
       "    </tr>\n",
       "    <tr>\n",
       "      <th>15</th>\n",
       "      <td>AdelaideX</td>\n",
       "      <td>2556</td>\n",
       "    </tr>\n",
       "    <tr>\n",
       "      <th>16</th>\n",
       "      <td>UC3Mx</td>\n",
       "      <td>2348</td>\n",
       "    </tr>\n",
       "    <tr>\n",
       "      <th>17</th>\n",
       "      <td>IITBombayX</td>\n",
       "      <td>2338</td>\n",
       "    </tr>\n",
       "    <tr>\n",
       "      <th>18</th>\n",
       "      <td>ColumbiaX</td>\n",
       "      <td>2288</td>\n",
       "    </tr>\n",
       "    <tr>\n",
       "      <th>19</th>\n",
       "      <td>CornellX</td>\n",
       "      <td>1935</td>\n",
       "    </tr>\n",
       "  </tbody>\n",
       "</table>\n",
       "</div>"
      ],
      "text/plain": [
       "              org_id  cnt_users\n",
       "0          Microsoft      42732\n",
       "1           HarvardX      11039\n",
       "2   LinuxFoundationX       6539\n",
       "3             DelftX       5658\n",
       "4               UBCx       5639\n",
       "5                UQx       5168\n",
       "6          TsinghuaX       3703\n",
       "7           GalileoX       3631\n",
       "8               MITx       3549\n",
       "9             HKUSTx       3533\n",
       "10       UPValenciaX       3473\n",
       "11             PennX       3230\n",
       "12         MichiganX       3039\n",
       "13               GTx       2850\n",
       "14         CatalystX       2658\n",
       "15         AdelaideX       2556\n",
       "16             UC3Mx       2348\n",
       "17        IITBombayX       2338\n",
       "18         ColumbiaX       2288\n",
       "19          CornellX       1935"
      ]
     },
     "execution_count": 179,
     "metadata": {},
     "output_type": "execute_result"
    }
   ],
   "source": [
    "%%vertica\n",
    "SELECT\n",
    "    c.org_id,\n",
    "    COUNT(*) AS cnt_users\n",
    "FROM ret.email_experiment e\n",
    "JOIN production.d_course c ON e.course_id = c.course_id\n",
    "GROUP BY 1\n",
    "ORDER BY 2 DESC\n",
    "LIMIT 20"
   ]
  },
  {
   "cell_type": "markdown",
   "metadata": {},
   "source": [
    "Count previously highly engaged, but now disengaged users in self-paced courses\n",
    "---"
   ]
  },
  {
   "cell_type": "code",
   "execution_count": 24,
   "metadata": {},
   "outputs": [
    {
     "data": {
      "text/html": [
       "<div>\n",
       "<table border=\"1\" class=\"dataframe\">\n",
       "  <thead>\n",
       "    <tr style=\"text-align: right;\">\n",
       "      <th></th>\n",
       "      <th>engagement_level</th>\n",
       "      <th>COUNT</th>\n",
       "    </tr>\n",
       "  </thead>\n",
       "  <tbody>\n",
       "    <tr>\n",
       "      <th>0</th>\n",
       "      <td>minimal</td>\n",
       "      <td>74086</td>\n",
       "    </tr>\n",
       "    <tr>\n",
       "      <th>1</th>\n",
       "      <td>high</td>\n",
       "      <td>43783</td>\n",
       "    </tr>\n",
       "    <tr>\n",
       "      <th>2</th>\n",
       "      <td>None</td>\n",
       "      <td>31923</td>\n",
       "    </tr>\n",
       "  </tbody>\n",
       "</table>\n",
       "</div>"
      ],
      "text/plain": [
       "  engagement_level  COUNT\n",
       "0          minimal  74086\n",
       "1             high  43783\n",
       "2             None  31923"
      ]
     },
     "execution_count": 24,
     "metadata": {},
     "output_type": "execute_result"
    }
   ],
   "source": [
    "%%vertica\n",
    "\n",
    "SELECT\n",
    "    engagement_level,\n",
    "    COUNT(DISTINCT user_id)\n",
    "FROM\n",
    "    most_recently_disengaged_user_course\n",
    "GROUP BY 1"
   ]
  },
  {
   "cell_type": "markdown",
   "metadata": {},
   "source": [
    "Count users disengaged from multiple courses\n",
    "---"
   ]
  },
  {
   "cell_type": "code",
   "execution_count": 25,
   "metadata": {},
   "outputs": [
    {
     "data": {
      "text/html": [
       "<div>\n",
       "<table border=\"1\" class=\"dataframe\">\n",
       "  <thead>\n",
       "    <tr style=\"text-align: right;\">\n",
       "      <th></th>\n",
       "      <th>disengaged_count</th>\n",
       "      <th>COUNT</th>\n",
       "    </tr>\n",
       "  </thead>\n",
       "  <tbody>\n",
       "    <tr>\n",
       "      <th>0</th>\n",
       "      <td>2</td>\n",
       "      <td>15736</td>\n",
       "    </tr>\n",
       "    <tr>\n",
       "      <th>1</th>\n",
       "      <td>3</td>\n",
       "      <td>3566</td>\n",
       "    </tr>\n",
       "    <tr>\n",
       "      <th>2</th>\n",
       "      <td>4</td>\n",
       "      <td>1110</td>\n",
       "    </tr>\n",
       "    <tr>\n",
       "      <th>3</th>\n",
       "      <td>5</td>\n",
       "      <td>366</td>\n",
       "    </tr>\n",
       "    <tr>\n",
       "      <th>4</th>\n",
       "      <td>6</td>\n",
       "      <td>178</td>\n",
       "    </tr>\n",
       "    <tr>\n",
       "      <th>5</th>\n",
       "      <td>7</td>\n",
       "      <td>97</td>\n",
       "    </tr>\n",
       "    <tr>\n",
       "      <th>6</th>\n",
       "      <td>8</td>\n",
       "      <td>41</td>\n",
       "    </tr>\n",
       "    <tr>\n",
       "      <th>7</th>\n",
       "      <td>9</td>\n",
       "      <td>16</td>\n",
       "    </tr>\n",
       "    <tr>\n",
       "      <th>8</th>\n",
       "      <td>10</td>\n",
       "      <td>15</td>\n",
       "    </tr>\n",
       "    <tr>\n",
       "      <th>9</th>\n",
       "      <td>11</td>\n",
       "      <td>5</td>\n",
       "    </tr>\n",
       "    <tr>\n",
       "      <th>10</th>\n",
       "      <td>12</td>\n",
       "      <td>3</td>\n",
       "    </tr>\n",
       "    <tr>\n",
       "      <th>11</th>\n",
       "      <td>13</td>\n",
       "      <td>4</td>\n",
       "    </tr>\n",
       "    <tr>\n",
       "      <th>12</th>\n",
       "      <td>14</td>\n",
       "      <td>2</td>\n",
       "    </tr>\n",
       "    <tr>\n",
       "      <th>13</th>\n",
       "      <td>15</td>\n",
       "      <td>1</td>\n",
       "    </tr>\n",
       "    <tr>\n",
       "      <th>14</th>\n",
       "      <td>16</td>\n",
       "      <td>3</td>\n",
       "    </tr>\n",
       "    <tr>\n",
       "      <th>15</th>\n",
       "      <td>17</td>\n",
       "      <td>4</td>\n",
       "    </tr>\n",
       "    <tr>\n",
       "      <th>16</th>\n",
       "      <td>18</td>\n",
       "      <td>1</td>\n",
       "    </tr>\n",
       "    <tr>\n",
       "      <th>17</th>\n",
       "      <td>20</td>\n",
       "      <td>1</td>\n",
       "    </tr>\n",
       "    <tr>\n",
       "      <th>18</th>\n",
       "      <td>23</td>\n",
       "      <td>1</td>\n",
       "    </tr>\n",
       "    <tr>\n",
       "      <th>19</th>\n",
       "      <td>24</td>\n",
       "      <td>1</td>\n",
       "    </tr>\n",
       "    <tr>\n",
       "      <th>20</th>\n",
       "      <td>31</td>\n",
       "      <td>1</td>\n",
       "    </tr>\n",
       "  </tbody>\n",
       "</table>\n",
       "</div>"
      ],
      "text/plain": [
       "    disengaged_count  COUNT\n",
       "0                  2  15736\n",
       "1                  3   3566\n",
       "2                  4   1110\n",
       "3                  5    366\n",
       "4                  6    178\n",
       "5                  7     97\n",
       "6                  8     41\n",
       "7                  9     16\n",
       "8                 10     15\n",
       "9                 11      5\n",
       "10                12      3\n",
       "11                13      4\n",
       "12                14      2\n",
       "13                15      1\n",
       "14                16      3\n",
       "15                17      4\n",
       "16                18      1\n",
       "17                20      1\n",
       "18                23      1\n",
       "19                24      1\n",
       "20                31      1"
      ]
     },
     "execution_count": 25,
     "metadata": {},
     "output_type": "execute_result"
    }
   ],
   "source": [
    "%%vertica\n",
    "\n",
    "SELECT\n",
    "    disengaged_count,\n",
    "    COUNT(DISTINCT user_id)\n",
    "FROM\n",
    "(\n",
    "    SELECT\n",
    "        user_id,\n",
    "        COUNT(DISTINCT course_id) as disengaged_count\n",
    "    FROM\n",
    "        recently_disengaged_users\n",
    "    GROUP BY\n",
    "        1\n",
    "    HAVING\n",
    "        COUNT(DISTINCT course_id) > 1\n",
    ") as cnt\n",
    "GROUP BY\n",
    "    1\n",
    "ORDER BY 1"
   ]
  },
  {
   "cell_type": "markdown",
   "metadata": {},
   "source": [
    "Count unique recently disengaged users by amount of activity\n",
    "---"
   ]
  },
  {
   "cell_type": "code",
   "execution_count": 26,
   "metadata": {
    "scrolled": false
   },
   "outputs": [
    {
     "data": {
      "text/html": [
       "<div>\n",
       "<table border=\"1\" class=\"dataframe\">\n",
       "  <thead>\n",
       "    <tr style=\"text-align: right;\">\n",
       "      <th></th>\n",
       "      <th>activity_count</th>\n",
       "      <th>COUNT</th>\n",
       "    </tr>\n",
       "  </thead>\n",
       "  <tbody>\n",
       "    <tr>\n",
       "      <th>0</th>\n",
       "      <td>1</td>\n",
       "      <td>65734</td>\n",
       "    </tr>\n",
       "    <tr>\n",
       "      <th>1</th>\n",
       "      <td>2</td>\n",
       "      <td>36974</td>\n",
       "    </tr>\n",
       "    <tr>\n",
       "      <th>2</th>\n",
       "      <td>3</td>\n",
       "      <td>13218</td>\n",
       "    </tr>\n",
       "    <tr>\n",
       "      <th>3</th>\n",
       "      <td>4</td>\n",
       "      <td>9944</td>\n",
       "    </tr>\n",
       "    <tr>\n",
       "      <th>4</th>\n",
       "      <td>5</td>\n",
       "      <td>5037</td>\n",
       "    </tr>\n",
       "    <tr>\n",
       "      <th>5</th>\n",
       "      <td>6</td>\n",
       "      <td>4224</td>\n",
       "    </tr>\n",
       "    <tr>\n",
       "      <th>6</th>\n",
       "      <td>7</td>\n",
       "      <td>2448</td>\n",
       "    </tr>\n",
       "    <tr>\n",
       "      <th>7</th>\n",
       "      <td>8</td>\n",
       "      <td>2034</td>\n",
       "    </tr>\n",
       "    <tr>\n",
       "      <th>8</th>\n",
       "      <td>9</td>\n",
       "      <td>1348</td>\n",
       "    </tr>\n",
       "    <tr>\n",
       "      <th>9</th>\n",
       "      <td>10</td>\n",
       "      <td>1014</td>\n",
       "    </tr>\n",
       "    <tr>\n",
       "      <th>10</th>\n",
       "      <td>11</td>\n",
       "      <td>739</td>\n",
       "    </tr>\n",
       "    <tr>\n",
       "      <th>11</th>\n",
       "      <td>12</td>\n",
       "      <td>622</td>\n",
       "    </tr>\n",
       "    <tr>\n",
       "      <th>12</th>\n",
       "      <td>13</td>\n",
       "      <td>432</td>\n",
       "    </tr>\n",
       "    <tr>\n",
       "      <th>13</th>\n",
       "      <td>14</td>\n",
       "      <td>353</td>\n",
       "    </tr>\n",
       "    <tr>\n",
       "      <th>14</th>\n",
       "      <td>15</td>\n",
       "      <td>275</td>\n",
       "    </tr>\n",
       "    <tr>\n",
       "      <th>15</th>\n",
       "      <td>16</td>\n",
       "      <td>194</td>\n",
       "    </tr>\n",
       "    <tr>\n",
       "      <th>16</th>\n",
       "      <td>17</td>\n",
       "      <td>170</td>\n",
       "    </tr>\n",
       "    <tr>\n",
       "      <th>17</th>\n",
       "      <td>18</td>\n",
       "      <td>130</td>\n",
       "    </tr>\n",
       "    <tr>\n",
       "      <th>18</th>\n",
       "      <td>19</td>\n",
       "      <td>92</td>\n",
       "    </tr>\n",
       "    <tr>\n",
       "      <th>19</th>\n",
       "      <td>20</td>\n",
       "      <td>79</td>\n",
       "    </tr>\n",
       "    <tr>\n",
       "      <th>20</th>\n",
       "      <td>21</td>\n",
       "      <td>63</td>\n",
       "    </tr>\n",
       "    <tr>\n",
       "      <th>21</th>\n",
       "      <td>22</td>\n",
       "      <td>42</td>\n",
       "    </tr>\n",
       "    <tr>\n",
       "      <th>22</th>\n",
       "      <td>23</td>\n",
       "      <td>25</td>\n",
       "    </tr>\n",
       "    <tr>\n",
       "      <th>23</th>\n",
       "      <td>24</td>\n",
       "      <td>24</td>\n",
       "    </tr>\n",
       "    <tr>\n",
       "      <th>24</th>\n",
       "      <td>25</td>\n",
       "      <td>27</td>\n",
       "    </tr>\n",
       "    <tr>\n",
       "      <th>25</th>\n",
       "      <td>26</td>\n",
       "      <td>14</td>\n",
       "    </tr>\n",
       "    <tr>\n",
       "      <th>26</th>\n",
       "      <td>27</td>\n",
       "      <td>17</td>\n",
       "    </tr>\n",
       "    <tr>\n",
       "      <th>27</th>\n",
       "      <td>28</td>\n",
       "      <td>10</td>\n",
       "    </tr>\n",
       "    <tr>\n",
       "      <th>28</th>\n",
       "      <td>29</td>\n",
       "      <td>8</td>\n",
       "    </tr>\n",
       "    <tr>\n",
       "      <th>29</th>\n",
       "      <td>30</td>\n",
       "      <td>2</td>\n",
       "    </tr>\n",
       "    <tr>\n",
       "      <th>30</th>\n",
       "      <td>31</td>\n",
       "      <td>7</td>\n",
       "    </tr>\n",
       "    <tr>\n",
       "      <th>31</th>\n",
       "      <td>32</td>\n",
       "      <td>4</td>\n",
       "    </tr>\n",
       "    <tr>\n",
       "      <th>32</th>\n",
       "      <td>33</td>\n",
       "      <td>2</td>\n",
       "    </tr>\n",
       "    <tr>\n",
       "      <th>33</th>\n",
       "      <td>34</td>\n",
       "      <td>1</td>\n",
       "    </tr>\n",
       "    <tr>\n",
       "      <th>34</th>\n",
       "      <td>35</td>\n",
       "      <td>2</td>\n",
       "    </tr>\n",
       "    <tr>\n",
       "      <th>35</th>\n",
       "      <td>36</td>\n",
       "      <td>1</td>\n",
       "    </tr>\n",
       "    <tr>\n",
       "      <th>36</th>\n",
       "      <td>37</td>\n",
       "      <td>1</td>\n",
       "    </tr>\n",
       "    <tr>\n",
       "      <th>37</th>\n",
       "      <td>38</td>\n",
       "      <td>1</td>\n",
       "    </tr>\n",
       "    <tr>\n",
       "      <th>38</th>\n",
       "      <td>39</td>\n",
       "      <td>1</td>\n",
       "    </tr>\n",
       "    <tr>\n",
       "      <th>39</th>\n",
       "      <td>44</td>\n",
       "      <td>1</td>\n",
       "    </tr>\n",
       "  </tbody>\n",
       "</table>\n",
       "</div>"
      ],
      "text/plain": [
       "    activity_count  COUNT\n",
       "0                1  65734\n",
       "1                2  36974\n",
       "2                3  13218\n",
       "3                4   9944\n",
       "4                5   5037\n",
       "5                6   4224\n",
       "6                7   2448\n",
       "7                8   2034\n",
       "8                9   1348\n",
       "9               10   1014\n",
       "10              11    739\n",
       "11              12    622\n",
       "12              13    432\n",
       "13              14    353\n",
       "14              15    275\n",
       "15              16    194\n",
       "16              17    170\n",
       "17              18    130\n",
       "18              19     92\n",
       "19              20     79\n",
       "20              21     63\n",
       "21              22     42\n",
       "22              23     25\n",
       "23              24     24\n",
       "24              25     27\n",
       "25              26     14\n",
       "26              27     17\n",
       "27              28     10\n",
       "28              29      8\n",
       "29              30      2\n",
       "30              31      7\n",
       "31              32      4\n",
       "32              33      2\n",
       "33              34      1\n",
       "34              35      2\n",
       "35              36      1\n",
       "36              37      1\n",
       "37              38      1\n",
       "38              39      1\n",
       "39              44      1"
      ]
     },
     "execution_count": 26,
     "metadata": {},
     "output_type": "execute_result"
    }
   ],
   "source": [
    "%%vertica\n",
    "\n",
    "SELECT\n",
    "    act.activity_count,\n",
    "    COUNT(DISTINCT act.user_id)\n",
    "FROM\n",
    "(\n",
    "    SELECT\n",
    "        act.user_id,\n",
    "        act.course_id,\n",
    "        count(*) as activity_count\n",
    "    FROM\n",
    "        production.f_user_activity as act\n",
    "    JOIN\n",
    "            most_recently_disengaged_user_course as rdu\n",
    "        ON rdu.user_id = act.user_id\n",
    "        AND rdu.course_id = act.course_id\n",
    "    WHERE\n",
    "            activity_type != 'ACTIVE'\n",
    "        AND DATEDIFF('day', date, '{end_date}') BETWEEN {less_recent_than} AND {more_recent_than}\n",
    "    GROUP BY 1, 2\n",
    ") act\n",
    "GROUP BY\n",
    "    1\n",
    "ORDER BY\n",
    "    1"
   ]
  },
  {
   "cell_type": "markdown",
   "metadata": {},
   "source": [
    "VTR for English self-paced courses that started within the last year\n",
    "---"
   ]
  },
  {
   "cell_type": "code",
   "execution_count": 27,
   "metadata": {},
   "outputs": [
    {
     "data": {
      "text/html": [
       "<div>\n",
       "<table border=\"1\" class=\"dataframe\">\n",
       "  <thead>\n",
       "    <tr style=\"text-align: right;\">\n",
       "      <th></th>\n",
       "      <th>?column?</th>\n",
       "    </tr>\n",
       "  </thead>\n",
       "  <tbody>\n",
       "    <tr>\n",
       "      <th>0</th>\n",
       "      <td>0.020380891109723910</td>\n",
       "    </tr>\n",
       "  </tbody>\n",
       "</table>\n",
       "</div>"
      ],
      "text/plain": [
       "               ?column?\n",
       "0  0.020380891109723910"
      ]
     },
     "execution_count": 27,
     "metadata": {},
     "output_type": "execute_result"
    }
   ],
   "source": [
    "%%vertica (end_date=end_date)\n",
    "\n",
    "SELECT\n",
    "    SUM(sum_verifications) / SUM(sum_enrolls_vtr)\n",
    "FROM\n",
    "    business_intelligence.course_stats_summary as stats\n",
    "JOIN\n",
    "        production.d_course as crs\n",
    "    ON stats.course_id = crs.course_id\n",
    "WHERE\n",
    "        (crs.content_language is NULL OR crs.content_language = 'en-us')\n",
    "    AND crs.pacing_type = 'self_paced'\n",
    "    AND crs.start_time >= '2016-06-01'\n",
    "    AND crs.start_time < :end_date"
   ]
  },
  {
   "cell_type": "markdown",
   "metadata": {},
   "source": [
    "Count of unique recently disengaged users that have > 50% grade\n",
    "---"
   ]
  },
  {
   "cell_type": "code",
   "execution_count": 28,
   "metadata": {},
   "outputs": [
    {
     "data": {
      "text/html": [
       "<div>\n",
       "<table border=\"1\" class=\"dataframe\">\n",
       "  <thead>\n",
       "    <tr style=\"text-align: right;\">\n",
       "      <th></th>\n",
       "      <th>?column?</th>\n",
       "      <th>COUNT</th>\n",
       "    </tr>\n",
       "  </thead>\n",
       "  <tbody>\n",
       "    <tr>\n",
       "      <th>0</th>\n",
       "      <td>None</td>\n",
       "      <td>42260</td>\n",
       "    </tr>\n",
       "    <tr>\n",
       "      <th>1</th>\n",
       "      <td>True</td>\n",
       "      <td>9867</td>\n",
       "    </tr>\n",
       "    <tr>\n",
       "      <th>2</th>\n",
       "      <td>False</td>\n",
       "      <td>97665</td>\n",
       "    </tr>\n",
       "  </tbody>\n",
       "</table>\n",
       "</div>"
      ],
      "text/plain": [
       "  ?column?  COUNT\n",
       "0     None  42260\n",
       "1     True   9867\n",
       "2    False  97665"
      ]
     },
     "execution_count": 28,
     "metadata": {},
     "output_type": "execute_result"
    }
   ],
   "source": [
    "%%vertica\n",
    "\n",
    "SELECT\n",
    "    (grd.percent_grade > 0.5),\n",
    "    COUNT(DISTINCT rdu.user_id)\n",
    "FROM\n",
    "    most_recently_disengaged_user_course as rdu\n",
    "LEFT JOIN\n",
    "(\n",
    "    SELECT\n",
    "        course_id,\n",
    "        user_id,\n",
    "        MAX(percent_grade) as percent_grade\n",
    "    FROM\n",
    "        business_intelligence.grade_user_time\n",
    "    GROUP BY\n",
    "        1, 2\n",
    ") as grd\n",
    "    ON rdu.course_id = grd.course_id\n",
    "   AND rdu.user_id = grd.user_id\n",
    "GROUP BY\n",
    "    1\n",
    "ORDER BY\n",
    "    1 DESC\n"
   ]
  },
  {
   "cell_type": "markdown",
   "metadata": {},
   "source": [
    "Count of recently disengaged users by country\n",
    "---"
   ]
  },
  {
   "cell_type": "code",
   "execution_count": 29,
   "metadata": {},
   "outputs": [
    {
     "data": {
      "text/html": [
       "<div>\n",
       "<table border=\"1\" class=\"dataframe\">\n",
       "  <thead>\n",
       "    <tr style=\"text-align: right;\">\n",
       "      <th></th>\n",
       "      <th>user_last_location_country_code</th>\n",
       "      <th>COUNT</th>\n",
       "    </tr>\n",
       "  </thead>\n",
       "  <tbody>\n",
       "    <tr>\n",
       "      <th>0</th>\n",
       "      <td>US</td>\n",
       "      <td>37004</td>\n",
       "    </tr>\n",
       "    <tr>\n",
       "      <th>1</th>\n",
       "      <td>IN</td>\n",
       "      <td>17422</td>\n",
       "    </tr>\n",
       "    <tr>\n",
       "      <th>2</th>\n",
       "      <td>UNKNOWN</td>\n",
       "      <td>7671</td>\n",
       "    </tr>\n",
       "    <tr>\n",
       "      <th>3</th>\n",
       "      <td>CA</td>\n",
       "      <td>6992</td>\n",
       "    </tr>\n",
       "    <tr>\n",
       "      <th>4</th>\n",
       "      <td>GB</td>\n",
       "      <td>5471</td>\n",
       "    </tr>\n",
       "    <tr>\n",
       "      <th>5</th>\n",
       "      <td>BR</td>\n",
       "      <td>4042</td>\n",
       "    </tr>\n",
       "    <tr>\n",
       "      <th>6</th>\n",
       "      <td>AU</td>\n",
       "      <td>3331</td>\n",
       "    </tr>\n",
       "    <tr>\n",
       "      <th>7</th>\n",
       "      <td>MX</td>\n",
       "      <td>3170</td>\n",
       "    </tr>\n",
       "    <tr>\n",
       "      <th>8</th>\n",
       "      <td>DE</td>\n",
       "      <td>3101</td>\n",
       "    </tr>\n",
       "    <tr>\n",
       "      <th>9</th>\n",
       "      <td>NL</td>\n",
       "      <td>2367</td>\n",
       "    </tr>\n",
       "    <tr>\n",
       "      <th>10</th>\n",
       "      <td>ES</td>\n",
       "      <td>2353</td>\n",
       "    </tr>\n",
       "    <tr>\n",
       "      <th>11</th>\n",
       "      <td>FR</td>\n",
       "      <td>1955</td>\n",
       "    </tr>\n",
       "    <tr>\n",
       "      <th>12</th>\n",
       "      <td>ID</td>\n",
       "      <td>1918</td>\n",
       "    </tr>\n",
       "    <tr>\n",
       "      <th>13</th>\n",
       "      <td>CN</td>\n",
       "      <td>1907</td>\n",
       "    </tr>\n",
       "    <tr>\n",
       "      <th>14</th>\n",
       "      <td>PK</td>\n",
       "      <td>1772</td>\n",
       "    </tr>\n",
       "    <tr>\n",
       "      <th>15</th>\n",
       "      <td>CO</td>\n",
       "      <td>1731</td>\n",
       "    </tr>\n",
       "    <tr>\n",
       "      <th>16</th>\n",
       "      <td>NG</td>\n",
       "      <td>1676</td>\n",
       "    </tr>\n",
       "    <tr>\n",
       "      <th>17</th>\n",
       "      <td>JP</td>\n",
       "      <td>1674</td>\n",
       "    </tr>\n",
       "    <tr>\n",
       "      <th>18</th>\n",
       "      <td>TR</td>\n",
       "      <td>1482</td>\n",
       "    </tr>\n",
       "    <tr>\n",
       "      <th>19</th>\n",
       "      <td>EG</td>\n",
       "      <td>1446</td>\n",
       "    </tr>\n",
       "    <tr>\n",
       "      <th>20</th>\n",
       "      <td>VN</td>\n",
       "      <td>1419</td>\n",
       "    </tr>\n",
       "    <tr>\n",
       "      <th>21</th>\n",
       "      <td>RU</td>\n",
       "      <td>1398</td>\n",
       "    </tr>\n",
       "    <tr>\n",
       "      <th>22</th>\n",
       "      <td>IT</td>\n",
       "      <td>1348</td>\n",
       "    </tr>\n",
       "    <tr>\n",
       "      <th>23</th>\n",
       "      <td>PL</td>\n",
       "      <td>1291</td>\n",
       "    </tr>\n",
       "    <tr>\n",
       "      <th>24</th>\n",
       "      <td>SG</td>\n",
       "      <td>1280</td>\n",
       "    </tr>\n",
       "    <tr>\n",
       "      <th>25</th>\n",
       "      <td>ZA</td>\n",
       "      <td>1177</td>\n",
       "    </tr>\n",
       "    <tr>\n",
       "      <th>26</th>\n",
       "      <td>PH</td>\n",
       "      <td>1115</td>\n",
       "    </tr>\n",
       "    <tr>\n",
       "      <th>27</th>\n",
       "      <td>PE</td>\n",
       "      <td>1074</td>\n",
       "    </tr>\n",
       "    <tr>\n",
       "      <th>28</th>\n",
       "      <td>RO</td>\n",
       "      <td>1059</td>\n",
       "    </tr>\n",
       "    <tr>\n",
       "      <th>29</th>\n",
       "      <td>TH</td>\n",
       "      <td>1056</td>\n",
       "    </tr>\n",
       "    <tr>\n",
       "      <th>...</th>\n",
       "      <td>...</td>\n",
       "      <td>...</td>\n",
       "    </tr>\n",
       "    <tr>\n",
       "      <th>188</th>\n",
       "      <td>GA</td>\n",
       "      <td>5</td>\n",
       "    </tr>\n",
       "    <tr>\n",
       "      <th>189</th>\n",
       "      <td>NC</td>\n",
       "      <td>4</td>\n",
       "    </tr>\n",
       "    <tr>\n",
       "      <th>190</th>\n",
       "      <td>KM</td>\n",
       "      <td>3</td>\n",
       "    </tr>\n",
       "    <tr>\n",
       "      <th>191</th>\n",
       "      <td>GG</td>\n",
       "      <td>3</td>\n",
       "    </tr>\n",
       "    <tr>\n",
       "      <th>192</th>\n",
       "      <td>CV</td>\n",
       "      <td>3</td>\n",
       "    </tr>\n",
       "    <tr>\n",
       "      <th>193</th>\n",
       "      <td>MC</td>\n",
       "      <td>3</td>\n",
       "    </tr>\n",
       "    <tr>\n",
       "      <th>194</th>\n",
       "      <td>AX</td>\n",
       "      <td>3</td>\n",
       "    </tr>\n",
       "    <tr>\n",
       "      <th>195</th>\n",
       "      <td>AD</td>\n",
       "      <td>3</td>\n",
       "    </tr>\n",
       "    <tr>\n",
       "      <th>196</th>\n",
       "      <td>TL</td>\n",
       "      <td>3</td>\n",
       "    </tr>\n",
       "    <tr>\n",
       "      <th>197</th>\n",
       "      <td>GP</td>\n",
       "      <td>3</td>\n",
       "    </tr>\n",
       "    <tr>\n",
       "      <th>198</th>\n",
       "      <td>FX</td>\n",
       "      <td>2</td>\n",
       "    </tr>\n",
       "    <tr>\n",
       "      <th>199</th>\n",
       "      <td>GF</td>\n",
       "      <td>2</td>\n",
       "    </tr>\n",
       "    <tr>\n",
       "      <th>200</th>\n",
       "      <td>VG</td>\n",
       "      <td>2</td>\n",
       "    </tr>\n",
       "    <tr>\n",
       "      <th>201</th>\n",
       "      <td>PF</td>\n",
       "      <td>2</td>\n",
       "    </tr>\n",
       "    <tr>\n",
       "      <th>202</th>\n",
       "      <td>ER</td>\n",
       "      <td>2</td>\n",
       "    </tr>\n",
       "    <tr>\n",
       "      <th>203</th>\n",
       "      <td>GQ</td>\n",
       "      <td>2</td>\n",
       "    </tr>\n",
       "    <tr>\n",
       "      <th>204</th>\n",
       "      <td>VI</td>\n",
       "      <td>2</td>\n",
       "    </tr>\n",
       "    <tr>\n",
       "      <th>205</th>\n",
       "      <td>LI</td>\n",
       "      <td>2</td>\n",
       "    </tr>\n",
       "    <tr>\n",
       "      <th>206</th>\n",
       "      <td>MS</td>\n",
       "      <td>1</td>\n",
       "    </tr>\n",
       "    <tr>\n",
       "      <th>207</th>\n",
       "      <td>KP</td>\n",
       "      <td>1</td>\n",
       "    </tr>\n",
       "    <tr>\n",
       "      <th>208</th>\n",
       "      <td>CK</td>\n",
       "      <td>1</td>\n",
       "    </tr>\n",
       "    <tr>\n",
       "      <th>209</th>\n",
       "      <td>ST</td>\n",
       "      <td>1</td>\n",
       "    </tr>\n",
       "    <tr>\n",
       "      <th>210</th>\n",
       "      <td>TM</td>\n",
       "      <td>1</td>\n",
       "    </tr>\n",
       "    <tr>\n",
       "      <th>211</th>\n",
       "      <td>TV</td>\n",
       "      <td>1</td>\n",
       "    </tr>\n",
       "    <tr>\n",
       "      <th>212</th>\n",
       "      <td>MQ</td>\n",
       "      <td>1</td>\n",
       "    </tr>\n",
       "    <tr>\n",
       "      <th>213</th>\n",
       "      <td>CF</td>\n",
       "      <td>1</td>\n",
       "    </tr>\n",
       "    <tr>\n",
       "      <th>214</th>\n",
       "      <td>AQ</td>\n",
       "      <td>1</td>\n",
       "    </tr>\n",
       "    <tr>\n",
       "      <th>215</th>\n",
       "      <td>DJ</td>\n",
       "      <td>1</td>\n",
       "    </tr>\n",
       "    <tr>\n",
       "      <th>216</th>\n",
       "      <td>SM</td>\n",
       "      <td>1</td>\n",
       "    </tr>\n",
       "    <tr>\n",
       "      <th>217</th>\n",
       "      <td>WS</td>\n",
       "      <td>1</td>\n",
       "    </tr>\n",
       "  </tbody>\n",
       "</table>\n",
       "<p>218 rows × 2 columns</p>\n",
       "</div>"
      ],
      "text/plain": [
       "    user_last_location_country_code  COUNT\n",
       "0                                US  37004\n",
       "1                                IN  17422\n",
       "2                           UNKNOWN   7671\n",
       "3                                CA   6992\n",
       "4                                GB   5471\n",
       "5                                BR   4042\n",
       "6                                AU   3331\n",
       "7                                MX   3170\n",
       "8                                DE   3101\n",
       "9                                NL   2367\n",
       "10                               ES   2353\n",
       "11                               FR   1955\n",
       "12                               ID   1918\n",
       "13                               CN   1907\n",
       "14                               PK   1772\n",
       "15                               CO   1731\n",
       "16                               NG   1676\n",
       "17                               JP   1674\n",
       "18                               TR   1482\n",
       "19                               EG   1446\n",
       "20                               VN   1419\n",
       "21                               RU   1398\n",
       "22                               IT   1348\n",
       "23                               PL   1291\n",
       "24                               SG   1280\n",
       "25                               ZA   1177\n",
       "26                               PH   1115\n",
       "27                               PE   1074\n",
       "28                               RO   1059\n",
       "29                               TH   1056\n",
       "..                              ...    ...\n",
       "188                              GA      5\n",
       "189                              NC      4\n",
       "190                              KM      3\n",
       "191                              GG      3\n",
       "192                              CV      3\n",
       "193                              MC      3\n",
       "194                              AX      3\n",
       "195                              AD      3\n",
       "196                              TL      3\n",
       "197                              GP      3\n",
       "198                              FX      2\n",
       "199                              GF      2\n",
       "200                              VG      2\n",
       "201                              PF      2\n",
       "202                              ER      2\n",
       "203                              GQ      2\n",
       "204                              VI      2\n",
       "205                              LI      2\n",
       "206                              MS      1\n",
       "207                              KP      1\n",
       "208                              CK      1\n",
       "209                              ST      1\n",
       "210                              TM      1\n",
       "211                              TV      1\n",
       "212                              MQ      1\n",
       "213                              CF      1\n",
       "214                              AQ      1\n",
       "215                              DJ      1\n",
       "216                              SM      1\n",
       "217                              WS      1\n",
       "\n",
       "[218 rows x 2 columns]"
      ]
     },
     "execution_count": 29,
     "metadata": {},
     "output_type": "execute_result"
    }
   ],
   "source": [
    "%%vertica\n",
    "\n",
    "SELECT\n",
    "    usr.user_last_location_country_code,\n",
    "    COUNT(DISTINCT rdu.user_id)\n",
    "FROM\n",
    "    most_recently_disengaged_user_course as rdu\n",
    "JOIN\n",
    "        production.d_user as usr\n",
    "    ON rdu.user_id = usr.user_id\n",
    "GROUP BY\n",
    "    1\n",
    "ORDER BY\n",
    "    2 DESC"
   ]
  },
  {
   "cell_type": "markdown",
   "metadata": {},
   "source": [
    "Find \"recently disengaged\" users from last month\n",
    "---"
   ]
  },
  {
   "cell_type": "code",
   "execution_count": 144,
   "metadata": {
    "collapsed": true
   },
   "outputs": [],
   "source": [
    "import datetime\n",
    "\n",
    "retrospective_end_date = datetime.date(2017, 5, 1)\n",
    "window_end_date = datetime.date(2017, 6, 5)"
   ]
  },
  {
   "cell_type": "code",
   "execution_count": 145,
   "metadata": {},
   "outputs": [
    {
     "data": {
      "text/html": [
       "<div>\n",
       "<table border=\"1\" class=\"dataframe\">\n",
       "  <thead>\n",
       "    <tr style=\"text-align: right;\">\n",
       "      <th></th>\n",
       "      <th>verified_after</th>\n",
       "      <th>COUNT</th>\n",
       "    </tr>\n",
       "  </thead>\n",
       "  <tbody>\n",
       "  </tbody>\n",
       "</table>\n",
       "</div>"
      ],
      "text/plain": [
       "Empty DataFrame\n",
       "Columns: [verified_after, COUNT]\n",
       "Index: []"
      ]
     },
     "execution_count": 145,
     "metadata": {},
     "output_type": "execute_result"
    }
   ],
   "source": [
    "%%vertica (end_date=retrospective_end_date)\n",
    "DROP TABLE IF EXISTS experiment_courses;\n",
    "\n",
    "CREATE TEMPORARY TABLE experiment_courses\n",
    "ON COMMIT PRESERVE ROWS\n",
    "AS SELECT\n",
    "    course_id,\n",
    "    course_start_date\n",
    "FROM\n",
    "    business_intelligence.course_master\n",
    "WHERE\n",
    "        (content_language is NULL OR content_language = 'en-us')\n",
    "    AND pacing_type = 'self_paced'\n",
    "    AND DATEDIFF('day', :end_date, course_verification_end_date) > 7\n",
    "    AND :end_date < course_end_date\n",
    "    AND DATEDIFF('day', course_start_date, :end_date) > 7"
   ]
  },
  {
   "cell_type": "code",
   "execution_count": 116,
   "metadata": {},
   "outputs": [
    {
     "data": {
      "text/html": [
       "<div>\n",
       "<table border=\"1\" class=\"dataframe\">\n",
       "  <thead>\n",
       "    <tr style=\"text-align: right;\">\n",
       "      <th></th>\n",
       "      <th>verified_after</th>\n",
       "      <th>COUNT</th>\n",
       "    </tr>\n",
       "  </thead>\n",
       "  <tbody>\n",
       "  </tbody>\n",
       "</table>\n",
       "</div>"
      ],
      "text/plain": [
       "Empty DataFrame\n",
       "Columns: [verified_after, COUNT]\n",
       "Index: []"
      ]
     },
     "execution_count": 116,
     "metadata": {},
     "output_type": "execute_result"
    }
   ],
   "source": [
    "%%vertica (end_date=retrospective_end_date, less_recent_than=less_recent_than, more_recent_than=more_recent_than)\n",
    "DROP TABLE IF EXISTS baseline_recently_disengaged_users;\n",
    "\n",
    "CREATE TEMPORARY TABLE baseline_recently_disengaged_users\n",
    "ON COMMIT PRESERVE ROWS\n",
    "AS {find_disengaged_users}"
   ]
  },
  {
   "cell_type": "code",
   "execution_count": 117,
   "metadata": {},
   "outputs": [
    {
     "data": {
      "text/html": [
       "<div>\n",
       "<table border=\"1\" class=\"dataframe\">\n",
       "  <thead>\n",
       "    <tr style=\"text-align: right;\">\n",
       "      <th></th>\n",
       "      <th>verified_after</th>\n",
       "      <th>COUNT</th>\n",
       "    </tr>\n",
       "  </thead>\n",
       "  <tbody>\n",
       "  </tbody>\n",
       "</table>\n",
       "</div>"
      ],
      "text/plain": [
       "Empty DataFrame\n",
       "Columns: [verified_after, COUNT]\n",
       "Index: []"
      ]
     },
     "execution_count": 117,
     "metadata": {},
     "output_type": "execute_result"
    }
   ],
   "source": [
    "%%vertica\n",
    "DROP TABLE IF EXISTS baseline_most_recently_disengaged_user_course;\n",
    "\n",
    "CREATE TEMPORARY TABLE baseline_most_recently_disengaged_user_course\n",
    "ON COMMIT PRESERVE ROWS\n",
    "AS {latest_disengaged_course} FROM baseline_recently_disengaged_users"
   ]
  },
  {
   "cell_type": "code",
   "execution_count": 118,
   "metadata": {},
   "outputs": [
    {
     "data": {
      "text/html": [
       "<div>\n",
       "<table border=\"1\" class=\"dataframe\">\n",
       "  <thead>\n",
       "    <tr style=\"text-align: right;\">\n",
       "      <th></th>\n",
       "      <th>COUNT</th>\n",
       "    </tr>\n",
       "  </thead>\n",
       "  <tbody>\n",
       "    <tr>\n",
       "      <th>0</th>\n",
       "      <td>154118</td>\n",
       "    </tr>\n",
       "  </tbody>\n",
       "</table>\n",
       "</div>"
      ],
      "text/plain": [
       "    COUNT\n",
       "0  154118"
      ]
     },
     "execution_count": 118,
     "metadata": {},
     "output_type": "execute_result"
    }
   ],
   "source": [
    "%%vertica\n",
    "\n",
    "SELECT COUNT(DISTINCT user_id)\n",
    "FROM\n",
    "    baseline_most_recently_disengaged_user_course"
   ]
  },
  {
   "cell_type": "code",
   "execution_count": 119,
   "metadata": {},
   "outputs": [
    {
     "data": {
      "text/html": [
       "<div>\n",
       "<table border=\"1\" class=\"dataframe\">\n",
       "  <thead>\n",
       "    <tr style=\"text-align: right;\">\n",
       "      <th></th>\n",
       "      <th>engagement_level</th>\n",
       "      <th>COUNT</th>\n",
       "    </tr>\n",
       "  </thead>\n",
       "  <tbody>\n",
       "    <tr>\n",
       "      <th>0</th>\n",
       "      <td>minimal</td>\n",
       "      <td>73579</td>\n",
       "    </tr>\n",
       "    <tr>\n",
       "      <th>1</th>\n",
       "      <td>high</td>\n",
       "      <td>38000</td>\n",
       "    </tr>\n",
       "    <tr>\n",
       "      <th>2</th>\n",
       "      <td>None</td>\n",
       "      <td>42539</td>\n",
       "    </tr>\n",
       "  </tbody>\n",
       "</table>\n",
       "</div>"
      ],
      "text/plain": [
       "  engagement_level  COUNT\n",
       "0          minimal  73579\n",
       "1             high  38000\n",
       "2             None  42539"
      ]
     },
     "execution_count": 119,
     "metadata": {},
     "output_type": "execute_result"
    }
   ],
   "source": [
    "%%vertica\n",
    "SELECT engagement_level, COUNT(*) FROM baseline_most_recently_disengaged_user_course GROUP BY 1"
   ]
  },
  {
   "cell_type": "markdown",
   "metadata": {},
   "source": [
    "Compute the return rate of recently disengaged users from last month\n",
    "---"
   ]
  },
  {
   "cell_type": "code",
   "execution_count": 120,
   "metadata": {},
   "outputs": [
    {
     "data": {
      "text/html": [
       "<script>requirejs.config({paths: { 'plotly': ['https://cdn.plot.ly/plotly-latest.min']},});if(!window.Plotly) {{require(['plotly'],function(plotly) {window.Plotly=plotly;});}}</script>"
      ],
      "text/vnd.plotly.v1+html": [
       "<script>requirejs.config({paths: { 'plotly': ['https://cdn.plot.ly/plotly-latest.min']},});if(!window.Plotly) {{require(['plotly'],function(plotly) {window.Plotly=plotly;});}}</script>"
      ]
     },
     "metadata": {},
     "output_type": "display_data"
    }
   ],
   "source": [
    "from plotly.offline import download_plotlyjs, init_notebook_mode, plot, iplot\n",
    "from plotly.graph_objs import Scatter\n",
    "import pandas as pd\n",
    "import numpy as np\n",
    "init_notebook_mode(connected=True)"
   ]
  },
  {
   "cell_type": "code",
   "execution_count": 121,
   "metadata": {
    "collapsed": true
   },
   "outputs": [],
   "source": [
    "%matplotlib inline"
   ]
  },
  {
   "cell_type": "code",
   "execution_count": 122,
   "metadata": {
    "collapsed": true
   },
   "outputs": [],
   "source": [
    "import matplotlib.pyplot as plt"
   ]
  },
  {
   "cell_type": "code",
   "execution_count": 146,
   "metadata": {
    "collapsed": true,
    "scrolled": false
   },
   "outputs": [],
   "source": [
    "%%vertica (retrospective_end_date=retrospective_end_date, window_end_date=window_end_date) -> return_rates\n",
    "SELECT\n",
    "    returned_after,\n",
    "    engagement_level,\n",
    "    COUNT(user_id)\n",
    "FROM\n",
    "(\n",
    "    SELECT\n",
    "        rdu.user_id,\n",
    "        rdu.engagement_level,\n",
    "        DATEDIFF('day', :retrospective_end_date, MIN(act.date)) as returned_after\n",
    "    FROM\n",
    "        baseline_most_recently_disengaged_user_course as rdu\n",
    "    LEFT JOIN\n",
    "            production.f_user_activity as act\n",
    "         ON act.user_id = rdu.user_id\n",
    "        AND act.course_id = rdu.course_id\n",
    "        AND act.date BETWEEN :retrospective_end_date AND :window_end_date\n",
    "        AND act.activity_type != 'ACTIVE'\n",
    "    GROUP BY\n",
    "        1, 2\n",
    ") as return\n",
    "GROUP BY\n",
    "    1, 2\n",
    "ORDER BY 1"
   ]
  },
  {
   "cell_type": "code",
   "execution_count": 147,
   "metadata": {
    "collapsed": true
   },
   "outputs": [],
   "source": [
    "return_rates_pivoted = pd.pivot_table(\n",
    "    return_rates[return_rates.returned_after > 0].fillna('never'),\n",
    "    values='COUNT',\n",
    "    index='returned_after',\n",
    "    columns='engagement_level',\n",
    "    aggfunc=np.sum\n",
    ")"
   ]
  },
  {
   "cell_type": "code",
   "execution_count": 148,
   "metadata": {
    "collapsed": true
   },
   "outputs": [],
   "source": [
    "return_rates_pivoted['total'] = return_rates_pivoted.high + return_rates_pivoted.minimal + return_rates_pivoted.never"
   ]
  },
  {
   "cell_type": "code",
   "execution_count": 149,
   "metadata": {},
   "outputs": [
    {
     "data": {
      "text/html": [
       "<div>\n",
       "<table border=\"1\" class=\"dataframe\">\n",
       "  <thead>\n",
       "    <tr style=\"text-align: right;\">\n",
       "      <th>engagement_level</th>\n",
       "      <th>high</th>\n",
       "      <th>minimal</th>\n",
       "      <th>never</th>\n",
       "      <th>total</th>\n",
       "    </tr>\n",
       "    <tr>\n",
       "      <th>returned_after</th>\n",
       "      <th></th>\n",
       "      <th></th>\n",
       "      <th></th>\n",
       "      <th></th>\n",
       "    </tr>\n",
       "  </thead>\n",
       "  <tbody>\n",
       "    <tr>\n",
       "      <th>1.0</th>\n",
       "      <td>784</td>\n",
       "      <td>692</td>\n",
       "      <td>650</td>\n",
       "      <td>2126</td>\n",
       "    </tr>\n",
       "    <tr>\n",
       "      <th>2.0</th>\n",
       "      <td>709</td>\n",
       "      <td>598</td>\n",
       "      <td>471</td>\n",
       "      <td>1778</td>\n",
       "    </tr>\n",
       "    <tr>\n",
       "      <th>3.0</th>\n",
       "      <td>518</td>\n",
       "      <td>469</td>\n",
       "      <td>360</td>\n",
       "      <td>1347</td>\n",
       "    </tr>\n",
       "    <tr>\n",
       "      <th>4.0</th>\n",
       "      <td>392</td>\n",
       "      <td>365</td>\n",
       "      <td>302</td>\n",
       "      <td>1059</td>\n",
       "    </tr>\n",
       "    <tr>\n",
       "      <th>5.0</th>\n",
       "      <td>345</td>\n",
       "      <td>295</td>\n",
       "      <td>289</td>\n",
       "      <td>929</td>\n",
       "    </tr>\n",
       "  </tbody>\n",
       "</table>\n",
       "</div>"
      ],
      "text/plain": [
       "engagement_level  high  minimal  never  total\n",
       "returned_after                               \n",
       "1.0                784      692    650   2126\n",
       "2.0                709      598    471   1778\n",
       "3.0                518      469    360   1347\n",
       "4.0                392      365    302   1059\n",
       "5.0                345      295    289    929"
      ]
     },
     "execution_count": 149,
     "metadata": {},
     "output_type": "execute_result"
    }
   ],
   "source": [
    "return_rates_pivoted.head()"
   ]
  },
  {
   "cell_type": "code",
   "execution_count": 150,
   "metadata": {
    "collapsed": true
   },
   "outputs": [],
   "source": [
    "%%vertica -> user_groups\n",
    "SELECT\n",
    "    COALESCE(engagement_level, 'never') AS engagement_level,\n",
    "    COUNT(*) AS cnt_users\n",
    "FROM\n",
    "    baseline_most_recently_disengaged_user_course\n",
    "GROUP BY 1\n",
    "UNION\n",
    "SELECT\n",
    "    'total',\n",
    "    (SELECT COUNT(*) FROM baseline_most_recently_disengaged_user_course) AS cnt_users"
   ]
  },
  {
   "cell_type": "code",
   "execution_count": 151,
   "metadata": {
    "collapsed": true
   },
   "outputs": [],
   "source": [
    "user_groups.set_index('engagement_level', inplace=True)"
   ]
  },
  {
   "cell_type": "code",
   "execution_count": 152,
   "metadata": {},
   "outputs": [
    {
     "data": {
      "text/html": [
       "<div>\n",
       "<table border=\"1\" class=\"dataframe\">\n",
       "  <thead>\n",
       "    <tr style=\"text-align: right;\">\n",
       "      <th></th>\n",
       "      <th>cnt_users</th>\n",
       "    </tr>\n",
       "    <tr>\n",
       "      <th>engagement_level</th>\n",
       "      <th></th>\n",
       "    </tr>\n",
       "  </thead>\n",
       "  <tbody>\n",
       "    <tr>\n",
       "      <th>high</th>\n",
       "      <td>38000</td>\n",
       "    </tr>\n",
       "    <tr>\n",
       "      <th>minimal</th>\n",
       "      <td>73579</td>\n",
       "    </tr>\n",
       "    <tr>\n",
       "      <th>total</th>\n",
       "      <td>154118</td>\n",
       "    </tr>\n",
       "    <tr>\n",
       "      <th>never</th>\n",
       "      <td>42539</td>\n",
       "    </tr>\n",
       "  </tbody>\n",
       "</table>\n",
       "</div>"
      ],
      "text/plain": [
       "                  cnt_users\n",
       "engagement_level           \n",
       "high                  38000\n",
       "minimal               73579\n",
       "total                154118\n",
       "never                 42539"
      ]
     },
     "execution_count": 152,
     "metadata": {},
     "output_type": "execute_result"
    }
   ],
   "source": [
    "user_groups"
   ]
  },
  {
   "cell_type": "code",
   "execution_count": 153,
   "metadata": {},
   "outputs": [
    {
     "data": {
      "image/png": "[encoded data removed]",
      "text/plain": [
       "<matplotlib.figure.Figure at 0x7f6779a5cba8>"
      ]
     },
     "metadata": {},
     "output_type": "display_data"
    }
   ],
   "source": [
    "fig = plt.figure(figsize=(16, 10))\n",
    "for col in ('never', 'minimal', 'high', 'total'):\n",
    "    x = list(return_rates_pivoted.index)\n",
    "    y = list(return_rates_pivoted[col].cumsum()/user_groups.loc[col][0]*100)\n",
    "    plt.plot(x, y, label=col)\n",
    "    plt.annotate(\n",
    "        '{0}%'.format(round(y[-1], 2)),\n",
    "        xy=(x[-1], y[-1])\n",
    "    )\n",
    "    plt.legend()"
   ]
  },
  {
   "cell_type": "markdown",
   "metadata": {},
   "source": [
    "Compute the bookings rate of recently disengaged users from last month\n",
    "---"
   ]
  },
  {
   "cell_type": "code",
   "execution_count": 154,
   "metadata": {
    "collapsed": true
   },
   "outputs": [],
   "source": [
    "%%vertica (retrospective_end_date=retrospective_end_date, window_end_date=window_end_date) -> verify_rates\n",
    "SELECT\n",
    "    verified_after,\n",
    "    engagement_level,\n",
    "    COUNT(user_id)\n",
    "FROM\n",
    "(\n",
    "    SELECT\n",
    "        rdu.user_id,\n",
    "        rdu.engagement_level,\n",
    "        DATEDIFF('day', :retrospective_end_date, MIN(crs.first_verified_enrollment_time)) as verified_after\n",
    "    FROM\n",
    "        baseline_most_recently_disengaged_user_course as rdu\n",
    "    LEFT JOIN\n",
    "            production.d_user_course as crs\n",
    "        ON rdu.user_id = crs.user_id\n",
    "        AND rdu.course_id = crs.course_id\n",
    "        AND crs.first_verified_enrollment_time BETWEEN :retrospective_end_date AND :window_end_date\n",
    "    GROUP BY\n",
    "        1, 2\n",
    ") as return\n",
    "GROUP BY\n",
    "    1, 2\n",
    "ORDER BY 1"
   ]
  },
  {
   "cell_type": "code",
   "execution_count": 155,
   "metadata": {
    "collapsed": true
   },
   "outputs": [],
   "source": [
    "total_unverified_users = verify_rates['COUNT'].sum()"
   ]
  },
  {
   "cell_type": "code",
   "execution_count": 156,
   "metadata": {
    "collapsed": true
   },
   "outputs": [],
   "source": [
    "verify_rates_pivoted = pd.pivot_table(\n",
    "    verify_rates[verify_rates.verified_after > 0].fillna('never'),\n",
    "    values='COUNT',\n",
    "    index='verified_after',\n",
    "    columns='engagement_level',\n",
    "    aggfunc=np.sum\n",
    ")"
   ]
  },
  {
   "cell_type": "code",
   "execution_count": 157,
   "metadata": {
    "collapsed": true
   },
   "outputs": [],
   "source": [
    "verify_rates_pivoted['total'] = verify_rates_pivoted.high + verify_rates_pivoted.minimal + verify_rates_pivoted.never"
   ]
  },
  {
   "cell_type": "code",
   "execution_count": 158,
   "metadata": {},
   "outputs": [
    {
     "data": {
      "image/png": "[encoded data removed]",
      "text/plain": [
       "<matplotlib.figure.Figure at 0x7f6779a39748>"
      ]
     },
     "metadata": {},
     "output_type": "display_data"
    }
   ],
   "source": [
    "fig = plt.figure(figsize=(16, 10))\n",
    "for col in ('never', 'minimal', 'high', 'total'):\n",
    "    x = list(verify_rates_pivoted.index)\n",
    "    y = list(verify_rates_pivoted[col].cumsum()/user_groups.loc[col][0]*100)\n",
    "    plt.plot(x, y, label=col)\n",
    "    plt.annotate(\n",
    "        '{0}%'.format(round(y[-1], 2)),\n",
    "        xy=(x[-1], y[-1])\n",
    "    )\n",
    "    plt.legend()"
   ]
  },
  {
   "cell_type": "markdown",
   "metadata": {
    "collapsed": true
   },
   "source": [
    "Find users who are minimally engaged in the first week from content availability, who we could potentially convert to highly engaged users\n",
    "---"
   ]
  },
  {
   "cell_type": "code",
   "execution_count": 167,
   "metadata": {},
   "outputs": [
    {
     "data": {
      "text/html": [
       "<div>\n",
       "<table border=\"1\" class=\"dataframe\">\n",
       "  <thead>\n",
       "    <tr style=\"text-align: right;\">\n",
       "      <th></th>\n",
       "      <th>verified_after</th>\n",
       "      <th>COUNT</th>\n",
       "    </tr>\n",
       "  </thead>\n",
       "  <tbody>\n",
       "  </tbody>\n",
       "</table>\n",
       "</div>"
      ],
      "text/plain": [
       "Empty DataFrame\n",
       "Columns: [verified_after, COUNT]\n",
       "Index: []"
      ]
     },
     "execution_count": 167,
     "metadata": {},
     "output_type": "execute_result"
    }
   ],
   "source": [
    "%%vertica (retrospective_end_date=retrospective_end_date, window_end_date=window_end_date)\n",
    "DROP TABLE IF EXISTS most_recent_minimally_engaged_user;\n",
    "\n",
    "CREATE TEMPORARY TABLE most_recent_minimally_engaged_user\n",
    "ON COMMIT PRESERVE ROWS AS\n",
    "SELECT\n",
    "    a.user_id,\n",
    "    a.course_id\n",
    "FROM\n",
    "(\n",
    "    SELECT DISTINCT\n",
    "        user_id,\n",
    "        LAST_VALUE(course_id) OVER (PARTITION BY user_id ORDER BY content_availability_date ASC) AS course_id\n",
    "    FROM\n",
    "        first_week_engagement_level\n",
    "    WHERE\n",
    "        DATEDIFF('day', content_availability_date, :retrospective_end_date) BETWEEN 1 AND 6\n",
    "        AND engagement_level='minimal'\n",
    ") a\n",
    "JOIN production.d_user_course du\n",
    "ON\n",
    "    du.user_id = a.user_id\n",
    "    AND du.course_id = a.course_id\n",
    "    AND (du.first_verified_enrollment_time IS NULL OR du.first_verified_enrollment_time BETWEEN :retrospective_end_date AND :window_end_date)"
   ]
  },
  {
   "cell_type": "code",
   "execution_count": 168,
   "metadata": {
    "collapsed": true
   },
   "outputs": [],
   "source": [
    "%%vertica -> minimal_user_count\n",
    "SELECT\n",
    "    COUNT(user_id)\n",
    "FROM\n",
    "    most_recent_minimally_engaged_user"
   ]
  },
  {
   "cell_type": "code",
   "execution_count": 169,
   "metadata": {
    "collapsed": true
   },
   "outputs": [],
   "source": [
    "minimal_user_count = minimal_user_count.loc[0][0]"
   ]
  },
  {
   "cell_type": "markdown",
   "metadata": {},
   "source": [
    "Run the return rate analysis for this set of users\n",
    "---"
   ]
  },
  {
   "cell_type": "code",
   "execution_count": 170,
   "metadata": {
    "collapsed": true
   },
   "outputs": [],
   "source": [
    "%%vertica (retrospective_end_date=retrospective_end_date, window_end_date=window_end_date) -> return_rates\n",
    "SELECT\n",
    "    returned_after,\n",
    "    COUNT(user_id)\n",
    "FROM\n",
    "(\n",
    "    SELECT\n",
    "        rdu.user_id,\n",
    "        DATEDIFF('day', :retrospective_end_date, MIN(act.date)) as returned_after\n",
    "    FROM\n",
    "        most_recent_minimally_engaged_user as rdu\n",
    "    LEFT JOIN\n",
    "            production.f_user_activity as act\n",
    "         ON act.user_id = rdu.user_id\n",
    "        AND act.course_id = rdu.course_id\n",
    "        AND act.date BETWEEN :retrospective_end_date AND :window_end_date\n",
    "        AND act.activity_type != 'ACTIVE'\n",
    "    GROUP BY\n",
    "        1\n",
    ") as return\n",
    "GROUP BY\n",
    "    1\n",
    "ORDER BY 1"
   ]
  },
  {
   "cell_type": "code",
   "execution_count": 171,
   "metadata": {},
   "outputs": [
    {
     "data": {
      "text/plain": [
       "<matplotlib.legend.Legend at 0x7f67780e3208>"
      ]
     },
     "execution_count": 171,
     "metadata": {},
     "output_type": "execute_result"
    },
    {
     "data": {
      "image/png": "[encoded data removed]",
      "text/plain": [
       "<matplotlib.figure.Figure at 0x7f6779a39c18>"
      ]
     },
     "metadata": {},
     "output_type": "display_data"
    }
   ],
   "source": [
    "fig = plt.figure(figsize=(16, 10))\n",
    "x = list(return_rates[1:].returned_after)\n",
    "y = list(return_rates['COUNT'][1:].cumsum()/minimal_user_count*100)\n",
    "plt.plot(x, y, label=col)\n",
    "plt.annotate(\n",
    "    '{0}%'.format(round(y[-1], 2)),\n",
    "    xy=(x[-1], y[-1]-0.5)\n",
    ")\n",
    "plt.legend()"
   ]
  },
  {
   "cell_type": "markdown",
   "metadata": {},
   "source": [
    "And verification rate...\n",
    "---"
   ]
  },
  {
   "cell_type": "code",
   "execution_count": 172,
   "metadata": {
    "collapsed": true
   },
   "outputs": [],
   "source": [
    "%%vertica (retrospective_end_date=retrospective_end_date) -> verify_rates\n",
    "SELECT\n",
    "    verified_after,\n",
    "    COUNT(user_id)\n",
    "FROM\n",
    "(\n",
    "    SELECT\n",
    "        rdu.user_id,\n",
    "        DATEDIFF('day', :retrospective_end_date, MIN(crs.first_verified_enrollment_time)) as verified_after\n",
    "    FROM\n",
    "        most_recent_minimally_engaged_user as rdu\n",
    "    LEFT JOIN\n",
    "            production.d_user_course as crs\n",
    "        ON rdu.user_id = crs.user_id\n",
    "        AND rdu.course_id = crs.course_id\n",
    "    GROUP BY\n",
    "        1\n",
    ") as v\n",
    "GROUP BY\n",
    "    1\n",
    "ORDER BY 1"
   ]
  },
  {
   "cell_type": "code",
   "execution_count": 173,
   "metadata": {},
   "outputs": [
    {
     "data": {
      "text/plain": [
       "<matplotlib.legend.Legend at 0x7f67780aacf8>"
      ]
     },
     "execution_count": 173,
     "metadata": {},
     "output_type": "execute_result"
    },
    {
     "data": {
      "image/png": "[encoded data removed]",
      "text/plain": [
       "<matplotlib.figure.Figure at 0x7f6779993dd8>"
      ]
     },
     "metadata": {},
     "output_type": "display_data"
    }
   ],
   "source": [
    "fig = plt.figure(figsize=(16, 10))\n",
    "x = list(verify_rates[1:].verified_after)\n",
    "y = list(verify_rates['COUNT'][1:].cumsum()/minimal_user_count*100)\n",
    "plt.plot(x, y, label=col)\n",
    "plt.annotate(\n",
    "    '{0}%'.format(round(y[-2], 2)),\n",
    "    xy=(x[-1], y[-2])\n",
    ")\n",
    "plt.legend()"
   ]
  },
  {
   "cell_type": "code",
   "execution_count": 174,
   "metadata": {},
   "outputs": [
    {
     "data": {
      "text/plain": [
       "20515"
      ]
     },
     "execution_count": 174,
     "metadata": {},
     "output_type": "execute_result"
    }
   ],
   "source": [
    "minimal_user_count"
   ]
  }
 ],
 "metadata": {
  "celltoolbar": "Raw Cell Format",
  "kernelspec": {
   "display_name": "Python 3",
   "language": "python",
   "name": "python3"
  },
  "language_info": {
   "codemirror_mode": {
    "name": "ipython",
    "version": 3
   },
   "file_extension": ".py",
   "mimetype": "text/x-python",
   "name": "python",
   "nbconvert_exporter": "python",
   "pygments_lexer": "ipython3",
   "version": "3.5.2"
  }
 },
 "nbformat": 4,
 "nbformat_minor": 2
}
