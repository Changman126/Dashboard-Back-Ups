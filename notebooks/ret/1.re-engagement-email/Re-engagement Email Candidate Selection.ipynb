{
 "cells": [
  {
   "cell_type": "code",
   "execution_count": 1,
   "metadata": {},
   "outputs": [
    {
     "name": "stdout",
     "output_type": "stream",
     "text": [
      "\u001b[33mThe directory '/home/developer/.cache/pip/http' or its parent directory is not owned by the current user and the cache has been disabled. Please check the permissions and owner of that directory. If executing pip with sudo, you may want sudo's -H flag.\u001b[0m\r\n",
      "\u001b[33mThe directory '/home/developer/.cache/pip' or its parent directory is not owned by the current user and caching wheels has been disabled. check the permissions and owner of that directory. If executing pip with sudo, you may want sudo's -H flag.\u001b[0m\r\n",
      "Requirement already satisfied: vertica_python[namedparams] in /usr/local/lib/python3.5/dist-packages\r\n",
      "Requirement already satisfied: pytz in /usr/local/lib/python3.5/dist-packages (from vertica_python[namedparams])\r\n",
      "Requirement already satisfied: six>=1.10.0 in /usr/local/lib/python3.5/dist-packages (from vertica_python[namedparams])\r\n",
      "Requirement already satisfied: python-dateutil>=1.5 in /usr/local/lib/python3.5/dist-packages (from vertica_python[namedparams])\r\n",
      "Requirement already satisfied: future in /usr/local/lib/python3.5/dist-packages (from vertica_python[namedparams])\r\n",
      "Requirement already satisfied: psycopg2>=2.5.1; extra == \"namedparams\" in /usr/local/lib/python3.5/dist-packages (from vertica_python[namedparams])\r\n"
     ]
    }
   ],
   "source": [
    "!sudo pip install vertica_python[namedparams]"
   ]
  },
  {
   "cell_type": "markdown",
   "metadata": {},
   "source": [
    "Boilerplate Connection Setup\n",
    "---"
   ]
  },
  {
   "cell_type": "code",
   "execution_count": 2,
   "metadata": {
    "collapsed": true
   },
   "outputs": [],
   "source": [
    "%load_ext edx_jupyter"
   ]
  },
  {
   "cell_type": "code",
   "execution_count": 3,
   "metadata": {
    "collapsed": true
   },
   "outputs": [],
   "source": [
    "%reload_ext edx_jupyter"
   ]
  },
  {
   "cell_type": "code",
   "execution_count": 4,
   "metadata": {},
   "outputs": [
    {
     "name": "stdout",
     "output_type": "stream",
     "text": [
      "password: ········\n"
     ]
    },
    {
     "data": {
      "text/html": [
       "<div>\n",
       "<table border=\"1\" class=\"dataframe\">\n",
       "  <thead>\n",
       "    <tr style=\"text-align: right;\">\n",
       "      <th></th>\n",
       "      <th>?column?</th>\n",
       "    </tr>\n",
       "  </thead>\n",
       "  <tbody>\n",
       "    <tr>\n",
       "      <th>0</th>\n",
       "      <td>Connected</td>\n",
       "    </tr>\n",
       "  </tbody>\n",
       "</table>\n",
       "</div>"
      ],
      "text/plain": [
       "    ?column?\n",
       "0  Connected"
      ]
     },
     "execution_count": 4,
     "metadata": {},
     "output_type": "execute_result"
    }
   ],
   "source": [
    "%%vertica\n",
    "\n",
    "SELECT 'Connected'"
   ]
  },
  {
   "cell_type": "markdown",
   "metadata": {},
   "source": [
    "Set up parameters\n",
    "---"
   ]
  },
  {
   "cell_type": "code",
   "execution_count": 5,
   "metadata": {
    "collapsed": true
   },
   "outputs": [],
   "source": [
    "less_recent_than = 7\n",
    "more_recent_than = 31"
   ]
  },
  {
   "cell_type": "markdown",
   "metadata": {},
   "source": [
    "Store queries\n",
    "---"
   ]
  },
  {
   "cell_type": "code",
   "execution_count": 6,
   "metadata": {
    "collapsed": true
   },
   "outputs": [],
   "source": [
    "find_disengaged_users = \"\"\"\n",
    "SELECT\n",
    "    CASE\n",
    "        WHEN act.course_start_date >= uc.first_enrollment_time THEN act.course_start_date\n",
    "        WHEN act.course_start_date < uc.first_enrollment_time THEN DATE(uc.first_enrollment_time)\n",
    "    END AS content_availability_date,\n",
    "    act.user_id,\n",
    "    act.course_id,\n",
    "    act.last_activity_date\n",
    "FROM\n",
    "(\n",
    "    SELECT\n",
    "        act.*,\n",
    "        crs.course_start_date\n",
    "    FROM\n",
    "    (\n",
    "        SELECT\n",
    "            user_id,\n",
    "            course_id,\n",
    "            MAX(date) AS last_activity_date\n",
    "        FROM\n",
    "            business_intelligence.activity_engagement_user_daily\n",
    "        WHERE\n",
    "                is_engaged\n",
    "            AND date <= :end_date\n",
    "        GROUP BY 1, 2\n",
    "    ) act\n",
    "    JOIN\n",
    "            experiment_courses as crs\n",
    "        ON act.course_id = crs.course_id\n",
    "    WHERE\n",
    "        DATEDIFF('day', act.last_activity_date, :end_date) BETWEEN :less_recent_than AND :more_recent_than\n",
    ") as act\n",
    "JOIN\n",
    "        production.d_user_course as uc\n",
    "    ON uc.user_id = act.user_id\n",
    "    AND uc.course_id = act.course_id\n",
    "    AND (uc.first_verified_enrollment_time is NULL\n",
    "         OR uc.first_verified_enrollment_time > :end_date)\n",
    "\"\"\"\n",
    "    \n",
    "latest_disengaged_course = \"\"\"\n",
    "SELECT DISTINCT\n",
    "    user_id,\n",
    "    LAST_VALUE(course_id) OVER (\n",
    "        PARTITION BY user_id ORDER BY last_activity_date\n",
    "        ROWS BETWEEN UNBOUNDED PRECEDING AND UNBOUNDED FOLLOWING\n",
    "    ) as course_id,\n",
    "    LAST_VALUE(last_activity_date) OVER (\n",
    "        PARTITION BY user_id ORDER BY last_activity_date\n",
    "        ROWS BETWEEN UNBOUNDED PRECEDING AND UNBOUNDED FOLLOWING\n",
    "    ) as last_activity_date\n",
    "\"\"\""
   ]
  },
  {
   "cell_type": "markdown",
   "metadata": {},
   "source": [
    "Find the most recent date of user activity imported\n",
    "---"
   ]
  },
  {
   "cell_type": "code",
   "execution_count": 7,
   "metadata": {
    "collapsed": true
   },
   "outputs": [],
   "source": [
    "%%vertica -> latest_activity\n",
    "SELECT MAX(date) FROM production.f_user_activity"
   ]
  },
  {
   "cell_type": "code",
   "execution_count": 8,
   "metadata": {
    "collapsed": true
   },
   "outputs": [],
   "source": [
    "end_date = latest_activity['MAX'][0]"
   ]
  },
  {
   "cell_type": "markdown",
   "metadata": {},
   "source": [
    "Find the courses that meet our criteria\n",
    "---"
   ]
  },
  {
   "cell_type": "code",
   "execution_count": 9,
   "metadata": {},
   "outputs": [
    {
     "data": {
      "text/html": [
       "<div>\n",
       "<table border=\"1\" class=\"dataframe\">\n",
       "  <thead>\n",
       "    <tr style=\"text-align: right;\">\n",
       "      <th></th>\n",
       "      <th>MAX</th>\n",
       "    </tr>\n",
       "  </thead>\n",
       "  <tbody>\n",
       "  </tbody>\n",
       "</table>\n",
       "</div>"
      ],
      "text/plain": [
       "Empty DataFrame\n",
       "Columns: [MAX]\n",
       "Index: []"
      ]
     },
     "execution_count": 9,
     "metadata": {},
     "output_type": "execute_result"
    }
   ],
   "source": [
    "%%vertica (end_date=end_date)\n",
    "DROP TABLE IF EXISTS experiment_courses;\n",
    "\n",
    "CREATE TEMPORARY TABLE experiment_courses\n",
    "ON COMMIT PRESERVE ROWS\n",
    "AS SELECT\n",
    "    course_id,\n",
    "    course_start_date\n",
    "FROM\n",
    "    business_intelligence.course_master\n",
    "WHERE\n",
    "        (content_language is NULL OR content_language = 'en-us')\n",
    "    AND pacing_type = 'self_paced'\n",
    "    AND DATEDIFF('day', :end_date, course_verification_end_date) > 7\n",
    "    AND :end_date < course_end_date\n",
    "    AND DATEDIFF('day', course_start_date, :end_date) > 7"
   ]
  },
  {
   "cell_type": "code",
   "execution_count": 10,
   "metadata": {},
   "outputs": [
    {
     "data": {
      "text/html": [
       "<div>\n",
       "<table border=\"1\" class=\"dataframe\">\n",
       "  <thead>\n",
       "    <tr style=\"text-align: right;\">\n",
       "      <th></th>\n",
       "      <th>COUNT</th>\n",
       "    </tr>\n",
       "  </thead>\n",
       "  <tbody>\n",
       "    <tr>\n",
       "      <th>0</th>\n",
       "      <td>335</td>\n",
       "    </tr>\n",
       "  </tbody>\n",
       "</table>\n",
       "</div>"
      ],
      "text/plain": [
       "   COUNT\n",
       "0    335"
      ]
     },
     "execution_count": 10,
     "metadata": {},
     "output_type": "execute_result"
    }
   ],
   "source": [
    "%vertica SELECT COUNT(*) FROM experiment_courses"
   ]
  },
  {
   "cell_type": "markdown",
   "metadata": {},
   "source": [
    "Find recently disengaged users\n",
    "---"
   ]
  },
  {
   "cell_type": "code",
   "execution_count": 11,
   "metadata": {},
   "outputs": [
    {
     "data": {
      "text/html": [
       "<div>\n",
       "<table border=\"1\" class=\"dataframe\">\n",
       "  <thead>\n",
       "    <tr style=\"text-align: right;\">\n",
       "      <th></th>\n",
       "      <th>COUNT</th>\n",
       "    </tr>\n",
       "  </thead>\n",
       "  <tbody>\n",
       "  </tbody>\n",
       "</table>\n",
       "</div>"
      ],
      "text/plain": [
       "Empty DataFrame\n",
       "Columns: [COUNT]\n",
       "Index: []"
      ]
     },
     "execution_count": 11,
     "metadata": {},
     "output_type": "execute_result"
    }
   ],
   "source": [
    "%%vertica (end_date=end_date, less_recent_than=less_recent_than, more_recent_than=more_recent_than)\n",
    "DROP TABLE IF EXISTS recently_disengaged_users;\n",
    "\n",
    "CREATE TEMPORARY TABLE recently_disengaged_users\n",
    "ON COMMIT PRESERVE ROWS\n",
    "AS {find_disengaged_users}"
   ]
  },
  {
   "cell_type": "code",
   "execution_count": 12,
   "metadata": {},
   "outputs": [
    {
     "data": {
      "text/html": [
       "<div>\n",
       "<table border=\"1\" class=\"dataframe\">\n",
       "  <thead>\n",
       "    <tr style=\"text-align: right;\">\n",
       "      <th></th>\n",
       "      <th>COUNT</th>\n",
       "    </tr>\n",
       "  </thead>\n",
       "  <tbody>\n",
       "    <tr>\n",
       "      <th>0</th>\n",
       "      <td>230805</td>\n",
       "    </tr>\n",
       "  </tbody>\n",
       "</table>\n",
       "</div>"
      ],
      "text/plain": [
       "    COUNT\n",
       "0  230805"
      ]
     },
     "execution_count": 12,
     "metadata": {},
     "output_type": "execute_result"
    }
   ],
   "source": [
    "%vertica SELECT COUNT(*) FROM recently_disengaged_users"
   ]
  },
  {
   "cell_type": "code",
   "execution_count": 13,
   "metadata": {},
   "outputs": [
    {
     "data": {
      "text/html": [
       "<div>\n",
       "<table border=\"1\" class=\"dataframe\">\n",
       "  <thead>\n",
       "    <tr style=\"text-align: right;\">\n",
       "      <th></th>\n",
       "      <th>COUNT</th>\n",
       "    </tr>\n",
       "  </thead>\n",
       "  <tbody>\n",
       "  </tbody>\n",
       "</table>\n",
       "</div>"
      ],
      "text/plain": [
       "Empty DataFrame\n",
       "Columns: [COUNT]\n",
       "Index: []"
      ]
     },
     "execution_count": 13,
     "metadata": {},
     "output_type": "execute_result"
    }
   ],
   "source": [
    "%%vertica\n",
    "DROP TABLE IF EXISTS most_recently_disengaged_user_course;\n",
    "\n",
    "CREATE TEMPORARY TABLE most_recently_disengaged_user_course\n",
    "ON COMMIT PRESERVE ROWS\n",
    "AS {latest_disengaged_course} FROM recently_disengaged_users"
   ]
  },
  {
   "cell_type": "code",
   "execution_count": 14,
   "metadata": {},
   "outputs": [
    {
     "data": {
      "text/html": [
       "<div>\n",
       "<table border=\"1\" class=\"dataframe\">\n",
       "  <thead>\n",
       "    <tr style=\"text-align: right;\">\n",
       "      <th></th>\n",
       "      <th>COUNT</th>\n",
       "    </tr>\n",
       "  </thead>\n",
       "  <tbody>\n",
       "    <tr>\n",
       "      <th>0</th>\n",
       "      <td>187876</td>\n",
       "    </tr>\n",
       "  </tbody>\n",
       "</table>\n",
       "</div>"
      ],
      "text/plain": [
       "    COUNT\n",
       "0  187876"
      ]
     },
     "execution_count": 14,
     "metadata": {},
     "output_type": "execute_result"
    }
   ],
   "source": [
    "%vertica SELECT COUNT(*) FROM most_recently_disengaged_user_course"
   ]
  },
  {
   "cell_type": "markdown",
   "metadata": {},
   "source": [
    "Count unique recently disengaged users in self-paced courses\n",
    "---"
   ]
  },
  {
   "cell_type": "code",
   "execution_count": 15,
   "metadata": {
    "scrolled": false
   },
   "outputs": [
    {
     "data": {
      "text/html": [
       "<div>\n",
       "<table border=\"1\" class=\"dataframe\">\n",
       "  <thead>\n",
       "    <tr style=\"text-align: right;\">\n",
       "      <th></th>\n",
       "      <th>COUNT</th>\n",
       "    </tr>\n",
       "  </thead>\n",
       "  <tbody>\n",
       "    <tr>\n",
       "      <th>0</th>\n",
       "      <td>187876</td>\n",
       "    </tr>\n",
       "  </tbody>\n",
       "</table>\n",
       "</div>"
      ],
      "text/plain": [
       "    COUNT\n",
       "0  187876"
      ]
     },
     "execution_count": 15,
     "metadata": {},
     "output_type": "execute_result"
    }
   ],
   "source": [
    "%%vertica\n",
    "\n",
    "SELECT\n",
    "    COUNT(DISTINCT user_id)\n",
    "FROM\n",
    "    most_recently_disengaged_user_course"
   ]
  },
  {
   "cell_type": "markdown",
   "metadata": {},
   "source": [
    "Count users disengaged from multiple courses\n",
    "---"
   ]
  },
  {
   "cell_type": "code",
   "execution_count": 16,
   "metadata": {},
   "outputs": [
    {
     "data": {
      "text/html": [
       "<div>\n",
       "<table border=\"1\" class=\"dataframe\">\n",
       "  <thead>\n",
       "    <tr style=\"text-align: right;\">\n",
       "      <th></th>\n",
       "      <th>disengaged_count</th>\n",
       "      <th>COUNT</th>\n",
       "    </tr>\n",
       "  </thead>\n",
       "  <tbody>\n",
       "    <tr>\n",
       "      <th>0</th>\n",
       "      <td>2</td>\n",
       "      <td>21292</td>\n",
       "    </tr>\n",
       "    <tr>\n",
       "      <th>1</th>\n",
       "      <td>3</td>\n",
       "      <td>5082</td>\n",
       "    </tr>\n",
       "    <tr>\n",
       "      <th>2</th>\n",
       "      <td>4</td>\n",
       "      <td>1649</td>\n",
       "    </tr>\n",
       "    <tr>\n",
       "      <th>3</th>\n",
       "      <td>5</td>\n",
       "      <td>591</td>\n",
       "    </tr>\n",
       "    <tr>\n",
       "      <th>4</th>\n",
       "      <td>6</td>\n",
       "      <td>294</td>\n",
       "    </tr>\n",
       "    <tr>\n",
       "      <th>5</th>\n",
       "      <td>7</td>\n",
       "      <td>140</td>\n",
       "    </tr>\n",
       "    <tr>\n",
       "      <th>6</th>\n",
       "      <td>8</td>\n",
       "      <td>73</td>\n",
       "    </tr>\n",
       "    <tr>\n",
       "      <th>7</th>\n",
       "      <td>9</td>\n",
       "      <td>48</td>\n",
       "    </tr>\n",
       "    <tr>\n",
       "      <th>8</th>\n",
       "      <td>10</td>\n",
       "      <td>31</td>\n",
       "    </tr>\n",
       "    <tr>\n",
       "      <th>9</th>\n",
       "      <td>11</td>\n",
       "      <td>13</td>\n",
       "    </tr>\n",
       "    <tr>\n",
       "      <th>10</th>\n",
       "      <td>12</td>\n",
       "      <td>13</td>\n",
       "    </tr>\n",
       "    <tr>\n",
       "      <th>11</th>\n",
       "      <td>13</td>\n",
       "      <td>6</td>\n",
       "    </tr>\n",
       "    <tr>\n",
       "      <th>12</th>\n",
       "      <td>14</td>\n",
       "      <td>3</td>\n",
       "    </tr>\n",
       "    <tr>\n",
       "      <th>13</th>\n",
       "      <td>15</td>\n",
       "      <td>2</td>\n",
       "    </tr>\n",
       "    <tr>\n",
       "      <th>14</th>\n",
       "      <td>16</td>\n",
       "      <td>4</td>\n",
       "    </tr>\n",
       "    <tr>\n",
       "      <th>15</th>\n",
       "      <td>17</td>\n",
       "      <td>1</td>\n",
       "    </tr>\n",
       "    <tr>\n",
       "      <th>16</th>\n",
       "      <td>18</td>\n",
       "      <td>1</td>\n",
       "    </tr>\n",
       "    <tr>\n",
       "      <th>17</th>\n",
       "      <td>19</td>\n",
       "      <td>2</td>\n",
       "    </tr>\n",
       "    <tr>\n",
       "      <th>18</th>\n",
       "      <td>20</td>\n",
       "      <td>1</td>\n",
       "    </tr>\n",
       "    <tr>\n",
       "      <th>19</th>\n",
       "      <td>21</td>\n",
       "      <td>1</td>\n",
       "    </tr>\n",
       "    <tr>\n",
       "      <th>20</th>\n",
       "      <td>22</td>\n",
       "      <td>1</td>\n",
       "    </tr>\n",
       "    <tr>\n",
       "      <th>21</th>\n",
       "      <td>24</td>\n",
       "      <td>2</td>\n",
       "    </tr>\n",
       "    <tr>\n",
       "      <th>22</th>\n",
       "      <td>32</td>\n",
       "      <td>1</td>\n",
       "    </tr>\n",
       "  </tbody>\n",
       "</table>\n",
       "</div>"
      ],
      "text/plain": [
       "    disengaged_count  COUNT\n",
       "0                  2  21292\n",
       "1                  3   5082\n",
       "2                  4   1649\n",
       "3                  5    591\n",
       "4                  6    294\n",
       "5                  7    140\n",
       "6                  8     73\n",
       "7                  9     48\n",
       "8                 10     31\n",
       "9                 11     13\n",
       "10                12     13\n",
       "11                13      6\n",
       "12                14      3\n",
       "13                15      2\n",
       "14                16      4\n",
       "15                17      1\n",
       "16                18      1\n",
       "17                19      2\n",
       "18                20      1\n",
       "19                21      1\n",
       "20                22      1\n",
       "21                24      2\n",
       "22                32      1"
      ]
     },
     "execution_count": 16,
     "metadata": {},
     "output_type": "execute_result"
    }
   ],
   "source": [
    "%%vertica\n",
    "\n",
    "SELECT\n",
    "    disengaged_count,\n",
    "    COUNT(DISTINCT user_id)\n",
    "FROM\n",
    "(\n",
    "    SELECT\n",
    "        user_id,\n",
    "        COUNT(DISTINCT course_id) as disengaged_count\n",
    "    FROM\n",
    "        recently_disengaged_users\n",
    "    GROUP BY\n",
    "        1\n",
    "    HAVING\n",
    "        COUNT(DISTINCT course_id) > 1\n",
    ") as cnt\n",
    "GROUP BY\n",
    "    1\n",
    "ORDER BY 1"
   ]
  },
  {
   "cell_type": "markdown",
   "metadata": {},
   "source": [
    "Count unique recently disengaged users by amount of activity\n",
    "---"
   ]
  },
  {
   "cell_type": "code",
   "execution_count": 17,
   "metadata": {
    "scrolled": false
   },
   "outputs": [
    {
     "data": {
      "text/html": [
       "<div>\n",
       "<table border=\"1\" class=\"dataframe\">\n",
       "  <thead>\n",
       "    <tr style=\"text-align: right;\">\n",
       "      <th></th>\n",
       "      <th>activity_count</th>\n",
       "      <th>COUNT</th>\n",
       "    </tr>\n",
       "  </thead>\n",
       "  <tbody>\n",
       "    <tr>\n",
       "      <th>0</th>\n",
       "      <td>1</td>\n",
       "      <td>76889</td>\n",
       "    </tr>\n",
       "    <tr>\n",
       "      <th>1</th>\n",
       "      <td>2</td>\n",
       "      <td>45452</td>\n",
       "    </tr>\n",
       "    <tr>\n",
       "      <th>2</th>\n",
       "      <td>3</td>\n",
       "      <td>17090</td>\n",
       "    </tr>\n",
       "    <tr>\n",
       "      <th>3</th>\n",
       "      <td>4</td>\n",
       "      <td>13618</td>\n",
       "    </tr>\n",
       "    <tr>\n",
       "      <th>4</th>\n",
       "      <td>5</td>\n",
       "      <td>7505</td>\n",
       "    </tr>\n",
       "    <tr>\n",
       "      <th>5</th>\n",
       "      <td>6</td>\n",
       "      <td>6577</td>\n",
       "    </tr>\n",
       "    <tr>\n",
       "      <th>6</th>\n",
       "      <td>7</td>\n",
       "      <td>4032</td>\n",
       "    </tr>\n",
       "    <tr>\n",
       "      <th>7</th>\n",
       "      <td>8</td>\n",
       "      <td>3582</td>\n",
       "    </tr>\n",
       "    <tr>\n",
       "      <th>8</th>\n",
       "      <td>9</td>\n",
       "      <td>2437</td>\n",
       "    </tr>\n",
       "    <tr>\n",
       "      <th>9</th>\n",
       "      <td>10</td>\n",
       "      <td>2127</td>\n",
       "    </tr>\n",
       "    <tr>\n",
       "      <th>10</th>\n",
       "      <td>11</td>\n",
       "      <td>1468</td>\n",
       "    </tr>\n",
       "    <tr>\n",
       "      <th>11</th>\n",
       "      <td>12</td>\n",
       "      <td>1354</td>\n",
       "    </tr>\n",
       "    <tr>\n",
       "      <th>12</th>\n",
       "      <td>13</td>\n",
       "      <td>946</td>\n",
       "    </tr>\n",
       "    <tr>\n",
       "      <th>13</th>\n",
       "      <td>14</td>\n",
       "      <td>837</td>\n",
       "    </tr>\n",
       "    <tr>\n",
       "      <th>14</th>\n",
       "      <td>15</td>\n",
       "      <td>663</td>\n",
       "    </tr>\n",
       "    <tr>\n",
       "      <th>15</th>\n",
       "      <td>16</td>\n",
       "      <td>595</td>\n",
       "    </tr>\n",
       "    <tr>\n",
       "      <th>16</th>\n",
       "      <td>17</td>\n",
       "      <td>465</td>\n",
       "    </tr>\n",
       "    <tr>\n",
       "      <th>17</th>\n",
       "      <td>18</td>\n",
       "      <td>399</td>\n",
       "    </tr>\n",
       "    <tr>\n",
       "      <th>18</th>\n",
       "      <td>19</td>\n",
       "      <td>331</td>\n",
       "    </tr>\n",
       "    <tr>\n",
       "      <th>19</th>\n",
       "      <td>20</td>\n",
       "      <td>265</td>\n",
       "    </tr>\n",
       "    <tr>\n",
       "      <th>20</th>\n",
       "      <td>21</td>\n",
       "      <td>194</td>\n",
       "    </tr>\n",
       "    <tr>\n",
       "      <th>21</th>\n",
       "      <td>22</td>\n",
       "      <td>182</td>\n",
       "    </tr>\n",
       "    <tr>\n",
       "      <th>22</th>\n",
       "      <td>23</td>\n",
       "      <td>139</td>\n",
       "    </tr>\n",
       "    <tr>\n",
       "      <th>23</th>\n",
       "      <td>24</td>\n",
       "      <td>110</td>\n",
       "    </tr>\n",
       "    <tr>\n",
       "      <th>24</th>\n",
       "      <td>25</td>\n",
       "      <td>108</td>\n",
       "    </tr>\n",
       "    <tr>\n",
       "      <th>25</th>\n",
       "      <td>26</td>\n",
       "      <td>86</td>\n",
       "    </tr>\n",
       "    <tr>\n",
       "      <th>26</th>\n",
       "      <td>27</td>\n",
       "      <td>73</td>\n",
       "    </tr>\n",
       "    <tr>\n",
       "      <th>27</th>\n",
       "      <td>28</td>\n",
       "      <td>51</td>\n",
       "    </tr>\n",
       "    <tr>\n",
       "      <th>28</th>\n",
       "      <td>29</td>\n",
       "      <td>49</td>\n",
       "    </tr>\n",
       "    <tr>\n",
       "      <th>29</th>\n",
       "      <td>30</td>\n",
       "      <td>42</td>\n",
       "    </tr>\n",
       "    <tr>\n",
       "      <th>30</th>\n",
       "      <td>31</td>\n",
       "      <td>34</td>\n",
       "    </tr>\n",
       "    <tr>\n",
       "      <th>31</th>\n",
       "      <td>32</td>\n",
       "      <td>25</td>\n",
       "    </tr>\n",
       "    <tr>\n",
       "      <th>32</th>\n",
       "      <td>33</td>\n",
       "      <td>30</td>\n",
       "    </tr>\n",
       "    <tr>\n",
       "      <th>33</th>\n",
       "      <td>34</td>\n",
       "      <td>19</td>\n",
       "    </tr>\n",
       "    <tr>\n",
       "      <th>34</th>\n",
       "      <td>35</td>\n",
       "      <td>15</td>\n",
       "    </tr>\n",
       "    <tr>\n",
       "      <th>35</th>\n",
       "      <td>36</td>\n",
       "      <td>16</td>\n",
       "    </tr>\n",
       "    <tr>\n",
       "      <th>36</th>\n",
       "      <td>37</td>\n",
       "      <td>14</td>\n",
       "    </tr>\n",
       "    <tr>\n",
       "      <th>37</th>\n",
       "      <td>38</td>\n",
       "      <td>9</td>\n",
       "    </tr>\n",
       "    <tr>\n",
       "      <th>38</th>\n",
       "      <td>39</td>\n",
       "      <td>11</td>\n",
       "    </tr>\n",
       "    <tr>\n",
       "      <th>39</th>\n",
       "      <td>40</td>\n",
       "      <td>8</td>\n",
       "    </tr>\n",
       "    <tr>\n",
       "      <th>40</th>\n",
       "      <td>41</td>\n",
       "      <td>7</td>\n",
       "    </tr>\n",
       "    <tr>\n",
       "      <th>41</th>\n",
       "      <td>42</td>\n",
       "      <td>3</td>\n",
       "    </tr>\n",
       "    <tr>\n",
       "      <th>42</th>\n",
       "      <td>43</td>\n",
       "      <td>3</td>\n",
       "    </tr>\n",
       "    <tr>\n",
       "      <th>43</th>\n",
       "      <td>44</td>\n",
       "      <td>5</td>\n",
       "    </tr>\n",
       "    <tr>\n",
       "      <th>44</th>\n",
       "      <td>45</td>\n",
       "      <td>2</td>\n",
       "    </tr>\n",
       "    <tr>\n",
       "      <th>45</th>\n",
       "      <td>46</td>\n",
       "      <td>3</td>\n",
       "    </tr>\n",
       "    <tr>\n",
       "      <th>46</th>\n",
       "      <td>48</td>\n",
       "      <td>2</td>\n",
       "    </tr>\n",
       "    <tr>\n",
       "      <th>47</th>\n",
       "      <td>49</td>\n",
       "      <td>2</td>\n",
       "    </tr>\n",
       "    <tr>\n",
       "      <th>48</th>\n",
       "      <td>51</td>\n",
       "      <td>1</td>\n",
       "    </tr>\n",
       "    <tr>\n",
       "      <th>49</th>\n",
       "      <td>53</td>\n",
       "      <td>1</td>\n",
       "    </tr>\n",
       "  </tbody>\n",
       "</table>\n",
       "</div>"
      ],
      "text/plain": [
       "    activity_count  COUNT\n",
       "0                1  76889\n",
       "1                2  45452\n",
       "2                3  17090\n",
       "3                4  13618\n",
       "4                5   7505\n",
       "5                6   6577\n",
       "6                7   4032\n",
       "7                8   3582\n",
       "8                9   2437\n",
       "9               10   2127\n",
       "10              11   1468\n",
       "11              12   1354\n",
       "12              13    946\n",
       "13              14    837\n",
       "14              15    663\n",
       "15              16    595\n",
       "16              17    465\n",
       "17              18    399\n",
       "18              19    331\n",
       "19              20    265\n",
       "20              21    194\n",
       "21              22    182\n",
       "22              23    139\n",
       "23              24    110\n",
       "24              25    108\n",
       "25              26     86\n",
       "26              27     73\n",
       "27              28     51\n",
       "28              29     49\n",
       "29              30     42\n",
       "30              31     34\n",
       "31              32     25\n",
       "32              33     30\n",
       "33              34     19\n",
       "34              35     15\n",
       "35              36     16\n",
       "36              37     14\n",
       "37              38      9\n",
       "38              39     11\n",
       "39              40      8\n",
       "40              41      7\n",
       "41              42      3\n",
       "42              43      3\n",
       "43              44      5\n",
       "44              45      2\n",
       "45              46      3\n",
       "46              48      2\n",
       "47              49      2\n",
       "48              51      1\n",
       "49              53      1"
      ]
     },
     "execution_count": 17,
     "metadata": {},
     "output_type": "execute_result"
    }
   ],
   "source": [
    "%%vertica\n",
    "\n",
    "SELECT\n",
    "    act.activity_count,\n",
    "    COUNT(DISTINCT act.user_id)\n",
    "FROM\n",
    "(\n",
    "    SELECT\n",
    "        act.user_id,\n",
    "        act.course_id,\n",
    "        count(*) as activity_count\n",
    "    FROM\n",
    "        production.f_user_activity as act\n",
    "    JOIN\n",
    "            most_recently_disengaged_user_course as rdu\n",
    "        ON rdu.user_id = act.user_id\n",
    "        AND rdu.course_id = act.course_id\n",
    "    WHERE\n",
    "            activity_type != 'ACTIVE'\n",
    "        AND DATEDIFF('day', date, '{end_date}') BETWEEN {less_recent_than} AND {more_recent_than}\n",
    "    GROUP BY 1, 2\n",
    ") act\n",
    "GROUP BY\n",
    "    1\n",
    "ORDER BY\n",
    "    1"
   ]
  },
  {
   "cell_type": "markdown",
   "metadata": {},
   "source": [
    "VTR for English self-paced courses that started within the last year\n",
    "---"
   ]
  },
  {
   "cell_type": "code",
   "execution_count": 18,
   "metadata": {},
   "outputs": [
    {
     "data": {
      "text/html": [
       "<div>\n",
       "<table border=\"1\" class=\"dataframe\">\n",
       "  <thead>\n",
       "    <tr style=\"text-align: right;\">\n",
       "      <th></th>\n",
       "      <th>?column?</th>\n",
       "    </tr>\n",
       "  </thead>\n",
       "  <tbody>\n",
       "    <tr>\n",
       "      <th>0</th>\n",
       "      <td>0.019722636313664237</td>\n",
       "    </tr>\n",
       "  </tbody>\n",
       "</table>\n",
       "</div>"
      ],
      "text/plain": [
       "               ?column?\n",
       "0  0.019722636313664237"
      ]
     },
     "execution_count": 18,
     "metadata": {},
     "output_type": "execute_result"
    }
   ],
   "source": [
    "%%vertica\n",
    "\n",
    "SELECT\n",
    "    SUM(sum_verifications) / SUM(sum_enrolls_vtr)\n",
    "FROM\n",
    "    business_intelligence.course_stats_summary as stats\n",
    "JOIN\n",
    "        production.d_course as crs\n",
    "    ON stats.course_id = crs.course_id\n",
    "WHERE\n",
    "        (crs.content_language is NULL OR crs.content_language = 'en-us')\n",
    "    AND crs.pacing_type = 'self_paced'\n",
    "    AND crs.start_time >= '2016-06-01'"
   ]
  },
  {
   "cell_type": "markdown",
   "metadata": {},
   "source": [
    "Count of unique recently disengaged users that have > 50% grade\n",
    "---"
   ]
  },
  {
   "cell_type": "code",
   "execution_count": 19,
   "metadata": {},
   "outputs": [
    {
     "data": {
      "text/html": [
       "<div>\n",
       "<table border=\"1\" class=\"dataframe\">\n",
       "  <thead>\n",
       "    <tr style=\"text-align: right;\">\n",
       "      <th></th>\n",
       "      <th>?column?</th>\n",
       "      <th>COUNT</th>\n",
       "    </tr>\n",
       "  </thead>\n",
       "  <tbody>\n",
       "    <tr>\n",
       "      <th>0</th>\n",
       "      <td>True</td>\n",
       "      <td>13620</td>\n",
       "    </tr>\n",
       "    <tr>\n",
       "      <th>1</th>\n",
       "      <td>False</td>\n",
       "      <td>128221</td>\n",
       "    </tr>\n",
       "  </tbody>\n",
       "</table>\n",
       "</div>"
      ],
      "text/plain": [
       "  ?column?   COUNT\n",
       "0     True   13620\n",
       "1    False  128221"
      ]
     },
     "execution_count": 19,
     "metadata": {},
     "output_type": "execute_result"
    }
   ],
   "source": [
    "%%vertica\n",
    "\n",
    "SELECT\n",
    "    (grd.percent_grade > 0.5),\n",
    "    COUNT(DISTINCT rdu.user_id)\n",
    "FROM\n",
    "    most_recently_disengaged_user_course as rdu\n",
    "JOIN\n",
    "(\n",
    "    SELECT\n",
    "        course_id,\n",
    "        user_id,\n",
    "        MAX(percent_grade) as percent_grade\n",
    "    FROM\n",
    "        business_intelligence.grade_user_time\n",
    "    GROUP BY\n",
    "        1, 2\n",
    ") as grd\n",
    "    ON rdu.course_id = grd.course_id\n",
    "   AND rdu.user_id = grd.user_id\n",
    "GROUP BY\n",
    "    1\n",
    "ORDER BY\n",
    "    1 DESC\n"
   ]
  },
  {
   "cell_type": "markdown",
   "metadata": {},
   "source": [
    "Count of recently disengaged users by country\n",
    "---"
   ]
  },
  {
   "cell_type": "code",
   "execution_count": 20,
   "metadata": {},
   "outputs": [
    {
     "data": {
      "text/html": [
       "<div>\n",
       "<table border=\"1\" class=\"dataframe\">\n",
       "  <thead>\n",
       "    <tr style=\"text-align: right;\">\n",
       "      <th></th>\n",
       "      <th>user_last_location_country_code</th>\n",
       "      <th>COUNT</th>\n",
       "    </tr>\n",
       "  </thead>\n",
       "  <tbody>\n",
       "    <tr>\n",
       "      <th>0</th>\n",
       "      <td>US</td>\n",
       "      <td>46802</td>\n",
       "    </tr>\n",
       "    <tr>\n",
       "      <th>1</th>\n",
       "      <td>IN</td>\n",
       "      <td>21160</td>\n",
       "    </tr>\n",
       "    <tr>\n",
       "      <th>2</th>\n",
       "      <td>UNKNOWN</td>\n",
       "      <td>9507</td>\n",
       "    </tr>\n",
       "    <tr>\n",
       "      <th>3</th>\n",
       "      <td>CA</td>\n",
       "      <td>8930</td>\n",
       "    </tr>\n",
       "    <tr>\n",
       "      <th>4</th>\n",
       "      <td>GB</td>\n",
       "      <td>6768</td>\n",
       "    </tr>\n",
       "    <tr>\n",
       "      <th>5</th>\n",
       "      <td>BR</td>\n",
       "      <td>5095</td>\n",
       "    </tr>\n",
       "    <tr>\n",
       "      <th>6</th>\n",
       "      <td>AU</td>\n",
       "      <td>4211</td>\n",
       "    </tr>\n",
       "    <tr>\n",
       "      <th>7</th>\n",
       "      <td>MX</td>\n",
       "      <td>4027</td>\n",
       "    </tr>\n",
       "    <tr>\n",
       "      <th>8</th>\n",
       "      <td>DE</td>\n",
       "      <td>3947</td>\n",
       "    </tr>\n",
       "    <tr>\n",
       "      <th>9</th>\n",
       "      <td>ES</td>\n",
       "      <td>3094</td>\n",
       "    </tr>\n",
       "    <tr>\n",
       "      <th>10</th>\n",
       "      <td>NL</td>\n",
       "      <td>2989</td>\n",
       "    </tr>\n",
       "    <tr>\n",
       "      <th>11</th>\n",
       "      <td>FR</td>\n",
       "      <td>2479</td>\n",
       "    </tr>\n",
       "    <tr>\n",
       "      <th>12</th>\n",
       "      <td>CN</td>\n",
       "      <td>2415</td>\n",
       "    </tr>\n",
       "    <tr>\n",
       "      <th>13</th>\n",
       "      <td>ID</td>\n",
       "      <td>2341</td>\n",
       "    </tr>\n",
       "    <tr>\n",
       "      <th>14</th>\n",
       "      <td>CO</td>\n",
       "      <td>2276</td>\n",
       "    </tr>\n",
       "    <tr>\n",
       "      <th>15</th>\n",
       "      <td>JP</td>\n",
       "      <td>2192</td>\n",
       "    </tr>\n",
       "    <tr>\n",
       "      <th>16</th>\n",
       "      <td>PK</td>\n",
       "      <td>2171</td>\n",
       "    </tr>\n",
       "    <tr>\n",
       "      <th>17</th>\n",
       "      <td>NG</td>\n",
       "      <td>2063</td>\n",
       "    </tr>\n",
       "    <tr>\n",
       "      <th>18</th>\n",
       "      <td>TR</td>\n",
       "      <td>1809</td>\n",
       "    </tr>\n",
       "    <tr>\n",
       "      <th>19</th>\n",
       "      <td>RU</td>\n",
       "      <td>1765</td>\n",
       "    </tr>\n",
       "    <tr>\n",
       "      <th>20</th>\n",
       "      <td>IT</td>\n",
       "      <td>1743</td>\n",
       "    </tr>\n",
       "    <tr>\n",
       "      <th>21</th>\n",
       "      <td>VN</td>\n",
       "      <td>1737</td>\n",
       "    </tr>\n",
       "    <tr>\n",
       "      <th>22</th>\n",
       "      <td>EG</td>\n",
       "      <td>1706</td>\n",
       "    </tr>\n",
       "    <tr>\n",
       "      <th>23</th>\n",
       "      <td>PL</td>\n",
       "      <td>1650</td>\n",
       "    </tr>\n",
       "    <tr>\n",
       "      <th>24</th>\n",
       "      <td>SG</td>\n",
       "      <td>1596</td>\n",
       "    </tr>\n",
       "    <tr>\n",
       "      <th>25</th>\n",
       "      <td>ZA</td>\n",
       "      <td>1491</td>\n",
       "    </tr>\n",
       "    <tr>\n",
       "      <th>26</th>\n",
       "      <td>PH</td>\n",
       "      <td>1372</td>\n",
       "    </tr>\n",
       "    <tr>\n",
       "      <th>27</th>\n",
       "      <td>PE</td>\n",
       "      <td>1340</td>\n",
       "    </tr>\n",
       "    <tr>\n",
       "      <th>28</th>\n",
       "      <td>RO</td>\n",
       "      <td>1336</td>\n",
       "    </tr>\n",
       "    <tr>\n",
       "      <th>29</th>\n",
       "      <td>TH</td>\n",
       "      <td>1286</td>\n",
       "    </tr>\n",
       "    <tr>\n",
       "      <th>...</th>\n",
       "      <td>...</td>\n",
       "      <td>...</td>\n",
       "    </tr>\n",
       "    <tr>\n",
       "      <th>190</th>\n",
       "      <td>TC</td>\n",
       "      <td>5</td>\n",
       "    </tr>\n",
       "    <tr>\n",
       "      <th>191</th>\n",
       "      <td>MC</td>\n",
       "      <td>4</td>\n",
       "    </tr>\n",
       "    <tr>\n",
       "      <th>192</th>\n",
       "      <td>TL</td>\n",
       "      <td>4</td>\n",
       "    </tr>\n",
       "    <tr>\n",
       "      <th>193</th>\n",
       "      <td>AD</td>\n",
       "      <td>4</td>\n",
       "    </tr>\n",
       "    <tr>\n",
       "      <th>194</th>\n",
       "      <td>GF</td>\n",
       "      <td>4</td>\n",
       "    </tr>\n",
       "    <tr>\n",
       "      <th>195</th>\n",
       "      <td>GQ</td>\n",
       "      <td>3</td>\n",
       "    </tr>\n",
       "    <tr>\n",
       "      <th>196</th>\n",
       "      <td>GG</td>\n",
       "      <td>3</td>\n",
       "    </tr>\n",
       "    <tr>\n",
       "      <th>197</th>\n",
       "      <td>AX</td>\n",
       "      <td>3</td>\n",
       "    </tr>\n",
       "    <tr>\n",
       "      <th>198</th>\n",
       "      <td>CV</td>\n",
       "      <td>3</td>\n",
       "    </tr>\n",
       "    <tr>\n",
       "      <th>199</th>\n",
       "      <td>KM</td>\n",
       "      <td>3</td>\n",
       "    </tr>\n",
       "    <tr>\n",
       "      <th>200</th>\n",
       "      <td>DJ</td>\n",
       "      <td>2</td>\n",
       "    </tr>\n",
       "    <tr>\n",
       "      <th>201</th>\n",
       "      <td>WS</td>\n",
       "      <td>2</td>\n",
       "    </tr>\n",
       "    <tr>\n",
       "      <th>202</th>\n",
       "      <td>AI</td>\n",
       "      <td>2</td>\n",
       "    </tr>\n",
       "    <tr>\n",
       "      <th>203</th>\n",
       "      <td>LI</td>\n",
       "      <td>2</td>\n",
       "    </tr>\n",
       "    <tr>\n",
       "      <th>204</th>\n",
       "      <td>ER</td>\n",
       "      <td>2</td>\n",
       "    </tr>\n",
       "    <tr>\n",
       "      <th>205</th>\n",
       "      <td>FX</td>\n",
       "      <td>2</td>\n",
       "    </tr>\n",
       "    <tr>\n",
       "      <th>206</th>\n",
       "      <td>CF</td>\n",
       "      <td>2</td>\n",
       "    </tr>\n",
       "    <tr>\n",
       "      <th>207</th>\n",
       "      <td>VG</td>\n",
       "      <td>2</td>\n",
       "    </tr>\n",
       "    <tr>\n",
       "      <th>208</th>\n",
       "      <td>VI</td>\n",
       "      <td>2</td>\n",
       "    </tr>\n",
       "    <tr>\n",
       "      <th>209</th>\n",
       "      <td>PF</td>\n",
       "      <td>2</td>\n",
       "    </tr>\n",
       "    <tr>\n",
       "      <th>210</th>\n",
       "      <td>CK</td>\n",
       "      <td>1</td>\n",
       "    </tr>\n",
       "    <tr>\n",
       "      <th>211</th>\n",
       "      <td>SM</td>\n",
       "      <td>1</td>\n",
       "    </tr>\n",
       "    <tr>\n",
       "      <th>212</th>\n",
       "      <td>AQ</td>\n",
       "      <td>1</td>\n",
       "    </tr>\n",
       "    <tr>\n",
       "      <th>213</th>\n",
       "      <td>ST</td>\n",
       "      <td>1</td>\n",
       "    </tr>\n",
       "    <tr>\n",
       "      <th>214</th>\n",
       "      <td>FM</td>\n",
       "      <td>1</td>\n",
       "    </tr>\n",
       "    <tr>\n",
       "      <th>215</th>\n",
       "      <td>TM</td>\n",
       "      <td>1</td>\n",
       "    </tr>\n",
       "    <tr>\n",
       "      <th>216</th>\n",
       "      <td>TV</td>\n",
       "      <td>1</td>\n",
       "    </tr>\n",
       "    <tr>\n",
       "      <th>217</th>\n",
       "      <td>BQ</td>\n",
       "      <td>1</td>\n",
       "    </tr>\n",
       "    <tr>\n",
       "      <th>218</th>\n",
       "      <td>KP</td>\n",
       "      <td>1</td>\n",
       "    </tr>\n",
       "    <tr>\n",
       "      <th>219</th>\n",
       "      <td>MQ</td>\n",
       "      <td>1</td>\n",
       "    </tr>\n",
       "  </tbody>\n",
       "</table>\n",
       "<p>220 rows × 2 columns</p>\n",
       "</div>"
      ],
      "text/plain": [
       "    user_last_location_country_code  COUNT\n",
       "0                                US  46802\n",
       "1                                IN  21160\n",
       "2                           UNKNOWN   9507\n",
       "3                                CA   8930\n",
       "4                                GB   6768\n",
       "5                                BR   5095\n",
       "6                                AU   4211\n",
       "7                                MX   4027\n",
       "8                                DE   3947\n",
       "9                                ES   3094\n",
       "10                               NL   2989\n",
       "11                               FR   2479\n",
       "12                               CN   2415\n",
       "13                               ID   2341\n",
       "14                               CO   2276\n",
       "15                               JP   2192\n",
       "16                               PK   2171\n",
       "17                               NG   2063\n",
       "18                               TR   1809\n",
       "19                               RU   1765\n",
       "20                               IT   1743\n",
       "21                               VN   1737\n",
       "22                               EG   1706\n",
       "23                               PL   1650\n",
       "24                               SG   1596\n",
       "25                               ZA   1491\n",
       "26                               PH   1372\n",
       "27                               PE   1340\n",
       "28                               RO   1336\n",
       "29                               TH   1286\n",
       "..                              ...    ...\n",
       "190                              TC      5\n",
       "191                              MC      4\n",
       "192                              TL      4\n",
       "193                              AD      4\n",
       "194                              GF      4\n",
       "195                              GQ      3\n",
       "196                              GG      3\n",
       "197                              AX      3\n",
       "198                              CV      3\n",
       "199                              KM      3\n",
       "200                              DJ      2\n",
       "201                              WS      2\n",
       "202                              AI      2\n",
       "203                              LI      2\n",
       "204                              ER      2\n",
       "205                              FX      2\n",
       "206                              CF      2\n",
       "207                              VG      2\n",
       "208                              VI      2\n",
       "209                              PF      2\n",
       "210                              CK      1\n",
       "211                              SM      1\n",
       "212                              AQ      1\n",
       "213                              ST      1\n",
       "214                              FM      1\n",
       "215                              TM      1\n",
       "216                              TV      1\n",
       "217                              BQ      1\n",
       "218                              KP      1\n",
       "219                              MQ      1\n",
       "\n",
       "[220 rows x 2 columns]"
      ]
     },
     "execution_count": 20,
     "metadata": {},
     "output_type": "execute_result"
    }
   ],
   "source": [
    "%%vertica\n",
    "\n",
    "SELECT\n",
    "    usr.user_last_location_country_code,\n",
    "    COUNT(DISTINCT rdu.user_id)\n",
    "FROM\n",
    "    most_recently_disengaged_user_course as rdu\n",
    "JOIN\n",
    "        production.d_user as usr\n",
    "    ON rdu.user_id = usr.user_id\n",
    "GROUP BY\n",
    "    1\n",
    "ORDER BY\n",
    "    2 DESC"
   ]
  },
  {
   "cell_type": "markdown",
   "metadata": {},
   "source": [
    "Find \"recently disengaged\" users from last month\n",
    "---"
   ]
  },
  {
   "cell_type": "code",
   "execution_count": 21,
   "metadata": {
    "collapsed": true
   },
   "outputs": [],
   "source": [
    "import datetime\n",
    "\n",
    "retrospective_end_date = datetime.date(2017, 4, 30)"
   ]
  },
  {
   "cell_type": "code",
   "execution_count": 22,
   "metadata": {},
   "outputs": [
    {
     "data": {
      "text/html": [
       "<div>\n",
       "<table border=\"1\" class=\"dataframe\">\n",
       "  <thead>\n",
       "    <tr style=\"text-align: right;\">\n",
       "      <th></th>\n",
       "      <th>user_last_location_country_code</th>\n",
       "      <th>COUNT</th>\n",
       "    </tr>\n",
       "  </thead>\n",
       "  <tbody>\n",
       "  </tbody>\n",
       "</table>\n",
       "</div>"
      ],
      "text/plain": [
       "Empty DataFrame\n",
       "Columns: [user_last_location_country_code, COUNT]\n",
       "Index: []"
      ]
     },
     "execution_count": 22,
     "metadata": {},
     "output_type": "execute_result"
    }
   ],
   "source": [
    "%%vertica (end_date=retrospective_end_date)\n",
    "DROP TABLE IF EXISTS experiment_courses;\n",
    "\n",
    "CREATE TEMPORARY TABLE experiment_courses\n",
    "ON COMMIT PRESERVE ROWS\n",
    "AS SELECT\n",
    "    course_id,\n",
    "    course_start_date\n",
    "FROM\n",
    "    business_intelligence.course_master\n",
    "WHERE\n",
    "        (content_language is NULL OR content_language = 'en-us')\n",
    "    AND pacing_type = 'self_paced'\n",
    "    AND DATEDIFF('day', :end_date, course_verification_end_date) > 7\n",
    "    AND :end_date < course_end_date\n",
    "    AND DATEDIFF('day', course_start_date, :end_date) > 7"
   ]
  },
  {
   "cell_type": "code",
   "execution_count": 23,
   "metadata": {},
   "outputs": [
    {
     "data": {
      "text/html": [
       "<div>\n",
       "<table border=\"1\" class=\"dataframe\">\n",
       "  <thead>\n",
       "    <tr style=\"text-align: right;\">\n",
       "      <th></th>\n",
       "      <th>COUNT</th>\n",
       "    </tr>\n",
       "  </thead>\n",
       "  <tbody>\n",
       "    <tr>\n",
       "      <th>0</th>\n",
       "      <td>329</td>\n",
       "    </tr>\n",
       "  </tbody>\n",
       "</table>\n",
       "</div>"
      ],
      "text/plain": [
       "   COUNT\n",
       "0    329"
      ]
     },
     "execution_count": 23,
     "metadata": {},
     "output_type": "execute_result"
    }
   ],
   "source": [
    "%%vertica\n",
    "SELECT COUNT(*) FROM experiment_courses;"
   ]
  },
  {
   "cell_type": "code",
   "execution_count": 24,
   "metadata": {},
   "outputs": [
    {
     "data": {
      "text/html": [
       "<div>\n",
       "<table border=\"1\" class=\"dataframe\">\n",
       "  <thead>\n",
       "    <tr style=\"text-align: right;\">\n",
       "      <th></th>\n",
       "      <th>COUNT</th>\n",
       "    </tr>\n",
       "  </thead>\n",
       "  <tbody>\n",
       "  </tbody>\n",
       "</table>\n",
       "</div>"
      ],
      "text/plain": [
       "Empty DataFrame\n",
       "Columns: [COUNT]\n",
       "Index: []"
      ]
     },
     "execution_count": 24,
     "metadata": {},
     "output_type": "execute_result"
    }
   ],
   "source": [
    "%%vertica (end_date=retrospective_end_date, less_recent_than=less_recent_than, more_recent_than=more_recent_than)\n",
    "DROP TABLE IF EXISTS baseline_recently_disengaged_users;\n",
    "\n",
    "CREATE TEMPORARY TABLE baseline_recently_disengaged_users\n",
    "ON COMMIT PRESERVE ROWS\n",
    "AS {find_disengaged_users}"
   ]
  },
  {
   "cell_type": "code",
   "execution_count": 25,
   "metadata": {},
   "outputs": [
    {
     "data": {
      "text/html": [
       "<div>\n",
       "<table border=\"1\" class=\"dataframe\">\n",
       "  <thead>\n",
       "    <tr style=\"text-align: right;\">\n",
       "      <th></th>\n",
       "      <th>COUNT</th>\n",
       "    </tr>\n",
       "  </thead>\n",
       "  <tbody>\n",
       "  </tbody>\n",
       "</table>\n",
       "</div>"
      ],
      "text/plain": [
       "Empty DataFrame\n",
       "Columns: [COUNT]\n",
       "Index: []"
      ]
     },
     "execution_count": 25,
     "metadata": {},
     "output_type": "execute_result"
    }
   ],
   "source": [
    "%%vertica\n",
    "DROP TABLE IF EXISTS baseline_most_recently_disengaged_user_course;\n",
    "\n",
    "CREATE TEMPORARY TABLE baseline_most_recently_disengaged_user_course\n",
    "ON COMMIT PRESERVE ROWS\n",
    "AS {latest_disengaged_course} FROM baseline_recently_disengaged_users"
   ]
  },
  {
   "cell_type": "code",
   "execution_count": 26,
   "metadata": {},
   "outputs": [
    {
     "data": {
      "text/html": [
       "<div>\n",
       "<table border=\"1\" class=\"dataframe\">\n",
       "  <thead>\n",
       "    <tr style=\"text-align: right;\">\n",
       "      <th></th>\n",
       "      <th>COUNT</th>\n",
       "    </tr>\n",
       "  </thead>\n",
       "  <tbody>\n",
       "    <tr>\n",
       "      <th>0</th>\n",
       "      <td>168356</td>\n",
       "    </tr>\n",
       "  </tbody>\n",
       "</table>\n",
       "</div>"
      ],
      "text/plain": [
       "    COUNT\n",
       "0  168356"
      ]
     },
     "execution_count": 26,
     "metadata": {},
     "output_type": "execute_result"
    }
   ],
   "source": [
    "%%vertica\n",
    "\n",
    "SELECT COUNT(DISTINCT user_id)\n",
    "FROM\n",
    "    baseline_most_recently_disengaged_user_course"
   ]
  },
  {
   "cell_type": "markdown",
   "metadata": {},
   "source": [
    "Compute the return rate of recently disengaged users from last month\n",
    "---"
   ]
  },
  {
   "cell_type": "code",
   "execution_count": 27,
   "metadata": {
    "collapsed": true,
    "scrolled": false
   },
   "outputs": [],
   "source": [
    "%%vertica -> return_rates\n",
    "SELECT\n",
    "    returned_after,\n",
    "    COUNT(DISTINCT user_id)\n",
    "FROM\n",
    "(\n",
    "    SELECT\n",
    "        rdu.user_id,\n",
    "        DATEDIFF('day', '{retrospective_end_date}', MIN(act.date)) as returned_after\n",
    "    FROM\n",
    "        baseline_most_recently_disengaged_user_course as rdu\n",
    "    LEFT JOIN\n",
    "            production.f_user_activity as act\n",
    "         ON act.user_id = rdu.user_id\n",
    "        AND act.course_id = rdu.course_id\n",
    "        AND act.date >= '{retrospective_end_date}'\n",
    "        AND act.activity_type != 'ACTIVE'\n",
    "    GROUP BY\n",
    "        1\n",
    ") as return\n",
    "GROUP BY\n",
    "    1\n",
    "ORDER BY 1"
   ]
  },
  {
   "cell_type": "code",
   "execution_count": 28,
   "metadata": {},
   "outputs": [
    {
     "data": {
      "text/html": [
       "<script>requirejs.config({paths: { 'plotly': ['https://cdn.plot.ly/plotly-latest.min']},});if(!window.Plotly) {{require(['plotly'],function(plotly) {window.Plotly=plotly;});}}</script>"
      ],
      "text/vnd.plotly.v1+html": [
       "<script>requirejs.config({paths: { 'plotly': ['https://cdn.plot.ly/plotly-latest.min']},});if(!window.Plotly) {{require(['plotly'],function(plotly) {window.Plotly=plotly;});}}</script>"
      ]
     },
     "metadata": {},
     "output_type": "display_data"
    }
   ],
   "source": [
    "from plotly.offline import download_plotlyjs, init_notebook_mode, plot, iplot\n",
    "import pandas as pd\n",
    "import numpy as np\n",
    "init_notebook_mode(connected=True)"
   ]
  },
  {
   "cell_type": "code",
   "execution_count": 29,
   "metadata": {
    "collapsed": true
   },
   "outputs": [],
   "source": [
    "total_users = return_rates['COUNT'].sum()"
   ]
  },
  {
   "cell_type": "code",
   "execution_count": 30,
   "metadata": {
    "scrolled": false
   },
   "outputs": [
    {
     "data": {
      "application/vnd.plotly.v1+json": {
       "data": [
        {
         "x": [
          0,
          1,
          2,
          3,
          4,
          5,
          6,
          7,
          8,
          9,
          10,
          11,
          12,
          13,
          14,
          15,
          16,
          17,
          18,
          19,
          20,
          21,
          22,
          23,
          24,
          25,
          26,
          27,
          28,
          29,
          30,
          31,
          32,
          33,
          34,
          35
         ],
         "y": [
          0.005345814820974602,
          1.1600418161514885,
          2.2945425170472094,
          3.274014588134667,
          4.031932333863955,
          4.636603388058638,
          5.162275178787807,
          5.64755636864739,
          6.259949155361258,
          6.878875715745207,
          7.352277317113735,
          7.763905058328779,
          8.131578322126922,
          8.446981396564423,
          8.743377129416237,
          9.079569483713085,
          9.466844068521468,
          9.792344793176365,
          10.082206752358099,
          10.339993822613984,
          10.547292641782889,
          10.752215543253582,
          10.98208558055549,
          11.237496733113165,
          11.46439687329231,
          11.65387630972463,
          11.863551046591745,
          12.017985696975456,
          12.18845779182209,
          12.383283043075387,
          12.587017985696974,
          12.787783031195799,
          12.946969516975932,
          13.10971987930338,
          13.223763928817506,
          13.362755114162844
         ]
        }
       ],
       "layout": {}
      },
      "text/html": [
       "<div id=\"8cfc940f-c28a-486a-862a-78537d6f8f73\" style=\"height: 525px; width: 100%;\" class=\"plotly-graph-div\"></div><script type=\"text/javascript\">require([\"plotly\"], function(Plotly) { window.PLOTLYENV=window.PLOTLYENV || {};window.PLOTLYENV.BASE_URL=\"https://plot.ly\";Plotly.newPlot(\"8cfc940f-c28a-486a-862a-78537d6f8f73\", [{\"y\": [0.005345814820974602, 1.1600418161514885, 2.2945425170472094, 3.274014588134667, 4.031932333863955, 4.636603388058638, 5.162275178787807, 5.64755636864739, 6.259949155361258, 6.878875715745207, 7.352277317113735, 7.763905058328779, 8.131578322126922, 8.446981396564423, 8.743377129416237, 9.079569483713085, 9.466844068521468, 9.792344793176365, 10.082206752358099, 10.339993822613984, 10.547292641782889, 10.752215543253582, 10.98208558055549, 11.237496733113165, 11.46439687329231, 11.65387630972463, 11.863551046591745, 12.017985696975456, 12.18845779182209, 12.383283043075387, 12.587017985696974, 12.787783031195799, 12.946969516975932, 13.10971987930338, 13.223763928817506, 13.362755114162844], \"x\": [0.0, 1.0, 2.0, 3.0, 4.0, 5.0, 6.0, 7.0, 8.0, 9.0, 10.0, 11.0, 12.0, 13.0, 14.0, 15.0, 16.0, 17.0, 18.0, 19.0, 20.0, 21.0, 22.0, 23.0, 24.0, 25.0, 26.0, 27.0, 28.0, 29.0, 30.0, 31.0, 32.0, 33.0, 34.0, 35.0]}], {}, {\"showLink\": true, \"linkText\": \"Export to plot.ly\"})});</script>"
      ],
      "text/vnd.plotly.v1+html": [
       "<div id=\"8cfc940f-c28a-486a-862a-78537d6f8f73\" style=\"height: 525px; width: 100%;\" class=\"plotly-graph-div\"></div><script type=\"text/javascript\">require([\"plotly\"], function(Plotly) { window.PLOTLYENV=window.PLOTLYENV || {};window.PLOTLYENV.BASE_URL=\"https://plot.ly\";Plotly.newPlot(\"8cfc940f-c28a-486a-862a-78537d6f8f73\", [{\"y\": [0.005345814820974602, 1.1600418161514885, 2.2945425170472094, 3.274014588134667, 4.031932333863955, 4.636603388058638, 5.162275178787807, 5.64755636864739, 6.259949155361258, 6.878875715745207, 7.352277317113735, 7.763905058328779, 8.131578322126922, 8.446981396564423, 8.743377129416237, 9.079569483713085, 9.466844068521468, 9.792344793176365, 10.082206752358099, 10.339993822613984, 10.547292641782889, 10.752215543253582, 10.98208558055549, 11.237496733113165, 11.46439687329231, 11.65387630972463, 11.863551046591745, 12.017985696975456, 12.18845779182209, 12.383283043075387, 12.587017985696974, 12.787783031195799, 12.946969516975932, 13.10971987930338, 13.223763928817506, 13.362755114162844], \"x\": [0.0, 1.0, 2.0, 3.0, 4.0, 5.0, 6.0, 7.0, 8.0, 9.0, 10.0, 11.0, 12.0, 13.0, 14.0, 15.0, 16.0, 17.0, 18.0, 19.0, 20.0, 21.0, 22.0, 23.0, 24.0, 25.0, 26.0, 27.0, 28.0, 29.0, 30.0, 31.0, 32.0, 33.0, 34.0, 35.0]}], {}, {\"showLink\": true, \"linkText\": \"Export to plot.ly\"})});</script>"
      ]
     },
     "metadata": {},
     "output_type": "display_data"
    }
   ],
   "source": [
    "iplot([{\n",
    "    \"x\": return_rates['returned_after'][1:],\n",
    "    \"y\": return_rates['COUNT'][1:].cumsum()/total_users*100\n",
    "}])"
   ]
  },
  {
   "cell_type": "markdown",
   "metadata": {},
   "source": [
    "Compute the bookings rate of recently disengaged users from last month\n",
    "---"
   ]
  },
  {
   "cell_type": "code",
   "execution_count": 31,
   "metadata": {
    "collapsed": true
   },
   "outputs": [],
   "source": [
    "%%vertica -> verify_rates\n",
    "SELECT\n",
    "    verified_after,\n",
    "    COUNT(DISTINCT user_id)\n",
    "FROM\n",
    "(\n",
    "    SELECT\n",
    "        rdu.user_id,\n",
    "        DATEDIFF('day', '{retrospective_end_date}', MIN(crs.first_verified_enrollment_time)) as verified_after\n",
    "    FROM\n",
    "        baseline_most_recently_disengaged_user_course as rdu\n",
    "    LEFT JOIN\n",
    "            production.d_user_course as crs\n",
    "        ON rdu.user_id = crs.user_id\n",
    "        AND rdu.course_id = crs.course_id\n",
    "    GROUP BY\n",
    "        1\n",
    ") as return\n",
    "GROUP BY\n",
    "    1\n",
    "ORDER BY 1"
   ]
  },
  {
   "cell_type": "code",
   "execution_count": 32,
   "metadata": {
    "scrolled": false
   },
   "outputs": [
    {
     "data": {
      "text/html": [
       "<div>\n",
       "<table border=\"1\" class=\"dataframe\">\n",
       "  <thead>\n",
       "    <tr style=\"text-align: right;\">\n",
       "      <th></th>\n",
       "      <th>verified_after</th>\n",
       "      <th>COUNT</th>\n",
       "    </tr>\n",
       "  </thead>\n",
       "  <tbody>\n",
       "    <tr>\n",
       "      <th>0</th>\n",
       "      <td>NaN</td>\n",
       "      <td>167693</td>\n",
       "    </tr>\n",
       "    <tr>\n",
       "      <th>1</th>\n",
       "      <td>0.0</td>\n",
       "      <td>3</td>\n",
       "    </tr>\n",
       "    <tr>\n",
       "      <th>2</th>\n",
       "      <td>1.0</td>\n",
       "      <td>25</td>\n",
       "    </tr>\n",
       "    <tr>\n",
       "      <th>3</th>\n",
       "      <td>2.0</td>\n",
       "      <td>15</td>\n",
       "    </tr>\n",
       "    <tr>\n",
       "      <th>4</th>\n",
       "      <td>3.0</td>\n",
       "      <td>18</td>\n",
       "    </tr>\n",
       "    <tr>\n",
       "      <th>5</th>\n",
       "      <td>4.0</td>\n",
       "      <td>23</td>\n",
       "    </tr>\n",
       "    <tr>\n",
       "      <th>6</th>\n",
       "      <td>5.0</td>\n",
       "      <td>27</td>\n",
       "    </tr>\n",
       "    <tr>\n",
       "      <th>7</th>\n",
       "      <td>6.0</td>\n",
       "      <td>20</td>\n",
       "    </tr>\n",
       "    <tr>\n",
       "      <th>8</th>\n",
       "      <td>7.0</td>\n",
       "      <td>15</td>\n",
       "    </tr>\n",
       "    <tr>\n",
       "      <th>9</th>\n",
       "      <td>8.0</td>\n",
       "      <td>34</td>\n",
       "    </tr>\n",
       "    <tr>\n",
       "      <th>10</th>\n",
       "      <td>9.0</td>\n",
       "      <td>32</td>\n",
       "    </tr>\n",
       "    <tr>\n",
       "      <th>11</th>\n",
       "      <td>10.0</td>\n",
       "      <td>27</td>\n",
       "    </tr>\n",
       "    <tr>\n",
       "      <th>12</th>\n",
       "      <td>11.0</td>\n",
       "      <td>16</td>\n",
       "    </tr>\n",
       "    <tr>\n",
       "      <th>13</th>\n",
       "      <td>12.0</td>\n",
       "      <td>29</td>\n",
       "    </tr>\n",
       "    <tr>\n",
       "      <th>14</th>\n",
       "      <td>13.0</td>\n",
       "      <td>10</td>\n",
       "    </tr>\n",
       "    <tr>\n",
       "      <th>15</th>\n",
       "      <td>14.0</td>\n",
       "      <td>26</td>\n",
       "    </tr>\n",
       "    <tr>\n",
       "      <th>16</th>\n",
       "      <td>15.0</td>\n",
       "      <td>18</td>\n",
       "    </tr>\n",
       "    <tr>\n",
       "      <th>17</th>\n",
       "      <td>16.0</td>\n",
       "      <td>20</td>\n",
       "    </tr>\n",
       "    <tr>\n",
       "      <th>18</th>\n",
       "      <td>17.0</td>\n",
       "      <td>20</td>\n",
       "    </tr>\n",
       "    <tr>\n",
       "      <th>19</th>\n",
       "      <td>18.0</td>\n",
       "      <td>19</td>\n",
       "    </tr>\n",
       "    <tr>\n",
       "      <th>20</th>\n",
       "      <td>19.0</td>\n",
       "      <td>14</td>\n",
       "    </tr>\n",
       "    <tr>\n",
       "      <th>21</th>\n",
       "      <td>20.0</td>\n",
       "      <td>15</td>\n",
       "    </tr>\n",
       "    <tr>\n",
       "      <th>22</th>\n",
       "      <td>21.0</td>\n",
       "      <td>11</td>\n",
       "    </tr>\n",
       "    <tr>\n",
       "      <th>23</th>\n",
       "      <td>22.0</td>\n",
       "      <td>16</td>\n",
       "    </tr>\n",
       "    <tr>\n",
       "      <th>24</th>\n",
       "      <td>23.0</td>\n",
       "      <td>21</td>\n",
       "    </tr>\n",
       "    <tr>\n",
       "      <th>25</th>\n",
       "      <td>24.0</td>\n",
       "      <td>15</td>\n",
       "    </tr>\n",
       "    <tr>\n",
       "      <th>26</th>\n",
       "      <td>25.0</td>\n",
       "      <td>16</td>\n",
       "    </tr>\n",
       "    <tr>\n",
       "      <th>27</th>\n",
       "      <td>26.0</td>\n",
       "      <td>12</td>\n",
       "    </tr>\n",
       "    <tr>\n",
       "      <th>28</th>\n",
       "      <td>27.0</td>\n",
       "      <td>12</td>\n",
       "    </tr>\n",
       "    <tr>\n",
       "      <th>29</th>\n",
       "      <td>28.0</td>\n",
       "      <td>18</td>\n",
       "    </tr>\n",
       "    <tr>\n",
       "      <th>30</th>\n",
       "      <td>29.0</td>\n",
       "      <td>18</td>\n",
       "    </tr>\n",
       "    <tr>\n",
       "      <th>31</th>\n",
       "      <td>30.0</td>\n",
       "      <td>35</td>\n",
       "    </tr>\n",
       "    <tr>\n",
       "      <th>32</th>\n",
       "      <td>31.0</td>\n",
       "      <td>18</td>\n",
       "    </tr>\n",
       "    <tr>\n",
       "      <th>33</th>\n",
       "      <td>32.0</td>\n",
       "      <td>19</td>\n",
       "    </tr>\n",
       "    <tr>\n",
       "      <th>34</th>\n",
       "      <td>33.0</td>\n",
       "      <td>12</td>\n",
       "    </tr>\n",
       "    <tr>\n",
       "      <th>35</th>\n",
       "      <td>34.0</td>\n",
       "      <td>14</td>\n",
       "    </tr>\n",
       "  </tbody>\n",
       "</table>\n",
       "</div>"
      ],
      "text/plain": [
       "    verified_after   COUNT\n",
       "0              NaN  167693\n",
       "1              0.0       3\n",
       "2              1.0      25\n",
       "3              2.0      15\n",
       "4              3.0      18\n",
       "5              4.0      23\n",
       "6              5.0      27\n",
       "7              6.0      20\n",
       "8              7.0      15\n",
       "9              8.0      34\n",
       "10             9.0      32\n",
       "11            10.0      27\n",
       "12            11.0      16\n",
       "13            12.0      29\n",
       "14            13.0      10\n",
       "15            14.0      26\n",
       "16            15.0      18\n",
       "17            16.0      20\n",
       "18            17.0      20\n",
       "19            18.0      19\n",
       "20            19.0      14\n",
       "21            20.0      15\n",
       "22            21.0      11\n",
       "23            22.0      16\n",
       "24            23.0      21\n",
       "25            24.0      15\n",
       "26            25.0      16\n",
       "27            26.0      12\n",
       "28            27.0      12\n",
       "29            28.0      18\n",
       "30            29.0      18\n",
       "31            30.0      35\n",
       "32            31.0      18\n",
       "33            32.0      19\n",
       "34            33.0      12\n",
       "35            34.0      14"
      ]
     },
     "execution_count": 32,
     "metadata": {},
     "output_type": "execute_result"
    }
   ],
   "source": [
    "verify_rates"
   ]
  },
  {
   "cell_type": "code",
   "execution_count": 33,
   "metadata": {
    "collapsed": true
   },
   "outputs": [],
   "source": [
    "total_unverified_users = verify_rates['COUNT'].sum()"
   ]
  },
  {
   "cell_type": "code",
   "execution_count": 34,
   "metadata": {},
   "outputs": [
    {
     "data": {
      "application/vnd.plotly.v1+json": {
       "data": [
        {
         "x": [
          0,
          1,
          2,
          3,
          4,
          5,
          6,
          7,
          8,
          9,
          10,
          11,
          12,
          13,
          14,
          15,
          16,
          17,
          18,
          19,
          20,
          21,
          22,
          23,
          24,
          25,
          26,
          27,
          28,
          29,
          30,
          31,
          32,
          33,
          34
         ],
         "y": [
          0.0017819382736582003,
          0.01663142388747654,
          0.025541115255767542,
          0.03623274489771674,
          0.04989427166242961,
          0.06593171612535341,
          0.07781130461640809,
          0.0867209959846991,
          0.10691629641949203,
          0.1259236380051795,
          0.1419610824681033,
          0.15146475326094705,
          0.1686901565729763,
          0.17462995081850366,
          0.1900734158568747,
          0.2007650454988239,
          0.2126446339898786,
          0.2245242224809333,
          0.23580983154743518,
          0.24412554349117344,
          0.25303523485946444,
          0.25956900852954456,
          0.26907267932238826,
          0.28154624723799565,
          0.29045593860628666,
          0.2999596093991304,
          0.3070873624937632,
          0.314215115588396,
          0.3249067452303452,
          0.33559837487229444,
          0.35638765473164014,
          0.36707928437358933,
          0.3783648934400912,
          0.38549264653472404,
          0.3938083584784623
         ]
        }
       ],
       "layout": {}
      },
      "text/html": [
       "<div id=\"c2db9a48-adb2-4210-8e29-f38ddaf8cfca\" style=\"height: 525px; width: 100%;\" class=\"plotly-graph-div\"></div><script type=\"text/javascript\">require([\"plotly\"], function(Plotly) { window.PLOTLYENV=window.PLOTLYENV || {};window.PLOTLYENV.BASE_URL=\"https://plot.ly\";Plotly.newPlot(\"c2db9a48-adb2-4210-8e29-f38ddaf8cfca\", [{\"y\": [0.0017819382736582003, 0.01663142388747654, 0.025541115255767542, 0.03623274489771674, 0.04989427166242961, 0.06593171612535341, 0.07781130461640809, 0.0867209959846991, 0.10691629641949203, 0.1259236380051795, 0.1419610824681033, 0.15146475326094705, 0.1686901565729763, 0.17462995081850366, 0.1900734158568747, 0.2007650454988239, 0.2126446339898786, 0.2245242224809333, 0.23580983154743518, 0.24412554349117344, 0.25303523485946444, 0.25956900852954456, 0.26907267932238826, 0.28154624723799565, 0.29045593860628666, 0.2999596093991304, 0.3070873624937632, 0.314215115588396, 0.3249067452303452, 0.33559837487229444, 0.35638765473164014, 0.36707928437358933, 0.3783648934400912, 0.38549264653472404, 0.3938083584784623], \"x\": [0.0, 1.0, 2.0, 3.0, 4.0, 5.0, 6.0, 7.0, 8.0, 9.0, 10.0, 11.0, 12.0, 13.0, 14.0, 15.0, 16.0, 17.0, 18.0, 19.0, 20.0, 21.0, 22.0, 23.0, 24.0, 25.0, 26.0, 27.0, 28.0, 29.0, 30.0, 31.0, 32.0, 33.0, 34.0]}], {}, {\"showLink\": true, \"linkText\": \"Export to plot.ly\"})});</script>"
      ],
      "text/vnd.plotly.v1+html": [
       "<div id=\"c2db9a48-adb2-4210-8e29-f38ddaf8cfca\" style=\"height: 525px; width: 100%;\" class=\"plotly-graph-div\"></div><script type=\"text/javascript\">require([\"plotly\"], function(Plotly) { window.PLOTLYENV=window.PLOTLYENV || {};window.PLOTLYENV.BASE_URL=\"https://plot.ly\";Plotly.newPlot(\"c2db9a48-adb2-4210-8e29-f38ddaf8cfca\", [{\"y\": [0.0017819382736582003, 0.01663142388747654, 0.025541115255767542, 0.03623274489771674, 0.04989427166242961, 0.06593171612535341, 0.07781130461640809, 0.0867209959846991, 0.10691629641949203, 0.1259236380051795, 0.1419610824681033, 0.15146475326094705, 0.1686901565729763, 0.17462995081850366, 0.1900734158568747, 0.2007650454988239, 0.2126446339898786, 0.2245242224809333, 0.23580983154743518, 0.24412554349117344, 0.25303523485946444, 0.25956900852954456, 0.26907267932238826, 0.28154624723799565, 0.29045593860628666, 0.2999596093991304, 0.3070873624937632, 0.314215115588396, 0.3249067452303452, 0.33559837487229444, 0.35638765473164014, 0.36707928437358933, 0.3783648934400912, 0.38549264653472404, 0.3938083584784623], \"x\": [0.0, 1.0, 2.0, 3.0, 4.0, 5.0, 6.0, 7.0, 8.0, 9.0, 10.0, 11.0, 12.0, 13.0, 14.0, 15.0, 16.0, 17.0, 18.0, 19.0, 20.0, 21.0, 22.0, 23.0, 24.0, 25.0, 26.0, 27.0, 28.0, 29.0, 30.0, 31.0, 32.0, 33.0, 34.0]}], {}, {\"showLink\": true, \"linkText\": \"Export to plot.ly\"})});</script>"
      ]
     },
     "metadata": {},
     "output_type": "display_data"
    }
   ],
   "source": [
    "iplot([{\n",
    "    \"x\": verify_rates['verified_after'][1:],\n",
    "    \"y\": verify_rates['COUNT'][1:].cumsum()/total_unverified_users*100\n",
    "}])"
   ]
  },
  {
   "cell_type": "markdown",
   "metadata": {},
   "source": [
    "Effective VTR for disengaged users that return to the site\n",
    "---"
   ]
  },
  {
   "cell_type": "code",
   "execution_count": 35,
   "metadata": {},
   "outputs": [
    {
     "data": {
      "application/vnd.plotly.v1+json": {
       "data": [
        {
         "x": [
          0,
          1,
          2,
          3,
          4,
          5,
          6,
          7,
          8,
          9,
          10,
          11,
          12,
          13,
          14,
          15,
          16,
          17,
          18,
          19,
          20,
          21,
          22,
          23,
          24,
          25,
          26,
          27,
          28,
          29,
          30,
          31,
          32,
          33,
          34
         ],
         "y": [
          33.33333333333333,
          1.4336917562724014,
          1.1131245146259385,
          1.1066763425253991,
          1.2374779021803182,
          1.4219830899308223,
          1.5073064089287769,
          1.5355490113588557,
          1.7079419299743808,
          1.830584578188412,
          1.9308450476652126,
          1.9508836355290338,
          2.0745069393718043,
          2.067365164193798,
          2.1739130434782608,
          2.211173622922936,
          2.246204040657548,
          2.292854543248817,
          2.3388712147991044,
          2.360983455882353,
          2.3990538942388917,
          2.414097889735941,
          2.450105468116177,
          2.505417833923569,
          2.5335474845862906,
          2.5739041794087663,
          2.588494467531167,
          2.614540601986853,
          2.665692007797271,
          2.710092095165004,
          2.8313906847246475,
          2.870546704445167,
          2.922420516584851,
          2.9405101717185445,
          2.9780353052149304,
          null
         ]
        }
       ],
       "layout": {}
      },
      "text/html": [
       "<div id=\"d3bc32cc-188b-4de2-8023-75f78802a840\" style=\"height: 525px; width: 100%;\" class=\"plotly-graph-div\"></div><script type=\"text/javascript\">require([\"plotly\"], function(Plotly) { window.PLOTLYENV=window.PLOTLYENV || {};window.PLOTLYENV.BASE_URL=\"https://plot.ly\";Plotly.newPlot(\"d3bc32cc-188b-4de2-8023-75f78802a840\", [{\"y\": [33.33333333333333, 1.4336917562724014, 1.1131245146259385, 1.1066763425253991, 1.2374779021803182, 1.4219830899308223, 1.5073064089287769, 1.5355490113588557, 1.7079419299743808, 1.830584578188412, 1.9308450476652126, 1.9508836355290338, 2.0745069393718043, 2.067365164193798, 2.1739130434782608, 2.211173622922936, 2.246204040657548, 2.292854543248817, 2.3388712147991044, 2.360983455882353, 2.3990538942388917, 2.414097889735941, 2.450105468116177, 2.505417833923569, 2.5335474845862906, 2.5739041794087663, 2.588494467531167, 2.614540601986853, 2.665692007797271, 2.710092095165004, 2.8313906847246475, 2.870546704445167, 2.922420516584851, 2.9405101717185445, 2.9780353052149304, null], \"x\": [0.0, 1.0, 2.0, 3.0, 4.0, 5.0, 6.0, 7.0, 8.0, 9.0, 10.0, 11.0, 12.0, 13.0, 14.0, 15.0, 16.0, 17.0, 18.0, 19.0, 20.0, 21.0, 22.0, 23.0, 24.0, 25.0, 26.0, 27.0, 28.0, 29.0, 30.0, 31.0, 32.0, 33.0, 34.0]}], {}, {\"showLink\": true, \"linkText\": \"Export to plot.ly\"})});</script>"
      ],
      "text/vnd.plotly.v1+html": [
       "<div id=\"d3bc32cc-188b-4de2-8023-75f78802a840\" style=\"height: 525px; width: 100%;\" class=\"plotly-graph-div\"></div><script type=\"text/javascript\">require([\"plotly\"], function(Plotly) { window.PLOTLYENV=window.PLOTLYENV || {};window.PLOTLYENV.BASE_URL=\"https://plot.ly\";Plotly.newPlot(\"d3bc32cc-188b-4de2-8023-75f78802a840\", [{\"y\": [33.33333333333333, 1.4336917562724014, 1.1131245146259385, 1.1066763425253991, 1.2374779021803182, 1.4219830899308223, 1.5073064089287769, 1.5355490113588557, 1.7079419299743808, 1.830584578188412, 1.9308450476652126, 1.9508836355290338, 2.0745069393718043, 2.067365164193798, 2.1739130434782608, 2.211173622922936, 2.246204040657548, 2.292854543248817, 2.3388712147991044, 2.360983455882353, 2.3990538942388917, 2.414097889735941, 2.450105468116177, 2.505417833923569, 2.5335474845862906, 2.5739041794087663, 2.588494467531167, 2.614540601986853, 2.665692007797271, 2.710092095165004, 2.8313906847246475, 2.870546704445167, 2.922420516584851, 2.9405101717185445, 2.9780353052149304, null], \"x\": [0.0, 1.0, 2.0, 3.0, 4.0, 5.0, 6.0, 7.0, 8.0, 9.0, 10.0, 11.0, 12.0, 13.0, 14.0, 15.0, 16.0, 17.0, 18.0, 19.0, 20.0, 21.0, 22.0, 23.0, 24.0, 25.0, 26.0, 27.0, 28.0, 29.0, 30.0, 31.0, 32.0, 33.0, 34.0]}], {}, {\"showLink\": true, \"linkText\": \"Export to plot.ly\"})});</script>"
      ]
     },
     "metadata": {},
     "output_type": "display_data"
    }
   ],
   "source": [
    "iplot([{\n",
    "    \"x\": verify_rates['verified_after'][1:],\n",
    "    \"y\": verify_rates['COUNT'][1:].cumsum()/return_rates['COUNT'][1:].cumsum()*100\n",
    "}])"
   ]
  },
  {
   "cell_type": "markdown",
   "metadata": {
    "collapsed": true
   },
   "source": [
    "Measure Time-Since-Last-Engagement for recently-disengaged users\n",
    "---"
   ]
  },
  {
   "cell_type": "code",
   "execution_count": 36,
   "metadata": {
    "collapsed": true
   },
   "outputs": [],
   "source": [
    "%%vertica (end_date=retrospective_end_date) -> time_since_last_activity\n",
    "\n",
    "SELECT\n",
    "    DATEDIFF('day', last_activity_date, :end_date),\n",
    "    COUNT(*)\n",
    "FROM\n",
    "    baseline_most_recently_disengaged_user_course\n",
    "GROUP BY\n",
    "    1\n",
    "ORDER BY 1"
   ]
  },
  {
   "cell_type": "code",
   "execution_count": 37,
   "metadata": {},
   "outputs": [
    {
     "data": {
      "text/plain": [
       "0     7779\n",
       "1     7297\n",
       "2     9682\n",
       "3     9485\n",
       "4     9059\n",
       "5     8862\n",
       "6     7609\n",
       "7     5273\n",
       "8     4852\n",
       "9     5505\n",
       "10    6543\n",
       "11    7726\n",
       "12    7683\n",
       "13    6355\n",
       "14    5151\n",
       "15    4946\n",
       "16    6260\n",
       "17    7075\n",
       "18    7786\n",
       "19    7738\n",
       "20    6080\n",
       "21    4931\n",
       "22    4500\n",
       "23    4542\n",
       "24    5637\n",
       "Name: COUNT, dtype: int64"
      ]
     },
     "execution_count": 37,
     "metadata": {},
     "output_type": "execute_result"
    }
   ],
   "source": [
    "time_since_last_activity['COUNT']"
   ]
  },
  {
   "cell_type": "code",
   "execution_count": 42,
   "metadata": {},
   "outputs": [
    {
     "data": {
      "application/vnd.plotly.v1+json": {
       "data": [
        {
         "x": [
          "2017-04-23",
          "2017-04-22",
          "2017-04-21",
          "2017-04-20",
          "2017-04-19",
          "2017-04-18",
          "2017-04-17",
          "2017-04-16",
          "2017-04-15",
          "2017-04-14",
          "2017-04-13",
          "2017-04-12",
          "2017-04-11",
          "2017-04-10",
          "2017-04-09",
          "2017-04-08",
          "2017-04-07",
          "2017-04-06",
          "2017-04-05",
          "2017-04-04",
          "2017-04-03",
          "2017-04-02",
          "2017-04-01",
          "2017-03-31",
          "2017-03-30"
         ],
         "y": [
          7779,
          7297,
          9682,
          9485,
          9059,
          8862,
          7609,
          5273,
          4852,
          5505,
          6543,
          7726,
          7683,
          6355,
          5151,
          4946,
          6260,
          7075,
          7786,
          7738,
          6080,
          4931,
          4500,
          4542,
          5637
         ]
        }
       ],
       "layout": {}
      },
      "text/html": [
       "<div id=\"bd8f0a65-97b5-49c7-b18b-d947890c8ee6\" style=\"height: 525px; width: 100%;\" class=\"plotly-graph-div\"></div><script type=\"text/javascript\">require([\"plotly\"], function(Plotly) { window.PLOTLYENV=window.PLOTLYENV || {};window.PLOTLYENV.BASE_URL=\"https://plot.ly\";Plotly.newPlot(\"bd8f0a65-97b5-49c7-b18b-d947890c8ee6\", [{\"y\": [7779, 7297, 9682, 9485, 9059, 8862, 7609, 5273, 4852, 5505, 6543, 7726, 7683, 6355, 5151, 4946, 6260, 7075, 7786, 7738, 6080, 4931, 4500, 4542, 5637], \"x\": [\"2017-04-23\", \"2017-04-22\", \"2017-04-21\", \"2017-04-20\", \"2017-04-19\", \"2017-04-18\", \"2017-04-17\", \"2017-04-16\", \"2017-04-15\", \"2017-04-14\", \"2017-04-13\", \"2017-04-12\", \"2017-04-11\", \"2017-04-10\", \"2017-04-09\", \"2017-04-08\", \"2017-04-07\", \"2017-04-06\", \"2017-04-05\", \"2017-04-04\", \"2017-04-03\", \"2017-04-02\", \"2017-04-01\", \"2017-03-31\", \"2017-03-30\"]}], {}, {\"showLink\": true, \"linkText\": \"Export to plot.ly\"})});</script>"
      ],
      "text/vnd.plotly.v1+html": [
       "<div id=\"bd8f0a65-97b5-49c7-b18b-d947890c8ee6\" style=\"height: 525px; width: 100%;\" class=\"plotly-graph-div\"></div><script type=\"text/javascript\">require([\"plotly\"], function(Plotly) { window.PLOTLYENV=window.PLOTLYENV || {};window.PLOTLYENV.BASE_URL=\"https://plot.ly\";Plotly.newPlot(\"bd8f0a65-97b5-49c7-b18b-d947890c8ee6\", [{\"y\": [7779, 7297, 9682, 9485, 9059, 8862, 7609, 5273, 4852, 5505, 6543, 7726, 7683, 6355, 5151, 4946, 6260, 7075, 7786, 7738, 6080, 4931, 4500, 4542, 5637], \"x\": [\"2017-04-23\", \"2017-04-22\", \"2017-04-21\", \"2017-04-20\", \"2017-04-19\", \"2017-04-18\", \"2017-04-17\", \"2017-04-16\", \"2017-04-15\", \"2017-04-14\", \"2017-04-13\", \"2017-04-12\", \"2017-04-11\", \"2017-04-10\", \"2017-04-09\", \"2017-04-08\", \"2017-04-07\", \"2017-04-06\", \"2017-04-05\", \"2017-04-04\", \"2017-04-03\", \"2017-04-02\", \"2017-04-01\", \"2017-03-31\", \"2017-03-30\"]}], {}, {\"showLink\": true, \"linkText\": \"Export to plot.ly\"})});</script>"
      ]
     },
     "metadata": {},
     "output_type": "display_data"
    }
   ],
   "source": [
    "iplot([{\n",
    "    'x': [retrospective_end_date - datetime.timedelta(days=int(t)) for t in time_since_last_activity['datediff']],\n",
    "    'y': time_since_last_activity['COUNT'],\n",
    "}])"
   ]
  },
  {
   "cell_type": "code",
   "execution_count": null,
   "metadata": {
    "collapsed": true
   },
   "outputs": [],
   "source": []
  }
 ],
 "metadata": {
  "celltoolbar": "Raw Cell Format",
  "kernelspec": {
   "display_name": "Python 3",
   "language": "python",
   "name": "python3"
  },
  "language_info": {
   "codemirror_mode": {
    "name": "ipython",
    "version": 3
   },
   "file_extension": ".py",
   "mimetype": "text/x-python",
   "name": "python",
   "nbconvert_exporter": "python",
   "pygments_lexer": "ipython3",
   "version": "3.6.1"
  }
 },
 "nbformat": 4,
 "nbformat_minor": 2
}
