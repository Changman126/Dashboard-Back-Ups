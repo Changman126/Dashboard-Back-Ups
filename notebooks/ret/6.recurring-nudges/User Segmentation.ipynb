{
 "cells": [
  {
   "cell_type": "markdown",
   "metadata": {},
   "source": [
    "# Setup"
   ]
  },
  {
   "cell_type": "code",
   "execution_count": 1,
   "metadata": {
    "collapsed": true
   },
   "outputs": [],
   "source": [
    "%load_ext edx_jupyter"
   ]
  },
  {
   "cell_type": "code",
   "execution_count": 2,
   "metadata": {},
   "outputs": [
    {
     "data": {
      "text/html": [
       "<div>\n",
       "<style>\n",
       "    .dataframe thead tr:only-child th {\n",
       "        text-align: right;\n",
       "    }\n",
       "\n",
       "    .dataframe thead th {\n",
       "        text-align: left;\n",
       "    }\n",
       "\n",
       "    .dataframe tbody tr th {\n",
       "        vertical-align: top;\n",
       "    }\n",
       "</style>\n",
       "<table border=\"1\" class=\"dataframe\">\n",
       "  <thead>\n",
       "    <tr style=\"text-align: right;\">\n",
       "      <th></th>\n",
       "      <th>?column?</th>\n",
       "    </tr>\n",
       "  </thead>\n",
       "  <tbody>\n",
       "    <tr>\n",
       "      <th>0</th>\n",
       "      <td>Connected to Vertica!</td>\n",
       "    </tr>\n",
       "  </tbody>\n",
       "</table>\n",
       "</div>"
      ],
      "text/plain": [
       "                ?column?\n",
       "0  Connected to Vertica!"
      ]
     },
     "execution_count": 2,
     "metadata": {},
     "output_type": "execute_result"
    }
   ],
   "source": [
    "%%vertica\n",
    "SELECT 'Connected to Vertica!'"
   ]
  },
  {
   "cell_type": "code",
   "execution_count": 3,
   "metadata": {
    "collapsed": true
   },
   "outputs": [],
   "source": [
    "import datetime\n",
    "from dateutil.tz import tzutc"
   ]
  },
  {
   "cell_type": "markdown",
   "metadata": {},
   "source": [
    "# Configuration"
   ]
  },
  {
   "cell_type": "markdown",
   "metadata": {},
   "source": [
    "## Enrollment Date Config"
   ]
  },
  {
   "cell_type": "code",
   "execution_count": 4,
   "metadata": {},
   "outputs": [],
   "source": [
    "# enter enrollment start date\n",
    "enrollment_start = datetime.datetime(2017, 7, 4, 0, 0, tzinfo=tzutc())"
   ]
  },
  {
   "cell_type": "markdown",
   "metadata": {},
   "source": [
    "## Segmentation Config"
   ]
  },
  {
   "cell_type": "code",
   "execution_count": 5,
   "metadata": {
    "collapsed": true
   },
   "outputs": [],
   "source": [
    "# enter number of user segments (i.e., total number of treatment groups + 1 for the control group)\n",
    "num_user_segments = 2"
   ]
  },
  {
   "cell_type": "markdown",
   "metadata": {},
   "source": [
    "# Segmented Enrollments"
   ]
  },
  {
   "cell_type": "code",
   "execution_count": 6,
   "metadata": {},
   "outputs": [
    {
     "data": {
      "text/html": [
       "<div>\n",
       "<style>\n",
       "    .dataframe thead tr:only-child th {\n",
       "        text-align: right;\n",
       "    }\n",
       "\n",
       "    .dataframe thead th {\n",
       "        text-align: left;\n",
       "    }\n",
       "\n",
       "    .dataframe tbody tr th {\n",
       "        vertical-align: top;\n",
       "    }\n",
       "</style>\n",
       "<table border=\"1\" class=\"dataframe\">\n",
       "  <thead>\n",
       "    <tr style=\"text-align: right;\">\n",
       "      <th></th>\n",
       "      <th>?column?</th>\n",
       "    </tr>\n",
       "  </thead>\n",
       "  <tbody>\n",
       "  </tbody>\n",
       "</table>\n",
       "</div>"
      ],
      "text/plain": [
       "Empty DataFrame\n",
       "Columns: [?column?]\n",
       "Index: []"
      ]
     },
     "execution_count": 6,
     "metadata": {},
     "output_type": "execute_result"
    }
   ],
   "source": [
    "%%vertica\n",
    "SET TIME ZONE TO UTC"
   ]
  },
  {
   "cell_type": "code",
   "execution_count": 7,
   "metadata": {},
   "outputs": [
    {
     "data": {
      "text/html": [
       "<div>\n",
       "<style>\n",
       "    .dataframe thead tr:only-child th {\n",
       "        text-align: right;\n",
       "    }\n",
       "\n",
       "    .dataframe thead th {\n",
       "        text-align: left;\n",
       "    }\n",
       "\n",
       "    .dataframe tbody tr th {\n",
       "        vertical-align: top;\n",
       "    }\n",
       "</style>\n",
       "<table border=\"1\" class=\"dataframe\">\n",
       "  <thead>\n",
       "    <tr style=\"text-align: right;\">\n",
       "      <th></th>\n",
       "      <th>?column?</th>\n",
       "    </tr>\n",
       "  </thead>\n",
       "  <tbody>\n",
       "  </tbody>\n",
       "</table>\n",
       "</div>"
      ],
      "text/plain": [
       "Empty DataFrame\n",
       "Columns: [?column?]\n",
       "Index: []"
      ]
     },
     "execution_count": 7,
     "metadata": {},
     "output_type": "execute_result"
    }
   ],
   "source": [
    "%%vertica (enrollment_start=enrollment_start, num_user_segments=num_user_segments)\n",
    "\n",
    "--DROP TABLE IF EXISTS ret.exp6_enrollments;\n",
    "CREATE TABLE IF NOT EXISTS ret.exp6_enrollments\n",
    "(\n",
    "    segment_id INT,\n",
    "    user_id INT,\n",
    "    course_id CHARACTER VARYING,\n",
    "    first_enrollment_time TIMESTAMP,\n",
    "    content_availability TIMESTAMP\n",
    ");\n",
    "--GRANT ALL PRIVILEGES ON ret.exp6_enrollments TO rapid_experiments_team;"
   ]
  },
  {
   "cell_type": "code",
   "execution_count": 8,
   "metadata": {
    "scrolled": false
   },
   "outputs": [
    {
     "data": {
      "text/html": [
       "<div>\n",
       "<style>\n",
       "    .dataframe thead tr:only-child th {\n",
       "        text-align: right;\n",
       "    }\n",
       "\n",
       "    .dataframe thead th {\n",
       "        text-align: left;\n",
       "    }\n",
       "\n",
       "    .dataframe tbody tr th {\n",
       "        vertical-align: top;\n",
       "    }\n",
       "</style>\n",
       "<table border=\"1\" class=\"dataframe\">\n",
       "  <thead>\n",
       "    <tr style=\"text-align: right;\">\n",
       "      <th></th>\n",
       "      <th>OUTPUT</th>\n",
       "    </tr>\n",
       "  </thead>\n",
       "  <tbody>\n",
       "    <tr>\n",
       "      <th>0</th>\n",
       "      <td>69630</td>\n",
       "    </tr>\n",
       "  </tbody>\n",
       "</table>\n",
       "</div>"
      ],
      "text/plain": [
       "   OUTPUT\n",
       "0   69630"
      ]
     },
     "execution_count": 8,
     "metadata": {},
     "output_type": "execute_result"
    }
   ],
   "source": [
    "%%vertica (enrollment_start=enrollment_start, num_user_segments=num_user_segments)\n",
    "\n",
    "INSERT INTO ret.exp6_enrollments\n",
    "SELECT\n",
    "    ROW_NUMBER() OVER (PARTITION BY 1 ORDER BY first_enrollment_time) % :num_user_segments as segment_id,    \n",
    "    uc.user_id,\n",
    "    uc.course_id,\n",
    "    uc.first_enrollment_time,\n",
    "    uc.content_availability\n",
    "FROM\n",
    "(\n",
    "    SELECT\n",
    "        user_id,\n",
    "        course_id,\n",
    "        first_enrollment_time,\n",
    "        content_availability\n",
    "    FROM\n",
    "    (\n",
    "        SELECT\n",
    "            user_id,\n",
    "            uc.course_id,\n",
    "            first_enrollment_time,\n",
    "            GREATEST(c.course_start_date::TIMESTAMPTZ, uc.first_enrollment_time::TIMESTAMPTZ) AS content_availability,\n",
    "            ROW_NUMBER() over (PARTITION BY user_id ORDER BY first_enrollment_time DESC) AS row\n",
    "        FROM production.d_user_course uc\n",
    "        JOIN\n",
    "            business_intelligence.course_master c\n",
    "        ON uc.course_id = c.course_id\n",
    "        AND c.pacing_type = 'self_paced'\n",
    "        AND (c.content_language IS NULL OR c.content_language LIKE 'en%')\n",
    "        AND c.is_WL = 0\n",
    "        AND GREATEST(c.course_start_date::TIMESTAMPTZ, uc.first_enrollment_time::TIMESTAMPTZ) BETWEEN :enrollment_start AND NOW()\n",
    "    ) AS uc\n",
    "    WHERE row = 1\n",
    ") AS uc\n",
    "LEFT JOIN\n",
    "(\n",
    "    SELECT\n",
    "        user_id,\n",
    "        course_id\n",
    "    FROM ret.exp6_enrollments\n",
    ") AS already_inserted\n",
    "ON uc.user_id = already_inserted.user_id\n",
    "AND uc.course_id = already_inserted.course_id\n",
    "WHERE already_inserted.user_id IS NULL\n",
    "ORDER BY first_enrollment_time"
   ]
  },
  {
   "cell_type": "code",
   "execution_count": 9,
   "metadata": {
    "scrolled": false
   },
   "outputs": [
    {
     "data": {
      "text/html": [
       "<div>\n",
       "<style>\n",
       "    .dataframe thead tr:only-child th {\n",
       "        text-align: right;\n",
       "    }\n",
       "\n",
       "    .dataframe thead th {\n",
       "        text-align: left;\n",
       "    }\n",
       "\n",
       "    .dataframe tbody tr th {\n",
       "        vertical-align: top;\n",
       "    }\n",
       "</style>\n",
       "<table border=\"1\" class=\"dataframe\">\n",
       "  <thead>\n",
       "    <tr style=\"text-align: right;\">\n",
       "      <th></th>\n",
       "      <th>COUNT</th>\n",
       "      <th>COUNT</th>\n",
       "    </tr>\n",
       "  </thead>\n",
       "  <tbody>\n",
       "    <tr>\n",
       "      <th>0</th>\n",
       "      <td>69630</td>\n",
       "      <td>69630</td>\n",
       "    </tr>\n",
       "  </tbody>\n",
       "</table>\n",
       "</div>"
      ],
      "text/plain": [
       "   COUNT  COUNT\n",
       "0  69630  69630"
      ]
     },
     "execution_count": 9,
     "metadata": {},
     "output_type": "execute_result"
    }
   ],
   "source": [
    "%vertica select COUNT(*), COUNT(DISTINCT user_id) from ret.exp6_enrollments"
   ]
  },
  {
   "cell_type": "code",
   "execution_count": 10,
   "metadata": {},
   "outputs": [
    {
     "data": {
      "text/html": [
       "<div>\n",
       "<style>\n",
       "    .dataframe thead tr:only-child th {\n",
       "        text-align: right;\n",
       "    }\n",
       "\n",
       "    .dataframe thead th {\n",
       "        text-align: left;\n",
       "    }\n",
       "\n",
       "    .dataframe tbody tr th {\n",
       "        vertical-align: top;\n",
       "    }\n",
       "</style>\n",
       "<table border=\"1\" class=\"dataframe\">\n",
       "  <thead>\n",
       "    <tr style=\"text-align: right;\">\n",
       "      <th></th>\n",
       "      <th>COUNT</th>\n",
       "      <th>COUNT</th>\n",
       "    </tr>\n",
       "  </thead>\n",
       "  <tbody>\n",
       "  </tbody>\n",
       "</table>\n",
       "</div>"
      ],
      "text/plain": [
       "Empty DataFrame\n",
       "Columns: [COUNT, COUNT]\n",
       "Index: []"
      ]
     },
     "execution_count": 10,
     "metadata": {},
     "output_type": "execute_result"
    }
   ],
   "source": [
    "%vertica COMMIT"
   ]
  },
  {
   "cell_type": "code",
   "execution_count": 11,
   "metadata": {},
   "outputs": [
    {
     "data": {
      "text/html": [
       "<div>\n",
       "<style>\n",
       "    .dataframe thead tr:only-child th {\n",
       "        text-align: right;\n",
       "    }\n",
       "\n",
       "    .dataframe thead th {\n",
       "        text-align: left;\n",
       "    }\n",
       "\n",
       "    .dataframe tbody tr th {\n",
       "        vertical-align: top;\n",
       "    }\n",
       "</style>\n",
       "<table border=\"1\" class=\"dataframe\">\n",
       "  <thead>\n",
       "    <tr style=\"text-align: right;\">\n",
       "      <th></th>\n",
       "      <th>segment_id</th>\n",
       "      <th>user_id</th>\n",
       "      <th>course_id</th>\n",
       "      <th>first_enrollment_time</th>\n",
       "      <th>content_availability</th>\n",
       "    </tr>\n",
       "  </thead>\n",
       "  <tbody>\n",
       "    <tr>\n",
       "      <th>0</th>\n",
       "      <td>1</td>\n",
       "      <td>11255793</td>\n",
       "      <td>course-v1:PennX+ROBO3x+2T2017</td>\n",
       "      <td>2017-01-08 23:04:01.013817</td>\n",
       "      <td>2017-07-10</td>\n",
       "    </tr>\n",
       "    <tr>\n",
       "      <th>1</th>\n",
       "      <td>0</td>\n",
       "      <td>12755581</td>\n",
       "      <td>course-v1:UWashingtonX+CYB002x+1T2017</td>\n",
       "      <td>2017-01-17 21:56:05.309849</td>\n",
       "      <td>2017-07-10</td>\n",
       "    </tr>\n",
       "    <tr>\n",
       "      <th>2</th>\n",
       "      <td>1</td>\n",
       "      <td>4230805</td>\n",
       "      <td>course-v1:UWashingtonX+CYB002x+1T2017</td>\n",
       "      <td>2017-01-17 21:56:51.301240</td>\n",
       "      <td>2017-07-10</td>\n",
       "    </tr>\n",
       "    <tr>\n",
       "      <th>3</th>\n",
       "      <td>0</td>\n",
       "      <td>13196290</td>\n",
       "      <td>course-v1:UWashingtonX+CYB002x+1T2017</td>\n",
       "      <td>2017-01-25 00:38:49.017025</td>\n",
       "      <td>2017-07-10</td>\n",
       "    </tr>\n",
       "    <tr>\n",
       "      <th>4</th>\n",
       "      <td>1</td>\n",
       "      <td>2669637</td>\n",
       "      <td>course-v1:UWashingtonX+CYB002x+1T2017</td>\n",
       "      <td>2017-01-25 00:40:22.910184</td>\n",
       "      <td>2017-07-10</td>\n",
       "    </tr>\n",
       "    <tr>\n",
       "      <th>5</th>\n",
       "      <td>0</td>\n",
       "      <td>12696834</td>\n",
       "      <td>course-v1:UWashingtonX+CYB002x+1T2017</td>\n",
       "      <td>2017-01-25 00:41:43.269306</td>\n",
       "      <td>2017-07-10</td>\n",
       "    </tr>\n",
       "    <tr>\n",
       "      <th>6</th>\n",
       "      <td>1</td>\n",
       "      <td>977228</td>\n",
       "      <td>course-v1:UWashingtonX+CYB002x+1T2017</td>\n",
       "      <td>2017-01-25 00:43:41.084022</td>\n",
       "      <td>2017-07-10</td>\n",
       "    </tr>\n",
       "    <tr>\n",
       "      <th>7</th>\n",
       "      <td>0</td>\n",
       "      <td>12437350</td>\n",
       "      <td>course-v1:PennX+ROBO2x+2T2017</td>\n",
       "      <td>2017-02-14 13:26:15.752425</td>\n",
       "      <td>2017-07-10</td>\n",
       "    </tr>\n",
       "    <tr>\n",
       "      <th>8</th>\n",
       "      <td>1</td>\n",
       "      <td>3812979</td>\n",
       "      <td>course-v1:PennX+ROBO2x+2T2017</td>\n",
       "      <td>2017-02-27 22:41:36.452885</td>\n",
       "      <td>2017-07-10</td>\n",
       "    </tr>\n",
       "    <tr>\n",
       "      <th>9</th>\n",
       "      <td>0</td>\n",
       "      <td>61097</td>\n",
       "      <td>course-v1:PennX+ROBO3x+2T2017</td>\n",
       "      <td>2017-02-27 23:16:27.063188</td>\n",
       "      <td>2017-07-10</td>\n",
       "    </tr>\n",
       "  </tbody>\n",
       "</table>\n",
       "</div>"
      ],
      "text/plain": [
       "   segment_id   user_id                              course_id  \\\n",
       "0           1  11255793          course-v1:PennX+ROBO3x+2T2017   \n",
       "1           0  12755581  course-v1:UWashingtonX+CYB002x+1T2017   \n",
       "2           1   4230805  course-v1:UWashingtonX+CYB002x+1T2017   \n",
       "3           0  13196290  course-v1:UWashingtonX+CYB002x+1T2017   \n",
       "4           1   2669637  course-v1:UWashingtonX+CYB002x+1T2017   \n",
       "5           0  12696834  course-v1:UWashingtonX+CYB002x+1T2017   \n",
       "6           1    977228  course-v1:UWashingtonX+CYB002x+1T2017   \n",
       "7           0  12437350          course-v1:PennX+ROBO2x+2T2017   \n",
       "8           1   3812979          course-v1:PennX+ROBO2x+2T2017   \n",
       "9           0     61097          course-v1:PennX+ROBO3x+2T2017   \n",
       "\n",
       "       first_enrollment_time content_availability  \n",
       "0 2017-01-08 23:04:01.013817           2017-07-10  \n",
       "1 2017-01-17 21:56:05.309849           2017-07-10  \n",
       "2 2017-01-17 21:56:51.301240           2017-07-10  \n",
       "3 2017-01-25 00:38:49.017025           2017-07-10  \n",
       "4 2017-01-25 00:40:22.910184           2017-07-10  \n",
       "5 2017-01-25 00:41:43.269306           2017-07-10  \n",
       "6 2017-01-25 00:43:41.084022           2017-07-10  \n",
       "7 2017-02-14 13:26:15.752425           2017-07-10  \n",
       "8 2017-02-27 22:41:36.452885           2017-07-10  \n",
       "9 2017-02-27 23:16:27.063188           2017-07-10  "
      ]
     },
     "execution_count": 11,
     "metadata": {},
     "output_type": "execute_result"
    }
   ],
   "source": [
    "%vertica SELECT * FROM ret.exp6_enrollments LIMIT 10"
   ]
  },
  {
   "cell_type": "code",
   "execution_count": 12,
   "metadata": {},
   "outputs": [
    {
     "data": {
      "text/html": [
       "<div>\n",
       "<style>\n",
       "    .dataframe thead tr:only-child th {\n",
       "        text-align: right;\n",
       "    }\n",
       "\n",
       "    .dataframe thead th {\n",
       "        text-align: left;\n",
       "    }\n",
       "\n",
       "    .dataframe tbody tr th {\n",
       "        vertical-align: top;\n",
       "    }\n",
       "</style>\n",
       "<table border=\"1\" class=\"dataframe\">\n",
       "  <thead>\n",
       "    <tr style=\"text-align: right;\">\n",
       "      <th></th>\n",
       "      <th>segment_id</th>\n",
       "      <th>COUNT</th>\n",
       "    </tr>\n",
       "  </thead>\n",
       "  <tbody>\n",
       "    <tr>\n",
       "      <th>0</th>\n",
       "      <td>0</td>\n",
       "      <td>34815</td>\n",
       "    </tr>\n",
       "    <tr>\n",
       "      <th>1</th>\n",
       "      <td>1</td>\n",
       "      <td>34815</td>\n",
       "    </tr>\n",
       "  </tbody>\n",
       "</table>\n",
       "</div>"
      ],
      "text/plain": [
       "   segment_id  COUNT\n",
       "0           0  34815\n",
       "1           1  34815"
      ]
     },
     "execution_count": 12,
     "metadata": {},
     "output_type": "execute_result"
    }
   ],
   "source": [
    "%vertica SELECT segment_id, COUNT(*) FROM ret.exp6_enrollments GROUP BY segment_id"
   ]
  },
  {
   "cell_type": "code",
   "execution_count": null,
   "metadata": {
    "collapsed": true
   },
   "outputs": [],
   "source": []
  }
 ],
 "metadata": {
  "kernelspec": {
   "display_name": "Python 3",
   "language": "python",
   "name": "python3"
  },
  "language_info": {
   "codemirror_mode": {
    "name": "ipython",
    "version": 3
   },
   "file_extension": ".py",
   "mimetype": "text/x-python",
   "name": "python",
   "nbconvert_exporter": "python",
   "pygments_lexer": "ipython3",
   "version": "3.6.1"
  }
 },
 "nbformat": 4,
 "nbformat_minor": 2
}
