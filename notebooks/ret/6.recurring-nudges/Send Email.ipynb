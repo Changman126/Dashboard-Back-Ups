{
 "cells": [
  {
   "cell_type": "code",
   "execution_count": 1,
   "metadata": {},
   "outputs": [
    {
     "data": {
      "text/html": [
       "<div>\n",
       "<style>\n",
       "    .dataframe thead tr:only-child th {\n",
       "        text-align: right;\n",
       "    }\n",
       "\n",
       "    .dataframe thead th {\n",
       "        text-align: left;\n",
       "    }\n",
       "\n",
       "    .dataframe tbody tr th {\n",
       "        vertical-align: top;\n",
       "    }\n",
       "</style>\n",
       "<table border=\"1\" class=\"dataframe\">\n",
       "  <thead>\n",
       "    <tr style=\"text-align: right;\">\n",
       "      <th></th>\n",
       "      <th>?column?</th>\n",
       "    </tr>\n",
       "  </thead>\n",
       "  <tbody>\n",
       "    <tr>\n",
       "      <th>0</th>\n",
       "      <td>Connected to Vertica!</td>\n",
       "    </tr>\n",
       "  </tbody>\n",
       "</table>\n",
       "</div>"
      ],
      "text/plain": [
       "                ?column?\n",
       "0  Connected to Vertica!"
      ]
     },
     "execution_count": 1,
     "metadata": {},
     "output_type": "execute_result"
    }
   ],
   "source": [
    "%%vertica\n",
    "SELECT 'Connected to Vertica!'"
   ]
  },
  {
   "cell_type": "code",
   "execution_count": 2,
   "metadata": {},
   "outputs": [
    {
     "data": {
      "text/html": [
       "<div>\n",
       "<style>\n",
       "    .dataframe thead tr:only-child th {\n",
       "        text-align: right;\n",
       "    }\n",
       "\n",
       "    .dataframe thead th {\n",
       "        text-align: left;\n",
       "    }\n",
       "\n",
       "    .dataframe tbody tr th {\n",
       "        vertical-align: top;\n",
       "    }\n",
       "</style>\n",
       "<table border=\"1\" class=\"dataframe\">\n",
       "  <thead>\n",
       "    <tr style=\"text-align: right;\">\n",
       "      <th></th>\n",
       "      <th>?column?</th>\n",
       "    </tr>\n",
       "  </thead>\n",
       "  <tbody>\n",
       "  </tbody>\n",
       "</table>\n",
       "</div>"
      ],
      "text/plain": [
       "Empty DataFrame\n",
       "Columns: [?column?]\n",
       "Index: []"
      ]
     },
     "execution_count": 2,
     "metadata": {},
     "output_type": "execute_result"
    }
   ],
   "source": [
    "%vertica SET ROLE restricted"
   ]
  },
  {
   "cell_type": "code",
   "execution_count": 3,
   "metadata": {},
   "outputs": [
    {
     "data": {
      "text/html": [
       "<div>\n",
       "<style>\n",
       "    .dataframe thead tr:only-child th {\n",
       "        text-align: right;\n",
       "    }\n",
       "\n",
       "    .dataframe thead th {\n",
       "        text-align: left;\n",
       "    }\n",
       "\n",
       "    .dataframe tbody tr th {\n",
       "        vertical-align: top;\n",
       "    }\n",
       "</style>\n",
       "<table border=\"1\" class=\"dataframe\">\n",
       "  <thead>\n",
       "    <tr style=\"text-align: right;\">\n",
       "      <th></th>\n",
       "      <th>?column?</th>\n",
       "    </tr>\n",
       "  </thead>\n",
       "  <tbody>\n",
       "  </tbody>\n",
       "</table>\n",
       "</div>"
      ],
      "text/plain": [
       "Empty DataFrame\n",
       "Columns: [?column?]\n",
       "Index: []"
      ]
     },
     "execution_count": 3,
     "metadata": {},
     "output_type": "execute_result"
    }
   ],
   "source": [
    "%%vertica\n",
    "SET TIME ZONE TO UTC"
   ]
  },
  {
   "cell_type": "code",
   "execution_count": 5,
   "metadata": {
    "collapsed": true
   },
   "outputs": [],
   "source": [
    "%%vertica -> week_emails\n",
    "SELECT\n",
    "    FLOOR(DATEDIFF('day', content_availability, CURRENT_DATE()) / 7) :: INT AS week_number,\n",
    "    segments.course_id AS course_id,\n",
    "    user_username AS student_name,\n",
    "    user_email,\n",
    "    content_availability,\n",
    "    c.course_name AS course_name\n",
    "FROM\n",
    "    ret.exp6_enrollments AS segments\n",
    "LEFT JOIN\n",
    "    lms_read_replica.bulk_email_optout AS eo\n",
    "ON\n",
    "    eo.user_id = segments.user_id\n",
    "LEFT JOIN\n",
    "    production.d_user_course duc\n",
    "ON\n",
    "    duc.user_id = segments.user_id AND duc.course_id = segments.course_id\n",
    "JOIN\n",
    "    production.d_user AS du\n",
    "ON\n",
    "    du.user_id = segments.user_id\n",
    "JOIN\n",
    "    (SELECT DISTINCT course_id, course_name, course_end_date FROM business_intelligence.course_master) AS c\n",
    "ON\n",
    "    c.course_id = segments.course_id\n",
    "WHERE\n",
    "        segment_id = 1\n",
    "    AND eo.user_id IS NULL\n",
    "    AND duc.current_enrollment_is_active\n",
    "    AND c.course_end_date > NOW()\n",
    "ORDER BY\n",
    "    1, 2, 3"
   ]
  },
  {
   "cell_type": "markdown",
   "metadata": {},
   "source": [
    "This next cell should just return a single week number with all of the users in it."
   ]
  },
  {
   "cell_type": "code",
   "execution_count": 6,
   "metadata": {},
   "outputs": [
    {
     "data": {
      "text/plain": [
       "week_number\n",
       "3    31695\n",
       "Name: user_email, dtype: int64"
      ]
     },
     "execution_count": 6,
     "metadata": {},
     "output_type": "execute_result"
    }
   ],
   "source": [
    "week_emails.groupby('week_number').user_email.count()"
   ]
  },
  {
   "cell_type": "code",
   "execution_count": 7,
   "metadata": {
    "collapsed": true
   },
   "outputs": [],
   "source": [
    "c = week_emails.groupby(['user_email', 'course_id']).user_email.count()\n",
    "assert len(c[c > 1]) == 0, 'No user should be getting two emails for the same course!'"
   ]
  },
  {
   "cell_type": "code",
   "execution_count": 8,
   "metadata": {
    "collapsed": true
   },
   "outputs": [],
   "source": [
    "import edx_secret\n",
    "sailthru_api_key = edx_secret.read_secret_from_env_or_prompt('OPS_SAILTHRU_API_KEY')\n",
    "sailthru_api_secret = edx_secret.read_secret_from_env_or_prompt('OPS_SAILTHRU_API_SECRET')"
   ]
  },
  {
   "cell_type": "code",
   "execution_count": 9,
   "metadata": {
    "collapsed": true
   },
   "outputs": [],
   "source": [
    "TEMPLATE_NAME = 'RET Recurring Nudge'\n",
    "MAX_BATCH_SIZE = 100"
   ]
  },
  {
   "cell_type": "code",
   "execution_count": 25,
   "metadata": {
    "collapsed": true
   },
   "outputs": [],
   "source": [
    "from collections import namedtuple\n",
    "import textwrap\n",
    "from urllib.parse import quote_plus\n",
    "\n",
    "Template = namedtuple('Template', ['subject', 'body', 'preview', 'call_to_action', 'call_to_action_link'])\n",
    "\n",
    "TEMPLATES = [\n",
    "    Template( # Email Doc N - Reminder B\n",
    "        '{course_name} has started on edX.org!',\n",
    "        textwrap.dedent(\"\"\"\\\n",
    "            Dear {student_name},\n",
    "            <br><br>\n",
    "            Remember when you enrolled in <strong>{course_name}</strong> on edX.org? We do! We are excited to let you know the course has started. Come see what everyone is learning. \n",
    "        \"\"\"),\n",
    "        'Remember when you enrolled in <strong>{course_name}</strong> on edX.org?',\n",
    "        'Start learning now',\n",
    "        'https://courses.edx.org/courses/{course_id}/course/',\n",
    "    ),\n",
    "#     Template( # Email Doc N - Reminder C\n",
    "#         'Keep going with {course_name}',\n",
    "#         textwrap.dedent(\"\"\"\\\n",
    "#             Dear {student_name},\n",
    "#             <br><br>\n",
    "#             You enrolled in <strong>{course_name}</strong> and it is available for you now. This is a great opportunity to keep your momentum going and continue learning.\n",
    "#         \"\"\"),\n",
    "#         'You enrolled in <strong>{course_name}</strong> and it is available for you now.',\n",
    "#         'Continue learning',\n",
    "#         'https://courses.edx.org/courses/{course_id}/course/',\n",
    "#     ),\n",
    "    Template( # Email Doc N - Nudge (problems)\n",
    "        'Solve a few problems in {course_name}',\n",
    "        textwrap.dedent(\"\"\"\\\n",
    "            Dear {student_name},\n",
    "            <br><br>\n",
    "            Numerous edX learners in <strong>{course_name}</strong> are completing more problems every week. What do you want to do to keep learning? \n",
    "        \"\"\"),\n",
    "        'Numerous edX learners in <strong>{course_name}</strong> are completing more problems every week.',\n",
    "        'See what’s new',\n",
    "        'https://courses.edx.org/courses/{course_id}/course/',\n",
    "    ),\n",
    "    Template( # Email Doc N - Nudge mobile 2\n",
    "        'Learn on the go with the edX.org App',\n",
    "        textwrap.dedent(\"\"\"\\\n",
    "            Dear {student_name},\n",
    "            <br><br>\n",
    "            Many edX.org learners use their commutes to engage with courses. Want to learn on the go? Learn on your preferred device. Remember, when you participate in <strong>{course_name}</strong>, you learn more things.\n",
    "        \"\"\"),\n",
    "        'Many edX.org learners use their commutes to engage with courses. Want to learn on the go?',\n",
    "        'Get the app',\n",
    "        'https://www.edx.org/mobile',\n",
    "    ),\n",
    "    Template( # Email Doc N - Nudge (videos)\n",
    "        'Watch and learn with {course_name}',\n",
    "        textwrap.dedent(\"\"\"\\\n",
    "            Dear {student_name},\n",
    "            <br><br>\n",
    "            Many successful edX learners in <strong>{course_name}</strong> are watching videos every week. What do you want to do to keep learning? \n",
    "        \"\"\"),\n",
    "        'Many successful edX learners in <strong>{course_name}</strong> are watching videos every week.',\n",
    "        'See my course',\n",
    "        'https://courses.edx.org/courses/{course_id}/course/',\n",
    "    ),\n",
    "    Template( # Email Doc N - Nudge (mobile)\n",
    "        'Learn on the go with the edX.org App',\n",
    "        textwrap.dedent(\"\"\"\\\n",
    "            Dear {student_name},\n",
    "            <br><br>\n",
    "            Looking for time to learn on the go? Try the <a href=\"https://www.edx.org/mobile\">edX.org App</a>. Spending more time in <strong>{course_name}</strong> means you have a better chance of learning something that makes a difference in your life.\n",
    "        \"\"\"),\n",
    "        'Looking for time to learn on the go? Try the <a href=\"https://www.edx.org/mobile\">edX.org App</a>.',\n",
    "        'Get the app',\n",
    "        'https://www.edx.org/mobile',\n",
    "    ),\n",
    "    Template( # Email Doc N - Nudge (discussions)\n",
    "        'Talk up {course_name} at edX.org',\n",
    "        textwrap.dedent(\"\"\"\\\n",
    "            Dear {student_name},\n",
    "            <br><br>\n",
    "            Lots of edX learners in <strong>{course_name}</strong> are talking and asking questions in the discussion forums. What do you want to do to keep learning? \n",
    "        \"\"\"),\n",
    "        'Lots of edX learners in <strong>{course_name}</strong> are talking and asking questions in the discussion forums.',\n",
    "        'See my course',\n",
    "        'https://courses.edx.org/courses/{course_id}/course/',\n",
    "    ),\n",
    "#     Template( # Email Doc N - Nudge (finding time)\n",
    "#         'Find balance and learn more in  {course_name}',\n",
    "#         textwrap.dedent(\"\"\"\\\n",
    "#             Dear {student_name},\n",
    "#             <br><br>\n",
    "#             Many edX learner learners are juggling jobs, family obligations, and other responsibilities while learning in <strong>{course_name}</strong>. Setting aside a few minutes for your learning at the same time each day can help you balance all the things you do.\n",
    "#         \"\"\"),\n",
    "#         'Many edX learner learners are juggling jobs, family obligations, and other responsibilities while learning in <strong>{course_name}</strong>.',\n",
    "#         'Keep learning',\n",
    "#         'https://courses.edx.org/courses/{course_id}/course/',\n",
    "#     ),\n",
    "]\n",
    "\n",
    "def as_template_vars(week, row):\n",
    "    template = TEMPLATES[week]\n",
    "    row_vals = row._asdict()\n",
    "    \n",
    "    assert row_vals.get('student_name'), f'student_name is empty for {row_vals}'\n",
    "    assert row_vals.get('course_name'), f'course_name is empty for {row_vals}'\n",
    "    assert row_vals.get('course_id'), f'course_id is empty for {row_vals}'\n",
    "\n",
    "    row_vals['course_id'] = quote_plus(row_vals['course_id'])\n",
    "    \n",
    "    result = {\n",
    "        'ret_pacing_body': template.body.format(**row_vals),\n",
    "        'ret_pacing_course_id': row.course_id,\n",
    "        'ret_pacing_subject_line': template.subject.format(**row_vals),\n",
    "        'ret_pacing_preview_text': template.preview.format(**row_vals),\n",
    "        'ret_pacing_cta_text': template.call_to_action.format(**row_vals),\n",
    "        'ret_pacing_cta_link': template.call_to_action_link.format(**row_vals),\n",
    "    }\n",
    "    if week in (2, 4):\n",
    "        result['ret_pacing_secondary_body'] = 'Not ready for the app now?'\n",
    "        result['ret_pacing_secondary_cta_text'] = 'See my course'\n",
    "        result['ret_pacing_secondary_cta_link'] = 'https://courses.edx.org/courses/{course_id}/course/'.format(**row_vals)\n",
    "    \n",
    "    return result"
   ]
  },
  {
   "cell_type": "markdown",
   "metadata": {},
   "source": [
    "# Send email kill switch\n",
    "\n",
    "When this is set to `False` no emails will be sent."
   ]
  },
  {
   "cell_type": "code",
   "execution_count": 26,
   "metadata": {
    "collapsed": true
   },
   "outputs": [],
   "source": [
    "SEND_EMAIL = True"
   ]
  },
  {
   "cell_type": "code",
   "execution_count": 27,
   "metadata": {
    "collapsed": true
   },
   "outputs": [],
   "source": [
    "from sailthru.sailthru_client import SailthruClient\n",
    "\n",
    "sc = sailthru_client = SailthruClient(sailthru_api_key, sailthru_api_secret)"
   ]
  },
  {
   "cell_type": "markdown",
   "metadata": {},
   "source": [
    "Vars in the template - the email will not be sent (fail silently) if these are not set!\n",
    "\n",
    "* ret_pacing_body\n",
    "* ret_pacing_course_id\n",
    "* ret_pacing_subject_line\n",
    "* ret_pacing_preview_text\n",
    "* ret_pacing_cta_text"
   ]
  },
  {
   "cell_type": "code",
   "execution_count": 28,
   "metadata": {
    "collapsed": true
   },
   "outputs": [],
   "source": [
    "import itertools\n",
    "import time\n",
    "from pprint import pprint as pp\n",
    "import numpy as np\n",
    "from functools import partial\n",
    "import json\n",
    "from ipywidgets import IntProgress\n",
    "from IPython.display import display\n",
    "\n",
    "class SailthruEmail(object):\n",
    "    \n",
    "    def __init__(self, sailthru_client, template_vars=None):\n",
    "        self.sailthru_client = SailthruClient(sailthru_api_key, sailthru_api_secret)\n",
    "        self.template_vars = template_vars or {}\n",
    "        \n",
    "    def send_to_users(self, var_overrides, batch_size=MAX_BATCH_SIZE, is_test=False):\n",
    "        # This is the max batch size that Sailthru supports\n",
    "        assert(batch_size <= MAX_BATCH_SIZE)\n",
    "        \n",
    "        progress_bar = IntProgress(min=0, max=len(var_overrides))\n",
    "        display(progress_bar)\n",
    "        \n",
    "        sent_count = 0\n",
    "        by_week = var_overrides.set_index('week_number')\n",
    "        for week in by_week.index.unique():\n",
    "        \n",
    "            df = by_week.loc[week]\n",
    "            \n",
    "            for k, batch in df.groupby(np.arange(len(df))//batch_size):\n",
    "                sent_count += self._send_batch(batch, is_test=is_test, progress_bar=progress_bar)\n",
    "        \n",
    "        return sent_count\n",
    "            \n",
    "    def _send_batch(self, batch, is_test=False, progress_bar=None):\n",
    "        self.wait_for_rate_limit()\n",
    "        \n",
    "        week = batch.index.unique()[0]\n",
    "        # Build the template vars for every user in the batch\n",
    "        batch_vars = {\n",
    "            row.user_email: {\n",
    "                **self.template_vars,\n",
    "                **as_template_vars(week, row)\n",
    "            }\n",
    "            for row in batch.itertuples()\n",
    "        }\n",
    "\n",
    "        for email, override in batch_vars.items():\n",
    "            assert(email)\n",
    "            assert(override['ret_pacing_body'])\n",
    "            assert(override['ret_pacing_course_id'])\n",
    "            assert(override['ret_pacing_subject_line'])\n",
    "            assert(override['ret_pacing_preview_text'])\n",
    "            assert(override['ret_pacing_cta_text'])\n",
    "        \n",
    "        sent_count = 0\n",
    "        if SEND_EMAIL:\n",
    "            options = {}\n",
    "            if is_test:\n",
    "                options['test'] = 1\n",
    "                \n",
    "            emails = [row.user_email for row in batch.itertuples()]\n",
    "            \n",
    "            response = sc.multi_send(\n",
    "                TEMPLATE_NAME,\n",
    "                emails,\n",
    "                evars=batch_vars,\n",
    "                options=options\n",
    "            )\n",
    "            if response.is_ok():\n",
    "                body = response.get_body()\n",
    "                sent_count = int(body.get(\"sent_count\", 1))\n",
    "                print(f'Send successful to {sent_count} users')\n",
    "            else:\n",
    "                error = response.get_error()\n",
    "                print(\"Error: \" + error.get_message())\n",
    "                print(\"Status Code: \" + str(response.get_status_code()))\n",
    "                print(\"Error Code: \" + str(error.get_error_code()))\n",
    "                print(\"Failed batch: {0}\".format(json.dumps(emails)))\n",
    "        else:\n",
    "            batch_size = len(batch_vars)\n",
    "            sent_count = batch_size\n",
    "            print(\n",
    "                f'Would have sent an email{\" [TEST]\" if is_test else \"\"}'\n",
    "                f' using the template \"{TEMPLATE_NAME}\" for week {week} to {batch_size} users'\n",
    "            )\n",
    "            print(json.dumps(batch_vars, indent=4))\n",
    "        \n",
    "        if progress_bar is not None:\n",
    "            progress_bar.value += len(batch_vars)\n",
    "        \n",
    "        return sent_count\n",
    "\n",
    "    def wait_for_rate_limit(self):\n",
    "        rate_limit_info = self.sailthru_client.get_last_rate_limit_info('send', 'POST')\n",
    "        if rate_limit_info is not None:\n",
    "            limit = int(rate_limit_info['limit'])\n",
    "            remaining = int(rate_limit_info['remaining'])\n",
    "            reset_timestamp = int(rate_limit_info['reset'])\n",
    "            seconds_till_reset = reset_timestamp - time.time()\n",
    "            if remaining <= 0 and seconds_till_reset > 0:\n",
    "                print(f'Rate limit exceeded, sleeping for {seconds_till_reset} seconds')\n",
    "                time.sleep(seconds_till_reset + 1)"
   ]
  },
  {
   "cell_type": "code",
   "execution_count": 29,
   "metadata": {
    "collapsed": true
   },
   "outputs": [],
   "source": [
    "email = SailthruEmail(\n",
    "    sailthru_client=sailthru_client,\n",
    "    template_vars={\n",
    "    }\n",
    ")"
   ]
  },
  {
   "cell_type": "markdown",
   "metadata": {},
   "source": [
    "# Sending emails\n",
    "\n",
    "1. First send to RET\n",
    "2. Send to edX employees\n",
    "3. Set SEND_EMAIL=False\n",
    "4. Call the method to send to all learners - this will validate all of template vars\n",
    "5. Set SEND_EMAIL=True\n",
    "6. Send the email to all learers"
   ]
  },
  {
   "cell_type": "code",
   "execution_count": 15,
   "metadata": {
    "collapsed": true
   },
   "outputs": [],
   "source": [
    "%%vertica -> edx_usernames\n",
    "SELECT\n",
    "    user_email,\n",
    "    user_username\n",
    "FROM production.d_user\n",
    "WHERE\n",
    "    user_email LIKE '%@edx.org'"
   ]
  },
  {
   "cell_type": "code",
   "execution_count": 16,
   "metadata": {
    "collapsed": true
   },
   "outputs": [],
   "source": [
    "test_users = edx_usernames.set_index('user_email')"
   ]
  },
  {
   "cell_type": "code",
   "execution_count": 30,
   "metadata": {},
   "outputs": [
    {
     "data": {
      "application/vnd.jupyter.widget-view+json": {
       "model_id": "46a4b147146f4e5c86ceb3465ad6c89b"
      }
     },
     "metadata": {},
     "output_type": "display_data"
    },
    {
     "name": "stdout",
     "output_type": "stream",
     "text": [
      "Send successful to 8 users\n",
      "Sent to 8 users\n"
     ]
    }
   ],
   "source": [
    "import pandas as pd\n",
    "\n",
    "def send_email_to_ret(week_number):\n",
    "    test_emails = [\n",
    "        'gabe@edx.org',\n",
    "        'cblackburn@edx.org',\n",
    "        'cale@edx.org',\n",
    "        'nasthagiri@edx.org',\n",
    "        'aboehm@edx.org',\n",
    "        'ddomingos@edx.org',\n",
    "        'kwillemin@edx.org',\n",
    "        'jzheng@edx.org'\n",
    "    ]\n",
    "    usernames = [test_users.loc[e].user_username for e in test_emails]\n",
    "\n",
    "    test_emails_df = pd.DataFrame({\n",
    "        'week_number': [week_number] * len(test_emails),\n",
    "        'course_id': ['course-v1:UBCx+HtC2x+2T2017'] * len(test_emails),\n",
    "        'student_name': usernames,\n",
    "        'user_email': test_emails,\n",
    "        'course_name': ['HtC2x How to Code: Complex Data'] * len(test_emails),\n",
    "    })\n",
    "\n",
    "    return email.send_to_users(test_emails_df, is_test=True)\n",
    "\n",
    "result = send_email_to_ret(week_number=3)\n",
    "print(f'Sent to {result} users')"
   ]
  },
  {
   "cell_type": "code",
   "execution_count": null,
   "metadata": {
    "scrolled": false
   },
   "outputs": [],
   "source": [
    "edx_emails = week_emails[week_emails.user_email.apply(lambda x: '@edx.org' in x)]\n",
    "#email.send_to_users(edx_emails, is_test=True)"
   ]
  },
  {
   "cell_type": "markdown",
   "metadata": {},
   "source": [
    "# Don't move your laptop once you run this next cell!"
   ]
  },
  {
   "cell_type": "code",
   "execution_count": 31,
   "metadata": {
    "scrolled": true
   },
   "outputs": [
    {
     "data": {
      "application/vnd.jupyter.widget-view+json": {
       "model_id": "a14f25be6d1c479ebd7b63eebf82a7dd"
      }
     },
     "metadata": {},
     "output_type": "display_data"
    },
    {
     "name": "stdout",
     "output_type": "stream",
     "text": [
      "Send successful to 100 users\n",
      "Send successful to 99 users\n",
      "Send successful to 100 users\n",
      "Send successful to 98 users\n",
      "Send successful to 100 users\n",
      "Send successful to 100 users\n",
      "Send successful to 100 users\n",
      "Send successful to 100 users\n",
      "Send successful to 100 users\n",
      "Send successful to 100 users\n",
      "Send successful to 100 users\n",
      "Send successful to 100 users\n",
      "Send successful to 100 users\n",
      "Send successful to 100 users\n",
      "Send successful to 99 users\n",
      "Send successful to 100 users\n",
      "Send successful to 100 users\n",
      "Send successful to 100 users\n",
      "Send successful to 99 users\n",
      "Send successful to 100 users\n",
      "Send successful to 100 users\n",
      "Send successful to 100 users\n",
      "Send successful to 100 users\n",
      "Send successful to 100 users\n",
      "Send successful to 100 users\n",
      "Send successful to 100 users\n",
      "Send successful to 99 users\n",
      "Send successful to 100 users\n",
      "Send successful to 100 users\n",
      "Send successful to 100 users\n",
      "Send successful to 100 users\n",
      "Send successful to 100 users\n",
      "Send successful to 99 users\n",
      "Send successful to 100 users\n",
      "Send successful to 100 users\n",
      "Send successful to 100 users\n",
      "Send successful to 100 users\n",
      "Send successful to 100 users\n",
      "Send successful to 100 users\n",
      "Send successful to 100 users\n",
      "Send successful to 100 users\n",
      "Send successful to 100 users\n",
      "Send successful to 100 users\n",
      "Send successful to 100 users\n",
      "Send successful to 99 users\n",
      "Send successful to 100 users\n",
      "Send successful to 100 users\n",
      "Send successful to 100 users\n",
      "Send successful to 100 users\n",
      "Send successful to 100 users\n",
      "Send successful to 100 users\n",
      "Send successful to 99 users\n",
      "Send successful to 100 users\n",
      "Send successful to 100 users\n",
      "Send successful to 99 users\n",
      "Send successful to 100 users\n",
      "Send successful to 100 users\n",
      "Send successful to 99 users\n",
      "Send successful to 100 users\n",
      "Send successful to 100 users\n",
      "Send successful to 100 users\n",
      "Send successful to 100 users\n",
      "Send successful to 100 users\n",
      "Send successful to 100 users\n",
      "Send successful to 100 users\n",
      "Send successful to 99 users\n",
      "Send successful to 100 users\n",
      "Send successful to 100 users\n",
      "Send successful to 99 users\n",
      "Send successful to 100 users\n",
      "Send successful to 100 users\n",
      "Send successful to 100 users\n",
      "Send successful to 100 users\n",
      "Send successful to 100 users\n",
      "Send successful to 100 users\n",
      "Send successful to 100 users\n",
      "Send successful to 99 users\n",
      "Send successful to 99 users\n",
      "Send successful to 100 users\n",
      "Send successful to 100 users\n",
      "Send successful to 100 users\n",
      "Send successful to 100 users\n",
      "Send successful to 100 users\n",
      "Send successful to 100 users\n",
      "Send successful to 100 users\n",
      "Send successful to 100 users\n",
      "Send successful to 100 users\n",
      "Send successful to 100 users\n",
      "Send successful to 99 users\n",
      "Send successful to 100 users\n",
      "Send successful to 100 users\n",
      "Send successful to 100 users\n",
      "Send successful to 100 users\n",
      "Send successful to 100 users\n",
      "Send successful to 99 users\n",
      "Send successful to 100 users\n",
      "Send successful to 100 users\n",
      "Send successful to 100 users\n",
      "Send successful to 100 users\n",
      "Send successful to 100 users\n",
      "Send successful to 100 users\n",
      "Send successful to 100 users\n",
      "Send successful to 100 users\n",
      "Send successful to 100 users\n",
      "Send successful to 98 users\n",
      "Send successful to 100 users\n",
      "Send successful to 100 users\n",
      "Send successful to 99 users\n",
      "Send successful to 100 users\n",
      "Send successful to 100 users\n",
      "Send successful to 100 users\n",
      "Send successful to 100 users\n",
      "Send successful to 99 users\n",
      "Send successful to 100 users\n",
      "Send successful to 99 users\n",
      "Send successful to 99 users\n",
      "Send successful to 100 users\n",
      "Send successful to 100 users\n",
      "Send successful to 100 users\n",
      "Send successful to 100 users\n",
      "Send successful to 100 users\n",
      "Send successful to 100 users\n",
      "Send successful to 100 users\n",
      "Send successful to 99 users\n",
      "Send successful to 98 users\n",
      "Send successful to 100 users\n",
      "Send successful to 99 users\n",
      "Send successful to 100 users\n",
      "Send successful to 100 users\n",
      "Send successful to 100 users\n",
      "Send successful to 100 users\n",
      "Send successful to 100 users\n",
      "Send successful to 99 users\n",
      "Send successful to 100 users\n",
      "Send successful to 100 users\n",
      "Send successful to 100 users\n",
      "Send successful to 100 users\n",
      "Send successful to 100 users\n",
      "Send successful to 100 users\n",
      "Send successful to 100 users\n",
      "Send successful to 100 users\n",
      "Send successful to 99 users\n",
      "Send successful to 100 users\n",
      "Send successful to 100 users\n",
      "Send successful to 100 users\n",
      "Send successful to 100 users\n",
      "Send successful to 100 users\n",
      "Send successful to 99 users\n",
      "Send successful to 100 users\n",
      "Send successful to 100 users\n",
      "Send successful to 100 users\n",
      "Send successful to 100 users\n",
      "Send successful to 100 users\n",
      "Send successful to 100 users\n",
      "Send successful to 100 users\n",
      "Send successful to 100 users\n",
      "Send successful to 100 users\n",
      "Send successful to 100 users\n",
      "Send successful to 100 users\n",
      "Send successful to 100 users\n",
      "Send successful to 99 users\n",
      "Send successful to 100 users\n",
      "Send successful to 99 users\n",
      "Send successful to 100 users\n",
      "Send successful to 100 users\n",
      "Send successful to 100 users\n",
      "Send successful to 100 users\n",
      "Send successful to 100 users\n",
      "Send successful to 100 users\n",
      "Send successful to 100 users\n",
      "Send successful to 99 users\n",
      "Send successful to 100 users\n",
      "Send successful to 99 users\n",
      "Send successful to 99 users\n",
      "Send successful to 100 users\n",
      "Send successful to 100 users\n",
      "Send successful to 100 users\n",
      "Send successful to 100 users\n",
      "Send successful to 100 users\n",
      "Send successful to 100 users\n",
      "Send successful to 100 users\n",
      "Send successful to 100 users\n",
      "Send successful to 100 users\n",
      "Send successful to 100 users\n",
      "Send successful to 100 users\n",
      "Send successful to 100 users\n",
      "Send successful to 100 users\n",
      "Send successful to 99 users\n",
      "Send successful to 100 users\n",
      "Send successful to 100 users\n",
      "Send successful to 100 users\n",
      "Send successful to 100 users\n",
      "Send successful to 100 users\n",
      "Send successful to 100 users\n",
      "Send successful to 100 users\n",
      "Send successful to 100 users\n",
      "Send successful to 100 users\n",
      "Send successful to 100 users\n",
      "Send successful to 100 users\n",
      "Send successful to 100 users\n",
      "Send successful to 100 users\n",
      "Send successful to 100 users\n",
      "Send successful to 100 users\n",
      "Send successful to 100 users\n",
      "Send successful to 100 users\n",
      "Send successful to 100 users\n",
      "Send successful to 100 users\n",
      "Send successful to 100 users\n",
      "Send successful to 99 users\n",
      "Send successful to 100 users\n",
      "Send successful to 100 users\n",
      "Send successful to 100 users\n",
      "Send successful to 100 users\n",
      "Send successful to 100 users\n",
      "Send successful to 100 users\n",
      "Send successful to 100 users\n",
      "Send successful to 100 users\n",
      "Send successful to 100 users\n",
      "Send successful to 100 users\n",
      "Send successful to 100 users\n",
      "Send successful to 100 users\n",
      "Send successful to 100 users\n",
      "Send successful to 100 users\n",
      "Send successful to 100 users\n",
      "Send successful to 100 users\n",
      "Send successful to 100 users\n",
      "Send successful to 98 users\n",
      "Send successful to 100 users\n",
      "Send successful to 100 users\n",
      "Send successful to 100 users\n",
      "Send successful to 100 users\n",
      "Send successful to 100 users\n",
      "Send successful to 100 users\n",
      "Send successful to 99 users\n",
      "Send successful to 100 users\n",
      "Send successful to 100 users\n",
      "Send successful to 100 users\n",
      "Send successful to 100 users\n",
      "Send successful to 100 users\n",
      "Send successful to 100 users\n",
      "Send successful to 100 users\n",
      "Send successful to 100 users\n",
      "Send successful to 100 users\n",
      "Send successful to 100 users\n",
      "Send successful to 100 users\n",
      "Send successful to 100 users\n",
      "Send successful to 100 users\n",
      "Send successful to 99 users\n",
      "Send successful to 99 users\n",
      "Send successful to 99 users\n",
      "Send successful to 100 users\n",
      "Send successful to 100 users\n",
      "Send successful to 100 users\n",
      "Send successful to 100 users\n",
      "Send successful to 100 users\n",
      "Send successful to 100 users\n",
      "Send successful to 100 users\n",
      "Send successful to 100 users\n",
      "Send successful to 100 users\n",
      "Send successful to 100 users\n",
      "Send successful to 100 users\n",
      "Send successful to 100 users\n",
      "Send successful to 100 users\n",
      "Send successful to 100 users\n",
      "Send successful to 100 users\n",
      "Send successful to 100 users\n",
      "Send successful to 100 users\n",
      "Send successful to 100 users\n",
      "Send successful to 100 users\n",
      "Send successful to 100 users\n",
      "Send successful to 100 users\n",
      "Send successful to 100 users\n",
      "Send successful to 100 users\n",
      "Send successful to 100 users\n",
      "Send successful to 100 users\n",
      "Send successful to 100 users\n",
      "Send successful to 100 users\n",
      "Send successful to 100 users\n",
      "Send successful to 100 users\n",
      "Send successful to 100 users\n",
      "Send successful to 99 users\n",
      "Send successful to 100 users\n",
      "Send successful to 99 users\n",
      "Send successful to 100 users\n"
     ]
    },
    {
     "name": "stdout",
     "output_type": "stream",
     "text": [
      "Send successful to 100 users\n",
      "Send successful to 100 users\n",
      "Send successful to 100 users\n",
      "Send successful to 100 users\n",
      "Send successful to 100 users\n",
      "Send successful to 100 users\n",
      "Send successful to 100 users\n",
      "Send successful to 100 users\n",
      "Send successful to 100 users\n",
      "Send successful to 100 users\n",
      "Send successful to 100 users\n",
      "Send successful to 99 users\n",
      "Send successful to 100 users\n",
      "Send successful to 99 users\n",
      "Send successful to 100 users\n",
      "Send successful to 100 users\n",
      "Send successful to 99 users\n",
      "Send successful to 100 users\n",
      "Send successful to 99 users\n",
      "Send successful to 100 users\n",
      "Send successful to 100 users\n",
      "Send successful to 100 users\n",
      "Send successful to 100 users\n",
      "Send successful to 100 users\n",
      "Send successful to 100 users\n",
      "Send successful to 100 users\n",
      "Send successful to 100 users\n",
      "Send successful to 100 users\n",
      "Send successful to 100 users\n",
      "Send successful to 100 users\n",
      "Send successful to 100 users\n",
      "Send successful to 100 users\n",
      "Send successful to 95 users\n"
     ]
    },
    {
     "data": {
      "text/plain": [
       "31646"
      ]
     },
     "execution_count": 31,
     "metadata": {},
     "output_type": "execute_result"
    }
   ],
   "source": [
    "email.send_to_users(week_emails)"
   ]
  },
  {
   "cell_type": "markdown",
   "metadata": {},
   "source": [
    "Save a CSV with the data used to send the emails... we might want this later? This would be our only record of what emails were sent to which users."
   ]
  },
  {
   "cell_type": "code",
   "execution_count": 32,
   "metadata": {
    "collapsed": true
   },
   "outputs": [],
   "source": [
    "#week_emails.to_csv('week_3_sent_emails.csv')"
   ]
  },
  {
   "cell_type": "markdown",
   "metadata": {},
   "source": [
    "Insert into the email_experiment table the set of users included in this experiment. Note that this assumes a single cohort. If we run a second cohort, then we would need to rejigger things here a bit."
   ]
  },
  {
   "cell_type": "code",
   "execution_count": 144,
   "metadata": {
    "collapsed": true
   },
   "outputs": [],
   "source": [
    "# %%vertica\n",
    "\n",
    "# INSERT INTO ret.email_experiment\n",
    "# SELECT\n",
    "#     6 AS experiment_id,\n",
    "#     'Recurring generic nudges' AS experiment_name,\n",
    "#     du.user_email AS email,\n",
    "#     du.user_id,\n",
    "#     du.user_username AS student_name,\n",
    "#     segments.course_id AS course_id,\n",
    "#     c.course_name AS course_title,\n",
    "#     segment_id AS group_id,\n",
    "#     CASE segment_id WHEN 0 THEN 'Control'\n",
    "#                     WHEN 1 THEN 'Treatment'\n",
    "#     END AS group_name\n",
    "# FROM\n",
    "#     ret.exp6_enrollments AS segments\n",
    "# LEFT JOIN\n",
    "#     lms_read_replica.bulk_email_optout AS eo\n",
    "# ON eo.user_id = segments.user_id\n",
    "# JOIN\n",
    "#     production.d_user AS du\n",
    "# ON du.user_id = segments.user_id\n",
    "# JOIN business_intelligence.course_master AS c\n",
    "# ON c.course_id = segments.course_id\n",
    "# WHERE\n",
    "#     eo.user_id IS NULL"
   ]
  },
  {
   "cell_type": "code",
   "execution_count": 145,
   "metadata": {
    "collapsed": true
   },
   "outputs": [],
   "source": [
    "#%vertica COMMIT"
   ]
  },
  {
   "cell_type": "code",
   "execution_count": null,
   "metadata": {
    "collapsed": true
   },
   "outputs": [],
   "source": []
  }
 ],
 "metadata": {
  "kernelspec": {
   "display_name": "Python 3",
   "language": "python",
   "name": "python3"
  },
  "language_info": {
   "codemirror_mode": {
    "name": "ipython",
    "version": 3
   },
   "file_extension": ".py",
   "mimetype": "text/x-python",
   "name": "python",
   "nbconvert_exporter": "python",
   "pygments_lexer": "ipython3",
   "version": "3.6.1"
  }
 },
 "nbformat": 4,
 "nbformat_minor": 2
}
