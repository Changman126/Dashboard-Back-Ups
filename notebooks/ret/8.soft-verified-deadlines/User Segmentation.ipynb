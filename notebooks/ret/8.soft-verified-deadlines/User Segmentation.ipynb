{
 "cells": [
  {
   "cell_type": "markdown",
   "metadata": {},
   "source": [
    "# Setup"
   ]
  },
  {
   "cell_type": "code",
   "execution_count": 1,
   "metadata": {},
   "outputs": [
    {
     "data": {
      "text/html": [
       "<div>\n",
       "<style>\n",
       "    .dataframe thead tr:only-child th {\n",
       "        text-align: right;\n",
       "    }\n",
       "\n",
       "    .dataframe thead th {\n",
       "        text-align: left;\n",
       "    }\n",
       "\n",
       "    .dataframe tbody tr th {\n",
       "        vertical-align: top;\n",
       "    }\n",
       "</style>\n",
       "<table border=\"1\" class=\"dataframe\">\n",
       "  <thead>\n",
       "    <tr style=\"text-align: right;\">\n",
       "      <th></th>\n",
       "      <th></th>\n",
       "    </tr>\n",
       "  </thead>\n",
       "  <tbody>\n",
       "    <tr>\n",
       "      <th>0</th>\n",
       "      <td>Connected to Vertica!</td>\n",
       "    </tr>\n",
       "  </tbody>\n",
       "</table>\n",
       "</div>"
      ],
      "text/plain": [
       "                        \n",
       "0  Connected to Vertica!"
      ]
     },
     "execution_count": 1,
     "metadata": {},
     "output_type": "execute_result"
    }
   ],
   "source": [
    "%%vertica\n",
    "SELECT 'Connected to Vertica!' AS ''"
   ]
  },
  {
   "cell_type": "code",
   "execution_count": 2,
   "metadata": {
    "collapsed": true
   },
   "outputs": [],
   "source": [
    "%vertica SET TIME ZONE to UTC;"
   ]
  },
  {
   "cell_type": "code",
   "execution_count": 3,
   "metadata": {},
   "outputs": [
    {
     "data": {
      "text/html": [
       "<div>\n",
       "<style>\n",
       "    .dataframe thead tr:only-child th {\n",
       "        text-align: right;\n",
       "    }\n",
       "\n",
       "    .dataframe thead th {\n",
       "        text-align: left;\n",
       "    }\n",
       "\n",
       "    .dataframe tbody tr th {\n",
       "        vertical-align: top;\n",
       "    }\n",
       "</style>\n",
       "<table border=\"1\" class=\"dataframe\">\n",
       "  <thead>\n",
       "    <tr style=\"text-align: right;\">\n",
       "      <th></th>\n",
       "      <th></th>\n",
       "    </tr>\n",
       "  </thead>\n",
       "  <tbody>\n",
       "    <tr>\n",
       "      <th>0</th>\n",
       "      <td>Connected to the LMS read replica!</td>\n",
       "    </tr>\n",
       "  </tbody>\n",
       "</table>\n",
       "</div>"
      ],
      "text/plain": [
       "                                     \n",
       "0  Connected to the LMS read replica!"
      ]
     },
     "execution_count": 3,
     "metadata": {},
     "output_type": "execute_result"
    }
   ],
   "source": [
    "%%query [lms]\n",
    "SELECT 'Connected to the LMS read replica!' AS ''"
   ]
  },
  {
   "cell_type": "code",
   "execution_count": 4,
   "metadata": {
    "collapsed": true
   },
   "outputs": [],
   "source": [
    "import datetime"
   ]
  },
  {
   "cell_type": "markdown",
   "metadata": {},
   "source": [
    "# Configuration"
   ]
  },
  {
   "cell_type": "markdown",
   "metadata": {},
   "source": [
    "## Enrollment Date Config"
   ]
  },
  {
   "cell_type": "code",
   "execution_count": 5,
   "metadata": {
    "collapsed": true
   },
   "outputs": [],
   "source": [
    "from dateutil.tz import tzutc\n",
    "\n",
    "# enter enrollment start date\n",
    "enrollment_start = datetime.datetime(2017, 8, 2, 11, 0, tzinfo=tzutc())\n",
    "enrollment_end = enrollment_start + datetime.timedelta(days=7)\n",
    "\n",
    "# Make sure we start our window on a Wednesday\n",
    "# assert(enrollment_start.isoweekday() == 3)"
   ]
  },
  {
   "cell_type": "markdown",
   "metadata": {},
   "source": [
    "## Segmentation Config"
   ]
  },
  {
   "cell_type": "code",
   "execution_count": 6,
   "metadata": {
    "collapsed": true
   },
   "outputs": [],
   "source": [
    "# enter number of user segments (i.e., total number of treatment groups + 1 for the control group)\n",
    "# Control = 0\n",
    "# Hard Deadlines = 1\n",
    "# Soft Deadlines = 2\n",
    "num_user_segments = 3"
   ]
  },
  {
   "cell_type": "markdown",
   "metadata": {},
   "source": [
    "## Experiment Identifier"
   ]
  },
  {
   "cell_type": "code",
   "execution_count": 7,
   "metadata": {
    "collapsed": true
   },
   "outputs": [],
   "source": [
    "experiment_id = 8"
   ]
  },
  {
   "cell_type": "markdown",
   "metadata": {},
   "source": [
    "# Segmented Enrollments"
   ]
  },
  {
   "cell_type": "markdown",
   "metadata": {},
   "source": [
    "## Load segmentation data from the LMS"
   ]
  },
  {
   "cell_type": "code",
   "execution_count": 8,
   "metadata": {
    "collapsed": true
   },
   "outputs": [],
   "source": [
    "%%query [lms] (experiment_id) -> already_segmented\n",
    "SELECT\n",
    "    exp.key,\n",
    "    exp.value,\n",
    "    exp.user_id\n",
    "FROM\n",
    "    experiments_experimentdata AS exp\n",
    "WHERE\n",
    "    experiment_id = :experiment_id"
   ]
  },
  {
   "cell_type": "code",
   "execution_count": 9,
   "metadata": {
    "collapsed": true,
    "scrolled": true
   },
   "outputs": [],
   "source": [
    "import json\n",
    "import ciso8601\n",
    "import pandas as pd\n",
    "\n",
    "already_segmented['course_id'] = already_segmented['key'].apply(\n",
    "    lambda key: key.replace('cohort_availability_date.', ''))\n",
    "already_segmented['segment'] = already_segmented['value'].apply(\n",
    "    lambda value: json.loads(value)['segment'])\n",
    "already_segmented['cohort_availability'] = already_segmented['value'].apply(\n",
    "    lambda value: ciso8601.parse_datetime(json.loads(value)['cohort_availability']).date())\n",
    "already_segmented['segmentation_reason'] = already_segmented['value'].apply(\n",
    "    lambda value: json.loads(value).get('segmentation_reason', 'visit'))\n",
    "already_segmented['user_id'] = already_segmented['user_id'].astype(int)\n",
    "del already_segmented['key']\n",
    "del already_segmented['value']"
   ]
  },
  {
   "cell_type": "code",
   "execution_count": 10,
   "metadata": {},
   "outputs": [
    {
     "data": {
      "text/plain": [
       "99907"
      ]
     },
     "execution_count": 10,
     "metadata": {},
     "output_type": "execute_result"
    }
   ],
   "source": [
    "len(already_segmented)"
   ]
  },
  {
   "cell_type": "code",
   "execution_count": 11,
   "metadata": {},
   "outputs": [
    {
     "data": {
      "text/plain": [
       "cohort_availability\n",
       "2017-07-26      267\n",
       "2017-08-02    98741\n",
       "2017-08-09      899\n",
       "Name: user_id, dtype: int64"
      ]
     },
     "execution_count": 11,
     "metadata": {},
     "output_type": "execute_result"
    }
   ],
   "source": [
    "already_segmented.groupby(['cohort_availability']).user_id.count()"
   ]
  },
  {
   "cell_type": "markdown",
   "metadata": {},
   "source": [
    "## Load any newly content-available users from the enrollments table"
   ]
  },
  {
   "cell_type": "code",
   "execution_count": 12,
   "metadata": {
    "collapsed": true,
    "scrolled": false
   },
   "outputs": [],
   "source": [
    "%%query [lms] (enrollment_start, enrollment_end, experiment_id) -> enrollments\n",
    "SELECT\n",
    "    sce.user_id,\n",
    "    sce.course_id,\n",
    "    sce.created AS content_availability,\n",
    "    au.username\n",
    "FROM\n",
    "    student_courseenrollment sce\n",
    "JOIN auth_user au ON au.id = sce.user_id\n",
    "JOIN user_api_userpreference up ON up.`key`='pref-lang' AND up.value='en' AND up.user_id = sce.user_id\n",
    "JOIN course_modes_coursemode cm ON cm.course_id = sce.course_id AND cm.mode_slug = 'verified'\n",
    "JOIN course_overviews_courseoverview co ON co.id = sce.course_id\n",
    "LEFT JOIN experiments_experimentdata AS exp ON exp.user_id = sce.user_id AND exp.experiment_id = :experiment_id\n",
    "WHERE\n",
    "        sce.created BETWEEN :enrollment_start AND CAST(:enrollment_end AS DATE)\n",
    "    AND exp.user_id IS NULL\n",
    "    AND cm.expiration_datetime > '2017-08-23'\n",
    "    AND co.self_paced\n",
    "    AND co.start <= :enrollment_start"
   ]
  },
  {
   "cell_type": "code",
   "execution_count": 13,
   "metadata": {},
   "outputs": [
    {
     "data": {
      "text/plain": [
       "20"
      ]
     },
     "execution_count": 13,
     "metadata": {},
     "output_type": "execute_result"
    }
   ],
   "source": [
    "len(enrollments)"
   ]
  },
  {
   "cell_type": "code",
   "execution_count": 14,
   "metadata": {
    "collapsed": true
   },
   "outputs": [],
   "source": [
    "import pandas as pd\n",
    "enrollments['content_availability'] = pd.to_datetime(enrollments.content_availability)"
   ]
  },
  {
   "cell_type": "code",
   "execution_count": 15,
   "metadata": {
    "collapsed": true
   },
   "outputs": [],
   "source": [
    "enrollments['cohort_availability'] = enrollments.content_availability.apply(\n",
    "    lambda ts: ts.date() - datetime.timedelta((ts.date().isoweekday() + 4) % 7))"
   ]
  },
  {
   "cell_type": "code",
   "execution_count": 16,
   "metadata": {
    "collapsed": true
   },
   "outputs": [],
   "source": [
    "unsegmented_users = enrollments[enrollments.cohort_availability == datetime.date(2017, 8, 2)][['user_id','course_id','cohort_availability','username']].copy()"
   ]
  },
  {
   "cell_type": "code",
   "execution_count": 17,
   "metadata": {
    "collapsed": true
   },
   "outputs": [],
   "source": [
    "unsegmented_users['segmentation_reason'] = 'enrollment'"
   ]
  },
  {
   "cell_type": "code",
   "execution_count": 18,
   "metadata": {
    "collapsed": true
   },
   "outputs": [],
   "source": [
    "import numpy as np\n",
    "unsegmented_users['segment'] = np.random.randint(num_user_segments, size=len(unsegmented_users))"
   ]
  },
  {
   "cell_type": "code",
   "execution_count": 19,
   "metadata": {},
   "outputs": [
    {
     "data": {
      "text/plain": [
       "course_id\n",
       "course-v1:UQx+IELTSx+2T2017              2\n",
       "course-v1:W3Cx+HTML5.0x+1T2017           1\n",
       "course-v1:IITBombayX+CS101.1x+1T2017     1\n",
       "course-v1:DelftX+DDA691x+1T2017          1\n",
       "course-v1:EPFLx+FndBioImg2x+1T2017       1\n",
       "course-v1:ETHx+ETHx-FC-03x+2T2017        1\n",
       "course-v1:ETHx+FC-01x+2016_T2            1\n",
       "course-v1:HarvardX+GSD1x+1T2017          1\n",
       "course-v1:HarvardX+GSE2x+2T2017          1\n",
       "course-v1:HarvardX+SW47x+2T2017          1\n",
       "course-v1:MichiganX+UX501x+3T2016        1\n",
       "course-v1:Microsoft+DAT203.1x+3T2017     1\n",
       "course-v1:Microsoft+DAT203.2x+3T2017     1\n",
       "course-v1:NotreDameX+DS101x+1T2017       1\n",
       "course-v1:PennX+ROBO1x+1T2017            1\n",
       "course-v1:PennX+SD1x+2T2017              1\n",
       "course-v1:UPValenciaX+BSP101x+1T2017     1\n",
       "course-v1:UPValenciaX+UNY201.x+2T2017    1\n",
       "course-v1:CornellX+ENGR2000X+1T2017      1\n",
       "Name: user_id, dtype: int64"
      ]
     },
     "execution_count": 19,
     "metadata": {},
     "output_type": "execute_result"
    }
   ],
   "source": [
    "unsegmented_users.groupby('course_id').user_id.count().sort_values(ascending=False)[:20]"
   ]
  },
  {
   "cell_type": "code",
   "execution_count": 20,
   "metadata": {
    "scrolled": true
   },
   "outputs": [
    {
     "data": {
      "text/plain": [
       "segment\n",
       "0    10\n",
       "1     1\n",
       "2     9\n",
       "Name: user_id, dtype: int64"
      ]
     },
     "execution_count": 20,
     "metadata": {},
     "output_type": "execute_result"
    }
   ],
   "source": [
    "unsegmented_users.groupby(['segment']).user_id.count()[:20]"
   ]
  },
  {
   "cell_type": "code",
   "execution_count": 21,
   "metadata": {},
   "outputs": [
    {
     "data": {
      "text/plain": [
       "cohort_availability\n",
       "2017-08-02    20\n",
       "Name: user_id, dtype: int64"
      ]
     },
     "execution_count": 21,
     "metadata": {},
     "output_type": "execute_result"
    }
   ],
   "source": [
    "unsegmented_users.groupby(['cohort_availability']).user_id.count()"
   ]
  },
  {
   "cell_type": "markdown",
   "metadata": {
    "collapsed": true
   },
   "source": [
    "# LMS"
   ]
  },
  {
   "cell_type": "code",
   "execution_count": 22,
   "metadata": {
    "collapsed": true
   },
   "outputs": [],
   "source": [
    "import edx_secret\n",
    "\n",
    "environment = 'prod'\n",
    "\n",
    "if environment == 'stage':\n",
    "    server_base_url = 'https://courses.stage.edx.org'\n",
    "elif environment == 'prod':\n",
    "    server_base_url = 'https://courses.edx.org'\n",
    "else:\n",
    "    raise(f'Unrecognized environment: {environment}')\n",
    "\n",
    "oauth2_client_id = edx_secret.read_secret_from_env_or_prompt(f'OPS_{environment.upper()}_EDX_OAUTH_CLIENT_ID')\n",
    "oauth2_client_secret = edx_secret.read_secret_from_env_or_prompt(f'OPS_{environment.upper()}_EDX_OAUTH_CLIENT_SECRET')"
   ]
  },
  {
   "cell_type": "code",
   "execution_count": 23,
   "metadata": {},
   "outputs": [
    {
     "name": "stdout",
     "output_type": "stream",
     "text": [
      "JWT access token expires at: 2017-08-22 00:59:48.673051\n",
      "Connected to https://courses.edx.org\n"
     ]
    }
   ],
   "source": [
    "from edx_rest_api_client.client import EdxRestApiClient\n",
    "\n",
    "access_token_url = server_base_url.strip('/') + '/oauth2/access_token/'\n",
    "access_token, expires = EdxRestApiClient.get_oauth_access_token(\n",
    "    access_token_url, oauth2_client_id, oauth2_client_secret, token_type='jwt')\n",
    "print('JWT access token expires at: {}'.format(expires))\n",
    "\n",
    "experiments_api_url = server_base_url.strip('/') + '/api/experiments/v0/'\n",
    "client = EdxRestApiClient(experiments_api_url, jwt=access_token)\n",
    "\n",
    "print(f'Connected to {server_base_url}')"
   ]
  },
  {
   "cell_type": "markdown",
   "metadata": {},
   "source": [
    "## Insert User Data"
   ]
  },
  {
   "cell_type": "code",
   "execution_count": 75,
   "metadata": {},
   "outputs": [
    {
     "data": {
      "application/vnd.jupyter.widget-view+json": {
       "model_id": "7df9c09fc358474d87cf46a7c43549ae"
      }
     },
     "metadata": {},
     "output_type": "display_data"
    },
    {
     "data": {
      "application/vnd.jupyter.widget-view+json": {
       "model_id": "6fb9615c5c56444eb6abe1ade90184bb"
      }
     },
     "metadata": {},
     "output_type": "display_data"
    },
    {
     "data": {
      "application/vnd.jupyter.widget-view+json": {
       "model_id": "2ef10dbc67cc4630a43781e57b6c3754"
      }
     },
     "metadata": {},
     "output_type": "display_data"
    },
    {
     "name": "stdout",
     "output_type": "stream",
     "text": [
      "{'non_field_errors': 41}\n"
     ]
    }
   ],
   "source": [
    "import json\n",
    "from pprint import pprint as pp\n",
    "from slumber.exceptions import HttpClientError, HttpServerError\n",
    "import ipywidgets as widgets\n",
    "from IPython.display import display\n",
    "\n",
    "data = [{\n",
    "        'experiment_id': experiment_id,\n",
    "        'user': row.username,\n",
    "        'key': 'cohort_availability_date.' + row.course_id,\n",
    "        'value': json.dumps({\n",
    "            'cohort_availability': datetime.datetime.strftime(row.cohort_availability, '%Y-%m-%dT%H:%M:%S.000Z'),\n",
    "            'segment': int(row.segment),\n",
    "            'segmentation_reason': row.segmentation_reason\n",
    "        })\n",
    "    } for row in unsegmented_users.itertuples()]\n",
    "\n",
    "progress = widgets.IntProgress(min=0, max=len(data))\n",
    "display(progress)\n",
    "\n",
    "succeeded = widgets.IntText(value=0, description='Succeeded: ')\n",
    "display(succeeded)\n",
    "failed = widgets.IntText(value=0, description='Failed: ')\n",
    "display(failed)\n",
    "\n",
    "from collections import defaultdict\n",
    "errors = defaultdict(int)\n",
    "\n",
    "failed_learners = []\n",
    "for learner in data:\n",
    "    try:\n",
    "        #client.data.post(learner)\n",
    "        succeeded.value += 1\n",
    "    except (HttpClientError, HttpServerError) as ex:\n",
    "        failed.value += 1\n",
    "        error = ex.response.json()\n",
    "        failed_learners.append((learner, error))\n",
    "        for ek, ev in error.items():\n",
    "            errors[ek] += len(ev)\n",
    "    finally:\n",
    "        progress.value += 1\n",
    "\n",
    "pp(dict(errors))"
   ]
  }
 ],
 "metadata": {
  "kernelspec": {
   "display_name": "Python 3",
   "language": "python",
   "name": "python3"
  },
  "language_info": {
   "codemirror_mode": {
    "name": "ipython",
    "version": 3
   },
   "file_extension": ".py",
   "mimetype": "text/x-python",
   "name": "python",
   "nbconvert_exporter": "python",
   "pygments_lexer": "ipython3",
   "version": "3.6.1"
  }
 },
 "nbformat": 4,
 "nbformat_minor": 2
}
