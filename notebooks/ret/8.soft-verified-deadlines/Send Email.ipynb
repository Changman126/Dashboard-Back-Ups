{
 "cells": [
  {
   "cell_type": "markdown",
   "metadata": {
    "collapsed": true
   },
   "source": [
    "# Load Email Addresses"
   ]
  },
  {
   "cell_type": "code",
   "execution_count": 1,
   "metadata": {
    "collapsed": true
   },
   "outputs": [],
   "source": [
    "experiment_id = 8"
   ]
  },
  {
   "cell_type": "code",
   "execution_count": 2,
   "metadata": {
    "collapsed": true
   },
   "outputs": [],
   "source": [
    "exclude_course_ids = (\n",
    "    'course-v1:IIMBx+AC103x+2T2017',\n",
    "    'course-v1:AdelaideX+Project101x+1T2017',\n",
    "    'course-v1:DelftX+LfE101x+2T2017',\n",
    "    'course-v1:ColumbiaX+DS101X+1T2017',\n",
    "    'course-v1:PennX+SD2x+2T2017',\n",
    "    'course-v1:PennX+SD1x+2T2017',\n",
    "    'course-v1:HarvardX+PH525.1x+2T2017',\n",
    "    'course-v1:MichiganX+UX501x+3T2016',\n",
    "    'course-v1:UBCx+Marketing1x+3T2015',\n",
    "    'course-v1:DelftX+CTB3365DWx+2T2017',\n",
    ")"
   ]
  },
  {
   "cell_type": "code",
   "execution_count": 3,
   "metadata": {
    "collapsed": true
   },
   "outputs": [],
   "source": [
    "%%query [lms] (experiment_id, exclude_course_ids) -> users\n",
    "SELECT\n",
    "    exp.user_id,\n",
    "    exp.course_id,\n",
    "    exp.value AS json_data,\n",
    "    au.email AS user_email,\n",
    "    CASE WHEN COALESCE(aup.name, '') = '' THEN au.username ELSE aup.name END AS student_name,\n",
    "    sce.mode AS enrollment_mode,\n",
    "    cm.sku,\n",
    "    cm.min_price AS price\n",
    "FROM\n",
    "(\n",
    "    SELECT\n",
    "        user_id,\n",
    "        SUBSTRING(`key` FROM 26) AS course_id,\n",
    "        value\n",
    "    FROM\n",
    "        experiments_experimentdata\n",
    "    WHERE\n",
    "        experiment_id = :experiment_id\n",
    ") AS exp\n",
    "JOIN\n",
    "    auth_user au ON au.id = exp.user_id\n",
    "JOIN\n",
    "    auth_userprofile aup ON aup.user_id = exp.user_id\n",
    "LEFT JOIN\n",
    "    bulk_email_optout AS eo ON eo.user_id = exp.user_id\n",
    "LEFT JOIN\n",
    "    student_courseenrollment AS sce ON sce.user_id = exp.user_id AND sce.course_id = exp.course_id\n",
    "LEFT JOIN\n",
    "    course_modes_coursemode AS cm ON cm.course_id = exp.course_id AND cm.mode_slug = 'verified'\n",
    "WHERE\n",
    "        eo.user_id IS NULL\n",
    "    AND sce.is_active = 1\n",
    "    AND sce.mode = 'audit'\n",
    "    AND exp.course_id NOT IN :exclude_course_ids"
   ]
  },
  {
   "cell_type": "code",
   "execution_count": 4,
   "metadata": {
    "collapsed": true
   },
   "outputs": [],
   "source": [
    "import ciso8601\n",
    "import json\n",
    "import datetime\n",
    "import math\n",
    "\n",
    "today_utc = datetime.datetime.utcnow().date()\n",
    "\n",
    "users['segment'] = users['json_data'].apply(lambda value: json.loads(value)['segment'])\n",
    "users['cohort_availability'] = users['json_data'].apply(lambda value: ciso8601.parse_datetime(json.loads(value)['cohort_availability']).date())\n",
    "users['segmentation_reason'] = users['json_data'].apply(lambda value: json.loads(value).get('segmentation_reason', 'visit'))\n",
    "users['verified_upgrade_deadline'] = users['cohort_availability'].apply(lambda d: d + datetime.timedelta(days=20))"
   ]
  },
  {
   "cell_type": "code",
   "execution_count": 5,
   "metadata": {
    "collapsed": true
   },
   "outputs": [],
   "source": [
    "%%vertica -> course_titles\n",
    "SELECT\n",
    "    course_id,\n",
    "    catalog_course_title AS course_name,\n",
    "    partner_short_code\n",
    "FROM\n",
    "    production.d_course"
   ]
  },
  {
   "cell_type": "code",
   "execution_count": 6,
   "metadata": {},
   "outputs": [
    {
     "data": {
      "text/html": [
       "<div>\n",
       "<style>\n",
       "    .dataframe thead tr:only-child th {\n",
       "        text-align: right;\n",
       "    }\n",
       "\n",
       "    .dataframe thead th {\n",
       "        text-align: left;\n",
       "    }\n",
       "\n",
       "    .dataframe tbody tr th {\n",
       "        vertical-align: top;\n",
       "    }\n",
       "</style>\n",
       "<table border=\"1\" class=\"dataframe\">\n",
       "  <thead>\n",
       "    <tr style=\"text-align: right;\">\n",
       "      <th></th>\n",
       "      <th>course_id</th>\n",
       "      <th>course_name</th>\n",
       "      <th>partner_short_code</th>\n",
       "    </tr>\n",
       "  </thead>\n",
       "  <tbody>\n",
       "    <tr>\n",
       "      <th>0</th>\n",
       "      <td>AdelaideX/HumBio101x/1T2015</td>\n",
       "      <td>Essential Human Biology: Cells and Tissues</td>\n",
       "      <td>edx</td>\n",
       "    </tr>\n",
       "    <tr>\n",
       "      <th>1</th>\n",
       "      <td>ak/akSState/1T2014</td>\n",
       "      <td>TestAK</td>\n",
       "      <td>edx</td>\n",
       "    </tr>\n",
       "    <tr>\n",
       "      <th>2</th>\n",
       "      <td>ANUx/ANU-ASTRO1x/1T2014</td>\n",
       "      <td>Greatest Unsolved Mysteries of the Universe</td>\n",
       "      <td>edx</td>\n",
       "    </tr>\n",
       "    <tr>\n",
       "      <th>3</th>\n",
       "      <td>ANUx/ANU-ASTRO2x/2T2014</td>\n",
       "      <td>Exoplanets</td>\n",
       "      <td>edx</td>\n",
       "    </tr>\n",
       "    <tr>\n",
       "      <th>4</th>\n",
       "      <td>ANUx/ANU-ASTRO3x/4T2014</td>\n",
       "      <td>The Violent Universe</td>\n",
       "      <td>edx</td>\n",
       "    </tr>\n",
       "  </tbody>\n",
       "</table>\n",
       "</div>"
      ],
      "text/plain": [
       "                     course_id                                  course_name  \\\n",
       "0  AdelaideX/HumBio101x/1T2015   Essential Human Biology: Cells and Tissues   \n",
       "1           ak/akSState/1T2014                                       TestAK   \n",
       "2      ANUx/ANU-ASTRO1x/1T2014  Greatest Unsolved Mysteries of the Universe   \n",
       "3      ANUx/ANU-ASTRO2x/2T2014                                   Exoplanets   \n",
       "4      ANUx/ANU-ASTRO3x/4T2014                         The Violent Universe   \n",
       "\n",
       "  partner_short_code  \n",
       "0                edx  \n",
       "1                edx  \n",
       "2                edx  \n",
       "3                edx  \n",
       "4                edx  "
      ]
     },
     "execution_count": 6,
     "metadata": {},
     "output_type": "execute_result"
    }
   ],
   "source": [
    "course_titles.head()"
   ]
  },
  {
   "cell_type": "code",
   "execution_count": 7,
   "metadata": {
    "collapsed": true
   },
   "outputs": [],
   "source": [
    "user_filter = (users.segment > 0) & (users.cohort_availability == datetime.date(2017, 8, 2))"
   ]
  },
  {
   "cell_type": "code",
   "execution_count": 8,
   "metadata": {
    "collapsed": true
   },
   "outputs": [],
   "source": [
    "import pandas as pd\n",
    "\n",
    "treatment_users = pd.merge(\n",
    "    users[user_filter],\n",
    "    course_titles,\n",
    "    on='course_id',\n",
    "    how='inner'\n",
    ")"
   ]
  },
  {
   "cell_type": "code",
   "execution_count": 9,
   "metadata": {
    "collapsed": true
   },
   "outputs": [],
   "source": [
    "assert len(users[user_filter]) == len(treatment_users)"
   ]
  },
  {
   "cell_type": "code",
   "execution_count": 10,
   "metadata": {
    "scrolled": true
   },
   "outputs": [
    {
     "data": {
      "text/plain": [
       "59608"
      ]
     },
     "execution_count": 10,
     "metadata": {},
     "output_type": "execute_result"
    }
   ],
   "source": [
    "len(treatment_users)"
   ]
  },
  {
   "cell_type": "code",
   "execution_count": 11,
   "metadata": {},
   "outputs": [
    {
     "data": {
      "text/plain": [
       "cohort_availability\n",
       "2017-08-02    59608\n",
       "Name: user_id, dtype: int64"
      ]
     },
     "execution_count": 11,
     "metadata": {},
     "output_type": "execute_result"
    }
   ],
   "source": [
    "treatment_users.groupby('cohort_availability').user_id.count()"
   ]
  },
  {
   "cell_type": "code",
   "execution_count": 12,
   "metadata": {
    "collapsed": true
   },
   "outputs": [],
   "source": [
    "week_emails = treatment_users[treatment_users.partner_short_code == 'edx']"
   ]
  },
  {
   "cell_type": "code",
   "execution_count": 13,
   "metadata": {},
   "outputs": [
    {
     "data": {
      "text/plain": [
       "59608"
      ]
     },
     "execution_count": 13,
     "metadata": {},
     "output_type": "execute_result"
    }
   ],
   "source": [
    "len(week_emails)"
   ]
  },
  {
   "cell_type": "markdown",
   "metadata": {},
   "source": [
    "# Set up Sailthru Infrastructure"
   ]
  },
  {
   "cell_type": "code",
   "execution_count": 14,
   "metadata": {
    "collapsed": true
   },
   "outputs": [],
   "source": [
    "import os\n",
    "sailthru_api_key = os.getenv('OPS_SAILTHRU_API_KEY')\n",
    "sailthru_api_secret = os.getenv('OPS_SAILTHRU_API_SECRET')\n",
    "\n",
    "import getpass\n",
    "if sailthru_api_key is None:\n",
    "    sailthru_api_key = getpass.getpass(prompt='sailthru_api_key')\n",
    "if sailthru_api_secret is None:\n",
    "    sailthru_api_secret = getpass.getpass(prompt='sailthru_api_secret')"
   ]
  },
  {
   "cell_type": "code",
   "execution_count": 15,
   "metadata": {
    "collapsed": true
   },
   "outputs": [],
   "source": [
    "TEMPLATE_NAME = 'RET Self-Paced Verification Reminder'\n",
    "MAX_BATCH_SIZE = 100"
   ]
  },
  {
   "cell_type": "code",
   "execution_count": 16,
   "metadata": {
    "collapsed": true
   },
   "outputs": [],
   "source": [
    "from sailthru.sailthru_client import SailthruClient\n",
    "\n",
    "sc = sailthru_client = SailthruClient(sailthru_api_key, sailthru_api_secret)"
   ]
  },
  {
   "cell_type": "code",
   "execution_count": 17,
   "metadata": {
    "collapsed": true
   },
   "outputs": [],
   "source": [
    "import itertools\n",
    "import time\n",
    "from pprint import pprint as pp\n",
    "import numpy as np\n",
    "from functools import partial\n",
    "import json\n",
    "from urllib.parse import quote_plus\n",
    "import textwrap\n",
    "import ipywidgets as widgets\n",
    "from IPython.display import display\n",
    "\n",
    "BASKET_URL_FORMAT = 'https://ecommerce.edx.org/basket/add/?sku={sku}'\n",
    "\n",
    "def as_template_vars(row):\n",
    "    row_vals = row._asdict()\n",
    "    \n",
    "    assert row_vals.get('student_name'), f'student_name is empty for {row_vals}'\n",
    "    assert row_vals.get('course_name'), f'course_name is empty for {row_vals}'\n",
    "    assert row_vals.get('course_id'), f'course_id is empty for {row_vals}'\n",
    "    assert row_vals.get('sku'), f'sku is empty for {row_vals}'\n",
    "    assert row_vals.get('verified_upgrade_deadline'), f'verified upgrade deadline is empty for {row_vals}'\n",
    "    \n",
    "    template_vars = {\n",
    "        'ret_pacing_course_name': row.course_name,\n",
    "        'ret_pacing_course_id': row.course_id,\n",
    "        'ret_pacing_subject_line': 'Highlight your success in {course_name}'.format(**row_vals),\n",
    "        'ret_pacing_preview_text': '',\n",
    "        'ret_pacing_from_name': row.course_name,\n",
    "        'ret_pacing_student_name': row.student_name,\n",
    "        'ret_pacing_upgrade_url': BASKET_URL_FORMAT.format(sku=row.sku),\n",
    "        'ret_pacing_verified_upgrade_deadline': row.verified_upgrade_deadline.strftime('%B %d, %Y'),\n",
    "        'ret_pacing_price': f'${row.price}.00',\n",
    "    }\n",
    "\n",
    "    return template_vars\n",
    "\n",
    "class SailthruEmail(object):\n",
    "    \n",
    "    def __init__(self, sailthru_client, template_vars=None):\n",
    "        self.sailthru_client = SailthruClient(sailthru_api_key, sailthru_api_secret)\n",
    "        self.template_vars = template_vars or {}\n",
    "        \n",
    "    def send_to_users(self, var_overrides, batch_size=MAX_BATCH_SIZE, is_test=False):\n",
    "        # This is the max batch size that Sailthru supports\n",
    "        assert(batch_size <= MAX_BATCH_SIZE)\n",
    "        \n",
    "        progress = widgets.IntProgress(min=0, max=len(var_overrides))\n",
    "        display(progress)\n",
    "        succeeded = widgets.IntText(value=0, description='Sent: ')\n",
    "        display(succeeded)\n",
    "        batch_iterator = iter(var_overrides.groupby(np.arange(len(var_overrides))//batch_size))\n",
    "        try:\n",
    "            for k, batch in batch_iterator:\n",
    "                self._send_batch(batch, is_test=is_test)\n",
    "                progress.value += len(batch)\n",
    "                succeeded.value += len(batch)\n",
    "        except Exception as exc:\n",
    "            print(exc)\n",
    "        return batch_iterator\n",
    "            \n",
    "    def _send_batch(self, batch, is_test=False):\n",
    "        self.wait_for_rate_limit()\n",
    "        \n",
    "        # Build the template vars for every user in the batch\n",
    "        batch_vars = {\n",
    "            row.user_email: {\n",
    "                **self.template_vars,\n",
    "                **as_template_vars(row)\n",
    "            }\n",
    "            for row in batch.itertuples()\n",
    "        }\n",
    "\n",
    "        for email, override in batch_vars.items():\n",
    "            assert(email)\n",
    "            assert(override['ret_pacing_course_id'])\n",
    "            assert(override['ret_pacing_subject_line'])\n",
    "            assert(override['ret_pacing_from_name'])\n",
    "        \n",
    "        if SEND_EMAIL:\n",
    "            options = {}\n",
    "            if is_test:\n",
    "                options['test'] = 1\n",
    "                \n",
    "            emails = [row.user_email for row in batch.itertuples()]\n",
    "            \n",
    "            response = sc.multi_send(\n",
    "                TEMPLATE_NAME,\n",
    "                emails,\n",
    "                evars=batch_vars,\n",
    "                options=options\n",
    "            )\n",
    "            if response.is_ok():\n",
    "                body = response.get_body()\n",
    "                print(f'Send successful to {body.get(\"sent_count\", 1)} users')\n",
    "            else:\n",
    "                error = response.get_error()\n",
    "                print(\"Error: \" + error.get_message())\n",
    "                print(\"Status Code: \" + str(response.get_status_code()))\n",
    "                print(\"Error Code: \" + str(error.get_error_code()))\n",
    "        else:\n",
    "            batch_size = len(batch)\n",
    "#             print(\n",
    "#                 f'Would have sent an email{\" [TEST]\" if is_test else \"\"}'\n",
    "#                 f' using the template \"{TEMPLATE_NAME}\" to {batch_size} users'\n",
    "#             )\n",
    "#             print(json.dumps([row.user_email for row in batch.itertuples()], indent=4))\n",
    "#             print(json.dumps(batch_vars, indent=4))\n",
    "\n",
    "    def wait_for_rate_limit(self):\n",
    "        rate_limit_info = self.sailthru_client.get_last_rate_limit_info('send', 'POST')\n",
    "        if rate_limit_info is not None:\n",
    "            limit = int(rate_limit_info['limit'])\n",
    "            remaining = int(rate_limit_info['remaining'])\n",
    "            reset_timestamp = int(rate_limit_info['reset'])\n",
    "            seconds_till_reset = reset_timestamp - time.time()\n",
    "            if remaining <= 0 and seconds_till_reset > 0:\n",
    "                print(f'Rate limit exceeded, sleeping for {seconds_till_reset} seconds')\n",
    "                time.sleep(seconds_till_reset + 1)"
   ]
  },
  {
   "cell_type": "code",
   "execution_count": 18,
   "metadata": {
    "collapsed": true
   },
   "outputs": [],
   "source": [
    "email = SailthruEmail(\n",
    "    sailthru_client=sailthru_client,\n",
    "    template_vars={\n",
    "    }\n",
    ")"
   ]
  },
  {
   "cell_type": "markdown",
   "metadata": {},
   "source": [
    "# Sending emails\n",
    "\n",
    "1. First send to RET\n",
    "2. Send to edX employees\n",
    "3. Set SEND_EMAIL=False\n",
    "4. Call the method to send to all learners - this will validate all of template vars\n",
    "5. Set SEND_EMAIL=True\n",
    "6. Send the email to all learers"
   ]
  },
  {
   "cell_type": "code",
   "execution_count": 31,
   "metadata": {
    "collapsed": true
   },
   "outputs": [],
   "source": [
    "ret_emails = {\n",
    "    'gabe@edx.org': 'Gabe Mulley',\n",
    "#     'cblackburn@edx.org': 'Clinton Blackburn',\n",
    "#     'cale@edx.org': 'Calen Pennington',\n",
    "#     'nasthagiri@edx.org': 'Nimisha Asthagiri',\n",
    "#     'aboehm@edx.org': 'Alyssa Boehm',\n",
    "#     'ddomingos@edx.org': 'Darren Domingos',\n",
    "#     'kwillemin@edx.org': 'Katy Willemin',\n",
    "    #'jzheng@edx.org': 'Jeannie Zheng',\n",
    "}"
   ]
  },
  {
   "cell_type": "code",
   "execution_count": 32,
   "metadata": {
    "collapsed": true
   },
   "outputs": [],
   "source": [
    "template = week_emails[week_emails.course_id=='course-v1:Microsoft+DEV204.1x+2T2017'].head(1)"
   ]
  },
  {
   "cell_type": "code",
   "execution_count": 33,
   "metadata": {
    "collapsed": true
   },
   "outputs": [],
   "source": [
    "import pandas as pd\n",
    "result = pd.DataFrame(columns=template.columns)\n",
    "for email_address, name in ret_emails.items():\n",
    "    tmp = template.copy()\n",
    "    tmp['user_email'] = email_address\n",
    "    tmp['student_name'] = name\n",
    "    result = result.append(tmp)"
   ]
  },
  {
   "cell_type": "code",
   "execution_count": 34,
   "metadata": {
    "collapsed": true
   },
   "outputs": [],
   "source": [
    "SEND_EMAIL = True"
   ]
  },
  {
   "cell_type": "code",
   "execution_count": 35,
   "metadata": {
    "scrolled": false
   },
   "outputs": [
    {
     "data": {
      "application/vnd.jupyter.widget-view+json": {
       "model_id": "0be82fb02fee458288ee49d445ff4dca"
      }
     },
     "metadata": {},
     "output_type": "display_data"
    },
    {
     "data": {
      "application/vnd.jupyter.widget-view+json": {
       "model_id": "3b2ad55461b741b58af0efc1ea36bd09"
      }
     },
     "metadata": {},
     "output_type": "display_data"
    },
    {
     "name": "stdout",
     "output_type": "stream",
     "text": [
      "Send successful to 1 users\n"
     ]
    },
    {
     "data": {
      "text/plain": [
       "<generator object BaseGrouper.get_iterator at 0x7f03fee0ef10>"
      ]
     },
     "execution_count": 35,
     "metadata": {},
     "output_type": "execute_result"
    }
   ],
   "source": [
    "email.send_to_users(result, is_test=True)"
   ]
  },
  {
   "cell_type": "code",
   "execution_count": 126,
   "metadata": {
    "collapsed": true
   },
   "outputs": [],
   "source": [
    "edx_emails = week_emails[week_emails.user_email.apply(lambda x: '@edx.org' in x)]"
   ]
  },
  {
   "cell_type": "code",
   "execution_count": 127,
   "metadata": {},
   "outputs": [
    {
     "name": "stdout",
     "output_type": "stream",
     "text": [
      "Send successful to 21 users\n"
     ]
    }
   ],
   "source": [
    "#email.send_to_users(edx_emails, is_test=True)"
   ]
  },
  {
   "cell_type": "code",
   "execution_count": 36,
   "metadata": {},
   "outputs": [
    {
     "data": {
      "application/vnd.jupyter.widget-view+json": {
       "model_id": "624b5e84f3944171804028e2429682bf"
      }
     },
     "metadata": {},
     "output_type": "display_data"
    },
    {
     "data": {
      "application/vnd.jupyter.widget-view+json": {
       "model_id": "9be93d955be24426adae0c8c3f10d148"
      }
     },
     "metadata": {},
     "output_type": "display_data"
    },
    {
     "name": "stdout",
     "output_type": "stream",
     "text": [
      "Send successful to 100 users\n",
      "Send successful to 100 users\n",
      "Send successful to 100 users\n",
      "Send successful to 100 users\n",
      "Send successful to 99 users\n",
      "Send successful to 100 users\n",
      "Send successful to 100 users\n",
      "Send successful to 100 users\n",
      "Send successful to 100 users\n",
      "Send successful to 100 users\n",
      "Send successful to 100 users\n",
      "Send successful to 100 users\n",
      "Send successful to 100 users\n",
      "Send successful to 100 users\n",
      "Send successful to 100 users\n",
      "Send successful to 100 users\n",
      "Send successful to 100 users\n",
      "Send successful to 100 users\n",
      "Send successful to 100 users\n",
      "Send successful to 99 users\n",
      "Send successful to 99 users\n",
      "Send successful to 100 users\n",
      "Send successful to 99 users\n",
      "Send successful to 100 users\n",
      "Send successful to 100 users\n",
      "Send successful to 100 users\n",
      "Send successful to 100 users\n",
      "Send successful to 100 users\n",
      "Send successful to 100 users\n",
      "Send successful to 100 users\n",
      "Send successful to 100 users\n",
      "Send successful to 100 users\n",
      "Send successful to 100 users\n",
      "Send successful to 99 users\n",
      "Send successful to 100 users\n",
      "Send successful to 100 users\n",
      "Send successful to 100 users\n",
      "Send successful to 100 users\n",
      "Send successful to 99 users\n",
      "Send successful to 100 users\n",
      "Send successful to 100 users\n",
      "Send successful to 100 users\n",
      "Send successful to 99 users\n",
      "Send successful to 100 users\n",
      "Send successful to 100 users\n",
      "Send successful to 100 users\n",
      "Send successful to 100 users\n",
      "Send successful to 100 users\n",
      "Send successful to 100 users\n",
      "Send successful to 99 users\n",
      "Send successful to 98 users\n",
      "Send successful to 100 users\n",
      "Send successful to 100 users\n",
      "Send successful to 100 users\n",
      "Send successful to 99 users\n",
      "Send successful to 100 users\n",
      "Send successful to 99 users\n",
      "Send successful to 100 users\n",
      "Send successful to 100 users\n",
      "Send successful to 100 users\n",
      "Send successful to 100 users\n",
      "Send successful to 100 users\n",
      "Send successful to 100 users\n",
      "Send successful to 100 users\n",
      "Send successful to 100 users\n",
      "Send successful to 100 users\n",
      "Send successful to 100 users\n",
      "Send successful to 100 users\n",
      "Send successful to 100 users\n",
      "Send successful to 100 users\n",
      "Send successful to 100 users\n",
      "Send successful to 100 users\n",
      "Send successful to 100 users\n",
      "Send successful to 100 users\n",
      "Send successful to 100 users\n",
      "Send successful to 100 users\n",
      "Send successful to 99 users\n",
      "Send successful to 100 users\n",
      "Send successful to 100 users\n",
      "Send successful to 100 users\n",
      "Send successful to 100 users\n",
      "Send successful to 99 users\n",
      "Send successful to 100 users\n",
      "Send successful to 99 users\n",
      "Send successful to 99 users\n",
      "Send successful to 100 users\n",
      "Send successful to 99 users\n",
      "Send successful to 100 users\n",
      "Send successful to 100 users\n",
      "Send successful to 98 users\n",
      "Send successful to 100 users\n",
      "Send successful to 100 users\n",
      "Send successful to 99 users\n",
      "Send successful to 99 users\n",
      "Send successful to 100 users\n",
      "Send successful to 100 users\n",
      "Send successful to 100 users\n",
      "Send successful to 99 users\n",
      "Send successful to 100 users\n",
      "Send successful to 99 users\n",
      "Send successful to 100 users\n",
      "Send successful to 100 users\n",
      "Send successful to 99 users\n",
      "Send successful to 100 users\n",
      "Send successful to 100 users\n",
      "Send successful to 100 users\n",
      "Send successful to 100 users\n",
      "Send successful to 100 users\n",
      "Send successful to 100 users\n",
      "Send successful to 100 users\n",
      "Send successful to 100 users\n",
      "Send successful to 100 users\n",
      "Send successful to 100 users\n",
      "Send successful to 100 users\n",
      "Send successful to 100 users\n",
      "Send successful to 100 users\n",
      "Send successful to 100 users\n",
      "Send successful to 100 users\n",
      "Send successful to 100 users\n",
      "Send successful to 100 users\n",
      "Send successful to 100 users\n",
      "Send successful to 100 users\n",
      "Send successful to 100 users\n",
      "Send successful to 100 users\n",
      "Send successful to 100 users\n",
      "Send successful to 100 users\n",
      "Send successful to 100 users\n",
      "Send successful to 100 users\n",
      "Send successful to 100 users\n",
      "Send successful to 100 users\n",
      "Send successful to 100 users\n",
      "Send successful to 100 users\n",
      "Send successful to 100 users\n",
      "Send successful to 100 users\n",
      "Send successful to 100 users\n",
      "Send successful to 100 users\n",
      "Send successful to 100 users\n",
      "Send successful to 100 users\n",
      "Send successful to 99 users\n",
      "Send successful to 100 users\n",
      "Send successful to 100 users\n",
      "Send successful to 100 users\n",
      "Send successful to 100 users\n",
      "Send successful to 99 users\n",
      "Send successful to 100 users\n",
      "Send successful to 99 users\n",
      "Send successful to 100 users\n",
      "Send successful to 100 users\n",
      "Send successful to 99 users\n",
      "Send successful to 99 users\n",
      "Send successful to 100 users\n",
      "Send successful to 100 users\n",
      "Send successful to 99 users\n",
      "Send successful to 98 users\n",
      "Send successful to 100 users\n",
      "Send successful to 100 users\n",
      "Send successful to 100 users\n",
      "Send successful to 99 users\n",
      "Send successful to 100 users\n",
      "Send successful to 99 users\n",
      "Send successful to 100 users\n",
      "Send successful to 100 users\n",
      "Send successful to 100 users\n",
      "Send successful to 99 users\n",
      "Send successful to 99 users\n",
      "Send successful to 100 users\n",
      "Send successful to 100 users\n",
      "Send successful to 100 users\n",
      "Send successful to 100 users\n",
      "Send successful to 100 users\n",
      "Send successful to 100 users\n",
      "Send successful to 100 users\n",
      "Send successful to 100 users\n",
      "Send successful to 100 users\n",
      "Send successful to 100 users\n",
      "Send successful to 99 users\n",
      "Send successful to 100 users\n",
      "Send successful to 99 users\n",
      "Send successful to 100 users\n",
      "Send successful to 99 users\n",
      "Send successful to 100 users\n",
      "Send successful to 100 users\n",
      "Send successful to 100 users\n",
      "Send successful to 100 users\n",
      "Send successful to 100 users\n",
      "Send successful to 100 users\n",
      "Send successful to 100 users\n",
      "Send successful to 99 users\n",
      "Send successful to 100 users\n",
      "Send successful to 100 users\n",
      "Send successful to 100 users\n",
      "Send successful to 100 users\n",
      "Send successful to 100 users\n",
      "Send successful to 100 users\n",
      "Send successful to 100 users\n",
      "Send successful to 100 users\n",
      "Send successful to 100 users\n",
      "Send successful to 100 users\n",
      "Send successful to 100 users\n",
      "Send successful to 100 users\n",
      "Send successful to 100 users\n",
      "Send successful to 100 users\n",
      "Send successful to 100 users\n",
      "Send successful to 100 users\n",
      "Send successful to 100 users\n",
      "Send successful to 100 users\n",
      "Send successful to 100 users\n",
      "Send successful to 100 users\n",
      "Send successful to 99 users\n",
      "Send successful to 100 users\n",
      "Send successful to 100 users\n",
      "Send successful to 100 users\n",
      "Send successful to 100 users\n",
      "Send successful to 100 users\n",
      "Send successful to 100 users\n",
      "Send successful to 100 users\n",
      "Send successful to 100 users\n",
      "Send successful to 100 users\n",
      "Send successful to 100 users\n",
      "Send successful to 100 users\n",
      "Send successful to 100 users\n",
      "Send successful to 100 users\n",
      "Send successful to 99 users\n",
      "Send successful to 100 users\n",
      "Send successful to 100 users\n",
      "Send successful to 100 users\n",
      "Send successful to 99 users\n",
      "Send successful to 100 users\n",
      "Send successful to 100 users\n",
      "Send successful to 100 users\n",
      "Send successful to 100 users\n",
      "Send successful to 100 users\n",
      "Send successful to 99 users\n",
      "Send successful to 100 users\n",
      "Send successful to 100 users\n",
      "Send successful to 100 users\n",
      "Send successful to 100 users\n",
      "Send successful to 100 users\n",
      "Send successful to 100 users\n",
      "Send successful to 100 users\n",
      "Send successful to 100 users\n",
      "Send successful to 100 users\n",
      "Send successful to 99 users\n",
      "Send successful to 99 users\n",
      "Send successful to 99 users\n",
      "Send successful to 99 users\n",
      "Send successful to 100 users\n",
      "Send successful to 99 users\n",
      "Send successful to 100 users\n",
      "Send successful to 100 users\n",
      "Send successful to 100 users\n",
      "Send successful to 100 users\n",
      "Send successful to 100 users\n",
      "Send successful to 100 users\n",
      "Send successful to 100 users\n",
      "Send successful to 100 users\n",
      "Send successful to 100 users\n",
      "Send successful to 100 users\n",
      "Send successful to 100 users\n",
      "Send successful to 99 users\n",
      "Send successful to 100 users\n",
      "Send successful to 100 users\n",
      "Send successful to 100 users\n",
      "Send successful to 100 users\n",
      "Send successful to 100 users\n",
      "Send successful to 100 users\n",
      "Send successful to 100 users\n",
      "Send successful to 100 users\n",
      "Send successful to 100 users\n",
      "Send successful to 99 users\n",
      "Send successful to 100 users\n",
      "Send successful to 100 users\n",
      "Send successful to 100 users\n",
      "Send successful to 99 users\n",
      "Send successful to 100 users\n",
      "Send successful to 100 users\n",
      "Send successful to 100 users\n",
      "Send successful to 100 users\n",
      "Send successful to 100 users\n",
      "Send successful to 100 users\n",
      "Send successful to 100 users\n",
      "Send successful to 100 users\n",
      "Send successful to 100 users\n",
      "Send successful to 100 users\n",
      "Send successful to 100 users\n"
     ]
    },
    {
     "name": "stdout",
     "output_type": "stream",
     "text": [
      "Send successful to 100 users\n",
      "Send successful to 100 users\n",
      "Send successful to 100 users\n",
      "Send successful to 99 users\n",
      "Send successful to 100 users\n",
      "Send successful to 100 users\n",
      "Send successful to 100 users\n",
      "Send successful to 100 users\n",
      "Send successful to 100 users\n",
      "Send successful to 100 users\n",
      "Send successful to 100 users\n",
      "Send successful to 99 users\n",
      "Send successful to 100 users\n",
      "Send successful to 100 users\n",
      "Send successful to 100 users\n",
      "Send successful to 100 users\n",
      "Send successful to 100 users\n",
      "Send successful to 100 users\n",
      "Send successful to 100 users\n",
      "Send successful to 100 users\n",
      "Send successful to 100 users\n",
      "Send successful to 100 users\n",
      "Send successful to 100 users\n",
      "Send successful to 100 users\n",
      "Send successful to 100 users\n",
      "Send successful to 100 users\n",
      "Send successful to 100 users\n",
      "Send successful to 100 users\n",
      "Send successful to 100 users\n",
      "Send successful to 100 users\n",
      "Send successful to 100 users\n",
      "Send successful to 100 users\n",
      "Send successful to 100 users\n",
      "Send successful to 100 users\n",
      "Send successful to 99 users\n",
      "Send successful to 100 users\n",
      "Send successful to 100 users\n",
      "Send successful to 100 users\n",
      "Send successful to 99 users\n",
      "Send successful to 100 users\n",
      "Send successful to 100 users\n",
      "Send successful to 99 users\n",
      "Send successful to 100 users\n",
      "Send successful to 100 users\n",
      "Send successful to 99 users\n",
      "Send successful to 100 users\n",
      "Send successful to 100 users\n",
      "Send successful to 100 users\n",
      "Send successful to 99 users\n",
      "Send successful to 100 users\n",
      "Send successful to 100 users\n",
      "Send successful to 100 users\n",
      "Send successful to 100 users\n",
      "Send successful to 98 users\n",
      "Send successful to 99 users\n",
      "Send successful to 100 users\n",
      "Send successful to 100 users\n",
      "Send successful to 100 users\n",
      "Send successful to 100 users\n",
      "Send successful to 100 users\n",
      "Send successful to 100 users\n",
      "Send successful to 100 users\n",
      "Send successful to 100 users\n",
      "Send successful to 100 users\n",
      "Send successful to 100 users\n",
      "Send successful to 99 users\n",
      "Send successful to 99 users\n",
      "Send successful to 100 users\n",
      "Send successful to 100 users\n",
      "Send successful to 100 users\n",
      "Send successful to 100 users\n",
      "Send successful to 100 users\n",
      "Send successful to 100 users\n",
      "Send successful to 100 users\n",
      "Send successful to 100 users\n",
      "Send successful to 100 users\n",
      "Send successful to 100 users\n",
      "Send successful to 100 users\n",
      "Send successful to 100 users\n",
      "Send successful to 100 users\n",
      "Send successful to 100 users\n",
      "Send successful to 100 users\n",
      "Send successful to 99 users\n",
      "Send successful to 100 users\n",
      "Send successful to 98 users\n",
      "Send successful to 99 users\n",
      "Send successful to 99 users\n",
      "Send successful to 100 users\n",
      "Send successful to 99 users\n",
      "Send successful to 100 users\n",
      "Send successful to 100 users\n",
      "Send successful to 100 users\n",
      "Send successful to 100 users\n",
      "Send successful to 100 users\n",
      "Send successful to 100 users\n",
      "Send successful to 100 users\n",
      "Send successful to 100 users\n",
      "Send successful to 99 users\n",
      "Send successful to 100 users\n",
      "Send successful to 100 users\n",
      "Send successful to 100 users\n",
      "Send successful to 100 users\n",
      "Send successful to 100 users\n",
      "Send successful to 100 users\n",
      "Send successful to 100 users\n",
      "Send successful to 99 users\n",
      "Send successful to 99 users\n",
      "Send successful to 99 users\n",
      "Send successful to 100 users\n",
      "Send successful to 100 users\n",
      "Send successful to 98 users\n",
      "Send successful to 100 users\n",
      "Send successful to 100 users\n",
      "Send successful to 100 users\n",
      "Send successful to 100 users\n",
      "Send successful to 100 users\n",
      "Send successful to 100 users\n",
      "Send successful to 99 users\n",
      "Send successful to 100 users\n",
      "Send successful to 99 users\n",
      "Send successful to 100 users\n",
      "Send successful to 100 users\n",
      "Send successful to 100 users\n",
      "Send successful to 100 users\n",
      "Send successful to 100 users\n",
      "Send successful to 100 users\n",
      "Send successful to 100 users\n",
      "Send successful to 100 users\n",
      "Send successful to 100 users\n",
      "Send successful to 100 users\n",
      "Send successful to 100 users\n",
      "Send successful to 99 users\n",
      "Send successful to 100 users\n",
      "Send successful to 100 users\n",
      "Send successful to 100 users\n",
      "Send successful to 100 users\n",
      "Send successful to 100 users\n",
      "Send successful to 100 users\n",
      "Send successful to 100 users\n",
      "Send successful to 99 users\n",
      "Send successful to 100 users\n",
      "Send successful to 100 users\n",
      "Send successful to 99 users\n",
      "Send successful to 99 users\n",
      "Send successful to 100 users\n",
      "Send successful to 100 users\n",
      "Send successful to 100 users\n",
      "Send successful to 99 users\n",
      "Send successful to 100 users\n",
      "Send successful to 100 users\n",
      "Send successful to 100 users\n",
      "Send successful to 100 users\n",
      "Send successful to 99 users\n",
      "Send successful to 100 users\n",
      "Send successful to 100 users\n",
      "Send successful to 100 users\n",
      "Send successful to 100 users\n",
      "Send successful to 99 users\n",
      "Send successful to 100 users\n",
      "Send successful to 100 users\n",
      "Send successful to 100 users\n",
      "Send successful to 100 users\n",
      "Send successful to 100 users\n",
      "Send successful to 100 users\n",
      "Send successful to 100 users\n",
      "Send successful to 100 users\n",
      "Send successful to 100 users\n",
      "Send successful to 100 users\n",
      "Send successful to 100 users\n",
      "Send successful to 100 users\n",
      "Send successful to 100 users\n",
      "Send successful to 100 users\n",
      "Send successful to 97 users\n",
      "Send successful to 100 users\n",
      "Send successful to 100 users\n",
      "Send successful to 100 users\n",
      "Send successful to 100 users\n",
      "Send successful to 100 users\n",
      "Send successful to 99 users\n",
      "Send successful to 100 users\n",
      "Send successful to 100 users\n",
      "Send successful to 100 users\n",
      "Send successful to 100 users\n",
      "Send successful to 98 users\n",
      "Send successful to 100 users\n",
      "Send successful to 100 users\n",
      "Send successful to 100 users\n",
      "Send successful to 99 users\n",
      "Send successful to 100 users\n",
      "Send successful to 100 users\n",
      "Send successful to 100 users\n",
      "Send successful to 99 users\n",
      "Send successful to 100 users\n",
      "Send successful to 100 users\n",
      "Send successful to 100 users\n",
      "Send successful to 100 users\n",
      "Send successful to 99 users\n",
      "Send successful to 100 users\n",
      "Send successful to 100 users\n",
      "Send successful to 100 users\n",
      "Send successful to 100 users\n",
      "Send successful to 100 users\n",
      "Send successful to 100 users\n",
      "Send successful to 100 users\n",
      "Send successful to 100 users\n",
      "Send successful to 100 users\n",
      "Send successful to 100 users\n",
      "Send successful to 100 users\n",
      "Send successful to 100 users\n",
      "Send successful to 100 users\n",
      "Send successful to 100 users\n",
      "Send successful to 100 users\n",
      "Send successful to 100 users\n",
      "Send successful to 100 users\n",
      "Send successful to 100 users\n",
      "Send successful to 100 users\n",
      "Send successful to 99 users\n",
      "Send successful to 100 users\n",
      "Send successful to 100 users\n",
      "Send successful to 100 users\n",
      "Send successful to 99 users\n",
      "Send successful to 100 users\n",
      "Send successful to 100 users\n",
      "Send successful to 100 users\n",
      "Send successful to 100 users\n",
      "Send successful to 100 users\n",
      "Send successful to 100 users\n",
      "Send successful to 100 users\n",
      "Send successful to 100 users\n",
      "Send successful to 100 users\n",
      "Send successful to 100 users\n",
      "Send successful to 100 users\n",
      "Send successful to 100 users\n",
      "Send successful to 99 users\n",
      "Send successful to 100 users\n",
      "Send successful to 100 users\n",
      "Send successful to 99 users\n",
      "Send successful to 100 users\n",
      "Send successful to 100 users\n",
      "Send successful to 100 users\n",
      "Send successful to 100 users\n",
      "Send successful to 100 users\n",
      "Send successful to 100 users\n",
      "Send successful to 100 users\n",
      "Send successful to 100 users\n",
      "Send successful to 100 users\n",
      "Send successful to 100 users\n",
      "Send successful to 100 users\n",
      "Send successful to 100 users\n",
      "Send successful to 100 users\n",
      "Send successful to 100 users\n",
      "Send successful to 99 users\n",
      "Send successful to 100 users\n",
      "Send successful to 100 users\n",
      "Send successful to 100 users\n",
      "Send successful to 99 users\n",
      "Send successful to 100 users\n",
      "Send successful to 100 users\n",
      "Send successful to 100 users\n",
      "Send successful to 100 users\n",
      "Send successful to 100 users\n",
      "Send successful to 100 users\n",
      "Send successful to 100 users\n",
      "Send successful to 98 users\n",
      "Send successful to 100 users\n",
      "Send successful to 100 users\n",
      "Send successful to 100 users\n",
      "Send successful to 97 users\n",
      "Send successful to 100 users\n",
      "Send successful to 100 users\n",
      "Send successful to 100 users\n",
      "Send successful to 100 users\n",
      "Send successful to 99 users\n",
      "Send successful to 100 users\n",
      "Send successful to 100 users\n",
      "Send successful to 100 users\n",
      "Send successful to 100 users\n",
      "Send successful to 100 users\n",
      "Send successful to 100 users\n",
      "Send successful to 100 users\n",
      "Send successful to 100 users\n",
      "Send successful to 100 users\n",
      "Send successful to 99 users\n",
      "Send successful to 100 users\n",
      "Send successful to 100 users\n"
     ]
    },
    {
     "name": "stdout",
     "output_type": "stream",
     "text": [
      "Send successful to 100 users\n",
      "Send successful to 99 users\n",
      "Send successful to 98 users\n",
      "Send successful to 100 users\n",
      "Send successful to 100 users\n",
      "Send successful to 93 users\n",
      "Send successful to 90 users\n",
      "Send successful to 100 users\n",
      "Send successful to 100 users\n",
      "Send successful to 98 users\n",
      "Send successful to 100 users\n",
      "Send successful to 100 users\n",
      "Send successful to 100 users\n",
      "Send successful to 100 users\n",
      "Send successful to 100 users\n",
      "Send successful to 100 users\n",
      "Send successful to 99 users\n",
      "Send successful to 89 users\n",
      "Send successful to 98 users\n",
      "Send successful to 100 users\n",
      "Send successful to 100 users\n",
      "Send successful to 100 users\n",
      "Send successful to 100 users\n",
      "Send successful to 100 users\n",
      "Send successful to 100 users\n",
      "Send successful to 99 users\n",
      "Send successful to 7 users\n"
     ]
    }
   ],
   "source": [
    "ptr = email.send_to_users(week_emails)"
   ]
  },
  {
   "cell_type": "markdown",
   "metadata": {},
   "source": [
    "Save a CSV with the data used to send the emails... we might want this later? This would be our only record of what emails were sent to which users."
   ]
  },
  {
   "cell_type": "code",
   "execution_count": 178,
   "metadata": {
    "collapsed": true
   },
   "outputs": [],
   "source": [
    "# week_emails.to_csv('8_first_send_sent_emails.csv')"
   ]
  },
  {
   "cell_type": "markdown",
   "metadata": {},
   "source": [
    "Insert into the email_experiment table the set of users included in this experiment. Note that this assumes a single cohort. If we run a second cohort, then we would need to rejigger things here a bit."
   ]
  },
  {
   "cell_type": "code",
   "execution_count": 3,
   "metadata": {
    "collapsed": true
   },
   "outputs": [],
   "source": [
    "# import pandas as pd\n",
    "# week_emails = pd.read_csv('8_first_send_sent_emails.csv')"
   ]
  },
  {
   "cell_type": "code",
   "execution_count": 4,
   "metadata": {
    "collapsed": true
   },
   "outputs": [],
   "source": [
    "# %%vertica -> usernames\n",
    "# SELECT\n",
    "#     user_id,\n",
    "#     user_username\n",
    "# FROM production.d_user"
   ]
  },
  {
   "cell_type": "code",
   "execution_count": 6,
   "metadata": {
    "collapsed": true
   },
   "outputs": [],
   "source": [
    "# merged = pd.merge(\n",
    "#     week_emails,\n",
    "#     usernames,\n",
    "#     on='user_id'\n",
    "# )"
   ]
  },
  {
   "cell_type": "code",
   "execution_count": 81,
   "metadata": {},
   "outputs": [
    {
     "data": {
      "application/vnd.jupyter.widget-view+json": {
       "model_id": "82f318730bc8489f938920756916ce33"
      }
     },
     "metadata": {},
     "output_type": "display_data"
    },
    {
     "data": {
      "application/vnd.jupyter.widget-view+json": {
       "model_id": "96ce0bf7da41418696ec5aba4f7903f4"
      }
     },
     "metadata": {},
     "output_type": "display_data"
    },
    {
     "data": {
      "application/vnd.jupyter.widget-view+json": {
       "model_id": "081bdcf70d8c444f86a17f4513e799f7"
      }
     },
     "metadata": {},
     "output_type": "display_data"
    },
    {
     "name": "stdout",
     "output_type": "stream",
     "text": [
      "59904\n"
     ]
    }
   ],
   "source": [
    "# import ipywidgets as widgets\n",
    "# from IPython.display import display\n",
    "\n",
    "# progress = widgets.IntProgress(min=0, max=len(merged))\n",
    "# display(progress)\n",
    "# succeeded = widgets.IntText(value=0, description='Inserted: ')\n",
    "# display(succeeded)\n",
    "# skipped = widgets.IntText(value=0, description='Skipped: ')\n",
    "# display(skipped)\n",
    "\n",
    "# print(len(merged))\n",
    "# %vertica BEGIN\n",
    "# for row in merged.itertuples():\n",
    "#     try:\n",
    "#         group_name = ['Control', 'Hard Deadline', 'Soft Deadline'][row.segment]\n",
    "#         user_email = row.user_email\n",
    "#         user_id = int(row.user_id)\n",
    "#         user_username = row.user_username\n",
    "#         course_id = row.course_id\n",
    "#         if course_id in exclude_course_ids:\n",
    "#             skipped.value += 1\n",
    "#             continue\n",
    "#         course_name = row.course_name.encode('ascii', 'replace').decode('ascii')\n",
    "#         segment = int(row.segment)\n",
    "#         try:\n",
    "#             %vertica (experiment_id, group_name, user_email, user_id, user_username, course_id, course_name, segment) INSERT INTO ret.email_experiment (experiment_id, experiment_name, email, user_id, username, course_id, course_title, group_id, group_name) VALUES(:experiment_id, 'Self-paced Upgrade Deadline', :user_email, :user_id, :user_username, :course_id, :course_name, :segment, :group_name)\n",
    "#         except:\n",
    "#             print(row)\n",
    "#             raise\n",
    "#         succeeded.value += 1\n",
    "#     finally:\n",
    "#         progress.value += 1\n"
   ]
  },
  {
   "cell_type": "code",
   "execution_count": null,
   "metadata": {
    "collapsed": true
   },
   "outputs": [],
   "source": []
  }
 ],
 "metadata": {
  "kernelspec": {
   "display_name": "Python 3",
   "language": "python",
   "name": "python3"
  },
  "language_info": {
   "codemirror_mode": {
    "name": "ipython",
    "version": 3
   },
   "file_extension": ".py",
   "mimetype": "text/x-python",
   "name": "python",
   "nbconvert_exporter": "python",
   "pygments_lexer": "ipython3",
   "version": "3.6.1"
  }
 },
 "nbformat": 4,
 "nbformat_minor": 2
}
