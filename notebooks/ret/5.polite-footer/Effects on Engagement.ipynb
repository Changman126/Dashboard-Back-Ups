{
 "cells": [
  {
   "cell_type": "code",
   "execution_count": 1,
   "metadata": {},
   "outputs": [
    {
     "name": "stderr",
     "output_type": "stream",
     "text": [
      "/usr/local/lib/python3.6/site-packages/statsmodels/compat/pandas.py:56: FutureWarning: The pandas.core.datetools module is deprecated and will be removed in a future version. Please use the pandas.tseries module instead.\n",
      "  from pandas.core import datetools\n"
     ]
    }
   ],
   "source": [
    "import datetime\n",
    "from dateutil.tz import tzutc\n",
    "from plotnine import *\n",
    "from edx_stats import grouped_confidence_intervals\n",
    "from edx_plot import geom_confidence, theme_confidence"
   ]
  },
  {
   "cell_type": "code",
   "execution_count": 2,
   "metadata": {
    "collapsed": true
   },
   "outputs": [],
   "source": [
    "%matplotlib inline"
   ]
  },
  {
   "cell_type": "markdown",
   "metadata": {},
   "source": [
    "Boilerplate Connection Setup\n",
    "---"
   ]
  },
  {
   "cell_type": "code",
   "execution_count": 3,
   "metadata": {
    "collapsed": true
   },
   "outputs": [],
   "source": [
    "%load_ext edx_jupyter"
   ]
  },
  {
   "cell_type": "code",
   "execution_count": 11,
   "metadata": {
    "collapsed": true
   },
   "outputs": [],
   "source": [
    "%reload_ext edx_jupyter"
   ]
  },
  {
   "cell_type": "code",
   "execution_count": 12,
   "metadata": {
    "scrolled": true
   },
   "outputs": [
    {
     "data": {
      "text/html": [
       "<div>\n",
       "<style>\n",
       "    .dataframe thead tr:only-child th {\n",
       "        text-align: right;\n",
       "    }\n",
       "\n",
       "    .dataframe thead th {\n",
       "        text-align: left;\n",
       "    }\n",
       "\n",
       "    .dataframe tbody tr th {\n",
       "        vertical-align: top;\n",
       "    }\n",
       "</style>\n",
       "<table border=\"1\" class=\"dataframe\">\n",
       "  <thead>\n",
       "    <tr style=\"text-align: right;\">\n",
       "      <th></th>\n",
       "      <th>?column?</th>\n",
       "    </tr>\n",
       "  </thead>\n",
       "  <tbody>\n",
       "    <tr>\n",
       "      <th>0</th>\n",
       "      <td>Connected</td>\n",
       "    </tr>\n",
       "  </tbody>\n",
       "</table>\n",
       "</div>"
      ],
      "text/plain": [
       "    ?column?\n",
       "0  Connected"
      ]
     },
     "execution_count": 12,
     "metadata": {},
     "output_type": "execute_result"
    }
   ],
   "source": [
    "%vertica SELECT 'Connected'"
   ]
  },
  {
   "cell_type": "code",
   "execution_count": 23,
   "metadata": {
    "collapsed": true
   },
   "outputs": [],
   "source": [
    "alpha = 0.1\n",
    "effect_size = 0.2\n",
    "power = 0.8\n",
    "experiment_id = 8449172827"
   ]
  },
  {
   "cell_type": "code",
   "execution_count": 24,
   "metadata": {
    "collapsed": true
   },
   "outputs": [],
   "source": [
    "experiment_start = datetime.datetime(2017, 6, 26, 0, tzinfo=tzutc())"
   ]
  },
  {
   "cell_type": "code",
   "execution_count": 25,
   "metadata": {},
   "outputs": [
    {
     "data": {
      "text/html": [
       "<div>\n",
       "<style>\n",
       "    .dataframe thead tr:only-child th {\n",
       "        text-align: right;\n",
       "    }\n",
       "\n",
       "    .dataframe thead th {\n",
       "        text-align: left;\n",
       "    }\n",
       "\n",
       "    .dataframe tbody tr th {\n",
       "        vertical-align: top;\n",
       "    }\n",
       "</style>\n",
       "<table border=\"1\" class=\"dataframe\">\n",
       "  <thead>\n",
       "    <tr style=\"text-align: right;\">\n",
       "      <th></th>\n",
       "      <th>variation_name</th>\n",
       "      <th>user_id</th>\n",
       "      <th>pacing_type</th>\n",
       "      <th>weeks_since_experiment_start</th>\n",
       "      <th>engagement_events</th>\n",
       "    </tr>\n",
       "  </thead>\n",
       "  <tbody>\n",
       "  </tbody>\n",
       "</table>\n",
       "</div>"
      ],
      "text/plain": [
       "Empty DataFrame\n",
       "Columns: [variation_name, user_id, pacing_type, weeks_since_experiment_start, engagement_events]\n",
       "Index: []"
      ]
     },
     "execution_count": 25,
     "metadata": {},
     "output_type": "execute_result"
    }
   ],
   "source": [
    "%%vertica\n",
    "\n",
    "SET TIME ZONE 'UTC'"
   ]
  },
  {
   "cell_type": "code",
   "execution_count": 26,
   "metadata": {},
   "outputs": [
    {
     "data": {
      "text/html": [
       "<div>\n",
       "<style>\n",
       "    .dataframe thead tr:only-child th {\n",
       "        text-align: right;\n",
       "    }\n",
       "\n",
       "    .dataframe thead th {\n",
       "        text-align: left;\n",
       "    }\n",
       "\n",
       "    .dataframe tbody tr th {\n",
       "        vertical-align: top;\n",
       "    }\n",
       "</style>\n",
       "<table border=\"1\" class=\"dataframe\">\n",
       "  <thead>\n",
       "    <tr style=\"text-align: right;\">\n",
       "      <th></th>\n",
       "      <th>variation_name</th>\n",
       "      <th>user_id</th>\n",
       "      <th>pacing_type</th>\n",
       "      <th>weeks_since_experiment_start</th>\n",
       "      <th>engagement_events</th>\n",
       "    </tr>\n",
       "  </thead>\n",
       "  <tbody>\n",
       "  </tbody>\n",
       "</table>\n",
       "</div>"
      ],
      "text/plain": [
       "Empty DataFrame\n",
       "Columns: [variation_name, user_id, pacing_type, weeks_since_experiment_start, engagement_events]\n",
       "Index: []"
      ]
     },
     "execution_count": 26,
     "metadata": {},
     "output_type": "execute_result"
    }
   ],
   "source": [
    "%%vertica (experiment_id = experiment_id)\n",
    "\n",
    "DROP TABLE IF EXISTS exp5_experiment_views;\n",
    "CREATE LOCAL TEMPORARY TABLE exp5_experiment_views\n",
    "ON COMMIT PRESERVE ROWS AS\n",
    "SELECT\n",
    "    received_at::TIMESTAMPTZ,\n",
    "    timestamp::TIMESTAMPTZ,\n",
    "    anonymous_id,\n",
    "    user_id AS raw_user_id,\n",
    "    CASE\n",
    "        WHEN REGEXP_LIKE(user_id, '^\\d+$') THEN user_id::INT\n",
    "        ELSE NULL\n",
    "    END AS user_id,\n",
    "    experimentid::INT AS experiment_id,\n",
    "    experimentname AS experiment_name,\n",
    "    variationid::INT AS variation_id,\n",
    "    variationname AS variation_name,\n",
    "    CASE \n",
    "        WHEN STRPOS(path, '%') = 0 THEN REGEXP_SUBSTR(path, '/courses/([^/+]+(/|\\+)[^/+]+(/|\\+)[^/?]+)/', 1, 1, '', 1)\n",
    "        ELSE URI_PERCENT_DECODE(REGEXP_SUBSTR(path, '/courses/([^/+]+(/|\\+)[^/+]+(/|\\+)[^/?]+)/', 1, 1, '', 1))\n",
    "    END AS course_id,\n",
    "    path,\n",
    "    url\n",
    "FROM\n",
    "    experimental_events_run14.event_records event\n",
    "WHERE\n",
    "        event_type = 'Experiment Viewed'\n",
    "    AND experimentid = :experiment_id"
   ]
  },
  {
   "cell_type": "code",
   "execution_count": 27,
   "metadata": {
    "collapsed": true
   },
   "outputs": [],
   "source": [
    "%%vertica (start_time = experiment_start, experiment_id = experiment_id) -> df_raw\n",
    "\n",
    "SELECT\n",
    "    viewed.variation_name,\n",
    "    viewed.user_id,\n",
    "    engaged.pacing_type,\n",
    "    engaged.weeks_since_experiment_start,\n",
    "    engaged.engagement_events\n",
    "FROM\n",
    "(\n",
    "    SELECT\n",
    "        user_id,\n",
    "        MIN(variation_name) AS variation_name,\n",
    "        MIN(received_at) AS exposure_time\n",
    "    FROM\n",
    "        exp5_experiment_views\n",
    "    WHERE\n",
    "        experiment_id = :experiment_id\n",
    "    GROUP BY 1\n",
    "    HAVING COUNT(DISTINCT variation_name) = 1\n",
    ") AS viewed\n",
    "JOIN\n",
    "(\n",
    "    SELECT\n",
    "        user_id,\n",
    "        course.pacing_type,\n",
    "        FLOOR(DATEDIFF('day', :start_time, date) / 7) AS weeks_since_experiment_start,\n",
    "        SUM(cnt_engaged_activity) AS engagement_events\n",
    "    FROM\n",
    "        business_intelligence.activity_engagement_user_daily AS engage\n",
    "    JOIN\n",
    "        production.d_course AS course\n",
    "    ON\n",
    "        engage.course_id = course.course_id\n",
    "    WHERE\n",
    "        date > :start_time\n",
    "    GROUP BY 1, 2, 3\n",
    ") AS engaged\n",
    "ON engaged.user_id = viewed.user_id\n"
   ]
  },
  {
   "cell_type": "code",
   "execution_count": 28,
   "metadata": {
    "collapsed": true
   },
   "outputs": [],
   "source": [
    "df = df_raw.copy()"
   ]
  },
  {
   "cell_type": "code",
   "execution_count": 29,
   "metadata": {},
   "outputs": [
    {
     "name": "stdout",
     "output_type": "stream",
     "text": [
      "<class 'pandas.core.frame.DataFrame'>\n",
      "RangeIndex: 279545 entries, 0 to 279544\n",
      "Data columns (total 5 columns):\n",
      "variation_name                  279545 non-null object\n",
      "user_id                         279545 non-null int64\n",
      "pacing_type                     279302 non-null object\n",
      "weeks_since_experiment_start    279545 non-null object\n",
      "engagement_events               279545 non-null int64\n",
      "dtypes: int64(2), object(3)\n",
      "memory usage: 10.7+ MB\n"
     ]
    }
   ],
   "source": [
    "df.info()"
   ]
  },
  {
   "cell_type": "code",
   "execution_count": 30,
   "metadata": {},
   "outputs": [
    {
     "data": {
      "text/html": [
       "<div>\n",
       "<style>\n",
       "    .dataframe thead tr:only-child th {\n",
       "        text-align: right;\n",
       "    }\n",
       "\n",
       "    .dataframe thead th {\n",
       "        text-align: left;\n",
       "    }\n",
       "\n",
       "    .dataframe tbody tr th {\n",
       "        vertical-align: top;\n",
       "    }\n",
       "</style>\n",
       "<table border=\"1\" class=\"dataframe\">\n",
       "  <thead>\n",
       "    <tr style=\"text-align: right;\">\n",
       "      <th></th>\n",
       "      <th>num_users</th>\n",
       "    </tr>\n",
       "    <tr>\n",
       "      <th>variation_name</th>\n",
       "      <th></th>\n",
       "    </tr>\n",
       "  </thead>\n",
       "  <tbody>\n",
       "    <tr>\n",
       "      <th>Fixed Footer</th>\n",
       "      <td>69815</td>\n",
       "    </tr>\n",
       "    <tr>\n",
       "      <th>Original</th>\n",
       "      <td>69968</td>\n",
       "    </tr>\n",
       "    <tr>\n",
       "      <th>Polite Footer</th>\n",
       "      <td>69864</td>\n",
       "    </tr>\n",
       "    <tr>\n",
       "      <th>The Sock</th>\n",
       "      <td>69898</td>\n",
       "    </tr>\n",
       "  </tbody>\n",
       "</table>\n",
       "</div>"
      ],
      "text/plain": [
       "                num_users\n",
       "variation_name           \n",
       "Fixed Footer        69815\n",
       "Original            69968\n",
       "Polite Footer       69864\n",
       "The Sock            69898"
      ]
     },
     "execution_count": 30,
     "metadata": {},
     "output_type": "execute_result"
    }
   ],
   "source": [
    "counts = df.groupby('variation_name').count()\n",
    "counts['num_users'] = counts['user_id']\n",
    "counts[['num_users']]"
   ]
  },
  {
   "cell_type": "code",
   "execution_count": 31,
   "metadata": {
    "collapsed": true,
    "scrolled": true
   },
   "outputs": [],
   "source": [
    "totals = df.groupby(\n",
    "    ['weeks_since_experiment_start', 'pacing_type', 'variation_name']\n",
    ").sum().merge(\n",
    "    counts[['num_users']],\n",
    "    left_index=True,\n",
    "    right_index=True,\n",
    ")\n",
    "del totals['user_id']"
   ]
  },
  {
   "cell_type": "code",
   "execution_count": 32,
   "metadata": {},
   "outputs": [
    {
     "data": {
      "text/html": [
       "<div>\n",
       "<style>\n",
       "    .dataframe thead tr:only-child th {\n",
       "        text-align: right;\n",
       "    }\n",
       "\n",
       "    .dataframe thead th {\n",
       "        text-align: left;\n",
       "    }\n",
       "\n",
       "    .dataframe tbody tr th {\n",
       "        vertical-align: top;\n",
       "    }\n",
       "</style>\n",
       "<table border=\"1\" class=\"dataframe\">\n",
       "  <thead>\n",
       "    <tr style=\"text-align: right;\">\n",
       "      <th></th>\n",
       "      <th></th>\n",
       "      <th></th>\n",
       "      <th>engagement_events</th>\n",
       "      <th>num_users</th>\n",
       "    </tr>\n",
       "    <tr>\n",
       "      <th>weeks_since_experiment_start</th>\n",
       "      <th>pacing_type</th>\n",
       "      <th>variation_name</th>\n",
       "      <th></th>\n",
       "      <th></th>\n",
       "    </tr>\n",
       "  </thead>\n",
       "  <tbody>\n",
       "    <tr>\n",
       "      <th rowspan=\"8\" valign=\"top\">0</th>\n",
       "      <th rowspan=\"4\" valign=\"top\">instructor_paced</th>\n",
       "      <th>Fixed Footer</th>\n",
       "      <td>305025</td>\n",
       "      <td>69815</td>\n",
       "    </tr>\n",
       "    <tr>\n",
       "      <th>Original</th>\n",
       "      <td>317019</td>\n",
       "      <td>69968</td>\n",
       "    </tr>\n",
       "    <tr>\n",
       "      <th>Polite Footer</th>\n",
       "      <td>379956</td>\n",
       "      <td>69864</td>\n",
       "    </tr>\n",
       "    <tr>\n",
       "      <th>The Sock</th>\n",
       "      <td>328262</td>\n",
       "      <td>69898</td>\n",
       "    </tr>\n",
       "    <tr>\n",
       "      <th rowspan=\"4\" valign=\"top\">self_paced</th>\n",
       "      <th>Fixed Footer</th>\n",
       "      <td>499541</td>\n",
       "      <td>69815</td>\n",
       "    </tr>\n",
       "    <tr>\n",
       "      <th>Original</th>\n",
       "      <td>517333</td>\n",
       "      <td>69968</td>\n",
       "    </tr>\n",
       "    <tr>\n",
       "      <th>Polite Footer</th>\n",
       "      <td>495298</td>\n",
       "      <td>69864</td>\n",
       "    </tr>\n",
       "    <tr>\n",
       "      <th>The Sock</th>\n",
       "      <td>488117</td>\n",
       "      <td>69898</td>\n",
       "    </tr>\n",
       "    <tr>\n",
       "      <th rowspan=\"8\" valign=\"top\">1</th>\n",
       "      <th rowspan=\"4\" valign=\"top\">instructor_paced</th>\n",
       "      <th>Fixed Footer</th>\n",
       "      <td>354353</td>\n",
       "      <td>69815</td>\n",
       "    </tr>\n",
       "    <tr>\n",
       "      <th>Original</th>\n",
       "      <td>358953</td>\n",
       "      <td>69968</td>\n",
       "    </tr>\n",
       "    <tr>\n",
       "      <th>Polite Footer</th>\n",
       "      <td>362709</td>\n",
       "      <td>69864</td>\n",
       "    </tr>\n",
       "    <tr>\n",
       "      <th>The Sock</th>\n",
       "      <td>344076</td>\n",
       "      <td>69898</td>\n",
       "    </tr>\n",
       "    <tr>\n",
       "      <th rowspan=\"4\" valign=\"top\">self_paced</th>\n",
       "      <th>Fixed Footer</th>\n",
       "      <td>573260</td>\n",
       "      <td>69815</td>\n",
       "    </tr>\n",
       "    <tr>\n",
       "      <th>Original</th>\n",
       "      <td>571059</td>\n",
       "      <td>69968</td>\n",
       "    </tr>\n",
       "    <tr>\n",
       "      <th>Polite Footer</th>\n",
       "      <td>583213</td>\n",
       "      <td>69864</td>\n",
       "    </tr>\n",
       "    <tr>\n",
       "      <th>The Sock</th>\n",
       "      <td>568876</td>\n",
       "      <td>69898</td>\n",
       "    </tr>\n",
       "  </tbody>\n",
       "</table>\n",
       "</div>"
      ],
      "text/plain": [
       "                                                              engagement_events  \\\n",
       "weeks_since_experiment_start pacing_type      variation_name                      \n",
       "0                            instructor_paced Fixed Footer               305025   \n",
       "                                              Original                   317019   \n",
       "                                              Polite Footer              379956   \n",
       "                                              The Sock                   328262   \n",
       "                             self_paced       Fixed Footer               499541   \n",
       "                                              Original                   517333   \n",
       "                                              Polite Footer              495298   \n",
       "                                              The Sock                   488117   \n",
       "1                            instructor_paced Fixed Footer               354353   \n",
       "                                              Original                   358953   \n",
       "                                              Polite Footer              362709   \n",
       "                                              The Sock                   344076   \n",
       "                             self_paced       Fixed Footer               573260   \n",
       "                                              Original                   571059   \n",
       "                                              Polite Footer              583213   \n",
       "                                              The Sock                   568876   \n",
       "\n",
       "                                                              num_users  \n",
       "weeks_since_experiment_start pacing_type      variation_name             \n",
       "0                            instructor_paced Fixed Footer        69815  \n",
       "                                              Original            69968  \n",
       "                                              Polite Footer       69864  \n",
       "                                              The Sock            69898  \n",
       "                             self_paced       Fixed Footer        69815  \n",
       "                                              Original            69968  \n",
       "                                              Polite Footer       69864  \n",
       "                                              The Sock            69898  \n",
       "1                            instructor_paced Fixed Footer        69815  \n",
       "                                              Original            69968  \n",
       "                                              Polite Footer       69864  \n",
       "                                              The Sock            69898  \n",
       "                             self_paced       Fixed Footer        69815  \n",
       "                                              Original            69968  \n",
       "                                              Polite Footer       69864  \n",
       "                                              The Sock            69898  "
      ]
     },
     "execution_count": 32,
     "metadata": {},
     "output_type": "execute_result"
    }
   ],
   "source": [
    "totals"
   ]
  },
  {
   "cell_type": "code",
   "execution_count": 33,
   "metadata": {
    "scrolled": false
   },
   "outputs": [
    {
     "name": "stderr",
     "output_type": "stream",
     "text": [
      "/app/lib/edx_stats.py:21: PerformanceWarning: indexing past lexsort depth may impact performance.\n",
      "  ctrl = indexed.loc[ctrl_loc][value_col]\n"
     ]
    }
   ],
   "source": [
    "conf_intervals = grouped_confidence_intervals(\n",
    "    df,\n",
    "    variant_col='variation_name',\n",
    "    value_col='engagement_events',\n",
    "    ctrl_name='Original',\n",
    "    group_cols=['pacing_type', 'weeks_since_experiment_start'],\n",
    ")"
   ]
  },
  {
   "cell_type": "code",
   "execution_count": 34,
   "metadata": {},
   "outputs": [
    {
     "data": {
      "text/html": [
       "<div>\n",
       "<style>\n",
       "    .dataframe thead tr:only-child th {\n",
       "        text-align: right;\n",
       "    }\n",
       "\n",
       "    .dataframe thead th {\n",
       "        text-align: left;\n",
       "    }\n",
       "\n",
       "    .dataframe tbody tr th {\n",
       "        vertical-align: top;\n",
       "    }\n",
       "</style>\n",
       "<table border=\"1\" class=\"dataframe\">\n",
       "  <thead>\n",
       "    <tr style=\"text-align: right;\">\n",
       "      <th></th>\n",
       "      <th></th>\n",
       "      <th></th>\n",
       "      <th>bootstrap</th>\n",
       "      <th>percent_change</th>\n",
       "      <th>lower_bound</th>\n",
       "      <th>upper_bound</th>\n",
       "      <th>significant</th>\n",
       "    </tr>\n",
       "    <tr>\n",
       "      <th>pacing_type</th>\n",
       "      <th>weeks_since_experiment_start</th>\n",
       "      <th>variation_name</th>\n",
       "      <th></th>\n",
       "      <th></th>\n",
       "      <th></th>\n",
       "      <th></th>\n",
       "      <th></th>\n",
       "    </tr>\n",
       "  </thead>\n",
       "  <tbody>\n",
       "    <tr>\n",
       "      <th rowspan=\"8\" valign=\"top\">instructor_paced</th>\n",
       "      <th rowspan=\"4\" valign=\"top\">0</th>\n",
       "      <th>Fixed Footer</th>\n",
       "      <td>-3.615498378459243    (-6.763305238191803, -0....</td>\n",
       "      <td>-3.615498</td>\n",
       "      <td>-6.763305</td>\n",
       "      <td>-0.549395</td>\n",
       "      <td>-1</td>\n",
       "    </tr>\n",
       "    <tr>\n",
       "      <th>Original</th>\n",
       "      <td>0.0    (-3.196043174523674, 3.159427924411583)</td>\n",
       "      <td>0.000000</td>\n",
       "      <td>-3.196043</td>\n",
       "      <td>3.159428</td>\n",
       "      <td>0</td>\n",
       "    </tr>\n",
       "    <tr>\n",
       "      <th>Polite Footer</th>\n",
       "      <td>20.017779126521106    (3.691086424722151, 35.8...</td>\n",
       "      <td>20.017779</td>\n",
       "      <td>3.691086</td>\n",
       "      <td>35.837636</td>\n",
       "      <td>1</td>\n",
       "    </tr>\n",
       "    <tr>\n",
       "      <th>The Sock</th>\n",
       "      <td>3.622465573746408    (0.23637984402034018, 6.9...</td>\n",
       "      <td>3.622466</td>\n",
       "      <td>0.236380</td>\n",
       "      <td>6.911841</td>\n",
       "      <td>1</td>\n",
       "    </tr>\n",
       "    <tr>\n",
       "      <th rowspan=\"4\" valign=\"top\">1</th>\n",
       "      <th>Fixed Footer</th>\n",
       "      <td>-1.9755865744478298    (-5.573068328820263, 1....</td>\n",
       "      <td>-1.975587</td>\n",
       "      <td>-5.573068</td>\n",
       "      <td>1.512615</td>\n",
       "      <td>0</td>\n",
       "    </tr>\n",
       "    <tr>\n",
       "      <th>Original</th>\n",
       "      <td>0.0    (-3.542278326331691, 3.478258864737647)</td>\n",
       "      <td>0.000000</td>\n",
       "      <td>-3.542278</td>\n",
       "      <td>3.478259</td>\n",
       "      <td>0</td>\n",
       "    </tr>\n",
       "    <tr>\n",
       "      <th>Polite Footer</th>\n",
       "      <td>-0.04509486397623289    (-3.4732284021636946, ...</td>\n",
       "      <td>-0.045095</td>\n",
       "      <td>-3.473228</td>\n",
       "      <td>3.243707</td>\n",
       "      <td>0</td>\n",
       "    </tr>\n",
       "    <tr>\n",
       "      <th>The Sock</th>\n",
       "      <td>-3.890382258564804    (-7.217990893667947, -0....</td>\n",
       "      <td>-3.890382</td>\n",
       "      <td>-7.217991</td>\n",
       "      <td>-0.765697</td>\n",
       "      <td>-1</td>\n",
       "    </tr>\n",
       "    <tr>\n",
       "      <th rowspan=\"8\" valign=\"top\">self_paced</th>\n",
       "      <th rowspan=\"4\" valign=\"top\">0</th>\n",
       "      <th>Fixed Footer</th>\n",
       "      <td>-2.4515022709305456    (-7.059788456970741, 1....</td>\n",
       "      <td>-2.451502</td>\n",
       "      <td>-7.059788</td>\n",
       "      <td>1.930744</td>\n",
       "      <td>0</td>\n",
       "    </tr>\n",
       "    <tr>\n",
       "      <th>Original</th>\n",
       "      <td>0.0    (-6.042493796798772, 5.6247943313774895)</td>\n",
       "      <td>0.000000</td>\n",
       "      <td>-6.042494</td>\n",
       "      <td>5.624794</td>\n",
       "      <td>0</td>\n",
       "    </tr>\n",
       "    <tr>\n",
       "      <th>Polite Footer</th>\n",
       "      <td>-2.7693566486969576    (-7.3470720580036994, 1...</td>\n",
       "      <td>-2.769357</td>\n",
       "      <td>-7.347072</td>\n",
       "      <td>1.635589</td>\n",
       "      <td>0</td>\n",
       "    </tr>\n",
       "    <tr>\n",
       "      <th>The Sock</th>\n",
       "      <td>-4.82266605977059    (-9.319677535218176, -0.7...</td>\n",
       "      <td>-4.822666</td>\n",
       "      <td>-9.319678</td>\n",
       "      <td>-0.756818</td>\n",
       "      <td>-1</td>\n",
       "    </tr>\n",
       "    <tr>\n",
       "      <th rowspan=\"4\" valign=\"top\">1</th>\n",
       "      <th>Fixed Footer</th>\n",
       "      <td>0.3102173388325895    (-2.1585154715807544, 2....</td>\n",
       "      <td>0.310217</td>\n",
       "      <td>-2.158515</td>\n",
       "      <td>2.744459</td>\n",
       "      <td>0</td>\n",
       "    </tr>\n",
       "    <tr>\n",
       "      <th>Original</th>\n",
       "      <td>0.0    (-2.4695474913556903, 2.4333416852858294)</td>\n",
       "      <td>0.000000</td>\n",
       "      <td>-2.469547</td>\n",
       "      <td>2.433342</td>\n",
       "      <td>0</td>\n",
       "    </tr>\n",
       "    <tr>\n",
       "      <th>Polite Footer</th>\n",
       "      <td>1.6190682806691932    (-1.6313284711937523, 4....</td>\n",
       "      <td>1.619068</td>\n",
       "      <td>-1.631328</td>\n",
       "      <td>4.748930</td>\n",
       "      <td>0</td>\n",
       "    </tr>\n",
       "    <tr>\n",
       "      <th>The Sock</th>\n",
       "      <td>-1.0460780404678116    (-3.452336925258547, 1....</td>\n",
       "      <td>-1.046078</td>\n",
       "      <td>-3.452337</td>\n",
       "      <td>1.310550</td>\n",
       "      <td>0</td>\n",
       "    </tr>\n",
       "  </tbody>\n",
       "</table>\n",
       "</div>"
      ],
      "text/plain": [
       "                                                                                                      bootstrap  \\\n",
       "pacing_type      weeks_since_experiment_start variation_name                                                      \n",
       "instructor_paced 0                            Fixed Footer    -3.615498378459243    (-6.763305238191803, -0....   \n",
       "                                              Original           0.0    (-3.196043174523674, 3.159427924411583)   \n",
       "                                              Polite Footer   20.017779126521106    (3.691086424722151, 35.8...   \n",
       "                                              The Sock        3.622465573746408    (0.23637984402034018, 6.9...   \n",
       "                 1                            Fixed Footer    -1.9755865744478298    (-5.573068328820263, 1....   \n",
       "                                              Original           0.0    (-3.542278326331691, 3.478258864737647)   \n",
       "                                              Polite Footer   -0.04509486397623289    (-3.4732284021636946, ...   \n",
       "                                              The Sock        -3.890382258564804    (-7.217990893667947, -0....   \n",
       "self_paced       0                            Fixed Footer    -2.4515022709305456    (-7.059788456970741, 1....   \n",
       "                                              Original          0.0    (-6.042493796798772, 5.6247943313774895)   \n",
       "                                              Polite Footer   -2.7693566486969576    (-7.3470720580036994, 1...   \n",
       "                                              The Sock        -4.82266605977059    (-9.319677535218176, -0.7...   \n",
       "                 1                            Fixed Footer    0.3102173388325895    (-2.1585154715807544, 2....   \n",
       "                                              Original         0.0    (-2.4695474913556903, 2.4333416852858294)   \n",
       "                                              Polite Footer   1.6190682806691932    (-1.6313284711937523, 4....   \n",
       "                                              The Sock        -1.0460780404678116    (-3.452336925258547, 1....   \n",
       "\n",
       "                                                              percent_change  \\\n",
       "pacing_type      weeks_since_experiment_start variation_name                   \n",
       "instructor_paced 0                            Fixed Footer         -3.615498   \n",
       "                                              Original              0.000000   \n",
       "                                              Polite Footer        20.017779   \n",
       "                                              The Sock              3.622466   \n",
       "                 1                            Fixed Footer         -1.975587   \n",
       "                                              Original              0.000000   \n",
       "                                              Polite Footer        -0.045095   \n",
       "                                              The Sock             -3.890382   \n",
       "self_paced       0                            Fixed Footer         -2.451502   \n",
       "                                              Original              0.000000   \n",
       "                                              Polite Footer        -2.769357   \n",
       "                                              The Sock             -4.822666   \n",
       "                 1                            Fixed Footer          0.310217   \n",
       "                                              Original              0.000000   \n",
       "                                              Polite Footer         1.619068   \n",
       "                                              The Sock             -1.046078   \n",
       "\n",
       "                                                              lower_bound  \\\n",
       "pacing_type      weeks_since_experiment_start variation_name                \n",
       "instructor_paced 0                            Fixed Footer      -6.763305   \n",
       "                                              Original          -3.196043   \n",
       "                                              Polite Footer      3.691086   \n",
       "                                              The Sock           0.236380   \n",
       "                 1                            Fixed Footer      -5.573068   \n",
       "                                              Original          -3.542278   \n",
       "                                              Polite Footer     -3.473228   \n",
       "                                              The Sock          -7.217991   \n",
       "self_paced       0                            Fixed Footer      -7.059788   \n",
       "                                              Original          -6.042494   \n",
       "                                              Polite Footer     -7.347072   \n",
       "                                              The Sock          -9.319678   \n",
       "                 1                            Fixed Footer      -2.158515   \n",
       "                                              Original          -2.469547   \n",
       "                                              Polite Footer     -1.631328   \n",
       "                                              The Sock          -3.452337   \n",
       "\n",
       "                                                              upper_bound  \\\n",
       "pacing_type      weeks_since_experiment_start variation_name                \n",
       "instructor_paced 0                            Fixed Footer      -0.549395   \n",
       "                                              Original           3.159428   \n",
       "                                              Polite Footer     35.837636   \n",
       "                                              The Sock           6.911841   \n",
       "                 1                            Fixed Footer       1.512615   \n",
       "                                              Original           3.478259   \n",
       "                                              Polite Footer      3.243707   \n",
       "                                              The Sock          -0.765697   \n",
       "self_paced       0                            Fixed Footer       1.930744   \n",
       "                                              Original           5.624794   \n",
       "                                              Polite Footer      1.635589   \n",
       "                                              The Sock          -0.756818   \n",
       "                 1                            Fixed Footer       2.744459   \n",
       "                                              Original           2.433342   \n",
       "                                              Polite Footer      4.748930   \n",
       "                                              The Sock           1.310550   \n",
       "\n",
       "                                                              significant  \n",
       "pacing_type      weeks_since_experiment_start variation_name               \n",
       "instructor_paced 0                            Fixed Footer             -1  \n",
       "                                              Original                  0  \n",
       "                                              Polite Footer             1  \n",
       "                                              The Sock                  1  \n",
       "                 1                            Fixed Footer              0  \n",
       "                                              Original                  0  \n",
       "                                              Polite Footer             0  \n",
       "                                              The Sock                 -1  \n",
       "self_paced       0                            Fixed Footer              0  \n",
       "                                              Original                  0  \n",
       "                                              Polite Footer             0  \n",
       "                                              The Sock                 -1  \n",
       "                 1                            Fixed Footer              0  \n",
       "                                              Original                  0  \n",
       "                                              Polite Footer             0  \n",
       "                                              The Sock                  0  "
      ]
     },
     "execution_count": 34,
     "metadata": {},
     "output_type": "execute_result"
    }
   ],
   "source": [
    "conf_intervals"
   ]
  },
  {
   "cell_type": "code",
   "execution_count": 35,
   "metadata": {},
   "outputs": [
    {
     "data": {
      "image/png": "[encoded data removed]",
      "text/plain": [
       "<matplotlib.figure.Figure at 0x7fe563c085f8>"
      ]
     },
     "metadata": {},
     "output_type": "display_data"
    },
    {
     "data": {
      "text/plain": [
       "<ggplot: (-9223363247903023693)>"
      ]
     },
     "execution_count": 35,
     "metadata": {},
     "output_type": "execute_result"
    }
   ],
   "source": [
    "(\n",
    "    ggplot(conf_intervals.reset_index(), aes(\n",
    "        x='weeks_since_experiment_start',\n",
    "        y='percent_change',\n",
    "        ymin='lower_bound',\n",
    "        ymax='upper_bound',\n",
    "        color='significant',\n",
    "        label_size=0.5,\n",
    "    ))\n",
    "    + geom_confidence()\n",
    "    + facet_grid(\"pacing_type ~ variation_name\")\n",
    "    + theme_confidence()\n",
    "    + ggtitle(\"Change in Engagement events\")\n",
    ")\n"
   ]
  },
  {
   "cell_type": "code",
   "execution_count": null,
   "metadata": {
    "collapsed": true
   },
   "outputs": [],
   "source": []
  }
 ],
 "metadata": {
  "kernelspec": {
   "display_name": "Python 3",
   "language": "python",
   "name": "python3"
  },
  "language_info": {
   "codemirror_mode": {
    "name": "ipython",
    "version": 3
   },
   "file_extension": ".py",
   "mimetype": "text/x-python",
   "name": "python",
   "nbconvert_exporter": "python",
   "pygments_lexer": "ipython3",
   "version": "3.6.1"
  }
 },
 "nbformat": 4,
 "nbformat_minor": 2
}
