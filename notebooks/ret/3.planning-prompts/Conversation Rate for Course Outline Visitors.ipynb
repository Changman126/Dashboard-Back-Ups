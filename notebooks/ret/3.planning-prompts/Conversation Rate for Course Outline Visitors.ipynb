{
 "cells": [
  {
   "cell_type": "code",
   "execution_count": 1,
   "metadata": {
    "collapsed": true
   },
   "outputs": [],
   "source": [
    "%load_ext edx_jupyter"
   ]
  },
  {
   "cell_type": "code",
   "execution_count": 2,
   "metadata": {},
   "outputs": [
    {
     "name": "stdout",
     "output_type": "stream",
     "text": [
      "password: ········\n"
     ]
    },
    {
     "data": {
      "text/html": [
       "<div>\n",
       "<table border=\"1\" class=\"dataframe\">\n",
       "  <thead>\n",
       "    <tr style=\"text-align: right;\">\n",
       "      <th></th>\n",
       "      <th>?column?</th>\n",
       "    </tr>\n",
       "  </thead>\n",
       "  <tbody>\n",
       "    <tr>\n",
       "      <th>0</th>\n",
       "      <td>Connected to Vertica!</td>\n",
       "    </tr>\n",
       "  </tbody>\n",
       "</table>\n",
       "</div>"
      ],
      "text/plain": [
       "                ?column?\n",
       "0  Connected to Vertica!"
      ]
     },
     "execution_count": 2,
     "metadata": {},
     "output_type": "execute_result"
    }
   ],
   "source": [
    "%%vertica\n",
    "SELECT 'Connected to Vertica!'"
   ]
  },
  {
   "cell_type": "markdown",
   "metadata": {},
   "source": [
    "## Identify the courses to analyze"
   ]
  },
  {
   "cell_type": "code",
   "execution_count": 61,
   "metadata": {},
   "outputs": [
    {
     "data": {
      "text/html": [
       "<div>\n",
       "<table border=\"1\" class=\"dataframe\">\n",
       "  <thead>\n",
       "    <tr style=\"text-align: right;\">\n",
       "      <th></th>\n",
       "      <th>bookings</th>\n",
       "      <th>bookings_per_enrollment</th>\n",
       "      <th>conversion_rate</th>\n",
       "      <th>cnt_enrollments</th>\n",
       "    </tr>\n",
       "  </thead>\n",
       "  <tbody>\n",
       "  </tbody>\n",
       "</table>\n",
       "</div>"
      ],
      "text/plain": [
       "Empty DataFrame\n",
       "Columns: [bookings, bookings_per_enrollment, conversion_rate, cnt_enrollments]\n",
       "Index: []"
      ]
     },
     "execution_count": 61,
     "metadata": {},
     "output_type": "execute_result"
    }
   ],
   "source": [
    "%%vertica\n",
    "DROP TABLE IF EXISTS ex_courses;\n",
    "\n",
    "CREATE local TEMPORARY TABLE ex_courses\n",
    "ON COMMIT PRESERVE ROWS\n",
    "AS SELECT\n",
    "    *\n",
    "FROM\n",
    "    business_intelligence.course_master\n",
    "WHERE\n",
    "    (content_language is NULL OR content_language = 'en-us')"
   ]
  },
  {
   "cell_type": "code",
   "execution_count": 62,
   "metadata": {},
   "outputs": [
    {
     "data": {
      "text/html": [
       "<div>\n",
       "<table border=\"1\" class=\"dataframe\">\n",
       "  <thead>\n",
       "    <tr style=\"text-align: right;\">\n",
       "      <th></th>\n",
       "      <th>COUNT</th>\n",
       "    </tr>\n",
       "  </thead>\n",
       "  <tbody>\n",
       "    <tr>\n",
       "      <th>0</th>\n",
       "      <td>3874</td>\n",
       "    </tr>\n",
       "  </tbody>\n",
       "</table>\n",
       "</div>"
      ],
      "text/plain": [
       "   COUNT\n",
       "0   3874"
      ]
     },
     "execution_count": 62,
     "metadata": {},
     "output_type": "execute_result"
    }
   ],
   "source": [
    "%%vertica\n",
    "SELECT COUNT(*) FROM ex_courses"
   ]
  },
  {
   "cell_type": "markdown",
   "metadata": {},
   "source": [
    "Number of courses: 3874"
   ]
  },
  {
   "cell_type": "markdown",
   "metadata": {},
   "source": [
    "## Compute the content availability date for each enrollment"
   ]
  },
  {
   "cell_type": "code",
   "execution_count": 65,
   "metadata": {
    "scrolled": false
   },
   "outputs": [
    {
     "data": {
      "text/html": [
       "<div>\n",
       "<table border=\"1\" class=\"dataframe\">\n",
       "  <thead>\n",
       "    <tr style=\"text-align: right;\">\n",
       "      <th></th>\n",
       "      <th>count</th>\n",
       "    </tr>\n",
       "  </thead>\n",
       "  <tbody>\n",
       "  </tbody>\n",
       "</table>\n",
       "</div>"
      ],
      "text/plain": [
       "Empty DataFrame\n",
       "Columns: [count]\n",
       "Index: []"
      ]
     },
     "execution_count": 65,
     "metadata": {},
     "output_type": "execute_result"
    }
   ],
   "source": [
    "%%vertica\n",
    "DROP TABLE IF EXISTS user_content_availability;\n",
    "\n",
    "CREATE local TEMPORARY TABLE user_content_availability\n",
    "ON COMMIT PRESERVE ROWS AS\n",
    "SELECT\n",
    "    CASE\n",
    "        WHEN ec.course_start_date >= uc.first_enrollment_time THEN ec.course_start_date\n",
    "        WHEN ec.course_start_date < uc.first_enrollment_time THEN DATE(uc.first_enrollment_time)\n",
    "    END AS content_availability_date,\n",
    "    uc.user_id,\n",
    "    uc.course_id,\n",
    "    uc.first_verified_enrollment_time\n",
    "FROM\n",
    "    production.d_user_course uc\n",
    "JOIN\n",
    "    ex_courses ec\n",
    "ON\n",
    "    ec.course_id = uc.course_id"
   ]
  },
  {
   "cell_type": "code",
   "execution_count": 66,
   "metadata": {},
   "outputs": [
    {
     "data": {
      "text/html": [
       "<div>\n",
       "<table border=\"1\" class=\"dataframe\">\n",
       "  <thead>\n",
       "    <tr style=\"text-align: right;\">\n",
       "      <th></th>\n",
       "      <th>count</th>\n",
       "    </tr>\n",
       "  </thead>\n",
       "  <tbody>\n",
       "    <tr>\n",
       "      <th>0</th>\n",
       "      <td>39445078</td>\n",
       "    </tr>\n",
       "  </tbody>\n",
       "</table>\n",
       "</div>"
      ],
      "text/plain": [
       "      count\n",
       "0  39445078"
      ]
     },
     "execution_count": 66,
     "metadata": {},
     "output_type": "execute_result"
    }
   ],
   "source": [
    "%%vertica\n",
    "select count(*) from user_content_availability"
   ]
  },
  {
   "cell_type": "markdown",
   "metadata": {},
   "source": [
    "Number of enrollments in content_availability table: 39,445,078"
   ]
  },
  {
   "cell_type": "markdown",
   "metadata": {},
   "source": [
    "# Conversion rate for Course Outline visitors"
   ]
  },
  {
   "cell_type": "code",
   "execution_count": 67,
   "metadata": {},
   "outputs": [
    {
     "data": {
      "text/html": [
       "<div>\n",
       "<table border=\"1\" class=\"dataframe\">\n",
       "  <thead>\n",
       "    <tr style=\"text-align: right;\">\n",
       "      <th></th>\n",
       "      <th>count</th>\n",
       "    </tr>\n",
       "  </thead>\n",
       "  <tbody>\n",
       "  </tbody>\n",
       "</table>\n",
       "</div>"
      ],
      "text/plain": [
       "Empty DataFrame\n",
       "Columns: [count]\n",
       "Index: []"
      ]
     },
     "execution_count": 67,
     "metadata": {},
     "output_type": "execute_result"
    }
   ],
   "source": [
    "%%vertica\n",
    "DROP TABLE IF EXISTS course_outline_events;\n",
    "CREATE local TEMPORARY TABLE course_outline_events\n",
    "ON COMMIT PRESERVE ROWS AS\n",
    "SELECT\n",
    "    user_id,\n",
    "    LEFT(RIGHT(url, LENGTH(url) - 32), LENGTH(RIGHT(url, LENGTH(url) - 32)) - 8) AS computed_course_id,\n",
    "    date,\n",
    "    event_source,\n",
    "    event_type\n",
    "FROM\n",
    "    experimental_events_run14.event_records\n",
    "WHERE\n",
    "    event_source = 'client' AND\n",
    "    event_type = 'page' AND\n",
    "    url LIKE 'https://courses.edx.org/courses/%/course/' AND\n",
    "    --- Filter out the 190,809 rows in the table with non-numeric user_ids (out of 987,541,397 rows)\n",
    "    user_id is not NULL AND\n",
    "    REGEXP_LIKE(user_id, '^[0-9]+')"
   ]
  },
  {
   "cell_type": "code",
   "execution_count": 68,
   "metadata": {},
   "outputs": [
    {
     "data": {
      "text/html": [
       "<div>\n",
       "<table border=\"1\" class=\"dataframe\">\n",
       "  <thead>\n",
       "    <tr style=\"text-align: right;\">\n",
       "      <th></th>\n",
       "      <th>count</th>\n",
       "    </tr>\n",
       "  </thead>\n",
       "  <tbody>\n",
       "    <tr>\n",
       "      <th>0</th>\n",
       "      <td>5380211</td>\n",
       "    </tr>\n",
       "  </tbody>\n",
       "</table>\n",
       "</div>"
      ],
      "text/plain": [
       "     count\n",
       "0  5380211"
      ]
     },
     "execution_count": 68,
     "metadata": {},
     "output_type": "execute_result"
    }
   ],
   "source": [
    "%%vertica\n",
    "SELECT count(*) FROM course_outline_events"
   ]
  },
  {
   "cell_type": "markdown",
   "metadata": {},
   "source": [
    "Number of course-outline page events: 5,380,211"
   ]
  },
  {
   "cell_type": "code",
   "execution_count": 69,
   "metadata": {},
   "outputs": [
    {
     "data": {
      "text/html": [
       "<div>\n",
       "<table border=\"1\" class=\"dataframe\">\n",
       "  <thead>\n",
       "    <tr style=\"text-align: right;\">\n",
       "      <th></th>\n",
       "      <th>count</th>\n",
       "    </tr>\n",
       "  </thead>\n",
       "  <tbody>\n",
       "  </tbody>\n",
       "</table>\n",
       "</div>"
      ],
      "text/plain": [
       "Empty DataFrame\n",
       "Columns: [count]\n",
       "Index: []"
      ]
     },
     "execution_count": 69,
     "metadata": {},
     "output_type": "execute_result"
    }
   ],
   "source": [
    "%%vertica\n",
    "DROP TABLE IF EXISTS ex_enrollments;\n",
    "\n",
    "CREATE local TEMPORARY TABLE ex_enrollments\n",
    "ON COMMIT PRESERVE ROWS AS\n",
    "SELECT\n",
    "    e.user_id,\n",
    "    ca.course_id,\n",
    "    ca.content_availability_date,\n",
    "    ca.first_verified_enrollment_time\n",
    "FROM\n",
    "    course_outline_events e\n",
    "JOIN\n",
    "    user_content_availability ca\n",
    "ON\n",
    "    ca.course_id = computed_course_id\n",
    "    AND e.user_id = ca.user_id\n",
    "GROUP BY 1, 2, 3, 4"
   ]
  },
  {
   "cell_type": "code",
   "execution_count": 70,
   "metadata": {},
   "outputs": [
    {
     "data": {
      "text/html": [
       "<div>\n",
       "<table border=\"1\" class=\"dataframe\">\n",
       "  <thead>\n",
       "    <tr style=\"text-align: right;\">\n",
       "      <th></th>\n",
       "      <th>COUNT</th>\n",
       "    </tr>\n",
       "  </thead>\n",
       "  <tbody>\n",
       "    <tr>\n",
       "      <th>0</th>\n",
       "      <td>950675</td>\n",
       "    </tr>\n",
       "  </tbody>\n",
       "</table>\n",
       "</div>"
      ],
      "text/plain": [
       "    COUNT\n",
       "0  950675"
      ]
     },
     "execution_count": 70,
     "metadata": {},
     "output_type": "execute_result"
    }
   ],
   "source": [
    "%%vertica\n",
    "SELECT COUNT(*) FROM ex_enrollments"
   ]
  },
  {
   "cell_type": "markdown",
   "metadata": {},
   "source": [
    "Number of rows in ex_enrollments (enrollments that accessed the course outline page): 950,675"
   ]
  },
  {
   "cell_type": "code",
   "execution_count": 71,
   "metadata": {
    "collapsed": true
   },
   "outputs": [],
   "source": [
    "%%vertica -> results\n",
    "\n",
    "SELECT\n",
    "    SUM(value) AS 'bookings',\n",
    "    AVG(value) AS 'bookings_per_enrollment',\n",
    "    SUM(did_upgrade)/COUNT(*) AS 'conversion_rate',\n",
    "    COUNT(*) AS 'cnt_enrollments'\n",
    "FROM\n",
    "(\n",
    "    SELECT\n",
    "        CASE\n",
    "            WHEN enr.first_verified_enrollment_time is not NULL THEN crs.course_seat_price\n",
    "            ELSE 0\n",
    "        END AS value,\n",
    "        CASE\n",
    "            WHEN enr.first_verified_enrollment_time is not NULL THEN 1\n",
    "            ELSE 0\n",
    "        END AS did_upgrade\n",
    "    FROM\n",
    "        ex_enrollments AS enr\n",
    "    JOIN\n",
    "        ex_courses AS crs\n",
    "        ON crs.course_id = enr.course_id\n",
    ") AS enr"
   ]
  },
  {
   "cell_type": "code",
   "execution_count": 72,
   "metadata": {},
   "outputs": [
    {
     "data": {
      "text/html": [
       "<div>\n",
       "<table border=\"1\" class=\"dataframe\">\n",
       "  <thead>\n",
       "    <tr style=\"text-align: right;\">\n",
       "      <th></th>\n",
       "      <th>bookings</th>\n",
       "      <th>bookings_per_enrollment</th>\n",
       "      <th>conversion_rate</th>\n",
       "      <th>cnt_enrollments</th>\n",
       "    </tr>\n",
       "  </thead>\n",
       "  <tbody>\n",
       "    <tr>\n",
       "      <th>0</th>\n",
       "      <td>5341513.0</td>\n",
       "      <td>5.618588</td>\n",
       "      <td>0.057082990598367915</td>\n",
       "      <td>950686</td>\n",
       "    </tr>\n",
       "  </tbody>\n",
       "</table>\n",
       "</div>"
      ],
      "text/plain": [
       "    bookings  bookings_per_enrollment       conversion_rate  cnt_enrollments\n",
       "0  5341513.0                 5.618588  0.057082990598367915           950686"
      ]
     },
     "execution_count": 72,
     "metadata": {},
     "output_type": "execute_result"
    }
   ],
   "source": [
    "results"
   ]
  },
  {
   "cell_type": "code",
   "execution_count": 73,
   "metadata": {
    "collapsed": true
   },
   "outputs": [],
   "source": [
    "conversion_rate = float(results.loc[0].conversion_rate)"
   ]
  },
  {
   "cell_type": "code",
   "execution_count": 74,
   "metadata": {},
   "outputs": [
    {
     "name": "stdout",
     "output_type": "stream",
     "text": [
      "Conversion rate of Course outline enrollees: 5.71%\n"
     ]
    }
   ],
   "source": [
    "print('Conversion rate of Course outline enrollees: {0}%'.format(round(conversion_rate*100, 2)))"
   ]
  },
  {
   "cell_type": "markdown",
   "metadata": {},
   "source": [
    "Conversion Rate of Enrollments that visit the Course Outline page is: \n",
    "## 5.71%"
   ]
  },
  {
   "cell_type": "code",
   "execution_count": null,
   "metadata": {
    "collapsed": true
   },
   "outputs": [],
   "source": []
  }
 ],
 "metadata": {
  "kernelspec": {
   "display_name": "Python 3",
   "language": "python",
   "name": "python3"
  },
  "language_info": {
   "codemirror_mode": {
    "name": "ipython",
    "version": 3
   },
   "file_extension": ".py",
   "mimetype": "text/x-python",
   "name": "python",
   "nbconvert_exporter": "python",
   "pygments_lexer": "ipython3",
   "version": "3.6.1"
  }
 },
 "nbformat": 4,
 "nbformat_minor": 2
}
