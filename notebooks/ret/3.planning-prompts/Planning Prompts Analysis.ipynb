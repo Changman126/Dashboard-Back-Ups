{
 "cells": [
  {
   "cell_type": "markdown",
   "metadata": {},
   "source": [
    "# Experiment Information\n",
    "\n",
    "Users in the treatment group were exposed to a \"Planning Prompt\" UI on the Course Outline page - that encouraged users to make a plan for learning and completing the course. Users in the treatment group remained in the group until the end of the experiment. Users were allowed to \n",
    "1. enter and save their plan or \n",
    "2. dismiss the prompt, which collapsed it for future access.  \n",
    "\n",
    "See https://openedx.atlassian.net/wiki/display/RET/3.+Planning+Prompts for more information."
   ]
  },
  {
   "cell_type": "markdown",
   "metadata": {},
   "source": [
    "# Decisions\n",
    "1. Segment the user population according to just 2 variations: treatment and control. Don't create 3 segments (treatment_saved, treatment_not_saved and control) since the treatment_saved group is a self-selected group.\n",
    "2. Compute date-difference relative to user-specific exposure to the experiment, not relative to the beginning of the experiment.\n",
    "3. Remove users who were grouped into multiple variations (they happened to get into both control and treatment groups - either across devices or sessions).\n",
    "4. Count by users, not by enrollments."
   ]
  },
  {
   "cell_type": "markdown",
   "metadata": {},
   "source": [
    "# Setup"
   ]
  },
  {
   "cell_type": "code",
   "execution_count": 1,
   "metadata": {
    "collapsed": true
   },
   "outputs": [],
   "source": [
    "%load_ext edx_jupyter"
   ]
  },
  {
   "cell_type": "code",
   "execution_count": 2,
   "metadata": {},
   "outputs": [
    {
     "name": "stdout",
     "output_type": "stream",
     "text": [
      "password: ········\n"
     ]
    },
    {
     "data": {
      "text/html": [
       "<div>\n",
       "<style>\n",
       "    .dataframe thead tr:only-child th {\n",
       "        text-align: right;\n",
       "    }\n",
       "\n",
       "    .dataframe thead th {\n",
       "        text-align: left;\n",
       "    }\n",
       "\n",
       "    .dataframe tbody tr th {\n",
       "        vertical-align: top;\n",
       "    }\n",
       "</style>\n",
       "<table border=\"1\" class=\"dataframe\">\n",
       "  <thead>\n",
       "    <tr style=\"text-align: right;\">\n",
       "      <th></th>\n",
       "      <th>?column?</th>\n",
       "    </tr>\n",
       "  </thead>\n",
       "  <tbody>\n",
       "    <tr>\n",
       "      <th>0</th>\n",
       "      <td>Connected to Vertica!</td>\n",
       "    </tr>\n",
       "  </tbody>\n",
       "</table>\n",
       "</div>"
      ],
      "text/plain": [
       "                ?column?\n",
       "0  Connected to Vertica!"
      ]
     },
     "execution_count": 2,
     "metadata": {},
     "output_type": "execute_result"
    }
   ],
   "source": [
    "%%vertica\n",
    "SELECT 'Connected to Vertica!'"
   ]
  },
  {
   "cell_type": "code",
   "execution_count": 3,
   "metadata": {},
   "outputs": [
    {
     "data": {
      "text/html": [
       "<div>\n",
       "<style>\n",
       "    .dataframe thead tr:only-child th {\n",
       "        text-align: right;\n",
       "    }\n",
       "\n",
       "    .dataframe thead th {\n",
       "        text-align: left;\n",
       "    }\n",
       "\n",
       "    .dataframe tbody tr th {\n",
       "        vertical-align: top;\n",
       "    }\n",
       "</style>\n",
       "<table border=\"1\" class=\"dataframe\">\n",
       "  <thead>\n",
       "    <tr style=\"text-align: right;\">\n",
       "      <th></th>\n",
       "      <th>?column?</th>\n",
       "    </tr>\n",
       "  </thead>\n",
       "  <tbody>\n",
       "  </tbody>\n",
       "</table>\n",
       "</div>"
      ],
      "text/plain": [
       "Empty DataFrame\n",
       "Columns: [?column?]\n",
       "Index: []"
      ]
     },
     "execution_count": 3,
     "metadata": {},
     "output_type": "execute_result"
    }
   ],
   "source": [
    "%%vertica\n",
    "SET TIME ZONE 'UTC'"
   ]
  },
  {
   "cell_type": "code",
   "execution_count": 4,
   "metadata": {
    "collapsed": true
   },
   "outputs": [],
   "source": [
    "start_time = '2017-06-21'\n",
    "end_time = '2017-07-08'\n",
    "experiment_id = '8436781476'"
   ]
  },
  {
   "cell_type": "code",
   "execution_count": 5,
   "metadata": {},
   "outputs": [
    {
     "name": "stderr",
     "output_type": "stream",
     "text": [
      "/usr/local/lib/python3.6/site-packages/statsmodels/compat/pandas.py:56: FutureWarning: The pandas.core.datetools module is deprecated and will be removed in a future version. Please use the pandas.tseries module instead.\n",
      "  from pandas.core import datetools\n"
     ]
    }
   ],
   "source": [
    "import matplotlib.pyplot as plt\n",
    "from plotnine import *\n",
    "from edx_stats import grouped_confidence_intervals\n",
    "from edx_plot import geom_confidence, theme_confidence"
   ]
  },
  {
   "cell_type": "code",
   "execution_count": 6,
   "metadata": {
    "collapsed": true
   },
   "outputs": [],
   "source": [
    "%matplotlib inline"
   ]
  },
  {
   "cell_type": "markdown",
   "metadata": {},
   "source": [
    "## All BI events related to this experiment"
   ]
  },
  {
   "cell_type": "code",
   "execution_count": 7,
   "metadata": {},
   "outputs": [
    {
     "data": {
      "text/html": [
       "<div>\n",
       "<style>\n",
       "    .dataframe thead tr:only-child th {\n",
       "        text-align: right;\n",
       "    }\n",
       "\n",
       "    .dataframe thead th {\n",
       "        text-align: left;\n",
       "    }\n",
       "\n",
       "    .dataframe tbody tr th {\n",
       "        vertical-align: top;\n",
       "    }\n",
       "</style>\n",
       "<table border=\"1\" class=\"dataframe\">\n",
       "  <thead>\n",
       "    <tr style=\"text-align: right;\">\n",
       "      <th></th>\n",
       "      <th>event_type</th>\n",
       "      <th>count</th>\n",
       "    </tr>\n",
       "  </thead>\n",
       "  <tbody>\n",
       "    <tr>\n",
       "      <th>0</th>\n",
       "      <td>edx.bi.experiment.planning_prompt.display_expa...</td>\n",
       "      <td>251630</td>\n",
       "    </tr>\n",
       "    <tr>\n",
       "      <th>1</th>\n",
       "      <td>edx.bi.experiment.planning_prompt.display_coll...</td>\n",
       "      <td>66715</td>\n",
       "    </tr>\n",
       "    <tr>\n",
       "      <th>2</th>\n",
       "      <td>edx.bi.experiment.planning_prompt.dismissed</td>\n",
       "      <td>20774</td>\n",
       "    </tr>\n",
       "    <tr>\n",
       "      <th>3</th>\n",
       "      <td>edx.bi.experiment.planning_prompt.save_succeeded</td>\n",
       "      <td>6309</td>\n",
       "    </tr>\n",
       "    <tr>\n",
       "      <th>4</th>\n",
       "      <td>edx.bi.experiment.planning_prompt.expanded</td>\n",
       "      <td>1314</td>\n",
       "    </tr>\n",
       "    <tr>\n",
       "      <th>5</th>\n",
       "      <td>edx.bi.experiment.planning_prompt.save_failed</td>\n",
       "      <td>89</td>\n",
       "    </tr>\n",
       "    <tr>\n",
       "      <th>6</th>\n",
       "      <td>edx.bi.experiment.planning_prompt.validation_f...</td>\n",
       "      <td>6</td>\n",
       "    </tr>\n",
       "  </tbody>\n",
       "</table>\n",
       "</div>"
      ],
      "text/plain": [
       "                                          event_type   count\n",
       "0  edx.bi.experiment.planning_prompt.display_expa...  251630\n",
       "1  edx.bi.experiment.planning_prompt.display_coll...   66715\n",
       "2        edx.bi.experiment.planning_prompt.dismissed   20774\n",
       "3   edx.bi.experiment.planning_prompt.save_succeeded    6309\n",
       "4         edx.bi.experiment.planning_prompt.expanded    1314\n",
       "5      edx.bi.experiment.planning_prompt.save_failed      89\n",
       "6  edx.bi.experiment.planning_prompt.validation_f...       6"
      ]
     },
     "execution_count": 7,
     "metadata": {},
     "output_type": "execute_result"
    }
   ],
   "source": [
    "%%vertica (start_time=start_time, end_time=end_time)\n",
    "SELECT\n",
    "    event_type,\n",
    "    COUNT(1) AS 'count'\n",
    "FROM \n",
    "    experimental_events_run14.event_records\n",
    "WHERE\n",
    "    received_at::TIMESTAMPTZ BETWEEN :start_time AND :end_time\n",
    "    AND event_type LIKE 'edx.bi.experiment.planning_prompt.%'\n",
    "    AND event_type != 'edx.bi.experiment.planning_prompt.displayed' -- temp event type from initial testing\n",
    "GROUP BY\n",
    "    event_type\n",
    "ORDER BY\n",
    "    COUNT(1) DESC"
   ]
  },
  {
   "cell_type": "markdown",
   "metadata": {},
   "source": [
    "* **display_expanded**: planning prompt was displayed in the expanded state to the user\n",
    "* **display_collapsed**: planning prompt was displayed in the collapsed state to the user\n",
    "* **dismissed**: planning prompt was dismissed by the user, which puts it in the collapsed state for future access.\n",
    "* **save_succeeded**: a plan was created and saved by the user.\n",
    "* **expanded**: a previously collapsed planning prompt was expanded by the user.\n",
    "* **save_failed**: probably a server-side error?\n",
    "* **validation_failed**: user tried to save an empty (null) plan."
   ]
  },
  {
   "cell_type": "markdown",
   "metadata": {},
   "source": [
    "## Learners in the experiment"
   ]
  },
  {
   "cell_type": "markdown",
   "metadata": {},
   "source": [
    "### Learners by variation groups -> TABLE user_variations"
   ]
  },
  {
   "cell_type": "markdown",
   "metadata": {},
   "source": [
    "Group users by their variations (control versus treatment), and then later remove users who ended up in multiple variations."
   ]
  },
  {
   "cell_type": "code",
   "execution_count": 8,
   "metadata": {},
   "outputs": [
    {
     "data": {
      "text/html": [
       "<div>\n",
       "<style>\n",
       "    .dataframe thead tr:only-child th {\n",
       "        text-align: right;\n",
       "    }\n",
       "\n",
       "    .dataframe thead th {\n",
       "        text-align: left;\n",
       "    }\n",
       "\n",
       "    .dataframe tbody tr th {\n",
       "        vertical-align: top;\n",
       "    }\n",
       "</style>\n",
       "<table border=\"1\" class=\"dataframe\">\n",
       "  <thead>\n",
       "    <tr style=\"text-align: right;\">\n",
       "      <th></th>\n",
       "      <th>variation_group</th>\n",
       "      <th>COUNT</th>\n",
       "    </tr>\n",
       "  </thead>\n",
       "  <tbody>\n",
       "    <tr>\n",
       "      <th>0</th>\n",
       "      <td>control</td>\n",
       "      <td>50862</td>\n",
       "    </tr>\n",
       "    <tr>\n",
       "      <th>1</th>\n",
       "      <td>treatment</td>\n",
       "      <td>51216</td>\n",
       "    </tr>\n",
       "  </tbody>\n",
       "</table>\n",
       "</div>"
      ],
      "text/plain": [
       "  variation_group  COUNT\n",
       "0         control  50862\n",
       "1       treatment  51216"
      ]
     },
     "execution_count": 8,
     "metadata": {},
     "output_type": "execute_result"
    }
   ],
   "source": [
    "%%vertica (start_time=start_time, end_time=end_time, experiment_id=experiment_id)\n",
    "DROP TABLE IF EXISTS user_variations_raw;\n",
    "CREATE LOCAL TEMPORARY TABLE IF NOT EXISTS user_variations_raw\n",
    "ON COMMIT PRESERVE ROWS AS\n",
    "SELECT\n",
    "    user_id,\n",
    "    anonymous_id,\n",
    "    received_at::TIMESTAMPTZ,\n",
    "    timestamp::TIMESTAMPTZ,\n",
    "    experimentid AS experiment_id,\n",
    "    experimentname AS experiment_name,\n",
    "    variationid::INT AS variation_id,\n",
    "    variationname AS variation_name,\n",
    "    CASE\n",
    "        WHEN variationid = '8435930136' THEN 'treatment'\n",
    "        ELSE 'control'\n",
    "    END AS 'variation_group'\n",
    "FROM\n",
    "    experimental_events_run14.event_records\n",
    "WHERE\n",
    "    received_at::TIMESTAMPTZ BETWEEN :start_time AND :end_time\n",
    "    AND event_type = 'Experiment Viewed'\n",
    "    AND experimentid = :experiment_id\n",
    "    AND user_id is not NULL\n",
    "    AND REGEXP_LIKE(user_id, '^[0-9]+');\n",
    "\n",
    "SELECT\n",
    "    variation_group,\n",
    "    COUNT(DISTINCT user_id)\n",
    "FROM user_variations_raw\n",
    "GROUP BY variation_group;"
   ]
  },
  {
   "cell_type": "markdown",
   "metadata": {},
   "source": [
    "Check how many users saw multiple variations."
   ]
  },
  {
   "cell_type": "code",
   "execution_count": 9,
   "metadata": {
    "collapsed": true
   },
   "outputs": [],
   "source": [
    "%%vertica -> variations_per_user\n",
    "SELECT\n",
    "    user_id,\n",
    "    MIN(variation_group) AS variation_group,\n",
    "    COUNT(DISTINCT variation_group) AS variations_per_user\n",
    "FROM\n",
    "    user_variations_raw\n",
    "GROUP BY 1"
   ]
  },
  {
   "cell_type": "code",
   "execution_count": 10,
   "metadata": {},
   "outputs": [
    {
     "data": {
      "text/html": [
       "<div>\n",
       "<style>\n",
       "    .dataframe thead tr:only-child th {\n",
       "        text-align: right;\n",
       "    }\n",
       "\n",
       "    .dataframe thead th {\n",
       "        text-align: left;\n",
       "    }\n",
       "\n",
       "    .dataframe tbody tr th {\n",
       "        vertical-align: top;\n",
       "    }\n",
       "</style>\n",
       "<table border=\"1\" class=\"dataframe\">\n",
       "  <thead>\n",
       "    <tr style=\"text-align: right;\">\n",
       "      <th></th>\n",
       "      <th>user_id</th>\n",
       "      <th>percent_of_population</th>\n",
       "    </tr>\n",
       "    <tr>\n",
       "      <th>variations_per_user</th>\n",
       "      <th></th>\n",
       "      <th></th>\n",
       "    </tr>\n",
       "  </thead>\n",
       "  <tbody>\n",
       "    <tr>\n",
       "      <th>1</th>\n",
       "      <td>89072</td>\n",
       "      <td>93.195919</td>\n",
       "    </tr>\n",
       "    <tr>\n",
       "      <th>2</th>\n",
       "      <td>6503</td>\n",
       "      <td>6.804081</td>\n",
       "    </tr>\n",
       "  </tbody>\n",
       "</table>\n",
       "</div>"
      ],
      "text/plain": [
       "                     user_id  percent_of_population\n",
       "variations_per_user                                \n",
       "1                      89072              93.195919\n",
       "2                       6503               6.804081"
      ]
     },
     "execution_count": 10,
     "metadata": {},
     "output_type": "execute_result"
    }
   ],
   "source": [
    "num_users = variations_per_user.groupby('variations_per_user').count()\n",
    "total_users = num_users.user_id.sum()\n",
    "num_users['percent_of_population'] = (num_users.user_id / float(total_users)) * 100\n",
    "num_users[['user_id', 'percent_of_population']]"
   ]
  },
  {
   "cell_type": "markdown",
   "metadata": {},
   "source": [
    "Exclude users with multiple variations."
   ]
  },
  {
   "cell_type": "code",
   "execution_count": 11,
   "metadata": {},
   "outputs": [
    {
     "data": {
      "text/html": [
       "<div>\n",
       "<style>\n",
       "    .dataframe thead tr:only-child th {\n",
       "        text-align: right;\n",
       "    }\n",
       "\n",
       "    .dataframe thead th {\n",
       "        text-align: left;\n",
       "    }\n",
       "\n",
       "    .dataframe tbody tr th {\n",
       "        vertical-align: top;\n",
       "    }\n",
       "</style>\n",
       "<table border=\"1\" class=\"dataframe\">\n",
       "  <thead>\n",
       "    <tr style=\"text-align: right;\">\n",
       "      <th></th>\n",
       "      <th>variation_group</th>\n",
       "      <th>COUNT</th>\n",
       "    </tr>\n",
       "  </thead>\n",
       "  <tbody>\n",
       "    <tr>\n",
       "      <th>0</th>\n",
       "      <td>treatment</td>\n",
       "      <td>44713</td>\n",
       "    </tr>\n",
       "    <tr>\n",
       "      <th>1</th>\n",
       "      <td>control</td>\n",
       "      <td>44359</td>\n",
       "    </tr>\n",
       "  </tbody>\n",
       "</table>\n",
       "</div>"
      ],
      "text/plain": [
       "  variation_group  COUNT\n",
       "0       treatment  44713\n",
       "1         control  44359"
      ]
     },
     "execution_count": 11,
     "metadata": {},
     "output_type": "execute_result"
    }
   ],
   "source": [
    "%%vertica\n",
    "DROP TABLE IF EXISTS user_variations;\n",
    "CREATE LOCAL TEMPORARY TABLE IF NOT EXISTS user_variations\n",
    "ON COMMIT PRESERVE ROWS AS\n",
    "SELECT\n",
    "    user_id,\n",
    "    MIN(received_at) AS received_at,\n",
    "    MIN(timestamp) AS timestamp,\n",
    "    MIN(variation_group) AS variation_group,\n",
    "    MIN(anonymous_id) AS anonymous_id,\n",
    "    MIN(experiment_id) AS experiment_id,\n",
    "    MIN(experiment_name) AS experiment_name,\n",
    "    MIN(variation_id) AS variation_id,\n",
    "    MIN(variation_name) AS variation_name\n",
    "FROM\n",
    "    user_variations_raw\n",
    "GROUP BY 1\n",
    "HAVING COUNT(DISTINCT variation_group) = 1;\n",
    "\n",
    "SELECT\n",
    "    variation_group,\n",
    "    COUNT(DISTINCT user_id)\n",
    "FROM user_variations\n",
    "GROUP BY variation_group;"
   ]
  },
  {
   "cell_type": "markdown",
   "metadata": {},
   "source": [
    "### Persist user variations information in ret.experiment_views table"
   ]
  },
  {
   "cell_type": "code",
   "execution_count": 38,
   "metadata": {},
   "outputs": [
    {
     "data": {
      "text/html": [
       "<div>\n",
       "<style>\n",
       "    .dataframe thead tr:only-child th {\n",
       "        text-align: right;\n",
       "    }\n",
       "\n",
       "    .dataframe thead th {\n",
       "        text-align: left;\n",
       "    }\n",
       "\n",
       "    .dataframe tbody tr th {\n",
       "        vertical-align: top;\n",
       "    }\n",
       "</style>\n",
       "<table border=\"1\" class=\"dataframe\">\n",
       "  <thead>\n",
       "    <tr style=\"text-align: right;\">\n",
       "      <th></th>\n",
       "      <th>OUTPUT</th>\n",
       "    </tr>\n",
       "  </thead>\n",
       "  <tbody>\n",
       "    <tr>\n",
       "      <th>0</th>\n",
       "      <td>89072</td>\n",
       "    </tr>\n",
       "  </tbody>\n",
       "</table>\n",
       "</div>"
      ],
      "text/plain": [
       "   OUTPUT\n",
       "0   89072"
      ]
     },
     "execution_count": 38,
     "metadata": {},
     "output_type": "execute_result"
    }
   ],
   "source": [
    "%%vertica (start_time=start_time, end_time=end_time, experiment_id=experiment_id)\n",
    "DELETE FROM ret.experiment_views WHERE experiment_id = :experiment_id;\n",
    "INSERT INTO ret.experiment_views \n",
    "(\n",
    "    received_at,\n",
    "    timestamp,\n",
    "    anonymous_id,\n",
    "    raw_user_id,\n",
    "    user_id,\n",
    "    experiment_id,\n",
    "    experiment_name,\n",
    "    variation_id,\n",
    "    variation_name,\n",
    "    course_id,\n",
    "    path,\n",
    "    url\n",
    ")\n",
    "SELECT\n",
    "    received_at,\n",
    "    timestamp,\n",
    "    anonymous_id,\n",
    "    user_id AS raw_user_id,\n",
    "    user_id::INT,\n",
    "    experiment_id::INT,\n",
    "    experiment_name,\n",
    "    variation_id,\n",
    "    variation_name,\n",
    "    NULL AS course_id,\n",
    "    NULL AS path,\n",
    "    NULL AS url\n",
    "FROM\n",
    "    user_variations;\n",
    "    \n",
    "SELECT COUNT(user_id) from ret.experiment_views where experiment_id = :experiment_id;"
   ]
  },
  {
   "cell_type": "markdown",
   "metadata": {},
   "source": [
    "### Archive: Learners according to 3 groups: treatment_saved, treatment_not_saved, control *(discarded)*"
   ]
  },
  {
   "cell_type": "code",
   "execution_count": 41,
   "metadata": {},
   "outputs": [
    {
     "data": {
      "text/html": [
       "<div>\n",
       "<style>\n",
       "    .dataframe thead tr:only-child th {\n",
       "        text-align: right;\n",
       "    }\n",
       "\n",
       "    .dataframe thead th {\n",
       "        text-align: left;\n",
       "    }\n",
       "\n",
       "    .dataframe tbody tr th {\n",
       "        vertical-align: top;\n",
       "    }\n",
       "</style>\n",
       "<table border=\"1\" class=\"dataframe\">\n",
       "  <thead>\n",
       "    <tr style=\"text-align: right;\">\n",
       "      <th></th>\n",
       "      <th>user_group</th>\n",
       "      <th>count</th>\n",
       "    </tr>\n",
       "  </thead>\n",
       "  <tbody>\n",
       "    <tr>\n",
       "      <th>0</th>\n",
       "      <td>treatment_saved</td>\n",
       "      <td>3291</td>\n",
       "    </tr>\n",
       "    <tr>\n",
       "      <th>1</th>\n",
       "      <td>treatment_not_saved</td>\n",
       "      <td>41080</td>\n",
       "    </tr>\n",
       "    <tr>\n",
       "      <th>2</th>\n",
       "      <td>control</td>\n",
       "      <td>44701</td>\n",
       "    </tr>\n",
       "  </tbody>\n",
       "</table>\n",
       "</div>"
      ],
      "text/plain": [
       "            user_group  count\n",
       "0      treatment_saved   3291\n",
       "1  treatment_not_saved  41080\n",
       "2              control  44701"
      ]
     },
     "execution_count": 41,
     "metadata": {},
     "output_type": "execute_result"
    }
   ],
   "source": [
    "%%vertica (start_time=start_time, end_time=end_time)\n",
    "DROP TABLE IF EXISTS users_in_treatment_group;\n",
    "CREATE LOCAL TEMPORARY TABLE IF NOT EXISTS users_in_treatment_group\n",
    "ON COMMIT PRESERVE ROWS AS\n",
    "SELECT\n",
    "    user_id,\n",
    "    SUM(prompt_saved) as prompt_saved,\n",
    "    SUM(prompt_viewed) as prompt_viewed,\n",
    "    MIN(received_at)\n",
    "FROM\n",
    "(\n",
    "    SELECT\n",
    "        er.user_id,\n",
    "        er.received_at,\n",
    "        CASE\n",
    "            WHEN event_type = 'edx.bi.experiment.planning_prompt.save_succeeded' THEN 1 ELSE 0\n",
    "        END AS prompt_saved,\n",
    "        CASE\n",
    "            WHEN event_type = 'edx.bi.experiment.planning_prompt.display_expanded' THEN 1 ELSE 0\n",
    "        END AS prompt_viewed\n",
    "    FROM\n",
    "        experimental_events_run14.event_records er\n",
    "        JOIN user_variations v ON (er.user_id = v.user_id)\n",
    "    WHERE\n",
    "        er.received_at BETWEEN :start_time AND :end_time\n",
    "        AND event_type IN (\n",
    "            'edx.bi.experiment.planning_prompt.save_succeeded', \n",
    "            'edx.bi.experiment.planning_prompt.display_expanded'\n",
    "        )\n",
    ") AS return\n",
    "GROUP BY user_id;\n",
    "\n",
    "DROP TABLE IF EXISTS user_groups_3_groups;\n",
    "CREATE LOCAL TEMPORARY TABLE IF NOT EXISTS user_groups_3_groups\n",
    "ON COMMIT PRESERVE ROWS AS\n",
    "SELECT\n",
    "    uv.user_id,\n",
    "    uv.received_at,\n",
    "    CASE\n",
    "        WHEN utg.prompt_saved > 0 THEN 'treatment_saved'\n",
    "        WHEN utg.prompt_viewed > 0 THEN 'treatment_not_saved'\n",
    "        ELSE 'control'\n",
    "    END AS user_group\n",
    "FROM\n",
    "    user_variations uv\n",
    "LEFT JOIN\n",
    "    users_in_treatment_group utg\n",
    "    ON utg.user_id = uv.user_id;\n",
    "    \n",
    "SELECT\n",
    "    user_group,\n",
    "    count(user_id)\n",
    "FROM\n",
    "    user_groups_3_groups\n",
    "GROUP BY\n",
    "    user_group;"
   ]
  },
  {
   "cell_type": "markdown",
   "metadata": {},
   "source": [
    "### Archive: Learners who visited Course Outline page *(sanity check)*"
   ]
  },
  {
   "cell_type": "markdown",
   "metadata": {},
   "source": [
    "This is just a sanity check against the numbers we got in the user_variations table. "
   ]
  },
  {
   "cell_type": "code",
   "execution_count": 42,
   "metadata": {},
   "outputs": [
    {
     "data": {
      "text/html": [
       "<div>\n",
       "<style>\n",
       "    .dataframe thead tr:only-child th {\n",
       "        text-align: right;\n",
       "    }\n",
       "\n",
       "    .dataframe thead th {\n",
       "        text-align: left;\n",
       "    }\n",
       "\n",
       "    .dataframe tbody tr th {\n",
       "        vertical-align: top;\n",
       "    }\n",
       "</style>\n",
       "<table border=\"1\" class=\"dataframe\">\n",
       "  <thead>\n",
       "    <tr style=\"text-align: right;\">\n",
       "      <th></th>\n",
       "      <th>COUNT</th>\n",
       "    </tr>\n",
       "  </thead>\n",
       "  <tbody>\n",
       "    <tr>\n",
       "      <th>0</th>\n",
       "      <td>88953</td>\n",
       "    </tr>\n",
       "  </tbody>\n",
       "</table>\n",
       "</div>"
      ],
      "text/plain": [
       "   COUNT\n",
       "0  88953"
      ]
     },
     "execution_count": 42,
     "metadata": {},
     "output_type": "execute_result"
    }
   ],
   "source": [
    "%%vertica (start_time=start_time, end_time=end_time)\n",
    "DROP TABLE IF EXISTS course_outline_visits;\n",
    "CREATE LOCAL TEMPORARY TABLE IF NOT EXISTS course_outline_visits ON COMMIT PRESERVE ROWS AS\n",
    "SELECT\n",
    "    er.user_id,\n",
    "    LEFT(RIGHT(er.url, LENGTH(er.url) - 32), LENGTH(RIGHT(er.url, LENGTH(er.url) - 32)) - 8) AS computed_course_id,\n",
    "    date,\n",
    "    event_source,\n",
    "    event_type\n",
    "FROM\n",
    "    experimental_events_run14.event_records er\n",
    "    JOIN user_variations v ON (er.user_id = v.user_id)\n",
    "WHERE\n",
    "    event_source = 'client' AND\n",
    "    event_type = 'page' AND\n",
    "    er.url LIKE 'https://courses.edx.org/courses/%/course/' AND\n",
    "    er.received_at::TIMESTAMPTZ BETWEEN :start_time AND :end_time;\n",
    "\n",
    "SELECT\n",
    "    COUNT (DISTINCT user_id)\n",
    "FROM\n",
    "    course_outline_visits;"
   ]
  },
  {
   "cell_type": "markdown",
   "metadata": {},
   "source": [
    "## Engagement Analysis"
   ]
  },
  {
   "cell_type": "markdown",
   "metadata": {},
   "source": [
    "Plot engagement across days since exposure, grouped by variation."
   ]
  },
  {
   "cell_type": "code",
   "execution_count": 43,
   "metadata": {
    "collapsed": true
   },
   "outputs": [],
   "source": [
    "%%vertica (end_time=end_time) -> engaged_users\n",
    "SELECT\n",
    "    days_since_user_exposed,\n",
    "    variation_group,\n",
    "    COUNT(DISTINCT user_id) as count_engaged_users\n",
    "FROM\n",
    "(\n",
    "    SELECT\n",
    "        uv.user_id,\n",
    "        uv.variation_group,\n",
    "        DATEDIFF('day', received_at, bi_engage.date) as days_since_user_exposed\n",
    "    FROM\n",
    "        user_variations uv\n",
    "    JOIN\n",
    "        business_intelligence.activity_engagement_user_daily bi_engage\n",
    "        ON bi_engage.user_id = uv.user_id\n",
    "        AND bi_engage.date BETWEEN uv.received_at AND :end_time\n",
    "        AND bi_engage.is_engaged\n",
    ") as return\n",
    "GROUP BY\n",
    "    1, 2\n",
    "ORDER BY 1"
   ]
  },
  {
   "cell_type": "code",
   "execution_count": 44,
   "metadata": {
    "collapsed": true
   },
   "outputs": [],
   "source": [
    "engaged_users_ix = engaged_users.dropna().set_index(['variation_group', 'days_since_user_exposed'])"
   ]
  },
  {
   "cell_type": "code",
   "execution_count": 45,
   "metadata": {
    "collapsed": true
   },
   "outputs": [],
   "source": [
    "%%vertica -> group_sizes\n",
    "SELECT\n",
    "    variation_group,\n",
    "    COUNT (user_id)\n",
    "FROM\n",
    "    user_variations\n",
    "GROUP BY 1;"
   ]
  },
  {
   "cell_type": "code",
   "execution_count": 46,
   "metadata": {},
   "outputs": [
    {
     "data": {
      "text/html": [
       "<div>\n",
       "<style>\n",
       "    .dataframe thead tr:only-child th {\n",
       "        text-align: right;\n",
       "    }\n",
       "\n",
       "    .dataframe thead th {\n",
       "        text-align: left;\n",
       "    }\n",
       "\n",
       "    .dataframe tbody tr th {\n",
       "        vertical-align: top;\n",
       "    }\n",
       "</style>\n",
       "<table border=\"1\" class=\"dataframe\">\n",
       "  <thead>\n",
       "    <tr style=\"text-align: right;\">\n",
       "      <th></th>\n",
       "      <th>variation_group</th>\n",
       "      <th>COUNT</th>\n",
       "    </tr>\n",
       "  </thead>\n",
       "  <tbody>\n",
       "    <tr>\n",
       "      <th>0</th>\n",
       "      <td>control</td>\n",
       "      <td>44359</td>\n",
       "    </tr>\n",
       "    <tr>\n",
       "      <th>1</th>\n",
       "      <td>treatment</td>\n",
       "      <td>44713</td>\n",
       "    </tr>\n",
       "  </tbody>\n",
       "</table>\n",
       "</div>"
      ],
      "text/plain": [
       "  variation_group  COUNT\n",
       "0         control  44359\n",
       "1       treatment  44713"
      ]
     },
     "execution_count": 46,
     "metadata": {},
     "output_type": "execute_result"
    }
   ],
   "source": [
    "group_sizes"
   ]
  },
  {
   "cell_type": "code",
   "execution_count": 47,
   "metadata": {
    "collapsed": true
   },
   "outputs": [],
   "source": [
    "group_sizes.set_index('variation_group', inplace=True)"
   ]
  },
  {
   "cell_type": "code",
   "execution_count": 48,
   "metadata": {},
   "outputs": [
    {
     "data": {
      "image/png": "[encoded data removed]",
      "text/plain": [
       "<matplotlib.figure.Figure at 0x7f543ea85f28>"
      ]
     },
     "metadata": {},
     "output_type": "display_data"
    }
   ],
   "source": [
    "fig = plt.figure(figsize=(16, 10))\n",
    "for group_name in group_sizes.index:\n",
    "    data = engaged_users_ix.loc[group_name]\n",
    "    x = list(data.index)\n",
    "    y = list((data.count_engaged_users/group_sizes.loc[group_name].COUNT)*100)\n",
    "    plt.plot(x, y, label=group_name)\n",
    "    for ann_x in (1, 3, 7, 21, 28):\n",
    "        if x[-1] < ann_x:\n",
    "            break\n",
    "        plt.annotate(\n",
    "            '{0}({1}d): {2}%'.format(group_name, ann_x, round(y[ann_x], 2)),\n",
    "            xy=(ann_x, y[ann_x]),\n",
    "            xytext=(ann_x, y[ann_x])\n",
    "        )\n",
    "    plt.legend()\n",
    "ax = fig.get_axes()[0]\n",
    "ax.set_xlabel('Days since user exposed')\n",
    "ax.set_ylabel('Percentage of group that engaged with the course')\n",
    "None"
   ]
  },
  {
   "cell_type": "markdown",
   "metadata": {},
   "source": [
    "## Statistically Significance Analysis based on User-relative Exposed Dates"
   ]
  },
  {
   "cell_type": "markdown",
   "metadata": {},
   "source": [
    "### is_engaged by week (user-relative exposed dates)"
   ]
  },
  {
   "cell_type": "markdown",
   "metadata": {},
   "source": [
    "Number of days engaged, per week, since date exposed."
   ]
  },
  {
   "cell_type": "code",
   "execution_count": 49,
   "metadata": {
    "collapsed": true
   },
   "outputs": [],
   "source": [
    "%%vertica (end_time=end_time) -> is_engaged_by_week_user_relative_date\n",
    "SELECT\n",
    "    uv.user_id,\n",
    "    uv.variation_group,\n",
    "    FLOOR(DATEDIFF('day', uv.received_at, bi_engage.date) / 7) AS weeks_since_user_exposed,\n",
    "    MAX(bi_engage.is_engaged) AS is_engaged\n",
    "FROM\n",
    "    user_variations uv\n",
    "JOIN\n",
    "    business_intelligence.activity_engagement_user_daily bi_engage\n",
    "    ON bi_engage.user_id = uv.user_id\n",
    "    AND bi_engage.date BETWEEN uv.received_at AND :end_time\n",
    "GROUP BY\n",
    "    1, 2, 3\n",
    "ORDER BY 1"
   ]
  },
  {
   "cell_type": "code",
   "execution_count": 50,
   "metadata": {},
   "outputs": [
    {
     "name": "stderr",
     "output_type": "stream",
     "text": [
      "/app/lib/edx_stats.py:21: PerformanceWarning: indexing past lexsort depth may impact performance.\n",
      "  ctrl = indexed.loc[ctrl_loc][value_col]\n"
     ]
    }
   ],
   "source": [
    "is_engaged_by_week_user_relative_date_conf_intervals = grouped_confidence_intervals(\n",
    "    is_engaged_by_week_user_relative_date.reset_index(),\n",
    "    variant_col='variation_group',\n",
    "    value_col='is_engaged',\n",
    "    ctrl_name='control',\n",
    "    group_cols=['weeks_since_user_exposed']\n",
    ")"
   ]
  },
  {
   "cell_type": "code",
   "execution_count": 51,
   "metadata": {},
   "outputs": [
    {
     "data": {
      "image/png": "[encoded data removed]",
      "text/plain": [
       "<matplotlib.figure.Figure at 0x7f543be2cc88>"
      ]
     },
     "metadata": {},
     "output_type": "display_data"
    },
    {
     "data": {
      "text/plain": [
       "<ggplot: (8749986636187)>"
      ]
     },
     "execution_count": 51,
     "metadata": {},
     "output_type": "execute_result"
    }
   ],
   "source": [
    "(\n",
    "    ggplot(is_engaged_by_week_user_relative_date_conf_intervals.reset_index(), aes(\n",
    "        x='weeks_since_user_exposed',\n",
    "        y='percent_change',\n",
    "        ymin='lower_bound',\n",
    "        ymax='upper_bound',\n",
    "        color='significant',\n",
    "        label_size=0.5,\n",
    "    ))\n",
    "    + geom_confidence()\n",
    "    + facet_grid(\". ~ variation_group\")\n",
    "    + theme_confidence()\n",
    "    + ggtitle(\"Engagement (is_engaged) user-relative exposed-dates by week\")\n",
    ")"
   ]
  },
  {
   "cell_type": "markdown",
   "metadata": {},
   "source": [
    "### cnt_engaged_activity by week (user-relative exposed dates)"
   ]
  },
  {
   "cell_type": "markdown",
   "metadata": {},
   "source": [
    "Number of engagement activities, per week, since date exposed."
   ]
  },
  {
   "cell_type": "code",
   "execution_count": 52,
   "metadata": {
    "collapsed": true
   },
   "outputs": [],
   "source": [
    "%%vertica (end_time=end_time) -> cnt_engaged_by_week_user_relative_date\n",
    "SELECT\n",
    "    uv.user_id,\n",
    "    uv.variation_group,\n",
    "    FLOOR(DATEDIFF('day', uv.received_at, bi_engage.date) / 7) AS weeks_since_user_exposed,\n",
    "    SUM(bi_engage.cnt_engaged_activity) AS cnt_engaged_activity\n",
    "FROM\n",
    "    user_variations uv\n",
    "JOIN\n",
    "    business_intelligence.activity_engagement_user_daily bi_engage\n",
    "    ON bi_engage.user_id = uv.user_id\n",
    "    AND bi_engage.date BETWEEN uv.received_at AND :end_time\n",
    "GROUP BY\n",
    "    1, 2, 3\n",
    "ORDER BY 1"
   ]
  },
  {
   "cell_type": "code",
   "execution_count": 53,
   "metadata": {},
   "outputs": [
    {
     "name": "stderr",
     "output_type": "stream",
     "text": [
      "/app/lib/edx_stats.py:21: PerformanceWarning: indexing past lexsort depth may impact performance.\n",
      "  ctrl = indexed.loc[ctrl_loc][value_col]\n"
     ]
    }
   ],
   "source": [
    "cnt_engaged_by_week_user_relative_date_conf_intervals = grouped_confidence_intervals(\n",
    "    cnt_engaged_by_week_user_relative_date.reset_index(),\n",
    "    variant_col='variation_group',\n",
    "    value_col='cnt_engaged_activity',\n",
    "    ctrl_name='control',\n",
    "    group_cols=['weeks_since_user_exposed']\n",
    ")"
   ]
  },
  {
   "cell_type": "code",
   "execution_count": 54,
   "metadata": {},
   "outputs": [
    {
     "data": {
      "image/png": "[encoded data removed]",
      "text/plain": [
       "<matplotlib.figure.Figure at 0x7f543d18cc88>"
      ]
     },
     "metadata": {},
     "output_type": "display_data"
    },
    {
     "data": {
      "text/plain": [
       "<ggplot: (-9223363286869514450)>"
      ]
     },
     "execution_count": 54,
     "metadata": {},
     "output_type": "execute_result"
    }
   ],
   "source": [
    "(\n",
    "    ggplot(cnt_engaged_by_week_user_relative_date_conf_intervals.reset_index(), aes(\n",
    "        x='weeks_since_user_exposed',\n",
    "        y='percent_change',\n",
    "        ymin='lower_bound',\n",
    "        ymax='upper_bound',\n",
    "        color='significant',\n",
    "        label_size=0.5,\n",
    "    ))\n",
    "    + geom_confidence()\n",
    "    + facet_grid(\". ~ variation_group\")\n",
    "    + theme_confidence()\n",
    "    + ggtitle(\"Engagement (cnt_engaged_activity) user-relative exposed-dates by week\")\n",
    ")"
   ]
  },
  {
   "cell_type": "markdown",
   "metadata": {},
   "source": [
    "## Treatment on the Treated Analysis\n",
    "See https://openedx.atlassian.net/wiki/display/RET/Data+Analysis\n",
    "\n",
    "**Note:** We still don't see any statistically significant impact in long-term engagement within the course."
   ]
  },
  {
   "cell_type": "code",
   "execution_count": 55,
   "metadata": {
    "collapsed": true
   },
   "outputs": [],
   "source": [
    "threshold_for_number_of_engagement_activities = 50"
   ]
  },
  {
   "cell_type": "code",
   "execution_count": 56,
   "metadata": {},
   "outputs": [
    {
     "data": {
      "text/html": [
       "<div>\n",
       "<style>\n",
       "    .dataframe thead tr:only-child th {\n",
       "        text-align: right;\n",
       "    }\n",
       "\n",
       "    .dataframe thead th {\n",
       "        text-align: left;\n",
       "    }\n",
       "\n",
       "    .dataframe tbody tr th {\n",
       "        vertical-align: top;\n",
       "    }\n",
       "</style>\n",
       "<table border=\"1\" class=\"dataframe\">\n",
       "  <thead>\n",
       "    <tr style=\"text-align: right;\">\n",
       "      <th></th>\n",
       "      <th>count</th>\n",
       "    </tr>\n",
       "  </thead>\n",
       "  <tbody>\n",
       "    <tr>\n",
       "      <th>0</th>\n",
       "      <td>48750</td>\n",
       "    </tr>\n",
       "  </tbody>\n",
       "</table>\n",
       "</div>"
      ],
      "text/plain": [
       "   count\n",
       "0  48750"
      ]
     },
     "execution_count": 56,
     "metadata": {},
     "output_type": "execute_result"
    }
   ],
   "source": [
    "%%vertica (end_time=end_time, threshold_for_number_of_engagement_activities=threshold_for_number_of_engagement_activities)\n",
    "DROP TABLE IF EXISTS user_variations_for_active_users;\n",
    "CREATE LOCAL TEMPORARY TABLE IF NOT EXISTS user_variations_for_active_users\n",
    "ON COMMIT PRESERVE ROWS AS\n",
    "SELECT\n",
    "    uv.user_id,\n",
    "    uv.received_at,\n",
    "    uv.variation_group\n",
    "FROM\n",
    "    user_variations uv\n",
    "JOIN\n",
    "    business_intelligence.activity_engagement_user_daily bi_engage\n",
    "    ON bi_engage.user_id = uv.user_id\n",
    "GROUP BY 1, 2, 3\n",
    "HAVING\n",
    "    SUM(bi_engage.cnt_engaged_activity) > :threshold_for_number_of_engagement_activities;\n",
    "    \n",
    "SELECT count(user_id) from user_variations_for_active_users;"
   ]
  },
  {
   "cell_type": "code",
   "execution_count": 57,
   "metadata": {},
   "outputs": [],
   "source": [
    "%%vertica (end_time=end_time) -> cnt_engaged_by_week_for_active_users\n",
    "SELECT\n",
    "    uv.user_id,\n",
    "    uv.variation_group,\n",
    "    FLOOR(DATEDIFF('day', uv.received_at, bi_engage.date) / 7) AS weeks_since_user_exposed,\n",
    "    SUM(bi_engage.cnt_engaged_activity) AS cnt_engaged_activity\n",
    "FROM\n",
    "    user_variations_for_active_users uv\n",
    "JOIN\n",
    "    business_intelligence.activity_engagement_user_daily bi_engage\n",
    "    ON bi_engage.user_id = uv.user_id\n",
    "    AND bi_engage.date BETWEEN uv.received_at AND :end_time\n",
    "GROUP BY\n",
    "    1, 2, 3\n",
    "ORDER BY 1"
   ]
  },
  {
   "cell_type": "code",
   "execution_count": 58,
   "metadata": {},
   "outputs": [
    {
     "name": "stderr",
     "output_type": "stream",
     "text": [
      "/app/lib/edx_stats.py:21: PerformanceWarning: indexing past lexsort depth may impact performance.\n",
      "  ctrl = indexed.loc[ctrl_loc][value_col]\n"
     ]
    }
   ],
   "source": [
    "cnt_engaged_by_week_for_active_users_conf_intervals = grouped_confidence_intervals(\n",
    "    cnt_engaged_by_week_for_active_users.reset_index(),\n",
    "    variant_col='variation_group',\n",
    "    value_col='cnt_engaged_activity',\n",
    "    ctrl_name='control',\n",
    "    group_cols=['weeks_since_user_exposed']\n",
    ")"
   ]
  },
  {
   "cell_type": "code",
   "execution_count": 59,
   "metadata": {},
   "outputs": [
    {
     "data": {
      "image/png": "[encoded data removed]",
      "text/plain": [
       "<matplotlib.figure.Figure at 0x7f546899ed30>"
      ]
     },
     "metadata": {},
     "output_type": "display_data"
    },
    {
     "data": {
      "text/plain": [
       "<ggplot: (-9223363286822518426)>"
      ]
     },
     "execution_count": 59,
     "metadata": {},
     "output_type": "execute_result"
    }
   ],
   "source": [
    "(\n",
    "    ggplot(cnt_engaged_by_week_for_active_users_conf_intervals.reset_index(), aes(\n",
    "        x='weeks_since_user_exposed',\n",
    "        y='percent_change',\n",
    "        ymin='lower_bound',\n",
    "        ymax='upper_bound',\n",
    "        color='significant',\n",
    "        label_size=0.5,\n",
    "    ))\n",
    "    + geom_confidence()\n",
    "    + facet_grid(\". ~ variation_group\")\n",
    "    + theme_confidence()\n",
    "    + ggtitle(\"Engagement (cnt_engaged_activity) for active users only\")\n",
    ")"
   ]
  }
 ],
 "metadata": {
  "kernelspec": {
   "display_name": "Python 3",
   "language": "python",
   "name": "python3"
  },
  "language_info": {
   "codemirror_mode": {
    "name": "ipython",
    "version": 3
   },
   "file_extension": ".py",
   "mimetype": "text/x-python",
   "name": "python",
   "nbconvert_exporter": "python",
   "pygments_lexer": "ipython3",
   "version": "3.6.1"
  }
 },
 "nbformat": 4,
 "nbformat_minor": 2
}
