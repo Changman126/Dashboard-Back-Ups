{
 "cells": [
  {
   "cell_type": "code",
   "execution_count": 1,
   "metadata": {},
   "outputs": [
    {
     "name": "stdout",
     "output_type": "stream",
     "text": [
      "The edx_jupyter extension is already loaded. To reload it, use:\n",
      "  %reload_ext edx_jupyter\n"
     ]
    }
   ],
   "source": [
    "%load_ext edx_jupyter"
   ]
  },
  {
   "cell_type": "code",
   "execution_count": 2,
   "metadata": {},
   "outputs": [
    {
     "name": "stdout",
     "output_type": "stream",
     "text": [
      "OPS_WAREHOUSE_PASSWORD: ········\n"
     ]
    },
    {
     "data": {
      "text/html": [
       "<div>\n",
       "<style>\n",
       "    .dataframe thead tr:only-child th {\n",
       "        text-align: right;\n",
       "    }\n",
       "\n",
       "    .dataframe thead th {\n",
       "        text-align: left;\n",
       "    }\n",
       "\n",
       "    .dataframe tbody tr th {\n",
       "        vertical-align: top;\n",
       "    }\n",
       "</style>\n",
       "<table border=\"1\" class=\"dataframe\">\n",
       "  <thead>\n",
       "    <tr style=\"text-align: right;\">\n",
       "      <th></th>\n",
       "      <th>?column?</th>\n",
       "    </tr>\n",
       "  </thead>\n",
       "  <tbody>\n",
       "    <tr>\n",
       "      <th>0</th>\n",
       "      <td>Connected to Vertica!</td>\n",
       "    </tr>\n",
       "  </tbody>\n",
       "</table>\n",
       "</div>"
      ],
      "text/plain": [
       "                ?column?\n",
       "0  Connected to Vertica!"
      ]
     },
     "execution_count": 2,
     "metadata": {},
     "output_type": "execute_result"
    }
   ],
   "source": [
    "%%vertica\n",
    "SELECT 'Connected to Vertica!'"
   ]
  },
  {
   "cell_type": "code",
   "execution_count": 3,
   "metadata": {
    "collapsed": true
   },
   "outputs": [],
   "source": [
    "import datetime"
   ]
  },
  {
   "cell_type": "markdown",
   "metadata": {},
   "source": [
    "This is an arbitrary date in the past (must be at least 14 days prior to now). It represents the simulated start of our experiment."
   ]
  },
  {
   "cell_type": "code",
   "execution_count": 4,
   "metadata": {
    "collapsed": true
   },
   "outputs": [],
   "source": [
    "intervention_date = datetime.date(2017, 5, 1)\n",
    "end_date = intervention_date + datetime.timedelta(days=7)\n",
    "earliest_content_availability_date = intervention_date - datetime.timedelta(days=14)"
   ]
  },
  {
   "cell_type": "code",
   "execution_count": 5,
   "metadata": {
    "collapsed": true
   },
   "outputs": [],
   "source": [
    "date_to_string_format = '%Y-%m-%d'\n",
    "intervention_date_str = intervention_date.strftime(date_to_string_format)\n",
    "end_date_str = end_date.strftime(date_to_string_format)"
   ]
  },
  {
   "cell_type": "markdown",
   "metadata": {},
   "source": [
    "## Identify the courses to analyze"
   ]
  },
  {
   "cell_type": "code",
   "execution_count": 6,
   "metadata": {},
   "outputs": [],
   "source": [
    "%%vertica (earliest_content_availability_date=earliest_content_availability_date, intervention_date=intervention_date, end_date=end_date)\n",
    "DROP TABLE IF EXISTS ex_courses;\n",
    "\n",
    "CREATE local TEMPORARY TABLE ex_courses\n",
    "ON COMMIT PRESERVE ROWS\n",
    "AS SELECT\n",
    "    *\n",
    "FROM\n",
    "    business_intelligence.course_master\n",
    "WHERE\n",
    "        (content_language is NULL OR content_language = 'en-us')\n",
    "    AND course_start_date <= :earliest_content_availability_date"
   ]
  },
  {
   "cell_type": "code",
   "execution_count": 7,
   "metadata": {},
   "outputs": [
    {
     "data": {
      "text/html": [
       "<div>\n",
       "<style>\n",
       "    .dataframe thead tr:only-child th {\n",
       "        text-align: right;\n",
       "    }\n",
       "\n",
       "    .dataframe thead th {\n",
       "        text-align: left;\n",
       "    }\n",
       "\n",
       "    .dataframe tbody tr th {\n",
       "        vertical-align: top;\n",
       "    }\n",
       "</style>\n",
       "<table border=\"1\" class=\"dataframe\">\n",
       "  <thead>\n",
       "    <tr style=\"text-align: right;\">\n",
       "      <th></th>\n",
       "      <th>COUNT</th>\n",
       "    </tr>\n",
       "  </thead>\n",
       "  <tbody>\n",
       "    <tr>\n",
       "      <th>0</th>\n",
       "      <td>2579</td>\n",
       "    </tr>\n",
       "  </tbody>\n",
       "</table>\n",
       "</div>"
      ],
      "text/plain": [
       "   COUNT\n",
       "0   2579"
      ]
     },
     "execution_count": 7,
     "metadata": {},
     "output_type": "execute_result"
    }
   ],
   "source": [
    "%%vertica\n",
    "SELECT COUNT(*) FROM ex_courses"
   ]
  },
  {
   "cell_type": "markdown",
   "metadata": {},
   "source": [
    "## Compute the content availability date for each enrollment"
   ]
  },
  {
   "cell_type": "code",
   "execution_count": 8,
   "metadata": {
    "scrolled": false
   },
   "outputs": [],
   "source": [
    "%%vertica\n",
    "DROP TABLE IF EXISTS user_content_availability;\n",
    "\n",
    "CREATE local TEMPORARY TABLE user_content_availability\n",
    "ON COMMIT PRESERVE ROWS AS\n",
    "SELECT\n",
    "    CASE\n",
    "        WHEN ec.course_start_date >= uc.first_enrollment_time THEN ec.course_start_date\n",
    "        WHEN ec.course_start_date < uc.first_enrollment_time THEN DATE(uc.first_enrollment_time)\n",
    "    END AS content_availability_date,\n",
    "    uc.user_id,\n",
    "    uc.course_id,\n",
    "    uc.first_verified_enrollment_time\n",
    "FROM\n",
    "    production.d_user_course uc\n",
    "JOIN\n",
    "    ex_courses ec\n",
    "ON\n",
    "    ec.course_id = uc.course_id"
   ]
  },
  {
   "cell_type": "markdown",
   "metadata": {},
   "source": [
    "## Users who actually visited the Course Outline page"
   ]
  },
  {
   "cell_type": "code",
   "execution_count": 10,
   "metadata": {},
   "outputs": [],
   "source": [
    "%%vertica (intervention_date_str=intervention_date_str, end_date_str=end_date_str)\n",
    "DROP TABLE IF EXISTS ex_events_with_course_id;\n",
    "\n",
    "CREATE local TEMPORARY TABLE ex_events_with_course_id\n",
    "ON COMMIT PRESERVE ROWS AS\n",
    "SELECT\n",
    "    user_id,\n",
    "    LEFT(RIGHT(url, LENGTH(url) - 32), LENGTH(RIGHT(url, LENGTH(url) - 32)) - 8) AS computed_course_id,\n",
    "    date,\n",
    "    event_source,\n",
    "    event_type\n",
    "FROM\n",
    "    experimental_events_run14.event_records\n",
    "WHERE\n",
    "    event_source = 'client' AND\n",
    "    event_type = 'page' AND\n",
    "    url LIKE 'https://courses.edx.org/courses/%/course/' AND\n",
    "    date BETWEEN :intervention_date_str AND :end_date_str AND\n",
    "    user_id is not NULL AND\n",
    "    --- Filter out the 190,809 rows in the table with non-numeric user_ids (out of 987,541,397 rows)\n",
    "    REGEXP_LIKE(user_id, '^[0-9]+')"
   ]
  },
  {
   "cell_type": "code",
   "execution_count": 11,
   "metadata": {},
   "outputs": [
    {
     "data": {
      "text/html": [
       "<div>\n",
       "<style>\n",
       "    .dataframe thead tr:only-child th {\n",
       "        text-align: right;\n",
       "    }\n",
       "\n",
       "    .dataframe thead th {\n",
       "        text-align: left;\n",
       "    }\n",
       "\n",
       "    .dataframe tbody tr th {\n",
       "        vertical-align: top;\n",
       "    }\n",
       "</style>\n",
       "<table border=\"1\" class=\"dataframe\">\n",
       "  <thead>\n",
       "    <tr style=\"text-align: right;\">\n",
       "      <th></th>\n",
       "      <th>user_id</th>\n",
       "      <th>computed_course_id</th>\n",
       "      <th>date</th>\n",
       "      <th>event_source</th>\n",
       "      <th>event_type</th>\n",
       "    </tr>\n",
       "  </thead>\n",
       "  <tbody>\n",
       "    <tr>\n",
       "      <th>0</th>\n",
       "      <td>5777288</td>\n",
       "      <td>course-v1:UBCx+ITSx+1T2017</td>\n",
       "      <td>2017-05-02</td>\n",
       "      <td>client</td>\n",
       "      <td>page</td>\n",
       "    </tr>\n",
       "    <tr>\n",
       "      <th>1</th>\n",
       "      <td>14320565</td>\n",
       "      <td>course-v1:RITx+CYBER501x+1T2017</td>\n",
       "      <td>2017-05-02</td>\n",
       "      <td>client</td>\n",
       "      <td>page</td>\n",
       "    </tr>\n",
       "    <tr>\n",
       "      <th>2</th>\n",
       "      <td>11961209</td>\n",
       "      <td>course-v1:DelftX+BMI.3x+1T2017</td>\n",
       "      <td>2017-05-02</td>\n",
       "      <td>client</td>\n",
       "      <td>page</td>\n",
       "    </tr>\n",
       "    <tr>\n",
       "      <th>3</th>\n",
       "      <td>13723560</td>\n",
       "      <td>course-v1:MITx+7.28.1x+1T2017</td>\n",
       "      <td>2017-05-02</td>\n",
       "      <td>client</td>\n",
       "      <td>page</td>\n",
       "    </tr>\n",
       "    <tr>\n",
       "      <th>4</th>\n",
       "      <td>10151328</td>\n",
       "      <td>course-v1:IDBx+IDB6x+1T2017</td>\n",
       "      <td>2017-05-02</td>\n",
       "      <td>client</td>\n",
       "      <td>page</td>\n",
       "    </tr>\n",
       "    <tr>\n",
       "      <th>5</th>\n",
       "      <td>14032987</td>\n",
       "      <td>course-v1:DavidsonX+D001x+1T2017</td>\n",
       "      <td>2017-05-02</td>\n",
       "      <td>client</td>\n",
       "      <td>page</td>\n",
       "    </tr>\n",
       "    <tr>\n",
       "      <th>6</th>\n",
       "      <td>10106784</td>\n",
       "      <td>course-v1:DavidsonX+D001x+1T2016</td>\n",
       "      <td>2017-05-02</td>\n",
       "      <td>client</td>\n",
       "      <td>page</td>\n",
       "    </tr>\n",
       "    <tr>\n",
       "      <th>7</th>\n",
       "      <td>14032987</td>\n",
       "      <td>course-v1:DavidsonX+D001x+1T2017</td>\n",
       "      <td>2017-05-02</td>\n",
       "      <td>client</td>\n",
       "      <td>page</td>\n",
       "    </tr>\n",
       "    <tr>\n",
       "      <th>8</th>\n",
       "      <td>5421858</td>\n",
       "      <td>course-v1:BerkeleyX+BJC.34x+1T2017</td>\n",
       "      <td>2017-05-02</td>\n",
       "      <td>client</td>\n",
       "      <td>page</td>\n",
       "    </tr>\n",
       "    <tr>\n",
       "      <th>9</th>\n",
       "      <td>3519339</td>\n",
       "      <td>course-v1:HarvardX+CS50+AP</td>\n",
       "      <td>2017-05-02</td>\n",
       "      <td>client</td>\n",
       "      <td>page</td>\n",
       "    </tr>\n",
       "  </tbody>\n",
       "</table>\n",
       "</div>"
      ],
      "text/plain": [
       "    user_id                  computed_course_id        date event_source  \\\n",
       "0   5777288          course-v1:UBCx+ITSx+1T2017  2017-05-02       client   \n",
       "1  14320565     course-v1:RITx+CYBER501x+1T2017  2017-05-02       client   \n",
       "2  11961209      course-v1:DelftX+BMI.3x+1T2017  2017-05-02       client   \n",
       "3  13723560       course-v1:MITx+7.28.1x+1T2017  2017-05-02       client   \n",
       "4  10151328         course-v1:IDBx+IDB6x+1T2017  2017-05-02       client   \n",
       "5  14032987    course-v1:DavidsonX+D001x+1T2017  2017-05-02       client   \n",
       "6  10106784    course-v1:DavidsonX+D001x+1T2016  2017-05-02       client   \n",
       "7  14032987    course-v1:DavidsonX+D001x+1T2017  2017-05-02       client   \n",
       "8   5421858  course-v1:BerkeleyX+BJC.34x+1T2017  2017-05-02       client   \n",
       "9   3519339          course-v1:HarvardX+CS50+AP  2017-05-02       client   \n",
       "\n",
       "  event_type  \n",
       "0       page  \n",
       "1       page  \n",
       "2       page  \n",
       "3       page  \n",
       "4       page  \n",
       "5       page  \n",
       "6       page  \n",
       "7       page  \n",
       "8       page  \n",
       "9       page  "
      ]
     },
     "execution_count": 11,
     "metadata": {},
     "output_type": "execute_result"
    }
   ],
   "source": [
    "%%vertica\n",
    "SELECT * FROM ex_events_with_course_id LIMIT 10"
   ]
  },
  {
   "cell_type": "code",
   "execution_count": 12,
   "metadata": {},
   "outputs": [],
   "source": [
    "%%vertica (intervention_date=intervention_date, end_date=end_date, earliest_content_availability_date=earliest_content_availability_date)\n",
    "DROP TABLE IF EXISTS ex_enrollments;\n",
    "\n",
    "CREATE local TEMPORARY TABLE ex_enrollments\n",
    "ON COMMIT PRESERVE ROWS AS\n",
    "SELECT\n",
    "    e.user_id,\n",
    "    ca.course_id,\n",
    "    ca.content_availability_date,\n",
    "    ca.first_verified_enrollment_time\n",
    "FROM\n",
    "    ex_events_with_course_id e\n",
    "JOIN\n",
    "    user_content_availability ca\n",
    "ON\n",
    "    ca.course_id = e.computed_course_id\n",
    "    AND e.user_id = ca.user_id\n",
    "    AND ca.content_availability_date BETWEEN :earliest_content_availability_date AND :end_date\n",
    "GROUP BY 1, 2, 3, 4"
   ]
  },
  {
   "cell_type": "code",
   "execution_count": 13,
   "metadata": {},
   "outputs": [
    {
     "data": {
      "text/html": [
       "<div>\n",
       "<style>\n",
       "    .dataframe thead tr:only-child th {\n",
       "        text-align: right;\n",
       "    }\n",
       "\n",
       "    .dataframe thead th {\n",
       "        text-align: left;\n",
       "    }\n",
       "\n",
       "    .dataframe tbody tr th {\n",
       "        vertical-align: top;\n",
       "    }\n",
       "</style>\n",
       "<table border=\"1\" class=\"dataframe\">\n",
       "  <thead>\n",
       "    <tr style=\"text-align: right;\">\n",
       "      <th></th>\n",
       "      <th>user_id</th>\n",
       "      <th>course_id</th>\n",
       "      <th>content_availability_date</th>\n",
       "      <th>first_verified_enrollment_time</th>\n",
       "    </tr>\n",
       "  </thead>\n",
       "  <tbody>\n",
       "    <tr>\n",
       "      <th>0</th>\n",
       "      <td>1000</td>\n",
       "      <td>course-v1:PennX+ROBO1x+1T2017</td>\n",
       "      <td>2017-04-17</td>\n",
       "      <td>NaT</td>\n",
       "    </tr>\n",
       "    <tr>\n",
       "      <th>1</th>\n",
       "      <td>10000403</td>\n",
       "      <td>course-v1:MITx+6.041x_4+1T2017</td>\n",
       "      <td>2017-04-29</td>\n",
       "      <td>NaT</td>\n",
       "    </tr>\n",
       "    <tr>\n",
       "      <th>2</th>\n",
       "      <td>10000416</td>\n",
       "      <td>course-v1:UQx+IELTSx+3T2016</td>\n",
       "      <td>2017-04-25</td>\n",
       "      <td>NaT</td>\n",
       "    </tr>\n",
       "    <tr>\n",
       "      <th>3</th>\n",
       "      <td>10000556</td>\n",
       "      <td>course-v1:DelftX+EX102+1T2017</td>\n",
       "      <td>2017-04-25</td>\n",
       "      <td>NaT</td>\n",
       "    </tr>\n",
       "    <tr>\n",
       "      <th>4</th>\n",
       "      <td>10000556</td>\n",
       "      <td>course-v1:Microsoft+DAT205x+3T2016</td>\n",
       "      <td>2017-04-25</td>\n",
       "      <td>2017-04-26 08:31:43.904746</td>\n",
       "    </tr>\n",
       "    <tr>\n",
       "      <th>5</th>\n",
       "      <td>10000556</td>\n",
       "      <td>course-v1:Microsoft+DAT206x+2T2017</td>\n",
       "      <td>2017-04-25</td>\n",
       "      <td>NaT</td>\n",
       "    </tr>\n",
       "    <tr>\n",
       "      <th>6</th>\n",
       "      <td>1000069</td>\n",
       "      <td>course-v1:DartmouthX+DART.MUS.02X+2T2017</td>\n",
       "      <td>2017-04-20</td>\n",
       "      <td>NaT</td>\n",
       "    </tr>\n",
       "    <tr>\n",
       "      <th>7</th>\n",
       "      <td>10001185</td>\n",
       "      <td>course-v1:HarvardX+SPU27x+1T2017</td>\n",
       "      <td>2017-04-22</td>\n",
       "      <td>NaT</td>\n",
       "    </tr>\n",
       "    <tr>\n",
       "      <th>8</th>\n",
       "      <td>10001432</td>\n",
       "      <td>course-v1:Microsoft+DAT206x+2T2017</td>\n",
       "      <td>2017-05-02</td>\n",
       "      <td>NaT</td>\n",
       "    </tr>\n",
       "    <tr>\n",
       "      <th>9</th>\n",
       "      <td>10001448</td>\n",
       "      <td>course-v1:IITBombayX+CS101.1x+1T2017</td>\n",
       "      <td>2017-05-08</td>\n",
       "      <td>NaT</td>\n",
       "    </tr>\n",
       "  </tbody>\n",
       "</table>\n",
       "</div>"
      ],
      "text/plain": [
       "    user_id                                 course_id  \\\n",
       "0      1000             course-v1:PennX+ROBO1x+1T2017   \n",
       "1  10000403            course-v1:MITx+6.041x_4+1T2017   \n",
       "2  10000416               course-v1:UQx+IELTSx+3T2016   \n",
       "3  10000556             course-v1:DelftX+EX102+1T2017   \n",
       "4  10000556        course-v1:Microsoft+DAT205x+3T2016   \n",
       "5  10000556        course-v1:Microsoft+DAT206x+2T2017   \n",
       "6   1000069  course-v1:DartmouthX+DART.MUS.02X+2T2017   \n",
       "7  10001185          course-v1:HarvardX+SPU27x+1T2017   \n",
       "8  10001432        course-v1:Microsoft+DAT206x+2T2017   \n",
       "9  10001448      course-v1:IITBombayX+CS101.1x+1T2017   \n",
       "\n",
       "  content_availability_date first_verified_enrollment_time  \n",
       "0                2017-04-17                            NaT  \n",
       "1                2017-04-29                            NaT  \n",
       "2                2017-04-25                            NaT  \n",
       "3                2017-04-25                            NaT  \n",
       "4                2017-04-25     2017-04-26 08:31:43.904746  \n",
       "5                2017-04-25                            NaT  \n",
       "6                2017-04-20                            NaT  \n",
       "7                2017-04-22                            NaT  \n",
       "8                2017-05-02                            NaT  \n",
       "9                2017-05-08                            NaT  "
      ]
     },
     "execution_count": 13,
     "metadata": {},
     "output_type": "execute_result"
    }
   ],
   "source": [
    "%%vertica\n",
    "select * from ex_enrollments limit 10"
   ]
  },
  {
   "cell_type": "markdown",
   "metadata": {},
   "source": [
    "## Required sample size by VTR"
   ]
  },
  {
   "cell_type": "code",
   "execution_count": 15,
   "metadata": {},
   "outputs": [],
   "source": [
    "%%vertica -> naa_test\n",
    "SELECT COUNT(*) FROM ex_enrollments"
   ]
  },
  {
   "cell_type": "code",
   "execution_count": 19,
   "metadata": {},
   "outputs": [
    {
     "data": {
      "text/html": [
       "<div>\n",
       "<style>\n",
       "    .dataframe thead tr:only-child th {\n",
       "        text-align: right;\n",
       "    }\n",
       "\n",
       "    .dataframe thead th {\n",
       "        text-align: left;\n",
       "    }\n",
       "\n",
       "    .dataframe tbody tr th {\n",
       "        vertical-align: top;\n",
       "    }\n",
       "</style>\n",
       "<table border=\"1\" class=\"dataframe\">\n",
       "  <thead>\n",
       "    <tr style=\"text-align: right;\">\n",
       "      <th></th>\n",
       "      <th>COUNT</th>\n",
       "    </tr>\n",
       "  </thead>\n",
       "  <tbody>\n",
       "    <tr>\n",
       "      <th>0</th>\n",
       "      <td>65956</td>\n",
       "    </tr>\n",
       "  </tbody>\n",
       "</table>\n",
       "</div>"
      ],
      "text/plain": [
       "   COUNT\n",
       "0  65956"
      ]
     },
     "execution_count": 19,
     "metadata": {},
     "output_type": "execute_result"
    }
   ],
   "source": [
    "naa_test.COUNT[0]"
   ]
  },
  {
   "cell_type": "markdown",
   "metadata": {},
   "source": [
    "Count of rows in ex_enrollments is: **65,995**."
   ]
  },
  {
   "cell_type": "code",
   "execution_count": 15,
   "metadata": {
    "collapsed": true
   },
   "outputs": [],
   "source": [
    "%%vertica (end_date=end_date, intervention_date=intervention_date) -> results\n",
    "\n",
    "SELECT\n",
    "    SUM(value) AS 'bookings',\n",
    "    AVG(value) AS 'bookings_per_enrollment',\n",
    "    SUM(did_upgrade)/COUNT(*) AS 'conversion_rate',\n",
    "    COUNT(*) AS 'cnt_enrollments'\n",
    "FROM\n",
    "(\n",
    "    SELECT\n",
    "        CASE\n",
    "            WHEN enr.first_verified_enrollment_time BETWEEN :intervention_date AND :end_date THEN crs.course_seat_price\n",
    "            ELSE 0\n",
    "        END AS value,\n",
    "        CASE\n",
    "            WHEN enr.first_verified_enrollment_time BETWEEN :intervention_date AND :end_date THEN 1\n",
    "            ELSE 0\n",
    "        END AS did_upgrade\n",
    "    FROM\n",
    "        ex_enrollments AS enr\n",
    "    JOIN\n",
    "            ex_courses AS crs\n",
    "        ON  crs.course_id = enr.course_id\n",
    ") AS enr"
   ]
  },
  {
   "cell_type": "code",
   "execution_count": 16,
   "metadata": {
    "collapsed": true
   },
   "outputs": [],
   "source": [
    "baseline_conversion_rate = float(results.loc[0].conversion_rate)"
   ]
  },
  {
   "cell_type": "code",
   "execution_count": 17,
   "metadata": {},
   "outputs": [
    {
     "name": "stdout",
     "output_type": "stream",
     "text": [
      "Baseline conversion rate: 1.35%\n"
     ]
    }
   ],
   "source": [
    "print('Baseline conversion rate: {0}%'.format(round(baseline_conversion_rate*100, 2)))"
   ]
  },
  {
   "cell_type": "code",
   "execution_count": 36,
   "metadata": {
    "collapsed": true
   },
   "outputs": [],
   "source": [
    "relative_increase_in_rate = 0.1\n",
    "power = 0.8\n",
    "significance_level = 0.1"
   ]
  },
  {
   "cell_type": "code",
   "execution_count": 37,
   "metadata": {
    "scrolled": true
   },
   "outputs": [
    {
     "name": "stdout",
     "output_type": "stream",
     "text": [
      "\u001b[33mThe directory '/home/developer/.cache/pip/http' or its parent directory is not owned by the current user and the cache has been disabled. Please check the permissions and owner of that directory. If executing pip with sudo, you may want sudo's -H flag.\u001b[0m\n",
      "\u001b[33mThe directory '/home/developer/.cache/pip' or its parent directory is not owned by the current user and caching wheels has been disabled. check the permissions and owner of that directory. If executing pip with sudo, you may want sudo's -H flag.\u001b[0m\n",
      "Requirement already satisfied: statsmodels in /usr/local/lib/python3.5/dist-packages\n",
      "Requirement already satisfied: patsy in /usr/local/lib/python3.5/dist-packages (from statsmodels)\n",
      "Requirement already satisfied: pandas in /usr/local/lib/python3.5/dist-packages (from statsmodels)\n",
      "Requirement already satisfied: scipy in /usr/local/lib/python3.5/dist-packages (from statsmodels)\n",
      "Requirement already satisfied: six in /usr/local/lib/python3.5/dist-packages (from patsy->statsmodels)\n",
      "Requirement already satisfied: numpy in /usr/local/lib/python3.5/dist-packages (from patsy->statsmodels)\n",
      "Requirement already satisfied: pytz>=2011k in /usr/local/lib/python3.5/dist-packages (from pandas->statsmodels)\n",
      "Requirement already satisfied: python-dateutil>=2 in /usr/local/lib/python3.5/dist-packages (from pandas->statsmodels)\n"
     ]
    }
   ],
   "source": [
    "! sudo pip install statsmodels"
   ]
  },
  {
   "cell_type": "code",
   "execution_count": 38,
   "metadata": {
    "collapsed": true
   },
   "outputs": [],
   "source": [
    "import statsmodels.stats.api as sms"
   ]
  },
  {
   "cell_type": "code",
   "execution_count": 39,
   "metadata": {
    "collapsed": true
   },
   "outputs": [],
   "source": [
    "es = sms.proportion_effectsize(baseline_conversion_rate, baseline_conversion_rate * (1 + relative_increase_in_rate))"
   ]
  },
  {
   "cell_type": "code",
   "execution_count": 40,
   "metadata": {},
   "outputs": [
    {
     "data": {
      "text/plain": [
       "94961"
      ]
     },
     "execution_count": 40,
     "metadata": {},
     "output_type": "execute_result"
    }
   ],
   "source": [
    "round(sms.NormalIndPower().solve_power(es, power=power, alpha=significance_level, ratio=1))"
   ]
  },
  {
   "cell_type": "markdown",
   "metadata": {},
   "source": [
    "Given these conversion rates, it looks like we will need about **94,961** users in each variant."
   ]
  },
  {
   "cell_type": "markdown",
   "metadata": {},
   "source": [
    "# Required sample size by engagement"
   ]
  },
  {
   "cell_type": "code",
   "execution_count": 18,
   "metadata": {
    "collapsed": true
   },
   "outputs": [],
   "source": [
    "%%vertica (end_date=end_date, intervention_date=intervention_date) -> results\n",
    "\n",
    "SELECT\n",
    "    SUM(engaged_in_intervention_week)/COUNT(*) AS 'engaged_in_intervention_week_rate',\n",
    "    SUM(engaged_in_first_week)/COUNT(*) AS 'engaged_in_first_week_rate',\n",
    "    SUM(engaged_in_second_week)/COUNT(*) AS 'engaged_in_second_week_rate',\n",
    "    COUNT(*) AS 'cnt_enrollments'\n",
    "FROM\n",
    "(\n",
    "    SELECT\n",
    "        bi_engage.user_id,\n",
    "        bi_engage.course_id,\n",
    "        CASE\n",
    "            WHEN DATEDIFF('day', :intervention_date, bi_engage.date) BETWEEN 0 AND 6 THEN 1\n",
    "            ELSE 0\n",
    "        END AS engaged_in_intervention_week,\n",
    "        CASE\n",
    "            WHEN DATEDIFF('day', :end_date, bi_engage.date) BETWEEN 0 AND 6 THEN 1\n",
    "            ELSE 0\n",
    "        END AS engaged_in_first_week,\n",
    "        CASE\n",
    "            WHEN DATEDIFF('day', :end_date, bi_engage.date) BETWEEN 7 AND 13 THEN 1\n",
    "            ELSE 0\n",
    "        END AS engaged_in_second_week\n",
    "    FROM\n",
    "        ex_enrollments AS enr\n",
    "    JOIN\n",
    "        business_intelligence.activity_engagement_user_daily bi_engage\n",
    "    ON\n",
    "        enr.course_id = bi_engage.course_id AND\n",
    "        enr.user_id = bi_engage.user_id\n",
    ") AS enr"
   ]
  },
  {
   "cell_type": "code",
   "execution_count": 19,
   "metadata": {},
   "outputs": [
    {
     "data": {
      "text/html": [
       "<div>\n",
       "<table border=\"1\" class=\"dataframe\">\n",
       "  <thead>\n",
       "    <tr style=\"text-align: right;\">\n",
       "      <th></th>\n",
       "      <th>engaged_in_intervention_week_rate</th>\n",
       "      <th>engaged_in_first_week_rate</th>\n",
       "      <th>engaged_in_second_week_rate</th>\n",
       "      <th>cnt_enrollments</th>\n",
       "    </tr>\n",
       "  </thead>\n",
       "  <tbody>\n",
       "    <tr>\n",
       "      <th>0</th>\n",
       "      <td>0.340845847454030689</td>\n",
       "      <td>0.196614670166780845</td>\n",
       "      <td>0.105182270668760268</td>\n",
       "      <td>329894</td>\n",
       "    </tr>\n",
       "  </tbody>\n",
       "</table>\n",
       "</div>"
      ],
      "text/plain": [
       "  engaged_in_intervention_week_rate engaged_in_first_week_rate  \\\n",
       "0              0.340845847454030689       0.196614670166780845   \n",
       "\n",
       "  engaged_in_second_week_rate  cnt_enrollments  \n",
       "0        0.105182270668760268           329894  "
      ]
     },
     "execution_count": 19,
     "metadata": {},
     "output_type": "execute_result"
    }
   ],
   "source": [
    "results"
   ]
  },
  {
   "cell_type": "code",
   "execution_count": 20,
   "metadata": {
    "collapsed": true
   },
   "outputs": [],
   "source": [
    "relative_increase_in_rate = 0.1\n",
    "power = 0.8\n",
    "significance_level = 0.1"
   ]
  },
  {
   "cell_type": "code",
   "execution_count": 21,
   "metadata": {},
   "outputs": [
    {
     "name": "stdout",
     "output_type": "stream",
     "text": [
      "\u001b[33mThe directory '/home/developer/.cache/pip/http' or its parent directory is not owned by the current user and the cache has been disabled. Please check the permissions and owner of that directory. If executing pip with sudo, you may want sudo's -H flag.\u001b[0m\n",
      "\u001b[33mThe directory '/home/developer/.cache/pip' or its parent directory is not owned by the current user and caching wheels has been disabled. check the permissions and owner of that directory. If executing pip with sudo, you may want sudo's -H flag.\u001b[0m\n",
      "Requirement already satisfied: statsmodels in /usr/local/lib/python3.5/dist-packages\n",
      "Requirement already satisfied: pandas in /usr/local/lib/python3.5/dist-packages (from statsmodels)\n",
      "Requirement already satisfied: patsy in /usr/local/lib/python3.5/dist-packages (from statsmodels)\n",
      "Requirement already satisfied: scipy in /usr/local/lib/python3.5/dist-packages (from statsmodels)\n",
      "Requirement already satisfied: python-dateutil>=2 in /usr/local/lib/python3.5/dist-packages (from pandas->statsmodels)\n",
      "Requirement already satisfied: pytz>=2011k in /usr/local/lib/python3.5/dist-packages (from pandas->statsmodels)\n",
      "Requirement already satisfied: numpy>=1.7.0 in /usr/local/lib/python3.5/dist-packages (from pandas->statsmodels)\n",
      "Requirement already satisfied: six in /usr/local/lib/python3.5/dist-packages (from patsy->statsmodels)\n"
     ]
    }
   ],
   "source": [
    "! sudo pip install statsmodels"
   ]
  },
  {
   "cell_type": "code",
   "execution_count": 22,
   "metadata": {
    "collapsed": true
   },
   "outputs": [],
   "source": [
    "import statsmodels.stats.api as sms"
   ]
  },
  {
   "cell_type": "code",
   "execution_count": 23,
   "metadata": {
    "collapsed": true
   },
   "outputs": [],
   "source": [
    "baseline_exp_week_rate, baseline_1st_week_rate, baseline_2nd_week_rate = (\n",
    "    float(results.loc[0].engaged_in_intervention_week_rate),\n",
    "    float(results.loc[0].engaged_in_first_week_rate),\n",
    "    float(results.loc[0].engaged_in_second_week_rate)\n",
    ")   "
   ]
  },
  {
   "cell_type": "code",
   "execution_count": 24,
   "metadata": {},
   "outputs": [
    {
     "name": "stdout",
     "output_type": "stream",
     "text": [
      "Baseline engagement rates: experiment week: 34.08%, 1st week: 19.66%, 2nd week: 10.52%\n"
     ]
    }
   ],
   "source": [
    "print('Baseline engagement rates: experiment week: {}%, 1st week: {}%, 2nd week: {}%'.format(\n",
    "    round(baseline_exp_week_rate*100, 2),\n",
    "    round(baseline_1st_week_rate*100, 2),\n",
    "    round(baseline_2nd_week_rate*100, 2)\n",
    "))"
   ]
  },
  {
   "cell_type": "code",
   "execution_count": 25,
   "metadata": {
    "collapsed": true
   },
   "outputs": [],
   "source": [
    "sample_sizes = []\n",
    "for rate in (baseline_exp_week_rate, baseline_1st_week_rate, baseline_2nd_week_rate):\n",
    "    es = sms.proportion_effectsize(rate, rate * (1 + relative_increase_in_rate))\n",
    "    size = round(sms.NormalIndPower().solve_power(es, power=power, alpha=significance_level, ratio=1))\n",
    "    sample_sizes.append(size)"
   ]
  },
  {
   "cell_type": "code",
   "execution_count": 35,
   "metadata": {},
   "outputs": [
    {
     "name": "stdout",
     "output_type": "stream",
     "text": [
      "It looks like we will need a sample size of either \n",
      "\t2444 (experiment week), \n",
      "\t5237 (1st week after experiment ends), or \n",
      "\t10974 (2nd week after experiment ends) \n",
      "depending on which week we want to track.\n"
     ]
    }
   ],
   "source": [
    "print(\n",
    "    'It looks like we will need a sample size of either \\n'\n",
    "    '\\t{} (experiment week), \\n'\n",
    "    '\\t{} (1st week after experiment ends), or \\n'\n",
    "    '\\t{} (2nd week after experiment ends) \\n'\n",
    "    'depending on which week we want to track.'\n",
    "    .format(sample_sizes[0], sample_sizes[1], sample_sizes[2])\n",
    ")"
   ]
  },
  {
   "cell_type": "markdown",
   "metadata": {},
   "source": [
    "Given these conversion rates, it looks like we will need about (**2,444** or) **5,237** (or **10,974**) users in each variant."
   ]
  }
 ],
 "metadata": {
  "kernelspec": {
   "display_name": "Python 3",
   "language": "python",
   "name": "python3"
  },
  "language_info": {
   "codemirror_mode": {
    "name": "ipython",
    "version": 3
   },
   "file_extension": ".py",
   "mimetype": "text/x-python",
   "name": "python",
   "nbconvert_exporter": "python",
   "pygments_lexer": "ipython3",
   "version": "3.6.1"
  }
 },
 "nbformat": 4,
 "nbformat_minor": 2
}
