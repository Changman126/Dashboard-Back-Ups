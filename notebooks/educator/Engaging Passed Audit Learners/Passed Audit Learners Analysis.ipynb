{
 "cells": [
  {
   "cell_type": "code",
   "execution_count": 28,
   "metadata": {},
   "outputs": [
    {
     "name": "stdout",
     "output_type": "stream",
     "text": [
      "The edx_jupyter extension is already loaded. To reload it, use:\n",
      "  %reload_ext edx_jupyter\n"
     ]
    }
   ],
   "source": [
    "%load_ext edx_jupyter"
   ]
  },
  {
   "cell_type": "code",
   "execution_count": 29,
   "metadata": {
    "collapsed": true
   },
   "outputs": [],
   "source": [
    "%reload_ext edx_jupyter"
   ]
  },
  {
   "cell_type": "code",
   "execution_count": 30,
   "metadata": {},
   "outputs": [
    {
     "data": {
      "text/html": [
       "<div>\n",
       "<style>\n",
       "    .dataframe thead tr:only-child th {\n",
       "        text-align: right;\n",
       "    }\n",
       "\n",
       "    .dataframe thead th {\n",
       "        text-align: left;\n",
       "    }\n",
       "\n",
       "    .dataframe tbody tr th {\n",
       "        vertical-align: top;\n",
       "    }\n",
       "</style>\n",
       "<table border=\"1\" class=\"dataframe\">\n",
       "  <thead>\n",
       "    <tr style=\"text-align: right;\">\n",
       "      <th></th>\n",
       "      <th>?column?</th>\n",
       "    </tr>\n",
       "  </thead>\n",
       "  <tbody>\n",
       "    <tr>\n",
       "      <th>0</th>\n",
       "      <td>Connected to Vertica!</td>\n",
       "    </tr>\n",
       "  </tbody>\n",
       "</table>\n",
       "</div>"
      ],
      "text/plain": [
       "                ?column?\n",
       "0  Connected to Vertica!"
      ]
     },
     "execution_count": 30,
     "metadata": {},
     "output_type": "execute_result"
    }
   ],
   "source": [
    "%%vertica\n",
    "\n",
    "SELECT 'Connected to Vertica!'"
   ]
  },
  {
   "cell_type": "code",
   "execution_count": 55,
   "metadata": {
    "collapsed": true
   },
   "outputs": [],
   "source": [
    "%vertica SET TIME ZONE to UTC;"
   ]
  },
  {
   "cell_type": "code",
   "execution_count": 56,
   "metadata": {
    "collapsed": true
   },
   "outputs": [],
   "source": [
    "analysis_start_time = '2017-08-16 20:49:00'\n",
    "analysis_end_time = '2017-08-19 20:49:00'"
   ]
  },
  {
   "cell_type": "code",
   "execution_count": 57,
   "metadata": {},
   "outputs": [],
   "source": [
    "import pandas as pd\n",
    "import numpy as np\n",
    "from plotnine import *\n",
    "import datetime\n",
    "import matplotlib.pyplot as plt\n",
    "import seaborn as sns"
   ]
  },
  {
   "cell_type": "code",
   "execution_count": 58,
   "metadata": {},
   "outputs": [
    {
     "data": {
      "text/html": [
       "<div>\n",
       "<style>\n",
       "    .dataframe thead tr:only-child th {\n",
       "        text-align: right;\n",
       "    }\n",
       "\n",
       "    .dataframe thead th {\n",
       "        text-align: left;\n",
       "    }\n",
       "\n",
       "    .dataframe tbody tr th {\n",
       "        vertical-align: top;\n",
       "    }\n",
       "</style>\n",
       "<table border=\"1\" class=\"dataframe\">\n",
       "  <thead>\n",
       "    <tr style=\"text-align: right;\">\n",
       "      <th></th>\n",
       "      <th>group_name</th>\n",
       "      <th>count</th>\n",
       "    </tr>\n",
       "  </thead>\n",
       "  <tbody>\n",
       "    <tr>\n",
       "      <th>0</th>\n",
       "      <td>treatment</td>\n",
       "      <td>3084</td>\n",
       "    </tr>\n",
       "    <tr>\n",
       "      <th>1</th>\n",
       "      <td>control</td>\n",
       "      <td>3057</td>\n",
       "    </tr>\n",
       "  </tbody>\n",
       "</table>\n",
       "</div>"
      ],
      "text/plain": [
       "  group_name  count\n",
       "0  treatment   3084\n",
       "1    control   3057"
      ]
     },
     "execution_count": 58,
     "metadata": {},
     "output_type": "execute_result"
    }
   ],
   "source": [
    "%%vertica\n",
    "\n",
    "select \n",
    "    group_name,\n",
    "    count(*)\n",
    "from\n",
    "    neem.pal_experiment_population\n",
    "group by 1"
   ]
  },
  {
   "cell_type": "code",
   "execution_count": 59,
   "metadata": {},
   "outputs": [
    {
     "data": {
      "text/html": [
       "<div>\n",
       "<style>\n",
       "    .dataframe thead tr:only-child th {\n",
       "        text-align: right;\n",
       "    }\n",
       "\n",
       "    .dataframe thead th {\n",
       "        text-align: left;\n",
       "    }\n",
       "\n",
       "    .dataframe tbody tr th {\n",
       "        vertical-align: top;\n",
       "    }\n",
       "</style>\n",
       "<table border=\"1\" class=\"dataframe\">\n",
       "  <thead>\n",
       "    <tr style=\"text-align: right;\">\n",
       "      <th></th>\n",
       "      <th>group_name</th>\n",
       "      <th>?column?</th>\n",
       "    </tr>\n",
       "  </thead>\n",
       "  <tbody>\n",
       "    <tr>\n",
       "      <th>0</th>\n",
       "      <td>treatment</td>\n",
       "      <td>1.523994811932555123</td>\n",
       "    </tr>\n",
       "    <tr>\n",
       "      <th>1</th>\n",
       "      <td>control</td>\n",
       "      <td>1.177625122669283611</td>\n",
       "    </tr>\n",
       "  </tbody>\n",
       "</table>\n",
       "</div>"
      ],
      "text/plain": [
       "  group_name              ?column?\n",
       "0  treatment  1.523994811932555123\n",
       "1    control  1.177625122669283611"
      ]
     },
     "execution_count": 59,
     "metadata": {},
     "output_type": "execute_result"
    }
   ],
   "source": [
    "%%vertica (analysis_end_time=analysis_end_time, analysis_start_time=analysis_start_time)\n",
    "select group_name, SUM(CASE \n",
    "                           WHEN course.first_verified_enrollment_time > :analysis_start_time\n",
    "                           AND course.first_verified_enrollment_time < :analysis_end_time\n",
    "                           AND course.current_enrollment_mode = 'verified'\n",
    "                           THEN 1\n",
    "                           ELSE 0\n",
    "                        END)*100/COUNT(1)\n",
    "from neem.pal_experiment_population as pop\n",
    "    INNER JOIN \n",
    "        production.d_user_course as course\n",
    "    ON pop.user_id = course.user_id\n",
    "    AND pop.course_id = course.course_id\n",
    "GROUP by 1"
   ]
  },
  {
   "cell_type": "code",
   "execution_count": 60,
   "metadata": {
    "collapsed": true
   },
   "outputs": [],
   "source": [
    "# Aggregated Data Set for quick look "
   ]
  },
  {
   "cell_type": "code",
   "execution_count": 61,
   "metadata": {
    "collapsed": true
   },
   "outputs": [],
   "source": [
    "%%vertica (analysis_end_time=analysis_end_time,analysis_start_time=analysis_start_time) -> agg_data_set\n",
    "select group_name, DATEDIFF('day',completed.passed_timestamp,:analysis_start_time) AS 'Days since passing',\n",
    "                        master.course_seat_price as Price, \n",
    "                        SUM(CASE \n",
    "                           WHEN course.first_verified_enrollment_time > :analysis_start_time\n",
    "                           AND course.first_verified_enrollment_time < :analysis_end_time\n",
    "                           AND course.current_enrollment_mode = 'verified'\n",
    "                           THEN 1\n",
    "                           ELSE 0\n",
    "                        END) AS Verifications,\n",
    "                        COUNT(1) AS Learners,\n",
    "                        SUM(CASE \n",
    "                           WHEN course.first_verified_enrollment_time > :analysis_start_time\n",
    "                           AND course.first_verified_enrollment_time < :analysis_end_time\n",
    "                           AND course.current_enrollment_mode = 'verified'\n",
    "                           THEN 1\n",
    "                           ELSE 0\n",
    "                        END)*100/COUNT(1) AS VTR\n",
    "        \n",
    "from neem.pal_experiment_population as pop\n",
    "    INNER JOIN\n",
    "    business_intelligence.course_master as master\n",
    "        ON pop.course_id = master.course_id\n",
    "    INNER JOIN \n",
    "        production.d_user_course as course\n",
    "        ON pop.user_id = course.user_id\n",
    "        AND pop.course_id = course.course_id\n",
    "    INNER JOIN\n",
    "        business_intelligence.course_completion_user as completed\n",
    "    ON pop.user_id = completed.user_id\n",
    "    AND pop.course_id = completed.course_id\n",
    "GROUP by 1,2,3\n",
    "ORDER by 2,3"
   ]
  },
  {
   "cell_type": "code",
   "execution_count": 62,
   "metadata": {
    "collapsed": true
   },
   "outputs": [],
   "source": [
    "agg_data_set.set_index('group_name', inplace=True)"
   ]
  },
  {
   "cell_type": "code",
   "execution_count": 63,
   "metadata": {},
   "outputs": [
    {
     "data": {
      "text/html": [
       "<div>\n",
       "<style>\n",
       "    .dataframe thead tr:only-child th {\n",
       "        text-align: right;\n",
       "    }\n",
       "\n",
       "    .dataframe thead th {\n",
       "        text-align: left;\n",
       "    }\n",
       "\n",
       "    .dataframe tbody tr th {\n",
       "        vertical-align: top;\n",
       "    }\n",
       "</style>\n",
       "<table border=\"1\" class=\"dataframe\">\n",
       "  <thead>\n",
       "    <tr style=\"text-align: right;\">\n",
       "      <th></th>\n",
       "      <th>Days since passing</th>\n",
       "      <th>Price</th>\n",
       "      <th>Verifications</th>\n",
       "      <th>Learners</th>\n",
       "      <th>VTR</th>\n",
       "    </tr>\n",
       "    <tr>\n",
       "      <th>group_name</th>\n",
       "      <th></th>\n",
       "      <th></th>\n",
       "      <th></th>\n",
       "      <th></th>\n",
       "      <th></th>\n",
       "    </tr>\n",
       "  </thead>\n",
       "  <tbody>\n",
       "    <tr>\n",
       "      <th>treatment</th>\n",
       "      <td>1</td>\n",
       "      <td>25.0</td>\n",
       "      <td>0</td>\n",
       "      <td>1</td>\n",
       "      <td>0E-18</td>\n",
       "    </tr>\n",
       "    <tr>\n",
       "      <th>control</th>\n",
       "      <td>1</td>\n",
       "      <td>25.0</td>\n",
       "      <td>0</td>\n",
       "      <td>5</td>\n",
       "      <td>0E-18</td>\n",
       "    </tr>\n",
       "    <tr>\n",
       "      <th>treatment</th>\n",
       "      <td>1</td>\n",
       "      <td>40.0</td>\n",
       "      <td>0</td>\n",
       "      <td>3</td>\n",
       "      <td>0E-18</td>\n",
       "    </tr>\n",
       "    <tr>\n",
       "      <th>treatment</th>\n",
       "      <td>1</td>\n",
       "      <td>49.0</td>\n",
       "      <td>1</td>\n",
       "      <td>10</td>\n",
       "      <td>10.000000000000000000</td>\n",
       "    </tr>\n",
       "    <tr>\n",
       "      <th>control</th>\n",
       "      <td>1</td>\n",
       "      <td>49.0</td>\n",
       "      <td>1</td>\n",
       "      <td>10</td>\n",
       "      <td>10.000000000000000000</td>\n",
       "    </tr>\n",
       "  </tbody>\n",
       "</table>\n",
       "</div>"
      ],
      "text/plain": [
       "            Days since passing  Price  Verifications  Learners  \\\n",
       "group_name                                                       \n",
       "treatment                    1   25.0              0         1   \n",
       "control                      1   25.0              0         5   \n",
       "treatment                    1   40.0              0         3   \n",
       "treatment                    1   49.0              1        10   \n",
       "control                      1   49.0              1        10   \n",
       "\n",
       "                              VTR  \n",
       "group_name                         \n",
       "treatment                   0E-18  \n",
       "control                     0E-18  \n",
       "treatment                   0E-18  \n",
       "treatment   10.000000000000000000  \n",
       "control     10.000000000000000000  "
      ]
     },
     "execution_count": 63,
     "metadata": {},
     "output_type": "execute_result"
    }
   ],
   "source": [
    "agg_data_set.head()"
   ]
  },
  {
   "cell_type": "code",
   "execution_count": 64,
   "metadata": {
    "collapsed": true
   },
   "outputs": [],
   "source": [
    "# Aggregated Data Frame with cert price grouping"
   ]
  },
  {
   "cell_type": "code",
   "execution_count": 65,
   "metadata": {
    "collapsed": true
   },
   "outputs": [],
   "source": [
    "%%vertica (analysis_end_time=analysis_end_time,analysis_start_time=analysis_start_time) -> agg2_data_set\n",
    "select group_name, DATEDIFF('day',completed.passed_timestamp,:analysis_start_time) AS 'days_since_passing',\n",
    "                        master.course_seat_price as Price, \n",
    "    CASE \n",
    "        WHEN master.course_seat_price < 30 THEN '25'\n",
    "        WHEN master.course_seat_price < 70 THEN '50'\n",
    "        WHEN master.course_seat_price < 100 THEN '100'\n",
    "        ELSE '>100'\n",
    "    END AS seat_price_group,\n",
    "                        SUM(CASE\n",
    "                        WHEN course.first_verified_enrollment_time > :analysis_start_time\n",
    "                           AND course.first_verified_enrollment_time < :analysis_end_time\n",
    "                           AND course.current_enrollment_mode = 'verified'\n",
    "                        THEN 1\n",
    "                        ELSE 0 \n",
    "                        END)\n",
    "                        AS Verified,\n",
    "                        COUNT(1) AS passed_learners\n",
    "from neem.pal_experiment_population as pop\n",
    "    INNER JOIN\n",
    "    business_intelligence.course_master as master\n",
    "        ON pop.course_id = master.course_id\n",
    "    INNER JOIN \n",
    "        production.d_user_course as course\n",
    "        ON pop.user_id = course.user_id\n",
    "        AND pop.course_id = course.course_id\n",
    "    INNER JOIN\n",
    "        business_intelligence.course_completion_user as completed\n",
    "    ON pop.user_id = completed.user_id\n",
    "    AND pop.course_id = completed.course_id\n",
    "GROUP BY 1,2,3,4"
   ]
  },
  {
   "cell_type": "code",
   "execution_count": 66,
   "metadata": {
    "collapsed": true
   },
   "outputs": [],
   "source": [
    "# Plot to show effect by price group, needs work\n",
    "# sns.distplot(\n",
    "#agg2_data_set.seat_price_group\n",
    "#)"
   ]
  },
  {
   "cell_type": "code",
   "execution_count": 67,
   "metadata": {},
   "outputs": [
    {
     "data": {
      "text/html": [
       "<div>\n",
       "<style>\n",
       "    .dataframe thead tr:only-child th {\n",
       "        text-align: right;\n",
       "    }\n",
       "\n",
       "    .dataframe thead th {\n",
       "        text-align: left;\n",
       "    }\n",
       "\n",
       "    .dataframe tbody tr th {\n",
       "        vertical-align: top;\n",
       "    }\n",
       "</style>\n",
       "<table border=\"1\" class=\"dataframe\">\n",
       "  <thead>\n",
       "    <tr style=\"text-align: right;\">\n",
       "      <th></th>\n",
       "      <th>group_name</th>\n",
       "      <th>days_since_passing</th>\n",
       "      <th>Price</th>\n",
       "      <th>seat_price_group</th>\n",
       "      <th>Verified</th>\n",
       "      <th>passed_learners</th>\n",
       "    </tr>\n",
       "  </thead>\n",
       "  <tbody>\n",
       "    <tr>\n",
       "      <th>0</th>\n",
       "      <td>control</td>\n",
       "      <td>8</td>\n",
       "      <td>25.0</td>\n",
       "      <td>25</td>\n",
       "      <td>0</td>\n",
       "      <td>14</td>\n",
       "    </tr>\n",
       "    <tr>\n",
       "      <th>1</th>\n",
       "      <td>treatment</td>\n",
       "      <td>5</td>\n",
       "      <td>199.0</td>\n",
       "      <td>&gt;100</td>\n",
       "      <td>0</td>\n",
       "      <td>2</td>\n",
       "    </tr>\n",
       "    <tr>\n",
       "      <th>2</th>\n",
       "      <td>control</td>\n",
       "      <td>6</td>\n",
       "      <td>99.0</td>\n",
       "      <td>100</td>\n",
       "      <td>2</td>\n",
       "      <td>147</td>\n",
       "    </tr>\n",
       "    <tr>\n",
       "      <th>3</th>\n",
       "      <td>treatment</td>\n",
       "      <td>11</td>\n",
       "      <td>70.0</td>\n",
       "      <td>100</td>\n",
       "      <td>0</td>\n",
       "      <td>5</td>\n",
       "    </tr>\n",
       "    <tr>\n",
       "      <th>4</th>\n",
       "      <td>treatment</td>\n",
       "      <td>7</td>\n",
       "      <td>40.0</td>\n",
       "      <td>50</td>\n",
       "      <td>0</td>\n",
       "      <td>4</td>\n",
       "    </tr>\n",
       "  </tbody>\n",
       "</table>\n",
       "</div>"
      ],
      "text/plain": [
       "  group_name  days_since_passing  Price seat_price_group  Verified  \\\n",
       "0    control                   8   25.0               25         0   \n",
       "1  treatment                   5  199.0             >100         0   \n",
       "2    control                   6   99.0              100         2   \n",
       "3  treatment                  11   70.0              100         0   \n",
       "4  treatment                   7   40.0               50         0   \n",
       "\n",
       "   passed_learners  \n",
       "0               14  \n",
       "1                2  \n",
       "2              147  \n",
       "3                5  \n",
       "4                4  "
      ]
     },
     "execution_count": 67,
     "metadata": {},
     "output_type": "execute_result"
    }
   ],
   "source": [
    "agg2_data_set.head()"
   ]
  },
  {
   "cell_type": "code",
   "execution_count": 68,
   "metadata": {
    "collapsed": true
   },
   "outputs": [],
   "source": [
    "agg2_data_set = agg2_data_set.groupby(['group_name','days_since_passing']).sum().reset_index()"
   ]
  },
  {
   "cell_type": "code",
   "execution_count": 69,
   "metadata": {
    "collapsed": true
   },
   "outputs": [],
   "source": [
    "agg2_data_set['vtr'] = agg2_data_set['Verified']*100.0/agg2_data_set['passed_learners']"
   ]
  },
  {
   "cell_type": "code",
   "execution_count": 70,
   "metadata": {},
   "outputs": [
    {
     "data": {
      "text/html": [
       "<div>\n",
       "<style>\n",
       "    .dataframe thead tr:only-child th {\n",
       "        text-align: right;\n",
       "    }\n",
       "\n",
       "    .dataframe thead th {\n",
       "        text-align: left;\n",
       "    }\n",
       "\n",
       "    .dataframe tbody tr th {\n",
       "        vertical-align: top;\n",
       "    }\n",
       "</style>\n",
       "<table border=\"1\" class=\"dataframe\">\n",
       "  <thead>\n",
       "    <tr style=\"text-align: right;\">\n",
       "      <th></th>\n",
       "      <th>group_name</th>\n",
       "      <th>days_since_passing</th>\n",
       "      <th>Price</th>\n",
       "      <th>Verified</th>\n",
       "      <th>passed_learners</th>\n",
       "      <th>vtr</th>\n",
       "    </tr>\n",
       "  </thead>\n",
       "  <tbody>\n",
       "    <tr>\n",
       "      <th>0</th>\n",
       "      <td>control</td>\n",
       "      <td>1</td>\n",
       "      <td>348.0</td>\n",
       "      <td>2</td>\n",
       "      <td>42</td>\n",
       "      <td>4.761905</td>\n",
       "    </tr>\n",
       "    <tr>\n",
       "      <th>1</th>\n",
       "      <td>control</td>\n",
       "      <td>2</td>\n",
       "      <td>552.0</td>\n",
       "      <td>5</td>\n",
       "      <td>306</td>\n",
       "      <td>1.633987</td>\n",
       "    </tr>\n",
       "    <tr>\n",
       "      <th>2</th>\n",
       "      <td>control</td>\n",
       "      <td>3</td>\n",
       "      <td>815.0</td>\n",
       "      <td>3</td>\n",
       "      <td>196</td>\n",
       "      <td>1.530612</td>\n",
       "    </tr>\n",
       "    <tr>\n",
       "      <th>3</th>\n",
       "      <td>control</td>\n",
       "      <td>4</td>\n",
       "      <td>656.0</td>\n",
       "      <td>3</td>\n",
       "      <td>203</td>\n",
       "      <td>1.477833</td>\n",
       "    </tr>\n",
       "    <tr>\n",
       "      <th>4</th>\n",
       "      <td>control</td>\n",
       "      <td>5</td>\n",
       "      <td>566.0</td>\n",
       "      <td>3</td>\n",
       "      <td>267</td>\n",
       "      <td>1.123596</td>\n",
       "    </tr>\n",
       "  </tbody>\n",
       "</table>\n",
       "</div>"
      ],
      "text/plain": [
       "  group_name  days_since_passing  Price  Verified  passed_learners       vtr\n",
       "0    control                   1  348.0         2               42  4.761905\n",
       "1    control                   2  552.0         5              306  1.633987\n",
       "2    control                   3  815.0         3              196  1.530612\n",
       "3    control                   4  656.0         3              203  1.477833\n",
       "4    control                   5  566.0         3              267  1.123596"
      ]
     },
     "execution_count": 70,
     "metadata": {},
     "output_type": "execute_result"
    }
   ],
   "source": [
    "agg2_data_set.head()"
   ]
  },
  {
   "cell_type": "code",
   "execution_count": 71,
   "metadata": {},
   "outputs": [
    {
     "data": {
      "text/plain": [
       "<seaborn.axisgrid.FacetGrid at 0x7f8fb5d6f400>"
      ]
     },
     "execution_count": 71,
     "metadata": {},
     "output_type": "execute_result"
    },
    {
     "data": {
      "image/png": "[encoded data removed]",
      "text/plain": [
       "<matplotlib.figure.Figure at 0x7f8fb3af8eb8>"
      ]
     },
     "metadata": {},
     "output_type": "display_data"
    }
   ],
   "source": [
    "sns.factorplot(\n",
    "    data = agg2_data_set,\n",
    "    x = 'days_since_passing',\n",
    "    y = 'vtr',\n",
    "    hue = 'group_name',\n",
    "    size = 6,\n",
    "    aspect = 1.5,\n",
    ")"
   ]
  },
  {
   "cell_type": "code",
   "execution_count": 72,
   "metadata": {
    "collapsed": true
   },
   "outputs": [],
   "source": [
    "# example of inline filtering\n",
    "# * * *\n",
    "# data_set_unaggregated[data_set_unaggregated['days_since_passing']<5]"
   ]
  },
  {
   "cell_type": "code",
   "execution_count": 73,
   "metadata": {
    "collapsed": true
   },
   "outputs": [],
   "source": [
    "# Unaggregated data set for testing statistical significance"
   ]
  },
  {
   "cell_type": "code",
   "execution_count": 74,
   "metadata": {
    "collapsed": true
   },
   "outputs": [],
   "source": [
    "%%vertica (analysis_end_time=analysis_end_time,analysis_start_time=analysis_start_time) -> data_set_unaggregated\n",
    "select group_name, DATEDIFF('day',completed.passed_timestamp,:analysis_start_time) AS 'days_since_passing',\n",
    "                        CASE\n",
    "                        WHEN course.first_verified_enrollment_time > :analysis_start_time\n",
    "                           AND course.first_verified_enrollment_time < :analysis_end_time\n",
    "                           AND course.current_enrollment_mode = 'verified'\n",
    "                        THEN 1\n",
    "                        ELSE 0 \n",
    "                        END\n",
    "                        AS Verified\n",
    "from neem.pal_experiment_population as pop\n",
    "    INNER JOIN\n",
    "    business_intelligence.course_master as master\n",
    "        ON pop.course_id = master.course_id\n",
    "    INNER JOIN \n",
    "        production.d_user_course as course\n",
    "        ON pop.user_id = course.user_id\n",
    "        AND pop.course_id = course.course_id\n",
    "    INNER JOIN\n",
    "        business_intelligence.course_completion_user as completed\n",
    "    ON pop.user_id = completed.user_id\n",
    "    AND pop.course_id = completed.course_id"
   ]
  },
  {
   "cell_type": "code",
   "execution_count": 75,
   "metadata": {
    "collapsed": true
   },
   "outputs": [],
   "source": [
    "#Example of in-line filtering \n",
    "#data_set_unaggregated[data_set_unaggregated['days_since_passing']<=3].head()"
   ]
  },
  {
   "cell_type": "code",
   "execution_count": 76,
   "metadata": {},
   "outputs": [
    {
     "data": {
      "text/html": [
       "<div>\n",
       "<style>\n",
       "    .dataframe thead tr:only-child th {\n",
       "        text-align: right;\n",
       "    }\n",
       "\n",
       "    .dataframe thead th {\n",
       "        text-align: left;\n",
       "    }\n",
       "\n",
       "    .dataframe tbody tr th {\n",
       "        vertical-align: top;\n",
       "    }\n",
       "</style>\n",
       "<table border=\"1\" class=\"dataframe\">\n",
       "  <thead>\n",
       "    <tr style=\"text-align: right;\">\n",
       "      <th></th>\n",
       "      <th>group_name</th>\n",
       "      <th>days_since_passing</th>\n",
       "      <th>Verified</th>\n",
       "    </tr>\n",
       "  </thead>\n",
       "  <tbody>\n",
       "    <tr>\n",
       "      <th>0</th>\n",
       "      <td>treatment</td>\n",
       "      <td>4</td>\n",
       "      <td>0</td>\n",
       "    </tr>\n",
       "    <tr>\n",
       "      <th>1</th>\n",
       "      <td>treatment</td>\n",
       "      <td>14</td>\n",
       "      <td>0</td>\n",
       "    </tr>\n",
       "    <tr>\n",
       "      <th>2</th>\n",
       "      <td>control</td>\n",
       "      <td>14</td>\n",
       "      <td>0</td>\n",
       "    </tr>\n",
       "    <tr>\n",
       "      <th>3</th>\n",
       "      <td>treatment</td>\n",
       "      <td>3</td>\n",
       "      <td>0</td>\n",
       "    </tr>\n",
       "    <tr>\n",
       "      <th>4</th>\n",
       "      <td>treatment</td>\n",
       "      <td>14</td>\n",
       "      <td>0</td>\n",
       "    </tr>\n",
       "  </tbody>\n",
       "</table>\n",
       "</div>"
      ],
      "text/plain": [
       "  group_name  days_since_passing  Verified\n",
       "0  treatment                   4         0\n",
       "1  treatment                  14         0\n",
       "2    control                  14         0\n",
       "3  treatment                   3         0\n",
       "4  treatment                  14         0"
      ]
     },
     "execution_count": 76,
     "metadata": {},
     "output_type": "execute_result"
    }
   ],
   "source": [
    "data_set_unaggregated.head()"
   ]
  },
  {
   "cell_type": "code",
   "execution_count": 77,
   "metadata": {},
   "outputs": [
    {
     "data": {
      "application/vnd.jupyter.widget-view+json": {
       "model_id": "e7555caa97474786800646433c148dc0"
      }
     },
     "metadata": {},
     "output_type": "display_data"
    }
   ],
   "source": [
    "import edx_stats\n",
    "\n",
    "experiment_conf_intervals = edx_stats.grouped_confidence_intervals(\n",
    "    #data_set_unaggregated[data_set_unaggregated['days_since_passing']<=3].reset_index(),\n",
    "    data_set_unaggregated.reset_index(),\n",
    "    variant_col='group_name',\n",
    "    value_col='Verified',\n",
    "    ctrl_name='control',\n",
    "    group_cols=[]\n",
    ")"
   ]
  },
  {
   "cell_type": "code",
   "execution_count": 78,
   "metadata": {
    "scrolled": true
   },
   "outputs": [
    {
     "data": {
      "image/png": "[encoded data removed]",
      "text/plain": [
       "<matplotlib.figure.Figure at 0x7f8fb20b8b38>"
      ]
     },
     "metadata": {},
     "output_type": "display_data"
    },
    {
     "data": {
      "text/plain": [
       "<ggplot: (8765947947142)>"
      ]
     },
     "execution_count": 78,
     "metadata": {},
     "output_type": "execute_result"
    }
   ],
   "source": [
    "from plotnine import *\n",
    "from edx_plot import geom_confidence, theme_confidence\n",
    "(\n",
    "    ggplot(experiment_conf_intervals.reset_index(), aes(\n",
    "        x='group_name',\n",
    "        y='percent_change',\n",
    "        ymin='lower_bound',\n",
    "        ymax='upper_bound',\n",
    "        color='significant',\n",
    "        label_size=0.5,\n",
    "    ))\n",
    "    + geom_confidence()\n",
    "    + theme_confidence()\n",
    "    + ggtitle(\"Change in Number of Verifications\")\n",
    ")"
   ]
  }
 ],
 "metadata": {
  "kernelspec": {
   "display_name": "Python 3",
   "language": "python",
   "name": "python3"
  },
  "language_info": {
   "codemirror_mode": {
    "name": "ipython",
    "version": 3
   },
   "file_extension": ".py",
   "mimetype": "text/x-python",
   "name": "python",
   "nbconvert_exporter": "python",
   "pygments_lexer": "ipython3",
   "version": "3.6.1"
  }
 },
 "nbformat": 4,
 "nbformat_minor": 2
}
