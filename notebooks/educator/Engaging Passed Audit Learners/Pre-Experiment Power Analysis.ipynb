{
 "cells": [
  {
   "cell_type": "code",
   "execution_count": 1,
   "metadata": {},
   "outputs": [
    {
     "name": "stdout",
     "output_type": "stream",
     "text": [
      "The edx_jupyter extension is already loaded. To reload it, use:\n",
      "  %reload_ext edx_jupyter\n"
     ]
    }
   ],
   "source": [
    "%load_ext edx_jupyter"
   ]
  },
  {
   "cell_type": "code",
   "execution_count": 2,
   "metadata": {},
   "outputs": [
    {
     "name": "stdout",
     "output_type": "stream",
     "text": [
      "OPS_WAREHOUSE_PASSWORD: ········\n"
     ]
    },
    {
     "data": {
      "text/html": [
       "<div>\n",
       "<style>\n",
       "    .dataframe thead tr:only-child th {\n",
       "        text-align: right;\n",
       "    }\n",
       "\n",
       "    .dataframe thead th {\n",
       "        text-align: left;\n",
       "    }\n",
       "\n",
       "    .dataframe tbody tr th {\n",
       "        vertical-align: top;\n",
       "    }\n",
       "</style>\n",
       "<table border=\"1\" class=\"dataframe\">\n",
       "  <thead>\n",
       "    <tr style=\"text-align: right;\">\n",
       "      <th></th>\n",
       "      <th>?column?</th>\n",
       "    </tr>\n",
       "  </thead>\n",
       "  <tbody>\n",
       "    <tr>\n",
       "      <th>0</th>\n",
       "      <td>Connected to Vertica!</td>\n",
       "    </tr>\n",
       "  </tbody>\n",
       "</table>\n",
       "</div>"
      ],
      "text/plain": [
       "                ?column?\n",
       "0  Connected to Vertica!"
      ]
     },
     "execution_count": 2,
     "metadata": {},
     "output_type": "execute_result"
    }
   ],
   "source": [
    "%%vertica\n",
    "SELECT 'Connected to Vertica!'"
   ]
  },
  {
   "cell_type": "code",
   "execution_count": 3,
   "metadata": {
    "collapsed": true
   },
   "outputs": [],
   "source": [
    "%vertica SET TIME ZONE to UTC;"
   ]
  },
  {
   "cell_type": "code",
   "execution_count": 4,
   "metadata": {
    "collapsed": true
   },
   "outputs": [],
   "source": [
    "courses_to_exclude = (\n",
    "    'course-v1:Microsoft+DAT208x+2T2016',\n",
    "    'course-v1:CornellX+GMO101x+T12017',\n",
    "    'course-v1:DelftX+TBP01x+3T2015',\n",
    "    'course-v1:MITx+8.MechCx_2+1T2016',\n",
    "    'course-v1:WageningenX+BB02x+1T2017',\n",
    "    'course-v1:Microsoft+DEV210x+2T2017',\n",
    "    'course-v1:RITx+PM9002x+1T2018',\n",
    "    'course-v1:UC3Mx+IT.1.2x+2016T2',\n",
    "    'course-v1:GeorgetownX+NFX523-03x+2016_T1',\n",
    "    'course-v1:GalileoX+CAAD002X+3T2017',\n",
    "    'course-v1:MITx+6.002.2x_1+2T2016',\n",
    "    'course-v1:RiceX+AdvPHY1.3x+1T2016',\n",
    "    'course-v1:MITx+CTL.SC0x+3T2017',\n",
    "    'course-v1:edX+CT101+2015_T1',\n",
    "    'course-v1:GalileoX+CET004X+2T2017',\n",
    "    'course-v1:MITx+CTL.SC3x+2T2016',\n",
    "    'course-v1:UPValenciaX+LIDER201.3x+2T2017',\n",
    "    'course-v1:ASUx+AST111x+2161B',\n",
    "    'course-v1:BerkeleyX+GG101x+3T2017',\n",
    "    'course-v1:PennX+ROBO2x+2T2017',\n",
    "    'course-v1:UBCx+Phot1x+1T2017',\n",
    "    'course-v1:RiceX+AdvPHY1.2x+3T2015',\n",
    "    'course-v1:DelftX+BwN101x+1T2016',\n",
    "    'course-v1:CaltechDelftX+QuCryptox+3T2016',\n",
    "    'course-v1:DelftX+RI101x+3T2017',\n",
    "    'course-v1:GalileoX+CAAD001X+2T2017',\n",
    "    'course-v1:LouvainX+Louv5x+3T2017',\n",
    "    'course-v1:RWTHx+MTI001x+2T2017',\n",
    "    'course-v1:Microsoft+DEV208x+1T2017',\n",
    "    'course-v1:UPValenciaX+GM201x+2T2017',\n",
    "    'course-v1:DartmouthX+DART.ENGL.01.x+2016_T1',\n",
    "    'course-v1:MITx+24.00x+2T2017',\n",
    "    'course-v1:GalileoX+CTec001x+2T2016',\n",
    "    'course-v1:Microsoft+DEV204x+2T2016',\n",
    "    'course-v1:DelftX+RI101x+1T2016',\n",
    "    'course-v1:ASUx+SOC101X+2167A',\n",
    "    'course-v1:W3Cx+HTML5.1x+1T2017',\n",
    "    'course-v1:UBCx+PSYC.6x+2T2017',\n",
    "    'course-v1:Microsoft+DEV210x+3T2017',\n",
    "    'course-v1:DelftX+OG101x+2T2017',\n",
    "    'course-v1:PennX+ROBO1x+1T2017',\n",
    "    'course-v1:TUMx+EASEx+2T2017',\n",
    "    'course-v1:GalileoX+CAAD004X+2T2017',\n",
    "    'course-v1:Microsoft+DEV210x+1T2016',\n",
    "    'course-v1:ASUx+AST111x+2174C',\n",
    "    'course-v1:MITx+CTL.SC4x+1T2017',\n",
    "    'course-v1:LouvainX+Louv16x+1T2017',\n",
    "    'course-v1:RITx+PM9002x+2T2018',\n",
    "    'course-v1:MITx+24.118x+2T2015',\n",
    "    'course-v1:ASUx+SOC101x+2177A',\n",
    "    'course-v1:HKPolyUx+HTM533x+3T2017',\n",
    "    'course-v1:ASUx+TGM579x+1T2018',\n",
    "    'course-v1:IMTx+NET01x+1T2017',\n",
    "    'course-v1:ColumbiaX+CSMM.102x+1T2017',\n",
    "    'course-v1:ASUx+AST111+3T2015',\n",
    "    'course-v1:LouvainX+Louv10x+1T2017',\n",
    "    'course-v1:UC3Mx+IT.1.2x+3T2017',\n",
    "    'course-v1:MITx+6.00.1x_9+2T2016',\n",
    "    'course-v1:VictoriaX+ICE101x+1T2017',\n",
    "    'course-v1:MITx+7.00x+1T2017',\n",
    "    'course-v1:UPValenciaX+LIDER201.3x+3T2017',\n",
    "    'course-v1:UBCx+Phot1x+2T2017',\n",
    "    'course-v1:UTAustinX+UT.WTCS.14.01x+1T2017',\n",
    "    'course-v1:ASUx+FSE100x+2177C',\n",
    "    'course-v1:MITx+6.00.1x_8+1T2016',\n",
    "    'course-v1:ColumbiaX+DS101X+1T2017',\n",
    "    'course-v1:RITx+PM9003x+2T2017',\n",
    "    'course-v1:GalileoX+CAAD001X+3T2017',\n",
    "    'course-v1:RITx+PM9001x+1T2018',\n",
    "    'course-v1:WageningenX+BB01x+1T2017',\n",
    "    'course-v1:USMx+CC605x+2T2017_2',\n",
    "    'course-v1:ASUx+CSE110x+2177C',\n",
    "    'course-v1:ASUx+ENG101x+2177A',\n",
    "    'course-v1:ASUx+TGM505x+2T2017',\n",
    "    'course-v1:HarvardXPLUS+MCB63xPLUS+3T2016',\n",
    "    'course-v1:BUx+QD501x+2T2017',\n",
    "    'course-v1:ASUx+TGM540x+1T2017',\n",
    "    'course-v1:MITx+CTL.SC1x_3+1T2017',\n",
    "    'course-v1:UC3Mx+IT.1.1x+3T2015',\n",
    "    'course-v1:RiceX+AdvPHY1.1x+2015_T3',\n",
    "    'course-v1:UTAustinX+UT.7.10x+1T2016',\n",
    "    'course-v1:UBCx+Climate101x+3T2015',\n",
    "    'course-v1:MITx+6.002.3x_1+2T2016',\n",
    "    'course-v1:BerkeleyX+CS169.2x+1T2016SP',\n",
    "    'course-v1:LouvainX+Louv11x+3T2017',\n",
    "    'course-v1:ASUx+HST102+3T2015',\n",
    "    'course-v1:ASUx+ENG101x+2171A',\n",
    "    'course-v1:GalileoX+CAAD004X+3T2017',\n",
    "    'course-v1:AdelaideX+Data101x+1T2017',\n",
    "    'course-v1:MITx+CTL.SC0x_2+1T2017',\n",
    "    'course-v1:Microsoft+DEV210x+2T2016',\n",
    "    'RiceX/AdvBIO.1x/2014T3',\n",
    "    'course-v1:RiceX+AdvPHY1.1x+3T2015',\n",
    "    'course-v1:UBCx+HtC2x+2T2017',\n",
    "    'course-v1:MITx+CTL.SC0x+3T2016',\n",
    "    'course-v1:DelftX+OG101x+1T2016',\n",
    "    'course-v1:edX+edX101+3T2016',\n",
    "    'course-v1:Microsoft+DAT208x+4T2016',\n",
    "    'course-v1:MITx+CTL.SC2x_2+2T2016',\n",
    "    'course-v1:RITx+PM9002x+1T2017',\n",
    "    'course-v1:MITx+8.MechCx_2+2T2015',\n",
    "    'course-v1:MITx+7.00x_3+2T2015',\n",
    "    'course-v1:Microsoft+DAT208x+1T2017',\n",
    "    'course-v1:CornellX+GMO101x+3T2016',\n",
    "    'course-v1:HKPolyUx+HTM541x+1T2017',\n",
    "    'course-v1:ColumbiaX+CSMM.102x+2T2017',\n",
    "    'course-v1:AdelaideX+HumBio101x+2T2017',\n",
    "    'course-v1:UTAustinX+UT.WTCS.14.01x+2T2017',\n",
    "    'course-v1:ASUx+AST111x+1T2016',\n",
    "    'course-v1:RWTHx+EBWL101+3T2016',\n",
    "    'course-v1:USMx+CC605x+2T2017',\n",
    "    'course-v1:ASUx+AST111x+2177B',\n",
    "    'course-v1:UBCx+Phot1x+1T2016',\n",
    "    'course-v1:MITx+7.00x+2T2017',\n",
    "    'course-v1:ASUx+SOC101x+2171A',\n",
    "    'course-v1:UBCx+PSYC.1x+3T2016',\n",
    "    'course-v1:LouvainX+Louv10x+2T2017',\n",
    "    'course-v1:UCSanDiegoX+DSE200x+2T2017',\n",
    "    'course-v1:MITx+CTL.SC1x_3+2T2017',\n",
    "    'course-v1:GalileoX+CAAD003X+2T2017',\n",
    "    'course-v1:GalileoX+CET002X+1T2017',\n",
    "    'course-v1:edx-testing+edx-testing+cp-testing',\n",
    "    'course-v1:ASUx+ENG101x+2167A',\n",
    "    'course-v1:ASUx+TGM505x+3T2017',\n",
    "    'course-v1:harvardx+MCB63x+1T2017',\n",
    "    'course-v1:ASUx+TGM540x+2T2017',\n",
    "    'course-v1:ASUx+ENG101x+1T2016',\n",
    "    'course-v1:RITx+PM9001x+2T2018',\n",
    "    'course-v1:MITx+24.00x+2T2016',\n",
    "    'course-v1:BUx+QD501x+3T2017',\n",
    "    'course-v1:UBCx+Marketing1x+3T2015',\n",
    "    'course-v1:Microsoft+DEV204x+1T2017',\n",
    "    'course-v1:LouvainX+Louv16x+3T2017',\n",
    "    'course-v1:Microsoft+DAT208x+5T2016',\n",
    "    'course-v1:PennX+ROBO3x+2T2017',\n",
    "    'course-v1:MichiganX+801x+1T2017',\n",
    "    'course-v1:HarvardXPLUS+MCB63xPLUS+1T2017',\n",
    "    'course-v1:UC3Mx+IT.1.3x+1T2017',\n",
    "    'course-v1:ASUx+AST111x+2164C',\n",
    "    'course-v1:ASUx+TGM579x+1T2017',\n",
    "    'course-v1:MITx+CTL.SC4x+3T2017',\n",
    "    'course-v1:ASUx+SOC101x+2174C',\n",
    "    'course-v1:DelftX+PV1x+1T2017',\n",
    "    'course-v1:GalileoX+CET001X+3T2016',\n",
    "    'course-v1:ASUx+HST102x+2177B',\n",
    "    'course-v1:USMx+CC605x+3T2017',\n",
    "    'course-v1:adam+adam+adam',\n",
    "    'course-v1:UC3Mx+IT.1.2x+3T2016',\n",
    "    'course-v1:ColumbiaX+DS101X+1T2016',\n",
    "    'course-v1:ColumbiaX+CSMM.104x+1T2017',\n",
    "    'course-v1:ASUx+AST111x+Test123',\n",
    "    'course-v1:ColumbiaX+CSMM.101x+2T2017_2',\n",
    "    'course-v1:DelftX+TBP01x+3T2016',\n",
    "    'course-v1:GeorgetownX+GBUX-403x+1T2017_4',\n",
    "    'course-v1:DelftX+TBP01x+T32017',\n",
    "    'course-v1:BerkeleyX+CS169.1x+1T2017SP',\n",
    "    'course-v1:MITx+CTL.SC2x_3+1T2017',\n",
    "    'course-v1:GalileoX+CAAD002X+1T2017',\n",
    "    'course-v1:AdelaideX+HumBio101x+1T2016',\n",
    "    'course-v1:HKPolyUx+HTM541x+2T2017',\n",
    "    'course-v1:UBCx+UseGen.2x+3T2015',\n",
    "    'course-v1:LouvainX+Louv8x+1T2017',\n",
    "    'course-v1:DartmouthX+DART.MUS.02X+2T2017',\n",
    "    'course-v1:TokyoTechX+GeoS101x+2016_T1',\n",
    "    'course-v1:Microsoft+DAT208x+2T2017',\n",
    "    'UC3Mx/PCA.1x/1T2015',\n",
    "    'course-v1:RITx+PM9001x+1T2017',\n",
    "    'course-v1:RiceX+AdvPHY1.4x+1T2016',\n",
    "    'course-v1:UPValenciaX+DYOR101x+2T2017',\n",
    "    'course-v1:LouvainX+Louv2x+1T2017',\n",
    "    'course-v1:DartmouthX+DART.ICE.01X+1T2017',\n",
    "    'course-v1:ASUx+AST111x+2171B',\n",
    "    'course-v1:TokyoTechX+GeoS101x+2T2016',\n",
    "    'course-v1:ASUx+ENG101x+2174C',\n",
    "    'course-v1:DelftX+BwN101x+1T2017',\n",
    "    'course-v1:McGillX+Body101x+1T2017',\n",
    "    'course-v1:harvardx+MCB63xPLUS+1T2017',\n",
    "    'course-v1:LouvainX+Louv11x+3T2016',\n",
    "    'course-v1:W3Cx+HTML5.1x+2T2016',\n",
    "    'course-v1:CTX+CT101+2015_t1',\n",
    "    'course-v1:ASUx+HST102x+2164C',\n",
    "    'course-v1:Microsoft+DEV208x+2T2016',\n",
    "    'course-v1:RWTHx+EBWL101+1T2017',\n",
    "    'course-v1:MITx+CTL.CFx+2T2017',\n",
    "    'course-v1:BerkeleyX+GG101x+1T2017',\n",
    "    'course-v1:WageningenX+BB01x+3T2017',\n",
    "    'course-v1:DelftX+DDA691x+1T2017',\n",
    "    'course-v1:HKPolyUx+HTM534x+2T2017',\n",
    "    'course-v1:MITx+CTL.SC3x+2T2017',\n",
    "    'course-v1:MITx+CTL.SC1x+3T2017',\n",
    "    'course-v1:ASUx+TGM579x+2T2017',\n",
    "    'course-v1:TUMx+LOOPx+2T2017',\n",
    "    'course-v1:HKPolyUx+HTM540x+1T2017',\n",
    "    'course-v1:BUx+SABR101x+2T2015',\n",
    "    'course-v1:ColumbiaX+CSMM.102x+2T2017_2',\n",
    "    'course-v1:LouvainX+Louv5x+1T2017',\n",
    "    'course-v1:HarveyMuddX+CS005x+2T2016',\n",
    "    'course-v1:ASUx+ENG102x+2177B',\n",
    "    'course-v1:ColumbiaX+CSMM.101x+1T2017',\n",
    "    'course-v1:Microsoft+DAT208x+6T2016',\n",
    "    'course-v1:GeorgetownX+GBUX-403-04x+1T2017',\n",
    "    'course-v1:UPValenciaX+LIDER201.4x+2T2017',\n",
    "    'course-v1:UC3Mx+IT.1.1x+3T2017',\n",
    "    'course-v1:ASUx+AST111x+2167B',\n",
    "    'SNUx/SNU446.345.1x/1T2014',\n",
    "    'course-v1:BerkeleyX+CS169.2x+1T2016',\n",
    "    'course-v1:UBCx+Climate1x+2T2017',\n",
    "    'course-v1:LouvainX+Louv12x+2T2017',\n",
    "    'course-v1:Microsoft+DAT208x+3T2017',\n",
    "    'course-v1:ASUx+TGM551x+2T2017',\n",
    "    'course-v1:UBCx+Phot1x+3T2016',\n",
    "    'course-v1:RWTHx+MTI002x+2T2017',\n",
    "    'course-v1:GalileoX+CAAD002X+2T2017',\n",
    "    'course-v1:UPValenciaX+GP201x+1T2017',\n",
    "    'course-v1:ASUx+HST102x+2171B',\n",
    "    'course-v1:MITx+7.00x_4+2T2016',\n",
    "    'course-v1:Microsoft+DAT208x+1T2016',\n",
    "    'course-v1:Microsoft+DEV210x+1T2017',\n",
    "    'course-v1:ASUx+ENG102x+2171B',\n",
    "    'course-v1:ASUx+HST102x+1T2016',\n",
    "    'course-v1:MITx+7.00x_5+3T2016',\n",
    "    'course-v1:HarveyMuddX+CS002x+2T2016',\n",
    "    'course-v1:MITx+6.002.1x_1+2T2016',\n",
    "    'course-v1:UBCx+HtC1x+2T2017',\n",
    "    'course-v1:RWTHx+EBWL101+2T2017',\n",
    "    'course-v1:HarvardX+1368x+2T2017',\n",
    "    'course-v1:MITx+CTL.SC1x_2+1T2016',\n",
    "    'course-v1:W3Cx+HTML5.1x+3T2016',\n",
    "    'course-v1:WageningenX+BB03x+2T2017',\n",
    "    'course-v1:RITx+PM9001x+2T2017',\n",
    "    'course-v1:UBCx+PSYC.1x+2T2017',\n",
    "    'course-v1:ASUx+ENG101x+Test123',\n",
    "    'course-v1:Shelby+ClimateSSx+2015',\n",
    "    'course-v1:ColumbiaX+CSMM.101x+2T2017',\n",
    "    'course-v1:BerkeleyX+CS169.2x+1T2017SP',\n",
    "    'course-v1:GalileoX+CAAD001X+1T2017',\n",
    "    'course-v1:ASUx+HST102x+2177A',\n",
    "    'course-v1:UPValenciaX+GP201x+1T2017_2',\n",
    "    'course-v1:UC3Mx+IT.1.1x+3T2016',\n",
    "    'course-v1:UBCx+PSYC.6x+1T2017',\n",
    "    'course-v1:UBCx+UseGen.1x+3T2015',\n",
    "    'course-v1:RICEx+AdvPHY1x+2T2016',\n",
    "    'course-v1:ASUx+HST102x+2167B',\n",
    "    'course-v1:ASUx+ENG102x+2167B',\n",
    "    'course-v1:UC3Mx+IT.1.3x+3T2017',\n",
    "    'course-v1:ASUx+TGM579x+3T2017',\n",
    "    'course-v1:UPValenciaX+GM201x+1T2017',\n",
    "    'course-v1:DelftX+PV1x+3T2017'\n",
    "    )"
   ]
  },
  {
   "cell_type": "markdown",
   "metadata": {},
   "source": [
    "## All non-verified passing learners, in self-paced courses, since August 2016, with future verification date, not in excluded courses"
   ]
  },
  {
   "cell_type": "code",
   "execution_count": 5,
   "metadata": {
    "collapsed": true
   },
   "outputs": [],
   "source": [
    "%%vertica (courses_to_exclude=courses_to_exclude)\n",
    "DROP TABLE IF EXISTS non_verified_passing_users_all_future_v_date;\n",
    "CREATE local TEMPORARY TABLE non_verified_passing_users_all_future_v_date\n",
    "ON COMMIT PRESERVE ROWS AS\n",
    "SELECT\n",
    "    distinct a.user_id,\n",
    "    a.course_id,\n",
    "    a.letter_grade,\n",
    "    a.passed_timestamp,\n",
    "    b.current_enrollment_mode,\n",
    "    c.course_verification_end_date,\n",
    "    c.course_seat_price,\n",
    "    c.pacing_type,\n",
    "    b.first_verified_enrollment_time is NOT NULL AS eventually_verified_after_passing\n",
    "FROM business_intelligence.course_completion_user a\n",
    "JOIN production.d_user_course b\n",
    "    ON a.passed_timestamp is not null\n",
    "    AND a.passed_timestamp > '2016-08-01'\n",
    "    AND a.user_id = b.user_id\n",
    "    AND a.course_id = b.course_id\n",
    "    AND \n",
    "    (\n",
    "        -- User verified after passing\n",
    "        (\n",
    "            b.first_verified_enrollment_time is NOT NULL\n",
    "            AND b.first_verified_enrollment_time > a.passed_timestamp\n",
    "        ) OR\n",
    "        -- User passed, but did not verify\n",
    "        b.first_verified_enrollment_time is NULL\n",
    "    )\n",
    "JOIN business_intelligence.course_master c\n",
    "    ON a.course_id = c.course_id\n",
    "    AND c.pacing_type is NOT NULL\n",
    "    AND c.course_verification_end_date >= CURRENT_DATE()\n",
    "    AND c.pacing_type = 'self_paced'\n",
    "    AND c.content_language = 'en-us'\n",
    "WHERE a.course_id not in :courses_to_exclude"
   ]
  },
  {
   "cell_type": "markdown",
   "metadata": {},
   "source": [
    "## Calculate VTR for the above learners"
   ]
  },
  {
   "cell_type": "code",
   "execution_count": 6,
   "metadata": {},
   "outputs": [
    {
     "data": {
      "text/html": [
       "<div>\n",
       "<style>\n",
       "    .dataframe thead tr:only-child th {\n",
       "        text-align: right;\n",
       "    }\n",
       "\n",
       "    .dataframe thead th {\n",
       "        text-align: left;\n",
       "    }\n",
       "\n",
       "    .dataframe tbody tr th {\n",
       "        vertical-align: top;\n",
       "    }\n",
       "</style>\n",
       "<table border=\"1\" class=\"dataframe\">\n",
       "  <thead>\n",
       "    <tr style=\"text-align: right;\">\n",
       "      <th></th>\n",
       "      <th>count</th>\n",
       "    </tr>\n",
       "  </thead>\n",
       "  <tbody>\n",
       "    <tr>\n",
       "      <th>0</th>\n",
       "      <td>70028</td>\n",
       "    </tr>\n",
       "  </tbody>\n",
       "</table>\n",
       "</div>"
      ],
      "text/plain": [
       "   count\n",
       "0  70028"
      ]
     },
     "execution_count": 6,
     "metadata": {},
     "output_type": "execute_result"
    }
   ],
   "source": [
    "%%vertica\n",
    "SELECT count(*) FROM non_verified_passing_users_all_future_v_date"
   ]
  },
  {
   "cell_type": "code",
   "execution_count": 7,
   "metadata": {
    "collapsed": true
   },
   "outputs": [],
   "source": [
    "%%vertica -> results\n",
    "SELECT\n",
    "    SUM(did_upgrade)/COUNT(*) AS 'conversion_rate'\n",
    "FROM (\n",
    "    SELECT\n",
    "    user_id,\n",
    "    CASE\n",
    "        WHEN current_enrollment_mode = 'verified' THEN 1\n",
    "        ELSE 0\n",
    "    END AS did_upgrade\n",
    "    FROM non_verified_passing_users_all_future_v_date GROUP BY user_id, current_enrollment_mode\n",
    ")\n",
    "AS users"
   ]
  },
  {
   "cell_type": "code",
   "execution_count": 8,
   "metadata": {
    "collapsed": true
   },
   "outputs": [],
   "source": [
    "baseline_conversion_rate = float(results.loc[0].conversion_rate)"
   ]
  },
  {
   "cell_type": "code",
   "execution_count": 9,
   "metadata": {},
   "outputs": [
    {
     "name": "stdout",
     "output_type": "stream",
     "text": [
      "Baseline conversion rate: 10.9%\n"
     ]
    }
   ],
   "source": [
    "print('Baseline conversion rate: {0}%'.format(round(baseline_conversion_rate*100, 2)))"
   ]
  },
  {
   "cell_type": "code",
   "execution_count": 10,
   "metadata": {
    "collapsed": true
   },
   "outputs": [],
   "source": [
    "relative_increase_in_rate = 0.2\n",
    "power = 0.8\n",
    "significance_level = 0.1"
   ]
  },
  {
   "cell_type": "code",
   "execution_count": 11,
   "metadata": {},
   "outputs": [
    {
     "name": "stdout",
     "output_type": "stream",
     "text": [
      "Requirement already satisfied: statsmodels in /usr/local/lib/python3.6/site-packages\n",
      "Requirement already satisfied: patsy in /usr/local/lib/python3.6/site-packages (from statsmodels)\n",
      "Requirement already satisfied: pandas in /usr/local/lib/python3.6/site-packages (from statsmodels)\n",
      "Requirement already satisfied: scipy in /usr/local/lib/python3.6/site-packages (from statsmodels)\n",
      "Requirement already satisfied: six in /usr/local/lib/python3.6/site-packages (from patsy->statsmodels)\n",
      "Requirement already satisfied: numpy in /usr/local/lib/python3.6/site-packages (from patsy->statsmodels)\n",
      "Requirement already satisfied: pytz>=2011k in /usr/local/lib/python3.6/site-packages (from pandas->statsmodels)\n",
      "Requirement already satisfied: python-dateutil>=2 in /usr/local/lib/python3.6/site-packages (from pandas->statsmodels)\n"
     ]
    }
   ],
   "source": [
    "! sudo pip install statsmodels"
   ]
  },
  {
   "cell_type": "code",
   "execution_count": 12,
   "metadata": {},
   "outputs": [
    {
     "name": "stderr",
     "output_type": "stream",
     "text": [
      "/usr/local/lib/python3.6/site-packages/statsmodels/compat/pandas.py:56: FutureWarning: The pandas.core.datetools module is deprecated and will be removed in a future version. Please use the pandas.tseries module instead.\n",
      "  from pandas.core import datetools\n"
     ]
    }
   ],
   "source": [
    "import statsmodels.stats.api as sms"
   ]
  },
  {
   "cell_type": "code",
   "execution_count": 13,
   "metadata": {
    "collapsed": true
   },
   "outputs": [],
   "source": [
    "es = sms.proportion_effectsize(baseline_conversion_rate, baseline_conversion_rate * (1 + relative_increase_in_rate))"
   ]
  },
  {
   "cell_type": "code",
   "execution_count": 14,
   "metadata": {
    "collapsed": true
   },
   "outputs": [],
   "source": [
    "variant_size = round(sms.NormalIndPower().solve_power(es, power=power, alpha=significance_level, ratio=1))\n",
    "total_sample_size = 2*variant_size"
   ]
  },
  {
   "cell_type": "code",
   "execution_count": 15,
   "metadata": {},
   "outputs": [
    {
     "name": "stdout",
     "output_type": "stream",
     "text": [
      "Given these conversion rates, it looks like we will need about 2740 users in each variant, for a total sample size of 5480.\n"
     ]
    }
   ],
   "source": [
    "print('Given these conversion rates, it looks like we will need about {0} users in each variant, for a total sample size of {1}.'.format(variant_size, total_sample_size))"
   ]
  },
  {
   "cell_type": "markdown",
   "metadata": {},
   "source": [
    "## All non-verified passing learners, in self-paced courses, since beginning of time, with future verification date, not in excluded courses,  who enrolled in another course within 3 months of passing\n"
   ]
  },
  {
   "cell_type": "code",
   "execution_count": 16,
   "metadata": {
    "collapsed": true
   },
   "outputs": [],
   "source": [
    "%%vertica -> secondary_results\n",
    "SELECT \n",
    "    SUM(enrolled_again)/COUNT(*) as enrolled_again_soon_rate\n",
    "FROM\n",
    "(\n",
    "    SELECT \n",
    "    users.user_id,\n",
    "    CASE\n",
    "        WHEN uc.first_enrollment_time > users.passed_timestamp\n",
    "        AND uc.first_enrollment_time < users.passed_timestamp + INTERVALYM '3 MONTH'\n",
    "        AND uc.course_id != users.course_id THEN 1\n",
    "        ELSE 0\n",
    "    END AS enrolled_again\n",
    "    FROM non_verified_passing_users_all_future_v_date users\n",
    "    JOIN production.d_user_course uc\n",
    "    ON users.user_id = uc.user_id\n",
    ") as x"
   ]
  },
  {
   "cell_type": "code",
   "execution_count": 17,
   "metadata": {},
   "outputs": [
    {
     "data": {
      "text/html": [
       "<div>\n",
       "<style>\n",
       "    .dataframe thead tr:only-child th {\n",
       "        text-align: right;\n",
       "    }\n",
       "\n",
       "    .dataframe thead th {\n",
       "        text-align: left;\n",
       "    }\n",
       "\n",
       "    .dataframe tbody tr th {\n",
       "        vertical-align: top;\n",
       "    }\n",
       "</style>\n",
       "<table border=\"1\" class=\"dataframe\">\n",
       "  <thead>\n",
       "    <tr style=\"text-align: right;\">\n",
       "      <th></th>\n",
       "      <th>enrolled_again_soon_rate</th>\n",
       "    </tr>\n",
       "  </thead>\n",
       "  <tbody>\n",
       "    <tr>\n",
       "      <th>0</th>\n",
       "      <td>0.134319499949868480</td>\n",
       "    </tr>\n",
       "  </tbody>\n",
       "</table>\n",
       "</div>"
      ],
      "text/plain": [
       "  enrolled_again_soon_rate\n",
       "0     0.134319499949868480"
      ]
     },
     "execution_count": 17,
     "metadata": {},
     "output_type": "execute_result"
    }
   ],
   "source": [
    "secondary_results"
   ]
  },
  {
   "cell_type": "code",
   "execution_count": 18,
   "metadata": {
    "collapsed": true
   },
   "outputs": [],
   "source": [
    "baseline_reenrollment_rate = float(secondary_results.loc[0].enrolled_again_soon_rate)"
   ]
  },
  {
   "cell_type": "code",
   "execution_count": 19,
   "metadata": {
    "collapsed": true
   },
   "outputs": [],
   "source": [
    "relative_increase_in_rate = 0.1\n",
    "power = 0.8\n",
    "significance_level = 0.1"
   ]
  },
  {
   "cell_type": "code",
   "execution_count": 20,
   "metadata": {
    "collapsed": true
   },
   "outputs": [],
   "source": [
    "secondary_es = sms.proportion_effectsize(baseline_reenrollment_rate, baseline_reenrollment_rate * (1 + relative_increase_in_rate))"
   ]
  },
  {
   "cell_type": "code",
   "execution_count": 21,
   "metadata": {
    "collapsed": true
   },
   "outputs": [],
   "source": [
    "secondary_variant_size = round(sms.NormalIndPower().solve_power(secondary_es, power=power, alpha=significance_level, ratio=1))\n",
    "total_secondary_sample_size = secondary_variant_size * 2"
   ]
  },
  {
   "cell_type": "code",
   "execution_count": 22,
   "metadata": {},
   "outputs": [
    {
     "name": "stdout",
     "output_type": "stream",
     "text": [
      "Given these conversion rates, it looks like we will need about 8298 users in each variant, for a total of 16596 users.\n"
     ]
    }
   ],
   "source": [
    "print('Given these conversion rates, it looks like we will need about {0} users in each variant, for a total of {1} users.'.format(secondary_variant_size, total_secondary_sample_size))"
   ]
  },
  {
   "cell_type": "markdown",
   "metadata": {},
   "source": [
    "## All non-verified passing learners, in self-paced courses, for the last two weeks, with future verification date, not in excluded courses"
   ]
  },
  {
   "cell_type": "code",
   "execution_count": 23,
   "metadata": {
    "collapsed": true
   },
   "outputs": [],
   "source": [
    "%%vertica -> recently_passed_result\n",
    "SELECT COUNT(*) FROM non_verified_passing_users_all_future_v_date\n",
    "WHERE passed_timestamp > (CURRENT_DATE - 14)"
   ]
  },
  {
   "cell_type": "code",
   "execution_count": 24,
   "metadata": {},
   "outputs": [
    {
     "name": "stdout",
     "output_type": "stream",
     "text": [
      "In the past two weeks, 7418 learners have passed a course from the audit track and still have not verified.\n"
     ]
    }
   ],
   "source": [
    "print('In the past two weeks, {0} learners have passed a course from the audit track and still have not verified.'.format(recently_passed_result.COUNT[0]))\n"
   ]
  },
  {
   "cell_type": "markdown",
   "metadata": {
    "collapsed": true
   },
   "source": [
    "# Using Bootstrapping Technique for VTR"
   ]
  },
  {
   "cell_type": "code",
   "execution_count": 25,
   "metadata": {
    "collapsed": true
   },
   "outputs": [],
   "source": [
    "%%vertica -> bootstrap_results\n",
    "SELECT\n",
    "    user_id,\n",
    "    course_id,\n",
    "    SUM(did_upgrade) AS 'conversion_rate'\n",
    "FROM (\n",
    "    SELECT\n",
    "        user_id,\n",
    "        course_id,\n",
    "    CASE\n",
    "        WHEN current_enrollment_mode = 'verified' THEN 1\n",
    "        ELSE 0\n",
    "    END AS did_upgrade\n",
    "    FROM non_verified_passing_users_all_future_v_date \n",
    "    GROUP BY 1, 2, 3\n",
    ")\n",
    "AS users\n",
    "GROUP BY 1, 2"
   ]
  },
  {
   "cell_type": "code",
   "execution_count": 26,
   "metadata": {},
   "outputs": [
    {
     "data": {
      "application/vnd.jupyter.widget-view+json": {
       "model_id": "bdc825ac67174a2081689a99e9fd3345"
      }
     },
     "metadata": {},
     "output_type": "display_data"
    },
    {
     "name": "stdout",
     "output_type": "stream",
     "text": [
      "Effective power: 0.89\n",
      "% of Confidence Intervals that contain the true effect size: 0.88\n"
     ]
    },
    {
     "data": {
      "image/png": "[encoded data removed]",
      "text/plain": [
       "<matplotlib.figure.Figure at 0x7f367e72ca58>"
      ]
     },
     "metadata": {},
     "output_type": "display_data"
    },
    {
     "data": {
      "text/plain": [
       "<ggplot: (-9223363294853151067)>"
      ]
     },
     "metadata": {},
     "output_type": "display_data"
    }
   ],
   "source": [
    "import edx_stats\n",
    "import edx_plot\n",
    "from plotnine import *\n",
    "\n",
    "effect_size = 0.20\n",
    "\n",
    "results = edx_stats.estimate_power(\n",
    "    baseline=bootstrap_results.conversion_rate,\n",
    "    lift=effect_size,\n",
    "    treatment_size=2700,\n",
    "    pwr_iterations=100,\n",
    "    bs_iterations=1000,\n",
    "    discrete=True,\n",
    "    variations=2,\n",
    ")\n",
    "\n",
    "display(\n",
    "    ggplot(\n",
    "        results,\n",
    "        aes(x='index',\n",
    "            y='percent_change',\n",
    "            ymin='lower_bound',\n",
    "            ymax='upper_bound',\n",
    "            color='significant',\n",
    "            label_size=0.5\n",
    "        )\n",
    "    )\n",
    "    + edx_plot.geom_power()\n",
    ")"
   ]
  },
  {
   "cell_type": "markdown",
   "metadata": {},
   "source": [
    "# Conclusion:  for our primary metric, we should run this experiment once, on learners in self-paced, non-excluded courses, who have passed the course in the last two weeks and have not verified. \n",
    "\n",
    "## For our secondary metric, we will need to repeat the experiment after two and four more weeks to meet the required sample size."
   ]
  }
 ],
 "metadata": {
  "kernelspec": {
   "display_name": "Python 3",
   "language": "python",
   "name": "python3"
  },
  "language_info": {
   "codemirror_mode": {
    "name": "ipython",
    "version": 3
   },
   "file_extension": ".py",
   "mimetype": "text/x-python",
   "name": "python",
   "nbconvert_exporter": "python",
   "pygments_lexer": "ipython3",
   "version": "3.6.1"
  }
 },
 "nbformat": 4,
 "nbformat_minor": 2
}
