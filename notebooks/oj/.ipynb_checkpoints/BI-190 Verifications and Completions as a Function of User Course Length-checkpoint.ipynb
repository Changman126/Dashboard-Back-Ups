{
 "cells": [
  {
   "cell_type": "code",
   "execution_count": 120,
   "metadata": {
    "collapsed": true
   },
   "outputs": [],
   "source": [
    "# Import necessary libraries/modules\n",
    "import vertica_python\n",
    "import pandas as pd\n",
    "import numpy as np\n",
    "import seaborn as sns\n",
    "import matplotlib.pyplot as plt\n",
    "%matplotlib inline\n",
    "import os"
   ]
  },
  {
   "cell_type": "code",
   "execution_count": 121,
   "metadata": {
    "collapsed": true
   },
   "outputs": [],
   "source": [
    "# Set up the Vertica Connection Information\n",
    "username = os.getenv('VERTICA_USERNAME')\n",
    "password = os.getenv('VERTICA_PASSWORD')\n",
    "\n",
    "conn_info = {'host': 'warehouse.analytics.edx.org',\n",
    "             'port': 5433,\n",
    "             'user': username,\n",
    "             'password': password,\n",
    "             'database': 'warehouse',\n",
    "             'read_timeout': 600,\n",
    "             'unicode_error': 'strict',\n",
    "             'ssl': False\n",
    "            }\n",
    "\n",
    "connection = vertica_python.connect(**conn_info)\n",
    "cur = connection.cursor('dict')"
   ]
  },
  {
   "cell_type": "code",
   "execution_count": 69,
   "metadata": {
    "collapsed": false
   },
   "outputs": [],
   "source": [
    "# Query for User Course Length\n",
    "query = \"\"\"\n",
    "SELECT\t\n",
    "\ta.user_id,\n",
    "\ta.course_id,\n",
    "\tDATEDIFF(day, first_enrollment_time, passed_timestamp) AS user_course_length\n",
    "FROM\n",
    "\tbusiness_intelligence.course_completion_user a\n",
    "LEFT JOIN\n",
    "\tproduction.d_user_course b\n",
    "ON\n",
    "\ta.user_id = b.user_id\n",
    "AND\n",
    "\ta.course_id = b.course_id\n",
    "WHERE\n",
    "\tpassed_timestamp  IS NOT NULL\n",
    "AND\n",
    "    a.course_id NOT IN (SELECT\t\n",
    "                            DISTINCT a.course_id\n",
    "                        FROM\n",
    "                            business_intelligence.course_completion_user a\n",
    "                        LEFT JOIN\n",
    "                            production.d_user_course b\n",
    "                        ON\n",
    "                            a.user_id = b.user_id\n",
    "                        AND\n",
    "                            a.course_id = b.course_id\n",
    "                        WHERE\n",
    "                            passed_timestamp  IS NOT NULL\n",
    "                        AND\n",
    "                            DATEDIFF(day, first_enrollment_time, passed_timestamp)<0\n",
    "                        )\n",
    "\"\"\"\n",
    "\n",
    "# Execute the Query from above\n",
    "cur.execute(query)\n",
    "\n",
    "# Dump the query results into a Pandas DataFrame\n",
    "df = pd.DataFrame(cur.fetchall())"
   ]
  },
  {
   "cell_type": "code",
   "execution_count": 73,
   "metadata": {
    "collapsed": true
   },
   "outputs": [],
   "source": [
    "# Query for Course Information\n",
    "course_query = \"\"\"\n",
    "SELECT\n",
    "    course_id,\n",
    "    vtr\n",
    "FROM\n",
    "    business_intelligence.course_stats_summary\n",
    "\"\"\"\n",
    "\n",
    "# Execute the Query above\n",
    "cur.execute(course_query)\n",
    "\n",
    "# Dump the query results into a Pandas DataFrame\n",
    "course_df = pd.DataFrame(cur.fetchall())"
   ]
  },
  {
   "cell_type": "code",
   "execution_count": 63,
   "metadata": {
    "collapsed": false
   },
   "outputs": [],
   "source": [
    "df_avg_grouped = pd.DataFrame(df.groupby(['course_id'])['user_course_length'].mean())\n",
    "df_median_grouped = pd.DataFrame(df.groupby(['course_id'])['user_course_length'].median())"
   ]
  },
  {
   "cell_type": "code",
   "execution_count": 64,
   "metadata": {
    "collapsed": false
   },
   "outputs": [],
   "source": [
    "df_avg_grouped = df_avg_grouped.reset_index()\n",
    "df_median_grouped = df_median_grouped.reset_index()"
   ]
  },
  {
   "cell_type": "code",
   "execution_count": 75,
   "metadata": {
    "collapsed": true
   },
   "outputs": [],
   "source": [
    "grouped = pd.merge(df_avg_grouped, df_median_grouped, on='course_id', how='left')\n",
    "grouped = pd.merge(grouped, course_df, on='course_id', how='left')"
   ]
  },
  {
   "cell_type": "code",
   "execution_count": 105,
   "metadata": {
    "collapsed": false
   },
   "outputs": [],
   "source": [
    "grouped.columns = ['course_id', 'avg_user_course_length', 'median_user_course_length', 'vtr']\n",
    "grouped['vtr'] = grouped['vtr'].astype(float)\n",
    "grouped['vtr'] = grouped['vtr'].fillna(grouped['vtr'].mean())"
   ]
  },
  {
   "cell_type": "code",
   "execution_count": 106,
   "metadata": {
    "collapsed": false
   },
   "outputs": [
    {
     "data": {
      "text/plain": [
       "course_id                    False\n",
       "avg_user_course_length       False\n",
       "median_user_course_length    False\n",
       "vtr                          False\n",
       "dtype: bool"
      ]
     },
     "execution_count": 106,
     "metadata": {},
     "output_type": "execute_result"
    }
   ],
   "source": [
    "# Find where NaN or Null Values are living\n",
    "grouped.isnull().any()"
   ]
  },
  {
   "cell_type": "code",
   "execution_count": 107,
   "metadata": {
    "collapsed": false
   },
   "outputs": [
    {
     "data": {
      "text/plain": [
       "[(-100, 200)]"
      ]
     },
     "execution_count": 107,
     "metadata": {},
     "output_type": "execute_result"
    },
    {
     "data": {
      "image/png": "[encoded data removed]",
      "text/plain": [
       "<matplotlib.figure.Figure at 0x558561d0>"
      ]
     },
     "metadata": {},
     "output_type": "display_data"
    }
   ],
   "source": [
    "sns.distplot(grouped['avg_user_course_length']).set(xlim=(-100, 200))"
   ]
  },
  {
   "cell_type": "code",
   "execution_count": 118,
   "metadata": {
    "collapsed": false
   },
   "outputs": [
    {
     "data": {
      "text/plain": [
       "[(0, 200)]"
      ]
     },
     "execution_count": 118,
     "metadata": {},
     "output_type": "execute_result"
    },
    {
     "data": {
      "image/png": "[encoded data removed]",
      "text/plain": [
       "<matplotlib.figure.Figure at 0x16d23fd0>"
      ]
     },
     "metadata": {},
     "output_type": "display_data"
    }
   ],
   "source": [
    "sns.boxplot(grouped['avg_user_course_length']).set(xlim=(0, 200))"
   ]
  },
  {
   "cell_type": "code",
   "execution_count": 82,
   "metadata": {
    "collapsed": false
   },
   "outputs": [
    {
     "data": {
      "text/plain": [
       "[(-100, 200)]"
      ]
     },
     "execution_count": 82,
     "metadata": {},
     "output_type": "execute_result"
    },
    {
     "data": {
      "image/png": "[encoded data removed]",
      "text/plain": [
       "<matplotlib.figure.Figure at 0x6a939390>"
      ]
     },
     "metadata": {},
     "output_type": "display_data"
    }
   ],
   "source": [
    "sns.distplot(grouped['median_user_course_length']).set(xlim=(-100,200))"
   ]
  },
  {
   "cell_type": "code",
   "execution_count": 108,
   "metadata": {
    "collapsed": false
   },
   "outputs": [
    {
     "data": {
      "text/plain": [
       "<matplotlib.axes._subplots.AxesSubplot at 0x5c540e80>"
      ]
     },
     "execution_count": 108,
     "metadata": {},
     "output_type": "execute_result"
    },
    {
     "data": {
      "image/png": "[encoded data removed]",
      "text/plain": [
       "<matplotlib.figure.Figure at 0x65ed7320>"
      ]
     },
     "metadata": {},
     "output_type": "display_data"
    }
   ],
   "source": [
    "sns.regplot(grouped['avg_user_course_length'], grouped['vtr'], fit_reg=False)"
   ]
  },
  {
   "cell_type": "code",
   "execution_count": 109,
   "metadata": {
    "collapsed": false
   },
   "outputs": [
    {
     "data": {
      "text/plain": [
       "<matplotlib.axes._subplots.AxesSubplot at 0x600d6f28>"
      ]
     },
     "execution_count": 109,
     "metadata": {},
     "output_type": "execute_result"
    },
    {
     "data": {
      "image/png": "[encoded data removed]",
      "text/plain": [
       "<matplotlib.figure.Figure at 0x457a1320>"
      ]
     },
     "metadata": {},
     "output_type": "display_data"
    }
   ],
   "source": [
    "sns.regplot(grouped['median_user_course_length'], grouped['vtr'], fit_reg=False)"
   ]
  },
  {
   "cell_type": "code",
   "execution_count": 110,
   "metadata": {
    "collapsed": true
   },
   "outputs": [],
   "source": [
    "from sklearn.cluster import KMeans, DBSCAN\n",
    "from collections import Counter\n",
    "\n",
    "def set_colors(labels, colors='rgbykcm'):\n",
    "    colored_labels = []\n",
    "    for label in labels:\n",
    "        colored_labels.append(colors[label])\n",
    "    return colored_labels"
   ]
  },
  {
   "cell_type": "code",
   "execution_count": 113,
   "metadata": {
    "collapsed": false
   },
   "outputs": [
    {
     "name": "stdout",
     "output_type": "stream",
     "text": [
      "Counter({4: 913, 0: 754, 1: 731, 5: 449, 2: 93, 3: 10})\n"
     ]
    }
   ],
   "source": [
    "estimator = KMeans(n_clusters = 6)\n",
    "X = grouped[['avg_user_course_length', 'vtr']]\n",
    "estimator.fit(X)\n",
    "\n",
    "labels = estimator.labels_\n",
    "print Counter(labels)"
   ]
  },
  {
   "cell_type": "code",
   "execution_count": 114,
   "metadata": {
    "collapsed": false
   },
   "outputs": [
    {
     "data": {
      "image/png": "[encoded data removed]",
      "text/plain": [
       "<matplotlib.figure.Figure at 0x5494a5c0>"
      ]
     },
     "metadata": {},
     "output_type": "display_data"
    }
   ],
   "source": [
    "# Plot data\n",
    "colors = set_colors(labels)\n",
    "plt.scatter(grouped['avg_user_course_length'], grouped['vtr'], c=colors)\n",
    "plt.xlabel(\"Average User Course Length\")\n",
    "plt.ylabel(\"vtr\")\n",
    "plt.show()"
   ]
  },
  {
   "cell_type": "code",
   "execution_count": 122,
   "metadata": {
    "collapsed": false
   },
   "outputs": [],
   "source": [
    "query = \"\"\"\n",
    "SELECT\t\n",
    "\ta.user_id,\n",
    "\ta.course_id,\n",
    "\tpacing_type,\n",
    "\tDATEDIFF(day, first_enrollment_time, passed_timestamp) AS user_course_length,\n",
    "\tvtr\n",
    "FROM\n",
    "\tbusiness_intelligence.course_completion_user a\n",
    "LEFT JOIN\n",
    "\tproduction.d_user_course b\n",
    "ON\n",
    "\ta.user_id = b.user_id\n",
    "AND\n",
    "\ta.course_id = b.course_id\n",
    "LEFT JOIN\n",
    "\tbusiness_intelligence.course_master c\n",
    "ON\n",
    "\ta.course_id = c.course_id\n",
    "LEFT JOIN\n",
    "\tbusiness_intelligence.course_stats_summary d\n",
    "ON\n",
    "\ta.course_id = d.course_id\n",
    "WHERE\n",
    "\tpassed_timestamp IS NOT NULL\n",
    "AND\n",
    "    a.course_id NOT IN (SELECT\t\n",
    "                            DISTINCT a.course_id\n",
    "                        FROM\n",
    "                            business_intelligence.course_completion_user a\n",
    "                        LEFT JOIN\n",
    "                            production.d_user_course b\n",
    "                        ON\n",
    "                            a.user_id = b.user_id\n",
    "                        AND\n",
    "                            a.course_id = b.course_id\n",
    "                        WHERE\n",
    "                            passed_timestamp  IS NOT NULL\n",
    "                        AND\n",
    "                            DATEDIFF(day, first_enrollment_time, passed_timestamp)<0\n",
    "                        )\n",
    "AND\n",
    "\tcourse_end_date <= CURRENT_DATE();\t\n",
    "\"\"\"\n",
    "\n",
    "cur.execute(query)\n",
    "\n",
    "course_data = pd.DataFrame(cur.fetchall())"
   ]
  },
  {
   "cell_type": "code",
   "execution_count": 126,
   "metadata": {
    "collapsed": false
   },
   "outputs": [],
   "source": [
    "ip_avg_course_data = pd.DataFrame(course_data.groupby(['pacing_type'])['user_course_length'].mean())\n",
    "ip_med_course_data = pd.DataFrame(course_data.groupby(['pacing_type'])['user_course_length'].median())\n",
    "\n",
    "\n",
    "ip_avg_course_data = ip_avg_course_data.reset_index()\n",
    "ip_med_course_data = ip_med_course_data.reset_index()"
   ]
  },
  {
   "cell_type": "code",
   "execution_count": 127,
   "metadata": {
    "collapsed": false
   },
   "outputs": [
    {
     "data": {
      "text/html": [
       "<div>\n",
       "<table border=\"1\" class=\"dataframe\">\n",
       "  <thead>\n",
       "    <tr style=\"text-align: right;\">\n",
       "      <th></th>\n",
       "      <th>pacing_type</th>\n",
       "      <th>user_course_length</th>\n",
       "    </tr>\n",
       "  </thead>\n",
       "  <tbody>\n",
       "    <tr>\n",
       "      <th>0</th>\n",
       "      <td>instructor_paced</td>\n",
       "      <td>67.242749</td>\n",
       "    </tr>\n",
       "    <tr>\n",
       "      <th>1</th>\n",
       "      <td>self_paced</td>\n",
       "      <td>36.065750</td>\n",
       "    </tr>\n",
       "  </tbody>\n",
       "</table>\n",
       "</div>"
      ],
      "text/plain": [
       "        pacing_type  user_course_length\n",
       "0  instructor_paced           67.242749\n",
       "1        self_paced           36.065750"
      ]
     },
     "execution_count": 127,
     "metadata": {},
     "output_type": "execute_result"
    }
   ],
   "source": [
    "ip_avg_course_data"
   ]
  },
  {
   "cell_type": "code",
   "execution_count": 128,
   "metadata": {
    "collapsed": false
   },
   "outputs": [
    {
     "data": {
      "text/html": [
       "<div>\n",
       "<table border=\"1\" class=\"dataframe\">\n",
       "  <thead>\n",
       "    <tr style=\"text-align: right;\">\n",
       "      <th></th>\n",
       "      <th>pacing_type</th>\n",
       "      <th>user_course_length</th>\n",
       "    </tr>\n",
       "  </thead>\n",
       "  <tbody>\n",
       "    <tr>\n",
       "      <th>0</th>\n",
       "      <td>instructor_paced</td>\n",
       "      <td>54.0</td>\n",
       "    </tr>\n",
       "    <tr>\n",
       "      <th>1</th>\n",
       "      <td>self_paced</td>\n",
       "      <td>13.0</td>\n",
       "    </tr>\n",
       "  </tbody>\n",
       "</table>\n",
       "</div>"
      ],
      "text/plain": [
       "        pacing_type  user_course_length\n",
       "0  instructor_paced                54.0\n",
       "1        self_paced                13.0"
      ]
     },
     "execution_count": 128,
     "metadata": {},
     "output_type": "execute_result"
    }
   ],
   "source": [
    "ip_med_course_data"
   ]
  }
 ],
 "metadata": {
  "kernelspec": {
   "display_name": "Python 2",
   "language": "python",
   "name": "python2"
  },
  "language_info": {
   "codemirror_mode": {
    "name": "ipython",
    "version": 2
   },
   "file_extension": ".py",
   "mimetype": "text/x-python",
   "name": "python",
   "nbconvert_exporter": "python",
   "pygments_lexer": "ipython2",
   "version": "2.7.13"
  }
 },
 "nbformat": 4,
 "nbformat_minor": 2
}
