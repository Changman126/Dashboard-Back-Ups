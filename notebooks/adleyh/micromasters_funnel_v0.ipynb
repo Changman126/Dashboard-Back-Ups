{
 "cells": [
  {
   "cell_type": "code",
   "execution_count": 1,
   "metadata": {
    "collapsed": true
   },
   "outputs": [],
   "source": [
    "import pandas as pd\n",
    "import vertica_python\n",
    "import numpy as np\n",
    "import seaborn as sns\n",
    "%matplotlib inline\n",
    "import matplotlib.pyplot as plt\n",
    "import os"
   ]
  },
  {
   "cell_type": "code",
   "execution_count": 2,
   "metadata": {
    "collapsed": true
   },
   "outputs": [],
   "source": [
    "username = os.getenv('VERTICA_USERNAME')\n",
    "password = os.getenv('VERTICA_PASSWORD')\n",
    "conn_info = {'host': 'warehouse.analytics.edx.org',\n",
    "             'port': 5433,\n",
    "             'user': username,\n",
    "             'password': password,\n",
    "             'database': 'warehouse',\n",
    "             'read_timeout': 600,\n",
    "             'unicode_error': 'strict',\n",
    "             'ssl': False}"
   ]
  },
  {
   "cell_type": "code",
   "execution_count": 3,
   "metadata": {
    "collapsed": true
   },
   "outputs": [],
   "source": [
    "#DROP TABLE IF EXISTS ahemphill.micromasters_funnel;\n",
    "#CREATE TABLE ahemphill.micromasters_funnel AS#\n",
    "\n",
    "#SELECT\n",
    "#\ta.user_id,\n",
    "#\ta.course_id,\n",
    "#\ta.last_enrollment_timestamp,\n",
    "#\tb.program_type,\n",
    "#\tc.path,\n",
    "#\tCAST(c.timestamp AS TIMESTAMP) AS page_view_timestamp,\n",
    "#\tRANK() OVER (PARTITION BY a.user_id, a.course_id ORDER BY CAST(c.timestamp AS TIMESTAMP) DESC) AS page_order\n",
    "#FROM\n",
    "#\tahemphill.utm_course_enroll a\n",
    "#JOIN\n",
    "#\tproduction.d_program_course b\n",
    "#ON\n",
    "#\ta.course_id = b.course_id\n",
    "#\tAND b.program_type = 'MicroMasters'\n",
    "#JOIN\n",
    "#\texperimental_events_run14.event_records c\n",
    "#ON\n",
    "#\tCAST(a.user_id AS VARCHAR) = CAST(c.user_id AS VARCHAR)\n",
    "#\tAND c.event_type = 'page'\n",
    "#\tAND c.channel = 'client'\n",
    "#\tAND CAST(c.timestamp AS TIMESTAMP) < a.last_enrollment_timestamp\n",
    "#\tAND CAST(c.timestamp AS DATE) = CAST(a.last_enrollment_timestamp AS DATE)#\n",
    "\n",
    "#DROP TABLE IF EXISTS ahemphill.micromasters_funnel_concat;\n",
    "#CREATE TABLE ahemphill.micromasters_funnel_concat AS#\n",
    "\n",
    "#SELECT \n",
    "#\tuser_id,\n",
    "#\tcourse_id,\n",
    "#\tprogram_type,\n",
    "#\tCONCAT(CONCAT(CONCAT(CONCAT(CONCAT(CONCAT(CONCAT(CONCAT(first_page, '--->'),second_page),'--->'),third_page),'--->'),fourth_page),'--->'),fifth_page) AS nav_path_length_5,\n",
    "#\tCONCAT(CONCAT(CONCAT(CONCAT(third_page,'--->'),fourth_page),'--->'),fifth_page) AS nav_path_length_3,\n",
    "#\tCONCAT(CONCAT(fourth_page,'--->'),fifth_page) AS nav_path_length_2,\n",
    "#\tfifth_page AS nav_path_length_1\n",
    "#FROM\n",
    "#(\n",
    "#\tSELECT\n",
    "#\t\tuser_id,\n",
    "#\t\tcourse_id,\n",
    "#\t\tprogram_type,\n",
    "#\t\tMAX(CASE WHEN page_order = 5 THEN path ELSE NULL END) AS first_page,\n",
    "#\t\tMAX(CASE WHEN page_order = 4 THEN path ELSE NULL END) AS second_page,\n",
    "#\t\tMAX(CASE WHEN page_order = 3 THEN path ELSE NULL END) AS third_page,\n",
    "#\t\tMAX(CASE WHEN page_order = 2 THEN path ELSE NULL END) AS fourth_page,\n",
    "#\t\tMAX(CASE WHEN page_order = 1 THEN path ELSE NULL END) AS fifth_page\n",
    "#\tFROM \n",
    "#\t\tahemphill.micromasters_funnel\n",
    "#\tWHERE \n",
    "#\t\tpage_order <= 5\n",
    "#\tGROUP BY 1,2,3\n",
    "#) a\n"
   ]
  },
  {
   "cell_type": "code",
   "execution_count": 4,
   "metadata": {
    "collapsed": true
   },
   "outputs": [],
   "source": [
    "micromasters_funnel_query = \"\"\"\n",
    "\n",
    "SELECT\n",
    "\t*\n",
    "FROM\n",
    "    ahemphill.micromasters_funnel_concat\n",
    "\n",
    "\"\"\""
   ]
  },
  {
   "cell_type": "code",
   "execution_count": 6,
   "metadata": {
    "collapsed": false
   },
   "outputs": [],
   "source": [
    "connection = vertica_python.connect(**conn_info)\n",
    "    \n",
    "cur = connection.cursor('dict')\n",
    "cur.execute(micromasters_funnel_query)\n",
    "extract = cur.fetchall()\n",
    "micromasters_funnel_concat_df = pd.DataFrame(extract)\n",
    "\n",
    "connection.close()"
   ]
  },
  {
   "cell_type": "code",
   "execution_count": 10,
   "metadata": {
    "collapsed": false
   },
   "outputs": [
    {
     "data": {
      "text/html": [
       "<div>\n",
       "<table border=\"1\" class=\"dataframe\">\n",
       "  <thead>\n",
       "    <tr style=\"text-align: right;\">\n",
       "      <th></th>\n",
       "      <th>course_id</th>\n",
       "      <th>nav_path_length_1</th>\n",
       "      <th>nav_path_length_2</th>\n",
       "      <th>nav_path_length_3</th>\n",
       "      <th>nav_path_length_5</th>\n",
       "      <th>program_type</th>\n",
       "      <th>user_id</th>\n",
       "    </tr>\n",
       "  </thead>\n",
       "  <tbody>\n",
       "    <tr>\n",
       "      <th>0</th>\n",
       "      <td>course-v1:LouvainX+Louv2x+1T2017</td>\n",
       "      <td>/course/legal-risk-management-strategies-bux-c...</td>\n",
       "      <td>/course/international-law-louvainx-louv5x-2---...</td>\n",
       "      <td>/course/international-human-rights-law-louvain...</td>\n",
       "      <td>/course/guo-ji-mao-yi-international-economics-...</td>\n",
       "      <td>MicroMasters</td>\n",
       "      <td>1</td>\n",
       "    </tr>\n",
       "    <tr>\n",
       "      <th>1</th>\n",
       "      <td>course-v1:LouvainX+Louv5x+1T2017</td>\n",
       "      <td>/course/legal-risk-management-strategies-bux-c...</td>\n",
       "      <td>/course/international-law-louvainx-louv5x-2---...</td>\n",
       "      <td>/course/international-human-rights-law-louvain...</td>\n",
       "      <td>/course/guo-ji-mao-yi-international-economics-...</td>\n",
       "      <td>MicroMasters</td>\n",
       "      <td>1</td>\n",
       "    </tr>\n",
       "    <tr>\n",
       "      <th>2</th>\n",
       "      <td>course-v1:ColumbiaX+CSMM.101x+1T2017</td>\n",
       "      <td>/account/finish_auth</td>\n",
       "      <td>/login---&gt;/account/finish_auth</td>\n",
       "      <td>/register---&gt;/login---&gt;/account/finish_auth</td>\n",
       "      <td>/course/robotics-columbiax-csmm-103x---&gt;/micro...</td>\n",
       "      <td>MicroMasters</td>\n",
       "      <td>1000</td>\n",
       "    </tr>\n",
       "    <tr>\n",
       "      <th>3</th>\n",
       "      <td>course-v1:ColumbiaX+CSMM.102x+1T2017</td>\n",
       "      <td>/course/machine-learning-columbiax-csmm-102x</td>\n",
       "      <td>/micromasters/columbiax-artificial-intelligenc...</td>\n",
       "      <td>/---&gt;/micromasters/columbiax-artificial-intell...</td>\n",
       "      <td>/account/finish_auth---&gt;/course_modes/choose/c...</td>\n",
       "      <td>MicroMasters</td>\n",
       "      <td>1000</td>\n",
       "    </tr>\n",
       "    <tr>\n",
       "      <th>4</th>\n",
       "      <td>course-v1:ColumbiaX+CSMM.103x+1T2017</td>\n",
       "      <td>/micromasters/columbiax-artificial-intelligence</td>\n",
       "      <td>/course_modes/choose/course-v1%3AColumbiaX%2BC...</td>\n",
       "      <td>/dashboard---&gt;/course_modes/choose/course-v1%3...</td>\n",
       "      <td>/micromasters/columbiax-artificial-intelligenc...</td>\n",
       "      <td>MicroMasters</td>\n",
       "      <td>1000</td>\n",
       "    </tr>\n",
       "  </tbody>\n",
       "</table>\n",
       "</div>"
      ],
      "text/plain": [
       "                              course_id  \\\n",
       "0      course-v1:LouvainX+Louv2x+1T2017   \n",
       "1      course-v1:LouvainX+Louv5x+1T2017   \n",
       "2  course-v1:ColumbiaX+CSMM.101x+1T2017   \n",
       "3  course-v1:ColumbiaX+CSMM.102x+1T2017   \n",
       "4  course-v1:ColumbiaX+CSMM.103x+1T2017   \n",
       "\n",
       "                                   nav_path_length_1  \\\n",
       "0  /course/legal-risk-management-strategies-bux-c...   \n",
       "1  /course/legal-risk-management-strategies-bux-c...   \n",
       "2                               /account/finish_auth   \n",
       "3       /course/machine-learning-columbiax-csmm-102x   \n",
       "4    /micromasters/columbiax-artificial-intelligence   \n",
       "\n",
       "                                   nav_path_length_2  \\\n",
       "0  /course/international-law-louvainx-louv5x-2---...   \n",
       "1  /course/international-law-louvainx-louv5x-2---...   \n",
       "2                     /login--->/account/finish_auth   \n",
       "3  /micromasters/columbiax-artificial-intelligenc...   \n",
       "4  /course_modes/choose/course-v1%3AColumbiaX%2BC...   \n",
       "\n",
       "                                   nav_path_length_3  \\\n",
       "0  /course/international-human-rights-law-louvain...   \n",
       "1  /course/international-human-rights-law-louvain...   \n",
       "2        /register--->/login--->/account/finish_auth   \n",
       "3  /--->/micromasters/columbiax-artificial-intell...   \n",
       "4  /dashboard--->/course_modes/choose/course-v1%3...   \n",
       "\n",
       "                                   nav_path_length_5  program_type user_id  \n",
       "0  /course/guo-ji-mao-yi-international-economics-...  MicroMasters       1  \n",
       "1  /course/guo-ji-mao-yi-international-economics-...  MicroMasters       1  \n",
       "2  /course/robotics-columbiax-csmm-103x--->/micro...  MicroMasters    1000  \n",
       "3  /account/finish_auth--->/course_modes/choose/c...  MicroMasters    1000  \n",
       "4  /micromasters/columbiax-artificial-intelligenc...  MicroMasters    1000  "
      ]
     },
     "execution_count": 10,
     "metadata": {},
     "output_type": "execute_result"
    }
   ],
   "source": [
    "micromasters_funnel_concat_df.head()"
   ]
  },
  {
   "cell_type": "code",
   "execution_count": 11,
   "metadata": {
    "collapsed": true
   },
   "outputs": [],
   "source": [
    "micromasters_funnel_concat_df.to_csv('test.csv')"
   ]
  },
  {
   "cell_type": "code",
   "execution_count": null,
   "metadata": {
    "collapsed": true
   },
   "outputs": [],
   "source": []
  }
 ],
 "metadata": {
  "anaconda-cloud": {},
  "kernelspec": {
   "display_name": "Python [default]",
   "language": "python",
   "name": "python2"
  },
  "language_info": {
   "codemirror_mode": {
    "name": "ipython",
    "version": 2
   },
   "file_extension": ".py",
   "mimetype": "text/x-python",
   "name": "python",
   "nbconvert_exporter": "python",
   "pygments_lexer": "ipython2",
   "version": "2.7.12"
  }
 },
 "nbformat": 4,
 "nbformat_minor": 1
}
