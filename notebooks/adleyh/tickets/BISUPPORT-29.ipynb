{
 "cells": [
  {
   "cell_type": "code",
   "execution_count": 1,
   "metadata": {
    "collapsed": true
   },
   "outputs": [],
   "source": [
    "from sailthru.sailthru_client import SailthruClient\n",
    "import vertica_python\n",
    "import numpy as np\n",
    "from pandas import Series, DataFrame\n",
    "import pandas as pd\n",
    "from vertica_python import connect\n",
    "import StringIO\n",
    "from StringIO import StringIO\n",
    "from datetime import date, timedelta as td\n",
    "import xlsxwriter\n",
    "import os\n",
    "import json\n",
    "import urllib2\n",
    "import base64\n",
    "import datetime\n",
    "import re\n",
    "import csv\n",
    "import pandas as pd\n",
    "from pandas import DataFrame, Series\n",
    "import numpy as np\n",
    "from IPython.display import display\n",
    "import requests\n",
    "import argparse\n",
    "from dateutil import parser\n",
    "from datetime import datetime, timedelta\n",
    "from apiclient.discovery import build\n",
    "import httplib2\n",
    "from oauth2client import client\n",
    "from oauth2client import file\n",
    "from oauth2client import tools"
   ]
  },
  {
   "cell_type": "code",
   "execution_count": 2,
   "metadata": {
    "collapsed": true
   },
   "outputs": [],
   "source": [
    "def get_service(api_name, api_version, scope, client_secrets_path):\n",
    "  \"\"\"Get a service that communicates to a Google API.\n",
    "\n",
    "  Args:\n",
    "    api_name: string The name of the api to connect to.\n",
    "    api_version: string The api version to connect to.\n",
    "    scope: A list of strings representing the auth scopes to authorize for the\n",
    "      connection.\n",
    "    client_secrets_path: string A path to a valid client secrets file.\n",
    "\n",
    "  Returns:\n",
    "    A service that is connected to the specified API.\n",
    "  \"\"\"\n",
    "  # Parse command-line arguments.\n",
    "  parser = argparse.ArgumentParser(\n",
    "      formatter_class=argparse.RawDescriptionHelpFormatter,\n",
    "      parents=[tools.argparser])\n",
    "  flags = parser.parse_args([])\n",
    "\n",
    "  # Set up a Flow object to be used if we need to authenticate.\n",
    "  flow = client.flow_from_clientsecrets(\n",
    "      client_secrets_path, scope=scope,\n",
    "      message=tools.message_if_missing(client_secrets_path))\n",
    "\n",
    "  # Prepare credentials, and authorize HTTP object with them.\n",
    "  # If the credentials don't exist or are invalid run through the native client\n",
    "  # flow. The Storage object will ensure that if successful the good\n",
    "  # credentials will get written back to a file.\n",
    "  storage = file.Storage(api_name + '.dat')\n",
    "  credentials = storage.get()\n",
    "  if credentials is None or credentials.invalid:\n",
    "    credentials = tools.run_flow(flow, storage, flags)\n",
    "  http = credentials.authorize(http=httplib2.Http())\n",
    "\n",
    "  # Build the service object.\n",
    "  service = build(api_name, api_version, http=http)\n",
    "\n",
    "  return service"
   ]
  },
  {
   "cell_type": "code",
   "execution_count": 3,
   "metadata": {
    "collapsed": false
   },
   "outputs": [],
   "source": [
    "def get_ga_data(service, config_dict):\n",
    "    \n",
    "    df = pd.DataFrame()\n",
    "    \n",
    "    for i in pd.date_range(start_date, end_date):\n",
    "        \n",
    "        out = service.data().ga().get(\n",
    "            ids='ga:' + '86300562',\n",
    "            start_date=str(i.date()),\n",
    "            end_date=str(i.date()),\n",
    "            max_results=10000,\n",
    "            metrics=','.join(config_dict['metric_list']),\n",
    "            dimensions=','.join(config_dict['dimension_list']),\n",
    "            filters=';'.join(config_dict['filter_list'])).execute()\n",
    "\n",
    "        col_list = []\n",
    "\n",
    "        for i in np.arange(0,len(out['columnHeaders'])):\n",
    "            line = re.sub('ga.', '', out['columnHeaders'][i][u'name'])\n",
    "            col_list.append(line)\n",
    "        try:\n",
    "            df = df.append(pd.DataFrame(out['rows'],columns=col_list))\n",
    "        except:\n",
    "            len(out) == 0\n",
    "            \n",
    "    return df\n"
   ]
  },
  {
   "cell_type": "code",
   "execution_count": 4,
   "metadata": {
    "collapsed": true
   },
   "outputs": [],
   "source": [
    "def extract_and_clean_df(config_dict, metric):\n",
    "    df = get_ga_data(service, config_dict)\n",
    "    \n",
    "    if (metric != 'transactions'):\n",
    "        df = df.rename(columns={'uniqueEvents': metric})\n",
    "        df[metric] = pd.to_numeric(df[metric])\n",
    "    else:\n",
    "        df = df.rename(columns={'itemRevenue':'total_revenue',\n",
    "                                'uniquePurchases':'transactions',\n",
    "                                'productName':'eventLabel'})\n",
    "        df['total_revenue'] = pd.to_numeric(df['total_revenue'])\n",
    "        df['transactions'] = pd.to_numeric(df['transactions'])\n",
    "    return df"
   ]
  },
  {
   "cell_type": "code",
   "execution_count": 5,
   "metadata": {
    "collapsed": true
   },
   "outputs": [],
   "source": [
    "def massage_df(df, metric):\n",
    "    \n",
    "    max_df = df.groupby('campaign').max()\n",
    "    \n",
    "    if (metric != 'transactions'):\n",
    "        df_agg = df.reset_index().merge(df.groupby('campaign').sum().reset_index(), on='campaign',how='inner')\n",
    "        df_agg = df_agg.rename(columns={'eventLabel_x':'top_%s_course' % metric,\n",
    "                                        '%s_x' % metric:'%s_in_top_course' % metric,\n",
    "                                        '%s_y' % metric:'%s_from_campaign' % metric                                                     \n",
    "                                       })\n",
    "        df_agg = df_agg.drop(['eventLabel_y'],axis=1)\n",
    "    else:\n",
    "        df_agg = df.merge(max_df.reset_index(), how='inner', on=['campaign', 'total_revenue', 'transactions']).groupby('campaign').first()\n",
    "        df_agg = df_agg.reset_index().merge(df.groupby('campaign').sum().reset_index(), on='campaign',how='inner')\n",
    "        df_agg = df_agg.rename(columns={'productName_x':'top_%s_course' % metric,\n",
    "                                'total_revenue_x':'total_revenue_from_top_course',  \n",
    "                                '%s_x' % metric:'%s_in_top_course' % metric,\n",
    "                                'total_revenue_y':'total_revenue_from_campaign',  \n",
    "                                '%s_y' % metric:'%s_from_campaign' % metric                                                     \n",
    "                               })\n",
    "        df_agg = df_agg.drop(['productName_y'],axis=1)\n",
    "    return df_agg"
   ]
  },
  {
   "cell_type": "code",
   "execution_count": 6,
   "metadata": {
    "collapsed": true
   },
   "outputs": [],
   "source": [
    "def extract_payload(row):\n",
    "    \n",
    "    try:\n",
    "        emails_sent = row['stats']['total']['count']\n",
    "    except:\n",
    "        emails_sent = 0\n",
    "    \n",
    "    try:\n",
    "        unsubscribed = row['stats']['total']['optout']\n",
    "    except:\n",
    "        unsubscribed = 0\n",
    "        \n",
    "    try:\n",
    "        unique_opens = row['stats']['total']['open_total']\n",
    "    except:\n",
    "        unique_opens = 0\n",
    "        \n",
    "    try:\n",
    "        unique_sub_clicks = row['stats']['total']['click_total']\n",
    "    except:\n",
    "        unique_sub_clicks = 0\n",
    "        \n",
    "    dash_list = [pos for pos, char in enumerate(row['name']) if char == '_']\n",
    "    \n",
    "    if (len(dash_list) > 1):\n",
    "        row['name'] = row['name'][0:dash_list[0]] + row['name'][dash_list[1]::]\n",
    "\n",
    "    return row.append(pd.Series([emails_sent, unsubscribed, unique_opens, unique_sub_clicks]))"
   ]
  },
  {
   "cell_type": "code",
   "execution_count": 7,
   "metadata": {
    "collapsed": true
   },
   "outputs": [],
   "source": [
    "def clean_sailthru(df):\n",
    "    df['campaign'] = df.campaign.str.lower()\n",
    "    df['campaign'] = df.campaign.str.replace('_','-')\n",
    "    df = df[df.campaign.str.contains('studentnewsletter')]\n",
    "    df['unsub_rate'] = df['unsubscribed']*100.0/df['emails_sent']\n",
    "    df['open_rate'] = df['unique_opens']*100.0/df['emails_sent']\n",
    "    df['click_rate'] = df['unique_sub_clicks']*100.0/df['emails_sent']\n",
    "    return df"
   ]
  },
  {
   "cell_type": "code",
   "execution_count": 8,
   "metadata": {
    "collapsed": true
   },
   "outputs": [],
   "source": [
    "def ga_timestamp(row):\n",
    "    \n",
    "    if (str(row['course_id'])=='nan'):\n",
    "        row['date_diff'] = 0\n",
    "    else:\n",
    "        row['date'] = parser.parse(row['date'])\n",
    "        row['date_diff'] = (row['date'] - row['7d_campaign_end']).days\n",
    "    return row\n",
    "\n",
    "def sailthru_timestamp(row, date_col='start_time'):\n",
    "    row[date_col] = parser.parse(row[date_col])\n",
    "    return row"
   ]
  },
  {
   "cell_type": "code",
   "execution_count": 9,
   "metadata": {
    "collapsed": true
   },
   "outputs": [],
   "source": [
    "def add_metrics(df):\n",
    "    df['registrations_conversion_rate'] = df['registrations']*100.0/df['emails_sent']\n",
    "    df['enrollments_conversion_rate'] = df['enrollments']*100.0/df['emails_sent']\n",
    "    df['dollars_per_email'] = df['total_revenue']*100.0/df['emails_sent']\n",
    "    return df"
   ]
  },
  {
   "cell_type": "code",
   "execution_count": 10,
   "metadata": {
    "collapsed": false
   },
   "outputs": [],
   "source": [
    "scope = ['https://www.googleapis.com/auth/analytics.readonly']\n",
    "service = get_service('analytics', 'v3', scope, 'client_secrets.json')"
   ]
  },
  {
   "cell_type": "code",
   "execution_count": 11,
   "metadata": {
    "collapsed": true
   },
   "outputs": [],
   "source": [
    "start_date = '2016-10-15'\n",
    "end_date = '2016-11-01'"
   ]
  },
  {
   "cell_type": "code",
   "execution_count": 13,
   "metadata": {
    "collapsed": true
   },
   "outputs": [],
   "source": [
    "start='2015-09-20T00:00:00+00:00'\n",
    "end='2015-12-21T00:00:00+00:00'"
   ]
  },
  {
   "cell_type": "code",
   "execution_count": 41,
   "metadata": {
    "collapsed": false
   },
   "outputs": [
    {
     "data": {
      "text/plain": [
       "{u'total_items': 69}"
      ]
     },
     "execution_count": 41,
     "metadata": {},
     "output_type": "execute_result"
    }
   ],
   "source": [
    "r = requests.auth.HTTPBasicAuth('x', '7b87ccd203b973d87d0ac4423192afa6-us5')\n",
    "total_items = requests.get(\"http://us5.api.mailchimp.com/3.0/reports/?fields=total_items&since_send_time=\"+str(start) +\"&before_send_time=\"+str(end), auth=r)\n",
    "(json.loads(total_items.content))\n",
    "\n",
    "\n",
    "# In[13]:\n",
    "\n",
    "#r = requests.auth.HTTPBasicAuth('x', 'd034431d4d586f7c81d56405235f6131-us5')\n",
    "#total_items = requests.get(\"http://us5.api.mailchimp.com/3.0/reports/?fields=total_items&since_send_time=\"+str(start) +\"&before_send_time=\"+str(end), auth=r)\n",
    "#n = (json.loads(total_items.content)['total_items'])\n",
    "\n",
    "#print n\n",
    "\n",
    "# t=0\n",
    "# for x in range(0, n):\n",
    "#     try:\n",
    "#         data = requests.get(\"http://us5.api.mailchimp.com/3.0/reports/?count=1&offset=\"+str(x)+\"&fields=reports&since_send_time=\"+str(start) +\"&before_send_time=\"+str(end), auth=r)\n",
    "#         data2 = json.loads(data.content)\n",
    "#         data3=DataFrame(data2)\n",
    "#         t=t+1\n",
    "#         if t==1:\n",
    "#             mcData=data3\n",
    "#         if t>1:\n",
    "#             mcData=pd.concat([mcData,data3])\n",
    "#     except:\n",
    "#         pass\n",
    "# print \"DONE\""
   ]
  },
  {
   "cell_type": "code",
   "execution_count": 42,
   "metadata": {
    "collapsed": false
   },
   "outputs": [
    {
     "data": {
      "text/plain": [
       "'{\"total_items\":69}'"
      ]
     },
     "execution_count": 42,
     "metadata": {},
     "output_type": "execute_result"
    }
   ],
   "source": [
    "total_items.content"
   ]
  },
  {
   "cell_type": "code",
   "execution_count": 43,
   "metadata": {
    "collapsed": false
   },
   "outputs": [
    {
     "name": "stdout",
     "output_type": "stream",
     "text": [
      "DONE\n"
     ]
    }
   ],
   "source": [
    "t=0\n",
    "for x in range(0, 69):\n",
    "    try:\n",
    "        data = requests.get(\"http://us5.api.mailchimp.com/3.0/reports/?count=1&offset=\"+str(x)+\"&fields=reports&since_send_time=\"+str(start) +\"&before_send_time=\"+str(end), auth=r)\n",
    "        data2 = json.loads(data.content)\n",
    "        data3=DataFrame(data2)\n",
    "        t=t+1\n",
    "        if t==1:\n",
    "            mcData=data3\n",
    "        if t>1:\n",
    "            mcData=pd.concat([mcData,data3])\n",
    "    except:\n",
    "        pass\n",
    "print \"DONE\""
   ]
  },
  {
   "cell_type": "code",
   "execution_count": 69,
   "metadata": {
    "collapsed": true
   },
   "outputs": [],
   "source": [
    "from pandas.io.json import json_normalize"
   ]
  },
  {
   "cell_type": "code",
   "execution_count": 72,
   "metadata": {
    "collapsed": false
   },
   "outputs": [
    {
     "data": {
      "text/plain": [
       "{u'reports': [{u'_links': [{u'href': u'https://us5.api.mailchimp.com/3.0/reports',\n",
       "     u'method': u'GET',\n",
       "     u'rel': u'parent',\n",
       "     u'schema': u'https://us5.api.mailchimp.com/schema/3.0/CollectionLinks/Reports.json',\n",
       "     u'targetSchema': u'https://us5.api.mailchimp.com/schema/3.0/Definitions/Reports/CollectionResponse.json'},\n",
       "    {u'href': u'https://us5.api.mailchimp.com/3.0/reports/9a9c09c106',\n",
       "     u'method': u'GET',\n",
       "     u'rel': u'self',\n",
       "     u'targetSchema': u'https://us5.api.mailchimp.com/schema/3.0/Definitions/Reports/Response.json'},\n",
       "    {u'href': u'https://us5.api.mailchimp.com/3.0/campaigns/9a9c09c106',\n",
       "     u'method': u'GET',\n",
       "     u'rel': u'campaign',\n",
       "     u'targetSchema': u'https://us5.api.mailchimp.com/schema/3.0/Definitions/Campaigns/Response.json'},\n",
       "    {u'href': u'https://us5.api.mailchimp.com/3.0/reports/9a9c09c106/sub-reports',\n",
       "     u'method': u'GET',\n",
       "     u'rel': u'sub-reports',\n",
       "     u'targetSchema': u'https://us5.api.mailchimp.com/schema/3.0/Definitions/Reports/Sub-Reports/Response.json'},\n",
       "    {u'href': u'https://us5.api.mailchimp.com/3.0/reports/9a9c09c106/abuse-reports',\n",
       "     u'method': u'GET',\n",
       "     u'rel': u'abuse-reports',\n",
       "     u'targetSchema': u'https://us5.api.mailchimp.com/schema/3.0/Definitions/Reports/Abuse-Reports/CollectionResponse.json'},\n",
       "    {u'href': u'https://us5.api.mailchimp.com/3.0/reports/9a9c09c106/advice',\n",
       "     u'method': u'GET',\n",
       "     u'rel': u'advice',\n",
       "     u'targetSchema': u'https://us5.api.mailchimp.com/schema/3.0/Definitions/Reports/Advice/Response.json'},\n",
       "    {u'href': u'https://us5.api.mailchimp.com/3.0/reports/9a9c09c106/click-details',\n",
       "     u'method': u'GET',\n",
       "     u'rel': u'click-details',\n",
       "     u'targetSchema': u'https://us5.api.mailchimp.com/schema/3.0/Definitions/Reports/Click-Details/CollectionResponse.json'},\n",
       "    {u'href': u'https://us5.api.mailchimp.com/3.0/reports/9a9c09c106/domain-performance',\n",
       "     u'method': u'GET',\n",
       "     u'rel': u'domain-performance',\n",
       "     u'targetSchema': u'mhttps://us5.api.mailchimp.com/schema/3.0/Definitions/Reports/Domain-Performance/Response.json'},\n",
       "    {u'href': u'https://us5.api.mailchimp.com/3.0/reports/9a9c09c106/eepurl',\n",
       "     u'method': u'GET',\n",
       "     u'rel': u'eepurl',\n",
       "     u'targetSchema': u'https://us5.api.mailchimp.com/schema/3.0/Definitions/Reports/EepURL/CollectionResponse.json'},\n",
       "    {u'href': u'https://us5.api.mailchimp.com/3.0/reports/9a9c09c106/email-activity',\n",
       "     u'method': u'GET',\n",
       "     u'rel': u'email-activity',\n",
       "     u'targetSchema': u'https://us5.api.mailchimp.com/schema/3.0/Definitions/Reports/Email-Activity/CollectionResponse.json'},\n",
       "    {u'href': u'https://us5.api.mailchimp.com/3.0/reports/9a9c09c106/locations',\n",
       "     u'method': u'GET',\n",
       "     u'rel': u'locations',\n",
       "     u'targetSchema': u'https://us5.api.mailchimp.com/schema/3.0/Definitions/Reports/Locations/Response.json'},\n",
       "    {u'href': u'https://us5.api.mailchimp.com/3.0/reports/9a9c09c106/sent-to',\n",
       "     u'method': u'GET',\n",
       "     u'rel': u'sent-to',\n",
       "     u'targetSchema': u'https://us5.api.mailchimp.com/schema/3.0/Definitions/Reports/Sent-To/CollectionResponse.json'},\n",
       "    {u'href': u'https://us5.api.mailchimp.com/3.0/reports/9a9c09c106/unsubscribed',\n",
       "     u'method': u'GET',\n",
       "     u'rel': u'unsubscribed',\n",
       "     u'targetSchema': u'https://us5.api.mailchimp.com/schema/3.0/Definitions/Reports/Unsubscribed/CollectionResponse.json'}],\n",
       "   u'abuse_reports': 0,\n",
       "   u'bounces': {u'hard_bounces': 3, u'soft_bounces': 1, u'syntax_errors': 0},\n",
       "   u'campaign_title': u'W3C Survey - Honor Code Certs',\n",
       "   u'clicks': {u'click_rate': 0.18131462333826,\n",
       "    u'clicks_total': 527,\n",
       "    u'last_click': u'2015-10-13T17:28:42+00:00',\n",
       "    u'unique_clicks': 491,\n",
       "    u'unique_subscriber_clicks': 491},\n",
       "   u'delivery_status': {u'enabled': False},\n",
       "   u'ecommerce': {u'total_orders': 0, u'total_revenue': 0, u'total_spent': 0},\n",
       "   u'emails_sent': 2712,\n",
       "   u'facebook_likes': {u'facebook_likes': 0,\n",
       "    u'recipient_likes': 0,\n",
       "    u'unique_likes': 0},\n",
       "   u'forwards': {u'forwards_count': 0, u'forwards_opens': 0},\n",
       "   u'id': u'9a9c09c106',\n",
       "   u'industry_stats': {u'abuse_rate': 0.00015631889244969,\n",
       "    u'bounce_rate': 0.0088714655873971,\n",
       "    u'click_rate': 0.022586098236867,\n",
       "    u'open_rate': 0.16938585550143,\n",
       "    u'type': u'Education and Training',\n",
       "    u'unopen_rate': 0.82174267891118,\n",
       "    u'unsub_rate': 0.0015669789495104},\n",
       "   u'list_id': u'5a15ccfb94',\n",
       "   u'list_name': u'W3C HTML 5 Participants',\n",
       "   u'list_stats': {u'click_rate': 16.539589442815,\n",
       "    u'open_rate': 46.295754026354,\n",
       "    u'sub_rate': 0,\n",
       "    u'unsub_rate': 0},\n",
       "   u'opens': {u'last_open': u'2016-12-01T23:47:57+00:00',\n",
       "    u'open_rate': 0.48929098966027,\n",
       "    u'opens_total': 2101,\n",
       "    u'unique_opens': 1325},\n",
       "   u'send_time': u'2015-09-21T13:44:09+00:00',\n",
       "   u'share_report': {u'share_password': u'',\n",
       "    u'share_url': u'http://us5.vip-reports.net/reports/summary?u=1822a33c054dc20e223ca40e2&id=9a9c09c106'},\n",
       "   u'subject_line': u'Help Us Improve Learn HTML5 from W3C',\n",
       "   u'timeseries': [{u'emails_sent': 2712,\n",
       "     u'recipients_clicks': 0,\n",
       "     u'timestamp': u'2015-09-21T13:00:00+00:00',\n",
       "     u'unique_opens': 0},\n",
       "    {u'emails_sent': 0,\n",
       "     u'recipients_clicks': 90,\n",
       "     u'timestamp': u'2015-09-21T14:00:00+00:00',\n",
       "     u'unique_opens': 303},\n",
       "    {u'emails_sent': 0,\n",
       "     u'recipients_clicks': 51,\n",
       "     u'timestamp': u'2015-09-21T15:00:00+00:00',\n",
       "     u'unique_opens': 166},\n",
       "    {u'emails_sent': 0,\n",
       "     u'recipients_clicks': 27,\n",
       "     u'timestamp': u'2015-09-21T16:00:00+00:00',\n",
       "     u'unique_opens': 96},\n",
       "    {u'emails_sent': 0,\n",
       "     u'recipients_clicks': 25,\n",
       "     u'timestamp': u'2015-09-21T17:00:00+00:00',\n",
       "     u'unique_opens': 83},\n",
       "    {u'emails_sent': 0,\n",
       "     u'recipients_clicks': 18,\n",
       "     u'timestamp': u'2015-09-21T18:00:00+00:00',\n",
       "     u'unique_opens': 72},\n",
       "    {u'emails_sent': 0,\n",
       "     u'recipients_clicks': 11,\n",
       "     u'timestamp': u'2015-09-21T19:00:00+00:00',\n",
       "     u'unique_opens': 35},\n",
       "    {u'emails_sent': 0,\n",
       "     u'recipients_clicks': 13,\n",
       "     u'timestamp': u'2015-09-21T20:00:00+00:00',\n",
       "     u'unique_opens': 34},\n",
       "    {u'emails_sent': 0,\n",
       "     u'recipients_clicks': 8,\n",
       "     u'timestamp': u'2015-09-21T21:00:00+00:00',\n",
       "     u'unique_opens': 27},\n",
       "    {u'emails_sent': 0,\n",
       "     u'recipients_clicks': 8,\n",
       "     u'timestamp': u'2015-09-21T22:00:00+00:00',\n",
       "     u'unique_opens': 22},\n",
       "    {u'emails_sent': 0,\n",
       "     u'recipients_clicks': 2,\n",
       "     u'timestamp': u'2015-09-21T23:00:00+00:00',\n",
       "     u'unique_opens': 18},\n",
       "    {u'emails_sent': 0,\n",
       "     u'recipients_clicks': 6,\n",
       "     u'timestamp': u'2015-09-22T00:00:00+00:00',\n",
       "     u'unique_opens': 19},\n",
       "    {u'emails_sent': 0,\n",
       "     u'recipients_clicks': 6,\n",
       "     u'timestamp': u'2015-09-22T01:00:00+00:00',\n",
       "     u'unique_opens': 12},\n",
       "    {u'emails_sent': 0,\n",
       "     u'recipients_clicks': 8,\n",
       "     u'timestamp': u'2015-09-22T02:00:00+00:00',\n",
       "     u'unique_opens': 20},\n",
       "    {u'emails_sent': 0,\n",
       "     u'recipients_clicks': 4,\n",
       "     u'timestamp': u'2015-09-22T03:00:00+00:00',\n",
       "     u'unique_opens': 11},\n",
       "    {u'emails_sent': 0,\n",
       "     u'recipients_clicks': 1,\n",
       "     u'timestamp': u'2015-09-22T04:00:00+00:00',\n",
       "     u'unique_opens': 13},\n",
       "    {u'emails_sent': 0,\n",
       "     u'recipients_clicks': 5,\n",
       "     u'timestamp': u'2015-09-22T05:00:00+00:00',\n",
       "     u'unique_opens': 22},\n",
       "    {u'emails_sent': 0,\n",
       "     u'recipients_clicks': 9,\n",
       "     u'timestamp': u'2015-09-22T06:00:00+00:00',\n",
       "     u'unique_opens': 19},\n",
       "    {u'emails_sent': 0,\n",
       "     u'recipients_clicks': 8,\n",
       "     u'timestamp': u'2015-09-22T07:00:00+00:00',\n",
       "     u'unique_opens': 20},\n",
       "    {u'emails_sent': 0,\n",
       "     u'recipients_clicks': 11,\n",
       "     u'timestamp': u'2015-09-22T08:00:00+00:00',\n",
       "     u'unique_opens': 24},\n",
       "    {u'emails_sent': 0,\n",
       "     u'recipients_clicks': 2,\n",
       "     u'timestamp': u'2015-09-22T09:00:00+00:00',\n",
       "     u'unique_opens': 9},\n",
       "    {u'emails_sent': 0,\n",
       "     u'recipients_clicks': 4,\n",
       "     u'timestamp': u'2015-09-22T10:00:00+00:00',\n",
       "     u'unique_opens': 12},\n",
       "    {u'emails_sent': 0,\n",
       "     u'recipients_clicks': 9,\n",
       "     u'timestamp': u'2015-09-22T11:00:00+00:00',\n",
       "     u'unique_opens': 17},\n",
       "    {u'emails_sent': 0,\n",
       "     u'recipients_clicks': 4,\n",
       "     u'timestamp': u'2015-09-22T12:00:00+00:00',\n",
       "     u'unique_opens': 8}],\n",
       "   u'type': u'regular',\n",
       "   u'unsubscribed': 4}]}"
      ]
     },
     "execution_count": 72,
     "metadata": {},
     "output_type": "execute_result"
    }
   ],
   "source": [
    "json.loads(data.content)"
   ]
  },
  {
   "cell_type": "code",
   "execution_count": 65,
   "metadata": {
    "collapsed": false
   },
   "outputs": [
    {
     "ename": "PandasError",
     "evalue": "DataFrame constructor not properly called!",
     "output_type": "error",
     "traceback": [
      "\u001b[0;31m---------------------------------------------------------------------------\u001b[0m",
      "\u001b[0;31mPandasError\u001b[0m                               Traceback (most recent call last)",
      "\u001b[0;32m<ipython-input-65-5f6843acd774>\u001b[0m in \u001b[0;36m<module>\u001b[0;34m()\u001b[0m\n\u001b[0;32m----> 1\u001b[0;31m \u001b[0mpd\u001b[0m\u001b[0;34m.\u001b[0m\u001b[0mDataFrame\u001b[0m\u001b[0;34m(\u001b[0m\u001b[0mjson\u001b[0m\u001b[0;34m.\u001b[0m\u001b[0mdumps\u001b[0m\u001b[0;34m(\u001b[0m\u001b[0mjson\u001b[0m\u001b[0;34m.\u001b[0m\u001b[0mloads\u001b[0m\u001b[0;34m(\u001b[0m\u001b[0mdata\u001b[0m\u001b[0;34m.\u001b[0m\u001b[0mcontent\u001b[0m\u001b[0;34m)\u001b[0m\u001b[0;34m)\u001b[0m\u001b[0;34m)\u001b[0m\u001b[0;34m\u001b[0m\u001b[0m\n\u001b[0m",
      "\u001b[0;32m/Users/adleyhemphill/anaconda/lib/python2.7/site-packages/pandas/core/frame.pyc\u001b[0m in \u001b[0;36m__init__\u001b[0;34m(self, data, index, columns, dtype, copy)\u001b[0m\n\u001b[1;32m    301\u001b[0m                                          copy=False)\n\u001b[1;32m    302\u001b[0m             \u001b[0;32melse\u001b[0m\u001b[0;34m:\u001b[0m\u001b[0;34m\u001b[0m\u001b[0m\n\u001b[0;32m--> 303\u001b[0;31m                 \u001b[0;32mraise\u001b[0m \u001b[0mPandasError\u001b[0m\u001b[0;34m(\u001b[0m\u001b[0;34m'DataFrame constructor not properly called!'\u001b[0m\u001b[0;34m)\u001b[0m\u001b[0;34m\u001b[0m\u001b[0m\n\u001b[0m\u001b[1;32m    304\u001b[0m \u001b[0;34m\u001b[0m\u001b[0m\n\u001b[1;32m    305\u001b[0m         \u001b[0mNDFrame\u001b[0m\u001b[0;34m.\u001b[0m\u001b[0m__init__\u001b[0m\u001b[0;34m(\u001b[0m\u001b[0mself\u001b[0m\u001b[0;34m,\u001b[0m \u001b[0mmgr\u001b[0m\u001b[0;34m,\u001b[0m \u001b[0mfastpath\u001b[0m\u001b[0;34m=\u001b[0m\u001b[0mTrue\u001b[0m\u001b[0;34m)\u001b[0m\u001b[0;34m\u001b[0m\u001b[0m\n",
      "\u001b[0;31mPandasError\u001b[0m: DataFrame constructor not properly called!"
     ]
    }
   ],
   "source": [
    "pd.DataFrame(json.dumps(json.loads(data.content))"
   ]
  },
  {
   "cell_type": "code",
   "execution_count": 53,
   "metadata": {
    "collapsed": false
   },
   "outputs": [
    {
     "data": {
      "text/html": [
       "<div>\n",
       "<table border=\"1\" class=\"dataframe\">\n",
       "  <thead>\n",
       "    <tr style=\"text-align: right;\">\n",
       "      <th></th>\n",
       "      <th>reports</th>\n",
       "    </tr>\n",
       "  </thead>\n",
       "  <tbody>\n",
       "    <tr>\n",
       "      <th>0</th>\n",
       "      <td>{u'forwards': {u'forwards_count': 0, u'forward...</td>\n",
       "    </tr>\n",
       "  </tbody>\n",
       "</table>\n",
       "</div>"
      ],
      "text/plain": [
       "                                             reports\n",
       "0  {u'forwards': {u'forwards_count': 0, u'forward..."
      ]
     },
     "execution_count": 53,
     "metadata": {},
     "output_type": "execute_result"
    }
   ],
   "source": [
    "pd.DataFrame(json.loads(data.content))"
   ]
  },
  {
   "cell_type": "code",
   "execution_count": 61,
   "metadata": {
    "collapsed": false
   },
   "outputs": [
    {
     "ename": "AttributeError",
     "evalue": "'module' object has no attribute 'decode'",
     "output_type": "error",
     "traceback": [
      "\u001b[0;31m---------------------------------------------------------------------------\u001b[0m",
      "\u001b[0;31mAttributeError\u001b[0m                            Traceback (most recent call last)",
      "\u001b[0;32m<ipython-input-61-79fa82728e8f>\u001b[0m in \u001b[0;36m<module>\u001b[0;34m()\u001b[0m\n\u001b[0;32m----> 1\u001b[0;31m \u001b[0mtype\u001b[0m\u001b[0;34m(\u001b[0m\u001b[0mjson\u001b[0m\u001b[0;34m.\u001b[0m\u001b[0mdecode\u001b[0m\u001b[0;34m(\u001b[0m\u001b[0mdata\u001b[0m\u001b[0;34m.\u001b[0m\u001b[0mcontent\u001b[0m\u001b[0;34m)\u001b[0m\u001b[0;34m)\u001b[0m\u001b[0;34m\u001b[0m\u001b[0m\n\u001b[0m",
      "\u001b[0;31mAttributeError\u001b[0m: 'module' object has no attribute 'decode'"
     ]
    }
   ],
   "source": [
    "type(json.decode(data.content))"
   ]
  },
  {
   "cell_type": "code",
   "execution_count": null,
   "metadata": {
    "collapsed": true
   },
   "outputs": [],
   "source": []
  },
  {
   "cell_type": "code",
   "execution_count": null,
   "metadata": {
    "collapsed": true
   },
   "outputs": [],
   "source": []
  },
  {
   "cell_type": "code",
   "execution_count": 629,
   "metadata": {
    "collapsed": false
   },
   "outputs": [],
   "source": [
    "enrollments_dict = {\n",
    "    'filter_list': [\n",
    "'ga:eventAction==edx.course.enrollment.activated',\n",
    "'ga:campaign=~newsletter',\n",
    "'ga:medium==email',\n",
    "'ga:source==sailthru'\n",
    "\n",
    "],\n",
    "    'dimension_list': [\n",
    "'ga:date',\n",
    "'ga:campaign',\n",
    "'ga:eventLabel'\n",
    "],\n",
    "    'metric_list': [\n",
    "'ga:uniqueEvents'\n",
    "],\n",
    "}"
   ]
  },
  {
   "cell_type": "code",
   "execution_count": 630,
   "metadata": {
    "collapsed": true
   },
   "outputs": [],
   "source": [
    "registrations_dict = {\n",
    "    'filter_list': [\n",
    "'ga:eventAction==edx.bi.user.account.registered',\n",
    "'ga:campaign=~newsletter',\n",
    "'ga:medium==email',\n",
    "'ga:source==sailthru'\n",
    "\n",
    "],\n",
    "    'dimension_list': [\n",
    "'ga:date',\n",
    "'ga:campaign',\n",
    "'ga:eventLabel'\n",
    "],\n",
    "    'metric_list': [\n",
    "'ga:uniqueEvents'\n",
    "],\n",
    "}"
   ]
  },
  {
   "cell_type": "code",
   "execution_count": 631,
   "metadata": {
    "collapsed": true
   },
   "outputs": [],
   "source": [
    "transactions_dict = {\n",
    "    'filter_list': [\n",
    "'ga:campaign=~newsletter',\n",
    "'ga:medium==email',\n",
    "'ga:source==sailthru'\n",
    "\n",
    "],\n",
    "    'dimension_list': [\n",
    "'ga:date',\n",
    "'ga:campaign',\n",
    "'ga:productName',\n",
    "],\n",
    "    'metric_list': [\n",
    "'ga:itemRevenue',\n",
    "'ga:uniquePurchases'\n",
    "],\n",
    "}"
   ]
  },
  {
   "cell_type": "code",
   "execution_count": 632,
   "metadata": {
    "collapsed": false
   },
   "outputs": [],
   "source": [
    "ga_registrations = extract_and_clean_df(registrations_dict, 'registrations')\n",
    "ga_enrollments = extract_and_clean_df(enrollments_dict, 'enrollments')\n",
    "ga_transactions = extract_and_clean_df(transactions_dict, 'transactions')"
   ]
  },
  {
   "cell_type": "code",
   "execution_count": 719,
   "metadata": {
    "collapsed": false
   },
   "outputs": [],
   "source": [
    "#combine all ga data into one df\n",
    "\n",
    "ga_master = (ga_registrations.merge(\n",
    "        ga_enrollments, how='outer', on = ['campaign','eventLabel','date'])).merge(\n",
    "    ga_transactions, how='outer', on = ['campaign','eventLabel','date']).reset_index()\n",
    "ga_master = ga_master.drop(['index'],axis=1)\n",
    "ga_master = ga_master.rename(columns={'eventLabel':'course_id'})"
   ]
  },
  {
   "cell_type": "code",
   "execution_count": 73,
   "metadata": {
    "collapsed": false
   },
   "outputs": [],
   "source": [
    "api_key = 'd50d1dac0ae6f50b885a618a7d36d4e0'\n",
    "api_secret = '844bf4965e85e43da2267b8ac0fb5c1c'\n",
    "sc = sailthru_client = SailthruClient(api_key, api_secret)\n",
    "\n",
    "request_data = {'status': 'sent', 'start_date':'2016-01-01'}\n",
    "response = sc.api_get('blast', request_data).get_body()\n",
    "\n",
    "sailthru_campaign_stats = DataFrame(response['blasts'])[['name','blast_id','start_time','stats']]"
   ]
  },
  {
   "cell_type": "code",
   "execution_count": 74,
   "metadata": {
    "collapsed": false
   },
   "outputs": [],
   "source": [
    "#extract data, rename columns\n",
    "\n",
    "sailthru_campaign_stats = sailthru_campaign_stats.apply(extract_payload, axis=1)\n",
    "sailthru_campaign_stats = sailthru_campaign_stats.rename(columns={'name':'campaign',\n",
    "                    0:'emails_sent',\n",
    "                   1:'unsubscribed',\n",
    "                   2:'unique_opens',\n",
    "                   3:'unique_sub_clicks'})\n",
    "sailthru_campaign_stats = sailthru_campaign_stats.apply(sailthru_timestamp, axis=1)\n",
    "sailthru_campaign_stats['7d_campaign_end'] = sailthru_campaign_stats.start_time + timedelta(days=7) "
   ]
  },
  {
   "cell_type": "code",
   "execution_count": 82,
   "metadata": {
    "collapsed": false
   },
   "outputs": [],
   "source": [
    "sailthru_campaign_stats.to_csv(path_or_buf = '../script_output/bisupport-29.csv') "
   ]
  },
  {
   "cell_type": "code",
   "execution_count": 723,
   "metadata": {
    "collapsed": false
   },
   "outputs": [],
   "source": [
    "#de-dupe table to map one sailthru campaign to a 7d end date\n",
    "\n",
    "sailthru_campaign_7d = sailthru_campaign_stats.groupby('campaign').first()['7d_campaign_end'].reset_index()\n",
    "sailthru_campaign_7d['campaign'] = sailthru_campaign_7d.campaign.str.lower().str.replace('_','-')\n",
    "sailthru_campaign_7d = sailthru_campaign_7d[sailthru_campaign_7d.campaign.str.contains('studentnewsletter')]"
   ]
  },
  {
   "cell_type": "code",
   "execution_count": 724,
   "metadata": {
    "collapsed": false
   },
   "outputs": [
    {
     "name": "stderr",
     "output_type": "stream",
     "text": [
      "/Users/adleyhemphill/anaconda/lib/python2.7/site-packages/ipykernel/__main__.py:5: SettingWithCopyWarning: \n",
      "A value is trying to be set on a copy of a slice from a DataFrame.\n",
      "Try using .loc[row_indexer,col_indexer] = value instead\n",
      "\n",
      "See the caveats in the documentation: http://pandas.pydata.org/pandas-docs/stable/indexing.html#indexing-view-versus-copy\n",
      "/Users/adleyhemphill/anaconda/lib/python2.7/site-packages/ipykernel/__main__.py:6: SettingWithCopyWarning: \n",
      "A value is trying to be set on a copy of a slice from a DataFrame.\n",
      "Try using .loc[row_indexer,col_indexer] = value instead\n",
      "\n",
      "See the caveats in the documentation: http://pandas.pydata.org/pandas-docs/stable/indexing.html#indexing-view-versus-copy\n",
      "/Users/adleyhemphill/anaconda/lib/python2.7/site-packages/ipykernel/__main__.py:7: SettingWithCopyWarning: \n",
      "A value is trying to be set on a copy of a slice from a DataFrame.\n",
      "Try using .loc[row_indexer,col_indexer] = value instead\n",
      "\n",
      "See the caveats in the documentation: http://pandas.pydata.org/pandas-docs/stable/indexing.html#indexing-view-versus-copy\n"
     ]
    }
   ],
   "source": [
    "sailthru_campaign_stats_summarized = (sailthru_campaign_stats.groupby('campaign').sum()).reset_index().drop(['blast_id'], axis=1)\n",
    "sailthru_campaign_stats_summarized = clean_sailthru(sailthru_campaign_stats_summarized)\n",
    "sailthru_campaign_stats_summarized = sailthru_campaign_stats_summarized.merge(sailthru_campaign_7d, how='inner', on='campaign')"
   ]
  },
  {
   "cell_type": "code",
   "execution_count": 748,
   "metadata": {
    "collapsed": false
   },
   "outputs": [],
   "source": [
    "def df_agg(df, agg_level):\n",
    "    \n",
    "    if (agg_level == 'course'):\n",
    "        df_all = df.groupby(['campaign','course_id']).sum().reset_index()\n",
    "        df_7d = (df[df.date_diff<=7].groupby(['campaign','course_id']).sum().reset_index())\n",
    "        df_out = df_all.merge(df_7d, how='left', on=['campaign','course_id'], suffixes=('','_7d'))\n",
    "        return df_out#.drop(['date_diff','date_diff_7d'],axis=1)\n",
    "    elif (agg_level == 'campaign'):\n",
    "        df_all = df.groupby(['campaign']).sum().reset_index()\n",
    "        df_7d = (df[df.date_diff<=7].groupby(['campaign']).sum().reset_index())\n",
    "        df_out =  df_all.merge(df_7d, how='left', on=['campaign'], suffixes=('','_7d'))\n",
    "        return df_out#.drop(['date_diff','date_diff_7d'],axis=1)"
   ]
  },
  {
   "cell_type": "code",
   "execution_count": 749,
   "metadata": {
    "collapsed": false
   },
   "outputs": [],
   "source": [
    "#combine all ga and sailthru data and clean up the date info so we can do the 7d calculations\n",
    "\n",
    "ga_sailthru_combined = sailthru_campaign_stats_summarized[['campaign','7d_campaign_end']].merge(ga_master, how='left', on='campaign')\n",
    "ga_sailthru_combined = ga_sailthru_combined.apply(ga_timestamp, axis=1)"
   ]
  },
  {
   "cell_type": "code",
   "execution_count": 753,
   "metadata": {
    "collapsed": false,
    "scrolled": true
   },
   "outputs": [],
   "source": [
    "#aggregate at the campaign and course level\n",
    "\n",
    "ga_sailthru_combined_campaign = df_agg(ga_sailthru_combined, 'campaign')\n",
    "ga_sailthru_combined_course = df_agg(ga_sailthru_combined, 'course')"
   ]
  },
  {
   "cell_type": "code",
   "execution_count": 755,
   "metadata": {
    "collapsed": false
   },
   "outputs": [],
   "source": [
    "#join back to get the sailthru stats\n",
    "\n",
    "ga_sailthru_combined_campaign = sailthru_campaign_stats_summarized.merge(\n",
    "    ga_sailthru_combined_campaign, how='left', on='campaign').drop(['date_diff','date_diff_7d','7d_campaign_end'],axis=1)\n",
    "ga_sailthru_combined_course = sailthru_campaign_stats_summarized.merge(\n",
    "    ga_sailthru_combined_course, how='left', on='campaign').drop(['date_diff','date_diff_7d','7d_campaign_end'],axis=1)"
   ]
  },
  {
   "cell_type": "code",
   "execution_count": 756,
   "metadata": {
    "collapsed": false
   },
   "outputs": [],
   "source": [
    "#add conversion rate metrics\n",
    "\n",
    "ga_sailthru_combined_campaign = add_metrics(ga_sailthru_combined_campaign)\n",
    "ga_sailthru_combined_course = add_metrics(ga_sailthru_combined_course)"
   ]
  },
  {
   "cell_type": "code",
   "execution_count": 757,
   "metadata": {
    "collapsed": false
   },
   "outputs": [
    {
     "data": {
      "text/html": [
       "<div>\n",
       "<table border=\"1\" class=\"dataframe\">\n",
       "  <thead>\n",
       "    <tr style=\"text-align: right;\">\n",
       "      <th></th>\n",
       "      <th>campaign</th>\n",
       "      <th>emails_sent</th>\n",
       "      <th>unsubscribed</th>\n",
       "      <th>unique_opens</th>\n",
       "      <th>unique_sub_clicks</th>\n",
       "      <th>unsub_rate</th>\n",
       "      <th>open_rate</th>\n",
       "      <th>click_rate</th>\n",
       "      <th>registrations</th>\n",
       "      <th>enrollments</th>\n",
       "      <th>total_revenue</th>\n",
       "      <th>transactions</th>\n",
       "      <th>registrations_7d</th>\n",
       "      <th>enrollments_7d</th>\n",
       "      <th>total_revenue_7d</th>\n",
       "      <th>transactions_7d</th>\n",
       "      <th>registrations_conversion_rate</th>\n",
       "      <th>enrollments_conversion_rate</th>\n",
       "      <th>dollars_per_email</th>\n",
       "    </tr>\n",
       "  </thead>\n",
       "  <tbody>\n",
       "    <tr>\n",
       "      <th>0</th>\n",
       "      <td>spanishstudentnewsletter-20160906</td>\n",
       "      <td>441301</td>\n",
       "      <td>416</td>\n",
       "      <td>107737</td>\n",
       "      <td>13265</td>\n",
       "      <td>0.094267</td>\n",
       "      <td>24.413496</td>\n",
       "      <td>3.005885</td>\n",
       "      <td>NaN</td>\n",
       "      <td>NaN</td>\n",
       "      <td>NaN</td>\n",
       "      <td>NaN</td>\n",
       "      <td>NaN</td>\n",
       "      <td>NaN</td>\n",
       "      <td>NaN</td>\n",
       "      <td>NaN</td>\n",
       "      <td>NaN</td>\n",
       "      <td>NaN</td>\n",
       "      <td>NaN</td>\n",
       "    </tr>\n",
       "    <tr>\n",
       "      <th>1</th>\n",
       "      <td>studentnewsletter-20161004</td>\n",
       "      <td>5250654</td>\n",
       "      <td>8390</td>\n",
       "      <td>1042368</td>\n",
       "      <td>107321</td>\n",
       "      <td>0.159790</td>\n",
       "      <td>19.852156</td>\n",
       "      <td>2.043955</td>\n",
       "      <td>361.0</td>\n",
       "      <td>9726.0</td>\n",
       "      <td>15227.9</td>\n",
       "      <td>245.0</td>\n",
       "      <td>147.0</td>\n",
       "      <td>4358.0</td>\n",
       "      <td>7118.8</td>\n",
       "      <td>107.0</td>\n",
       "      <td>0.006875</td>\n",
       "      <td>0.185234</td>\n",
       "      <td>0.290019</td>\n",
       "    </tr>\n",
       "    <tr>\n",
       "      <th>2</th>\n",
       "      <td>studentnewsletter-20161011</td>\n",
       "      <td>5283703</td>\n",
       "      <td>7985</td>\n",
       "      <td>1035597</td>\n",
       "      <td>123166</td>\n",
       "      <td>0.151125</td>\n",
       "      <td>19.599834</td>\n",
       "      <td>2.331055</td>\n",
       "      <td>NaN</td>\n",
       "      <td>NaN</td>\n",
       "      <td>NaN</td>\n",
       "      <td>NaN</td>\n",
       "      <td>NaN</td>\n",
       "      <td>NaN</td>\n",
       "      <td>NaN</td>\n",
       "      <td>NaN</td>\n",
       "      <td>NaN</td>\n",
       "      <td>NaN</td>\n",
       "      <td>NaN</td>\n",
       "    </tr>\n",
       "    <tr>\n",
       "      <th>3</th>\n",
       "      <td>studentnewsletter-20161018</td>\n",
       "      <td>5320519</td>\n",
       "      <td>8377</td>\n",
       "      <td>1086659</td>\n",
       "      <td>103052</td>\n",
       "      <td>0.157447</td>\n",
       "      <td>20.423929</td>\n",
       "      <td>1.936879</td>\n",
       "      <td>871.0</td>\n",
       "      <td>26962.0</td>\n",
       "      <td>19115.7</td>\n",
       "      <td>309.0</td>\n",
       "      <td>871.0</td>\n",
       "      <td>26962.0</td>\n",
       "      <td>19115.7</td>\n",
       "      <td>309.0</td>\n",
       "      <td>0.016371</td>\n",
       "      <td>0.506755</td>\n",
       "      <td>0.359283</td>\n",
       "    </tr>\n",
       "    <tr>\n",
       "      <th>4</th>\n",
       "      <td>studentnewsletter-20161025</td>\n",
       "      <td>4297053</td>\n",
       "      <td>6286</td>\n",
       "      <td>856874</td>\n",
       "      <td>98199</td>\n",
       "      <td>0.146286</td>\n",
       "      <td>19.940969</td>\n",
       "      <td>2.285264</td>\n",
       "      <td>733.0</td>\n",
       "      <td>27572.0</td>\n",
       "      <td>18617.7</td>\n",
       "      <td>290.0</td>\n",
       "      <td>733.0</td>\n",
       "      <td>27572.0</td>\n",
       "      <td>18617.7</td>\n",
       "      <td>290.0</td>\n",
       "      <td>0.017058</td>\n",
       "      <td>0.641649</td>\n",
       "      <td>0.433267</td>\n",
       "    </tr>\n",
       "    <tr>\n",
       "      <th>5</th>\n",
       "      <td>studentnewsletter-20161101</td>\n",
       "      <td>5402604</td>\n",
       "      <td>8327</td>\n",
       "      <td>1027413</td>\n",
       "      <td>114807</td>\n",
       "      <td>0.154129</td>\n",
       "      <td>19.016996</td>\n",
       "      <td>2.125031</td>\n",
       "      <td>337.0</td>\n",
       "      <td>12559.0</td>\n",
       "      <td>4134.0</td>\n",
       "      <td>73.0</td>\n",
       "      <td>337.0</td>\n",
       "      <td>12559.0</td>\n",
       "      <td>4134.0</td>\n",
       "      <td>73.0</td>\n",
       "      <td>0.006238</td>\n",
       "      <td>0.232462</td>\n",
       "      <td>0.076519</td>\n",
       "    </tr>\n",
       "    <tr>\n",
       "      <th>6</th>\n",
       "      <td>studentnewsletter-20161108</td>\n",
       "      <td>5435475</td>\n",
       "      <td>7246</td>\n",
       "      <td>1031816</td>\n",
       "      <td>88374</td>\n",
       "      <td>0.133309</td>\n",
       "      <td>18.982996</td>\n",
       "      <td>1.625874</td>\n",
       "      <td>NaN</td>\n",
       "      <td>NaN</td>\n",
       "      <td>NaN</td>\n",
       "      <td>NaN</td>\n",
       "      <td>NaN</td>\n",
       "      <td>NaN</td>\n",
       "      <td>NaN</td>\n",
       "      <td>NaN</td>\n",
       "      <td>NaN</td>\n",
       "      <td>NaN</td>\n",
       "      <td>NaN</td>\n",
       "    </tr>\n",
       "    <tr>\n",
       "      <th>7</th>\n",
       "      <td>studentnewsletter-20161115</td>\n",
       "      <td>5461811</td>\n",
       "      <td>7699</td>\n",
       "      <td>1096963</td>\n",
       "      <td>119264</td>\n",
       "      <td>0.140961</td>\n",
       "      <td>20.084236</td>\n",
       "      <td>2.183598</td>\n",
       "      <td>NaN</td>\n",
       "      <td>NaN</td>\n",
       "      <td>NaN</td>\n",
       "      <td>NaN</td>\n",
       "      <td>NaN</td>\n",
       "      <td>NaN</td>\n",
       "      <td>NaN</td>\n",
       "      <td>NaN</td>\n",
       "      <td>NaN</td>\n",
       "      <td>NaN</td>\n",
       "      <td>NaN</td>\n",
       "    </tr>\n",
       "    <tr>\n",
       "      <th>8</th>\n",
       "      <td>studentnewsletter-20161122</td>\n",
       "      <td>5502433</td>\n",
       "      <td>8149</td>\n",
       "      <td>1136395</td>\n",
       "      <td>110891</td>\n",
       "      <td>0.148098</td>\n",
       "      <td>20.652591</td>\n",
       "      <td>2.015309</td>\n",
       "      <td>NaN</td>\n",
       "      <td>NaN</td>\n",
       "      <td>NaN</td>\n",
       "      <td>NaN</td>\n",
       "      <td>NaN</td>\n",
       "      <td>NaN</td>\n",
       "      <td>NaN</td>\n",
       "      <td>NaN</td>\n",
       "      <td>NaN</td>\n",
       "      <td>NaN</td>\n",
       "      <td>NaN</td>\n",
       "    </tr>\n",
       "    <tr>\n",
       "      <th>9</th>\n",
       "      <td>studentnewsletter-20161129</td>\n",
       "      <td>5578288</td>\n",
       "      <td>9653</td>\n",
       "      <td>1081749</td>\n",
       "      <td>93617</td>\n",
       "      <td>0.173046</td>\n",
       "      <td>19.392132</td>\n",
       "      <td>1.678239</td>\n",
       "      <td>NaN</td>\n",
       "      <td>NaN</td>\n",
       "      <td>NaN</td>\n",
       "      <td>NaN</td>\n",
       "      <td>NaN</td>\n",
       "      <td>NaN</td>\n",
       "      <td>NaN</td>\n",
       "      <td>NaN</td>\n",
       "      <td>NaN</td>\n",
       "      <td>NaN</td>\n",
       "      <td>NaN</td>\n",
       "    </tr>\n",
       "    <tr>\n",
       "      <th>10</th>\n",
       "      <td>studentnewsletter-20161206</td>\n",
       "      <td>5322841</td>\n",
       "      <td>6732</td>\n",
       "      <td>1010590</td>\n",
       "      <td>102040</td>\n",
       "      <td>0.126474</td>\n",
       "      <td>18.985914</td>\n",
       "      <td>1.917021</td>\n",
       "      <td>NaN</td>\n",
       "      <td>NaN</td>\n",
       "      <td>NaN</td>\n",
       "      <td>NaN</td>\n",
       "      <td>NaN</td>\n",
       "      <td>NaN</td>\n",
       "      <td>NaN</td>\n",
       "      <td>NaN</td>\n",
       "      <td>NaN</td>\n",
       "      <td>NaN</td>\n",
       "      <td>NaN</td>\n",
       "    </tr>\n",
       "  </tbody>\n",
       "</table>\n",
       "</div>"
      ],
      "text/plain": [
       "                             campaign  emails_sent  unsubscribed  \\\n",
       "0   spanishstudentnewsletter-20160906       441301           416   \n",
       "1          studentnewsletter-20161004      5250654          8390   \n",
       "2          studentnewsletter-20161011      5283703          7985   \n",
       "3          studentnewsletter-20161018      5320519          8377   \n",
       "4          studentnewsletter-20161025      4297053          6286   \n",
       "5          studentnewsletter-20161101      5402604          8327   \n",
       "6          studentnewsletter-20161108      5435475          7246   \n",
       "7          studentnewsletter-20161115      5461811          7699   \n",
       "8          studentnewsletter-20161122      5502433          8149   \n",
       "9          studentnewsletter-20161129      5578288          9653   \n",
       "10         studentnewsletter-20161206      5322841          6732   \n",
       "\n",
       "    unique_opens  unique_sub_clicks  unsub_rate  open_rate  click_rate  \\\n",
       "0         107737              13265    0.094267  24.413496    3.005885   \n",
       "1        1042368             107321    0.159790  19.852156    2.043955   \n",
       "2        1035597             123166    0.151125  19.599834    2.331055   \n",
       "3        1086659             103052    0.157447  20.423929    1.936879   \n",
       "4         856874              98199    0.146286  19.940969    2.285264   \n",
       "5        1027413             114807    0.154129  19.016996    2.125031   \n",
       "6        1031816              88374    0.133309  18.982996    1.625874   \n",
       "7        1096963             119264    0.140961  20.084236    2.183598   \n",
       "8        1136395             110891    0.148098  20.652591    2.015309   \n",
       "9        1081749              93617    0.173046  19.392132    1.678239   \n",
       "10       1010590             102040    0.126474  18.985914    1.917021   \n",
       "\n",
       "    registrations  enrollments  total_revenue  transactions  registrations_7d  \\\n",
       "0             NaN          NaN            NaN           NaN               NaN   \n",
       "1           361.0       9726.0        15227.9         245.0             147.0   \n",
       "2             NaN          NaN            NaN           NaN               NaN   \n",
       "3           871.0      26962.0        19115.7         309.0             871.0   \n",
       "4           733.0      27572.0        18617.7         290.0             733.0   \n",
       "5           337.0      12559.0         4134.0          73.0             337.0   \n",
       "6             NaN          NaN            NaN           NaN               NaN   \n",
       "7             NaN          NaN            NaN           NaN               NaN   \n",
       "8             NaN          NaN            NaN           NaN               NaN   \n",
       "9             NaN          NaN            NaN           NaN               NaN   \n",
       "10            NaN          NaN            NaN           NaN               NaN   \n",
       "\n",
       "    enrollments_7d  total_revenue_7d  transactions_7d  \\\n",
       "0              NaN               NaN              NaN   \n",
       "1           4358.0            7118.8            107.0   \n",
       "2              NaN               NaN              NaN   \n",
       "3          26962.0           19115.7            309.0   \n",
       "4          27572.0           18617.7            290.0   \n",
       "5          12559.0            4134.0             73.0   \n",
       "6              NaN               NaN              NaN   \n",
       "7              NaN               NaN              NaN   \n",
       "8              NaN               NaN              NaN   \n",
       "9              NaN               NaN              NaN   \n",
       "10             NaN               NaN              NaN   \n",
       "\n",
       "    registrations_conversion_rate  enrollments_conversion_rate  \\\n",
       "0                             NaN                          NaN   \n",
       "1                        0.006875                     0.185234   \n",
       "2                             NaN                          NaN   \n",
       "3                        0.016371                     0.506755   \n",
       "4                        0.017058                     0.641649   \n",
       "5                        0.006238                     0.232462   \n",
       "6                             NaN                          NaN   \n",
       "7                             NaN                          NaN   \n",
       "8                             NaN                          NaN   \n",
       "9                             NaN                          NaN   \n",
       "10                            NaN                          NaN   \n",
       "\n",
       "    dollars_per_email  \n",
       "0                 NaN  \n",
       "1            0.290019  \n",
       "2                 NaN  \n",
       "3            0.359283  \n",
       "4            0.433267  \n",
       "5            0.076519  \n",
       "6                 NaN  \n",
       "7                 NaN  \n",
       "8                 NaN  \n",
       "9                 NaN  \n",
       "10                NaN  "
      ]
     },
     "execution_count": 757,
     "metadata": {},
     "output_type": "execute_result"
    }
   ],
   "source": [
    "ga_sailthru_combined_campaign"
   ]
  },
  {
   "cell_type": "code",
   "execution_count": 587,
   "metadata": {
    "collapsed": true
   },
   "outputs": [],
   "source": [
    "#master_ga_sailthru_df = master_ga_sailthru_df.replace(to_replace='event', value='homepage')"
   ]
  },
  {
   "cell_type": "code",
   "execution_count": 763,
   "metadata": {
    "collapsed": false
   },
   "outputs": [],
   "source": [
    "excelFile='./../script_output/newsletter_sample2.xlsx'\n",
    "writer = pd.ExcelWriter(excelFile,engine='xlsxwriter')\n",
    "\n",
    "ga_sailthru_combined_campaign.to_excel(writer, index=False, sheet_name='campaign_summary', startrow=2)\n",
    "ga_sailthru_combined_course.to_excel(writer, index=False, sheet_name='course_summary', startrow=2)\n",
    "ga_sailthru_combined_campaign[ga_sailthru_combined_campaign.campaign.str.contains('^studentnewsletter')].to_excel(writer, index=False, sheet_name='tuesday_campaign_summary', startrow=2)\n",
    "ga_sailthru_combined_course[ga_sailthru_combined_course.campaign.str.contains('^studentnewsletter')].to_excel(writer, index=False, sheet_name='tuesday_course_summary', startrow=2)\n",
    "\n",
    "# Get access to the workbook and sheet\n",
    "workbook = writer.book\n",
    "worksheet = writer.sheets['campaign_summary']\n",
    "\n",
    "money_fmt = workbook.add_format({'num_format': '$#,##0', 'bold': True})\n",
    "money_fmt_long = workbook.add_format({'num_format': '$#,##0.00000', 'bold': True})\n",
    "percent_fmt = workbook.add_format({'num_format': '0.0000%', 'bold': False})\n",
    "comma_fmt_long = workbook.add_format({'num_format': '#,##0.000', 'bold': False})\n",
    "comma_fmt_short = workbook.add_format({'num_format': '#,##0', 'bold': False})\n",
    "date_fmt = workbook.add_format({'num_format': 'dd/mm/yy'})\n",
    "cell_format = workbook.add_format({'bold': True, 'italic': False})\n",
    "\n",
    "worksheet.conditional_format('Q1:Q10000', {'type': '3_color_scale'})\n",
    "worksheet.conditional_format('R1:R10000', {'type': '3_color_scale'})\n",
    "worksheet.conditional_format('S1:S10000', {'type': '3_color_scale'})\n",
    "\n",
    "worksheet.set_column('A:A', 15, date_fmt)\n",
    "worksheet.set_column('B:H', 15, comma_fmt_long)\n",
    "worksheet.set_column('I:J', 20, comma_fmt_short)\n",
    "worksheet.set_column('K:K', 20, money_fmt)\n",
    "worksheet.set_column('L:N', 20, comma_fmt_short)\n",
    "worksheet.set_column('O:O', 20, money_fmt)\n",
    "worksheet.set_column('P:P', 20, comma_fmt_short)\n",
    "worksheet.set_column('Q:R', 20, comma_fmt_long)\n",
    "worksheet.set_column('S:S', 20, money_fmt_long)\n",
    "\n",
    "#worksheet.write('A1', 'Newsletters with over 1M sends, Data from '+str(report_d1)+' to '+str(d2) , cell_format)\n",
    "\n",
    "worksheet = writer.sheets['course_summary']\n",
    "\n",
    "worksheet.conditional_format('R1:R10000', {'type': '3_color_scale'})\n",
    "worksheet.conditional_format('S1:S10000', {'type': '3_color_scale'})\n",
    "worksheet.conditional_format('T1:T10000', {'type': '3_color_scale'})\n",
    "\n",
    "worksheet.set_column('A:A', 15, date_fmt)\n",
    "worksheet.set_column('B:I', 15, comma_fmt_long)\n",
    "worksheet.set_column('J:K', 20, comma_fmt_short)\n",
    "worksheet.set_column('L:L', 20, money_fmt)\n",
    "worksheet.set_column('M:O', 20, comma_fmt_short)\n",
    "worksheet.set_column('P:P', 20, money_fmt)\n",
    "worksheet.set_column('Q:Q', 20, comma_fmt_short)\n",
    "worksheet.set_column('R:S', 20, comma_fmt_long)\n",
    "worksheet.set_column('T:T', 20, money_fmt_long)\n",
    "\n",
    "\n",
    "worksheet = writer.sheets['tuesday_campaign_summary']\n",
    "\n",
    "worksheet.conditional_format('Q1:Q10000', {'type': '3_color_scale'})\n",
    "worksheet.conditional_format('R1:R10000', {'type': '3_color_scale'})\n",
    "worksheet.conditional_format('S1:S10000', {'type': '3_color_scale'})\n",
    "\n",
    "worksheet.set_column('A:A', 15, date_fmt)\n",
    "worksheet.set_column('B:H', 15, comma_fmt_long)\n",
    "worksheet.set_column('I:J', 20, comma_fmt_short)\n",
    "worksheet.set_column('K:K', 20, money_fmt)\n",
    "worksheet.set_column('L:N', 20, comma_fmt_short)\n",
    "worksheet.set_column('O:O', 20, money_fmt)\n",
    "worksheet.set_column('P:P', 20, comma_fmt_short)\n",
    "worksheet.set_column('Q:R', 20, comma_fmt_long)\n",
    "worksheet.set_column('S:S', 20, money_fmt_long)\n",
    "\n",
    "worksheet = writer.sheets['tuesday_course_summary']\n",
    "\n",
    "worksheet.conditional_format('R1:R10000', {'type': '3_color_scale'})\n",
    "worksheet.conditional_format('S1:S10000', {'type': '3_color_scale'})\n",
    "worksheet.conditional_format('T1:T10000', {'type': '3_color_scale'})\n",
    "\n",
    "worksheet.set_column('A:A', 15, date_fmt)\n",
    "worksheet.set_column('B:I', 15, comma_fmt_long)\n",
    "worksheet.set_column('J:K', 20, comma_fmt_short)\n",
    "worksheet.set_column('L:L', 20, money_fmt)\n",
    "worksheet.set_column('M:O', 20, comma_fmt_short)\n",
    "worksheet.set_column('P:P', 20, money_fmt)\n",
    "worksheet.set_column('Q:Q', 20, comma_fmt_short)\n",
    "worksheet.set_column('R:S', 20, comma_fmt_long)\n",
    "worksheet.set_column('T:T', 20, money_fmt_long)\n",
    "\n",
    "writer.save()\n",
    "\n",
    "\n",
    "#WHEN ONLY GOOGLE DATA IS WORKING\n",
    "\n",
    "# summary['dateSent'] = summary['dateSent'].dt.date\n",
    "# courseDetail['dateSent'] = courseDetail['dateSent'].dt.date\n",
    "\n",
    "# writer = pd.ExcelWriter(str(filepath)+'NL Data Missing MailChimp Data '+str(d1)+' to '+str(d2)+'.xlsx',engine='xlsxwriter')\n",
    "# summary.to_excel(writer,sheet_name='CampaignEnrolls',index=False, startrow=2)\n",
    "# courseDetail.to_excel(writer,sheet_name='courseEnrolls',index=False, startrow=2)\n",
    "\n",
    "# # Get access to the workbook and sheet\n",
    "# workbook = writer.book\n",
    "\n",
    "# worksheet = writer.sheets['CampaignEnrolls']\n",
    "\n",
    "# money_fmt = workbook.add_format({'num_format': '$#,##0', 'bold': True})\n",
    "# percent_fmt = workbook.add_format({'num_format': '0.0%', 'bold': False})\n",
    "# comma_fmt = workbook.add_format({'num_format': '#,##0', 'bold': False})\n",
    "# date_fmt = workbook.add_format({'num_format': 'dd/mm/yy'})\n",
    "# cell_format = workbook.add_format({'bold': True, 'italic': False})\n",
    "\n",
    "# worksheet.set_column('A:A', 55)\n",
    "# worksheet.set_column('B:B', 15)\n",
    "# worksheet.set_column('C:D', 20, comma_fmt)\n",
    "# worksheet.set_column('E:E', 15)\n",
    "# worksheet.write('A1', 'Newsletter GA Campaign Enrolls, Data from '+str(d1)+' to '+str(d2) , cell_format)\n",
    "\n",
    "# worksheet = writer.sheets['courseEnrolls']\n",
    "# worksheet.set_column('A:A', 44)\n",
    "# worksheet.set_column('B:B', 15)\n",
    "# worksheet.set_column('C:D', 20, comma_fmt)\n",
    "# worksheet.set_column('E:E', 55)\n",
    "# worksheet.set_column('F:G', 20, comma_fmt)\n",
    "# worksheet.write('A1', 'Newsletter GA Course Enrolls, Data from '+str(d1)+' to '+str(d2) , cell_format)\n",
    "# worksheet.autofilter('A3:G3')\n",
    "\n",
    "\n",
    "# writer.save()\n"
   ]
  },
  {
   "cell_type": "code",
   "execution_count": null,
   "metadata": {
    "collapsed": true
   },
   "outputs": [],
   "source": []
  }
 ],
 "metadata": {
  "anaconda-cloud": {},
  "kernelspec": {
   "display_name": "Python [conda root]",
   "language": "python",
   "name": "conda-root-py"
  },
  "language_info": {
   "codemirror_mode": {
    "name": "ipython",
    "version": 2
   },
   "file_extension": ".py",
   "mimetype": "text/x-python",
   "name": "python",
   "nbconvert_exporter": "python",
   "pygments_lexer": "ipython2",
   "version": "2.7.12"
  }
 },
 "nbformat": 4,
 "nbformat_minor": 1
}
