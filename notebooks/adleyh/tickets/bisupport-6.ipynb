{
 "cells": [
  {
   "cell_type": "code",
   "execution_count": 216,
   "metadata": {
    "collapsed": true
   },
   "outputs": [],
   "source": [
    "from __future__ import division\n",
    "import vertica_python\n",
    "import numpy as np\n",
    "from pandas import Series, DataFrame\n",
    "import pandas as pd\n",
    "from vertica_python import connect\n",
    "import StringIO\n",
    "from StringIO import StringIO\n",
    "from datetime import date, timedelta as td\n",
    "import xlsxwriter\n",
    "import os\n",
    "import json\n",
    "import urllib2\n",
    "import base64\n",
    "import datetime\n",
    "import re\n",
    "import csv\n",
    "import pandas as pd\n",
    "from pandas import DataFrame, Series\n",
    "import numpy as np"
   ]
  },
  {
   "cell_type": "code",
   "execution_count": 217,
   "metadata": {
    "collapsed": true
   },
   "outputs": [],
   "source": [
    "import argparse\n",
    "\n",
    "from apiclient.discovery import build\n",
    "import httplib2\n",
    "from oauth2client import client\n",
    "from oauth2client import file\n",
    "from oauth2client import tools"
   ]
  },
  {
   "cell_type": "code",
   "execution_count": 218,
   "metadata": {
    "collapsed": true
   },
   "outputs": [],
   "source": [
    "def get_service(api_name, api_version, scope, client_secrets_path):\n",
    "  \"\"\"Get a service that communicates to a Google API.\n",
    "\n",
    "  Args:\n",
    "    api_name: string The name of the api to connect to.\n",
    "    api_version: string The api version to connect to.\n",
    "    scope: A list of strings representing the auth scopes to authorize for the\n",
    "      connection.\n",
    "    client_secrets_path: string A path to a valid client secrets file.\n",
    "\n",
    "  Returns:\n",
    "    A service that is connected to the specified API.\n",
    "  \"\"\"\n",
    "  # Parse command-line arguments.\n",
    "  parser = argparse.ArgumentParser(\n",
    "      formatter_class=argparse.RawDescriptionHelpFormatter,\n",
    "      parents=[tools.argparser])\n",
    "  flags = parser.parse_args([])\n",
    "\n",
    "  # Set up a Flow object to be used if we need to authenticate.\n",
    "  flow = client.flow_from_clientsecrets(\n",
    "      client_secrets_path, scope=scope,\n",
    "      message=tools.message_if_missing(client_secrets_path))\n",
    "\n",
    "  # Prepare credentials, and authorize HTTP object with them.\n",
    "  # If the credentials don't exist or are invalid run through the native client\n",
    "  # flow. The Storage object will ensure that if successful the good\n",
    "  # credentials will get written back to a file.\n",
    "  storage = file.Storage(api_name + '.dat')\n",
    "  credentials = storage.get()\n",
    "  if credentials is None or credentials.invalid:\n",
    "    credentials = tools.run_flow(flow, storage, flags)\n",
    "  http = credentials.authorize(http=httplib2.Http())\n",
    "\n",
    "  # Build the service object.\n",
    "  service = build(api_name, api_version, http=http)\n",
    "\n",
    "  return service"
   ]
  },
  {
   "cell_type": "code",
   "execution_count": 219,
   "metadata": {
    "collapsed": false
   },
   "outputs": [],
   "source": [
    "def get_ga_data_multi_campaign(service, course_enrolls_dict):\n",
    "\n",
    "    out = service.data().ga().get(\n",
    "        ids='ga:' + '86300562',\n",
    "        start_date=str(course_enrolls_dict['start_date']),\n",
    "        end_date=str(course_enrolls_dict['end_date']),\n",
    "        max_results=10000,\n",
    "        metrics=','.join(course_enrolls_dict['metric_list']),\n",
    "        dimensions=','.join(course_enrolls_dict['dimension_list']),\n",
    "        filters=','.join(course_enrolls_dict['filter_list'])).execute()\n",
    "                            \n",
    "    col_list = []\n",
    "                            \n",
    "    for i in np.arange(0,len(out['columnHeaders'])):\n",
    "        line = re.sub('ga.', '', out['columnHeaders'][i][u'name'])\n",
    "        col_list.append(line)\n",
    "    return pd.DataFrame(out['rows'],columns=col_list)\n"
   ]
  },
  {
   "cell_type": "code",
   "execution_count": 220,
   "metadata": {
    "collapsed": true
   },
   "outputs": [],
   "source": [
    "def get_ga_data(service, course_enrolls_dict):\n",
    "\n",
    "    out = service.data().ga().get(\n",
    "        ids='ga:' + '86300562',\n",
    "        start_date=str(course_enrolls_dict['start_date']),\n",
    "        end_date=str(course_enrolls_dict['end_date']),\n",
    "        max_results=10000,\n",
    "        metrics=','.join(course_enrolls_dict['metric_list']),\n",
    "        dimensions=','.join(course_enrolls_dict['dimension_list']),\n",
    "        filters=';'.join(course_enrolls_dict['filter_list'])).execute()\n",
    "                            \n",
    "    col_list = []\n",
    "                            \n",
    "    for i in np.arange(0,len(out['columnHeaders'])):\n",
    "        line = re.sub('ga.', '', out['columnHeaders'][i][u'name'])\n",
    "        col_list.append(line)\n",
    "    return pd.DataFrame(out['rows'],columns=col_list)\n"
   ]
  },
  {
   "cell_type": "code",
   "execution_count": 238,
   "metadata": {
    "collapsed": false
   },
   "outputs": [],
   "source": [
    "scope = ['https://www.googleapis.com/auth/analytics.readonly']\n",
    "service = get_service('analytics', 'v3', scope, 'client_secrets.json')"
   ]
  },
  {
   "cell_type": "code",
   "execution_count": 239,
   "metadata": {
    "collapsed": true
   },
   "outputs": [],
   "source": [
    "enrollments_transactions_dict_newsletter = {\n",
    "    'filter_list': [\n",
    "'ga:campaign==studentnewsletter-20161115',\n",
    "'ga:eventLabel=~course-'\n",
    "],\n",
    "    'dimension_list': [\n",
    "'ga:campaign',\n",
    "'ga:eventLabel',\n",
    "],\n",
    "    'metric_list': [\n",
    "'ga:goal8Completions',\n",
    "'ga:transactions',\n",
    "'ga:transactionRevenue'\n",
    "],\n",
    "    'start_date': '2016-10-31',\n",
    "    'end_date': '2016-12-01',\n",
    "}"
   ]
  },
  {
   "cell_type": "code",
   "execution_count": 262,
   "metadata": {
    "collapsed": false
   },
   "outputs": [],
   "source": [
    "newsletter_df = pd.DataFrame()\n",
    "\n",
    "for i in pd.date_range('2016-11-01', '2016-12-01'):\n",
    "    \n",
    "    out = service.data().ga().get(\n",
    "    ids='ga:' + '86300562',\n",
    "    start_date=str(i.date()),\n",
    "    end_date=str(i.date()),\n",
    "    max_results=10000,\n",
    "    metrics='ga:sessions,ga:goal8Completions,ga:transactions,ga:transactionRevenue',\n",
    "    dimensions='ga:campaign, ga:eventLabel',\n",
    "    filters='ga:campaign==studentnewsletter-20161115;ga:eventLabel=~course-',\n",
    "    samplingLevel = 'HIGHER_PRECISION').execute()\n",
    "\n",
    "    col_list = []\n",
    "\n",
    "    for i in np.arange(0,len(out['columnHeaders'])):\n",
    "        line = re.sub('ga.', '', out['columnHeaders'][i][u'name'])\n",
    "        col_list.append(line)\n",
    "    try:\n",
    "        newsletter_df = newsletter_df.append(pd.DataFrame(out['rows'],columns=col_list))\n",
    "    except:\n",
    "        len(out) == 0"
   ]
  },
  {
   "cell_type": "code",
   "execution_count": 263,
   "metadata": {
    "collapsed": false
   },
   "outputs": [],
   "source": [
    "newsletter_df = newsletter_df.rename(columns={'eventLabel': 'course_id','goal8Completions':'enrollments'})\n",
    "newsletter_df[['sessions','enrollments','transactions','transactionRevenue']] = newsletter_df[['sessions','enrollments','transactions','transactionRevenue']].apply(pd.to_numeric)"
   ]
  },
  {
   "cell_type": "code",
   "execution_count": 286,
   "metadata": {
    "collapsed": false
   },
   "outputs": [],
   "source": [
    "newsletter_df = newsletter_df.groupby('course_id').sum().sort_values('enrollments', ascending=False)"
   ]
  },
  {
   "cell_type": "code",
   "execution_count": 288,
   "metadata": {
    "collapsed": true
   },
   "outputs": [],
   "source": [
    "newsletter_df.to_csv('./../script_output/bisupport-6_newsletter.csv')"
   ]
  },
  {
   "cell_type": "code",
   "execution_count": 240,
   "metadata": {
    "collapsed": false
   },
   "outputs": [],
   "source": [
    "enrollments_transactions_df = get_ga_data(service, enrollments_transactions_dict_newsletter)"
   ]
  },
  {
   "cell_type": "code",
   "execution_count": 246,
   "metadata": {
    "collapsed": false
   },
   "outputs": [],
   "source": [
    "enrollments_transactions_df[['enrollments','transactions','transactionRevenue']] = enrollments_transactions_df[['enrollments','transactions','transactionRevenue']].apply(pd.to_numeric)"
   ]
  },
  {
   "cell_type": "code",
   "execution_count": 247,
   "metadata": {
    "collapsed": false
   },
   "outputs": [],
   "source": [
    "#filter dataframe if all rows are zero\n",
    "enrollments_transactions_df = enrollments_transactions_df[\n",
    "    (enrollments_transactions_df[['enrollments','transactions','transactionRevenue']]!=0).any(1)]"
   ]
  },
  {
   "cell_type": "code",
   "execution_count": 287,
   "metadata": {
    "collapsed": false
   },
   "outputs": [
    {
     "data": {
      "text/html": [
       "<div>\n",
       "<table border=\"1\" class=\"dataframe\">\n",
       "  <thead>\n",
       "    <tr style=\"text-align: right;\">\n",
       "      <th></th>\n",
       "      <th>campaign</th>\n",
       "      <th>course_id</th>\n",
       "      <th>enrollments</th>\n",
       "      <th>transactions</th>\n",
       "      <th>transactionRevenue</th>\n",
       "    </tr>\n",
       "  </thead>\n",
       "  <tbody>\n",
       "    <tr>\n",
       "      <th>24</th>\n",
       "      <td>studentnewsletter-20161115</td>\n",
       "      <td>course-v1:ASUx+TGM540x+1T2017</td>\n",
       "      <td>439</td>\n",
       "      <td>0</td>\n",
       "      <td>0.0</td>\n",
       "    </tr>\n",
       "    <tr>\n",
       "      <th>31</th>\n",
       "      <td>studentnewsletter-20161115</td>\n",
       "      <td>course-v1:AmnestyInternationalX+Rights2x+3T2016</td>\n",
       "      <td>120</td>\n",
       "      <td>0</td>\n",
       "      <td>0.0</td>\n",
       "    </tr>\n",
       "    <tr>\n",
       "      <th>51</th>\n",
       "      <td>studentnewsletter-20161115</td>\n",
       "      <td>course-v1:BerkeleyX+ColWri2.1x+3T2016</td>\n",
       "      <td>120</td>\n",
       "      <td>0</td>\n",
       "      <td>0.0</td>\n",
       "    </tr>\n",
       "    <tr>\n",
       "      <th>52</th>\n",
       "      <td>studentnewsletter-20161115</td>\n",
       "      <td>course-v1:BerkeleyX+ColWri2.2x+1T2017</td>\n",
       "      <td>200</td>\n",
       "      <td>0</td>\n",
       "      <td>0.0</td>\n",
       "    </tr>\n",
       "    <tr>\n",
       "      <th>54</th>\n",
       "      <td>studentnewsletter-20161115</td>\n",
       "      <td>course-v1:BerkeleyX+EE40LX+2T2015</td>\n",
       "      <td>40</td>\n",
       "      <td>0</td>\n",
       "      <td>0.0</td>\n",
       "    </tr>\n",
       "  </tbody>\n",
       "</table>\n",
       "</div>"
      ],
      "text/plain": [
       "                      campaign  \\\n",
       "24  studentnewsletter-20161115   \n",
       "31  studentnewsletter-20161115   \n",
       "51  studentnewsletter-20161115   \n",
       "52  studentnewsletter-20161115   \n",
       "54  studentnewsletter-20161115   \n",
       "\n",
       "                                          course_id  enrollments  \\\n",
       "24                    course-v1:ASUx+TGM540x+1T2017          439   \n",
       "31  course-v1:AmnestyInternationalX+Rights2x+3T2016          120   \n",
       "51            course-v1:BerkeleyX+ColWri2.1x+3T2016          120   \n",
       "52            course-v1:BerkeleyX+ColWri2.2x+1T2017          200   \n",
       "54                course-v1:BerkeleyX+EE40LX+2T2015           40   \n",
       "\n",
       "    transactions  transactionRevenue  \n",
       "24             0                 0.0  \n",
       "31             0                 0.0  \n",
       "51             0                 0.0  \n",
       "52             0                 0.0  \n",
       "54             0                 0.0  "
      ]
     },
     "execution_count": 287,
     "metadata": {},
     "output_type": "execute_result"
    }
   ],
   "source": [
    "enrollments_transactions_df.head()"
   ]
  },
  {
   "cell_type": "code",
   "execution_count": 190,
   "metadata": {
    "collapsed": true
   },
   "outputs": [],
   "source": [
    "enrollments_transactions_df.to_csv('./../script_output/bisupport-6_newsletter.csv')"
   ]
  },
  {
   "cell_type": "code",
   "execution_count": 126,
   "metadata": {
    "collapsed": true
   },
   "outputs": [],
   "source": [
    "out = service.data().ga().get(\n",
    "    ids='ga:' + '86300562',\n",
    "    start_date=str('2016-11-15'),\n",
    "    end_date=str('2016-11-30'),\n",
    "    max_results=10000,\n",
    "    metrics='ga:sessions,ga:goal8Completions,ga:transactions,ga:transactionRevenue',\n",
    "    dimensions='ga:campaign',\n",
    "    filters='ga:campaign==leadnurture-ai-20161117,ga:campaign==MicroMastersLeadGenMembers-20161117').execute()\n",
    "\n",
    "col_list = []\n",
    "\n",
    "for i in np.arange(0,len(out['columnHeaders'])):\n",
    "    line = re.sub('ga.', '', out['columnHeaders'][i][u'name'])\n",
    "    col_list.append(line)\n",
    "\n",
    "mm_email_df2 = pd.DataFrame(out['rows'],columns=col_list)"
   ]
  },
  {
   "cell_type": "code",
   "execution_count": 234,
   "metadata": {
    "collapsed": false
   },
   "outputs": [],
   "source": [
    "micromaster_email_list = [\n",
    "#'ga:campaign==leadnurture-projectmanagement-20161117',\n",
    "'ga:campaign==leadnurture-ai-20161117',\n",
    "'ga:campaign==MicroMastersLeadGenMembers-20161117',\n",
    "\n",
    "]"
   ]
  },
  {
   "cell_type": "code",
   "execution_count": 235,
   "metadata": {
    "collapsed": false,
    "scrolled": false
   },
   "outputs": [],
   "source": [
    "mm_df = pd.DataFrame()\n",
    "\n",
    "for i in pd.date_range('2016-11-01', '2016-12-01'):\n",
    "    \n",
    "    out = service.data().ga().get(\n",
    "    ids='ga:' + '86300562',\n",
    "    start_date=str(i.date()),\n",
    "    end_date=str(i.date()),\n",
    "    max_results=10000,\n",
    "    metrics='ga:sessions,ga:goal8Completions,ga:transactions,ga:transactionRevenue',\n",
    "    dimensions='ga:campaign',\n",
    "    filters='ga:sourceMedium==sailthru / email;' + ','.join(micromaster_email_list),\n",
    "    samplingLevel = 'HIGHER_PRECISION').execute()\n",
    "\n",
    "    col_list = []\n",
    "\n",
    "    for i in np.arange(0,len(out['columnHeaders'])):\n",
    "        line = re.sub('ga.', '', out['columnHeaders'][i][u'name'])\n",
    "        col_list.append(line)\n",
    "    try:\n",
    "        mm_df = mm_df.append(pd.DataFrame(out['rows'],columns=col_list))\n",
    "    except:\n",
    "        len(out) == 0"
   ]
  },
  {
   "cell_type": "code",
   "execution_count": 236,
   "metadata": {
    "collapsed": false
   },
   "outputs": [],
   "source": [
    "mm_df[['sessions','goal8Completions','transactions','transactionRevenue']] = mm_df[['sessions','goal8Completions','transactions','transactionRevenue']].apply(pd.to_numeric)\n",
    "mm_df = mm_df.groupby('campaign').sum()\n",
    "mm_df = mm_df.rename(columns={'goal8Completions':'enrollments'})"
   ]
  },
  {
   "cell_type": "code",
   "execution_count": 237,
   "metadata": {
    "collapsed": false
   },
   "outputs": [
    {
     "data": {
      "text/html": [
       "<div>\n",
       "<table border=\"1\" class=\"dataframe\">\n",
       "  <thead>\n",
       "    <tr style=\"text-align: right;\">\n",
       "      <th></th>\n",
       "      <th>sessions</th>\n",
       "      <th>enrollments</th>\n",
       "      <th>transactions</th>\n",
       "      <th>transactionRevenue</th>\n",
       "    </tr>\n",
       "    <tr>\n",
       "      <th>campaign</th>\n",
       "      <th></th>\n",
       "      <th></th>\n",
       "      <th></th>\n",
       "      <th></th>\n",
       "    </tr>\n",
       "  </thead>\n",
       "  <tbody>\n",
       "    <tr>\n",
       "      <th>MicroMastersLeadGenMembers-20161117</th>\n",
       "      <td>1377</td>\n",
       "      <td>68</td>\n",
       "      <td>3</td>\n",
       "      <td>442.923162</td>\n",
       "    </tr>\n",
       "    <tr>\n",
       "      <th>leadnurture-ai-20161117</th>\n",
       "      <td>405</td>\n",
       "      <td>45</td>\n",
       "      <td>0</td>\n",
       "      <td>0.000000</td>\n",
       "    </tr>\n",
       "  </tbody>\n",
       "</table>\n",
       "</div>"
      ],
      "text/plain": [
       "                                     sessions  enrollments  transactions  \\\n",
       "campaign                                                                   \n",
       "MicroMastersLeadGenMembers-20161117      1377           68             3   \n",
       "leadnurture-ai-20161117                   405           45             0   \n",
       "\n",
       "                                     transactionRevenue  \n",
       "campaign                                                 \n",
       "MicroMastersLeadGenMembers-20161117          442.923162  \n",
       "leadnurture-ai-20161117                        0.000000  "
      ]
     },
     "execution_count": 237,
     "metadata": {},
     "output_type": "execute_result"
    }
   ],
   "source": [
    "mm_df"
   ]
  },
  {
   "cell_type": "code",
   "execution_count": 198,
   "metadata": {
    "collapsed": true
   },
   "outputs": [],
   "source": [
    "mm_df.to_csv('./../script_output/bisupport-6_mm.csv')"
   ]
  },
  {
   "cell_type": "code",
   "execution_count": null,
   "metadata": {
    "collapsed": true
   },
   "outputs": [],
   "source": []
  }
 ],
 "metadata": {
  "anaconda-cloud": {},
  "kernelspec": {
   "display_name": "Python [conda root]",
   "language": "python",
   "name": "conda-root-py"
  },
  "language_info": {
   "codemirror_mode": {
    "name": "ipython",
    "version": 2
   },
   "file_extension": ".py",
   "mimetype": "text/x-python",
   "name": "python",
   "nbconvert_exporter": "python",
   "pygments_lexer": "ipython2",
   "version": "2.7.12"
  }
 },
 "nbformat": 4,
 "nbformat_minor": 1
}
