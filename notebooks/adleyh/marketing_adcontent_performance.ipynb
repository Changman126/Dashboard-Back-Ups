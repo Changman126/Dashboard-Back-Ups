{
 "cells": [
  {
   "cell_type": "code",
   "execution_count": 1,
   "metadata": {
    "collapsed": true
   },
   "outputs": [],
   "source": [
    "from __future__ import division\n",
    "import numpy as np\n",
    "import pandas as pd\n",
    "import StringIO\n",
    "from datetime import date, timedelta as td\n",
    "import xlsxwriter\n",
    "import os\n",
    "import json\n",
    "import urllib2\n",
    "import base64\n",
    "import csv"
   ]
  },
  {
   "cell_type": "code",
   "execution_count": 2,
   "metadata": {
    "collapsed": true
   },
   "outputs": [],
   "source": [
    "import argparse\n",
    "\n",
    "from apiclient.discovery import build\n",
    "import httplib2\n",
    "from oauth2client import client\n",
    "from oauth2client import file\n",
    "from oauth2client import tools"
   ]
  },
  {
   "cell_type": "code",
   "execution_count": 3,
   "metadata": {
    "collapsed": true
   },
   "outputs": [],
   "source": [
    "def get_service(api_name, api_version, scope, client_secrets_path):\n",
    "  \"\"\"Get a service that communicates to a Google API.\n",
    "\n",
    "  Args:\n",
    "    api_name: string The name of the api to connect to.\n",
    "    api_version: string The api version to connect to.\n",
    "    scope: A list of strings representing the auth scopes to authorize for the\n",
    "      connection.\n",
    "    client_secrets_path: string A path to a valid client secrets file.\n",
    "\n",
    "  Returns:\n",
    "    A service that is connected to the specified API.\n",
    "  \"\"\"\n",
    "  # Parse command-line arguments.\n",
    "  parser = argparse.ArgumentParser(\n",
    "      formatter_class=argparse.RawDescriptionHelpFormatter,\n",
    "      parents=[tools.argparser])\n",
    "  flags = parser.parse_args([])\n",
    "\n",
    "  # Set up a Flow object to be used if we need to authenticate.\n",
    "  flow = client.flow_from_clientsecrets(\n",
    "      client_secrets_path, scope=scope,\n",
    "      message=tools.message_if_missing(client_secrets_path))\n",
    "\n",
    "  # Prepare credentials, and authorize HTTP object with them.\n",
    "  # If the credentials don't exist or are invalid run through the native client\n",
    "  # flow. The Storage object will ensure that if successful the good\n",
    "  # credentials will get written back to a file.\n",
    "  storage = file.Storage(api_name + '.dat')\n",
    "  credentials = storage.get()\n",
    "  if credentials is None or credentials.invalid:\n",
    "    credentials = tools.run_flow(flow, storage, flags)\n",
    "  http = credentials.authorize(http=httplib2.Http())\n",
    "\n",
    "  # Build the service object.\n",
    "  service = build(api_name, api_version, http=http)\n",
    "\n",
    "  return service"
   ]
  },
  {
   "cell_type": "code",
   "execution_count": 4,
   "metadata": {
    "collapsed": true
   },
   "outputs": [],
   "source": [
    "scope = ['https://www.googleapis.com/auth/analytics.readonly']\n",
    "service = get_service('analytics', 'v3', scope, 'client_secrets.json')"
   ]
  },
  {
   "cell_type": "code",
   "execution_count": 7,
   "metadata": {
    "collapsed": true
   },
   "outputs": [],
   "source": [
    "def get_ga_data(service, config_dict):\n",
    "    \n",
    "    df = pd.DataFrame()\n",
    "    \n",
    "    for i in pd.date_range(start_date, end_date):\n",
    "        \n",
    "        out = service.data().ga().get(\n",
    "            ids='ga:' + '86300562',\n",
    "            start_date=str(i.date()),\n",
    "            end_date=str(i.date()),\n",
    "            max_results=10000,\n",
    "            metrics=','.join(config_dict['metric_list']),\n",
    "            dimensions=','.join(config_dict['dimension_list']),\n",
    "            filters=';'.join(config_dict['filter_list'])).execute()\n",
    "\n",
    "        col_list = []\n",
    "\n",
    "        for i in np.arange(0,len(out['columnHeaders'])):\n",
    "            line = re.sub('ga.', '', out['columnHeaders'][i][u'name'])\n",
    "            col_list.append(line)\n",
    "        try:\n",
    "            df = df.append(pd.DataFrame(out['rows'],columns=col_list))\n",
    "        except:\n",
    "            len(out) == 0\n",
    "            \n",
    "    return df"
   ]
  },
  {
   "cell_type": "code",
   "execution_count": 31,
   "metadata": {
    "collapsed": true
   },
   "outputs": [],
   "source": [
    "transactions_dict = {\n",
    "    'filter_list': [\n",
    "'ga:campaign==mitx',\n",
    "\n",
    "],\n",
    "    'dimension_list': [\n",
    "'ga:date',\n",
    "'ga:adContent',\n",
    "],\n",
    "    'metric_list': [\n",
    "'ga:sessions',\n",
    "'ga:transactions',\n",
    "'ga:totalValue'\n",
    "],\n",
    "}"
   ]
  },
  {
   "cell_type": "code",
   "execution_count": 32,
   "metadata": {
    "collapsed": true
   },
   "outputs": [],
   "source": [
    "enrollments_dict = {\n",
    "    'filter_list': [\n",
    "'ga:eventAction==edx.course.enrollment.activated',\n",
    "'ga:campaign==mitx',\n",
    "\n",
    "],\n",
    "    'dimension_list': [\n",
    "'ga:date',\n",
    "'ga:adContent'\n",
    "],\n",
    "    'metric_list': [\n",
    "'ga:uniqueEvents'\n",
    "],\n",
    "}"
   ]
  },
  {
   "cell_type": "code",
   "execution_count": 33,
   "metadata": {
    "collapsed": true
   },
   "outputs": [],
   "source": [
    "start_date = '2016-09-01'\n",
    "end_date = '2016-12-12'"
   ]
  },
  {
   "cell_type": "code",
   "execution_count": 34,
   "metadata": {
    "collapsed": false
   },
   "outputs": [],
   "source": [
    "enrollments_df = get_ga_data(service, enrollments_dict)\n",
    "transactions_df = get_ga_data(service, transactions_dict)"
   ]
  },
  {
   "cell_type": "code",
   "execution_count": 39,
   "metadata": {
    "collapsed": false,
    "scrolled": true
   },
   "outputs": [],
   "source": [
    "master_df = enrollments_df.merge(transactions_df, how = 'outer', on = ['date','adContent'])"
   ]
  },
  {
   "cell_type": "code",
   "execution_count": 47,
   "metadata": {
    "collapsed": false,
    "scrolled": true
   },
   "outputs": [],
   "source": [
    "master_df.to_csv('./../script_output/mit_marketing_perf_20160901_20161212.csv', encoding='utf-8')"
   ]
  },
  {
   "cell_type": "code",
   "execution_count": null,
   "metadata": {
    "collapsed": true
   },
   "outputs": [],
   "source": []
  }
 ],
 "metadata": {
  "anaconda-cloud": {},
  "kernelspec": {
   "display_name": "Python [conda root]",
   "language": "python",
   "name": "conda-root-py"
  },
  "language_info": {
   "codemirror_mode": {
    "name": "ipython",
    "version": 2
   },
   "file_extension": ".py",
   "mimetype": "text/x-python",
   "name": "python",
   "nbconvert_exporter": "python",
   "pygments_lexer": "ipython2",
   "version": "2.7.12"
  }
 },
 "nbformat": 4,
 "nbformat_minor": 1
}
