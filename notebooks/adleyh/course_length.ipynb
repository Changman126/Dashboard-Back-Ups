{
 "cells": [
  {
   "cell_type": "code",
   "execution_count": 1,
   "metadata": {
    "collapsed": true
   },
   "outputs": [],
   "source": [
    "import pandas as pd\n",
    "import numpy as np\n",
    "import vertica_python\n",
    "import os\n",
    "import seaborn as sns"
   ]
  },
  {
   "cell_type": "code",
   "execution_count": 2,
   "metadata": {
    "collapsed": true
   },
   "outputs": [],
   "source": [
    "%matplotlib inline"
   ]
  },
  {
   "cell_type": "code",
   "execution_count": 3,
   "metadata": {
    "collapsed": true
   },
   "outputs": [],
   "source": [
    "username = os.getenv('VERTICA_USERNAME')\n",
    "password = os.getenv('VERTICA_PASSWORD')\n",
    "conn_info = {'host': 'warehouse.analytics.edx.org',\n",
    "             'port': 5433,\n",
    "             'user': username,\n",
    "             'password': password,\n",
    "             'database': 'warehouse',\n",
    "             'read_timeout': 600,\n",
    "             'unicode_error': 'strict',\n",
    "             'ssl': False}"
   ]
  },
  {
   "cell_type": "code",
   "execution_count": 9,
   "metadata": {
    "collapsed": true
   },
   "outputs": [],
   "source": [
    "query = \"\"\"\n",
    "\n",
    "\n",
    "SELECT\n",
    "\ta.user_id,\n",
    "\ta.course_id,\n",
    "\te.current_enrollment_mode,\n",
    "\tYEAR(c.course_start_date) AS course_year,\n",
    "\td.vtr,\n",
    "\tCASE WHEN passed_timestamp IS NOT NULL THEN 1 ELSE 0 END AS has_completed,\n",
    "\tDATEDIFF('day', DATE(content_availability_date), DATE(passed_timestamp)) AS time_to_complete\n",
    "FROM \n",
    "\tbusiness_intelligence.course_completion_user a \n",
    "JOIN \n",
    "\tbusiness_intelligence.user_content_availability_date b \n",
    "ON \n",
    "\ta.user_id = b.user_id\n",
    "AND \n",
    "\ta.course_id = b.course_id\n",
    "AND \n",
    "\tenroll_group = 'enroll_before_course_start'\n",
    "join \n",
    "\tbusiness_intelligence.course_master c\n",
    "on \n",
    "\ta.course_id = c.course_id\n",
    "AND \n",
    "\tc.pacing_type = 'instructor_paced'\n",
    "AND\n",
    "\tYEAR(c.course_start_date) = 2017\n",
    "JOIN \n",
    "\tbusiness_intelligence.course_stats_summary d\n",
    "ON \n",
    "\ta.course_id = d.course_id\n",
    "JOIN\n",
    "\tproduction.d_user_course e\n",
    "ON\n",
    "\ta.user_id = e.user_id\n",
    "AND\n",
    "\ta.course_id = e.course_id\n",
    "\n",
    "\n",
    "\"\"\""
   ]
  },
  {
   "cell_type": "code",
   "execution_count": 10,
   "metadata": {
    "collapsed": false
   },
   "outputs": [],
   "source": [
    "connection = vertica_python.connect(**conn_info)\n",
    "\n",
    "cur = connection.cursor('dict')\n",
    "\n",
    "cur.execute(query)\n",
    "extract = cur.fetchall()\n",
    "df = pd.DataFrame(extract)\n",
    "\n",
    "connection.close()"
   ]
  },
  {
   "cell_type": "code",
   "execution_count": 11,
   "metadata": {
    "collapsed": false
   },
   "outputs": [
    {
     "data": {
      "text/html": [
       "<div>\n",
       "<style>\n",
       "    .dataframe thead tr:only-child th {\n",
       "        text-align: right;\n",
       "    }\n",
       "\n",
       "    .dataframe thead th {\n",
       "        text-align: left;\n",
       "    }\n",
       "\n",
       "    .dataframe tbody tr th {\n",
       "        vertical-align: top;\n",
       "    }\n",
       "</style>\n",
       "<table border=\"1\" class=\"dataframe\">\n",
       "  <thead>\n",
       "    <tr style=\"text-align: right;\">\n",
       "      <th></th>\n",
       "      <th>user_id</th>\n",
       "      <th>course_id</th>\n",
       "      <th>current_enrollment_mode</th>\n",
       "      <th>course_year</th>\n",
       "      <th>vtr</th>\n",
       "      <th>has_completed</th>\n",
       "      <th>time_to_complete</th>\n",
       "    </tr>\n",
       "  </thead>\n",
       "  <tbody>\n",
       "    <tr>\n",
       "      <th>0</th>\n",
       "      <td>4671</td>\n",
       "      <td>course-v1:ACCA+FA1-MA1.X+1T2017</td>\n",
       "      <td>audit</td>\n",
       "      <td>2017</td>\n",
       "      <td>0E-18</td>\n",
       "      <td>1</td>\n",
       "      <td>1.0</td>\n",
       "    </tr>\n",
       "    <tr>\n",
       "      <th>1</th>\n",
       "      <td>37564</td>\n",
       "      <td>course-v1:ACCA+FA1-MA1.X+1T2017</td>\n",
       "      <td>audit</td>\n",
       "      <td>2017</td>\n",
       "      <td>0E-18</td>\n",
       "      <td>0</td>\n",
       "      <td>NaN</td>\n",
       "    </tr>\n",
       "    <tr>\n",
       "      <th>2</th>\n",
       "      <td>55099</td>\n",
       "      <td>course-v1:ACCA+FA1-MA1.X+1T2017</td>\n",
       "      <td>audit</td>\n",
       "      <td>2017</td>\n",
       "      <td>0E-18</td>\n",
       "      <td>0</td>\n",
       "      <td>NaN</td>\n",
       "    </tr>\n",
       "    <tr>\n",
       "      <th>3</th>\n",
       "      <td>55264</td>\n",
       "      <td>course-v1:ACCA+FA1-MA1.X+1T2017</td>\n",
       "      <td>audit</td>\n",
       "      <td>2017</td>\n",
       "      <td>0E-18</td>\n",
       "      <td>1</td>\n",
       "      <td>6.0</td>\n",
       "    </tr>\n",
       "    <tr>\n",
       "      <th>4</th>\n",
       "      <td>112703</td>\n",
       "      <td>course-v1:ACCA+FA1-MA1.X+1T2017</td>\n",
       "      <td>audit</td>\n",
       "      <td>2017</td>\n",
       "      <td>0E-18</td>\n",
       "      <td>1</td>\n",
       "      <td>104.0</td>\n",
       "    </tr>\n",
       "  </tbody>\n",
       "</table>\n",
       "</div>"
      ],
      "text/plain": [
       "   user_id                        course_id current_enrollment_mode  \\\n",
       "0     4671  course-v1:ACCA+FA1-MA1.X+1T2017                   audit   \n",
       "1    37564  course-v1:ACCA+FA1-MA1.X+1T2017                   audit   \n",
       "2    55099  course-v1:ACCA+FA1-MA1.X+1T2017                   audit   \n",
       "3    55264  course-v1:ACCA+FA1-MA1.X+1T2017                   audit   \n",
       "4   112703  course-v1:ACCA+FA1-MA1.X+1T2017                   audit   \n",
       "\n",
       "   course_year    vtr  has_completed  time_to_complete  \n",
       "0         2017  0E-18              1               1.0  \n",
       "1         2017  0E-18              0               NaN  \n",
       "2         2017  0E-18              0               NaN  \n",
       "3         2017  0E-18              1               6.0  \n",
       "4         2017  0E-18              1             104.0  "
      ]
     },
     "execution_count": 11,
     "metadata": {},
     "output_type": "execute_result"
    }
   ],
   "source": [
    "df.head()"
   ]
  },
  {
   "cell_type": "code",
   "execution_count": 15,
   "metadata": {
    "collapsed": false
   },
   "outputs": [],
   "source": [
    "df_median = df.groupby('course_id').quantile(0.5)\n",
    "df_counts = df.groupby('course_id').count()\n",
    "df_sum = df.groupby('course_id').sum()"
   ]
  },
  {
   "cell_type": "code",
   "execution_count": 38,
   "metadata": {
    "collapsed": false
   },
   "outputs": [],
   "source": [
    "df_merged = df_sum.reset_index().merge(df_median.reset_index().merge(df_counts.reset_index(), \n",
    "                              how = 'inner', \n",
    "                              on = 'course_id',\n",
    "                             suffixes = ['_median', '_counts']), \n",
    "                           how = 'inner', \n",
    "                           on = 'course_id')"
   ]
  },
  {
   "cell_type": "code",
   "execution_count": 39,
   "metadata": {
    "collapsed": false
   },
   "outputs": [
    {
     "data": {
      "text/html": [
       "<div>\n",
       "<style>\n",
       "    .dataframe thead tr:only-child th {\n",
       "        text-align: right;\n",
       "    }\n",
       "\n",
       "    .dataframe thead th {\n",
       "        text-align: left;\n",
       "    }\n",
       "\n",
       "    .dataframe tbody tr th {\n",
       "        vertical-align: top;\n",
       "    }\n",
       "</style>\n",
       "<table border=\"1\" class=\"dataframe\">\n",
       "  <thead>\n",
       "    <tr style=\"text-align: right;\">\n",
       "      <th></th>\n",
       "      <th>course_id</th>\n",
       "      <th>user_id</th>\n",
       "      <th>course_year</th>\n",
       "      <th>has_completed</th>\n",
       "      <th>time_to_complete</th>\n",
       "      <th>course_year_median</th>\n",
       "      <th>has_completed_median</th>\n",
       "      <th>time_to_complete_median</th>\n",
       "      <th>user_id_median</th>\n",
       "      <th>user_id_counts</th>\n",
       "      <th>current_enrollment_mode</th>\n",
       "      <th>course_year_counts</th>\n",
       "      <th>vtr</th>\n",
       "      <th>has_completed_counts</th>\n",
       "      <th>time_to_complete_counts</th>\n",
       "    </tr>\n",
       "  </thead>\n",
       "  <tbody>\n",
       "    <tr>\n",
       "      <th>0</th>\n",
       "      <td>course-v1:ACCA+FA1-MA1.X+1T2017</td>\n",
       "      <td>9058448365</td>\n",
       "      <td>1678144</td>\n",
       "      <td>604</td>\n",
       "      <td>27324.0</td>\n",
       "      <td>2017.0</td>\n",
       "      <td>1.0</td>\n",
       "      <td>34.0</td>\n",
       "      <td>12514498.5</td>\n",
       "      <td>832</td>\n",
       "      <td>832</td>\n",
       "      <td>832</td>\n",
       "      <td>832</td>\n",
       "      <td>832</td>\n",
       "      <td>604</td>\n",
       "    </tr>\n",
       "    <tr>\n",
       "      <th>1</th>\n",
       "      <td>course-v1:ACCA+FA1-MA1.X+2T2017</td>\n",
       "      <td>8535264779</td>\n",
       "      <td>1397781</td>\n",
       "      <td>534</td>\n",
       "      <td>16888.0</td>\n",
       "      <td>2017.0</td>\n",
       "      <td>1.0</td>\n",
       "      <td>35.0</td>\n",
       "      <td>13793631.0</td>\n",
       "      <td>693</td>\n",
       "      <td>693</td>\n",
       "      <td>693</td>\n",
       "      <td>693</td>\n",
       "      <td>693</td>\n",
       "      <td>534</td>\n",
       "    </tr>\n",
       "    <tr>\n",
       "      <th>2</th>\n",
       "      <td>course-v1:ACCA+FA1-MA1.X+3T2017</td>\n",
       "      <td>6456363278</td>\n",
       "      <td>1012534</td>\n",
       "      <td>369</td>\n",
       "      <td>4252.0</td>\n",
       "      <td>2017.0</td>\n",
       "      <td>1.0</td>\n",
       "      <td>9.0</td>\n",
       "      <td>14655847.5</td>\n",
       "      <td>502</td>\n",
       "      <td>502</td>\n",
       "      <td>502</td>\n",
       "      <td>502</td>\n",
       "      <td>502</td>\n",
       "      <td>369</td>\n",
       "    </tr>\n",
       "    <tr>\n",
       "      <th>3</th>\n",
       "      <td>course-v1:ACCA+FA1.X+1SP2017</td>\n",
       "      <td>8105418</td>\n",
       "      <td>2017</td>\n",
       "      <td>1</td>\n",
       "      <td>-35.0</td>\n",
       "      <td>2017.0</td>\n",
       "      <td>1.0</td>\n",
       "      <td>-35.0</td>\n",
       "      <td>8105418.0</td>\n",
       "      <td>1</td>\n",
       "      <td>1</td>\n",
       "      <td>1</td>\n",
       "      <td>1</td>\n",
       "      <td>1</td>\n",
       "      <td>1</td>\n",
       "    </tr>\n",
       "    <tr>\n",
       "      <th>4</th>\n",
       "      <td>course-v1:ACCA+FA2-MA2.X+1T2017</td>\n",
       "      <td>3189985727</td>\n",
       "      <td>592998</td>\n",
       "      <td>152</td>\n",
       "      <td>10145.0</td>\n",
       "      <td>2017.0</td>\n",
       "      <td>1.0</td>\n",
       "      <td>56.5</td>\n",
       "      <td>12307358.5</td>\n",
       "      <td>294</td>\n",
       "      <td>294</td>\n",
       "      <td>294</td>\n",
       "      <td>294</td>\n",
       "      <td>294</td>\n",
       "      <td>152</td>\n",
       "    </tr>\n",
       "  </tbody>\n",
       "</table>\n",
       "</div>"
      ],
      "text/plain": [
       "                         course_id     user_id  course_year  has_completed  \\\n",
       "0  course-v1:ACCA+FA1-MA1.X+1T2017  9058448365      1678144            604   \n",
       "1  course-v1:ACCA+FA1-MA1.X+2T2017  8535264779      1397781            534   \n",
       "2  course-v1:ACCA+FA1-MA1.X+3T2017  6456363278      1012534            369   \n",
       "3     course-v1:ACCA+FA1.X+1SP2017     8105418         2017              1   \n",
       "4  course-v1:ACCA+FA2-MA2.X+1T2017  3189985727       592998            152   \n",
       "\n",
       "   time_to_complete  course_year_median  has_completed_median  \\\n",
       "0           27324.0              2017.0                   1.0   \n",
       "1           16888.0              2017.0                   1.0   \n",
       "2            4252.0              2017.0                   1.0   \n",
       "3             -35.0              2017.0                   1.0   \n",
       "4           10145.0              2017.0                   1.0   \n",
       "\n",
       "   time_to_complete_median  user_id_median  user_id_counts  \\\n",
       "0                     34.0      12514498.5             832   \n",
       "1                     35.0      13793631.0             693   \n",
       "2                      9.0      14655847.5             502   \n",
       "3                    -35.0       8105418.0               1   \n",
       "4                     56.5      12307358.5             294   \n",
       "\n",
       "   current_enrollment_mode  course_year_counts  vtr  has_completed_counts  \\\n",
       "0                      832                 832  832                   832   \n",
       "1                      693                 693  693                   693   \n",
       "2                      502                 502  502                   502   \n",
       "3                        1                   1    1                     1   \n",
       "4                      294                 294  294                   294   \n",
       "\n",
       "   time_to_complete_counts  \n",
       "0                      604  \n",
       "1                      534  \n",
       "2                      369  \n",
       "3                        1  \n",
       "4                      152  "
      ]
     },
     "execution_count": 39,
     "metadata": {},
     "output_type": "execute_result"
    }
   ],
   "source": [
    "df_merged.head()"
   ]
  },
  {
   "cell_type": "code",
   "execution_count": 40,
   "metadata": {
    "collapsed": true
   },
   "outputs": [],
   "source": [
    "df_merged['completion_rate'] = df_merged['has_completed']*100.0/df_merged['user_id_counts']\n"
   ]
  },
  {
   "cell_type": "code",
   "execution_count": 46,
   "metadata": {
    "collapsed": false
   },
   "outputs": [
    {
     "data": {
      "text/plain": [
       "<seaborn.axisgrid.FacetGrid at 0x132d30320>"
      ]
     },
     "execution_count": 46,
     "metadata": {},
     "output_type": "execute_result"
    },
    {
     "data": {
      "image/png": "[encoded data removed]",
      "text/plain": [
       "<matplotlib.figure.Figure at 0x132d30080>"
      ]
     },
     "metadata": {},
     "output_type": "display_data"
    }
   ],
   "source": [
    "sns.lmplot(data = df_merged[df_merged['user_id_counts'] > 200],\n",
    "          x = 'time_to_complete_median',\n",
    "          y = 'completion_rate')"
   ]
  },
  {
   "cell_type": "code",
   "execution_count": null,
   "metadata": {
    "collapsed": true
   },
   "outputs": [],
   "source": []
  }
 ],
 "metadata": {
  "kernelspec": {
   "display_name": "Python 3",
   "language": "python",
   "name": "python3"
  },
  "language_info": {
   "codemirror_mode": {
    "name": "ipython",
    "version": 3
   },
   "file_extension": ".py",
   "mimetype": "text/x-python",
   "name": "python",
   "nbconvert_exporter": "python",
   "pygments_lexer": "ipython3",
   "version": "3.6.0"
  }
 },
 "nbformat": 4,
 "nbformat_minor": 2
}
