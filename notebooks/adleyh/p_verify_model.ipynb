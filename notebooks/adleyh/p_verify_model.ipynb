{
 "cells": [
  {
   "cell_type": "code",
   "execution_count": 3,
   "metadata": {
    "collapsed": true
   },
   "outputs": [],
   "source": [
    "#%matplotlib inline\n",
    "import pandas as pd\n",
    "import numpy as np\n",
    "#from fbprophet import Prophet\n",
    "import math\n",
    "import vertica_python\n",
    "import os\n",
    "import getpass;\n",
    "%matplotlib inline\n",
    "import seaborn as sns"
   ]
  },
  {
   "cell_type": "code",
   "execution_count": 4,
   "metadata": {
    "collapsed": true
   },
   "outputs": [],
   "source": [
    "def warn(*args, **kwargs):\n",
    "    pass\n",
    "import warnings\n",
    "warnings.warn = warn"
   ]
  },
  {
   "cell_type": "code",
   "execution_count": 5,
   "metadata": {
    "collapsed": false
   },
   "outputs": [
    {
     "name": "stdout",
     "output_type": "stream",
     "text": [
      "password: ········\n"
     ]
    }
   ],
   "source": [
    "password = getpass.getpass('password: ')"
   ]
  },
  {
   "cell_type": "code",
   "execution_count": 6,
   "metadata": {
    "collapsed": true
   },
   "outputs": [],
   "source": [
    "# username = os.getenv('VERTICA_USERNAME')\n",
    "# password = os.getenv('VERTICA_PASSWORD')\n",
    "conn_info = {'host': 'warehouse.analytics.edx.org',\n",
    "             'port': 5433,\n",
    "             'user': 'ahemphill',\n",
    "             'password': password,\n",
    "             'database': 'warehouse',\n",
    "             'read_timeout': 600,\n",
    "             'unicode_error': 'strict',\n",
    "             'ssl': False}"
   ]
  },
  {
   "cell_type": "code",
   "execution_count": 7,
   "metadata": {
    "collapsed": true
   },
   "outputs": [],
   "source": [
    "p_verify_positive_query = \"\"\"\n",
    "\n",
    "select * \n",
    "from ahemphill.p_verify_model_master\n",
    "where date >= '2017-01-01'\n",
    "AND has_verified = 1\n",
    "AND cumulative_is_active > 0\n",
    "ORDER BY RANDOMINT(200000)\n",
    "LIMIT 200000\n",
    "\n",
    "\"\"\"\n",
    "    \n",
    "p_verify_negative_query = \"\"\"\n",
    "\n",
    "select * \n",
    "from ahemphill.p_verify_model_master\n",
    "where date >= '2017-01-01'\n",
    "AND has_verified = 0\n",
    "AND cumulative_is_active > 0\n",
    "ORDER BY RANDOMINT(200000)\n",
    "LIMIT 100000\n",
    "\n",
    "\"\"\"\n",
    "\n",
    "    \n",
    "p_verify_overall_query = \"\"\"\n",
    "\n",
    "select * \n",
    "from ahemphill.p_verify_model_master\n",
    "where date >= '2017-01-01'\n",
    "ORDER BY RANDOMINT(200000)\n",
    "LIMIT 100000\n",
    "\n",
    "\"\"\""
   ]
  },
  {
   "cell_type": "code",
   "execution_count": 102,
   "metadata": {
    "collapsed": true
   },
   "outputs": [],
   "source": [
    "p_verify_eval_query = \"\"\"\n",
    "\n",
    "SELECT\n",
    "\t*\n",
    "FROM\n",
    "\tahemphill.p_verify_model_master_last_day\n",
    "WHERE\n",
    "\tlatest_date >= CURRENT_DATE()-7\n",
    "\n",
    "\"\"\""
   ]
  },
  {
   "cell_type": "code",
   "execution_count": 118,
   "metadata": {
    "collapsed": true
   },
   "outputs": [],
   "source": [
    "p_verify_baseline_query = \"\"\"\n",
    "\n",
    "SELECT\n",
    "\t*\n",
    "FROM\n",
    "\tahemphill.p_verify_model_master_last_day\n",
    "WHERE\n",
    "\tlatest_date BETWEEN '2017-07-01' AND '2017-07-08'\n",
    "\n",
    "\"\"\""
   ]
  },
  {
   "cell_type": "code",
   "execution_count": 8,
   "metadata": {
    "collapsed": true
   },
   "outputs": [],
   "source": [
    "connection = vertica_python.connect(**conn_info)\n",
    "\n",
    "cur = connection.cursor('dict')\n",
    "\n",
    "cur.execute(p_verify_positive_query)\n",
    "extract = cur.fetchall()\n",
    "df_positive = pd.DataFrame(extract)\n",
    "\n",
    "cur.execute(p_verify_negative_query)\n",
    "extract = cur.fetchall()\n",
    "df_negative = pd.DataFrame(extract)\n",
    "\n",
    "connection.close()"
   ]
  },
  {
   "cell_type": "code",
   "execution_count": 122,
   "metadata": {
    "collapsed": true
   },
   "outputs": [],
   "source": [
    "connection = vertica_python.connect(**conn_info)\n",
    "\n",
    "cur = connection.cursor('dict')\n",
    "\n",
    "cur.execute(p_verify_eval_query)\n",
    "extract = cur.fetchall()\n",
    "df_eval = pd.DataFrame(extract)\n",
    "\n",
    "connection.close()"
   ]
  },
  {
   "cell_type": "code",
   "execution_count": 123,
   "metadata": {
    "collapsed": true
   },
   "outputs": [],
   "source": [
    "connection = vertica_python.connect(**conn_info)\n",
    "\n",
    "cur = connection.cursor('dict')\n",
    "\n",
    "cur.execute(p_verify_baseline_query)\n",
    "extract = cur.fetchall()\n",
    "df_baseline = pd.DataFrame(extract)\n",
    "\n",
    "connection.close()"
   ]
  },
  {
   "cell_type": "code",
   "execution_count": 125,
   "metadata": {
    "collapsed": false
   },
   "outputs": [
    {
     "data": {
      "text/plain": [
       "(388221, 50)"
      ]
     },
     "execution_count": 125,
     "metadata": {},
     "output_type": "execute_result"
    }
   ],
   "source": [
    "df_eval.shape"
   ]
  },
  {
   "cell_type": "code",
   "execution_count": 126,
   "metadata": {
    "collapsed": false
   },
   "outputs": [
    {
     "data": {
      "text/plain": [
       "(152835, 50)"
      ]
     },
     "execution_count": 126,
     "metadata": {},
     "output_type": "execute_result"
    }
   ],
   "source": [
    "df_baseline.shape"
   ]
  },
  {
   "cell_type": "code",
   "execution_count": 10,
   "metadata": {
    "collapsed": true
   },
   "outputs": [],
   "source": [
    "df = pd.concat([df_positive, df_negative])"
   ]
  },
  {
   "cell_type": "code",
   "execution_count": 17,
   "metadata": {
    "collapsed": false
   },
   "outputs": [
    {
     "data": {
      "text/html": [
       "<div>\n",
       "<table border=\"1\" class=\"dataframe\">\n",
       "  <thead>\n",
       "    <tr style=\"text-align: right;\">\n",
       "      <th></th>\n",
       "      <th>date</th>\n",
       "      <th>user_id</th>\n",
       "      <th>course_id</th>\n",
       "      <th>week</th>\n",
       "      <th>is_active</th>\n",
       "      <th>cnt_active_activity</th>\n",
       "      <th>is_engaged</th>\n",
       "      <th>cnt_engaged_activity</th>\n",
       "      <th>is_engaged_video</th>\n",
       "      <th>cnt_video_activity</th>\n",
       "      <th>...</th>\n",
       "      <th>cumulative_is_active</th>\n",
       "      <th>cumulative_cnt_active_activity</th>\n",
       "      <th>cumulative_is_engaged</th>\n",
       "      <th>cumulative_cnt_engaged_activity</th>\n",
       "      <th>cumulative_is_engaged_video</th>\n",
       "      <th>cumulative_cnt_video_activity</th>\n",
       "      <th>cumulative_is_engaged_problem</th>\n",
       "      <th>cumulative_cnt_problem_activity</th>\n",
       "      <th>cumulative_is_engaged_forum</th>\n",
       "      <th>cumulative_cnt_forum_activity</th>\n",
       "    </tr>\n",
       "  </thead>\n",
       "  <tbody>\n",
       "    <tr>\n",
       "      <th>0</th>\n",
       "      <td>2017-07-09</td>\n",
       "      <td>13920424</td>\n",
       "      <td>course-v1:Microsoft+DAT205x+3T2016</td>\n",
       "      <td>week_1</td>\n",
       "      <td>1</td>\n",
       "      <td>547</td>\n",
       "      <td>1</td>\n",
       "      <td>22</td>\n",
       "      <td>1</td>\n",
       "      <td>15</td>\n",
       "      <td>...</td>\n",
       "      <td>4</td>\n",
       "      <td>2423</td>\n",
       "      <td>4</td>\n",
       "      <td>128</td>\n",
       "      <td>4</td>\n",
       "      <td>41</td>\n",
       "      <td>4</td>\n",
       "      <td>87</td>\n",
       "      <td>0</td>\n",
       "      <td>0</td>\n",
       "    </tr>\n",
       "    <tr>\n",
       "      <th>1</th>\n",
       "      <td>2017-03-02</td>\n",
       "      <td>7210192</td>\n",
       "      <td>course-v1:ColumbiaX+DS101X+1T2016</td>\n",
       "      <td>week_1</td>\n",
       "      <td>1</td>\n",
       "      <td>5</td>\n",
       "      <td>0</td>\n",
       "      <td>0</td>\n",
       "      <td>0</td>\n",
       "      <td>0</td>\n",
       "      <td>...</td>\n",
       "      <td>1</td>\n",
       "      <td>5</td>\n",
       "      <td>0</td>\n",
       "      <td>0</td>\n",
       "      <td>0</td>\n",
       "      <td>0</td>\n",
       "      <td>0</td>\n",
       "      <td>0</td>\n",
       "      <td>0</td>\n",
       "      <td>0</td>\n",
       "    </tr>\n",
       "    <tr>\n",
       "      <th>2</th>\n",
       "      <td>2017-02-22</td>\n",
       "      <td>102424</td>\n",
       "      <td>course-v1:Microsoft+DEV204x+1T2017</td>\n",
       "      <td>week_1</td>\n",
       "      <td>1</td>\n",
       "      <td>1</td>\n",
       "      <td>0</td>\n",
       "      <td>0</td>\n",
       "      <td>0</td>\n",
       "      <td>0</td>\n",
       "      <td>...</td>\n",
       "      <td>3</td>\n",
       "      <td>429</td>\n",
       "      <td>2</td>\n",
       "      <td>26</td>\n",
       "      <td>2</td>\n",
       "      <td>18</td>\n",
       "      <td>1</td>\n",
       "      <td>7</td>\n",
       "      <td>1</td>\n",
       "      <td>1</td>\n",
       "    </tr>\n",
       "    <tr>\n",
       "      <th>3</th>\n",
       "      <td>2017-06-26</td>\n",
       "      <td>13237749</td>\n",
       "      <td>course-v1:Microsoft+DAT203.3x+2T2017</td>\n",
       "      <td>week_2</td>\n",
       "      <td>1</td>\n",
       "      <td>494</td>\n",
       "      <td>1</td>\n",
       "      <td>74</td>\n",
       "      <td>1</td>\n",
       "      <td>60</td>\n",
       "      <td>...</td>\n",
       "      <td>7</td>\n",
       "      <td>1411</td>\n",
       "      <td>5</td>\n",
       "      <td>207</td>\n",
       "      <td>3</td>\n",
       "      <td>185</td>\n",
       "      <td>5</td>\n",
       "      <td>22</td>\n",
       "      <td>0</td>\n",
       "      <td>0</td>\n",
       "    </tr>\n",
       "    <tr>\n",
       "      <th>4</th>\n",
       "      <td>2017-02-21</td>\n",
       "      <td>9896276</td>\n",
       "      <td>course-v1:IDBx+IDB6.1x+1T2017</td>\n",
       "      <td>week_1</td>\n",
       "      <td>1</td>\n",
       "      <td>31</td>\n",
       "      <td>0</td>\n",
       "      <td>0</td>\n",
       "      <td>0</td>\n",
       "      <td>0</td>\n",
       "      <td>...</td>\n",
       "      <td>1</td>\n",
       "      <td>31</td>\n",
       "      <td>0</td>\n",
       "      <td>0</td>\n",
       "      <td>0</td>\n",
       "      <td>0</td>\n",
       "      <td>0</td>\n",
       "      <td>0</td>\n",
       "      <td>0</td>\n",
       "      <td>0</td>\n",
       "    </tr>\n",
       "  </tbody>\n",
       "</table>\n",
       "<p>5 rows × 51 columns</p>\n",
       "</div>"
      ],
      "text/plain": [
       "         date   user_id                             course_id    week  \\\n",
       "0  2017-07-09  13920424    course-v1:Microsoft+DAT205x+3T2016  week_1   \n",
       "1  2017-03-02   7210192     course-v1:ColumbiaX+DS101X+1T2016  week_1   \n",
       "2  2017-02-22    102424    course-v1:Microsoft+DEV204x+1T2017  week_1   \n",
       "3  2017-06-26  13237749  course-v1:Microsoft+DAT203.3x+2T2017  week_2   \n",
       "4  2017-02-21   9896276         course-v1:IDBx+IDB6.1x+1T2017  week_1   \n",
       "\n",
       "   is_active  cnt_active_activity  is_engaged  cnt_engaged_activity  \\\n",
       "0          1                  547           1                    22   \n",
       "1          1                    5           0                     0   \n",
       "2          1                    1           0                     0   \n",
       "3          1                  494           1                    74   \n",
       "4          1                   31           0                     0   \n",
       "\n",
       "   is_engaged_video  cnt_video_activity              ...               \\\n",
       "0                 1                  15              ...                \n",
       "1                 0                   0              ...                \n",
       "2                 0                   0              ...                \n",
       "3                 1                  60              ...                \n",
       "4                 0                   0              ...                \n",
       "\n",
       "   cumulative_is_active  cumulative_cnt_active_activity  \\\n",
       "0                     4                            2423   \n",
       "1                     1                               5   \n",
       "2                     3                             429   \n",
       "3                     7                            1411   \n",
       "4                     1                              31   \n",
       "\n",
       "   cumulative_is_engaged  cumulative_cnt_engaged_activity  \\\n",
       "0                      4                              128   \n",
       "1                      0                                0   \n",
       "2                      2                               26   \n",
       "3                      5                              207   \n",
       "4                      0                                0   \n",
       "\n",
       "  cumulative_is_engaged_video cumulative_cnt_video_activity  \\\n",
       "0                           4                            41   \n",
       "1                           0                             0   \n",
       "2                           2                            18   \n",
       "3                           3                           185   \n",
       "4                           0                             0   \n",
       "\n",
       "  cumulative_is_engaged_problem  cumulative_cnt_problem_activity  \\\n",
       "0                             4                               87   \n",
       "1                             0                                0   \n",
       "2                             1                                7   \n",
       "3                             5                               22   \n",
       "4                             0                                0   \n",
       "\n",
       "   cumulative_is_engaged_forum cumulative_cnt_forum_activity  \n",
       "0                            0                             0  \n",
       "1                            0                             0  \n",
       "2                            1                             1  \n",
       "3                            0                             0  \n",
       "4                            0                             0  \n",
       "\n",
       "[5 rows x 51 columns]"
      ]
     },
     "execution_count": 17,
     "metadata": {},
     "output_type": "execute_result"
    }
   ],
   "source": [
    "df.head()"
   ]
  },
  {
   "cell_type": "code",
   "execution_count": 12,
   "metadata": {
    "collapsed": false
   },
   "outputs": [
    {
     "data": {
      "text/plain": [
       "72667.0"
      ]
     },
     "execution_count": 12,
     "metadata": {},
     "output_type": "execute_result"
    }
   ],
   "source": [
    "df.sum()['has_verified']"
   ]
  },
  {
   "cell_type": "code",
   "execution_count": 47,
   "metadata": {
    "collapsed": true
   },
   "outputs": [],
   "source": [
    "categorical_columns = [\n",
    "    'pacing_type',\n",
    "    'course_subject',\n",
    "#     'course_partner',\n",
    "    'level_type',\n",
    "#     'user_last_location_country_code',\n",
    "    'user_level_of_education',\n",
    "    'user_gender',\n",
    "    'course_seat_price',\n",
    "    'course_run_number',\n",
    "    'year_registered'\n",
    "]\n",
    "\n",
    "numeric_columns = [\n",
    "    \n",
    "'is_active',\n",
    "'cnt_active_activity',\n",
    "'is_engaged',\n",
    "'cnt_engaged_activity',\n",
    "'is_engaged_video',\n",
    "'cnt_video_activity',\n",
    "'is_engaged_problem',\n",
    "'cnt_problem_activity',\n",
    "'is_engaged_forum',\n",
    "'cnt_forum_activity',\n",
    "'days_until_verification_deadline',\n",
    "'cum_sum_course_vtr',\n",
    "'days_until_verification_deadline',\n",
    "'days_from_content_availability',\n",
    "'cnt_prior_enrolls',\n",
    "'cnt_2017_enrolls',\n",
    "'cnt_2016_enrolls',\n",
    "'cnt_2015_enrolls',\n",
    "'cnt_prior_verifs',\n",
    "'cnt_2017_verifs',\n",
    "'cnt_2016_verifs',\n",
    "'cnt_2015_verifs',\n",
    "'cnt_prior_passes',\n",
    "'cumulative_is_active',\n",
    "'cumulative_cnt_active_activity',\n",
    "'cumulative_is_engaged',\n",
    "'cumulative_cnt_engaged_activity',\n",
    "'cumulative_is_engaged_video',\n",
    "'cumulative_cnt_video_activity',\n",
    "'cumulative_is_engaged_problem',\n",
    "'cumulative_cnt_problem_activity',\n",
    "'cumulative_is_engaged_forum',\n",
    "'cumulative_cnt_forum_activity' \n",
    "]"
   ]
  },
  {
   "cell_type": "code",
   "execution_count": 19,
   "metadata": {
    "collapsed": true
   },
   "outputs": [],
   "source": [
    "from sklearn.ensemble import RandomForestClassifier, GradientBoostingClassifier\n",
    "from sklearn.model_selection import train_test_split\n",
    "from sklearn.metrics import confusion_matrix\n",
    "from sklearn import metrics"
   ]
  },
  {
   "cell_type": "code",
   "execution_count": 20,
   "metadata": {
    "collapsed": true
   },
   "outputs": [],
   "source": [
    "def new_model(df, model_type='rf'):\n",
    "    \n",
    "    X = pd.get_dummies(df[categorical_columns])\n",
    "    \n",
    "    for i in numeric_columns:\n",
    "        X[i] = df[i]\n",
    "    \n",
    "    X = X.fillna(-1)\n",
    "\n",
    "    y = df['has_verified']\n",
    "\n",
    "    if (model_type=='rf'):\n",
    "        model = RandomForestClassifier(n_estimators = 100)\n",
    "    elif (model_type=='gbdt'):\n",
    "        model = GradientBoostingClassifier()\n",
    "    \n",
    "    return X, y, model"
   ]
  },
  {
   "cell_type": "code",
   "execution_count": 21,
   "metadata": {
    "collapsed": true
   },
   "outputs": [],
   "source": [
    "def train_and_evaluate_model(X, y, model):\n",
    "    \n",
    "    ## split train and test data\n",
    "    X_train, X_test, y_train, y_test = train_test_split(X, y, train_size=0.75, random_state=42)\n",
    "    \n",
    "    ## fit model\n",
    "    model.fit(X_train, y_train)\n",
    "    \n",
    "    #print ('Model score: %f \\n' % model.score(X_test, y_test))\n",
    "    \n",
    "    ## predict result on holdout\n",
    "    y_test_predicted = model.predict(X_test)\n",
    "    \n",
    "    ## understand how well each class is predicted\n",
    "    print ('Confusion matrix \\n ************')\n",
    "    print (confusion_matrix(y_test, model.predict(X_test)))\n",
    "    \n",
    "    print (\"Precision is: %f\\n\" % metrics.precision_score(y_test, y_test_predicted))\n",
    "    print (\"Recall is: %f\\n\" % metrics.recall_score(y_test, y_test_predicted))\n",
    "    \n",
    "    ## understand top features of model\n",
    "    top_features_list = model.feature_importances_.argsort()[::-1][:20]\n",
    "    \n",
    "    for i in top_features_list:\n",
    "        print (X.columns[i], model.feature_importances_[i])\n",
    "    \n",
    "    ## construct prediction probabilities for ROC curve\n",
    "    pred_y_test = model.predict_proba(X_test)\n",
    "\n",
    "    pred_prob_verified = []\n",
    "    \n",
    "    for i in pred_y_test:\n",
    "        pred_prob_verified.append(i[1])\n",
    "    \n",
    "    fpr, tpr, thresholds = metrics.roc_curve(y_test, pred_prob_verified, pos_label = 1)\n",
    "    \n",
    "    metrics.auc(fpr, tpr)\n",
    "    \n",
    "    ax = sns.regplot(\n",
    "    x = fpr,\n",
    "    y = tpr,\n",
    "    fit_reg = False\n",
    "    )\n",
    "\n",
    "    ax.set(\n",
    "        title = 'ROC',\n",
    "        xlabel = 'FPR',\n",
    "        ylabel = 'TPR'\n",
    "    )"
   ]
  },
  {
   "cell_type": "code",
   "execution_count": 48,
   "metadata": {
    "collapsed": false
   },
   "outputs": [
    {
     "name": "stdout",
     "output_type": "stream",
     "text": [
      "Confusion matrix \n",
      " ************\n",
      "[[21270  3799]\n",
      " [ 4924 13174]]\n",
      "Precision is: 0.776174\n",
      "\n",
      "Recall is: 0.727926\n",
      "\n",
      "('cumulative_cnt_active_activity', 0.13721101696152663)\n",
      "('cnt_prior_verifs', 0.09739920812001418)\n",
      "(u'course_seat_price', 0.065219916915968568)\n",
      "(u'course_run_number', 0.05044719057959262)\n",
      "('cumulative_cnt_engaged_activity', 0.046363716901766681)\n",
      "('cnt_prior_enrolls', 0.044741575942242706)\n",
      "('cumulative_cnt_video_activity', 0.040767287449404194)\n",
      "('cumulative_cnt_problem_activity', 0.040686175853849378)\n",
      "('cnt_2017_enrolls', 0.036853886968211957)\n",
      "('cumulative_is_active', 0.033873591698578912)\n",
      "('cnt_2016_enrolls', 0.030680324945385803)\n",
      "('cnt_prior_passes', 0.028604315540531708)\n",
      "(u'year_registered', 0.022493475067030679)\n",
      "('cumulative_is_engaged_problem', 0.018608876525225776)\n",
      "('cnt_2015_enrolls', 0.016841997038311445)\n",
      "('cumulative_is_engaged', 0.015162109593167503)\n",
      "('cnt_2016_verifs', 0.01444602334587611)\n",
      "('cnt_2017_verifs', 0.014170674615738439)\n",
      "('cumulative_is_engaged_video', 0.014158696942552585)\n",
      "('cumulative_cnt_forum_activity', 0.013694063722361873)\n"
     ]
    },
    {
     "data": {
      "image/png": "[encoded data removed]",
      "text/plain": [
       "<matplotlib.figure.Figure at 0x7f67d04eb250>"
      ]
     },
     "metadata": {},
     "output_type": "display_data"
    }
   ],
   "source": [
    "X, y, model = new_model(df, 'rf')\n",
    "train_and_evaluate_model(X, y, model)"
   ]
  },
  {
   "cell_type": "markdown",
   "metadata": {},
   "source": [
    "## Train on skewed sample (^^^), evaluate on actual sample..."
   ]
  },
  {
   "cell_type": "code",
   "execution_count": 127,
   "metadata": {
    "collapsed": true
   },
   "outputs": [],
   "source": [
    "X_eval = pd.get_dummies(df_eval[categorical_columns])\n",
    "\n",
    "for i in numeric_columns:\n",
    "    X_eval[i] = df_eval[i]\n",
    "\n",
    "X_eval = X_eval.fillna(-1)\n",
    "\n",
    "y_eval = df_eval['has_verified']"
   ]
  },
  {
   "cell_type": "code",
   "execution_count": 128,
   "metadata": {
    "collapsed": false
   },
   "outputs": [
    {
     "data": {
      "text/plain": [
       "(172667, 72)"
      ]
     },
     "execution_count": 128,
     "metadata": {},
     "output_type": "execute_result"
    }
   ],
   "source": [
    "X.shape"
   ]
  },
  {
   "cell_type": "code",
   "execution_count": 129,
   "metadata": {
    "collapsed": false
   },
   "outputs": [
    {
     "data": {
      "text/plain": [
       "(388221, 72)"
      ]
     },
     "execution_count": 129,
     "metadata": {},
     "output_type": "execute_result"
    }
   ],
   "source": [
    "X_eval[X.columns.tolist()].shape"
   ]
  },
  {
   "cell_type": "code",
   "execution_count": 130,
   "metadata": {
    "collapsed": true
   },
   "outputs": [],
   "source": [
    "X_eval = X_eval[X.columns.tolist()]"
   ]
  },
  {
   "cell_type": "code",
   "execution_count": 131,
   "metadata": {
    "collapsed": false
   },
   "outputs": [
    {
     "name": "stdout",
     "output_type": "stream",
     "text": [
      "Confusion matrix \n",
      " ************\n",
      "[[334128  52968]\n",
      " [   362    763]]\n",
      "Precision is: 0.014200\n",
      "\n",
      "Recall is: 0.678222\n",
      "\n"
     ]
    },
    {
     "data": {
      "text/plain": [
       "[<matplotlib.text.Text at 0x7f67a3ff4450>,\n",
       " <matplotlib.text.Text at 0x7f6712842910>,\n",
       " <matplotlib.text.Text at 0x7f66e917f050>]"
      ]
     },
     "execution_count": 131,
     "metadata": {},
     "output_type": "execute_result"
    },
    {
     "data": {
      "image/png": "[encoded data removed]",
      "text/plain": [
       "<matplotlib.figure.Figure at 0x7f66e5610f50>"
      ]
     },
     "metadata": {},
     "output_type": "display_data"
    }
   ],
   "source": [
    "\n",
    "\n",
    "## split train and test data\n",
    "#X_train, X_test, y_train, y_test = train_test_split(X, y, train_size=0.75, random_state=42)\n",
    "\n",
    "## fit model\n",
    "#model.fit(X_train, y_train)\n",
    "\n",
    "#print ('Model score: %f \\n' % model.score(X_test, y_test))\n",
    "\n",
    "## predict result on holdout\n",
    "y_eval_predicted = model.predict(X_eval)\n",
    "\n",
    "## understand how well each class is predicted\n",
    "print ('Confusion matrix \\n ************')\n",
    "print (confusion_matrix(y_eval, y_eval_predicted))\n",
    "\n",
    "print (\"Precision is: %f\\n\" % metrics.precision_score(y_eval, y_eval_predicted))\n",
    "print (\"Recall is: %f\\n\" % metrics.recall_score(y_eval, y_eval_predicted))\n",
    "\n",
    "## construct prediction probabilities for ROC curve\n",
    "pred_y_eval = model.predict_proba(X_eval)\n",
    "\n",
    "pred_prob_verified = []\n",
    "\n",
    "for i in pred_y_eval:\n",
    "    pred_prob_verified.append(i[1])\n",
    "\n",
    "fpr, tpr, thresholds = metrics.roc_curve(y_eval, pred_prob_verified, pos_label = 1)\n",
    "\n",
    "metrics.auc(fpr, tpr)\n",
    "\n",
    "ax = sns.regplot(\n",
    "x = fpr,\n",
    "y = tpr,\n",
    "fit_reg = False\n",
    ")\n",
    "\n",
    "ax.set(\n",
    "    title = 'ROC',\n",
    "    xlabel = 'FPR',\n",
    "    ylabel = 'TPR'\n",
    ")"
   ]
  },
  {
   "cell_type": "code",
   "execution_count": 132,
   "metadata": {
    "collapsed": true
   },
   "outputs": [],
   "source": [
    "pred_prob_verified_round = [round(i,1) for i in pred_prob_verified]"
   ]
  },
  {
   "cell_type": "code",
   "execution_count": 133,
   "metadata": {
    "collapsed": true
   },
   "outputs": [],
   "source": [
    "df_eval['pred_prob'] = pred_prob_verified_round"
   ]
  },
  {
   "cell_type": "code",
   "execution_count": 134,
   "metadata": {
    "collapsed": false
   },
   "outputs": [
    {
     "data": {
      "text/html": [
       "<div>\n",
       "<table border=\"1\" class=\"dataframe\">\n",
       "  <thead>\n",
       "    <tr style=\"text-align: right;\">\n",
       "      <th></th>\n",
       "      <th>latest_date</th>\n",
       "      <th>user_id</th>\n",
       "      <th>course_id</th>\n",
       "      <th>is_active</th>\n",
       "      <th>cnt_active_activity</th>\n",
       "      <th>is_engaged</th>\n",
       "      <th>cnt_engaged_activity</th>\n",
       "      <th>is_engaged_video</th>\n",
       "      <th>cnt_video_activity</th>\n",
       "      <th>is_engaged_problem</th>\n",
       "      <th>...</th>\n",
       "      <th>cumulative_cnt_active_activity</th>\n",
       "      <th>cumulative_is_engaged</th>\n",
       "      <th>cumulative_cnt_engaged_activity</th>\n",
       "      <th>cumulative_is_engaged_video</th>\n",
       "      <th>cumulative_cnt_video_activity</th>\n",
       "      <th>cumulative_is_engaged_problem</th>\n",
       "      <th>cumulative_cnt_problem_activity</th>\n",
       "      <th>cumulative_is_engaged_forum</th>\n",
       "      <th>cumulative_cnt_forum_activity</th>\n",
       "      <th>pred_prob</th>\n",
       "    </tr>\n",
       "  </thead>\n",
       "  <tbody>\n",
       "    <tr>\n",
       "      <th>0</th>\n",
       "      <td>2017-08-22</td>\n",
       "      <td>7808344</td>\n",
       "      <td>course-v1:Microsoft+DAT205x+3T2017</td>\n",
       "      <td>0</td>\n",
       "      <td>0</td>\n",
       "      <td>0</td>\n",
       "      <td>0</td>\n",
       "      <td>0</td>\n",
       "      <td>0</td>\n",
       "      <td>0</td>\n",
       "      <td>...</td>\n",
       "      <td>64</td>\n",
       "      <td>1</td>\n",
       "      <td>4</td>\n",
       "      <td>1</td>\n",
       "      <td>3</td>\n",
       "      <td>1</td>\n",
       "      <td>1</td>\n",
       "      <td>0</td>\n",
       "      <td>0</td>\n",
       "      <td>0.3</td>\n",
       "    </tr>\n",
       "    <tr>\n",
       "      <th>1</th>\n",
       "      <td>2017-08-22</td>\n",
       "      <td>7808428</td>\n",
       "      <td>course-v1:ETSx+TOEFLx+3T2017</td>\n",
       "      <td>0</td>\n",
       "      <td>0</td>\n",
       "      <td>0</td>\n",
       "      <td>0</td>\n",
       "      <td>0</td>\n",
       "      <td>0</td>\n",
       "      <td>0</td>\n",
       "      <td>...</td>\n",
       "      <td>2</td>\n",
       "      <td>0</td>\n",
       "      <td>0</td>\n",
       "      <td>0</td>\n",
       "      <td>0</td>\n",
       "      <td>0</td>\n",
       "      <td>0</td>\n",
       "      <td>0</td>\n",
       "      <td>0</td>\n",
       "      <td>0.0</td>\n",
       "    </tr>\n",
       "    <tr>\n",
       "      <th>2</th>\n",
       "      <td>2017-08-22</td>\n",
       "      <td>7808428</td>\n",
       "      <td>course-v1:KyotoUx+009x+2T2017</td>\n",
       "      <td>0</td>\n",
       "      <td>0</td>\n",
       "      <td>0</td>\n",
       "      <td>0</td>\n",
       "      <td>0</td>\n",
       "      <td>0</td>\n",
       "      <td>0</td>\n",
       "      <td>...</td>\n",
       "      <td>2</td>\n",
       "      <td>0</td>\n",
       "      <td>0</td>\n",
       "      <td>0</td>\n",
       "      <td>0</td>\n",
       "      <td>0</td>\n",
       "      <td>0</td>\n",
       "      <td>0</td>\n",
       "      <td>0</td>\n",
       "      <td>0.0</td>\n",
       "    </tr>\n",
       "    <tr>\n",
       "      <th>3</th>\n",
       "      <td>2017-08-22</td>\n",
       "      <td>7808428</td>\n",
       "      <td>course-v1:UQx+IELTSx+2T2017</td>\n",
       "      <td>0</td>\n",
       "      <td>0</td>\n",
       "      <td>0</td>\n",
       "      <td>0</td>\n",
       "      <td>0</td>\n",
       "      <td>0</td>\n",
       "      <td>0</td>\n",
       "      <td>...</td>\n",
       "      <td>31</td>\n",
       "      <td>0</td>\n",
       "      <td>0</td>\n",
       "      <td>0</td>\n",
       "      <td>0</td>\n",
       "      <td>0</td>\n",
       "      <td>0</td>\n",
       "      <td>0</td>\n",
       "      <td>0</td>\n",
       "      <td>0.0</td>\n",
       "    </tr>\n",
       "    <tr>\n",
       "      <th>4</th>\n",
       "      <td>2017-08-22</td>\n",
       "      <td>7808428</td>\n",
       "      <td>course-v1:UQx+Write101x+2T2017</td>\n",
       "      <td>0</td>\n",
       "      <td>0</td>\n",
       "      <td>0</td>\n",
       "      <td>0</td>\n",
       "      <td>0</td>\n",
       "      <td>0</td>\n",
       "      <td>0</td>\n",
       "      <td>...</td>\n",
       "      <td>11</td>\n",
       "      <td>0</td>\n",
       "      <td>0</td>\n",
       "      <td>0</td>\n",
       "      <td>0</td>\n",
       "      <td>0</td>\n",
       "      <td>0</td>\n",
       "      <td>0</td>\n",
       "      <td>0</td>\n",
       "      <td>0.0</td>\n",
       "    </tr>\n",
       "  </tbody>\n",
       "</table>\n",
       "<p>5 rows × 51 columns</p>\n",
       "</div>"
      ],
      "text/plain": [
       "  latest_date  user_id                           course_id  is_active  \\\n",
       "0  2017-08-22  7808344  course-v1:Microsoft+DAT205x+3T2017          0   \n",
       "1  2017-08-22  7808428        course-v1:ETSx+TOEFLx+3T2017          0   \n",
       "2  2017-08-22  7808428       course-v1:KyotoUx+009x+2T2017          0   \n",
       "3  2017-08-22  7808428         course-v1:UQx+IELTSx+2T2017          0   \n",
       "4  2017-08-22  7808428      course-v1:UQx+Write101x+2T2017          0   \n",
       "\n",
       "   cnt_active_activity  is_engaged  cnt_engaged_activity  is_engaged_video  \\\n",
       "0                    0           0                     0                 0   \n",
       "1                    0           0                     0                 0   \n",
       "2                    0           0                     0                 0   \n",
       "3                    0           0                     0                 0   \n",
       "4                    0           0                     0                 0   \n",
       "\n",
       "   cnt_video_activity  is_engaged_problem    ...     \\\n",
       "0                   0                   0    ...      \n",
       "1                   0                   0    ...      \n",
       "2                   0                   0    ...      \n",
       "3                   0                   0    ...      \n",
       "4                   0                   0    ...      \n",
       "\n",
       "   cumulative_cnt_active_activity  cumulative_is_engaged  \\\n",
       "0                              64                      1   \n",
       "1                               2                      0   \n",
       "2                               2                      0   \n",
       "3                              31                      0   \n",
       "4                              11                      0   \n",
       "\n",
       "   cumulative_cnt_engaged_activity cumulative_is_engaged_video  \\\n",
       "0                                4                           1   \n",
       "1                                0                           0   \n",
       "2                                0                           0   \n",
       "3                                0                           0   \n",
       "4                                0                           0   \n",
       "\n",
       "  cumulative_cnt_video_activity cumulative_is_engaged_problem  \\\n",
       "0                             3                             1   \n",
       "1                             0                             0   \n",
       "2                             0                             0   \n",
       "3                             0                             0   \n",
       "4                             0                             0   \n",
       "\n",
       "   cumulative_cnt_problem_activity  cumulative_is_engaged_forum  \\\n",
       "0                                1                            0   \n",
       "1                                0                            0   \n",
       "2                                0                            0   \n",
       "3                                0                            0   \n",
       "4                                0                            0   \n",
       "\n",
       "  cumulative_cnt_forum_activity pred_prob  \n",
       "0                             0       0.3  \n",
       "1                             0       0.0  \n",
       "2                             0       0.0  \n",
       "3                             0       0.0  \n",
       "4                             0       0.0  \n",
       "\n",
       "[5 rows x 51 columns]"
      ]
     },
     "execution_count": 134,
     "metadata": {},
     "output_type": "execute_result"
    }
   ],
   "source": [
    "df_eval.head()"
   ]
  },
  {
   "cell_type": "code",
   "execution_count": 160,
   "metadata": {
    "collapsed": false
   },
   "outputs": [
    {
     "data": {
      "text/plain": [
       "pred_prob\n",
       "0.0     66288\n",
       "0.1    119268\n",
       "0.2     60279\n",
       "0.3     47145\n",
       "0.4     27406\n",
       "0.5     22397\n",
       "0.6     16399\n",
       "0.7     12504\n",
       "0.8      9092\n",
       "0.9      4760\n",
       "1.0      1558\n",
       "Name: user_id, dtype: int64"
      ]
     },
     "execution_count": 160,
     "metadata": {},
     "output_type": "execute_result"
    }
   ],
   "source": [
    "df_eval[df_eval['has_verified']==0].groupby('pred_prob').count()['user_id']"
   ]
  },
  {
   "cell_type": "code",
   "execution_count": 161,
   "metadata": {
    "collapsed": true
   },
   "outputs": [],
   "source": [
    "df_eval[['latest_date','user_id','course_id','has_verified','pred_prob']].to_csv('./eval.csv', index = False)"
   ]
  },
  {
   "cell_type": "markdown",
   "metadata": {},
   "source": [
    "## Measure baseline behavior\n",
    "* * *"
   ]
  },
  {
   "cell_type": "code",
   "execution_count": 136,
   "metadata": {
    "collapsed": true
   },
   "outputs": [],
   "source": [
    "X_baseline = pd.get_dummies(df_baseline[categorical_columns])\n",
    "\n",
    "for i in numeric_columns:\n",
    "    X_baseline[i] = df_baseline[i]\n",
    "\n",
    "X_baseline = X_baseline.fillna(-1)\n",
    "\n",
    "y_baseline = df_baseline['has_verified']"
   ]
  },
  {
   "cell_type": "code",
   "execution_count": 137,
   "metadata": {
    "collapsed": false
   },
   "outputs": [
    {
     "data": {
      "text/plain": [
       "(172667, 72)"
      ]
     },
     "execution_count": 137,
     "metadata": {},
     "output_type": "execute_result"
    }
   ],
   "source": [
    "X.shape"
   ]
  },
  {
   "cell_type": "code",
   "execution_count": 138,
   "metadata": {
    "collapsed": false
   },
   "outputs": [
    {
     "data": {
      "text/plain": [
       "(152835, 72)"
      ]
     },
     "execution_count": 138,
     "metadata": {},
     "output_type": "execute_result"
    }
   ],
   "source": [
    "X_baseline[X.columns.tolist()].shape"
   ]
  },
  {
   "cell_type": "code",
   "execution_count": 139,
   "metadata": {
    "collapsed": true
   },
   "outputs": [],
   "source": [
    "X_baseline = X_baseline[X.columns.tolist()]"
   ]
  },
  {
   "cell_type": "code",
   "execution_count": 140,
   "metadata": {
    "collapsed": false
   },
   "outputs": [
    {
     "name": "stdout",
     "output_type": "stream",
     "text": [
      "Confusion matrix \n",
      " ************\n",
      "[[334128  52968]\n",
      " [   362    763]]\n",
      "Precision is: 0.100140\n",
      "\n",
      "Recall is: 0.930086\n",
      "\n"
     ]
    },
    {
     "data": {
      "text/plain": [
       "[<matplotlib.text.Text at 0x7f676f3211d0>,\n",
       " <matplotlib.text.Text at 0x7f66d8d001d0>,\n",
       " <matplotlib.text.Text at 0x7f6771da8290>]"
      ]
     },
     "execution_count": 140,
     "metadata": {},
     "output_type": "execute_result"
    },
    {
     "data": {
      "image/png": "[encoded data removed]",
      "text/plain": [
       "<matplotlib.figure.Figure at 0x7f66e5610e10>"
      ]
     },
     "metadata": {},
     "output_type": "display_data"
    }
   ],
   "source": [
    "## split train and test data\n",
    "#X_train, X_test, y_train, y_test = train_test_split(X, y, train_size=0.75, random_state=42)\n",
    "\n",
    "## fit model\n",
    "#model.fit(X_train, y_train)\n",
    "\n",
    "#print ('Model score: %f \\n' % model.score(X_test, y_test))\n",
    "\n",
    "## predict result on holdout\n",
    "y_baseline_predicted = model.predict(X_baseline)\n",
    "\n",
    "## understand how well each class is predicted\n",
    "print ('Confusion matrix \\n ************')\n",
    "print (confusion_matrix(y_eval, y_eval_predicted))\n",
    "\n",
    "print (\"Precision is: %f\\n\" % metrics.precision_score(y_baseline, y_baseline_predicted))\n",
    "print (\"Recall is: %f\\n\" % metrics.recall_score(y_baseline, y_baseline_predicted))\n",
    "\n",
    "## construct prediction probabilities for ROC curve\n",
    "pred_y_baseline = model.predict_proba(X_baseline)\n",
    "\n",
    "pred_prob_verified = []\n",
    "\n",
    "for i in pred_y_baseline:\n",
    "    pred_prob_verified.append(i[1])\n",
    "\n",
    "fpr, tpr, thresholds = metrics.roc_curve(y_baseline, pred_prob_verified, pos_label = 1)\n",
    "\n",
    "metrics.auc(fpr, tpr)\n",
    "\n",
    "ax = sns.regplot(\n",
    "x = fpr,\n",
    "y = tpr,\n",
    "fit_reg = False\n",
    ")\n",
    "\n",
    "ax.set(\n",
    "    title = 'ROC',\n",
    "    xlabel = 'FPR',\n",
    "    ylabel = 'TPR'\n",
    ")"
   ]
  },
  {
   "cell_type": "code",
   "execution_count": 141,
   "metadata": {
    "collapsed": true
   },
   "outputs": [],
   "source": [
    "pred_prob_verified_round = [round(i,1) for i in pred_prob_verified]\n",
    "df_baseline['pred_prob'] = pred_prob_verified_round"
   ]
  },
  {
   "cell_type": "code",
   "execution_count": 157,
   "metadata": {
    "collapsed": false
   },
   "outputs": [
    {
     "data": {
      "text/plain": [
       "(152835, 51)"
      ]
     },
     "execution_count": 157,
     "metadata": {},
     "output_type": "execute_result"
    }
   ],
   "source": [
    "df_baseline.shape"
   ]
  },
  {
   "cell_type": "code",
   "execution_count": 159,
   "metadata": {
    "collapsed": true
   },
   "outputs": [],
   "source": [
    "df_baseline[['latest_date','user_id','course_id','has_verified','pred_prob']].to_csv('./baseline.csv', index = False)"
   ]
  },
  {
   "cell_type": "code",
   "execution_count": 154,
   "metadata": {
    "collapsed": true
   },
   "outputs": [],
   "source": [
    "write_query = \"\"\"\n",
    "\n",
    "--CREATE FLEX TABLE ahemphill.baseline();\n",
    "\n",
    "COPY ahemphill.baseline FROM LOCAL '/home/ubuntu/baseline.csv' WITH DELIMITER ',';\n",
    "\n",
    "\"\"\""
   ]
  },
  {
   "cell_type": "code",
   "execution_count": 155,
   "metadata": {
    "collapsed": false
   },
   "outputs": [
    {
     "ename": "KeyError",
     "evalue": "'F'",
     "output_type": "error",
     "traceback": [
      "\u001b[0;31m---------------------------------------------------------------------------\u001b[0m",
      "\u001b[0;31mKeyError\u001b[0m                                  Traceback (most recent call last)",
      "\u001b[0;32m<ipython-input-155-0967b4af06ca>\u001b[0m in \u001b[0;36m<module>\u001b[0;34m()\u001b[0m\n\u001b[1;32m      3\u001b[0m \u001b[0mcur\u001b[0m \u001b[0;34m=\u001b[0m \u001b[0mconnection\u001b[0m\u001b[0;34m.\u001b[0m\u001b[0mcursor\u001b[0m\u001b[0;34m(\u001b[0m\u001b[0;34m'dict'\u001b[0m\u001b[0;34m)\u001b[0m\u001b[0;34m\u001b[0m\u001b[0m\n\u001b[1;32m      4\u001b[0m \u001b[0;34m\u001b[0m\u001b[0m\n\u001b[0;32m----> 5\u001b[0;31m \u001b[0mcur\u001b[0m\u001b[0;34m.\u001b[0m\u001b[0mexecute\u001b[0m\u001b[0;34m(\u001b[0m\u001b[0mwrite_query\u001b[0m\u001b[0;34m)\u001b[0m\u001b[0;34m\u001b[0m\u001b[0m\n\u001b[0m\u001b[1;32m      6\u001b[0m \u001b[0mextract\u001b[0m \u001b[0;34m=\u001b[0m \u001b[0mcur\u001b[0m\u001b[0;34m.\u001b[0m\u001b[0mfetchall\u001b[0m\u001b[0;34m(\u001b[0m\u001b[0;34m)\u001b[0m\u001b[0;34m\u001b[0m\u001b[0m\n\u001b[1;32m      7\u001b[0m \u001b[0;34m\u001b[0m\u001b[0m\n",
      "\u001b[0;32m/usr/local/lib/python2.7/dist-packages/vertica_python/vertica/cursor.pyc\u001b[0m in \u001b[0;36mexecute\u001b[0;34m(self, operation, parameters)\u001b[0m\n\u001b[1;32m     88\u001b[0m         \u001b[0;31m# read messages until we hit an Error, DataRow or ReadyForQuery\u001b[0m\u001b[0;34m\u001b[0m\u001b[0;34m\u001b[0m\u001b[0m\n\u001b[1;32m     89\u001b[0m         \u001b[0;32mwhile\u001b[0m \u001b[0mTrue\u001b[0m\u001b[0;34m:\u001b[0m\u001b[0;34m\u001b[0m\u001b[0m\n\u001b[0;32m---> 90\u001b[0;31m             \u001b[0mmessage\u001b[0m \u001b[0;34m=\u001b[0m \u001b[0mself\u001b[0m\u001b[0;34m.\u001b[0m\u001b[0mconnection\u001b[0m\u001b[0;34m.\u001b[0m\u001b[0mread_message\u001b[0m\u001b[0;34m(\u001b[0m\u001b[0;34m)\u001b[0m\u001b[0;34m\u001b[0m\u001b[0m\n\u001b[0m\u001b[1;32m     91\u001b[0m             \u001b[0;31m# save the message because there's no way to undo the read\u001b[0m\u001b[0;34m\u001b[0m\u001b[0;34m\u001b[0m\u001b[0m\n\u001b[1;32m     92\u001b[0m             \u001b[0mself\u001b[0m\u001b[0;34m.\u001b[0m\u001b[0m_message\u001b[0m \u001b[0;34m=\u001b[0m \u001b[0mmessage\u001b[0m\u001b[0;34m\u001b[0m\u001b[0m\n",
      "\u001b[0;32m/usr/local/lib/python2.7/dist-packages/vertica_python/vertica/connection.pyc\u001b[0m in \u001b[0;36mread_message\u001b[0;34m(self)\u001b[0m\n\u001b[1;32m    193\u001b[0m                     \u001b[0;34m\"Bad message size: {0}\"\u001b[0m\u001b[0;34m.\u001b[0m\u001b[0mformat\u001b[0m\u001b[0;34m(\u001b[0m\u001b[0msize\u001b[0m\u001b[0;34m)\u001b[0m\u001b[0;34m\u001b[0m\u001b[0m\n\u001b[1;32m    194\u001b[0m                 )\n\u001b[0;32m--> 195\u001b[0;31m             \u001b[0mmessage\u001b[0m \u001b[0;34m=\u001b[0m \u001b[0mBackendMessage\u001b[0m\u001b[0;34m.\u001b[0m\u001b[0mfactory\u001b[0m\u001b[0;34m(\u001b[0m\u001b[0mtype_\u001b[0m\u001b[0;34m,\u001b[0m \u001b[0mself\u001b[0m\u001b[0;34m.\u001b[0m\u001b[0mread_bytes\u001b[0m\u001b[0;34m(\u001b[0m\u001b[0msize\u001b[0m \u001b[0;34m-\u001b[0m \u001b[0;36m4\u001b[0m\u001b[0;34m)\u001b[0m\u001b[0;34m)\u001b[0m\u001b[0;34m\u001b[0m\u001b[0m\n\u001b[0m\u001b[1;32m    196\u001b[0m             \u001b[0mlogger\u001b[0m\u001b[0;34m.\u001b[0m\u001b[0mdebug\u001b[0m\u001b[0;34m(\u001b[0m\u001b[0;34m'<= %s'\u001b[0m\u001b[0;34m,\u001b[0m \u001b[0mmessage\u001b[0m\u001b[0;34m)\u001b[0m\u001b[0;34m\u001b[0m\u001b[0m\n\u001b[1;32m    197\u001b[0m             \u001b[0;32mreturn\u001b[0m \u001b[0mmessage\u001b[0m\u001b[0;34m\u001b[0m\u001b[0m\n",
      "\u001b[0;32m/usr/local/lib/python2.7/dist-packages/vertica_python/vertica/messages/message.pyc\u001b[0m in \u001b[0;36mfactory\u001b[0;34m(cls, type_, data)\u001b[0m\n\u001b[1;32m     42\u001b[0m     \u001b[0;34m@\u001b[0m\u001b[0mclassmethod\u001b[0m\u001b[0;34m\u001b[0m\u001b[0m\n\u001b[1;32m     43\u001b[0m     \u001b[0;32mdef\u001b[0m \u001b[0mfactory\u001b[0m\u001b[0;34m(\u001b[0m\u001b[0mcls\u001b[0m\u001b[0;34m,\u001b[0m \u001b[0mtype_\u001b[0m\u001b[0;34m,\u001b[0m \u001b[0mdata\u001b[0m\u001b[0;34m)\u001b[0m\u001b[0;34m:\u001b[0m\u001b[0;34m\u001b[0m\u001b[0m\n\u001b[0;32m---> 44\u001b[0;31m         \u001b[0mklass\u001b[0m \u001b[0;34m=\u001b[0m \u001b[0mcls\u001b[0m\u001b[0;34m.\u001b[0m\u001b[0mMessageIdMap\u001b[0m\u001b[0;34m[\u001b[0m\u001b[0mtype_\u001b[0m\u001b[0;34m]\u001b[0m\u001b[0;34m\u001b[0m\u001b[0m\n\u001b[0m\u001b[1;32m     45\u001b[0m         \u001b[0;32mif\u001b[0m \u001b[0mklass\u001b[0m \u001b[0;32mis\u001b[0m \u001b[0;32mnot\u001b[0m \u001b[0mNone\u001b[0m\u001b[0;34m:\u001b[0m\u001b[0;34m\u001b[0m\u001b[0m\n\u001b[1;32m     46\u001b[0m             \u001b[0;32mreturn\u001b[0m \u001b[0mklass\u001b[0m\u001b[0;34m(\u001b[0m\u001b[0mdata\u001b[0m\u001b[0;34m)\u001b[0m\u001b[0;34m\u001b[0m\u001b[0m\n",
      "\u001b[0;31mKeyError\u001b[0m: 'F'"
     ]
    }
   ],
   "source": [
    "connection = vertica_python.connect(**conn_info)\n",
    "\n",
    "cur = connection.cursor('dict')\n",
    "\n",
    "cur.execute(write_query)\n",
    "extract = cur.fetchall()\n",
    "\n",
    "connection.close()"
   ]
  },
  {
   "cell_type": "markdown",
   "metadata": {},
   "source": [
    "* * *\n",
    "* * *"
   ]
  },
  {
   "cell_type": "code",
   "execution_count": 96,
   "metadata": {
    "collapsed": false
   },
   "outputs": [
    {
     "data": {
      "text/plain": [
       "<seaborn.axisgrid.FacetGrid at 0x7fdfb4192ad0>"
      ]
     },
     "execution_count": 96,
     "metadata": {},
     "output_type": "execute_result"
    },
    {
     "data": {
      "image/png": "[encoded data removed]",
      "text/plain": [
       "<matplotlib.figure.Figure at 0x7fdfb7d33050>"
      ]
     },
     "metadata": {},
     "output_type": "display_data"
    }
   ],
   "source": [
    "temp = temp = df.groupby('cumulative_cnt_engaged_activity').sum()['has_verified']/df.groupby('cumulative_cnt_engaged_activity').count()['has_verified']\n",
    "\n",
    "sns.lmplot(\n",
    "    data = temp.reset_index()[temp.reset_index()['cumulative_cnt_engaged_activity'] < 100],\n",
    "    x = 'cumulative_cnt_engaged_activity', \n",
    "    y = 'has_verified'\n",
    ")"
   ]
  },
  {
   "cell_type": "code",
   "execution_count": 97,
   "metadata": {
    "collapsed": false
   },
   "outputs": [
    {
     "data": {
      "text/plain": [
       "<seaborn.axisgrid.FacetGrid at 0x7fdfc47279d0>"
      ]
     },
     "execution_count": 97,
     "metadata": {},
     "output_type": "execute_result"
    },
    {
     "data": {
      "image/png": "[encoded data removed]",
      "text/plain": [
       "<matplotlib.figure.Figure at 0x7fdff4b49910>"
      ]
     },
     "metadata": {},
     "output_type": "display_data"
    }
   ],
   "source": [
    "temp = df.groupby('cumulative_is_engaged').sum()['has_verified']/df.groupby('cumulative_is_engaged').count()['has_verified']\n",
    "sns.lmplot(\n",
    "    data = temp.reset_index(),\n",
    "    x = 'cumulative_is_engaged', \n",
    "    y = 'has_verified'\n",
    ")"
   ]
  },
  {
   "cell_type": "code",
   "execution_count": 33,
   "metadata": {
    "collapsed": true
   },
   "outputs": [],
   "source": [
    "from tpot import TPOTRegressor, TPOTClassifier"
   ]
  },
  {
   "cell_type": "code",
   "execution_count": null,
   "metadata": {
    "collapsed": false
   },
   "outputs": [
    {
     "name": "stderr",
     "output_type": "stream",
     "text": [
      "Optimization Progress:   0%|          | 0/600 [00:00<?, ?pipeline/s]Process PoolWorker-3:\n",
      "Process PoolWorker-1:\n",
      "Traceback (most recent call last):\n",
      "Traceback (most recent call last):\n",
      "  File \"/usr/lib/python2.7/multiprocessing/process.py\", line 258, in _bootstrap\n",
      "  File \"/usr/lib/python2.7/multiprocessing/process.py\", line 258, in _bootstrap\n",
      "    self.run()\n",
      "    self.run()\n",
      "  File \"/usr/lib/python2.7/multiprocessing/process.py\", line 114, in run\n",
      "  File \"/usr/lib/python2.7/multiprocessing/process.py\", line 114, in run\n",
      "    self._target(*self._args, **self._kwargs)\n",
      "    self._target(*self._args, **self._kwargs)\n",
      "  File \"/usr/lib/python2.7/multiprocessing/pool.py\", line 102, in worker\n",
      "  File \"/usr/lib/python2.7/multiprocessing/pool.py\", line 102, in worker\n",
      "    task = get()\n",
      "  File \"/usr/local/lib/python2.7/dist-packages/sklearn/externals/joblib/pool.py\", line 362, in get\n",
      "    task = get()\n",
      "  File \"/usr/local/lib/python2.7/dist-packages/sklearn/externals/joblib/pool.py\", line 360, in get\n",
      "    return recv()\n",
      "KeyboardInterrupt\n",
      "    racquire()\n",
      "KeyboardInterrupt\n",
      "Process PoolWorker-4:\n",
      "Traceback (most recent call last):\n",
      "  File \"/usr/lib/python2.7/multiprocessing/process.py\", line 258, in _bootstrap\n",
      "Process PoolWorker-5:\n",
      "Traceback (most recent call last):\n",
      "Process PoolWorker-6:\n",
      "  File \"/usr/lib/python2.7/multiprocessing/process.py\", line 258, in _bootstrap\n",
      "    self.run()\n",
      "  File \"/usr/lib/python2.7/multiprocessing/process.py\", line 114, in run\n",
      "Traceback (most recent call last):\n",
      "    self._target(*self._args, **self._kwargs)\n",
      "  File \"/usr/lib/python2.7/multiprocessing/process.py\", line 258, in _bootstrap\n",
      "  File \"/usr/lib/python2.7/multiprocessing/pool.py\", line 102, in worker\n",
      "    task = get()\n",
      "  File \"/usr/local/lib/python2.7/dist-packages/sklearn/externals/joblib/pool.py\", line 362, in get\n",
      "    return recv()\n",
      "    self.run()\n",
      "KeyboardInterrupt\n",
      "  File \"/usr/lib/python2.7/multiprocessing/process.py\", line 114, in run\n",
      "    self._target(*self._args, **self._kwargs)\n",
      "  File \"/usr/lib/python2.7/multiprocessing/pool.py\", line 102, in worker\n",
      "    self.run()\n",
      "  File \"/usr/lib/python2.7/multiprocessing/process.py\", line 114, in run\n",
      "    self._target(*self._args, **self._kwargs)\n",
      "    task = get()\n",
      "  File \"/usr/lib/python2.7/multiprocessing/pool.py\", line 102, in worker\n",
      "  File \"/usr/local/lib/python2.7/dist-packages/sklearn/externals/joblib/pool.py\", line 360, in get\n",
      "    task = get()\n",
      "  File \"/usr/local/lib/python2.7/dist-packages/sklearn/externals/joblib/pool.py\", line 360, in get\n",
      "    racquire()\n",
      "KeyboardInterrupt\n",
      "    racquire()\n",
      "KeyboardInterrupt\n",
      "Process PoolWorker-8:\n",
      "Traceback (most recent call last):\n",
      "  File \"/usr/lib/python2.7/multiprocessing/process.py\", line 258, in _bootstrap\n",
      "Process PoolWorker-7:\n",
      "Process PoolWorker-9:\n",
      "Traceback (most recent call last):\n",
      "Traceback (most recent call last):\n",
      "  File \"/usr/lib/python2.7/multiprocessing/process.py\", line 258, in _bootstrap\n",
      "  File \"/usr/lib/python2.7/multiprocessing/process.py\", line 258, in _bootstrap\n",
      "    self.run()\n",
      "  File \"/usr/lib/python2.7/multiprocessing/process.py\", line 114, in run\n",
      "    self.run()\n",
      "    self._target(*self._args, **self._kwargs)\n",
      "  File \"/usr/lib/python2.7/multiprocessing/process.py\", line 114, in run\n",
      "  File \"/usr/lib/python2.7/multiprocessing/pool.py\", line 102, in worker\n",
      "    self.run()\n",
      "    self._target(*self._args, **self._kwargs)\n",
      "  File \"/usr/lib/python2.7/multiprocessing/pool.py\", line 102, in worker\n",
      "  File \"/usr/lib/python2.7/multiprocessing/process.py\", line 114, in run\n",
      "    self._target(*self._args, **self._kwargs)\n",
      "  File \"/usr/lib/python2.7/multiprocessing/pool.py\", line 102, in worker\n",
      "    task = get()\n",
      "  File \"/usr/local/lib/python2.7/dist-packages/sklearn/externals/joblib/pool.py\", line 360, in get\n",
      "    task = get()\n",
      "  File \"/usr/local/lib/python2.7/dist-packages/sklearn/externals/joblib/pool.py\", line 362, in get\n",
      "    task = get()\n",
      "  File \"/usr/local/lib/python2.7/dist-packages/sklearn/externals/joblib/pool.py\", line 360, in get\n",
      "    racquire()\n",
      "    return recv()\n",
      "KeyboardInterrupt\n",
      "KeyboardInterrupt\n",
      "    racquire()\n",
      "KeyboardInterrupt\n",
      "Process PoolWorker-12:\n",
      "Traceback (most recent call last):\n",
      "Process PoolWorker-11:\n",
      "Process PoolWorker-10:\n",
      "Traceback (most recent call last):\n",
      "Traceback (most recent call last):\n",
      "  File \"/usr/lib/python2.7/multiprocessing/process.py\", line 258, in _bootstrap\n",
      "  File \"/usr/lib/python2.7/multiprocessing/process.py\", line 258, in _bootstrap\n",
      "  File \"/usr/lib/python2.7/multiprocessing/process.py\", line 258, in _bootstrap\n",
      "    self.run()\n",
      "    self.run()\n",
      "    self.run()\n",
      "  File \"/usr/lib/python2.7/multiprocessing/process.py\", line 114, in run\n",
      "  File \"/usr/lib/python2.7/multiprocessing/process.py\", line 114, in run\n",
      "  File \"/usr/lib/python2.7/multiprocessing/process.py\", line 114, in run\n",
      "    self._target(*self._args, **self._kwargs)\n",
      "    self._target(*self._args, **self._kwargs)\n",
      "    self._target(*self._args, **self._kwargs)\n",
      "  File \"/usr/lib/python2.7/multiprocessing/pool.py\", line 102, in worker\n",
      "  File \"/usr/lib/python2.7/multiprocessing/pool.py\", line 102, in worker\n",
      "  File \"/usr/lib/python2.7/multiprocessing/pool.py\", line 102, in worker\n",
      "    task = get()\n",
      "    task = get()\n",
      "    task = get()\n",
      "  File \"/usr/local/lib/python2.7/dist-packages/sklearn/externals/joblib/pool.py\", line 362, in get\n",
      "  File \"/usr/local/lib/python2.7/dist-packages/sklearn/externals/joblib/pool.py\", line 360, in get\n",
      "  File \"/usr/local/lib/python2.7/dist-packages/sklearn/externals/joblib/pool.py\", line 360, in get\n",
      "    racquire()\n",
      "    racquire()\n",
      "    return recv()\n",
      "KeyboardInterrupt\n",
      "KeyboardInterrupt\n",
      "KeyboardInterrupt\n"
     ]
    }
   ],
   "source": [
    "# tpot = TPOTClassifier(generations = 5,\n",
    "#                      verbosity=2,\n",
    "#                      n_jobs=4,\n",
    "#                     config_dict='TPOT light',\n",
    "#                       scoring = 'recall'\n",
    "#                     )\n",
    "\n",
    "# tpot.fit(X_train, y_train)\n",
    "# print(tpot.score(X_test, y_test))\n",
    "# tpot.export('tpot_exported_pipeline_p_verify.py')"
   ]
  },
  {
   "cell_type": "code",
   "execution_count": null,
   "metadata": {
    "collapsed": true
   },
   "outputs": [],
   "source": []
  }
 ],
 "metadata": {
  "kernelspec": {
   "display_name": "Python 3",
   "language": "python",
   "name": "python3"
  },
  "language_info": {
   "codemirror_mode": {
    "name": "ipython",
    "version": 3
   },
   "file_extension": ".py",
   "mimetype": "text/x-python",
   "name": "python",
   "nbconvert_exporter": "python",
   "pygments_lexer": "ipython3",
   "version": "3.6.0"
  }
 },
 "nbformat": 4,
 "nbformat_minor": 2
}
